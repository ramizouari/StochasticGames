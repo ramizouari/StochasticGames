{
 "cells": [
  {
   "cell_type": "code",
   "execution_count": 1,
   "id": "3e407396-2076-4b4a-a422-15b39775a37b",
   "metadata": {},
   "outputs": [],
   "source": [
    "import numpy as np\n",
    "from mpg.games import mpg\n",
    "import networkx as nx"
   ]
  },
  {
   "cell_type": "code",
   "execution_count": 138,
   "id": "a4482619-d0a8-4e50-98cc-9ddd5800aa6b",
   "metadata": {},
   "outputs": [],
   "source": [
    "G=mpg.mpg_from_file(\"data/test01.in\")\n",
    "n=len(G)\n",
    "A=nx.adjacency_matrix(G,weight=None,nodelist=range(n)).todense()\n",
    "W=nx.adjacency_matrix(G,nodelist=range(n)).todense()"
   ]
  },
  {
   "cell_type": "code",
   "execution_count": 139,
   "id": "5b2b0e63-36ad-45c2-8cb8-422b3e215548",
   "metadata": {},
   "outputs": [],
   "source": [
    "P=A/A.sum(axis=-1,keepdims=True)"
   ]
  },
  {
   "cell_type": "code",
   "execution_count": 140,
   "id": "ffa3054f-3f0a-4e29-bb00-6a8b96d1d3a4",
   "metadata": {},
   "outputs": [
    {
     "data": {
      "text/plain": [
       "array([[  0. ,   0. ,  12.5,   0. ,  10. ,   0. ,   0. ,   0. ],\n",
       "       [  0. ,   0. ,   0. , -17.5,   0. ,  -6. ,   0. ,   0. ],\n",
       "       [  0. ,   0. ,   0. ,   0. ,   0. ,   0. , -17.5,   0. ],\n",
       "       [  0. ,  -7.5,   0. ,   0. ,   0. ,   0. ,   0. ,   0. ],\n",
       "       [  0. ,   0. ,   0. ,   0. ,   0. ,   0. ,  -4.5,   0. ],\n",
       "       [  0. ,  -4.5,   0. ,   0. ,   0. ,   0. ,   0. ,   0. ],\n",
       "       [  0. ,   0. ,  -7.5,   0. ,  -6. ,   0. ,   0. ,   0. ],\n",
       "       [  0. ,   0. ,   0. ,   0. ,   0. ,   0. ,   0. ,   0. ]])"
      ]
     },
     "execution_count": 140,
     "metadata": {},
     "output_type": "execute_result"
    }
   ],
   "source": [
    "(P*W)@(P*W)"
   ]
  },
  {
   "cell_type": "code",
   "execution_count": 141,
   "id": "5d2755c8-f02a-4cfb-b789-02f73d3aa73b",
   "metadata": {},
   "outputs": [],
   "source": [
    "def expected_mean_payoffs(A,W,iters=500):\n",
    "    E=np.zeros(A.shape[0])\n",
    "    Z=(A*W).sum(axis=0)\n",
    "    for k in range(iters):\n",
    "        E=A.T*E+A.T        \n",
    "    return E@Z/iters"
   ]
  },
  {
   "cell_type": "code",
   "execution_count": 171,
   "id": "9cc21d4b-f714-42c9-a667-94fae4e24338",
   "metadata": {},
   "outputs": [],
   "source": [
    "def expected_mean_payoffs_2(A,W):\n",
    "    return np.linalg.pinv(np.eye(A.shape[0])-np.linalg.pinv(A))@np.linalg.pinv(A)@(-A*W).sum(axis=0)"
   ]
  },
  {
   "cell_type": "code",
   "execution_count": 172,
   "id": "75b0e224-073d-4fe9-8861-24f9fa0f2b76",
   "metadata": {},
   "outputs": [],
   "source": [
    "from numba import jit\n",
    "\n",
    "def expected_mean_payoffs_3(A,W,iters=1000):\n",
    "    n=A.shape[0]\n",
    "    E=np.zeros(n)\n",
    "    V=np.arange(n)\n",
    "    for i in range(iters):\n",
    "        for k in range(n):\n",
    "            s=np.random.choice(n,p=A[V[k],:])\n",
    "            E[k]+=W[V[k],s]\n",
    "            V[k]=s\n",
    "    return E/iters"
   ]
  },
  {
   "cell_type": "code",
   "execution_count": 173,
   "id": "58c5f431-7272-4fdc-bda9-2167634f8db3",
   "metadata": {},
   "outputs": [
    {
     "data": {
      "text/plain": [
       "array([ 0.   ,  4.   ,  0.004,  2.5  ,  0.004,  2.   , -0.02 , -0.02 ])"
      ]
     },
     "execution_count": 173,
     "metadata": {},
     "output_type": "execute_result"
    }
   ],
   "source": [
    "expected_mean_payoffs(P,W)"
   ]
  },
  {
   "cell_type": "code",
   "execution_count": 174,
   "id": "a84ad113-7daf-4f8a-96e3-913e587ed5ef",
   "metadata": {},
   "outputs": [
    {
     "data": {
      "text/plain": [
       "array([-8.3636447e-16, -2.5000000e+00, -4.5000000e+00, -7.0000000e+00,\n",
       "       -4.5000000e+00, -6.5000000e+00, -1.7500000e+00, -1.7500000e+00])"
      ]
     },
     "execution_count": 174,
     "metadata": {},
     "output_type": "execute_result"
    }
   ],
   "source": [
    "expected_mean_payoffs_2(P,W)"
   ]
  },
  {
   "cell_type": "code",
   "execution_count": 161,
   "id": "0acb6de2-fe30-4563-aa6a-04be5249e452",
   "metadata": {},
   "outputs": [
    {
     "data": {
      "text/plain": [
       "array([ 0.  , -0.02, -0.1 ,  0.08,  0.06,  0.  , -0.04, -0.02])"
      ]
     },
     "execution_count": 161,
     "metadata": {},
     "output_type": "execute_result"
    }
   ],
   "source": [
    "expected_mean_payoffs_3(P,W,50)"
   ]
  },
  {
   "cell_type": "code",
   "execution_count": 137,
   "id": "4c6a9a0f-0643-4cad-a74f-a39f0fd6fc56",
   "metadata": {},
   "outputs": [
    {
     "data": {
      "text/plain": [
       "array([[0. , 0.5, 0. , 0. , 0. , 0.5, 0. , 0. ],\n",
       "       [0. , 0. , 1. , 0. , 0. , 0. , 0. , 0. ],\n",
       "       [0. , 0. , 0. , 0.5, 0.5, 0. , 0. , 0. ],\n",
       "       [1. , 0. , 0. , 0. , 0. , 0. , 0. , 0. ],\n",
       "       [1. , 0. , 0. , 0. , 0. , 0. , 0. , 0. ],\n",
       "       [0. , 0. , 0. , 0. , 0. , 0. , 1. , 0. ],\n",
       "       [0. , 0. , 0. , 0.5, 0.5, 0. , 0. , 0. ],\n",
       "       [1. , 0. , 0. , 0. , 0. , 0. , 0. , 0. ]])"
      ]
     },
     "execution_count": 137,
     "metadata": {},
     "output_type": "execute_result"
    }
   ],
   "source": [
    "P"
   ]
  },
  {
   "cell_type": "code",
   "execution_count": null,
   "id": "de49c9e0-ab42-4d17-94a9-1e933074f2c8",
   "metadata": {},
   "outputs": [],
   "source": []
  }
 ],
 "metadata": {
  "kernelspec": {
   "display_name": "Python 3 (ipykernel)",
   "language": "python",
   "name": "python3"
  },
  "language_info": {
   "codemirror_mode": {
    "name": "ipython",
    "version": 3
   },
   "file_extension": ".py",
   "mimetype": "text/x-python",
   "name": "python",
   "nbconvert_exporter": "python",
   "pygments_lexer": "ipython3",
   "version": "3.10.10"
  }
 },
 "nbformat": 4,
 "nbformat_minor": 5
}
