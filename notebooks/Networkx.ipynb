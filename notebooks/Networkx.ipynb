{
 "cells": [
  {
   "cell_type": "markdown",
   "id": "dacb417e-56a6-4531-a1f4-d2ab8dd7f8ed",
   "metadata": {},
   "source": [
    "# NetworkX\n",
    "## 1. Importing Libraries"
   ]
  },
  {
   "cell_type": "code",
   "execution_count": 1,
   "id": "5cc89855-86b9-4f46-8374-99ee191d98c8",
   "metadata": {},
   "outputs": [],
   "source": [
    "import networkx as nx\n",
    "from yfiles_jupyter_graphs import GraphWidget\n"
   ]
  },
  {
   "cell_type": "markdown",
   "id": "8569cf19-cb68-4e62-8a1b-ae4d42384243",
   "metadata": {},
   "source": [
    "## 2. Creating a directed Graph\n",
    "### 2.1 Directed Unweighted graph\n",
    "A directed graph is a pair $G=(V,E)$ where $E\\subseteq V^2$"
   ]
  },
  {
   "cell_type": "code",
   "execution_count": 2,
   "id": "7312e818-4d50-4bf8-accd-eff59b4626df",
   "metadata": {},
   "outputs": [],
   "source": [
    "G=nx.DiGraph()\n",
    "G.add_node(0,label=\"A\")\n",
    "G.add_node(1,label=\"B\")\n",
    "G.add_edge(0,1,label=35)"
   ]
  },
  {
   "cell_type": "markdown",
   "id": "8dbf2c84-9669-40db-9c11-640093d6b40c",
   "metadata": {},
   "source": [
    "### 2.2 Nodes\n",
    "We can view nodes as follow.\n",
    "Note that `NodeView` is an iterable object"
   ]
  },
  {
   "cell_type": "code",
   "execution_count": 3,
   "id": "297a7819-530a-495f-b088-73ca49a109ab",
   "metadata": {},
   "outputs": [
    {
     "data": {
      "text/plain": [
       "NodeView((0, 1))"
      ]
     },
     "execution_count": 3,
     "metadata": {},
     "output_type": "execute_result"
    }
   ],
   "source": [
    "G.nodes"
   ]
  },
  {
   "cell_type": "markdown",
   "id": "28aa7328-b138-4697-9f16-641035a7c58e",
   "metadata": {},
   "source": [
    "All nodes metadata are stored as a function of a node.\n",
    "We can model this as a function $\\nu : V\\rightarrow X$ for some set $X$"
   ]
  },
  {
   "cell_type": "code",
   "execution_count": 4,
   "id": "31dc19cc-b5bb-43eb-88ff-e1f79661e0c9",
   "metadata": {},
   "outputs": [
    {
     "data": {
      "text/plain": [
       "{'label': 'A'}"
      ]
     },
     "execution_count": 4,
     "metadata": {},
     "output_type": "execute_result"
    }
   ],
   "source": [
    "G.nodes[0]"
   ]
  },
  {
   "cell_type": "markdown",
   "id": "413e3a47-37a6-44d7-926d-cd906f1533ef",
   "metadata": {},
   "source": [
    "### 2.3 Edges"
   ]
  },
  {
   "cell_type": "code",
   "execution_count": 5,
   "id": "6f04ccbb-1352-47dc-8fab-6e15c4cfef3e",
   "metadata": {},
   "outputs": [
    {
     "data": {
      "text/plain": [
       "OutEdgeView([(0, 1)])"
      ]
     },
     "execution_count": 5,
     "metadata": {},
     "output_type": "execute_result"
    }
   ],
   "source": [
    "G.edges"
   ]
  },
  {
   "cell_type": "markdown",
   "id": "af96dbd4-3fca-464a-bd8f-32dc9979bde7",
   "metadata": {},
   "source": [
    "All edge metadatas are stored as a function of the edge. We can model this as a function $L:E\\rightarrow X$ for some set $X$"
   ]
  },
  {
   "cell_type": "code",
   "execution_count": 104,
   "id": "15d051bc-81ae-4876-aae6-75a11148c475",
   "metadata": {},
   "outputs": [
    {
     "data": {
      "text/plain": [
       "{'label': 35}"
      ]
     },
     "execution_count": 104,
     "metadata": {},
     "output_type": "execute_result"
    }
   ],
   "source": [
    "G.edges[0,1]"
   ]
  },
  {
   "cell_type": "markdown",
   "id": "0d1641fe-e822-4496-90a6-af1a06eb768e",
   "metadata": {},
   "source": [
    "### 2.4 (Out-ward) Adjacency List\n",
    "This is the set: \n",
    "$$\n",
    "\\text{Adj}^+(v)=\\text{Adj}(v)=\\{v\\in V,\\quad (u,v)\\in E \\}=\\{v\\in E/\\quad u\\rightarrow v\\}\n",
    "$$"
   ]
  },
  {
   "cell_type": "code",
   "execution_count": 124,
   "id": "59fdc2e3-211b-44be-8fd5-b330e71ee13c",
   "metadata": {},
   "outputs": [
    {
     "data": {
      "text/plain": [
       "AdjacencyView({0: {1: {'label': 35}}, 1: {}})"
      ]
     },
     "execution_count": 124,
     "metadata": {},
     "output_type": "execute_result"
    }
   ],
   "source": [
    "G.succ"
   ]
  },
  {
   "cell_type": "markdown",
   "id": "a9a82a51-066c-4fe9-bc2a-3472405afd9b",
   "metadata": {},
   "source": [
    "### 2.5 (In-ward) Adjacency List\n",
    "This is the set:\n",
    "$$\n",
    "\\text{Adj}^-(v) = \n",
    "\\text{Rev}(v)=\\{v\\in V,\\quad (v,u)\\in E \\}=\\{v\\in E/\\quad v\\rightarrow u\\}\n",
    "$$"
   ]
  },
  {
   "cell_type": "code",
   "execution_count": 106,
   "id": "95d13567-6ae2-45d4-9f64-a51dd0c3195c",
   "metadata": {},
   "outputs": [
    {
     "data": {
      "text/plain": [
       "AdjacencyView({0: {}, 1: {0: {'label': 35}}})"
      ]
     },
     "execution_count": 106,
     "metadata": {},
     "output_type": "execute_result"
    }
   ],
   "source": [
    "G.pred"
   ]
  },
  {
   "cell_type": "markdown",
   "id": "6b5c9141-ef02-4398-9bf8-9ecb212665d2",
   "metadata": {},
   "source": [
    "## 3. Graph Search\n",
    "### 3.1 Dijkstra"
   ]
  },
  {
   "cell_type": "code",
   "execution_count": 64,
   "id": "10461bf6-2a62-457a-afac-f121c8a53fab",
   "metadata": {},
   "outputs": [
    {
     "data": {
      "text/plain": [
       "({0: 0, 1: 4, 7: 8, 2: 12, 5: 13, 8: 14, 6: 15, 3: 19, 4: 28},\n",
       " {0: [0],\n",
       "  1: [0, 1],\n",
       "  7: [0, 7],\n",
       "  2: [0, 1, 2],\n",
       "  8: [0, 1, 2, 8],\n",
       "  3: [0, 1, 2, 3],\n",
       "  5: [0, 1, 2, 5],\n",
       "  6: [0, 1, 2, 5, 6],\n",
       "  4: [0, 1, 2, 3, 4]})"
      ]
     },
     "execution_count": 64,
     "metadata": {},
     "output_type": "execute_result"
    }
   ],
   "source": [
    "G1=nx.DiGraph()\n",
    "G1.add_edge(0, 1, label=4);\n",
    "G1.add_edge(0, 7, label=8);\n",
    "G1.add_edge(1, 2, label=8);\n",
    "G1.add_edge(1, 7, label=11);\n",
    "G1.add_edge(2, 3, label=7);\n",
    "G1.add_edge(2, 8, label=2);\n",
    "G1.add_edge(2, 5, lable=4);\n",
    "G1.add_edge(3, 4, label=9);\n",
    "G1.add_edge(3, 5, label=14);\n",
    "G1.add_edge(4, 5, label=10);\n",
    "G1.add_edge(5, 6, label=2);\n",
    "G1.add_edge(6, 7, label=1);\n",
    "G1.add_edge(6, 8, label=6);\n",
    "G1.add_edge(7, 8, label=7);\n",
    "nx.single_source_dijkstra(G1,source=0,weight=\"label\")"
   ]
  },
  {
   "cell_type": "code",
   "execution_count": 56,
   "id": "e70bc2f8-6659-4eb2-8eb1-160100a90569",
   "metadata": {},
   "outputs": [
    {
     "data": {
      "application/vnd.jupyter.widget-view+json": {
       "model_id": "9d2894911f1f4c7ea6dbf23c24a06ae5",
       "version_major": 2,
       "version_minor": 0
      },
      "text/plain": [
       "GraphWidget(layout=Layout(height='500px', width='100%'))"
      ]
     },
     "metadata": {},
     "output_type": "display_data"
    }
   ],
   "source": [
    "GraphWidget(graph=G1)"
   ]
  },
  {
   "cell_type": "markdown",
   "id": "1b40cb22-0561-4547-97ef-a4df34797d73",
   "metadata": {},
   "source": [
    "### 3.2 Bellman-Ford"
   ]
  },
  {
   "cell_type": "code",
   "execution_count": 118,
   "id": "01dc6c49-d42a-43ef-bddd-9d43d12ce067",
   "metadata": {},
   "outputs": [
    {
     "data": {
      "text/plain": [
       "({0: 0, 1: 4, 2: 12, 3: 20, 4: 27},\n",
       " {0: [0], 1: [0, 1], 2: [0, 1, 2], 3: [0, 1, 2, 3], 4: [0, 1, 2, 3, 4]})"
      ]
     },
     "execution_count": 118,
     "metadata": {},
     "output_type": "execute_result"
    }
   ],
   "source": [
    "G2=nx.DiGraph()\n",
    "G2.add_edge(0, 1, label=4);\n",
    "G2.add_edge(1,2, label=8);\n",
    "G2.add_edge(2, 3, label=8);\n",
    "G2.add_edge(3, 0, label=-11);\n",
    "G2.add_edge(3, 4, label=7);\n",
    "nx.single_source_bellman_ford(G2,0,weight=\"label\")"
   ]
  },
  {
   "cell_type": "code",
   "execution_count": 119,
   "id": "8851b007-8580-483e-a4df-e7aa59c8cd05",
   "metadata": {},
   "outputs": [
    {
     "data": {
      "application/vnd.jupyter.widget-view+json": {
       "model_id": "f4bad60d08064d55907bd5609dea193e",
       "version_major": 2,
       "version_minor": 0
      },
      "text/plain": [
       "GraphWidget(layout=Layout(height='500px', width='100%'))"
      ]
     },
     "metadata": {},
     "output_type": "display_data"
    }
   ],
   "source": [
    "GraphWidget(graph=G2)"
   ]
  },
  {
   "cell_type": "code",
   "execution_count": null,
   "id": "a7f3fbd6-3820-4de6-9235-b63db92e9628",
   "metadata": {},
   "outputs": [],
   "source": []
  }
 ],
 "metadata": {
  "kernelspec": {
   "display_name": "Python 3 (ipykernel)",
   "language": "python",
   "name": "python3"
  },
  "language_info": {
   "codemirror_mode": {
    "name": "ipython",
    "version": 3
   },
   "file_extension": ".py",
   "mimetype": "text/x-python",
   "name": "python",
   "nbconvert_exporter": "python",
   "pygments_lexer": "ipython3",
   "version": "3.10.11"
  }
 },
 "nbformat": 4,
 "nbformat_minor": 5
}
