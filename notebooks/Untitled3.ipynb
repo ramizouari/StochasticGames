{
 "cells": [
  {
   "cell_type": "code",
   "execution_count": 1,
   "id": "0d14856c-9374-4d05-a167-910286faacfc",
   "metadata": {},
   "outputs": [
    {
     "name": "stderr",
     "output_type": "stream",
     "text": [
      "2023-06-13 03:48:40.053173: I tensorflow/core/platform/cpu_feature_guard.cc:182] This TensorFlow binary is optimized to use available CPU instructions in performance-critical operations.\n",
      "To enable the following instructions: AVX2 FMA, in other operations, rebuild TensorFlow with the appropriate compiler flags.\n",
      "2023-06-13 03:48:40.943696: W tensorflow/compiler/tf2tensorrt/utils/py_utils.cc:38] TF-TRT Warning: Could not find TensorRT\n"
     ]
    }
   ],
   "source": [
    "import tensorflow as tf\n",
    "keras = tf.keras"
   ]
  },
  {
   "cell_type": "code",
   "execution_count": 2,
   "id": "ebca4430-9d85-4c50-b395-051bb4b96073",
   "metadata": {},
   "outputs": [
    {
     "name": "stderr",
     "output_type": "stream",
     "text": [
      "2023-06-11 00:30:47.411439: I tensorflow/compiler/xla/stream_executor/cuda/cuda_gpu_executor.cc:996] successful NUMA node read from SysFS had negative value (-1), but there must be at least one NUMA node, so returning NUMA node zero. See more at https://github.com/torvalds/linux/blob/v6.0/Documentation/ABI/testing/sysfs-bus-pci#L344-L355\n",
      "2023-06-11 00:30:47.483468: I tensorflow/compiler/xla/stream_executor/cuda/cuda_gpu_executor.cc:996] successful NUMA node read from SysFS had negative value (-1), but there must be at least one NUMA node, so returning NUMA node zero. See more at https://github.com/torvalds/linux/blob/v6.0/Documentation/ABI/testing/sysfs-bus-pci#L344-L355\n",
      "2023-06-11 00:30:47.483677: I tensorflow/compiler/xla/stream_executor/cuda/cuda_gpu_executor.cc:996] successful NUMA node read from SysFS had negative value (-1), but there must be at least one NUMA node, so returning NUMA node zero. See more at https://github.com/torvalds/linux/blob/v6.0/Documentation/ABI/testing/sysfs-bus-pci#L344-L355\n",
      "2023-06-11 00:30:47.485061: I tensorflow/compiler/xla/stream_executor/cuda/cuda_gpu_executor.cc:996] successful NUMA node read from SysFS had negative value (-1), but there must be at least one NUMA node, so returning NUMA node zero. See more at https://github.com/torvalds/linux/blob/v6.0/Documentation/ABI/testing/sysfs-bus-pci#L344-L355\n",
      "2023-06-11 00:30:47.485246: I tensorflow/compiler/xla/stream_executor/cuda/cuda_gpu_executor.cc:996] successful NUMA node read from SysFS had negative value (-1), but there must be at least one NUMA node, so returning NUMA node zero. See more at https://github.com/torvalds/linux/blob/v6.0/Documentation/ABI/testing/sysfs-bus-pci#L344-L355\n",
      "2023-06-11 00:30:47.485388: I tensorflow/compiler/xla/stream_executor/cuda/cuda_gpu_executor.cc:996] successful NUMA node read from SysFS had negative value (-1), but there must be at least one NUMA node, so returning NUMA node zero. See more at https://github.com/torvalds/linux/blob/v6.0/Documentation/ABI/testing/sysfs-bus-pci#L344-L355\n",
      "2023-06-11 00:30:48.003156: I tensorflow/compiler/xla/stream_executor/cuda/cuda_gpu_executor.cc:996] successful NUMA node read from SysFS had negative value (-1), but there must be at least one NUMA node, so returning NUMA node zero. See more at https://github.com/torvalds/linux/blob/v6.0/Documentation/ABI/testing/sysfs-bus-pci#L344-L355\n",
      "2023-06-11 00:30:48.003347: I tensorflow/compiler/xla/stream_executor/cuda/cuda_gpu_executor.cc:996] successful NUMA node read from SysFS had negative value (-1), but there must be at least one NUMA node, so returning NUMA node zero. See more at https://github.com/torvalds/linux/blob/v6.0/Documentation/ABI/testing/sysfs-bus-pci#L344-L355\n",
      "2023-06-11 00:30:48.003488: I tensorflow/compiler/xla/stream_executor/cuda/cuda_gpu_executor.cc:996] successful NUMA node read from SysFS had negative value (-1), but there must be at least one NUMA node, so returning NUMA node zero. See more at https://github.com/torvalds/linux/blob/v6.0/Documentation/ABI/testing/sysfs-bus-pci#L344-L355\n",
      "2023-06-11 00:30:48.003606: I tensorflow/core/common_runtime/gpu/gpu_device.cc:1635] Created device /job:localhost/replica:0/task:0/device:GPU:0 with 4234 MB memory:  -> device: 0, name: NVIDIA GeForce GTX 1660 Ti, pci bus id: 0000:01:00.0, compute capability: 7.5\n"
     ]
    }
   ],
   "source": [
    "model=keras.models.load_model(\"/tmp/open_spiel_PVPNet_test_mlp.pb\")"
   ]
  },
  {
   "cell_type": "code",
   "execution_count": 9,
   "id": "3edf87ef-df7f-4697-a214-7d24963a41ee",
   "metadata": {},
   "outputs": [
    {
     "ename": "ValueError",
     "evalue": "in user code:\n\n    File \"/home/ramizouari/anaconda3/envs/StochasticGames/lib/python3.10/site-packages/keras/engine/training.py\", line 2169, in predict_function  *\n        return step_function(self, iterator)\n    File \"/home/ramizouari/anaconda3/envs/StochasticGames/lib/python3.10/site-packages/keras/engine/training.py\", line 2155, in step_function  **\n        outputs = model.distribute_strategy.run(run_step, args=(data,))\n    File \"/home/ramizouari/anaconda3/envs/StochasticGames/lib/python3.10/site-packages/keras/engine/training.py\", line 2143, in run_step  **\n        outputs = model.predict_step(data)\n    File \"/home/ramizouari/anaconda3/envs/StochasticGames/lib/python3.10/site-packages/keras/engine/training.py\", line 2111, in predict_step\n        return self(x, training=False)\n    File \"/home/ramizouari/anaconda3/envs/StochasticGames/lib/python3.10/site-packages/keras/utils/traceback_utils.py\", line 70, in error_handler\n        raise e.with_traceback(filtered_tb) from None\n    File \"/home/ramizouari/anaconda3/envs/StochasticGames/lib/python3.10/site-packages/keras/engine/input_spec.py\", line 197, in assert_input_compatibility\n        raise ValueError(\n\n    ValueError: Missing data for input \"environment\". You passed a data dictionary with keys ['inputs_0', 'inputs_1']. Expected the following keys: ['environment', 'state']\n",
     "output_type": "error",
     "traceback": [
      "\u001b[0;31m---------------------------------------------------------------------------\u001b[0m",
      "\u001b[0;31mValueError\u001b[0m                                Traceback (most recent call last)",
      "Cell \u001b[0;32mIn[9], line 6\u001b[0m\n\u001b[1;32m      4\u001b[0m E\u001b[38;5;241m=\u001b[39mtf\u001b[38;5;241m.\u001b[39mzeros([batch_size,\u001b[38;5;241m*\u001b[39menvironment_shape])\n\u001b[1;32m      5\u001b[0m S\u001b[38;5;241m=\u001b[39mtf\u001b[38;5;241m.\u001b[39mzeros([batch_size,\u001b[38;5;241m*\u001b[39mstate_shape])\n\u001b[0;32m----> 6\u001b[0m \u001b[43mmodel\u001b[49m\u001b[38;5;241;43m.\u001b[39;49m\u001b[43mpredict\u001b[49m\u001b[43m(\u001b[49m\u001b[43m{\u001b[49m\u001b[38;5;124;43m\"\u001b[39;49m\u001b[38;5;124;43minputs_0\u001b[39;49m\u001b[38;5;124;43m\"\u001b[39;49m\u001b[43m:\u001b[49m\u001b[43mE\u001b[49m\u001b[43m,\u001b[49m\u001b[38;5;124;43m\"\u001b[39;49m\u001b[38;5;124;43minputs_1\u001b[39;49m\u001b[38;5;124;43m\"\u001b[39;49m\u001b[43m:\u001b[49m\u001b[43mS\u001b[49m\u001b[43m}\u001b[49m\u001b[43m)\u001b[49m\n",
      "File \u001b[0;32m~/anaconda3/envs/StochasticGames/lib/python3.10/site-packages/keras/utils/traceback_utils.py:70\u001b[0m, in \u001b[0;36mfilter_traceback.<locals>.error_handler\u001b[0;34m(*args, **kwargs)\u001b[0m\n\u001b[1;32m     67\u001b[0m     filtered_tb \u001b[38;5;241m=\u001b[39m _process_traceback_frames(e\u001b[38;5;241m.\u001b[39m__traceback__)\n\u001b[1;32m     68\u001b[0m     \u001b[38;5;66;03m# To get the full stack trace, call:\u001b[39;00m\n\u001b[1;32m     69\u001b[0m     \u001b[38;5;66;03m# `tf.debugging.disable_traceback_filtering()`\u001b[39;00m\n\u001b[0;32m---> 70\u001b[0m     \u001b[38;5;28;01mraise\u001b[39;00m e\u001b[38;5;241m.\u001b[39mwith_traceback(filtered_tb) \u001b[38;5;28;01mfrom\u001b[39;00m \u001b[38;5;28mNone\u001b[39m\n\u001b[1;32m     71\u001b[0m \u001b[38;5;28;01mfinally\u001b[39;00m:\n\u001b[1;32m     72\u001b[0m     \u001b[38;5;28;01mdel\u001b[39;00m filtered_tb\n",
      "File \u001b[0;32m/tmp/__autograph_generated_filer90fyi0p.py:15\u001b[0m, in \u001b[0;36mouter_factory.<locals>.inner_factory.<locals>.tf__predict_function\u001b[0;34m(iterator)\u001b[0m\n\u001b[1;32m     13\u001b[0m \u001b[38;5;28;01mtry\u001b[39;00m:\n\u001b[1;32m     14\u001b[0m     do_return \u001b[38;5;241m=\u001b[39m \u001b[38;5;28;01mTrue\u001b[39;00m\n\u001b[0;32m---> 15\u001b[0m     retval_ \u001b[38;5;241m=\u001b[39m ag__\u001b[38;5;241m.\u001b[39mconverted_call(ag__\u001b[38;5;241m.\u001b[39mld(step_function), (ag__\u001b[38;5;241m.\u001b[39mld(\u001b[38;5;28mself\u001b[39m), ag__\u001b[38;5;241m.\u001b[39mld(iterator)), \u001b[38;5;28;01mNone\u001b[39;00m, fscope)\n\u001b[1;32m     16\u001b[0m \u001b[38;5;28;01mexcept\u001b[39;00m:\n\u001b[1;32m     17\u001b[0m     do_return \u001b[38;5;241m=\u001b[39m \u001b[38;5;28;01mFalse\u001b[39;00m\n",
      "\u001b[0;31mValueError\u001b[0m: in user code:\n\n    File \"/home/ramizouari/anaconda3/envs/StochasticGames/lib/python3.10/site-packages/keras/engine/training.py\", line 2169, in predict_function  *\n        return step_function(self, iterator)\n    File \"/home/ramizouari/anaconda3/envs/StochasticGames/lib/python3.10/site-packages/keras/engine/training.py\", line 2155, in step_function  **\n        outputs = model.distribute_strategy.run(run_step, args=(data,))\n    File \"/home/ramizouari/anaconda3/envs/StochasticGames/lib/python3.10/site-packages/keras/engine/training.py\", line 2143, in run_step  **\n        outputs = model.predict_step(data)\n    File \"/home/ramizouari/anaconda3/envs/StochasticGames/lib/python3.10/site-packages/keras/engine/training.py\", line 2111, in predict_step\n        return self(x, training=False)\n    File \"/home/ramizouari/anaconda3/envs/StochasticGames/lib/python3.10/site-packages/keras/utils/traceback_utils.py\", line 70, in error_handler\n        raise e.with_traceback(filtered_tb) from None\n    File \"/home/ramizouari/anaconda3/envs/StochasticGames/lib/python3.10/site-packages/keras/engine/input_spec.py\", line 197, in assert_input_compatibility\n        raise ValueError(\n\n    ValueError: Missing data for input \"environment\". You passed a data dictionary with keys ['inputs_0', 'inputs_1']. Expected the following keys: ['environment', 'state']\n"
     ]
    }
   ],
   "source": [
    "batch_size=30\n",
    "environment_shape=(20,20,2)\n",
    "state_shape=(1,)\n",
    "E=tf.zeros([batch_size,*environment_shape])\n",
    "S=tf.zeros([batch_size,*state_shape])\n",
    "model.predict({\"inputs_0\":E,\"inputs_1\":S})"
   ]
  },
  {
   "cell_type": "code",
   "execution_count": 10,
   "id": "f1b98cba-5e9b-4653-8f7e-fb96f791108c",
   "metadata": {},
   "outputs": [
    {
     "data": {
      "text/plain": [
       "<keras.engine.functional.Functional at 0x7f2e044627d0>"
      ]
     },
     "execution_count": 10,
     "metadata": {},
     "output_type": "execute_result"
    }
   ],
   "source": [
    "model."
   ]
  },
  {
   "cell_type": "code",
   "execution_count": 317,
   "id": "8d284c1f-ff99-4638-84a4-dd2e92cd89b3",
   "metadata": {},
   "outputs": [],
   "source": [
    "n=100\n",
    "G=tf.cast(tf.random.uniform([n,n]) > 0,dtype=tf.float32)\n",
    "W=tf.random.uniform([n,n]) * G\n",
    "x=tf.random.uniform([n,1])\n",
    "x=tf.stack([x,x])\n",
    "G=tf.stack([G,G])\n",
    "W=tf.stack([W,W])\n",
    "\n",
    "\n",
    "\n",
    "import importlib\n",
    "import mpg.gnn.gcn as gcn\n",
    "import mpg.gnn.aggregator as agg\n",
    "import mpg.gnn.sgcn as sgcn \n",
    "importlib.reload(gcn)\n",
    "importlib.reload(agg)\n",
    "importlib.reload(sgcn)\n",
    "WGCN=gcn.WGCN"
   ]
  },
  {
   "cell_type": "code",
   "execution_count": 320,
   "id": "f294b0d7-2827-41fc-8813-855814745452",
   "metadata": {},
   "outputs": [],
   "source": [
    "layer=WGCN(5,loops=False,normalization=\"unit\")\n",
    "layer2=WGCN(5,loops=False,normalization=\"mean\")\n",
    "Y=layer((G,W,x))\n",
    "Z=layer2((G,W,Y))\n"
   ]
  },
  {
   "cell_type": "code",
   "execution_count": null,
   "id": "2c7797bc-2ac0-4eeb-a191-09431379ab42",
   "metadata": {},
   "outputs": [],
   "source": [
    "Y"
   ]
  },
  {
   "cell_type": "code",
   "execution_count": 218,
   "id": "29e33372-1ede-4393-bedb-3ac6dc364d03",
   "metadata": {},
   "outputs": [
    {
     "data": {
      "text/plain": [
       "[<tf.Variable 'TAGConv/kernel:0' shape=(1, 5, 2) dtype=float32, numpy=\n",
       " array([[[-0.04742214, -0.14084202],\n",
       "         [-0.41123575,  0.13933949],\n",
       "         [ 0.72605807,  0.03667752],\n",
       "         [-1.2124313 ,  0.43771482],\n",
       "         [-0.48633334,  0.4591117 ]]], dtype=float32)>]"
      ]
     },
     "execution_count": 219,
     "metadata": {},
     "output_type": "execute_result"
    }
   ],
   "source": []
  },
  {
   "cell_type": "code",
   "execution_count": 163,
   "id": "2a1b71b1-7f3f-4fc1-8a6d-f664336669a4",
   "metadata": {},
   "outputs": [],
   "source": [
    "aggregator1=agg.SumAggregation(loops=True,with_weights=False,normalization=\"unit\")\n",
    "def f(A,x):\n",
    "    matrices=A\n",
    "    matrices=matrices + tf.eye(num_rows=matrices.shape[-1],batch_shape=matrices.shape[:-2])\n",
    "    degrees=tf.reduce_sum(matrices,axis=-1)\n",
    "    D=tf.sqrt(tf.linalg.diag(degrees))\n",
    "    return tf.linalg.matmul(tf.linalg.matmul(tf.linalg.pinv(D),tf.linalg.matmul(matrices,tf.linalg.pinv(D))),x)\n",
    "\n",
    "data=tf.ones([2,5,1])"
   ]
  },
  {
   "cell_type": "code",
   "execution_count": 168,
   "id": "b83a3775-a7a4-4636-8398-d9ef274412cc",
   "metadata": {},
   "outputs": [
    {
     "data": {
      "text/plain": [
       "<tf.Tensor: shape=(2, 5, 1), dtype=float32, numpy=\n",
       "array([[[0.2452044 ],\n",
       "        [0.6565305 ],\n",
       "        [0.64284056],\n",
       "        [0.4892034 ],\n",
       "        [0.52406955]],\n",
       "\n",
       "       [[0.2452044 ],\n",
       "        [0.6565305 ],\n",
       "        [0.64284056],\n",
       "        [0.4892034 ],\n",
       "        [0.52406955]]], dtype=float32)>"
      ]
     },
     "execution_count": 168,
     "metadata": {},
     "output_type": "execute_result"
    }
   ],
   "source": [
    "f(G,x)"
   ]
  },
  {
   "cell_type": "code",
   "execution_count": 169,
   "id": "728bca6b-d575-4bf1-8ec2-be9ce2687f5e",
   "metadata": {},
   "outputs": [
    {
     "data": {
      "text/plain": [
       "<tf.Tensor: shape=(2, 5, 1), dtype=float32, numpy=\n",
       "array([[[0.2452044 ],\n",
       "        [0.6565305 ],\n",
       "        [0.64284056],\n",
       "        [0.48920345],\n",
       "        [0.52406955]],\n",
       "\n",
       "       [[0.2452044 ],\n",
       "        [0.6565305 ],\n",
       "        [0.64284056],\n",
       "        [0.48920345],\n",
       "        [0.52406955]]], dtype=float32)>"
      ]
     },
     "execution_count": 169,
     "metadata": {},
     "output_type": "execute_result"
    }
   ],
   "source": [
    "aggregator1((G,x))"
   ]
  },
  {
   "cell_type": "code",
   "execution_count": 170,
   "id": "a0264c5f-36cf-40a2-b49f-95ec8c3270b3",
   "metadata": {},
   "outputs": [
    {
     "data": {
      "text/plain": [
       "array([[[0.2452044 ],\n",
       "        [0.65653056],\n",
       "        [0.64284056],\n",
       "        [0.48920345],\n",
       "        [0.52406955]],\n",
       "\n",
       "       [[0.2452044 ],\n",
       "        [0.65653056],\n",
       "        [0.64284056],\n",
       "        [0.48920345],\n",
       "        [0.52406955]]])"
      ]
     },
     "execution_count": 170,
     "metadata": {},
     "output_type": "execute_result"
    }
   ],
   "source": [
    "import numpy as np\n",
    "P=np.zeros([2,5,1])\n",
    "degree = tf.reduce_sum(G,axis=-1) +1 \n",
    "for b in range(2):\n",
    "    \n",
    "    for i in range(5):\n",
    "        P[b,i,0] = x[b,i,0] / degree[b,i]\n",
    "        for j in range(5):\n",
    "            P[b,i,0] += G[b,i,j]*x[b,j,0] / np.sqrt(degree[b,i] * degree[b,j])\n",
    "P"
   ]
  },
  {
   "cell_type": "code",
   "execution_count": 167,
   "id": "3098eddb-a1e6-4748-b18f-b66d2b739993",
   "metadata": {},
   "outputs": [
    {
     "data": {
      "text/plain": [
       "<tf.Tensor: shape=(2, 5, 1), dtype=float32, numpy=\n",
       "array([[[0.90824825],\n",
       "        [1.        ],\n",
       "        [1.1422286 ],\n",
       "        [1.0749149 ],\n",
       "        [1.        ]],\n",
       "\n",
       "       [[0.90824825],\n",
       "        [1.        ],\n",
       "        [1.1422286 ],\n",
       "        [1.0749149 ],\n",
       "        [1.        ]]], dtype=float32)>"
      ]
     },
     "execution_count": 167,
     "metadata": {},
     "output_type": "execute_result"
    }
   ],
   "source": [
    "matrices=G\n",
    "matrices=matrices + tf.eye(num_rows=matrices.shape[-1],batch_shape=matrices.shape[:-2])\n",
    "degrees=tf.reduce_sum(matrices,axis=-1,keepdims=True)\n",
    "tf.linalg.matmul(matrices, data / tf.math.sqrt(degrees))/tf.math.sqrt(degrees)"
   ]
  },
  {
   "cell_type": "code",
   "execution_count": 61,
   "id": "b5db2020-5bb7-48a5-b948-29397fe1bfb8",
   "metadata": {},
   "outputs": [
    {
     "data": {
      "text/plain": [
       "1480"
      ]
     },
     "execution_count": 61,
     "metadata": {},
     "output_type": "execute_result"
    }
   ],
   "source": [
    "import gc\n",
    "gc.collect()"
   ]
  },
  {
   "cell_type": "code",
   "execution_count": 1,
   "id": "a53f4680-b66b-4e7a-870e-a39380fcfbb3",
   "metadata": {},
   "outputs": [
    {
     "name": "stderr",
     "output_type": "stream",
     "text": [
      "2023-06-27 01:47:02.552028: I tensorflow/core/platform/cpu_feature_guard.cc:182] This TensorFlow binary is optimized to use available CPU instructions in performance-critical operations.\n",
      "To enable the following instructions: AVX2 FMA, in other operations, rebuild TensorFlow with the appropriate compiler flags.\n",
      "2023-06-27 01:47:03.145162: W tensorflow/compiler/tf2tensorrt/utils/py_utils.cc:38] TF-TRT Warning: Could not find TensorRT\n"
     ]
    },
    {
     "name": "stdout",
     "output_type": "stream",
     "text": [
      "(TensorSpec(shape=(2, None, None), dtype=tf.float32, name=None), TensorSpec(shape=(2, 2, None), dtype=tf.float32, name=None), TensorSpec(shape=(), dtype=tf.string, name=None))\n"
     ]
    },
    {
     "name": "stderr",
     "output_type": "stream",
     "text": [
      "2023-06-27 01:47:04.681227: I tensorflow/compiler/xla/stream_executor/cuda/cuda_gpu_executor.cc:996] successful NUMA node read from SysFS had negative value (-1), but there must be at least one NUMA node, so returning NUMA node zero. See more at https://github.com/torvalds/linux/blob/v6.0/Documentation/ABI/testing/sysfs-bus-pci#L344-L355\n",
      "2023-06-27 01:47:04.725071: I tensorflow/compiler/xla/stream_executor/cuda/cuda_gpu_executor.cc:996] successful NUMA node read from SysFS had negative value (-1), but there must be at least one NUMA node, so returning NUMA node zero. See more at https://github.com/torvalds/linux/blob/v6.0/Documentation/ABI/testing/sysfs-bus-pci#L344-L355\n",
      "2023-06-27 01:47:04.725278: I tensorflow/compiler/xla/stream_executor/cuda/cuda_gpu_executor.cc:996] successful NUMA node read from SysFS had negative value (-1), but there must be at least one NUMA node, so returning NUMA node zero. See more at https://github.com/torvalds/linux/blob/v6.0/Documentation/ABI/testing/sysfs-bus-pci#L344-L355\n",
      "2023-06-27 01:47:04.727085: I tensorflow/compiler/xla/stream_executor/cuda/cuda_gpu_executor.cc:996] successful NUMA node read from SysFS had negative value (-1), but there must be at least one NUMA node, so returning NUMA node zero. See more at https://github.com/torvalds/linux/blob/v6.0/Documentation/ABI/testing/sysfs-bus-pci#L344-L355\n",
      "2023-06-27 01:47:04.727278: I tensorflow/compiler/xla/stream_executor/cuda/cuda_gpu_executor.cc:996] successful NUMA node read from SysFS had negative value (-1), but there must be at least one NUMA node, so returning NUMA node zero. See more at https://github.com/torvalds/linux/blob/v6.0/Documentation/ABI/testing/sysfs-bus-pci#L344-L355\n",
      "2023-06-27 01:47:04.727481: I tensorflow/compiler/xla/stream_executor/cuda/cuda_gpu_executor.cc:996] successful NUMA node read from SysFS had negative value (-1), but there must be at least one NUMA node, so returning NUMA node zero. See more at https://github.com/torvalds/linux/blob/v6.0/Documentation/ABI/testing/sysfs-bus-pci#L344-L355\n",
      "2023-06-27 01:47:05.245107: I tensorflow/compiler/xla/stream_executor/cuda/cuda_gpu_executor.cc:996] successful NUMA node read from SysFS had negative value (-1), but there must be at least one NUMA node, so returning NUMA node zero. See more at https://github.com/torvalds/linux/blob/v6.0/Documentation/ABI/testing/sysfs-bus-pci#L344-L355\n",
      "2023-06-27 01:47:05.245299: I tensorflow/compiler/xla/stream_executor/cuda/cuda_gpu_executor.cc:996] successful NUMA node read from SysFS had negative value (-1), but there must be at least one NUMA node, so returning NUMA node zero. See more at https://github.com/torvalds/linux/blob/v6.0/Documentation/ABI/testing/sysfs-bus-pci#L344-L355\n",
      "2023-06-27 01:47:05.245439: I tensorflow/compiler/xla/stream_executor/cuda/cuda_gpu_executor.cc:996] successful NUMA node read from SysFS had negative value (-1), but there must be at least one NUMA node, so returning NUMA node zero. See more at https://github.com/torvalds/linux/blob/v6.0/Documentation/ABI/testing/sysfs-bus-pci#L344-L355\n",
      "2023-06-27 01:47:05.245556: I tensorflow/core/common_runtime/gpu/gpu_device.cc:1635] Created device /job:localhost/replica:0/task:0/device:GPU:0 with 3900 MB memory:  -> device: 0, name: NVIDIA GeForce GTX 1660 Ti, pci bus id: 0000:01:00.0, compute capability: 7.5\n"
     ]
    }
   ],
   "source": [
    "import importlib\n",
    "import mpg.ml.dataset.reader as reader\n",
    "import mpg.ml.dataset.generator as generator\n",
    "import mpg.ml.dataset.utils as utils\n",
    "import mpg.ml.dataset.transforms as transforms\n",
    "importlib.reload(reader)\n",
    "importlib.reload(generator)\n",
    "importlib.reload(utils)\n",
    "importlib.reload(transforms)\n",
    "target_path=\"/run/media/ramizouari/6cf4ec5b-ccaf-4b2a-a40f-75ddfe64af76/HPC/dataset/targets_dense-worker-35347670-0.json\"\n",
    "#target_dataset=\"/run/media/ramizouari/6cf4ec5b-ccaf-4b2a-a40f-75ddfe64af76/HPC/dataset/targets_dense.json\"\n",
    "gen=reader.MPGGraphReader(\"/run/media/ramizouari/6cf4ec5b-ccaf-4b2a-a40f-75ddfe64af76/HPC/dataset/dense\",target=\"all\",target_path=target_path,debug=True)"
   ]
  },
  {
   "cell_type": "code",
   "execution_count": 2,
   "id": "e0cb768a-81f7-4228-8272-3887dc077750",
   "metadata": {},
   "outputs": [
    {
     "name": "stderr",
     "output_type": "stream",
     "text": [
      "2023-06-27 01:47:08.983382: I tensorflow/core/common_runtime/executor.cc:1197] [/device:CPU:0] (DEBUG INFO) Executor start aborting (this does not indicate an error and you can ignore this message): INVALID_ARGUMENT: You must feed a value for placeholder tensor 'Placeholder/_0' with dtype int32\n",
      "\t [[{{node Placeholder/_0}}]]\n"
     ]
    }
   ],
   "source": [
    "importlib.reload(transforms)\n",
    "T=transforms.DatasetStackTransforms([transforms.Transposer(),transforms.WithStartingPosition(2,0),transforms.StrategyEncoder(),transforms.BatchDatasetTransform(pad=True,batch_size=32)])\n",
    "next(iter(T(gen)));"
   ]
  },
  {
   "cell_type": "code",
   "execution_count": 69,
   "id": "c5095ff7-a403-49fc-87c4-6dc2e2c474cd",
   "metadata": {},
   "outputs": [
    {
     "name": "stderr",
     "output_type": "stream",
     "text": [
      "2023-06-27 02:34:45.050925: I tensorflow/core/common_runtime/executor.cc:1197] [/device:CPU:0] (DEBUG INFO) Executor start aborting (this does not indicate an error and you can ignore this message): INVALID_ARGUMENT: You must feed a value for placeholder tensor 'Placeholder' with dtype float and shape [?]\n",
      "\t [[{{node Placeholder}}]]\n"
     ]
    }
   ],
   "source": [
    "import mpg.ml.model.gnn as gnn\n",
    "import mpg.ml.model.utils as ml_utils\n",
    "import mpg.ml.layers.activation as act\n",
    "import mpg.ml.layers.augmentation as aug\n",
    "importlib.reload(gnn)\n",
    "importlib.reload(ml_utils)\n",
    "importlib.reload(aug)\n",
    "importlib.reload(act)\n",
    "\n",
    "model=gnn.ResGNN(conv_layers=[32,16,1,32,16,1],residual_connections={3:[0],6:[3,0]},graph_normalisation=True,\n",
    "                 masked_softmax=True,ragged_batch=False,weight_normalisation=\"std\",random_connection_probability=0.05,weight_noise_layer=aug.UniformNoise(-0.01,0.01,name=\"uniform_noise\"))\n"
   ]
  },
  {
   "cell_type": "code",
   "execution_count": 70,
   "id": "64903e19-da69-4487-bfec-f45cd24a08e1",
   "metadata": {},
   "outputs": [],
   "source": [
    "import tensorflow as tf\n",
    "model.compile(loss={\"policy_targets\": tf.keras.losses.CategoricalCrossentropy(), \"value_targets\": \"mean_squared_error\"},\n",
    "                   optimizer=tf.keras.optimizers.Adam(1e-4))\n"
   ]
  },
  {
   "cell_type": "code",
   "execution_count": null,
   "id": "4b79dd4d-78af-4159-ad6f-5580919fdca2",
   "metadata": {},
   "outputs": [],
   "source": [
    "dataset=T(gen).map(lambda x,y,*z:(x,y)).take(3).cache().repeat()"
   ]
  },
  {
   "cell_type": "code",
   "execution_count": null,
   "id": "5f1ef1ef-06b0-4138-9f88-ebda454dbb0a",
   "metadata": {},
   "outputs": [
    {
     "name": "stdout",
     "output_type": "stream",
     "text": [
      "Epoch 1/32\n",
      "128/128 [==============================] - 5s 38ms/step - loss: 20.3644 - value_targets_loss: 0.9447 - policy_targets_loss: 19.4197\n",
      "Epoch 2/32\n",
      "128/128 [==============================] - 5s 38ms/step - loss: 19.8283 - value_targets_loss: 0.9446 - policy_targets_loss: 18.8837\n",
      "Epoch 3/32\n",
      "128/128 [==============================] - 5s 39ms/step - loss: 19.6391 - value_targets_loss: 0.9433 - policy_targets_loss: 18.6958\n",
      "Epoch 4/32\n",
      "128/128 [==============================] - 5s 38ms/step - loss: 18.7232 - value_targets_loss: 0.9431 - policy_targets_loss: 17.7800\n",
      "Epoch 5/32\n",
      "128/128 [==============================] - 5s 38ms/step - loss: 18.6772 - value_targets_loss: 0.9448 - policy_targets_loss: 17.7324\n",
      "Epoch 6/32\n",
      "128/128 [==============================] - 5s 38ms/step - loss: 18.3262 - value_targets_loss: 0.9450 - policy_targets_loss: 17.3812\n",
      "Epoch 7/32\n",
      "128/128 [==============================] - 5s 39ms/step - loss: 17.6629 - value_targets_loss: 0.9428 - policy_targets_loss: 16.7201\n",
      "Epoch 8/32\n",
      "128/128 [==============================] - 5s 38ms/step - loss: 17.2259 - value_targets_loss: 0.9436 - policy_targets_loss: 16.2823\n",
      "Epoch 9/32\n",
      "128/128 [==============================] - 5s 38ms/step - loss: 16.5085 - value_targets_loss: 0.9425 - policy_targets_loss: 15.5660\n",
      "Epoch 10/32\n",
      "128/128 [==============================] - 5s 38ms/step - loss: 16.8435 - value_targets_loss: 0.9423 - policy_targets_loss: 15.9012\n",
      "Epoch 11/32\n",
      "128/128 [==============================] - 5s 39ms/step - loss: 15.6066 - value_targets_loss: 0.9431 - policy_targets_loss: 14.6635\n",
      "Epoch 12/32\n",
      "128/128 [==============================] - 5s 38ms/step - loss: 15.1596 - value_targets_loss: 0.9438 - policy_targets_loss: 14.2157\n",
      "Epoch 13/32\n",
      "128/128 [==============================] - 5s 38ms/step - loss: 14.3511 - value_targets_loss: 0.9408 - policy_targets_loss: 13.4102\n",
      "Epoch 14/32\n",
      "128/128 [==============================] - 5s 38ms/step - loss: 14.3515 - value_targets_loss: 0.9436 - policy_targets_loss: 13.4079\n",
      "Epoch 15/32\n",
      "128/128 [==============================] - 5s 38ms/step - loss: 13.3620 - value_targets_loss: 0.9426 - policy_targets_loss: 12.4194\n",
      "Epoch 16/32\n",
      "128/128 [==============================] - 5s 38ms/step - loss: 13.4395 - value_targets_loss: 0.9432 - policy_targets_loss: 12.4963\n",
      "Epoch 17/32\n",
      "128/128 [==============================] - 5s 38ms/step - loss: 12.8707 - value_targets_loss: 0.9433 - policy_targets_loss: 11.9274\n",
      "Epoch 18/32\n",
      "128/128 [==============================] - 5s 38ms/step - loss: 12.7602 - value_targets_loss: 0.9422 - policy_targets_loss: 11.8180\n",
      "Epoch 19/32\n",
      "128/128 [==============================] - 5s 38ms/step - loss: 12.3594 - value_targets_loss: 0.9406 - policy_targets_loss: 11.4188\n",
      "Epoch 20/32\n",
      "128/128 [==============================] - 5s 38ms/step - loss: 11.8106 - value_targets_loss: 0.9399 - policy_targets_loss: 10.8707\n",
      "Epoch 21/32\n",
      " 69/128 [===============>..............] - ETA: 2s - loss: 11.4982 - value_targets_loss: 0.9400 - policy_targets_loss: 10.5582"
     ]
    }
   ],
   "source": [
    "model.fit(dataset,steps_per_epoch=128,epochs=32)"
   ]
  },
  {
   "cell_type": "code",
   "execution_count": 36,
   "id": "6e50f147-f776-48f0-b914-a149ba3df740",
   "metadata": {},
   "outputs": [],
   "source": [
    "with tf.GradientTape(persistent=True) as tape:\n",
    "    X,(vi_true,policy_true)=next(iter(dataset))\n",
    "    vi_predicted,policy_predicted=model(X)\n",
    "    L=tf.keras.losses.CategoricalCrossentropy()\n",
    "    loss=L(policy_true,policy_predicted)\n"
   ]
  },
  {
   "cell_type": "code",
   "execution_count": 39,
   "id": "98af1bcc-839e-4773-bef4-2e9c7f03e7f1",
   "metadata": {},
   "outputs": [
    {
     "name": "stdout",
     "output_type": "stream",
     "text": [
      "flat_batch_norm_0/gamma:0\n",
      "flat_batch_norm_0/beta:0\n",
      "flat_0/kernel:0\n",
      "flat_0/bias:0\n",
      "value_targets/kernel:0\n",
      "value_targets/bias:0\n"
     ]
    }
   ],
   "source": [
    "for x,dx in zip(model.trainable_variables,tape.gradient(loss,model.trainable_variables)):\n",
    "    if dx is None:\n",
    "        print(x.name)"
   ]
  },
  {
   "cell_type": "code",
   "execution_count": 29,
   "id": "a54bc5a3-7496-45b4-a8f8-9e7609623cb9",
   "metadata": {},
   "outputs": [
    {
     "ename": "TypeError",
     "evalue": "'_DictWrapper' object is not callable",
     "output_type": "error",
     "traceback": [
      "\u001b[0;31m---------------------------------------------------------------------------\u001b[0m",
      "\u001b[0;31mTypeError\u001b[0m                                 Traceback (most recent call last)",
      "Cell \u001b[0;32mIn[29], line 1\u001b[0m\n\u001b[0;32m----> 1\u001b[0m \u001b[43mmodel\u001b[49m\u001b[38;5;241;43m.\u001b[39;49m\u001b[43mloss\u001b[49m\u001b[43m(\u001b[49m\u001b[43mX\u001b[49m\u001b[43m,\u001b[49m\u001b[43my_true\u001b[49m\u001b[43m)\u001b[49m\n",
      "\u001b[0;31mTypeError\u001b[0m: '_DictWrapper' object is not callable"
     ]
    }
   ],
   "source": [
    "model.loss(X,y_true)"
   ]
  },
  {
   "cell_type": "code",
   "execution_count": 129,
   "id": "2b3754b3-bbc7-4d7f-ab24-9591b97b0b51",
   "metadata": {},
   "outputs": [],
   "source": [
    "import pandas as pd\n",
    "df=pd.read_json(target_path)\n",
    "df.set_index(\"graph\",inplace=True)"
   ]
  },
  {
   "cell_type": "code",
   "execution_count": 32,
   "id": "4b9820b0-bbea-4a6b-9c7c-6bef401a7218",
   "metadata": {},
   "outputs": [],
   "source": []
  },
  {
   "cell_type": "code",
   "execution_count": 35,
   "id": "ea3d46d9-a49a-44c0-b9be-b74f208f5bf4",
   "metadata": {},
   "outputs": [
    {
     "data": {
      "text/plain": [
       "<tf.Tensor: shape=(), dtype=float32, numpy=12.686426>"
      ]
     },
     "execution_count": 35,
     "metadata": {},
     "output_type": "execute_result"
    }
   ],
   "source": []
  },
  {
   "cell_type": "code",
   "execution_count": 64,
   "id": "56d11b44-8e6f-4aa5-8977-168bfeb61ca6",
   "metadata": {},
   "outputs": [],
   "source": [
    "A=x[0][...,:,:,0]\n",
    "W=x[0][...,:,:,1]\n",
    "import mpg.ml.layers.normalisation as norm\n",
    "importlib.reload(norm)\n",
    "layer=norm.RandomConnectionLayer(p=1)\n",
    "P,Q=layer((A,W))"
   ]
  },
  {
   "cell_type": "code",
   "execution_count": 85,
   "id": "dd34974e-198d-4ba8-98a9-c6e8b312d52e",
   "metadata": {},
   "outputs": [
    {
     "data": {
      "text/plain": [
       "<tf.Tensor: shape=(), dtype=bool, numpy=True>"
      ]
     },
     "execution_count": 85,
     "metadata": {},
     "output_type": "execute_result"
    }
   ],
   "source": [
    "t=x[0]\n",
    "p=tf.constant([1.,-1])*x[0]\n",
    "tf.reduce_all(p[...,1]==-t[...,1])"
   ]
  },
  {
   "cell_type": "code",
   "execution_count": null,
   "id": "8f5e0861-57e7-4d75-b8d0-3c23aeb385c5",
   "metadata": {},
   "outputs": [],
   "source": [
    "x"
   ]
  },
  {
   "cell_type": "code",
   "execution_count": 45,
   "id": "8126736c-9aa9-40bd-ae50-564db29f72a5",
   "metadata": {},
   "outputs": [
    {
     "data": {
      "text/plain": [
       "dataset                           /lustre/ssd/ws/razo743f-mpg-dataset\n",
       "max_strategy        [140, 214, 60, 93, 2, 141, 248, 59, 221, 97, 2...\n",
       "mean_payoffs_max    [-505.094, -505.094, -505.094, -505.094, -505....\n",
       "mean_payoffs_min    [-505.094, -505.094, -505.094, -505.094, -505....\n",
       "min_strategy        [157, 223, 83, 153, 215, 95, 105, 110, 105, 49...\n",
       "running_time                                                12.980278\n",
       "status                                                             OK\n",
       "winners_max         [1, 1, 1, 1, 1, 1, 1, 1, 1, 1, 1, 1, 1, 1, 1, ...\n",
       "winners_min         [1, 1, 1, 1, 1, 1, 1, 1, 1, 1, 1, 1, 1, 1, 1, ...\n",
       "Name: gnp_uniform_mpg_250_175_151.edgelist.gz, dtype: object"
      ]
     },
     "execution_count": 45,
     "metadata": {},
     "output_type": "execute_result"
    }
   ],
   "source": [
    "df.loc[\"gnp_uniform_mpg_250_175_151.edgelist.gz\"]=="
   ]
  },
  {
   "cell_type": "code",
   "execution_count": 109,
   "id": "767731cd-40b0-4c04-b55a-d74cd0e1ef74",
   "metadata": {},
   "outputs": [
    {
     "data": {
      "text/plain": [
       "<tf.Tensor: shape=(250,), dtype=float32, numpy=\n",
       "array([1., 1., 1., 1., 1., 1., 1., 1., 1., 1., 1., 1., 1., 1., 1., 1., 1.,\n",
       "       1., 1., 1., 1., 1., 1., 1., 1., 1., 1., 1., 1., 1., 1., 1., 1., 1.,\n",
       "       1., 1., 1., 1., 1., 1., 1., 1., 1., 1., 1., 1., 1., 1., 1., 1., 1.,\n",
       "       1., 1., 1., 1., 1., 1., 1., 1., 1., 1., 1., 1., 1., 1., 1., 1., 1.,\n",
       "       1., 1., 1., 1., 1., 1., 1., 1., 1., 1., 1., 1., 1., 1., 1., 1., 1.,\n",
       "       1., 1., 1., 1., 1., 1., 1., 1., 1., 1., 1., 1., 1., 1., 1., 1., 1.,\n",
       "       1., 1., 1., 1., 1., 1., 1., 1., 1., 1., 1., 1., 1., 1., 1., 1., 1.,\n",
       "       1., 1., 1., 1., 1., 1., 1., 1., 1., 1., 1., 1., 1., 1., 1., 1., 1.,\n",
       "       1., 1., 1., 1., 1., 1., 1., 1., 1., 1., 1., 1., 1., 1., 1., 1., 1.,\n",
       "       1., 1., 1., 1., 1., 1., 1., 1., 1., 1., 1., 1., 1., 1., 1., 1., 1.,\n",
       "       1., 1., 1., 1., 1., 1., 1., 1., 1., 1., 1., 1., 1., 1., 1., 1., 1.,\n",
       "       1., 1., 1., 1., 1., 1., 1., 1., 1., 1., 1., 1., 1., 1., 1., 1., 1.,\n",
       "       1., 1., 1., 1., 1., 1., 1., 1., 1., 1., 1., 1., 1., 1., 1., 1., 1.,\n",
       "       1., 1., 1., 1., 1., 1., 1., 1., 1., 1., 1., 1., 1., 1., 1., 1., 1.,\n",
       "       1., 1., 1., 1., 1., 1., 1., 1., 1., 1., 1., 1.], dtype=float32)>"
      ]
     },
     "execution_count": 109,
     "metadata": {},
     "output_type": "execute_result"
    }
   ],
   "source": [
    "y[1,1,:] "
   ]
  },
  {
   "cell_type": "code",
   "execution_count": 94,
   "id": "4a71c6ca-2e04-4e00-8772-b289c5f45577",
   "metadata": {},
   "outputs": [
    {
     "data": {
      "text/html": [
       "<div>\n",
       "<style scoped>\n",
       "    .dataframe tbody tr th:only-of-type {\n",
       "        vertical-align: middle;\n",
       "    }\n",
       "\n",
       "    .dataframe tbody tr th {\n",
       "        vertical-align: top;\n",
       "    }\n",
       "\n",
       "    .dataframe thead th {\n",
       "        text-align: right;\n",
       "    }\n",
       "</style>\n",
       "<table border=\"1\" class=\"dataframe\">\n",
       "  <thead>\n",
       "    <tr style=\"text-align: right;\">\n",
       "      <th></th>\n",
       "      <th>dataset</th>\n",
       "      <th>max_strategy</th>\n",
       "      <th>mean_payoffs_max</th>\n",
       "      <th>mean_payoffs_min</th>\n",
       "      <th>min_strategy</th>\n",
       "      <th>running_time</th>\n",
       "      <th>status</th>\n",
       "      <th>winners_max</th>\n",
       "      <th>winners_min</th>\n",
       "    </tr>\n",
       "    <tr>\n",
       "      <th>graph</th>\n",
       "      <th></th>\n",
       "      <th></th>\n",
       "      <th></th>\n",
       "      <th></th>\n",
       "      <th></th>\n",
       "      <th></th>\n",
       "      <th></th>\n",
       "      <th></th>\n",
       "      <th></th>\n",
       "    </tr>\n",
       "  </thead>\n",
       "  <tbody>\n",
       "  </tbody>\n",
       "</table>\n",
       "</div>"
      ],
      "text/plain": [
       "Empty DataFrame\n",
       "Columns: [dataset, max_strategy, mean_payoffs_max, mean_payoffs_min, min_strategy, running_time, status, winners_max, winners_min]\n",
       "Index: []"
      ]
     },
     "execution_count": 94,
     "metadata": {},
     "output_type": "execute_result"
    }
   ],
   "source": [
    "def equal_element_wise(x,y):\n",
    "    return len(x)==len(y) and np.all(x==y)\n",
    "\n",
    "mask=(df[\"max_strategy\"].map(lambda x:equal_element_wise(x,t)) ) | (df[\"min_strategy\"].map(lambda x: equal_element_wise(x,t)))\n",
    "df[mask]"
   ]
  },
  {
   "cell_type": "code",
   "execution_count": 67,
   "id": "3c1eb6d9-52b0-4641-a322-65999aa22025",
   "metadata": {},
   "outputs": [
    {
     "data": {
      "text/plain": [
       "<tf.Tensor: shape=(250,), dtype=bool, numpy=\n",
       "array([ True,  True,  True,  True,  True,  True,  True,  True,  True,\n",
       "        True,  True,  True,  True,  True,  True,  True,  True,  True,\n",
       "        True,  True,  True,  True,  True,  True,  True,  True,  True,\n",
       "        True,  True,  True,  True,  True,  True,  True,  True,  True,\n",
       "        True,  True,  True,  True,  True,  True,  True,  True,  True,\n",
       "       False,  True,  True,  True,  True,  True,  True,  True,  True,\n",
       "        True,  True,  True,  True,  True,  True,  True,  True,  True,\n",
       "        True,  True,  True,  True,  True,  True,  True,  True,  True,\n",
       "        True,  True,  True,  True,  True,  True,  True,  True,  True,\n",
       "        True,  True,  True,  True,  True,  True,  True, False,  True,\n",
       "        True,  True,  True,  True,  True,  True,  True,  True,  True,\n",
       "        True,  True,  True,  True,  True,  True,  True,  True,  True,\n",
       "        True,  True,  True,  True,  True,  True,  True,  True,  True,\n",
       "        True,  True,  True,  True,  True,  True,  True,  True,  True,\n",
       "        True,  True,  True,  True,  True,  True,  True,  True,  True,\n",
       "        True,  True,  True,  True,  True,  True,  True,  True,  True,\n",
       "        True,  True,  True,  True,  True,  True,  True,  True,  True,\n",
       "        True,  True,  True,  True,  True,  True,  True,  True,  True,\n",
       "        True,  True,  True,  True,  True,  True,  True,  True,  True,\n",
       "        True,  True,  True,  True,  True,  True,  True,  True,  True,\n",
       "        True,  True,  True,  True,  True,  True,  True,  True,  True,\n",
       "        True,  True,  True,  True,  True,  True,  True,  True,  True,\n",
       "        True,  True,  True,  True,  True,  True,  True,  True,  True,\n",
       "        True,  True,  True,  True,  True,  True,  True,  True,  True,\n",
       "        True,  True,  True,  True,  True,  True,  True,  True,  True,\n",
       "        True,  True,  True,  True,  True,  True,  True,  True,  True,\n",
       "        True,  True,  True,  True,  True,  True,  True,  True,  True,\n",
       "        True,  True,  True,  True,  True,  True,  True])>"
      ]
     },
     "execution_count": 67,
     "metadata": {},
     "output_type": "execute_result"
    }
   ],
   "source": [
    "L=[157,223,83,153,215,95,105,110,105,49,143,171,248,88,85,37,245,124,197,42,89,45,60,33,2,37,218,97,45,236,122,8,60,184,165,134,211,237,95,128,206,119,138,32,120,78,207,201,11,22,141,22,182,80,35,162,64,96,138,107,214,218,45,159,162,2,221,70,80,45,138,23,22,68,219,60,136,54,227,208,91,144,150,218,145,6,55,124,97,14,136,62,85,238,207,15,78,207,229,70,62,43,197,197,110,153,141,144,41,228,94,211,44,142,100,43,238,144,206,44,19,110,140,230,9,14,222,117,144,248,150,154,146,123,205,58,85,160,236,178,181,146,214,149,201,211,218,132,196,141,73,196,218,207,85,78,163,218,242,61,149,207,44,68,32,2,90,147,183,138,85,147,236,145,183,170,121,179,170,81,159,159,64,184,55,243,69,86,201,148,41,19,181,55,21,214,122,117,85,171,36,243,22,43,186,136,155,9,64,128,229,170,54,141,46,80,229,51,170,21,123,223,92,24,101,81,243,127,90,105,218,153,188,201,248,54,218,175,64,116,223,150,175,97,26,218,228,45,214,144]\n",
    "y[0,1,:] == L"
   ]
  },
  {
   "cell_type": "code",
   "execution_count": 72,
   "id": "6b64ddd5-a8d9-46ce-a1f7-94d97a21bdfd",
   "metadata": {},
   "outputs": [
    {
     "data": {
      "text/plain": [
       "<tf.Tensor: shape=(3,), dtype=float32, numpy=array([120., 234., 207.], dtype=float32)>"
      ]
     },
     "execution_count": 72,
     "metadata": {},
     "output_type": "execute_result"
    }
   ],
   "source": [
    "y[0,1,44:47]"
   ]
  },
  {
   "cell_type": "code",
   "execution_count": 37,
   "id": "d0c19e40-d905-49b9-adb6-294c1401f981",
   "metadata": {},
   "outputs": [
    {
     "data": {
      "text/html": [
       "<div>\n",
       "<style scoped>\n",
       "    .dataframe tbody tr th:only-of-type {\n",
       "        vertical-align: middle;\n",
       "    }\n",
       "\n",
       "    .dataframe tbody tr th {\n",
       "        vertical-align: top;\n",
       "    }\n",
       "\n",
       "    .dataframe thead th {\n",
       "        text-align: right;\n",
       "    }\n",
       "</style>\n",
       "<table border=\"1\" class=\"dataframe\">\n",
       "  <thead>\n",
       "    <tr style=\"text-align: right;\">\n",
       "      <th></th>\n",
       "      <th>dataset</th>\n",
       "      <th>max_strategy</th>\n",
       "      <th>mean_payoffs_max</th>\n",
       "      <th>mean_payoffs_min</th>\n",
       "      <th>min_strategy</th>\n",
       "      <th>running_time</th>\n",
       "      <th>status</th>\n",
       "      <th>winners_max</th>\n",
       "      <th>winners_min</th>\n",
       "    </tr>\n",
       "    <tr>\n",
       "      <th>graph</th>\n",
       "      <th></th>\n",
       "      <th></th>\n",
       "      <th></th>\n",
       "      <th></th>\n",
       "      <th></th>\n",
       "      <th></th>\n",
       "      <th></th>\n",
       "      <th></th>\n",
       "      <th></th>\n",
       "    </tr>\n",
       "  </thead>\n",
       "  <tbody>\n",
       "    <tr>\n",
       "      <th>gnp_uniform_mpg_250_25_839.edgelist.gz</th>\n",
       "      <td>/lustre/ssd/ws/razo743f-mpg-dataset</td>\n",
       "      <td>[173, 161, 132, 66, 159, 39, 97, 140, 206, 124...</td>\n",
       "      <td>[-424.909, -424.909, -424.909, -424.909, -424....</td>\n",
       "      <td>[-424.909, -424.909, -424.909, -424.909, -424....</td>\n",
       "      <td>[154, 210, 83, 150, 23, 125, 123, 212, 42, 148...</td>\n",
       "      <td>7.023631</td>\n",
       "      <td>OK</td>\n",
       "      <td>[1, 1, 1, 1, 1, 1, 1, 1, 1, 1, 1, 1, 1, 1, 1, ...</td>\n",
       "      <td>[1, 1, 1, 1, 1, 1, 1, 1, 1, 1, 1, 1, 1, 1, 1, ...</td>\n",
       "    </tr>\n",
       "    <tr>\n",
       "      <th>gnp_uniform_mpg_250_50_438.edgelist.gz</th>\n",
       "      <td>/lustre/ssd/ws/razo743f-mpg-dataset</td>\n",
       "      <td>[156, 62, 111, 187, 242, 134, 77, 41, 57, 68, ...</td>\n",
       "      <td>[-229, -217, -210.5, -540.75, -210.5, -210.5, ...</td>\n",
       "      <td>[-210.5, -540.75, -210.5, -217, -210.5, -210.5...</td>\n",
       "      <td>[89, 82, 188, 219, 49, 214, 99, 41, 57, 189, 1...</td>\n",
       "      <td>6.147154</td>\n",
       "      <td>OK</td>\n",
       "      <td>[1, 1, 1, 1, 1, 1, 1, 1, 1, 1, 1, 1, 1, 1, 1, ...</td>\n",
       "      <td>[1, 1, 1, 1, 1, 1, 1, 1, 1, 1, 1, 1, 1, 1, 1, ...</td>\n",
       "    </tr>\n",
       "    <tr>\n",
       "      <th>gnp_uniform_mpg_250_175_833.edgelist.gz</th>\n",
       "      <td>/lustre/ssd/ws/razo743f-mpg-dataset</td>\n",
       "      <td>[245, 247, 180, 92, 24, 164, 140, 38, 137, 242...</td>\n",
       "      <td>[-345, -404.05, -404.05, -345, -404.05, -404.0...</td>\n",
       "      <td>[-404.05, -404.05, -404.05, -404.05, -404.05, ...</td>\n",
       "      <td>[30, 220, 136, 109, 242, 235, 3, 93, 199, 122,...</td>\n",
       "      <td>19.117800</td>\n",
       "      <td>OK</td>\n",
       "      <td>[1, 1, 1, 1, 1, 1, 1, 1, 1, 1, 1, 1, 1, 1, 1, ...</td>\n",
       "      <td>[1, 1, 1, 1, 1, 1, 1, 1, 1, 1, 1, 1, 1, 1, 1, ...</td>\n",
       "    </tr>\n",
       "    <tr>\n",
       "      <th>gnp_uniform_mpg_250_225_403.edgelist.gz</th>\n",
       "      <td>/lustre/ssd/ws/razo743f-mpg-dataset</td>\n",
       "      <td>[246, 188, 241, 249, 247, 46, 17, 57, 94, 37, ...</td>\n",
       "      <td>[444.1, 444.1, 444.1, 444.1, 444.1, 444.1, 444...</td>\n",
       "      <td>[444.1, 444.1, 223.5, 444.1, 444.1, 444.1, 444...</td>\n",
       "      <td>[162, 54, 11, 128, 128, 92, 157, 225, 231, 187...</td>\n",
       "      <td>26.976864</td>\n",
       "      <td>OK</td>\n",
       "      <td>[0, 0, 0, 0, 0, 0, 0, 0, 0, 0, 0, 0, 0, 0, 0, ...</td>\n",
       "      <td>[0, 0, 0, 0, 0, 0, 0, 0, 0, 0, 0, 0, 0, 0, 0, ...</td>\n",
       "    </tr>\n",
       "    <tr>\n",
       "      <th>gnp_uniform_mpg_250_175_336.edgelist.gz</th>\n",
       "      <td>/lustre/ssd/ws/razo743f-mpg-dataset</td>\n",
       "      <td>[43, 191, 40, 48, 43, 195, 112, 7, 166, 43, 48...</td>\n",
       "      <td>[377, 377, 377, 377, 377, 377, 377, 377, 377, ...</td>\n",
       "      <td>[377, 377, 492.5, 377, 377, 377, 377, 377, 377...</td>\n",
       "      <td>[62, 30, 39, 121, 123, 8, 200, 193, 212, 72, 1...</td>\n",
       "      <td>35.757119</td>\n",
       "      <td>OK</td>\n",
       "      <td>[0, 0, 0, 0, 0, 0, 0, 0, 0, 0, 0, 0, 0, 0, 0, ...</td>\n",
       "      <td>[0, 0, 0, 0, 0, 0, 0, 0, 0, 0, 0, 0, 0, 0, 0, ...</td>\n",
       "    </tr>\n",
       "    <tr>\n",
       "      <th>...</th>\n",
       "      <td>...</td>\n",
       "      <td>...</td>\n",
       "      <td>...</td>\n",
       "      <td>...</td>\n",
       "      <td>...</td>\n",
       "      <td>...</td>\n",
       "      <td>...</td>\n",
       "      <td>...</td>\n",
       "      <td>...</td>\n",
       "    </tr>\n",
       "    <tr>\n",
       "      <th>gnp_uniform_mpg_250_75_876.edgelist.gz</th>\n",
       "      <td>/lustre/ssd/ws/razo743f-mpg-dataset</td>\n",
       "      <td>[80, 196, 99, 174, 156, 233, 78, 156, 29, 225,...</td>\n",
       "      <td>[-624, -624, -624, -624, -624, -624, -624, -62...</td>\n",
       "      <td>[-624, -624, -624, -624, -624, -624, -624, -62...</td>\n",
       "      <td>[64, 67, 96, 57, 102, 164, 194, 31, 30, 127, 1...</td>\n",
       "      <td>8.639763</td>\n",
       "      <td>OK</td>\n",
       "      <td>[1, 1, 1, 1, 1, 1, 1, 1, 1, 1, 1, 1, 1, 1, 1, ...</td>\n",
       "      <td>[1, 1, 1, 1, 1, 1, 1, 1, 1, 1, 1, 1, 1, 1, 1, ...</td>\n",
       "    </tr>\n",
       "    <tr>\n",
       "      <th>gnp_uniform_mpg_250_125_723.edgelist.gz</th>\n",
       "      <td>/lustre/ssd/ws/razo743f-mpg-dataset</td>\n",
       "      <td>[152, 170, 29, 183, 24, 104, 212, 70, 98, 44, ...</td>\n",
       "      <td>[-432, -663, -663, -539.5, -432, -663, -663, -...</td>\n",
       "      <td>[-432, -663, -663, -663, -663, -663, -663, -43...</td>\n",
       "      <td>[16, 19, 188, 194, 143, 41, 223, 186, 26, 29, ...</td>\n",
       "      <td>16.271652</td>\n",
       "      <td>OK</td>\n",
       "      <td>[1, 1, 1, 1, 1, 1, 1, 1, 1, 1, 1, 1, 1, 1, 1, ...</td>\n",
       "      <td>[1, 1, 1, 1, 1, 1, 1, 1, 1, 1, 1, 1, 1, 1, 1, ...</td>\n",
       "    </tr>\n",
       "    <tr>\n",
       "      <th>gnp_uniform_mpg_250_75_85.edgelist.gz</th>\n",
       "      <td>/lustre/ssd/ws/razo743f-mpg-dataset</td>\n",
       "      <td>[159, 49, 178, 230, 196, 79, 84, 128, 6, 9, 17...</td>\n",
       "      <td>[423.5, 659.5, 659.5, 659.5, 659.5, 659.5, 659...</td>\n",
       "      <td>[659.5, 659.5, 659.5, 423.5, 659.5, 659.5, 423...</td>\n",
       "      <td>[151, 113, 219, 15, 156, 81, 229, 128, 177, 67...</td>\n",
       "      <td>11.624201</td>\n",
       "      <td>OK</td>\n",
       "      <td>[0, 0, 0, 0, 0, 0, 0, 0, 0, 0, 0, 0, 0, 0, 0, ...</td>\n",
       "      <td>[0, 0, 0, 0, 0, 0, 0, 0, 0, 0, 0, 0, 0, 0, 0, ...</td>\n",
       "    </tr>\n",
       "    <tr>\n",
       "      <th>gnp_uniform_mpg_250_175_305.edgelist.gz</th>\n",
       "      <td>/lustre/ssd/ws/razo743f-mpg-dataset</td>\n",
       "      <td>[221, 187, 90, 187, 207, 126, 193, 246, 226, 2...</td>\n",
       "      <td>[405.5, 657, 297, 657, 657, 297, 657, 297, 405...</td>\n",
       "      <td>[657, 657, 405.5, 657, 657, 405.5, 405.5, 297,...</td>\n",
       "      <td>[146, 164, 244, 205, 63, 100, 113, 18, 21, 156...</td>\n",
       "      <td>17.031210</td>\n",
       "      <td>OK</td>\n",
       "      <td>[0, 0, 0, 0, 0, 0, 0, 0, 0, 0, 0, 0, 0, 0, 0, ...</td>\n",
       "      <td>[0, 0, 0, 0, 0, 0, 0, 0, 0, 0, 0, 0, 0, 0, 0, ...</td>\n",
       "    </tr>\n",
       "    <tr>\n",
       "      <th>gnp_uniform_mpg_250_225_208.edgelist.gz</th>\n",
       "      <td>/lustre/ssd/ws/razo743f-mpg-dataset</td>\n",
       "      <td>[118, 22, 219, 46, 97, 182, 31, 45, 36, 63, 19...</td>\n",
       "      <td>[-831.167, -831.167, -831.167, -831.167, -831....</td>\n",
       "      <td>[-831.167, -831.167, -831.167, -831.167, -831....</td>\n",
       "      <td>[27, 209, 75, 223, 93, 76, 76, 11, 211, 207, 5...</td>\n",
       "      <td>17.514101</td>\n",
       "      <td>OK</td>\n",
       "      <td>[1, 1, 1, 1, 1, 1, 1, 1, 1, 1, 1, 1, 1, 1, 1, ...</td>\n",
       "      <td>[1, 1, 1, 1, 1, 1, 1, 1, 1, 1, 1, 1, 1, 1, 1, ...</td>\n",
       "    </tr>\n",
       "  </tbody>\n",
       "</table>\n",
       "<p>460 rows × 9 columns</p>\n",
       "</div>"
      ],
      "text/plain": [
       "                                                                     dataset  \\\n",
       "graph                                                                          \n",
       "gnp_uniform_mpg_250_25_839.edgelist.gz   /lustre/ssd/ws/razo743f-mpg-dataset   \n",
       "gnp_uniform_mpg_250_50_438.edgelist.gz   /lustre/ssd/ws/razo743f-mpg-dataset   \n",
       "gnp_uniform_mpg_250_175_833.edgelist.gz  /lustre/ssd/ws/razo743f-mpg-dataset   \n",
       "gnp_uniform_mpg_250_225_403.edgelist.gz  /lustre/ssd/ws/razo743f-mpg-dataset   \n",
       "gnp_uniform_mpg_250_175_336.edgelist.gz  /lustre/ssd/ws/razo743f-mpg-dataset   \n",
       "...                                                                      ...   \n",
       "gnp_uniform_mpg_250_75_876.edgelist.gz   /lustre/ssd/ws/razo743f-mpg-dataset   \n",
       "gnp_uniform_mpg_250_125_723.edgelist.gz  /lustre/ssd/ws/razo743f-mpg-dataset   \n",
       "gnp_uniform_mpg_250_75_85.edgelist.gz    /lustre/ssd/ws/razo743f-mpg-dataset   \n",
       "gnp_uniform_mpg_250_175_305.edgelist.gz  /lustre/ssd/ws/razo743f-mpg-dataset   \n",
       "gnp_uniform_mpg_250_225_208.edgelist.gz  /lustre/ssd/ws/razo743f-mpg-dataset   \n",
       "\n",
       "                                                                              max_strategy  \\\n",
       "graph                                                                                        \n",
       "gnp_uniform_mpg_250_25_839.edgelist.gz   [173, 161, 132, 66, 159, 39, 97, 140, 206, 124...   \n",
       "gnp_uniform_mpg_250_50_438.edgelist.gz   [156, 62, 111, 187, 242, 134, 77, 41, 57, 68, ...   \n",
       "gnp_uniform_mpg_250_175_833.edgelist.gz  [245, 247, 180, 92, 24, 164, 140, 38, 137, 242...   \n",
       "gnp_uniform_mpg_250_225_403.edgelist.gz  [246, 188, 241, 249, 247, 46, 17, 57, 94, 37, ...   \n",
       "gnp_uniform_mpg_250_175_336.edgelist.gz  [43, 191, 40, 48, 43, 195, 112, 7, 166, 43, 48...   \n",
       "...                                                                                    ...   \n",
       "gnp_uniform_mpg_250_75_876.edgelist.gz   [80, 196, 99, 174, 156, 233, 78, 156, 29, 225,...   \n",
       "gnp_uniform_mpg_250_125_723.edgelist.gz  [152, 170, 29, 183, 24, 104, 212, 70, 98, 44, ...   \n",
       "gnp_uniform_mpg_250_75_85.edgelist.gz    [159, 49, 178, 230, 196, 79, 84, 128, 6, 9, 17...   \n",
       "gnp_uniform_mpg_250_175_305.edgelist.gz  [221, 187, 90, 187, 207, 126, 193, 246, 226, 2...   \n",
       "gnp_uniform_mpg_250_225_208.edgelist.gz  [118, 22, 219, 46, 97, 182, 31, 45, 36, 63, 19...   \n",
       "\n",
       "                                                                          mean_payoffs_max  \\\n",
       "graph                                                                                        \n",
       "gnp_uniform_mpg_250_25_839.edgelist.gz   [-424.909, -424.909, -424.909, -424.909, -424....   \n",
       "gnp_uniform_mpg_250_50_438.edgelist.gz   [-229, -217, -210.5, -540.75, -210.5, -210.5, ...   \n",
       "gnp_uniform_mpg_250_175_833.edgelist.gz  [-345, -404.05, -404.05, -345, -404.05, -404.0...   \n",
       "gnp_uniform_mpg_250_225_403.edgelist.gz  [444.1, 444.1, 444.1, 444.1, 444.1, 444.1, 444...   \n",
       "gnp_uniform_mpg_250_175_336.edgelist.gz  [377, 377, 377, 377, 377, 377, 377, 377, 377, ...   \n",
       "...                                                                                    ...   \n",
       "gnp_uniform_mpg_250_75_876.edgelist.gz   [-624, -624, -624, -624, -624, -624, -624, -62...   \n",
       "gnp_uniform_mpg_250_125_723.edgelist.gz  [-432, -663, -663, -539.5, -432, -663, -663, -...   \n",
       "gnp_uniform_mpg_250_75_85.edgelist.gz    [423.5, 659.5, 659.5, 659.5, 659.5, 659.5, 659...   \n",
       "gnp_uniform_mpg_250_175_305.edgelist.gz  [405.5, 657, 297, 657, 657, 297, 657, 297, 405...   \n",
       "gnp_uniform_mpg_250_225_208.edgelist.gz  [-831.167, -831.167, -831.167, -831.167, -831....   \n",
       "\n",
       "                                                                          mean_payoffs_min  \\\n",
       "graph                                                                                        \n",
       "gnp_uniform_mpg_250_25_839.edgelist.gz   [-424.909, -424.909, -424.909, -424.909, -424....   \n",
       "gnp_uniform_mpg_250_50_438.edgelist.gz   [-210.5, -540.75, -210.5, -217, -210.5, -210.5...   \n",
       "gnp_uniform_mpg_250_175_833.edgelist.gz  [-404.05, -404.05, -404.05, -404.05, -404.05, ...   \n",
       "gnp_uniform_mpg_250_225_403.edgelist.gz  [444.1, 444.1, 223.5, 444.1, 444.1, 444.1, 444...   \n",
       "gnp_uniform_mpg_250_175_336.edgelist.gz  [377, 377, 492.5, 377, 377, 377, 377, 377, 377...   \n",
       "...                                                                                    ...   \n",
       "gnp_uniform_mpg_250_75_876.edgelist.gz   [-624, -624, -624, -624, -624, -624, -624, -62...   \n",
       "gnp_uniform_mpg_250_125_723.edgelist.gz  [-432, -663, -663, -663, -663, -663, -663, -43...   \n",
       "gnp_uniform_mpg_250_75_85.edgelist.gz    [659.5, 659.5, 659.5, 423.5, 659.5, 659.5, 423...   \n",
       "gnp_uniform_mpg_250_175_305.edgelist.gz  [657, 657, 405.5, 657, 657, 405.5, 405.5, 297,...   \n",
       "gnp_uniform_mpg_250_225_208.edgelist.gz  [-831.167, -831.167, -831.167, -831.167, -831....   \n",
       "\n",
       "                                                                              min_strategy  \\\n",
       "graph                                                                                        \n",
       "gnp_uniform_mpg_250_25_839.edgelist.gz   [154, 210, 83, 150, 23, 125, 123, 212, 42, 148...   \n",
       "gnp_uniform_mpg_250_50_438.edgelist.gz   [89, 82, 188, 219, 49, 214, 99, 41, 57, 189, 1...   \n",
       "gnp_uniform_mpg_250_175_833.edgelist.gz  [30, 220, 136, 109, 242, 235, 3, 93, 199, 122,...   \n",
       "gnp_uniform_mpg_250_225_403.edgelist.gz  [162, 54, 11, 128, 128, 92, 157, 225, 231, 187...   \n",
       "gnp_uniform_mpg_250_175_336.edgelist.gz  [62, 30, 39, 121, 123, 8, 200, 193, 212, 72, 1...   \n",
       "...                                                                                    ...   \n",
       "gnp_uniform_mpg_250_75_876.edgelist.gz   [64, 67, 96, 57, 102, 164, 194, 31, 30, 127, 1...   \n",
       "gnp_uniform_mpg_250_125_723.edgelist.gz  [16, 19, 188, 194, 143, 41, 223, 186, 26, 29, ...   \n",
       "gnp_uniform_mpg_250_75_85.edgelist.gz    [151, 113, 219, 15, 156, 81, 229, 128, 177, 67...   \n",
       "gnp_uniform_mpg_250_175_305.edgelist.gz  [146, 164, 244, 205, 63, 100, 113, 18, 21, 156...   \n",
       "gnp_uniform_mpg_250_225_208.edgelist.gz  [27, 209, 75, 223, 93, 76, 76, 11, 211, 207, 5...   \n",
       "\n",
       "                                         running_time status  \\\n",
       "graph                                                          \n",
       "gnp_uniform_mpg_250_25_839.edgelist.gz       7.023631     OK   \n",
       "gnp_uniform_mpg_250_50_438.edgelist.gz       6.147154     OK   \n",
       "gnp_uniform_mpg_250_175_833.edgelist.gz     19.117800     OK   \n",
       "gnp_uniform_mpg_250_225_403.edgelist.gz     26.976864     OK   \n",
       "gnp_uniform_mpg_250_175_336.edgelist.gz     35.757119     OK   \n",
       "...                                               ...    ...   \n",
       "gnp_uniform_mpg_250_75_876.edgelist.gz       8.639763     OK   \n",
       "gnp_uniform_mpg_250_125_723.edgelist.gz     16.271652     OK   \n",
       "gnp_uniform_mpg_250_75_85.edgelist.gz       11.624201     OK   \n",
       "gnp_uniform_mpg_250_175_305.edgelist.gz     17.031210     OK   \n",
       "gnp_uniform_mpg_250_225_208.edgelist.gz     17.514101     OK   \n",
       "\n",
       "                                                                               winners_max  \\\n",
       "graph                                                                                        \n",
       "gnp_uniform_mpg_250_25_839.edgelist.gz   [1, 1, 1, 1, 1, 1, 1, 1, 1, 1, 1, 1, 1, 1, 1, ...   \n",
       "gnp_uniform_mpg_250_50_438.edgelist.gz   [1, 1, 1, 1, 1, 1, 1, 1, 1, 1, 1, 1, 1, 1, 1, ...   \n",
       "gnp_uniform_mpg_250_175_833.edgelist.gz  [1, 1, 1, 1, 1, 1, 1, 1, 1, 1, 1, 1, 1, 1, 1, ...   \n",
       "gnp_uniform_mpg_250_225_403.edgelist.gz  [0, 0, 0, 0, 0, 0, 0, 0, 0, 0, 0, 0, 0, 0, 0, ...   \n",
       "gnp_uniform_mpg_250_175_336.edgelist.gz  [0, 0, 0, 0, 0, 0, 0, 0, 0, 0, 0, 0, 0, 0, 0, ...   \n",
       "...                                                                                    ...   \n",
       "gnp_uniform_mpg_250_75_876.edgelist.gz   [1, 1, 1, 1, 1, 1, 1, 1, 1, 1, 1, 1, 1, 1, 1, ...   \n",
       "gnp_uniform_mpg_250_125_723.edgelist.gz  [1, 1, 1, 1, 1, 1, 1, 1, 1, 1, 1, 1, 1, 1, 1, ...   \n",
       "gnp_uniform_mpg_250_75_85.edgelist.gz    [0, 0, 0, 0, 0, 0, 0, 0, 0, 0, 0, 0, 0, 0, 0, ...   \n",
       "gnp_uniform_mpg_250_175_305.edgelist.gz  [0, 0, 0, 0, 0, 0, 0, 0, 0, 0, 0, 0, 0, 0, 0, ...   \n",
       "gnp_uniform_mpg_250_225_208.edgelist.gz  [1, 1, 1, 1, 1, 1, 1, 1, 1, 1, 1, 1, 1, 1, 1, ...   \n",
       "\n",
       "                                                                               winners_min  \n",
       "graph                                                                                       \n",
       "gnp_uniform_mpg_250_25_839.edgelist.gz   [1, 1, 1, 1, 1, 1, 1, 1, 1, 1, 1, 1, 1, 1, 1, ...  \n",
       "gnp_uniform_mpg_250_50_438.edgelist.gz   [1, 1, 1, 1, 1, 1, 1, 1, 1, 1, 1, 1, 1, 1, 1, ...  \n",
       "gnp_uniform_mpg_250_175_833.edgelist.gz  [1, 1, 1, 1, 1, 1, 1, 1, 1, 1, 1, 1, 1, 1, 1, ...  \n",
       "gnp_uniform_mpg_250_225_403.edgelist.gz  [0, 0, 0, 0, 0, 0, 0, 0, 0, 0, 0, 0, 0, 0, 0, ...  \n",
       "gnp_uniform_mpg_250_175_336.edgelist.gz  [0, 0, 0, 0, 0, 0, 0, 0, 0, 0, 0, 0, 0, 0, 0, ...  \n",
       "...                                                                                    ...  \n",
       "gnp_uniform_mpg_250_75_876.edgelist.gz   [1, 1, 1, 1, 1, 1, 1, 1, 1, 1, 1, 1, 1, 1, 1, ...  \n",
       "gnp_uniform_mpg_250_125_723.edgelist.gz  [1, 1, 1, 1, 1, 1, 1, 1, 1, 1, 1, 1, 1, 1, 1, ...  \n",
       "gnp_uniform_mpg_250_75_85.edgelist.gz    [0, 0, 0, 0, 0, 0, 0, 0, 0, 0, 0, 0, 0, 0, 0, ...  \n",
       "gnp_uniform_mpg_250_175_305.edgelist.gz  [0, 0, 0, 0, 0, 0, 0, 0, 0, 0, 0, 0, 0, 0, 0, ...  \n",
       "gnp_uniform_mpg_250_225_208.edgelist.gz  [1, 1, 1, 1, 1, 1, 1, 1, 1, 1, 1, 1, 1, 1, 1, ...  \n",
       "\n",
       "[460 rows x 9 columns]"
      ]
     },
     "execution_count": 37,
     "metadata": {},
     "output_type": "execute_result"
    }
   ],
   "source": [
    "df[mask]"
   ]
  },
  {
   "cell_type": "code",
   "execution_count": null,
   "id": "139568b6-3898-4275-834e-a54e4e986bd7",
   "metadata": {},
   "outputs": [],
   "source": [
    "for x in gen.bucket_by_sequence_length(lambda x:x.shape[-1],[20,50,500],[5,5,5,5],pad_to_bucket_boundary=True):\n",
    "    z=x\n",
    "    break"
   ]
  },
  {
   "cell_type": "code",
   "execution_count": 77,
   "id": "f738f618-c411-40e6-b4bc-e4c59b1cbabf",
   "metadata": {},
   "outputs": [
    {
     "data": {
      "text/plain": [
       "True"
      ]
     },
     "execution_count": 77,
     "metadata": {},
     "output_type": "execute_result"
    }
   ],
   "source": []
  },
  {
   "cell_type": "code",
   "execution_count": 74,
   "id": "3a177e19-da8d-406c-8b82-2a13c599e0f2",
   "metadata": {},
   "outputs": [
    {
     "data": {
      "text/plain": [
       "array([[[   1.,    1.,    1., ...,    1.,    1.,    1.],\n",
       "        [   1.,    1.,    1., ...,    1.,    1.,    0.],\n",
       "        [   0.,    1.,    1., ...,    0.,    1.,    1.],\n",
       "        ...,\n",
       "        [   0.,    1.,    0., ...,    1.,    0.,    1.],\n",
       "        [   0.,    1.,    0., ...,    1.,    1.,    1.],\n",
       "        [   0.,    1.,    1., ...,    1.,    1.,    0.]],\n",
       "\n",
       "       [[-702.,  718., -280., ..., -663.,  596.,  320.],\n",
       "        [  94., -271.,  147., ..., -968., -862.,    0.],\n",
       "        [   0., -824.,  998., ...,    0.,  831., -958.],\n",
       "        ...,\n",
       "        [   0.,  141.,    0., ..., -574.,    0.,  953.],\n",
       "        [   0.,  578.,    0., ...,  -90.,  748.,  496.],\n",
       "        [   0.,  236.,  196., ..., -195.,  410.,    0.]]], dtype=float32)"
      ]
     },
     "execution_count": 74,
     "metadata": {},
     "output_type": "execute_result"
    }
   ],
   "source": [
    "import mpg.mpgio as mpgio\n",
    "graph=mpgio.read_mpg(\"/run/media/ramizouari/6cf4ec5b-ccaf-4b2a-a40f-75ddfe64af76/HPC/dataset/dense/gnp_uniform_mpg_250_175_151.edgelist.gz\")\n",
    "graph.tensor_representation"
   ]
  },
  {
   "cell_type": "code",
   "execution_count": 285,
   "id": "a5cb4abe-35b0-44ef-8165-c15bb62ed912",
   "metadata": {},
   "outputs": [
    {
     "ename": "SyntaxError",
     "evalue": "incomplete input (32705229.py, line 1)",
     "output_type": "error",
     "traceback": [
      "\u001b[0;36m  Cell \u001b[0;32mIn[285], line 1\u001b[0;36m\u001b[0m\n\u001b[0;31m    tf.linalg.det(tf.random.uniform([n,n])\u001b[0m\n\u001b[0m                                           ^\u001b[0m\n\u001b[0;31mSyntaxError\u001b[0m\u001b[0;31m:\u001b[0m incomplete input\n"
     ]
    }
   ],
   "source": [
    "tf.linalg.det(tf.random.uniform([n,n]) "
   ]
  },
  {
   "cell_type": "code",
   "execution_count": 1,
   "id": "df229843-0904-4a0a-b47d-901f20354910",
   "metadata": {},
   "outputs": [],
   "source": [
    "import pandas as pd\n",
    "df=pd.read_json(\"/run/media/ramizouari/6cf4ec5b-ccaf-4b2a-a40f-75ddfe64af76/HPC/dataset/targets_dense.json\")\n",
    "df.set_index(\"graph\",inplace=True)\n"
   ]
  },
  {
   "cell_type": "code",
   "execution_count": 468,
   "id": "d3834602-affc-4f22-89e0-83fc2714a9be",
   "metadata": {},
   "outputs": [],
   "source": [
    "filename=\"gnp_uniform_mpg_300_30_108.edgelist.gz\""
   ]
  },
  {
   "cell_type": "code",
   "execution_count": 516,
   "id": "13795737-dd84-4e35-8421-b3fd77d2cf12",
   "metadata": {},
   "outputs": [],
   "source": [
    "B=np.array(df.loc[filename,[\"winners_max\",\"winners_min\"]].to_list()).T\n",
    "A=np.array(df.loc[filename,[\"max_strategy\",\"min_strategy\"]].to_list()).T\n",
    "C=np.stack([B,A],axis=1)"
   ]
  },
  {
   "cell_type": "code",
   "execution_count": 523,
   "id": "13386780-f3aa-465e-b6ff-83b217dada74",
   "metadata": {},
   "outputs": [
    {
     "data": {
      "text/plain": [
       "array([281, 116, 176, 194, 297, 287, 195, 148,  75, 262, 248, 158,  77,\n",
       "       173,  14, 283, 118,   4, 102, 282, 191,  43, 191, 171, 245, 184,\n",
       "       199, 125, 166,  11, 295,  46,  31, 159,  17, 245, 123, 185, 188,\n",
       "       178, 154, 175, 185,  86, 287, 276, 175, 118,  52,  69, 163,  98,\n",
       "       261, 261, 264, 264,  14, 274, 248, 242, 225, 213,  58, 234,  99,\n",
       "        28, 209,  20,  89,  45, 196, 146,  38, 198, 141, 256,  63,  57,\n",
       "       250, 262, 146, 228, 133, 136, 111,  20, 237,  66,  70,  65,  61,\n",
       "       193, 130, 118, 256, 256, 168,  35, 185, 188, 122, 241,  21, 258,\n",
       "       192, 256,   2, 160, 219,  86, 192, 297, 202, 217, 126, 290,  47,\n",
       "        46, 135, 115,  67, 280,   8, 170, 143, 225, 186, 261,  85,   0,\n",
       "        22, 115, 281,  50, 127, 195, 194,  45, 111,  86, 128, 252,  53,\n",
       "       216, 133,  25, 121, 169, 213, 193, 227, 256,  53, 255,   6, 263,\n",
       "        69, 163, 161, 147,  34,  65, 175, 147,  95, 197, 112, 252, 131,\n",
       "       261,  90, 289, 144,  95,  91,  38, 172, 143,  82, 124, 212,   2,\n",
       "        22, 213, 232, 115,   4, 242, 245, 195,  88,  96,  81, 233, 269,\n",
       "        70, 233, 254,  87, 228,  80, 284,  58,  85, 209, 120, 123,  67,\n",
       "       100, 131, 195, 116, 126, 271,  85, 265, 162, 282,  77, 165,  37,\n",
       "       291, 282,  92,  77,  60, 248,  32,  82, 119, 214,  89,  88, 185,\n",
       "        40, 237, 199, 156, 157, 199, 108, 251,  27, 198, 107, 174, 279,\n",
       "       212, 226, 142,  62, 225, 206, 112, 291, 276, 256, 118, 255,  38,\n",
       "       170, 206,  65,  38, 231,  28,  91,  41, 109,  97, 157, 216, 132,\n",
       "        28, 209, 193, 159,  24, 136, 148,  17, 223, 108,  13, 176,  18,\n",
       "       256,  13,  51, 137, 131, 194,  37, 261, 231, 271, 169, 238, 126,\n",
       "       261])"
      ]
     },
     "execution_count": 523,
     "metadata": {},
     "output_type": "execute_result"
    }
   ],
   "source": [
    "C[:,1,0]"
   ]
  },
  {
   "cell_type": "code",
   "execution_count": 14,
   "id": "6b5bf116-67bd-43c0-b8e8-3d1d1bf86ee5",
   "metadata": {},
   "outputs": [],
   "source": [
    "df=df.reset_index()"
   ]
  },
  {
   "cell_type": "code",
   "execution_count": 15,
   "id": "539f996d-2627-4071-94d9-99f4bf2d0d5d",
   "metadata": {},
   "outputs": [
    {
     "data": {
      "text/html": [
       "<div>\n",
       "<style scoped>\n",
       "    .dataframe tbody tr th:only-of-type {\n",
       "        vertical-align: middle;\n",
       "    }\n",
       "\n",
       "    .dataframe tbody tr th {\n",
       "        vertical-align: top;\n",
       "    }\n",
       "\n",
       "    .dataframe thead th {\n",
       "        text-align: right;\n",
       "    }\n",
       "</style>\n",
       "<table border=\"1\" class=\"dataframe\">\n",
       "  <thead>\n",
       "    <tr style=\"text-align: right;\">\n",
       "      <th></th>\n",
       "      <th>graph</th>\n",
       "      <th>dataset</th>\n",
       "      <th>max_strategy</th>\n",
       "      <th>mean_payoffs_max</th>\n",
       "      <th>mean_payoffs_min</th>\n",
       "      <th>min_strategy</th>\n",
       "      <th>running_time</th>\n",
       "      <th>status</th>\n",
       "      <th>winners_max</th>\n",
       "      <th>winners_min</th>\n",
       "    </tr>\n",
       "  </thead>\n",
       "  <tbody>\n",
       "    <tr>\n",
       "      <th>0</th>\n",
       "      <td>gnp_uniform_mpg_300_30_108.edgelist.gz</td>\n",
       "      <td>/lustre/ssd/ws/razo743f-mpg-dataset</td>\n",
       "      <td>[281, 116, 176, 194, 297, 287, 195, 148, 75, 2...</td>\n",
       "      <td>[-344.1, -593.375, -344.1, -344.1, -344.1, -59...</td>\n",
       "      <td>[-344.1, -344.1, -344.1, -344.1, -344.1, -344....</td>\n",
       "      <td>[251, 40, 268, 231, 129, 17, 94, 256, 199, 244...</td>\n",
       "      <td>3.395358</td>\n",
       "      <td>OK</td>\n",
       "      <td>[1, 1, 1, 1, 1, 1, 1, 1, 1, 1, 1, 1, 1, 1, 1, ...</td>\n",
       "      <td>[1, 1, 1, 1, 1, 1, 1, 1, 1, 1, 1, 1, 1, 1, 1, ...</td>\n",
       "    </tr>\n",
       "    <tr>\n",
       "      <th>1</th>\n",
       "      <td>gnp_uniform_mpg_300_30_302.edgelist.gz</td>\n",
       "      <td>/lustre/ssd/ws/razo743f-mpg-dataset</td>\n",
       "      <td>[70, 196, 153, 106, 47, 121, 72, 262, 60, 157,...</td>\n",
       "      <td>[-526.778, -526.778, -526.778, -526.778, -526....</td>\n",
       "      <td>[-526.778, -526.778, -374, -526.778, -526.778,...</td>\n",
       "      <td>[237, 264, 134, 264, 74, 149, 166, 203, 264, 2...</td>\n",
       "      <td>6.332063</td>\n",
       "      <td>OK</td>\n",
       "      <td>[1, 1, 1, 1, 1, 1, 1, 1, 1, 1, 1, 1, 1, 1, 1, ...</td>\n",
       "      <td>[1, 1, 1, 1, 1, 1, 1, 1, 1, 1, 1, 1, 1, 1, 1, ...</td>\n",
       "    </tr>\n",
       "    <tr>\n",
       "      <th>2</th>\n",
       "      <td>gnp_uniform_mpg_30_27_226.edgelist.gz</td>\n",
       "      <td>/lustre/ssd/ws/razo743f-mpg-dataset</td>\n",
       "      <td>[18, 23, 25, 22, 25, 7, 25, 7, 13, 7, 9, 25, 7...</td>\n",
       "      <td>[726, 726, 726, 718, 726, 726, 726, 726, 726, ...</td>\n",
       "      <td>[752.5, 726, 726, 726, 726, 726, 726, 726, 726...</td>\n",
       "      <td>[22, 19, 24, 27, 23, 0, 25, 9, 24, 23, 19, 16,...</td>\n",
       "      <td>0.180240</td>\n",
       "      <td>OK</td>\n",
       "      <td>[0, 0, 0, 0, 0, 0, 0, 0, 0, 0, 0, 0, 0, 0, 0, ...</td>\n",
       "      <td>[0, 0, 0, 0, 0, 0, 0, 0, 0, 0, 0, 0, 0, 0, 0, ...</td>\n",
       "    </tr>\n",
       "    <tr>\n",
       "      <th>3</th>\n",
       "      <td>gnp_uniform_mpg_250_75_22.edgelist.gz</td>\n",
       "      <td>/lustre/ssd/ws/razo743f-mpg-dataset</td>\n",
       "      <td>[33, 73, 46, 103, 140, 70, 6, 141, 173, 237, 1...</td>\n",
       "      <td>[-530.5, -530.5, -530.5, -530.5, -530.5, -530....</td>\n",
       "      <td>[-529.5, -530.5, -530.5, -171.875, -378, -529....</td>\n",
       "      <td>[233, 90, 83, 145, 104, 56, 229, 81, 69, 107, ...</td>\n",
       "      <td>12.761818</td>\n",
       "      <td>OK</td>\n",
       "      <td>[1, 1, 1, 1, 1, 1, 1, 1, 1, 1, 1, 1, 1, 1, 1, ...</td>\n",
       "      <td>[1, 1, 1, 1, 1, 1, 1, 1, 1, 1, 1, 1, 1, 1, 1, ...</td>\n",
       "    </tr>\n",
       "    <tr>\n",
       "      <th>4</th>\n",
       "      <td>gnp_uniform_mpg_60_60_865.edgelist.gz</td>\n",
       "      <td>/lustre/ssd/ws/razo743f-mpg-dataset</td>\n",
       "      <td>[11, 4, 39, 54, 49, 57, 1, 13, 47, 34, 7, 41, ...</td>\n",
       "      <td>[-306.167, -555, -306.167, -555, -555, -306.16...</td>\n",
       "      <td>[-306.167, -555, -555, -555, -555, -306.167, -...</td>\n",
       "      <td>[16, 40, 54, 17, 54, 16, 1, 16, 9, 21, 6, 16, ...</td>\n",
       "      <td>0.820927</td>\n",
       "      <td>OK</td>\n",
       "      <td>[1, 1, 1, 1, 1, 1, 1, 1, 1, 1, 1, 1, 1, 1, 1, ...</td>\n",
       "      <td>[1, 1, 1, 1, 1, 1, 1, 1, 1, 1, 1, 1, 1, 1, 1, ...</td>\n",
       "    </tr>\n",
       "    <tr>\n",
       "      <th>...</th>\n",
       "      <td>...</td>\n",
       "      <td>...</td>\n",
       "      <td>...</td>\n",
       "      <td>...</td>\n",
       "      <td>...</td>\n",
       "      <td>...</td>\n",
       "      <td>...</td>\n",
       "      <td>...</td>\n",
       "      <td>...</td>\n",
       "      <td>...</td>\n",
       "    </tr>\n",
       "    <tr>\n",
       "      <th>159996</th>\n",
       "      <td>gnp_uniform_mpg_70_14_469.edgelist.gz</td>\n",
       "      <td>/lustre/ssd/ws/razo743f-mpg-dataset</td>\n",
       "      <td>[69, 39, 12, 18, 7, 41, 8, 23, 11, 38, 3, 11, ...</td>\n",
       "      <td>[529, 529, 529, 529, 529, 529, 529, 529, 529, ...</td>\n",
       "      <td>[529, 529, 529, 529, 529, 529, 529, 529, 529, ...</td>\n",
       "      <td>[35, 19, 45, 24, 29, 61, 8, 61, 67, 18, 48, 15...</td>\n",
       "      <td>0.165900</td>\n",
       "      <td>OK</td>\n",
       "      <td>[0, 0, 0, 0, 0, 0, 0, 0, 0, 0, 0, 0, 0, 0, 0, ...</td>\n",
       "      <td>[0, 0, 0, 0, 0, 0, 0, 0, 0, 0, 0, 0, 0, 0, 0, ...</td>\n",
       "    </tr>\n",
       "    <tr>\n",
       "      <th>159997</th>\n",
       "      <td>gnp_uniform_mpg_20_14_285.edgelist.gz</td>\n",
       "      <td>/lustre/ssd/ws/razo743f-mpg-dataset</td>\n",
       "      <td>[17, 18, 18, 11, 17, 11, 12, 7, 0, 18, 7, 10, ...</td>\n",
       "      <td>[937, 915, 915, 937, 937, 937, 915, 937, 937, ...</td>\n",
       "      <td>[937, 162, 937, 937, 915, 915, 162, 937, 915, ...</td>\n",
       "      <td>[18, 16, 12, 3, 9, 2, 16, 7, 2, 18, 10, 4, 6, ...</td>\n",
       "      <td>0.092224</td>\n",
       "      <td>OK</td>\n",
       "      <td>[0, 0, 0, 0, 0, 0, 0, 0, 0, 0, 0, 0, 0, 0, 0, ...</td>\n",
       "      <td>[0, 0, 0, 0, 0, 0, 0, 0, 0, 0, 0, 0, 0, 0, 0, ...</td>\n",
       "    </tr>\n",
       "    <tr>\n",
       "      <th>159998</th>\n",
       "      <td>gnp_uniform_mpg_500_100_913.edgelist.gz</td>\n",
       "      <td>/lustre/ssd/ws/razo743f-mpg-dataset</td>\n",
       "      <td>[1, 134, 295, 304, 406, 394, 14, 276, 168, 92,...</td>\n",
       "      <td>[-589.639, -589.639, -589.639, -589.639, -589....</td>\n",
       "      <td>[-589.639, -589.639, -589.639, -589.639, -589....</td>\n",
       "      <td>[252, 482, 215, 460, 23, 488, 186, 424, 268, 4...</td>\n",
       "      <td>29.659051</td>\n",
       "      <td>OK</td>\n",
       "      <td>[1, 1, 1, 1, 1, 1, 1, 1, 1, 1, 1, 1, 1, 1, 1, ...</td>\n",
       "      <td>[1, 1, 1, 1, 1, 1, 1, 1, 1, 1, 1, 1, 1, 1, 1, ...</td>\n",
       "    </tr>\n",
       "    <tr>\n",
       "      <th>159999</th>\n",
       "      <td>gnp_uniform_mpg_150_135_379.edgelist.gz</td>\n",
       "      <td>/lustre/ssd/ws/razo743f-mpg-dataset</td>\n",
       "      <td>[86, 81, 128, 15, 79, 107, 37, 17, 123, 16, 94...</td>\n",
       "      <td>[-910, -451.333, -451.333, -451.333, -451.333,...</td>\n",
       "      <td>[-910, -910, -910, -910, -451.333, -451.333, -...</td>\n",
       "      <td>[79, 99, 128, 128, 28, 43, 62, 74, 41, 12, 69,...</td>\n",
       "      <td>7.047188</td>\n",
       "      <td>OK</td>\n",
       "      <td>[1, 1, 1, 1, 1, 1, 1, 1, 1, 1, 1, 1, 1, 1, 1, ...</td>\n",
       "      <td>[1, 1, 1, 1, 1, 1, 1, 1, 1, 1, 1, 1, 1, 1, 1, ...</td>\n",
       "    </tr>\n",
       "    <tr>\n",
       "      <th>160000</th>\n",
       "      <td>gnp_uniform_mpg_400_80_397.edgelist.gz</td>\n",
       "      <td>/lustre/ssd/ws/razo743f-mpg-dataset</td>\n",
       "      <td>[26, 267, 256, 60, 349, 283, 219, 290, 63, 67,...</td>\n",
       "      <td>[277, 277, 689.375, 277, 277, 689.375, 689.375...</td>\n",
       "      <td>[277, 689.375, 689.375, 277, 277, 689.375, 277...</td>\n",
       "      <td>[220, 227, 32, 153, 296, 389, 332, 206, 341, 3...</td>\n",
       "      <td>68.988797</td>\n",
       "      <td>OK</td>\n",
       "      <td>[0, 0, 0, 0, 0, 0, 0, 0, 0, 0, 0, 0, 0, 0, 0, ...</td>\n",
       "      <td>[0, 0, 0, 0, 0, 0, 0, 0, 0, 0, 0, 0, 0, 0, 0, ...</td>\n",
       "    </tr>\n",
       "  </tbody>\n",
       "</table>\n",
       "<p>160001 rows × 10 columns</p>\n",
       "</div>"
      ],
      "text/plain": [
       "                                          graph  \\\n",
       "0        gnp_uniform_mpg_300_30_108.edgelist.gz   \n",
       "1        gnp_uniform_mpg_300_30_302.edgelist.gz   \n",
       "2         gnp_uniform_mpg_30_27_226.edgelist.gz   \n",
       "3         gnp_uniform_mpg_250_75_22.edgelist.gz   \n",
       "4         gnp_uniform_mpg_60_60_865.edgelist.gz   \n",
       "...                                         ...   \n",
       "159996    gnp_uniform_mpg_70_14_469.edgelist.gz   \n",
       "159997    gnp_uniform_mpg_20_14_285.edgelist.gz   \n",
       "159998  gnp_uniform_mpg_500_100_913.edgelist.gz   \n",
       "159999  gnp_uniform_mpg_150_135_379.edgelist.gz   \n",
       "160000   gnp_uniform_mpg_400_80_397.edgelist.gz   \n",
       "\n",
       "                                    dataset  \\\n",
       "0       /lustre/ssd/ws/razo743f-mpg-dataset   \n",
       "1       /lustre/ssd/ws/razo743f-mpg-dataset   \n",
       "2       /lustre/ssd/ws/razo743f-mpg-dataset   \n",
       "3       /lustre/ssd/ws/razo743f-mpg-dataset   \n",
       "4       /lustre/ssd/ws/razo743f-mpg-dataset   \n",
       "...                                     ...   \n",
       "159996  /lustre/ssd/ws/razo743f-mpg-dataset   \n",
       "159997  /lustre/ssd/ws/razo743f-mpg-dataset   \n",
       "159998  /lustre/ssd/ws/razo743f-mpg-dataset   \n",
       "159999  /lustre/ssd/ws/razo743f-mpg-dataset   \n",
       "160000  /lustre/ssd/ws/razo743f-mpg-dataset   \n",
       "\n",
       "                                             max_strategy  \\\n",
       "0       [281, 116, 176, 194, 297, 287, 195, 148, 75, 2...   \n",
       "1       [70, 196, 153, 106, 47, 121, 72, 262, 60, 157,...   \n",
       "2       [18, 23, 25, 22, 25, 7, 25, 7, 13, 7, 9, 25, 7...   \n",
       "3       [33, 73, 46, 103, 140, 70, 6, 141, 173, 237, 1...   \n",
       "4       [11, 4, 39, 54, 49, 57, 1, 13, 47, 34, 7, 41, ...   \n",
       "...                                                   ...   \n",
       "159996  [69, 39, 12, 18, 7, 41, 8, 23, 11, 38, 3, 11, ...   \n",
       "159997  [17, 18, 18, 11, 17, 11, 12, 7, 0, 18, 7, 10, ...   \n",
       "159998  [1, 134, 295, 304, 406, 394, 14, 276, 168, 92,...   \n",
       "159999  [86, 81, 128, 15, 79, 107, 37, 17, 123, 16, 94...   \n",
       "160000  [26, 267, 256, 60, 349, 283, 219, 290, 63, 67,...   \n",
       "\n",
       "                                         mean_payoffs_max  \\\n",
       "0       [-344.1, -593.375, -344.1, -344.1, -344.1, -59...   \n",
       "1       [-526.778, -526.778, -526.778, -526.778, -526....   \n",
       "2       [726, 726, 726, 718, 726, 726, 726, 726, 726, ...   \n",
       "3       [-530.5, -530.5, -530.5, -530.5, -530.5, -530....   \n",
       "4       [-306.167, -555, -306.167, -555, -555, -306.16...   \n",
       "...                                                   ...   \n",
       "159996  [529, 529, 529, 529, 529, 529, 529, 529, 529, ...   \n",
       "159997  [937, 915, 915, 937, 937, 937, 915, 937, 937, ...   \n",
       "159998  [-589.639, -589.639, -589.639, -589.639, -589....   \n",
       "159999  [-910, -451.333, -451.333, -451.333, -451.333,...   \n",
       "160000  [277, 277, 689.375, 277, 277, 689.375, 689.375...   \n",
       "\n",
       "                                         mean_payoffs_min  \\\n",
       "0       [-344.1, -344.1, -344.1, -344.1, -344.1, -344....   \n",
       "1       [-526.778, -526.778, -374, -526.778, -526.778,...   \n",
       "2       [752.5, 726, 726, 726, 726, 726, 726, 726, 726...   \n",
       "3       [-529.5, -530.5, -530.5, -171.875, -378, -529....   \n",
       "4       [-306.167, -555, -555, -555, -555, -306.167, -...   \n",
       "...                                                   ...   \n",
       "159996  [529, 529, 529, 529, 529, 529, 529, 529, 529, ...   \n",
       "159997  [937, 162, 937, 937, 915, 915, 162, 937, 915, ...   \n",
       "159998  [-589.639, -589.639, -589.639, -589.639, -589....   \n",
       "159999  [-910, -910, -910, -910, -451.333, -451.333, -...   \n",
       "160000  [277, 689.375, 689.375, 277, 277, 689.375, 277...   \n",
       "\n",
       "                                             min_strategy  running_time  \\\n",
       "0       [251, 40, 268, 231, 129, 17, 94, 256, 199, 244...      3.395358   \n",
       "1       [237, 264, 134, 264, 74, 149, 166, 203, 264, 2...      6.332063   \n",
       "2       [22, 19, 24, 27, 23, 0, 25, 9, 24, 23, 19, 16,...      0.180240   \n",
       "3       [233, 90, 83, 145, 104, 56, 229, 81, 69, 107, ...     12.761818   \n",
       "4       [16, 40, 54, 17, 54, 16, 1, 16, 9, 21, 6, 16, ...      0.820927   \n",
       "...                                                   ...           ...   \n",
       "159996  [35, 19, 45, 24, 29, 61, 8, 61, 67, 18, 48, 15...      0.165900   \n",
       "159997  [18, 16, 12, 3, 9, 2, 16, 7, 2, 18, 10, 4, 6, ...      0.092224   \n",
       "159998  [252, 482, 215, 460, 23, 488, 186, 424, 268, 4...     29.659051   \n",
       "159999  [79, 99, 128, 128, 28, 43, 62, 74, 41, 12, 69,...      7.047188   \n",
       "160000  [220, 227, 32, 153, 296, 389, 332, 206, 341, 3...     68.988797   \n",
       "\n",
       "       status                                        winners_max  \\\n",
       "0          OK  [1, 1, 1, 1, 1, 1, 1, 1, 1, 1, 1, 1, 1, 1, 1, ...   \n",
       "1          OK  [1, 1, 1, 1, 1, 1, 1, 1, 1, 1, 1, 1, 1, 1, 1, ...   \n",
       "2          OK  [0, 0, 0, 0, 0, 0, 0, 0, 0, 0, 0, 0, 0, 0, 0, ...   \n",
       "3          OK  [1, 1, 1, 1, 1, 1, 1, 1, 1, 1, 1, 1, 1, 1, 1, ...   \n",
       "4          OK  [1, 1, 1, 1, 1, 1, 1, 1, 1, 1, 1, 1, 1, 1, 1, ...   \n",
       "...       ...                                                ...   \n",
       "159996     OK  [0, 0, 0, 0, 0, 0, 0, 0, 0, 0, 0, 0, 0, 0, 0, ...   \n",
       "159997     OK  [0, 0, 0, 0, 0, 0, 0, 0, 0, 0, 0, 0, 0, 0, 0, ...   \n",
       "159998     OK  [1, 1, 1, 1, 1, 1, 1, 1, 1, 1, 1, 1, 1, 1, 1, ...   \n",
       "159999     OK  [1, 1, 1, 1, 1, 1, 1, 1, 1, 1, 1, 1, 1, 1, 1, ...   \n",
       "160000     OK  [0, 0, 0, 0, 0, 0, 0, 0, 0, 0, 0, 0, 0, 0, 0, ...   \n",
       "\n",
       "                                              winners_min  \n",
       "0       [1, 1, 1, 1, 1, 1, 1, 1, 1, 1, 1, 1, 1, 1, 1, ...  \n",
       "1       [1, 1, 1, 1, 1, 1, 1, 1, 1, 1, 1, 1, 1, 1, 1, ...  \n",
       "2       [0, 0, 0, 0, 0, 0, 0, 0, 0, 0, 0, 0, 0, 0, 0, ...  \n",
       "3       [1, 1, 1, 1, 1, 1, 1, 1, 1, 1, 1, 1, 1, 1, 1, ...  \n",
       "4       [1, 1, 1, 1, 1, 1, 1, 1, 1, 1, 1, 1, 1, 1, 1, ...  \n",
       "...                                                   ...  \n",
       "159996  [0, 0, 0, 0, 0, 0, 0, 0, 0, 0, 0, 0, 0, 0, 0, ...  \n",
       "159997  [0, 0, 0, 0, 0, 0, 0, 0, 0, 0, 0, 0, 0, 0, 0, ...  \n",
       "159998  [1, 1, 1, 1, 1, 1, 1, 1, 1, 1, 1, 1, 1, 1, 1, ...  \n",
       "159999  [1, 1, 1, 1, 1, 1, 1, 1, 1, 1, 1, 1, 1, 1, 1, ...  \n",
       "160000  [0, 0, 0, 0, 0, 0, 0, 0, 0, 0, 0, 0, 0, 0, 0, ...  \n",
       "\n",
       "[160001 rows x 10 columns]"
      ]
     },
     "execution_count": 15,
     "metadata": {},
     "output_type": "execute_result"
    }
   ],
   "source": []
  },
  {
   "cell_type": "code",
   "execution_count": 18,
   "id": "c539707f-72b6-4501-9421-d9d6c999aa54",
   "metadata": {},
   "outputs": [],
   "source": [
    "df.set_index([\"dataset\",\"graph\"],inplace=True)\n"
   ]
  },
  {
   "cell_type": "code",
   "execution_count": 31,
   "id": "d18fceae-d910-4787-9723-fbd232c5d95d",
   "metadata": {},
   "outputs": [
    {
     "name": "stdout",
     "output_type": "stream",
     "text": [
      "('/lustre/ssd/ws/razo743f-mpg-dataset', 'gnp_uniform_mpg_300_30_108.edgelist.gz')\n",
      "('/lustre/ssd/ws/razo743f-mpg-dataset', 'gnp_uniform_mpg_300_30_108.edgelist.gz')\n"
     ]
    }
   ],
   "source": [
    "for _,u in df.iterrows():\n",
    "    print(u.name)\n",
    "    print(_)\n",
    "    break"
   ]
  },
  {
   "cell_type": "code",
   "execution_count": 34,
   "id": "5503d531-abdb-4af8-bc79-5bcac097294d",
   "metadata": {},
   "outputs": [
    {
     "data": {
      "text/plain": [
       "False"
      ]
     },
     "execution_count": 34,
     "metadata": {},
     "output_type": "execute_result"
    }
   ],
   "source": [
    "\"name\" in u.index"
   ]
  },
  {
   "cell_type": "code",
   "execution_count": 40,
   "id": "9c844cb0-c390-41f8-9841-b52986d07c53",
   "metadata": {},
   "outputs": [
    {
     "name": "stdout",
     "output_type": "stream",
     "text": [
      "4\n"
     ]
    }
   ],
   "source": [
    "if \"name\":\n",
    "    s=4\n",
    "else:\n",
    "    s=3\n",
    "print(s)"
   ]
  },
  {
   "cell_type": "code",
   "execution_count": null,
   "id": "85c5ed64-4f75-4203-a81e-b598ee09f482",
   "metadata": {},
   "outputs": [],
   "source": []
  },
  {
   "cell_type": "code",
   "execution_count": null,
   "id": "2a26c113-59da-49d3-9095-86a0ce8dec56",
   "metadata": {},
   "outputs": [],
   "source": []
  }
 ],
 "metadata": {
  "kernelspec": {
   "display_name": "Python 3 (ipykernel)",
   "language": "python",
   "name": "python3"
  },
  "language_info": {
   "codemirror_mode": {
    "name": "ipython",
    "version": 3
   },
   "file_extension": ".py",
   "mimetype": "text/x-python",
   "name": "python",
   "nbconvert_exporter": "python",
   "pygments_lexer": "ipython3",
   "version": "3.10.11"
  }
 },
 "nbformat": 4,
 "nbformat_minor": 5
}
