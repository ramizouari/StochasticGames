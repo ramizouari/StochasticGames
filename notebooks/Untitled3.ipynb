{
 "cells": [
  {
   "cell_type": "code",
   "execution_count": 1,
   "id": "0d14856c-9374-4d05-a167-910286faacfc",
   "metadata": {},
   "outputs": [
    {
     "name": "stderr",
     "output_type": "stream",
     "text": [
      "2023-06-13 03:48:40.053173: I tensorflow/core/platform/cpu_feature_guard.cc:182] This TensorFlow binary is optimized to use available CPU instructions in performance-critical operations.\n",
      "To enable the following instructions: AVX2 FMA, in other operations, rebuild TensorFlow with the appropriate compiler flags.\n",
      "2023-06-13 03:48:40.943696: W tensorflow/compiler/tf2tensorrt/utils/py_utils.cc:38] TF-TRT Warning: Could not find TensorRT\n"
     ]
    }
   ],
   "source": [
    "import tensorflow as tf\n",
    "keras = tf.keras"
   ]
  },
  {
   "cell_type": "code",
   "execution_count": 2,
   "id": "ebca4430-9d85-4c50-b395-051bb4b96073",
   "metadata": {},
   "outputs": [
    {
     "name": "stderr",
     "output_type": "stream",
     "text": [
      "2023-06-11 00:30:47.411439: I tensorflow/compiler/xla/stream_executor/cuda/cuda_gpu_executor.cc:996] successful NUMA node read from SysFS had negative value (-1), but there must be at least one NUMA node, so returning NUMA node zero. See more at https://github.com/torvalds/linux/blob/v6.0/Documentation/ABI/testing/sysfs-bus-pci#L344-L355\n",
      "2023-06-11 00:30:47.483468: I tensorflow/compiler/xla/stream_executor/cuda/cuda_gpu_executor.cc:996] successful NUMA node read from SysFS had negative value (-1), but there must be at least one NUMA node, so returning NUMA node zero. See more at https://github.com/torvalds/linux/blob/v6.0/Documentation/ABI/testing/sysfs-bus-pci#L344-L355\n",
      "2023-06-11 00:30:47.483677: I tensorflow/compiler/xla/stream_executor/cuda/cuda_gpu_executor.cc:996] successful NUMA node read from SysFS had negative value (-1), but there must be at least one NUMA node, so returning NUMA node zero. See more at https://github.com/torvalds/linux/blob/v6.0/Documentation/ABI/testing/sysfs-bus-pci#L344-L355\n",
      "2023-06-11 00:30:47.485061: I tensorflow/compiler/xla/stream_executor/cuda/cuda_gpu_executor.cc:996] successful NUMA node read from SysFS had negative value (-1), but there must be at least one NUMA node, so returning NUMA node zero. See more at https://github.com/torvalds/linux/blob/v6.0/Documentation/ABI/testing/sysfs-bus-pci#L344-L355\n",
      "2023-06-11 00:30:47.485246: I tensorflow/compiler/xla/stream_executor/cuda/cuda_gpu_executor.cc:996] successful NUMA node read from SysFS had negative value (-1), but there must be at least one NUMA node, so returning NUMA node zero. See more at https://github.com/torvalds/linux/blob/v6.0/Documentation/ABI/testing/sysfs-bus-pci#L344-L355\n",
      "2023-06-11 00:30:47.485388: I tensorflow/compiler/xla/stream_executor/cuda/cuda_gpu_executor.cc:996] successful NUMA node read from SysFS had negative value (-1), but there must be at least one NUMA node, so returning NUMA node zero. See more at https://github.com/torvalds/linux/blob/v6.0/Documentation/ABI/testing/sysfs-bus-pci#L344-L355\n",
      "2023-06-11 00:30:48.003156: I tensorflow/compiler/xla/stream_executor/cuda/cuda_gpu_executor.cc:996] successful NUMA node read from SysFS had negative value (-1), but there must be at least one NUMA node, so returning NUMA node zero. See more at https://github.com/torvalds/linux/blob/v6.0/Documentation/ABI/testing/sysfs-bus-pci#L344-L355\n",
      "2023-06-11 00:30:48.003347: I tensorflow/compiler/xla/stream_executor/cuda/cuda_gpu_executor.cc:996] successful NUMA node read from SysFS had negative value (-1), but there must be at least one NUMA node, so returning NUMA node zero. See more at https://github.com/torvalds/linux/blob/v6.0/Documentation/ABI/testing/sysfs-bus-pci#L344-L355\n",
      "2023-06-11 00:30:48.003488: I tensorflow/compiler/xla/stream_executor/cuda/cuda_gpu_executor.cc:996] successful NUMA node read from SysFS had negative value (-1), but there must be at least one NUMA node, so returning NUMA node zero. See more at https://github.com/torvalds/linux/blob/v6.0/Documentation/ABI/testing/sysfs-bus-pci#L344-L355\n",
      "2023-06-11 00:30:48.003606: I tensorflow/core/common_runtime/gpu/gpu_device.cc:1635] Created device /job:localhost/replica:0/task:0/device:GPU:0 with 4234 MB memory:  -> device: 0, name: NVIDIA GeForce GTX 1660 Ti, pci bus id: 0000:01:00.0, compute capability: 7.5\n"
     ]
    }
   ],
   "source": [
    "model=keras.models.load_model(\"/tmp/open_spiel_PVPNet_test_mlp.pb\")"
   ]
  },
  {
   "cell_type": "code",
   "execution_count": 9,
   "id": "3edf87ef-df7f-4697-a214-7d24963a41ee",
   "metadata": {},
   "outputs": [
    {
     "ename": "ValueError",
     "evalue": "in user code:\n\n    File \"/home/ramizouari/anaconda3/envs/StochasticGames/lib/python3.10/site-packages/keras/engine/training.py\", line 2169, in predict_function  *\n        return step_function(self, iterator)\n    File \"/home/ramizouari/anaconda3/envs/StochasticGames/lib/python3.10/site-packages/keras/engine/training.py\", line 2155, in step_function  **\n        outputs = model.distribute_strategy.run(run_step, args=(data,))\n    File \"/home/ramizouari/anaconda3/envs/StochasticGames/lib/python3.10/site-packages/keras/engine/training.py\", line 2143, in run_step  **\n        outputs = model.predict_step(data)\n    File \"/home/ramizouari/anaconda3/envs/StochasticGames/lib/python3.10/site-packages/keras/engine/training.py\", line 2111, in predict_step\n        return self(x, training=False)\n    File \"/home/ramizouari/anaconda3/envs/StochasticGames/lib/python3.10/site-packages/keras/utils/traceback_utils.py\", line 70, in error_handler\n        raise e.with_traceback(filtered_tb) from None\n    File \"/home/ramizouari/anaconda3/envs/StochasticGames/lib/python3.10/site-packages/keras/engine/input_spec.py\", line 197, in assert_input_compatibility\n        raise ValueError(\n\n    ValueError: Missing data for input \"environment\". You passed a data dictionary with keys ['inputs_0', 'inputs_1']. Expected the following keys: ['environment', 'state']\n",
     "output_type": "error",
     "traceback": [
      "\u001b[0;31m---------------------------------------------------------------------------\u001b[0m",
      "\u001b[0;31mValueError\u001b[0m                                Traceback (most recent call last)",
      "Cell \u001b[0;32mIn[9], line 6\u001b[0m\n\u001b[1;32m      4\u001b[0m E\u001b[38;5;241m=\u001b[39mtf\u001b[38;5;241m.\u001b[39mzeros([batch_size,\u001b[38;5;241m*\u001b[39menvironment_shape])\n\u001b[1;32m      5\u001b[0m S\u001b[38;5;241m=\u001b[39mtf\u001b[38;5;241m.\u001b[39mzeros([batch_size,\u001b[38;5;241m*\u001b[39mstate_shape])\n\u001b[0;32m----> 6\u001b[0m \u001b[43mmodel\u001b[49m\u001b[38;5;241;43m.\u001b[39;49m\u001b[43mpredict\u001b[49m\u001b[43m(\u001b[49m\u001b[43m{\u001b[49m\u001b[38;5;124;43m\"\u001b[39;49m\u001b[38;5;124;43minputs_0\u001b[39;49m\u001b[38;5;124;43m\"\u001b[39;49m\u001b[43m:\u001b[49m\u001b[43mE\u001b[49m\u001b[43m,\u001b[49m\u001b[38;5;124;43m\"\u001b[39;49m\u001b[38;5;124;43minputs_1\u001b[39;49m\u001b[38;5;124;43m\"\u001b[39;49m\u001b[43m:\u001b[49m\u001b[43mS\u001b[49m\u001b[43m}\u001b[49m\u001b[43m)\u001b[49m\n",
      "File \u001b[0;32m~/anaconda3/envs/StochasticGames/lib/python3.10/site-packages/keras/utils/traceback_utils.py:70\u001b[0m, in \u001b[0;36mfilter_traceback.<locals>.error_handler\u001b[0;34m(*args, **kwargs)\u001b[0m\n\u001b[1;32m     67\u001b[0m     filtered_tb \u001b[38;5;241m=\u001b[39m _process_traceback_frames(e\u001b[38;5;241m.\u001b[39m__traceback__)\n\u001b[1;32m     68\u001b[0m     \u001b[38;5;66;03m# To get the full stack trace, call:\u001b[39;00m\n\u001b[1;32m     69\u001b[0m     \u001b[38;5;66;03m# `tf.debugging.disable_traceback_filtering()`\u001b[39;00m\n\u001b[0;32m---> 70\u001b[0m     \u001b[38;5;28;01mraise\u001b[39;00m e\u001b[38;5;241m.\u001b[39mwith_traceback(filtered_tb) \u001b[38;5;28;01mfrom\u001b[39;00m \u001b[38;5;28mNone\u001b[39m\n\u001b[1;32m     71\u001b[0m \u001b[38;5;28;01mfinally\u001b[39;00m:\n\u001b[1;32m     72\u001b[0m     \u001b[38;5;28;01mdel\u001b[39;00m filtered_tb\n",
      "File \u001b[0;32m/tmp/__autograph_generated_filer90fyi0p.py:15\u001b[0m, in \u001b[0;36mouter_factory.<locals>.inner_factory.<locals>.tf__predict_function\u001b[0;34m(iterator)\u001b[0m\n\u001b[1;32m     13\u001b[0m \u001b[38;5;28;01mtry\u001b[39;00m:\n\u001b[1;32m     14\u001b[0m     do_return \u001b[38;5;241m=\u001b[39m \u001b[38;5;28;01mTrue\u001b[39;00m\n\u001b[0;32m---> 15\u001b[0m     retval_ \u001b[38;5;241m=\u001b[39m ag__\u001b[38;5;241m.\u001b[39mconverted_call(ag__\u001b[38;5;241m.\u001b[39mld(step_function), (ag__\u001b[38;5;241m.\u001b[39mld(\u001b[38;5;28mself\u001b[39m), ag__\u001b[38;5;241m.\u001b[39mld(iterator)), \u001b[38;5;28;01mNone\u001b[39;00m, fscope)\n\u001b[1;32m     16\u001b[0m \u001b[38;5;28;01mexcept\u001b[39;00m:\n\u001b[1;32m     17\u001b[0m     do_return \u001b[38;5;241m=\u001b[39m \u001b[38;5;28;01mFalse\u001b[39;00m\n",
      "\u001b[0;31mValueError\u001b[0m: in user code:\n\n    File \"/home/ramizouari/anaconda3/envs/StochasticGames/lib/python3.10/site-packages/keras/engine/training.py\", line 2169, in predict_function  *\n        return step_function(self, iterator)\n    File \"/home/ramizouari/anaconda3/envs/StochasticGames/lib/python3.10/site-packages/keras/engine/training.py\", line 2155, in step_function  **\n        outputs = model.distribute_strategy.run(run_step, args=(data,))\n    File \"/home/ramizouari/anaconda3/envs/StochasticGames/lib/python3.10/site-packages/keras/engine/training.py\", line 2143, in run_step  **\n        outputs = model.predict_step(data)\n    File \"/home/ramizouari/anaconda3/envs/StochasticGames/lib/python3.10/site-packages/keras/engine/training.py\", line 2111, in predict_step\n        return self(x, training=False)\n    File \"/home/ramizouari/anaconda3/envs/StochasticGames/lib/python3.10/site-packages/keras/utils/traceback_utils.py\", line 70, in error_handler\n        raise e.with_traceback(filtered_tb) from None\n    File \"/home/ramizouari/anaconda3/envs/StochasticGames/lib/python3.10/site-packages/keras/engine/input_spec.py\", line 197, in assert_input_compatibility\n        raise ValueError(\n\n    ValueError: Missing data for input \"environment\". You passed a data dictionary with keys ['inputs_0', 'inputs_1']. Expected the following keys: ['environment', 'state']\n"
     ]
    }
   ],
   "source": [
    "batch_size=30\n",
    "environment_shape=(20,20,2)\n",
    "state_shape=(1,)\n",
    "E=tf.zeros([batch_size,*environment_shape])\n",
    "S=tf.zeros([batch_size,*state_shape])\n",
    "model.predict({\"inputs_0\":E,\"inputs_1\":S})"
   ]
  },
  {
   "cell_type": "code",
   "execution_count": 10,
   "id": "f1b98cba-5e9b-4653-8f7e-fb96f791108c",
   "metadata": {},
   "outputs": [
    {
     "data": {
      "text/plain": [
       "<keras.engine.functional.Functional at 0x7f2e044627d0>"
      ]
     },
     "execution_count": 10,
     "metadata": {},
     "output_type": "execute_result"
    }
   ],
   "source": [
    "model."
   ]
  },
  {
   "cell_type": "code",
   "execution_count": 317,
   "id": "8d284c1f-ff99-4638-84a4-dd2e92cd89b3",
   "metadata": {},
   "outputs": [],
   "source": [
    "n=100\n",
    "G=tf.cast(tf.random.uniform([n,n]) > 0,dtype=tf.float32)\n",
    "W=tf.random.uniform([n,n]) * G\n",
    "x=tf.random.uniform([n,1])\n",
    "x=tf.stack([x,x])\n",
    "G=tf.stack([G,G])\n",
    "W=tf.stack([W,W])\n",
    "\n",
    "\n",
    "\n",
    "import importlib\n",
    "import mpg.gnn.gcn as gcn\n",
    "import mpg.gnn.aggregator as agg\n",
    "import mpg.gnn.sgcn as sgcn \n",
    "importlib.reload(gcn)\n",
    "importlib.reload(agg)\n",
    "importlib.reload(sgcn)\n",
    "WGCN=gcn.WGCN"
   ]
  },
  {
   "cell_type": "code",
   "execution_count": 320,
   "id": "f294b0d7-2827-41fc-8813-855814745452",
   "metadata": {},
   "outputs": [],
   "source": [
    "layer=WGCN(5,loops=False,normalization=\"unit\")\n",
    "layer2=WGCN(5,loops=False,normalization=\"mean\")\n",
    "Y=layer((G,W,x))\n",
    "Z=layer2((G,W,Y))\n"
   ]
  },
  {
   "cell_type": "code",
   "execution_count": 321,
   "id": "2c7797bc-2ac0-4eeb-a191-09431379ab42",
   "metadata": {},
   "outputs": [
    {
     "data": {
      "text/plain": [
       "<tf.Tensor: shape=(2, 100, 5), dtype=float32, numpy=\n",
       "array([[[ 2.364595 , -5.8917894, -1.6306539,  6.2325687, -6.030709 ],\n",
       "        [ 2.3944468, -5.966171 , -1.6512402,  6.311252 , -6.106844 ],\n",
       "        [ 2.3923035, -5.9608297, -1.649762 ,  6.3056026, -6.101377 ],\n",
       "        [ 2.1069312, -5.2497764, -1.4529657,  5.553422 , -5.373558 ],\n",
       "        [ 2.2156246, -5.5206046, -1.5279222,  5.839915 , -5.650772 ],\n",
       "        [ 2.2426457, -5.5879326, -1.5465562,  5.9111366, -5.719687 ],\n",
       "        [ 2.2155795, -5.520492 , -1.5278909,  5.8397956, -5.6506567],\n",
       "        [ 2.3688703, -5.902442 , -1.6336021,  6.2438374, -6.0416126],\n",
       "        [ 2.0590339, -5.130432 , -1.4199352,  5.427175 , -5.2514   ],\n",
       "        [ 2.1686325, -5.403516 , -1.4955158,  5.7160535, -5.5309224],\n",
       "        [ 2.5228539, -6.2861185, -1.7397912,  6.649706 , -6.434335 ],\n",
       "        [ 2.2568812, -5.6234026, -1.5563732,  5.9486585, -5.755994 ],\n",
       "        [ 2.388234 , -5.95069  , -1.6469556,  6.294876 , -6.090998 ],\n",
       "        [ 2.3148189, -5.7677636, -1.5963277,  6.1013694, -5.9037585],\n",
       "        [ 2.3861654, -5.9455357, -1.6455292,  6.289424 , -6.0857224],\n",
       "        [ 2.236008 , -5.571393 , -1.5419786,  5.8936405, -5.702758 ],\n",
       "        [ 2.2656765, -5.645317 , -1.5624385,  5.971841 , -5.778425 ],\n",
       "        [ 2.2496796, -5.6054587, -1.5514069,  5.9296765, -5.7376266],\n",
       "        [ 2.1099896, -5.257397 , -1.4550749,  5.5614834, -5.381358 ],\n",
       "        [ 2.3093953, -5.75425  , -1.5925876,  6.0870743, -5.8899264],\n",
       "        [ 2.2585487, -5.6275573, -1.557523 ,  5.9530535, -5.7602463],\n",
       "        [ 2.3201232, -5.7809806, -1.5999856,  6.1153507, -5.9172873],\n",
       "        [ 2.3576174, -5.8744035, -1.6258421,  6.214177 , -6.0129128],\n",
       "        [ 2.3309963, -5.8080726, -1.6074837,  6.1440096, -5.945018 ],\n",
       "        [ 2.2831154, -5.6887693, -1.5744646,  6.017806 , -5.8229017],\n",
       "        [ 2.376977 , -5.9226413, -1.6391926,  6.265205 , -6.062288 ],\n",
       "        [ 2.068851 , -5.154893 , -1.4267051,  5.4530506, -5.2764373],\n",
       "        [ 2.1615953, -5.3859816, -1.4906628,  5.697505 , -5.5129747],\n",
       "        [ 2.200119 , -5.4819694, -1.5172292,  5.799045 , -5.611226 ],\n",
       "        [ 2.4504945, -6.1058226, -1.6898912,  6.4589815, -6.2497883],\n",
       "        [ 2.3421214, -5.8357925, -1.6151558,  6.173333 , -5.9733915],\n",
       "        [ 2.2274306, -5.550021 , -1.5360637,  5.8710327, -5.680882 ],\n",
       "        [ 2.35102  , -5.8579655, -1.6212925,  6.1967883, -5.996087 ],\n",
       "        [ 2.43908  , -6.077381 , -1.6820196,  6.4288955, -6.2206764],\n",
       "        [ 2.1065507, -5.2488284, -1.4527034,  5.552419 , -5.3725877],\n",
       "        [ 2.2986245, -5.727413 , -1.5851599,  6.058685 , -5.8624563],\n",
       "        [ 2.245227 , -5.594364 , -1.5483363,  5.9179406, -5.7262707],\n",
       "        [ 2.2613661, -5.6345773, -1.559466 ,  5.9604797, -5.767432 ],\n",
       "        [ 2.0682135, -5.153305 , -1.4262656,  5.4513707, -5.2748117],\n",
       "        [ 2.2105768, -5.508027 , -1.524441 ,  5.8266096, -5.6378975],\n",
       "        [ 2.2282453, -5.552051 , -1.5366255,  5.8731804, -5.68296  ],\n",
       "        [ 2.181567 , -5.435744 , -1.5044354,  5.750146 , -5.5639105],\n",
       "        [ 2.3396914, -5.8297377, -1.61348  ,  6.1669283, -5.967194 ],\n",
       "        [ 2.3060727, -5.745971 , -1.5902963,  6.0783167, -5.8814526],\n",
       "        [ 2.3156528, -5.769842 , -1.5969028,  6.103568 , -5.9058857],\n",
       "        [ 2.0691688, -5.155685 , -1.4269243,  5.4538884, -5.277248 ],\n",
       "        [ 2.2754517, -5.669674 , -1.5691797,  5.9976063, -5.803356 ],\n",
       "        [ 2.327178 , -5.798559 , -1.6048508,  6.133946 , -5.9352803],\n",
       "        [ 2.436917 , -6.0719924, -1.680528 ,  6.4231944, -6.2151604],\n",
       "        [ 2.2564263, -5.622269 , -1.5560595,  5.9474597, -5.7548337],\n",
       "        [ 2.3271666, -5.7985306, -1.6048428,  6.1339154, -5.9352508],\n",
       "        [ 2.261492 , -5.634891 , -1.5595529,  5.9608116, -5.767753 ],\n",
       "        [ 2.2916021, -5.7099156, -1.5803171,  6.0401754, -5.8445463],\n",
       "        [ 2.3385177, -5.8268137, -1.6126707,  6.163835 , -5.964201 ],\n",
       "        [ 2.3256814, -5.79483  , -1.6038187,  6.130001 , -5.931463 ],\n",
       "        [ 2.2815657, -5.6849074, -1.5733957,  6.013721 , -5.8189487],\n",
       "        [ 2.316043 , -5.770814 , -1.5971718,  6.104596 , -5.9068804],\n",
       "        [ 2.2210097, -5.534023 , -1.5316358,  5.854109 , -5.6645064],\n",
       "        [ 2.174066 , -5.4170547, -1.4992628,  5.7303753, -5.5447803],\n",
       "        [ 2.1367643, -5.324111 , -1.4735391,  5.6320558, -5.449645 ],\n",
       "        [ 2.3548224, -5.8674397, -1.6239146,  6.2068105, -6.005785 ],\n",
       "        [ 2.3133428, -5.7640862, -1.5953097,  6.0974793, -5.8999944],\n",
       "        [ 2.112486 , -5.2636166, -1.4567963,  5.568063 , -5.387725 ],\n",
       "        [ 2.1722453, -5.4125175, -1.4980072,  5.725576 , -5.5401363],\n",
       "        [ 2.2591588, -5.6290774, -1.5579438,  5.9546614, -5.761802 ],\n",
       "        [ 2.3247235, -5.792443 , -1.603158 ,  6.127476 , -5.92902  ],\n",
       "        [ 2.2508073, -5.6082683, -1.5521846,  5.932649 , -5.740503 ],\n",
       "        [ 2.2378788, -5.5760546, -1.5432688,  5.898572 , -5.707529 ],\n",
       "        [ 2.3812857, -5.9333773, -1.642164 ,  6.2765617, -6.073277 ],\n",
       "        [ 2.1871934, -5.4497633, -1.5083156,  5.764976 , -5.57826  ],\n",
       "        [ 2.331343 , -5.808936 , -1.6077229,  6.1449237, -5.945902 ],\n",
       "        [ 2.2417345, -5.5856614, -1.5459278,  5.908735 , -5.717363 ],\n",
       "        [ 2.2475715, -5.6002054, -1.549953 ,  5.92412  , -5.7322497],\n",
       "        [ 2.2106788, -5.5082817, -1.5245115,  5.826879 , -5.6381583],\n",
       "        [ 2.3172414, -5.7738   , -1.5979983,  6.1077547, -5.9099374],\n",
       "        [ 2.2447653, -5.5932136, -1.5480179,  5.9167233, -5.725093 ],\n",
       "        [ 2.2613695, -5.6345854, -1.5594683,  5.9604883, -5.7674403],\n",
       "        [ 2.1895132, -5.455544 , -1.5099154,  5.771091 , -5.584177 ],\n",
       "        [ 2.4322846, -6.06045  , -1.6773336,  6.4109845, -6.203346 ],\n",
       "        [ 2.170705 , -5.4086804, -1.4969451,  5.7215166, -5.5362086],\n",
       "        [ 2.2060535, -5.4967566, -1.5213218,  5.8146873, -5.6263614],\n",
       "        [ 2.2828188, -5.6880302, -1.57426  ,  6.017024 , -5.822145 ],\n",
       "        [ 2.165901 , -5.39671  , -1.4936321,  5.708854 , -5.523956 ],\n",
       "        [ 2.305202 , -5.7438016, -1.5896958,  6.0760217, -5.879232 ],\n",
       "        [ 2.217195 , -5.5245175, -1.529005 ,  5.8440537, -5.654777 ],\n",
       "        [ 2.305462 , -5.7444496, -1.589875 ,  6.076707 , -5.8798947],\n",
       "        [ 2.4281073, -6.050041 , -1.6744528,  6.399974 , -6.192692 ],\n",
       "        [ 2.3632917, -5.888542 , -1.6297551,  6.229134 , -6.027385 ],\n",
       "        [ 2.2304277, -5.5574894, -1.5381305,  5.878933 , -5.688526 ],\n",
       "        [ 2.2173748, -5.524966 , -1.5291291,  5.844528 , -5.655236 ],\n",
       "        [ 2.2548482, -5.618337 , -1.5549712,  5.9433   , -5.7508087],\n",
       "        [ 2.4932036, -6.21224  , -1.7193441,  6.571554 , -6.358715 ],\n",
       "        [ 2.2899911, -5.7059016, -1.5792062,  6.035929 , -5.840438 ],\n",
       "        [ 2.0909474, -5.2099504, -1.4419432,  5.5112925, -5.3327928],\n",
       "        [ 2.2283683, -5.5523577, -1.5367103,  5.873504 , -5.6832733],\n",
       "        [ 2.3194518, -5.779308 , -1.5995226,  6.113581 , -5.9155746],\n",
       "        [ 2.2493262, -5.604578 , -1.5511632,  5.9287453, -5.7367253],\n",
       "        [ 2.358011 , -5.875385 , -1.6261135,  6.215215 , -6.013917 ],\n",
       "        [ 2.3252778, -5.793824 , -1.6035403,  6.1289372, -5.9304333],\n",
       "        [ 2.4056478, -5.994079 , -1.6589644,  6.340775 , -6.1354103]],\n",
       "\n",
       "       [[ 2.364595 , -5.8917894, -1.6306539,  6.2325687, -6.030709 ],\n",
       "        [ 2.3944468, -5.966171 , -1.6512402,  6.311252 , -6.106844 ],\n",
       "        [ 2.3923035, -5.9608297, -1.649762 ,  6.3056026, -6.101377 ],\n",
       "        [ 2.1069312, -5.2497764, -1.4529657,  5.553422 , -5.373558 ],\n",
       "        [ 2.2156246, -5.5206046, -1.5279222,  5.839915 , -5.650772 ],\n",
       "        [ 2.2426457, -5.5879326, -1.5465562,  5.9111366, -5.719687 ],\n",
       "        [ 2.2155795, -5.520492 , -1.5278909,  5.8397956, -5.6506567],\n",
       "        [ 2.3688703, -5.902442 , -1.6336021,  6.2438374, -6.0416126],\n",
       "        [ 2.0590339, -5.130432 , -1.4199352,  5.427175 , -5.2514   ],\n",
       "        [ 2.1686325, -5.403516 , -1.4955158,  5.7160535, -5.5309224],\n",
       "        [ 2.5228539, -6.2861185, -1.7397912,  6.649706 , -6.434335 ],\n",
       "        [ 2.2568812, -5.6234026, -1.5563732,  5.9486585, -5.755994 ],\n",
       "        [ 2.388234 , -5.95069  , -1.6469556,  6.294876 , -6.090998 ],\n",
       "        [ 2.3148189, -5.7677636, -1.5963277,  6.1013694, -5.9037585],\n",
       "        [ 2.3861654, -5.9455357, -1.6455292,  6.289424 , -6.0857224],\n",
       "        [ 2.236008 , -5.571393 , -1.5419786,  5.8936405, -5.702758 ],\n",
       "        [ 2.2656765, -5.645317 , -1.5624385,  5.971841 , -5.778425 ],\n",
       "        [ 2.2496796, -5.6054587, -1.5514069,  5.9296765, -5.7376266],\n",
       "        [ 2.1099896, -5.257397 , -1.4550749,  5.5614834, -5.381358 ],\n",
       "        [ 2.3093953, -5.75425  , -1.5925876,  6.0870743, -5.8899264],\n",
       "        [ 2.2585487, -5.6275573, -1.557523 ,  5.9530535, -5.7602463],\n",
       "        [ 2.3201232, -5.7809806, -1.5999856,  6.1153507, -5.9172873],\n",
       "        [ 2.3576174, -5.8744035, -1.6258421,  6.214177 , -6.0129128],\n",
       "        [ 2.3309963, -5.8080726, -1.6074837,  6.1440096, -5.945018 ],\n",
       "        [ 2.2831154, -5.6887693, -1.5744646,  6.017806 , -5.8229017],\n",
       "        [ 2.376977 , -5.9226413, -1.6391926,  6.265205 , -6.062288 ],\n",
       "        [ 2.068851 , -5.154893 , -1.4267051,  5.4530506, -5.2764373],\n",
       "        [ 2.1615953, -5.3859816, -1.4906628,  5.697505 , -5.5129747],\n",
       "        [ 2.200119 , -5.4819694, -1.5172292,  5.799045 , -5.611226 ],\n",
       "        [ 2.4504945, -6.1058226, -1.6898912,  6.4589815, -6.2497883],\n",
       "        [ 2.3421214, -5.8357925, -1.6151558,  6.173333 , -5.9733915],\n",
       "        [ 2.2274306, -5.550021 , -1.5360637,  5.8710327, -5.680882 ],\n",
       "        [ 2.35102  , -5.8579655, -1.6212925,  6.1967883, -5.996087 ],\n",
       "        [ 2.43908  , -6.077381 , -1.6820196,  6.4288955, -6.2206764],\n",
       "        [ 2.1065507, -5.2488284, -1.4527034,  5.552419 , -5.3725877],\n",
       "        [ 2.2986245, -5.727413 , -1.5851599,  6.058685 , -5.8624563],\n",
       "        [ 2.245227 , -5.594364 , -1.5483363,  5.9179406, -5.7262707],\n",
       "        [ 2.2613661, -5.6345773, -1.559466 ,  5.9604797, -5.767432 ],\n",
       "        [ 2.0682135, -5.153305 , -1.4262656,  5.4513707, -5.2748117],\n",
       "        [ 2.2105768, -5.508027 , -1.524441 ,  5.8266096, -5.6378975],\n",
       "        [ 2.2282453, -5.552051 , -1.5366255,  5.8731804, -5.68296  ],\n",
       "        [ 2.181567 , -5.435744 , -1.5044354,  5.750146 , -5.5639105],\n",
       "        [ 2.3396914, -5.8297377, -1.61348  ,  6.1669283, -5.967194 ],\n",
       "        [ 2.3060727, -5.745971 , -1.5902963,  6.0783167, -5.8814526],\n",
       "        [ 2.3156528, -5.769842 , -1.5969028,  6.103568 , -5.9058857],\n",
       "        [ 2.0691688, -5.155685 , -1.4269243,  5.4538884, -5.277248 ],\n",
       "        [ 2.2754517, -5.669674 , -1.5691797,  5.9976063, -5.803356 ],\n",
       "        [ 2.327178 , -5.798559 , -1.6048508,  6.133946 , -5.9352803],\n",
       "        [ 2.436917 , -6.0719924, -1.680528 ,  6.4231944, -6.2151604],\n",
       "        [ 2.2564263, -5.622269 , -1.5560595,  5.9474597, -5.7548337],\n",
       "        [ 2.3271666, -5.7985306, -1.6048428,  6.1339154, -5.9352508],\n",
       "        [ 2.261492 , -5.634891 , -1.5595529,  5.9608116, -5.767753 ],\n",
       "        [ 2.2916021, -5.7099156, -1.5803171,  6.0401754, -5.8445463],\n",
       "        [ 2.3385177, -5.8268137, -1.6126707,  6.163835 , -5.964201 ],\n",
       "        [ 2.3256814, -5.79483  , -1.6038187,  6.130001 , -5.931463 ],\n",
       "        [ 2.2815657, -5.6849074, -1.5733957,  6.013721 , -5.8189487],\n",
       "        [ 2.316043 , -5.770814 , -1.5971718,  6.104596 , -5.9068804],\n",
       "        [ 2.2210097, -5.534023 , -1.5316358,  5.854109 , -5.6645064],\n",
       "        [ 2.174066 , -5.4170547, -1.4992628,  5.7303753, -5.5447803],\n",
       "        [ 2.1367643, -5.324111 , -1.4735391,  5.6320558, -5.449645 ],\n",
       "        [ 2.3548224, -5.8674397, -1.6239146,  6.2068105, -6.005785 ],\n",
       "        [ 2.3133428, -5.7640862, -1.5953097,  6.0974793, -5.8999944],\n",
       "        [ 2.112486 , -5.2636166, -1.4567963,  5.568063 , -5.387725 ],\n",
       "        [ 2.1722453, -5.4125175, -1.4980072,  5.725576 , -5.5401363],\n",
       "        [ 2.2591588, -5.6290774, -1.5579438,  5.9546614, -5.761802 ],\n",
       "        [ 2.3247235, -5.792443 , -1.603158 ,  6.127476 , -5.92902  ],\n",
       "        [ 2.2508073, -5.6082683, -1.5521846,  5.932649 , -5.740503 ],\n",
       "        [ 2.2378788, -5.5760546, -1.5432688,  5.898572 , -5.707529 ],\n",
       "        [ 2.3812857, -5.9333773, -1.642164 ,  6.2765617, -6.073277 ],\n",
       "        [ 2.1871934, -5.4497633, -1.5083156,  5.764976 , -5.57826  ],\n",
       "        [ 2.331343 , -5.808936 , -1.6077229,  6.1449237, -5.945902 ],\n",
       "        [ 2.2417345, -5.5856614, -1.5459278,  5.908735 , -5.717363 ],\n",
       "        [ 2.2475715, -5.6002054, -1.549953 ,  5.92412  , -5.7322497],\n",
       "        [ 2.2106788, -5.5082817, -1.5245115,  5.826879 , -5.6381583],\n",
       "        [ 2.3172414, -5.7738   , -1.5979983,  6.1077547, -5.9099374],\n",
       "        [ 2.2447653, -5.5932136, -1.5480179,  5.9167233, -5.725093 ],\n",
       "        [ 2.2613695, -5.6345854, -1.5594683,  5.9604883, -5.7674403],\n",
       "        [ 2.1895132, -5.455544 , -1.5099154,  5.771091 , -5.584177 ],\n",
       "        [ 2.4322846, -6.06045  , -1.6773336,  6.4109845, -6.203346 ],\n",
       "        [ 2.170705 , -5.4086804, -1.4969451,  5.7215166, -5.5362086],\n",
       "        [ 2.2060535, -5.4967566, -1.5213218,  5.8146873, -5.6263614],\n",
       "        [ 2.2828188, -5.6880302, -1.57426  ,  6.017024 , -5.822145 ],\n",
       "        [ 2.165901 , -5.39671  , -1.4936321,  5.708854 , -5.523956 ],\n",
       "        [ 2.305202 , -5.7438016, -1.5896958,  6.0760217, -5.879232 ],\n",
       "        [ 2.217195 , -5.5245175, -1.529005 ,  5.8440537, -5.654777 ],\n",
       "        [ 2.305462 , -5.7444496, -1.589875 ,  6.076707 , -5.8798947],\n",
       "        [ 2.4281073, -6.050041 , -1.6744528,  6.399974 , -6.192692 ],\n",
       "        [ 2.3632917, -5.888542 , -1.6297551,  6.229134 , -6.027385 ],\n",
       "        [ 2.2304277, -5.5574894, -1.5381305,  5.878933 , -5.688526 ],\n",
       "        [ 2.2173748, -5.524966 , -1.5291291,  5.844528 , -5.655236 ],\n",
       "        [ 2.2548482, -5.618337 , -1.5549712,  5.9433   , -5.7508087],\n",
       "        [ 2.4932036, -6.21224  , -1.7193441,  6.571554 , -6.358715 ],\n",
       "        [ 2.2899911, -5.7059016, -1.5792062,  6.035929 , -5.840438 ],\n",
       "        [ 2.0909474, -5.2099504, -1.4419432,  5.5112925, -5.3327928],\n",
       "        [ 2.2283683, -5.5523577, -1.5367103,  5.873504 , -5.6832733],\n",
       "        [ 2.3194518, -5.779308 , -1.5995226,  6.113581 , -5.9155746],\n",
       "        [ 2.2493262, -5.604578 , -1.5511632,  5.9287453, -5.7367253],\n",
       "        [ 2.358011 , -5.875385 , -1.6261135,  6.215215 , -6.013917 ],\n",
       "        [ 2.3252778, -5.793824 , -1.6035403,  6.1289372, -5.9304333],\n",
       "        [ 2.4056478, -5.994079 , -1.6589644,  6.340775 , -6.1354103]]],\n",
       "      dtype=float32)>"
      ]
     },
     "execution_count": 321,
     "metadata": {},
     "output_type": "execute_result"
    }
   ],
   "source": [
    "Y"
   ]
  },
  {
   "cell_type": "code",
   "execution_count": 218,
   "id": "29e33372-1ede-4393-bedb-3ac6dc364d03",
   "metadata": {},
   "outputs": [
    {
     "data": {
      "text/plain": [
       "[<tf.Variable 'TAGConv/kernel:0' shape=(1, 5, 2) dtype=float32, numpy=\n",
       " array([[[-0.04742214, -0.14084202],\n",
       "         [-0.41123575,  0.13933949],\n",
       "         [ 0.72605807,  0.03667752],\n",
       "         [-1.2124313 ,  0.43771482],\n",
       "         [-0.48633334,  0.4591117 ]]], dtype=float32)>]"
      ]
     },
     "execution_count": 219,
     "metadata": {},
     "output_type": "execute_result"
    }
   ],
   "source": []
  },
  {
   "cell_type": "code",
   "execution_count": 163,
   "id": "2a1b71b1-7f3f-4fc1-8a6d-f664336669a4",
   "metadata": {},
   "outputs": [],
   "source": [
    "aggregator1=agg.SumAggregation(loops=True,with_weights=False,normalization=\"unit\")\n",
    "def f(A,x):\n",
    "    matrices=A\n",
    "    matrices=matrices + tf.eye(num_rows=matrices.shape[-1],batch_shape=matrices.shape[:-2])\n",
    "    degrees=tf.reduce_sum(matrices,axis=-1)\n",
    "    D=tf.sqrt(tf.linalg.diag(degrees))\n",
    "    return tf.linalg.matmul(tf.linalg.matmul(tf.linalg.pinv(D),tf.linalg.matmul(matrices,tf.linalg.pinv(D))),x)\n",
    "\n",
    "data=tf.ones([2,5,1])"
   ]
  },
  {
   "cell_type": "code",
   "execution_count": 168,
   "id": "b83a3775-a7a4-4636-8398-d9ef274412cc",
   "metadata": {},
   "outputs": [
    {
     "data": {
      "text/plain": [
       "<tf.Tensor: shape=(2, 5, 1), dtype=float32, numpy=\n",
       "array([[[0.2452044 ],\n",
       "        [0.6565305 ],\n",
       "        [0.64284056],\n",
       "        [0.4892034 ],\n",
       "        [0.52406955]],\n",
       "\n",
       "       [[0.2452044 ],\n",
       "        [0.6565305 ],\n",
       "        [0.64284056],\n",
       "        [0.4892034 ],\n",
       "        [0.52406955]]], dtype=float32)>"
      ]
     },
     "execution_count": 168,
     "metadata": {},
     "output_type": "execute_result"
    }
   ],
   "source": [
    "f(G,x)"
   ]
  },
  {
   "cell_type": "code",
   "execution_count": 169,
   "id": "728bca6b-d575-4bf1-8ec2-be9ce2687f5e",
   "metadata": {},
   "outputs": [
    {
     "data": {
      "text/plain": [
       "<tf.Tensor: shape=(2, 5, 1), dtype=float32, numpy=\n",
       "array([[[0.2452044 ],\n",
       "        [0.6565305 ],\n",
       "        [0.64284056],\n",
       "        [0.48920345],\n",
       "        [0.52406955]],\n",
       "\n",
       "       [[0.2452044 ],\n",
       "        [0.6565305 ],\n",
       "        [0.64284056],\n",
       "        [0.48920345],\n",
       "        [0.52406955]]], dtype=float32)>"
      ]
     },
     "execution_count": 169,
     "metadata": {},
     "output_type": "execute_result"
    }
   ],
   "source": [
    "aggregator1((G,x))"
   ]
  },
  {
   "cell_type": "code",
   "execution_count": 170,
   "id": "a0264c5f-36cf-40a2-b49f-95ec8c3270b3",
   "metadata": {},
   "outputs": [
    {
     "data": {
      "text/plain": [
       "array([[[0.2452044 ],\n",
       "        [0.65653056],\n",
       "        [0.64284056],\n",
       "        [0.48920345],\n",
       "        [0.52406955]],\n",
       "\n",
       "       [[0.2452044 ],\n",
       "        [0.65653056],\n",
       "        [0.64284056],\n",
       "        [0.48920345],\n",
       "        [0.52406955]]])"
      ]
     },
     "execution_count": 170,
     "metadata": {},
     "output_type": "execute_result"
    }
   ],
   "source": [
    "import numpy as np\n",
    "P=np.zeros([2,5,1])\n",
    "degree = tf.reduce_sum(G,axis=-1) +1 \n",
    "for b in range(2):\n",
    "    \n",
    "    for i in range(5):\n",
    "        P[b,i,0] = x[b,i,0] / degree[b,i]\n",
    "        for j in range(5):\n",
    "            P[b,i,0] += G[b,i,j]*x[b,j,0] / np.sqrt(degree[b,i] * degree[b,j])\n",
    "P"
   ]
  },
  {
   "cell_type": "code",
   "execution_count": 167,
   "id": "3098eddb-a1e6-4748-b18f-b66d2b739993",
   "metadata": {},
   "outputs": [
    {
     "data": {
      "text/plain": [
       "<tf.Tensor: shape=(2, 5, 1), dtype=float32, numpy=\n",
       "array([[[0.90824825],\n",
       "        [1.        ],\n",
       "        [1.1422286 ],\n",
       "        [1.0749149 ],\n",
       "        [1.        ]],\n",
       "\n",
       "       [[0.90824825],\n",
       "        [1.        ],\n",
       "        [1.1422286 ],\n",
       "        [1.0749149 ],\n",
       "        [1.        ]]], dtype=float32)>"
      ]
     },
     "execution_count": 167,
     "metadata": {},
     "output_type": "execute_result"
    }
   ],
   "source": [
    "matrices=G\n",
    "matrices=matrices + tf.eye(num_rows=matrices.shape[-1],batch_shape=matrices.shape[:-2])\n",
    "degrees=tf.reduce_sum(matrices,axis=-1,keepdims=True)\n",
    "tf.linalg.matmul(matrices, data / tf.math.sqrt(degrees))/tf.math.sqrt(degrees)"
   ]
  },
  {
   "cell_type": "code",
   "execution_count": 154,
   "id": "b5db2020-5bb7-48a5-b948-29397fe1bfb8",
   "metadata": {},
   "outputs": [
    {
     "data": {
      "text/plain": [
       "TensorShape([2, 5])"
      ]
     },
     "execution_count": 154,
     "metadata": {},
     "output_type": "execute_result"
    }
   ],
   "source": [
    "degrees.shape"
   ]
  },
  {
   "cell_type": "code",
   "execution_count": 528,
   "id": "a53f4680-b66b-4e7a-870e-a39380fcfbb3",
   "metadata": {},
   "outputs": [
    {
     "name": "stdout",
     "output_type": "stream",
     "text": [
      "(TensorSpec(shape=(2, None, None), dtype=tf.float32, name=None), TensorSpec(shape=(2, None), dtype=tf.float32, name=None))\n"
     ]
    }
   ],
   "source": [
    "import mpg.ml.dataset.reader as reader\n",
    "import mpg.ml.dataset.generator as generator\n",
    "import mpg.ml.dataset.utils as utils\n",
    "importlib.reload(reader)\n",
    "importlib.reload(generator)\n",
    "importlib.reload(utils)\n",
    "gen=reader.MPGGraphReader(\"/run/media/ramizouari/6cf4ec5b-ccaf-4b2a-a40f-75ddfe64af76/HPC/dataset/dense\",target=\"all\",target_path=\"/run/media/ramizouari/6cf4ec5b-ccaf-4b2a-a40f-75ddfe64af76/HPC/dataset/targets_dense.json\")"
   ]
  },
  {
   "cell_type": "code",
   "execution_count": 446,
   "id": "e0cb768a-81f7-4228-8272-3887dc077750",
   "metadata": {},
   "outputs": [
    {
     "ename": "AttributeError",
     "evalue": "'_OptionsDataset' object has no attribute 'target_data'",
     "output_type": "error",
     "traceback": [
      "\u001b[0;31m---------------------------------------------------------------------------\u001b[0m",
      "\u001b[0;31mAttributeError\u001b[0m                            Traceback (most recent call last)",
      "Cell \u001b[0;32mIn[446], line 1\u001b[0m\n\u001b[0;32m----> 1\u001b[0m \u001b[43mgen\u001b[49m\u001b[38;5;241;43m.\u001b[39;49m\u001b[43mtarget_data\u001b[49m\n",
      "\u001b[0;31mAttributeError\u001b[0m: '_OptionsDataset' object has no attribute 'target_data'"
     ]
    }
   ],
   "source": []
  },
  {
   "cell_type": "code",
   "execution_count": 531,
   "id": "3c1eb6d9-52b0-4641-a322-65999aa22025",
   "metadata": {},
   "outputs": [
    {
     "name": "stderr",
     "output_type": "stream",
     "text": [
      "2023-06-13 08:32:13.330972: I tensorflow/core/common_runtime/executor.cc:1197] [/device:CPU:0] (DEBUG INFO) Executor start aborting (this does not indicate an error and you can ignore this message): INVALID_ARGUMENT: You must feed a value for placeholder tensor 'Placeholder/_0' with dtype int32\n",
      "\t [[{{node Placeholder/_0}}]]\n",
      "2023-06-13 08:32:13.906668: W tensorflow/core/framework/op_kernel.cc:1818] INVALID_ARGUMENT: TypeError: `generator` yielded an element of shape (2, 2, 130) where an element of shape (2, None) was expected.\n",
      "Traceback (most recent call last):\n",
      "\n",
      "  File \"/home/ramizouari/anaconda3/envs/StochasticGames/lib/python3.10/site-packages/tensorflow/python/ops/script_ops.py\", line 267, in __call__\n",
      "    ret = func(*args)\n",
      "\n",
      "  File \"/home/ramizouari/anaconda3/envs/StochasticGames/lib/python3.10/site-packages/tensorflow/python/autograph/impl/api.py\", line 642, in wrapper\n",
      "    return func(*args, **kwargs)\n",
      "\n",
      "  File \"/home/ramizouari/anaconda3/envs/StochasticGames/lib/python3.10/site-packages/tensorflow/python/data/ops/from_generator_op.py\", line 235, in generator_py_func\n",
      "    raise TypeError(\n",
      "\n",
      "TypeError: `generator` yielded an element of shape (2, 2, 130) where an element of shape (2, None) was expected.\n",
      "\n",
      "\n",
      "2023-06-13 08:32:13.906741: I tensorflow/core/common_runtime/executor.cc:1197] [/job:localhost/replica:0/task:0/device:CPU:0] (DEBUG INFO) Executor start aborting (this does not indicate an error and you can ignore this message): INVALID_ARGUMENT: TypeError: `generator` yielded an element of shape (2, 2, 130) where an element of shape (2, None) was expected.\n",
      "Traceback (most recent call last):\n",
      "\n",
      "  File \"/home/ramizouari/anaconda3/envs/StochasticGames/lib/python3.10/site-packages/tensorflow/python/ops/script_ops.py\", line 267, in __call__\n",
      "    ret = func(*args)\n",
      "\n",
      "  File \"/home/ramizouari/anaconda3/envs/StochasticGames/lib/python3.10/site-packages/tensorflow/python/autograph/impl/api.py\", line 642, in wrapper\n",
      "    return func(*args, **kwargs)\n",
      "\n",
      "  File \"/home/ramizouari/anaconda3/envs/StochasticGames/lib/python3.10/site-packages/tensorflow/python/data/ops/from_generator_op.py\", line 235, in generator_py_func\n",
      "    raise TypeError(\n",
      "\n",
      "TypeError: `generator` yielded an element of shape (2, 2, 130) where an element of shape (2, None) was expected.\n",
      "\n",
      "\n",
      "\t [[{{node PyFunc}}]]\n"
     ]
    },
    {
     "ename": "InvalidArgumentError",
     "evalue": "{{function_node __wrapped__IteratorGetNext_output_types_2_device_/job:localhost/replica:0/task:0/device:CPU:0}} TypeError: `generator` yielded an element of shape (2, 2, 130) where an element of shape (2, None) was expected.\nTraceback (most recent call last):\n\n  File \"/home/ramizouari/anaconda3/envs/StochasticGames/lib/python3.10/site-packages/tensorflow/python/ops/script_ops.py\", line 267, in __call__\n    ret = func(*args)\n\n  File \"/home/ramizouari/anaconda3/envs/StochasticGames/lib/python3.10/site-packages/tensorflow/python/autograph/impl/api.py\", line 642, in wrapper\n    return func(*args, **kwargs)\n\n  File \"/home/ramizouari/anaconda3/envs/StochasticGames/lib/python3.10/site-packages/tensorflow/python/data/ops/from_generator_op.py\", line 235, in generator_py_func\n    raise TypeError(\n\nTypeError: `generator` yielded an element of shape (2, 2, 130) where an element of shape (2, None) was expected.\n\n\n\t [[{{node PyFunc}}]] [Op:IteratorGetNext]",
     "output_type": "error",
     "traceback": [
      "\u001b[0;31m---------------------------------------------------------------------------\u001b[0m",
      "\u001b[0;31mInvalidArgumentError\u001b[0m                      Traceback (most recent call last)",
      "Cell \u001b[0;32mIn[531], line 1\u001b[0m\n\u001b[0;32m----> 1\u001b[0m \u001b[38;5;28;01mfor\u001b[39;00m x,y \u001b[38;5;129;01min\u001b[39;00m gen:\n\u001b[1;32m      2\u001b[0m     \u001b[38;5;28mprint\u001b[39m(x)\n\u001b[1;32m      3\u001b[0m     \u001b[38;5;28;01mbreak\u001b[39;00m\n",
      "File \u001b[0;32m~/anaconda3/envs/StochasticGames/lib/python3.10/site-packages/tensorflow/python/data/ops/iterator_ops.py:797\u001b[0m, in \u001b[0;36mOwnedIterator.__next__\u001b[0;34m(self)\u001b[0m\n\u001b[1;32m    795\u001b[0m \u001b[38;5;28;01mdef\u001b[39;00m \u001b[38;5;21m__next__\u001b[39m(\u001b[38;5;28mself\u001b[39m):\n\u001b[1;32m    796\u001b[0m   \u001b[38;5;28;01mtry\u001b[39;00m:\n\u001b[0;32m--> 797\u001b[0m     \u001b[38;5;28;01mreturn\u001b[39;00m \u001b[38;5;28;43mself\u001b[39;49m\u001b[38;5;241;43m.\u001b[39;49m\u001b[43m_next_internal\u001b[49m\u001b[43m(\u001b[49m\u001b[43m)\u001b[49m\n\u001b[1;32m    798\u001b[0m   \u001b[38;5;28;01mexcept\u001b[39;00m errors\u001b[38;5;241m.\u001b[39mOutOfRangeError:\n\u001b[1;32m    799\u001b[0m     \u001b[38;5;28;01mraise\u001b[39;00m \u001b[38;5;167;01mStopIteration\u001b[39;00m\n",
      "File \u001b[0;32m~/anaconda3/envs/StochasticGames/lib/python3.10/site-packages/tensorflow/python/data/ops/iterator_ops.py:780\u001b[0m, in \u001b[0;36mOwnedIterator._next_internal\u001b[0;34m(self)\u001b[0m\n\u001b[1;32m    777\u001b[0m \u001b[38;5;66;03m# TODO(b/77291417): This runs in sync mode as iterators use an error status\u001b[39;00m\n\u001b[1;32m    778\u001b[0m \u001b[38;5;66;03m# to communicate that there is no more data to iterate over.\u001b[39;00m\n\u001b[1;32m    779\u001b[0m \u001b[38;5;28;01mwith\u001b[39;00m context\u001b[38;5;241m.\u001b[39mexecution_mode(context\u001b[38;5;241m.\u001b[39mSYNC):\n\u001b[0;32m--> 780\u001b[0m   ret \u001b[38;5;241m=\u001b[39m \u001b[43mgen_dataset_ops\u001b[49m\u001b[38;5;241;43m.\u001b[39;49m\u001b[43miterator_get_next\u001b[49m\u001b[43m(\u001b[49m\n\u001b[1;32m    781\u001b[0m \u001b[43m      \u001b[49m\u001b[38;5;28;43mself\u001b[39;49m\u001b[38;5;241;43m.\u001b[39;49m\u001b[43m_iterator_resource\u001b[49m\u001b[43m,\u001b[49m\n\u001b[1;32m    782\u001b[0m \u001b[43m      \u001b[49m\u001b[43moutput_types\u001b[49m\u001b[38;5;241;43m=\u001b[39;49m\u001b[38;5;28;43mself\u001b[39;49m\u001b[38;5;241;43m.\u001b[39;49m\u001b[43m_flat_output_types\u001b[49m\u001b[43m,\u001b[49m\n\u001b[1;32m    783\u001b[0m \u001b[43m      \u001b[49m\u001b[43moutput_shapes\u001b[49m\u001b[38;5;241;43m=\u001b[39;49m\u001b[38;5;28;43mself\u001b[39;49m\u001b[38;5;241;43m.\u001b[39;49m\u001b[43m_flat_output_shapes\u001b[49m\u001b[43m)\u001b[49m\n\u001b[1;32m    785\u001b[0m   \u001b[38;5;28;01mtry\u001b[39;00m:\n\u001b[1;32m    786\u001b[0m     \u001b[38;5;66;03m# Fast path for the case `self._structure` is not a nested structure.\u001b[39;00m\n\u001b[1;32m    787\u001b[0m     \u001b[38;5;28;01mreturn\u001b[39;00m \u001b[38;5;28mself\u001b[39m\u001b[38;5;241m.\u001b[39m_element_spec\u001b[38;5;241m.\u001b[39m_from_compatible_tensor_list(ret)  \u001b[38;5;66;03m# pylint: disable=protected-access\u001b[39;00m\n",
      "File \u001b[0;32m~/anaconda3/envs/StochasticGames/lib/python3.10/site-packages/tensorflow/python/ops/gen_dataset_ops.py:3016\u001b[0m, in \u001b[0;36miterator_get_next\u001b[0;34m(iterator, output_types, output_shapes, name)\u001b[0m\n\u001b[1;32m   3014\u001b[0m   \u001b[38;5;28;01mreturn\u001b[39;00m _result\n\u001b[1;32m   3015\u001b[0m \u001b[38;5;28;01mexcept\u001b[39;00m _core\u001b[38;5;241m.\u001b[39m_NotOkStatusException \u001b[38;5;28;01mas\u001b[39;00m e:\n\u001b[0;32m-> 3016\u001b[0m   \u001b[43m_ops\u001b[49m\u001b[38;5;241;43m.\u001b[39;49m\u001b[43mraise_from_not_ok_status\u001b[49m\u001b[43m(\u001b[49m\u001b[43me\u001b[49m\u001b[43m,\u001b[49m\u001b[43m \u001b[49m\u001b[43mname\u001b[49m\u001b[43m)\u001b[49m\n\u001b[1;32m   3017\u001b[0m \u001b[38;5;28;01mexcept\u001b[39;00m _core\u001b[38;5;241m.\u001b[39m_FallbackException:\n\u001b[1;32m   3018\u001b[0m   \u001b[38;5;28;01mpass\u001b[39;00m\n",
      "File \u001b[0;32m~/anaconda3/envs/StochasticGames/lib/python3.10/site-packages/tensorflow/python/framework/ops.py:7262\u001b[0m, in \u001b[0;36mraise_from_not_ok_status\u001b[0;34m(e, name)\u001b[0m\n\u001b[1;32m   7260\u001b[0m \u001b[38;5;28;01mdef\u001b[39;00m \u001b[38;5;21mraise_from_not_ok_status\u001b[39m(e, name):\n\u001b[1;32m   7261\u001b[0m   e\u001b[38;5;241m.\u001b[39mmessage \u001b[38;5;241m+\u001b[39m\u001b[38;5;241m=\u001b[39m (\u001b[38;5;124m\"\u001b[39m\u001b[38;5;124m name: \u001b[39m\u001b[38;5;124m\"\u001b[39m \u001b[38;5;241m+\u001b[39m name \u001b[38;5;28;01mif\u001b[39;00m name \u001b[38;5;129;01mis\u001b[39;00m \u001b[38;5;129;01mnot\u001b[39;00m \u001b[38;5;28;01mNone\u001b[39;00m \u001b[38;5;28;01melse\u001b[39;00m \u001b[38;5;124m\"\u001b[39m\u001b[38;5;124m\"\u001b[39m)\n\u001b[0;32m-> 7262\u001b[0m   \u001b[38;5;28;01mraise\u001b[39;00m core\u001b[38;5;241m.\u001b[39m_status_to_exception(e) \u001b[38;5;28;01mfrom\u001b[39;00m \u001b[38;5;28mNone\u001b[39m\n",
      "\u001b[0;31mInvalidArgumentError\u001b[0m: {{function_node __wrapped__IteratorGetNext_output_types_2_device_/job:localhost/replica:0/task:0/device:CPU:0}} TypeError: `generator` yielded an element of shape (2, 2, 130) where an element of shape (2, None) was expected.\nTraceback (most recent call last):\n\n  File \"/home/ramizouari/anaconda3/envs/StochasticGames/lib/python3.10/site-packages/tensorflow/python/ops/script_ops.py\", line 267, in __call__\n    ret = func(*args)\n\n  File \"/home/ramizouari/anaconda3/envs/StochasticGames/lib/python3.10/site-packages/tensorflow/python/autograph/impl/api.py\", line 642, in wrapper\n    return func(*args, **kwargs)\n\n  File \"/home/ramizouari/anaconda3/envs/StochasticGames/lib/python3.10/site-packages/tensorflow/python/data/ops/from_generator_op.py\", line 235, in generator_py_func\n    raise TypeError(\n\nTypeError: `generator` yielded an element of shape (2, 2, 130) where an element of shape (2, None) was expected.\n\n\n\t [[{{node PyFunc}}]] [Op:IteratorGetNext]"
     ]
    },
    {
     "name": "stderr",
     "output_type": "stream",
     "text": [
      "2023-06-13 08:32:14.056054: W tensorflow/core/framework/op_kernel.cc:1818] INVALID_ARGUMENT: TypeError: `generator` yielded an element of shape (2, 2, 60) where an element of shape (2, None) was expected.\n",
      "Traceback (most recent call last):\n",
      "\n",
      "  File \"/home/ramizouari/anaconda3/envs/StochasticGames/lib/python3.10/site-packages/tensorflow/python/ops/script_ops.py\", line 267, in __call__\n",
      "    ret = func(*args)\n",
      "\n",
      "  File \"/home/ramizouari/anaconda3/envs/StochasticGames/lib/python3.10/site-packages/tensorflow/python/autograph/impl/api.py\", line 642, in wrapper\n",
      "    return func(*args, **kwargs)\n",
      "\n",
      "  File \"/home/ramizouari/anaconda3/envs/StochasticGames/lib/python3.10/site-packages/tensorflow/python/data/ops/from_generator_op.py\", line 235, in generator_py_func\n",
      "    raise TypeError(\n",
      "\n",
      "TypeError: `generator` yielded an element of shape (2, 2, 60) where an element of shape (2, None) was expected.\n",
      "\n",
      "\n",
      "2023-06-13 08:32:14.056101: I tensorflow/core/common_runtime/executor.cc:1197] [/job:localhost/replica:0/task:0/device:CPU:0] (DEBUG INFO) Executor start aborting (this does not indicate an error and you can ignore this message): INVALID_ARGUMENT: TypeError: `generator` yielded an element of shape (2, 2, 60) where an element of shape (2, None) was expected.\n",
      "Traceback (most recent call last):\n",
      "\n",
      "  File \"/home/ramizouari/anaconda3/envs/StochasticGames/lib/python3.10/site-packages/tensorflow/python/ops/script_ops.py\", line 267, in __call__\n",
      "    ret = func(*args)\n",
      "\n",
      "  File \"/home/ramizouari/anaconda3/envs/StochasticGames/lib/python3.10/site-packages/tensorflow/python/autograph/impl/api.py\", line 642, in wrapper\n",
      "    return func(*args, **kwargs)\n",
      "\n",
      "  File \"/home/ramizouari/anaconda3/envs/StochasticGames/lib/python3.10/site-packages/tensorflow/python/data/ops/from_generator_op.py\", line 235, in generator_py_func\n",
      "    raise TypeError(\n",
      "\n",
      "TypeError: `generator` yielded an element of shape (2, 2, 60) where an element of shape (2, None) was expected.\n",
      "\n",
      "\n",
      "\t [[{{node PyFunc}}]]\n"
     ]
    }
   ],
   "source": [
    "for x,y in gen:\n",
    "    print(x)\n",
    "    break"
   ]
  },
  {
   "cell_type": "code",
   "execution_count": null,
   "id": "139568b6-3898-4275-834e-a54e4e986bd7",
   "metadata": {},
   "outputs": [],
   "source": [
    "for x in gen.bucket_by_sequence_length(lambda x:x.shape[-1],[20,50,500],[5,5,5,5],pad_to_bucket_boundary=True):\n",
    "    z=x\n",
    "    break"
   ]
  },
  {
   "cell_type": "code",
   "execution_count": 131,
   "id": "f738f618-c411-40e6-b4bc-e4c59b1cbabf",
   "metadata": {},
   "outputs": [
    {
     "name": "stdout",
     "output_type": "stream",
     "text": [
      "libprotoc 3.19.6\n"
     ]
    }
   ],
   "source": [
    "!protoc --version"
   ]
  },
  {
   "cell_type": "code",
   "execution_count": null,
   "id": "3a177e19-da8d-406c-8b82-2a13c599e0f2",
   "metadata": {},
   "outputs": [],
   "source": [
    "layer((z,z,z))"
   ]
  },
  {
   "cell_type": "code",
   "execution_count": 285,
   "id": "a5cb4abe-35b0-44ef-8165-c15bb62ed912",
   "metadata": {},
   "outputs": [
    {
     "ename": "SyntaxError",
     "evalue": "incomplete input (32705229.py, line 1)",
     "output_type": "error",
     "traceback": [
      "\u001b[0;36m  Cell \u001b[0;32mIn[285], line 1\u001b[0;36m\u001b[0m\n\u001b[0;31m    tf.linalg.det(tf.random.uniform([n,n])\u001b[0m\n\u001b[0m                                           ^\u001b[0m\n\u001b[0;31mSyntaxError\u001b[0m\u001b[0;31m:\u001b[0m incomplete input\n"
     ]
    }
   ],
   "source": [
    "tf.linalg.det(tf.random.uniform([n,n]) "
   ]
  },
  {
   "cell_type": "code",
   "execution_count": 440,
   "id": "df229843-0904-4a0a-b47d-901f20354910",
   "metadata": {},
   "outputs": [],
   "source": [
    "import pandas as pd\n",
    "df=pd.read_json(\"/run/media/ramizouari/6cf4ec5b-ccaf-4b2a-a40f-75ddfe64af76/HPC/dataset/targets_dense.json\")\n",
    "df.set_index(\"graph\",inplace=True)\n"
   ]
  },
  {
   "cell_type": "code",
   "execution_count": 468,
   "id": "d3834602-affc-4f22-89e0-83fc2714a9be",
   "metadata": {},
   "outputs": [],
   "source": [
    "filename=\"gnp_uniform_mpg_300_30_108.edgelist.gz\""
   ]
  },
  {
   "cell_type": "code",
   "execution_count": 516,
   "id": "13795737-dd84-4e35-8421-b3fd77d2cf12",
   "metadata": {},
   "outputs": [],
   "source": [
    "B=np.array(df.loc[filename,[\"winners_max\",\"winners_min\"]].to_list()).T\n",
    "A=np.array(df.loc[filename,[\"max_strategy\",\"min_strategy\"]].to_list()).T\n",
    "C=np.stack([B,A],axis=1)"
   ]
  },
  {
   "cell_type": "code",
   "execution_count": 523,
   "id": "13386780-f3aa-465e-b6ff-83b217dada74",
   "metadata": {},
   "outputs": [
    {
     "data": {
      "text/plain": [
       "array([281, 116, 176, 194, 297, 287, 195, 148,  75, 262, 248, 158,  77,\n",
       "       173,  14, 283, 118,   4, 102, 282, 191,  43, 191, 171, 245, 184,\n",
       "       199, 125, 166,  11, 295,  46,  31, 159,  17, 245, 123, 185, 188,\n",
       "       178, 154, 175, 185,  86, 287, 276, 175, 118,  52,  69, 163,  98,\n",
       "       261, 261, 264, 264,  14, 274, 248, 242, 225, 213,  58, 234,  99,\n",
       "        28, 209,  20,  89,  45, 196, 146,  38, 198, 141, 256,  63,  57,\n",
       "       250, 262, 146, 228, 133, 136, 111,  20, 237,  66,  70,  65,  61,\n",
       "       193, 130, 118, 256, 256, 168,  35, 185, 188, 122, 241,  21, 258,\n",
       "       192, 256,   2, 160, 219,  86, 192, 297, 202, 217, 126, 290,  47,\n",
       "        46, 135, 115,  67, 280,   8, 170, 143, 225, 186, 261,  85,   0,\n",
       "        22, 115, 281,  50, 127, 195, 194,  45, 111,  86, 128, 252,  53,\n",
       "       216, 133,  25, 121, 169, 213, 193, 227, 256,  53, 255,   6, 263,\n",
       "        69, 163, 161, 147,  34,  65, 175, 147,  95, 197, 112, 252, 131,\n",
       "       261,  90, 289, 144,  95,  91,  38, 172, 143,  82, 124, 212,   2,\n",
       "        22, 213, 232, 115,   4, 242, 245, 195,  88,  96,  81, 233, 269,\n",
       "        70, 233, 254,  87, 228,  80, 284,  58,  85, 209, 120, 123,  67,\n",
       "       100, 131, 195, 116, 126, 271,  85, 265, 162, 282,  77, 165,  37,\n",
       "       291, 282,  92,  77,  60, 248,  32,  82, 119, 214,  89,  88, 185,\n",
       "        40, 237, 199, 156, 157, 199, 108, 251,  27, 198, 107, 174, 279,\n",
       "       212, 226, 142,  62, 225, 206, 112, 291, 276, 256, 118, 255,  38,\n",
       "       170, 206,  65,  38, 231,  28,  91,  41, 109,  97, 157, 216, 132,\n",
       "        28, 209, 193, 159,  24, 136, 148,  17, 223, 108,  13, 176,  18,\n",
       "       256,  13,  51, 137, 131, 194,  37, 261, 231, 271, 169, 238, 126,\n",
       "       261])"
      ]
     },
     "execution_count": 523,
     "metadata": {},
     "output_type": "execute_result"
    }
   ],
   "source": [
    "C[:,1,0]"
   ]
  },
  {
   "cell_type": "code",
   "execution_count": 482,
   "id": "6b5bf116-67bd-43c0-b8e8-3d1d1bf86ee5",
   "metadata": {},
   "outputs": [
    {
     "data": {
      "text/plain": [
       "(300, 2, 2)"
      ]
     },
     "execution_count": 482,
     "metadata": {},
     "output_type": "execute_result"
    }
   ],
   "source": []
  },
  {
   "cell_type": "code",
   "execution_count": null,
   "id": "539f996d-2627-4071-94d9-99f4bf2d0d5d",
   "metadata": {},
   "outputs": [],
   "source": []
  }
 ],
 "metadata": {
  "kernelspec": {
   "display_name": "Python 3 (ipykernel)",
   "language": "python",
   "name": "python3"
  },
  "language_info": {
   "codemirror_mode": {
    "name": "ipython",
    "version": 3
   },
   "file_extension": ".py",
   "mimetype": "text/x-python",
   "name": "python",
   "nbconvert_exporter": "python",
   "pygments_lexer": "ipython3",
   "version": "3.10.11"
  }
 },
 "nbformat": 4,
 "nbformat_minor": 5
}
