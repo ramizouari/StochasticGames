{
 "cells": [
  {
   "cell_type": "code",
   "execution_count": 3,
   "id": "022ed645-b916-4842-8f8f-ced6d266aa2c",
   "metadata": {},
   "outputs": [],
   "source": [
    "import open_spiel"
   ]
  },
  {
   "cell_type": "code",
   "execution_count": 5,
   "id": "a36130e0-afcc-4711-a83e-f65dd9d37eab",
   "metadata": {},
   "outputs": [
    {
     "data": {
      "text/plain": [
       "'/home/ramizouari/anaconda3/envs/StochasticGames/lib/python3.10/site-packages/open_spiel/__init__.py'"
      ]
     },
     "execution_count": 5,
     "metadata": {},
     "output_type": "execute_result"
    }
   ],
   "source": [
    "open_spiel.__file__"
   ]
  },
  {
   "cell_type": "code",
   "execution_count": null,
   "id": "a80cd479-062e-45a1-a58d-89eda31ac482",
   "metadata": {},
   "outputs": [],
   "source": []
  }
 ],
 "metadata": {
  "kernelspec": {
   "display_name": "Python 3 (ipykernel)",
   "language": "python",
   "name": "python3"
  },
  "language_info": {
   "codemirror_mode": {
    "name": "ipython",
    "version": 3
   },
   "file_extension": ".py",
   "mimetype": "text/x-python",
   "name": "python",
   "nbconvert_exporter": "python",
   "pygments_lexer": "ipython3",
   "version": "3.10.11"
  }
 },
 "nbformat": 4,
 "nbformat_minor": 5
}
