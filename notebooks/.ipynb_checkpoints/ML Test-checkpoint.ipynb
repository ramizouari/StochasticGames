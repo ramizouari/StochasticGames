{
 "cells": [
  {
   "cell_type": "code",
   "execution_count": 1,
   "id": "438a2d44-e94c-4588-8974-6ee1f0aa17ee",
   "metadata": {},
   "outputs": [
    {
     "name": "stderr",
     "output_type": "stream",
     "text": [
      "2023-04-02 04:57:54.603900: I tensorflow/core/platform/cpu_feature_guard.cc:193] This TensorFlow binary is optimized with oneAPI Deep Neural Network Library (oneDNN) to use the following CPU instructions in performance-critical operations:  SSE4.1 SSE4.2 AVX AVX2 FMA\n",
      "To enable them in other operations, rebuild TensorFlow with the appropriate compiler flags.\n"
     ]
    }
   ],
   "source": [
    "import mpg.mpgml.dataset.generator as mpgml_generator"
   ]
  },
  {
   "cell_type": "code",
   "execution_count": 3,
   "id": "99c960dd-3d3b-4719-91e5-eefed2227594",
   "metadata": {},
   "outputs": [
    {
     "ename": "ValueError",
     "evalue": "Attempt to convert a value (<class 'mpg.mpgml.dataset.generator.MPGGeneratedDataset'>) with an unsupported type (<class 'abc.ABCMeta'>) to a Tensor.",
     "output_type": "error",
     "traceback": [
      "\u001b[0;31m---------------------------------------------------------------------------\u001b[0m",
      "\u001b[0;31mValueError\u001b[0m                                Traceback (most recent call last)",
      "Cell \u001b[0;32mIn[3], line 1\u001b[0m\n\u001b[0;32m----> 1\u001b[0m dataset\u001b[38;5;241m=\u001b[39m\u001b[43mmpgml_generator\u001b[49m\u001b[38;5;241;43m.\u001b[39;49m\u001b[43mMPGGeneratedDataset\u001b[49m\u001b[43m(\u001b[49m\u001b[43mas_graph\u001b[49m\u001b[38;5;241;43m=\u001b[39;49m\u001b[38;5;28;43;01mFalse\u001b[39;49;00m\u001b[43m,\u001b[49m\u001b[43mweight_matrix\u001b[49m\u001b[38;5;241;43m=\u001b[39;49m\u001b[38;5;28;43;01mTrue\u001b[39;49;00m\u001b[43m,\u001b[49m\u001b[43mcardinality\u001b[49m\u001b[38;5;241;43m=\u001b[39;49m\u001b[38;5;241;43m10\u001b[39;49m\u001b[43m)\u001b[49m\n",
      "File \u001b[0;32m~/Academic/AI/MeanPayOffGames/notebooks/mpg/mpgml/dataset/generator.py:50\u001b[0m, in \u001b[0;36mMPGGeneratedDataset.__new__\u001b[0;34m(cls, cardinality, target, as_graph, adj_matrix, weight_matrix)\u001b[0m\n\u001b[1;32m     48\u001b[0m \u001b[38;5;28;01mif\u001b[39;00m target:\n\u001b[1;32m     49\u001b[0m     signature\u001b[38;5;241m=\u001b[39m(signature,tf\u001b[38;5;241m.\u001b[39mTensorSpec(shape\u001b[38;5;241m=\u001b[39m(\u001b[38;5;28;01mNone\u001b[39;00m,),dtype\u001b[38;5;241m=\u001b[39mtf\u001b[38;5;241m.\u001b[39mfloat32))\n\u001b[0;32m---> 50\u001b[0m \u001b[38;5;28;01mreturn\u001b[39;00m \u001b[43mtf\u001b[49m\u001b[38;5;241;43m.\u001b[39;49m\u001b[43mdata\u001b[49m\u001b[38;5;241;43m.\u001b[39;49m\u001b[43mDataset\u001b[49m\u001b[38;5;241;43m.\u001b[39;49m\u001b[43mfrom_generator\u001b[49m\u001b[43m(\u001b[49m\n\u001b[1;32m     51\u001b[0m \u001b[43m    \u001b[49m\u001b[38;5;28;43mcls\u001b[39;49m\u001b[38;5;241;43m.\u001b[39;49m\u001b[43m_generator\u001b[49m\u001b[43m,\u001b[49m\n\u001b[1;32m     52\u001b[0m \u001b[43m    \u001b[49m\u001b[43margs\u001b[49m\u001b[38;5;241;43m=\u001b[39;49m\u001b[43m(\u001b[49m\u001b[38;5;28;43mcls\u001b[39;49m\u001b[43m,\u001b[49m\u001b[43mcardinality\u001b[49m\u001b[43m,\u001b[49m\u001b[43mtarget\u001b[49m\u001b[43m,\u001b[49m\u001b[43mas_graph\u001b[49m\u001b[43m,\u001b[49m\u001b[43madj_matrix\u001b[49m\u001b[43m,\u001b[49m\u001b[43mweight_matrix\u001b[49m\u001b[43m)\u001b[49m\u001b[43m,\u001b[49m\n\u001b[1;32m     53\u001b[0m \u001b[43m    \u001b[49m\u001b[43moutput_signature\u001b[49m\u001b[38;5;241;43m=\u001b[39;49m\u001b[43msignature\u001b[49m\n\u001b[1;32m     54\u001b[0m \u001b[43m\u001b[49m\u001b[43m)\u001b[49m\n",
      "File \u001b[0;32m~/anaconda3/envs/stochastic_games/lib/python3.10/site-packages/tensorflow/python/util/deprecation.py:561\u001b[0m, in \u001b[0;36mdeprecated_args.<locals>.deprecated_wrapper.<locals>.new_func\u001b[0;34m(*args, **kwargs)\u001b[0m\n\u001b[1;32m    553\u001b[0m         _PRINTED_WARNING[(func, arg_name)] \u001b[38;5;241m=\u001b[39m \u001b[38;5;28;01mTrue\u001b[39;00m\n\u001b[1;32m    554\u001b[0m       logging\u001b[38;5;241m.\u001b[39mwarning(\n\u001b[1;32m    555\u001b[0m           \u001b[38;5;124m'\u001b[39m\u001b[38;5;124mFrom \u001b[39m\u001b[38;5;132;01m%s\u001b[39;00m\u001b[38;5;124m: calling \u001b[39m\u001b[38;5;132;01m%s\u001b[39;00m\u001b[38;5;124m (from \u001b[39m\u001b[38;5;132;01m%s\u001b[39;00m\u001b[38;5;124m) with \u001b[39m\u001b[38;5;132;01m%s\u001b[39;00m\u001b[38;5;124m is deprecated and will \u001b[39m\u001b[38;5;124m'\u001b[39m\n\u001b[1;32m    556\u001b[0m           \u001b[38;5;124m'\u001b[39m\u001b[38;5;124mbe removed \u001b[39m\u001b[38;5;132;01m%s\u001b[39;00m\u001b[38;5;124m.\u001b[39m\u001b[38;5;130;01m\\n\u001b[39;00m\u001b[38;5;124mInstructions for updating:\u001b[39m\u001b[38;5;130;01m\\n\u001b[39;00m\u001b[38;5;132;01m%s\u001b[39;00m\u001b[38;5;124m'\u001b[39m,\n\u001b[0;32m   (...)\u001b[0m\n\u001b[1;32m    559\u001b[0m           \u001b[38;5;124m'\u001b[39m\u001b[38;5;124min a future version\u001b[39m\u001b[38;5;124m'\u001b[39m \u001b[38;5;28;01mif\u001b[39;00m date \u001b[38;5;129;01mis\u001b[39;00m \u001b[38;5;28;01mNone\u001b[39;00m \u001b[38;5;28;01melse\u001b[39;00m (\u001b[38;5;124m'\u001b[39m\u001b[38;5;124mafter \u001b[39m\u001b[38;5;132;01m%s\u001b[39;00m\u001b[38;5;124m'\u001b[39m \u001b[38;5;241m%\u001b[39m date),\n\u001b[1;32m    560\u001b[0m           instructions)\n\u001b[0;32m--> 561\u001b[0m \u001b[38;5;28;01mreturn\u001b[39;00m \u001b[43mfunc\u001b[49m\u001b[43m(\u001b[49m\u001b[38;5;241;43m*\u001b[39;49m\u001b[43margs\u001b[49m\u001b[43m,\u001b[49m\u001b[43m \u001b[49m\u001b[38;5;241;43m*\u001b[39;49m\u001b[38;5;241;43m*\u001b[39;49m\u001b[43mkwargs\u001b[49m\u001b[43m)\u001b[49m\n",
      "File \u001b[0;32m~/anaconda3/envs/stochastic_games/lib/python3.10/site-packages/tensorflow/python/data/ops/dataset_ops.py:996\u001b[0m, in \u001b[0;36mDatasetV2.from_generator\u001b[0;34m(generator, output_types, output_shapes, args, output_signature, name)\u001b[0m\n\u001b[1;32m    994\u001b[0m   args \u001b[38;5;241m=\u001b[39m ()\n\u001b[1;32m    995\u001b[0m \u001b[38;5;28;01melse\u001b[39;00m:\n\u001b[0;32m--> 996\u001b[0m   args \u001b[38;5;241m=\u001b[39m \u001b[38;5;28mtuple\u001b[39m(\u001b[43mops\u001b[49m\u001b[38;5;241;43m.\u001b[39;49m\u001b[43mconvert_n_to_tensor\u001b[49m\u001b[43m(\u001b[49m\u001b[43margs\u001b[49m\u001b[43m,\u001b[49m\u001b[43m \u001b[49m\u001b[43mname\u001b[49m\u001b[38;5;241;43m=\u001b[39;49m\u001b[38;5;124;43m\"\u001b[39;49m\u001b[38;5;124;43margs\u001b[39;49m\u001b[38;5;124;43m\"\u001b[39;49m\u001b[43m)\u001b[49m)\n\u001b[1;32m    998\u001b[0m generator_state \u001b[38;5;241m=\u001b[39m DatasetV2\u001b[38;5;241m.\u001b[39m_GeneratorState(generator)\n\u001b[1;32m   1000\u001b[0m \u001b[38;5;28;01mdef\u001b[39;00m \u001b[38;5;21mget_iterator_id_fn\u001b[39m(unused_dummy):\n",
      "File \u001b[0;32m~/anaconda3/envs/stochastic_games/lib/python3.10/site-packages/tensorflow/python/framework/ops.py:1736\u001b[0m, in \u001b[0;36mconvert_n_to_tensor\u001b[0;34m(values, dtype, name, preferred_dtype)\u001b[0m\n\u001b[1;32m   1713\u001b[0m \u001b[38;5;28;01mdef\u001b[39;00m \u001b[38;5;21mconvert_n_to_tensor\u001b[39m(values, dtype\u001b[38;5;241m=\u001b[39m\u001b[38;5;28;01mNone\u001b[39;00m, name\u001b[38;5;241m=\u001b[39m\u001b[38;5;28;01mNone\u001b[39;00m, preferred_dtype\u001b[38;5;241m=\u001b[39m\u001b[38;5;28;01mNone\u001b[39;00m):\n\u001b[1;32m   1714\u001b[0m   \u001b[38;5;124;03m\"\"\"Converts `values` to a list of `Tensor` objects.\u001b[39;00m\n\u001b[1;32m   1715\u001b[0m \n\u001b[1;32m   1716\u001b[0m \u001b[38;5;124;03m  Args:\u001b[39;00m\n\u001b[0;32m   (...)\u001b[0m\n\u001b[1;32m   1734\u001b[0m \u001b[38;5;124;03m      value.\u001b[39;00m\n\u001b[1;32m   1735\u001b[0m \u001b[38;5;124;03m  \"\"\"\u001b[39;00m\n\u001b[0;32m-> 1736\u001b[0m   \u001b[38;5;28;01mreturn\u001b[39;00m \u001b[43minternal_convert_n_to_tensor\u001b[49m\u001b[43m(\u001b[49m\n\u001b[1;32m   1737\u001b[0m \u001b[43m      \u001b[49m\u001b[43mvalues\u001b[49m\u001b[38;5;241;43m=\u001b[39;49m\u001b[43mvalues\u001b[49m\u001b[43m,\u001b[49m\n\u001b[1;32m   1738\u001b[0m \u001b[43m      \u001b[49m\u001b[43mdtype\u001b[49m\u001b[38;5;241;43m=\u001b[39;49m\u001b[43mdtype\u001b[49m\u001b[43m,\u001b[49m\n\u001b[1;32m   1739\u001b[0m \u001b[43m      \u001b[49m\u001b[43mname\u001b[49m\u001b[38;5;241;43m=\u001b[39;49m\u001b[43mname\u001b[49m\u001b[43m,\u001b[49m\n\u001b[1;32m   1740\u001b[0m \u001b[43m      \u001b[49m\u001b[43mpreferred_dtype\u001b[49m\u001b[38;5;241;43m=\u001b[39;49m\u001b[43mpreferred_dtype\u001b[49m\u001b[43m,\u001b[49m\n\u001b[1;32m   1741\u001b[0m \u001b[43m      \u001b[49m\u001b[43mas_ref\u001b[49m\u001b[38;5;241;43m=\u001b[39;49m\u001b[38;5;28;43;01mFalse\u001b[39;49;00m\u001b[43m)\u001b[49m\n",
      "File \u001b[0;32m~/anaconda3/envs/stochastic_games/lib/python3.10/site-packages/tensorflow/python/framework/ops.py:1703\u001b[0m, in \u001b[0;36minternal_convert_n_to_tensor\u001b[0;34m(values, dtype, name, as_ref, preferred_dtype, ctx)\u001b[0m\n\u001b[1;32m   1700\u001b[0m \u001b[38;5;28;01mfor\u001b[39;00m i, value \u001b[38;5;129;01min\u001b[39;00m \u001b[38;5;28menumerate\u001b[39m(values):\n\u001b[1;32m   1701\u001b[0m   n \u001b[38;5;241m=\u001b[39m \u001b[38;5;28;01mNone\u001b[39;00m \u001b[38;5;28;01mif\u001b[39;00m name \u001b[38;5;129;01mis\u001b[39;00m \u001b[38;5;28;01mNone\u001b[39;00m \u001b[38;5;28;01melse\u001b[39;00m \u001b[38;5;124m\"\u001b[39m\u001b[38;5;132;01m%s\u001b[39;00m\u001b[38;5;124m_\u001b[39m\u001b[38;5;132;01m%d\u001b[39;00m\u001b[38;5;124m\"\u001b[39m \u001b[38;5;241m%\u001b[39m (name, i)\n\u001b[1;32m   1702\u001b[0m   ret\u001b[38;5;241m.\u001b[39mappend(\n\u001b[0;32m-> 1703\u001b[0m       \u001b[43mconvert_to_tensor\u001b[49m\u001b[43m(\u001b[49m\n\u001b[1;32m   1704\u001b[0m \u001b[43m          \u001b[49m\u001b[43mvalue\u001b[49m\u001b[43m,\u001b[49m\n\u001b[1;32m   1705\u001b[0m \u001b[43m          \u001b[49m\u001b[43mdtype\u001b[49m\u001b[38;5;241;43m=\u001b[39;49m\u001b[43mdtype\u001b[49m\u001b[43m,\u001b[49m\n\u001b[1;32m   1706\u001b[0m \u001b[43m          \u001b[49m\u001b[43mname\u001b[49m\u001b[38;5;241;43m=\u001b[39;49m\u001b[43mn\u001b[49m\u001b[43m,\u001b[49m\n\u001b[1;32m   1707\u001b[0m \u001b[43m          \u001b[49m\u001b[43mas_ref\u001b[49m\u001b[38;5;241;43m=\u001b[39;49m\u001b[43mas_ref\u001b[49m\u001b[43m,\u001b[49m\n\u001b[1;32m   1708\u001b[0m \u001b[43m          \u001b[49m\u001b[43mpreferred_dtype\u001b[49m\u001b[38;5;241;43m=\u001b[39;49m\u001b[43mpreferred_dtype\u001b[49m\u001b[43m,\u001b[49m\n\u001b[1;32m   1709\u001b[0m \u001b[43m          \u001b[49m\u001b[43mctx\u001b[49m\u001b[38;5;241;43m=\u001b[39;49m\u001b[43mctx\u001b[49m\u001b[43m)\u001b[49m)\n\u001b[1;32m   1710\u001b[0m \u001b[38;5;28;01mreturn\u001b[39;00m ret\n",
      "File \u001b[0;32m~/anaconda3/envs/stochastic_games/lib/python3.10/site-packages/tensorflow/python/profiler/trace.py:183\u001b[0m, in \u001b[0;36mtrace_wrapper.<locals>.inner_wrapper.<locals>.wrapped\u001b[0;34m(*args, **kwargs)\u001b[0m\n\u001b[1;32m    181\u001b[0m   \u001b[38;5;28;01mwith\u001b[39;00m Trace(trace_name, \u001b[38;5;241m*\u001b[39m\u001b[38;5;241m*\u001b[39mtrace_kwargs):\n\u001b[1;32m    182\u001b[0m     \u001b[38;5;28;01mreturn\u001b[39;00m func(\u001b[38;5;241m*\u001b[39margs, \u001b[38;5;241m*\u001b[39m\u001b[38;5;241m*\u001b[39mkwargs)\n\u001b[0;32m--> 183\u001b[0m \u001b[38;5;28;01mreturn\u001b[39;00m \u001b[43mfunc\u001b[49m\u001b[43m(\u001b[49m\u001b[38;5;241;43m*\u001b[39;49m\u001b[43margs\u001b[49m\u001b[43m,\u001b[49m\u001b[43m \u001b[49m\u001b[38;5;241;43m*\u001b[39;49m\u001b[38;5;241;43m*\u001b[39;49m\u001b[43mkwargs\u001b[49m\u001b[43m)\u001b[49m\n",
      "File \u001b[0;32m~/anaconda3/envs/stochastic_games/lib/python3.10/site-packages/tensorflow/python/framework/ops.py:1636\u001b[0m, in \u001b[0;36mconvert_to_tensor\u001b[0;34m(value, dtype, name, as_ref, preferred_dtype, dtype_hint, ctx, accepted_result_types)\u001b[0m\n\u001b[1;32m   1627\u001b[0m       \u001b[38;5;28;01mraise\u001b[39;00m \u001b[38;5;167;01mRuntimeError\u001b[39;00m(\n\u001b[1;32m   1628\u001b[0m           _add_error_prefix(\n\u001b[1;32m   1629\u001b[0m               \u001b[38;5;124mf\u001b[39m\u001b[38;5;124m\"\u001b[39m\u001b[38;5;124mConversion function \u001b[39m\u001b[38;5;132;01m{\u001b[39;00mconversion_func\u001b[38;5;132;01m!r}\u001b[39;00m\u001b[38;5;124m for type \u001b[39m\u001b[38;5;124m\"\u001b[39m\n\u001b[0;32m   (...)\u001b[0m\n\u001b[1;32m   1632\u001b[0m               \u001b[38;5;124mf\u001b[39m\u001b[38;5;124m\"\u001b[39m\u001b[38;5;124mactual = \u001b[39m\u001b[38;5;132;01m{\u001b[39;00mret\u001b[38;5;241m.\u001b[39mdtype\u001b[38;5;241m.\u001b[39mbase_dtype\u001b[38;5;241m.\u001b[39mname\u001b[38;5;132;01m}\u001b[39;00m\u001b[38;5;124m\"\u001b[39m,\n\u001b[1;32m   1633\u001b[0m               name\u001b[38;5;241m=\u001b[39mname))\n\u001b[1;32m   1635\u001b[0m \u001b[38;5;28;01mif\u001b[39;00m ret \u001b[38;5;129;01mis\u001b[39;00m \u001b[38;5;28;01mNone\u001b[39;00m:\n\u001b[0;32m-> 1636\u001b[0m   ret \u001b[38;5;241m=\u001b[39m \u001b[43mconversion_func\u001b[49m\u001b[43m(\u001b[49m\u001b[43mvalue\u001b[49m\u001b[43m,\u001b[49m\u001b[43m \u001b[49m\u001b[43mdtype\u001b[49m\u001b[38;5;241;43m=\u001b[39;49m\u001b[43mdtype\u001b[49m\u001b[43m,\u001b[49m\u001b[43m \u001b[49m\u001b[43mname\u001b[49m\u001b[38;5;241;43m=\u001b[39;49m\u001b[43mname\u001b[49m\u001b[43m,\u001b[49m\u001b[43m \u001b[49m\u001b[43mas_ref\u001b[49m\u001b[38;5;241;43m=\u001b[39;49m\u001b[43mas_ref\u001b[49m\u001b[43m)\u001b[49m\n\u001b[1;32m   1638\u001b[0m \u001b[38;5;28;01mif\u001b[39;00m ret \u001b[38;5;129;01mis\u001b[39;00m \u001b[38;5;28mNotImplemented\u001b[39m:\n\u001b[1;32m   1639\u001b[0m   \u001b[38;5;28;01mcontinue\u001b[39;00m\n",
      "File \u001b[0;32m~/anaconda3/envs/stochastic_games/lib/python3.10/site-packages/tensorflow/python/framework/constant_op.py:343\u001b[0m, in \u001b[0;36m_constant_tensor_conversion_function\u001b[0;34m(v, dtype, name, as_ref)\u001b[0m\n\u001b[1;32m    340\u001b[0m \u001b[38;5;28;01mdef\u001b[39;00m \u001b[38;5;21m_constant_tensor_conversion_function\u001b[39m(v, dtype\u001b[38;5;241m=\u001b[39m\u001b[38;5;28;01mNone\u001b[39;00m, name\u001b[38;5;241m=\u001b[39m\u001b[38;5;28;01mNone\u001b[39;00m,\n\u001b[1;32m    341\u001b[0m                                          as_ref\u001b[38;5;241m=\u001b[39m\u001b[38;5;28;01mFalse\u001b[39;00m):\n\u001b[1;32m    342\u001b[0m   _ \u001b[38;5;241m=\u001b[39m as_ref\n\u001b[0;32m--> 343\u001b[0m   \u001b[38;5;28;01mreturn\u001b[39;00m \u001b[43mconstant\u001b[49m\u001b[43m(\u001b[49m\u001b[43mv\u001b[49m\u001b[43m,\u001b[49m\u001b[43m \u001b[49m\u001b[43mdtype\u001b[49m\u001b[38;5;241;43m=\u001b[39;49m\u001b[43mdtype\u001b[49m\u001b[43m,\u001b[49m\u001b[43m \u001b[49m\u001b[43mname\u001b[49m\u001b[38;5;241;43m=\u001b[39;49m\u001b[43mname\u001b[49m\u001b[43m)\u001b[49m\n",
      "File \u001b[0;32m~/anaconda3/envs/stochastic_games/lib/python3.10/site-packages/tensorflow/python/framework/constant_op.py:267\u001b[0m, in \u001b[0;36mconstant\u001b[0;34m(value, dtype, shape, name)\u001b[0m\n\u001b[1;32m    170\u001b[0m \u001b[38;5;129m@tf_export\u001b[39m(\u001b[38;5;124m\"\u001b[39m\u001b[38;5;124mconstant\u001b[39m\u001b[38;5;124m\"\u001b[39m, v1\u001b[38;5;241m=\u001b[39m[])\n\u001b[1;32m    171\u001b[0m \u001b[38;5;28;01mdef\u001b[39;00m \u001b[38;5;21mconstant\u001b[39m(value, dtype\u001b[38;5;241m=\u001b[39m\u001b[38;5;28;01mNone\u001b[39;00m, shape\u001b[38;5;241m=\u001b[39m\u001b[38;5;28;01mNone\u001b[39;00m, name\u001b[38;5;241m=\u001b[39m\u001b[38;5;124m\"\u001b[39m\u001b[38;5;124mConst\u001b[39m\u001b[38;5;124m\"\u001b[39m):\n\u001b[1;32m    172\u001b[0m   \u001b[38;5;124;03m\"\"\"Creates a constant tensor from a tensor-like object.\u001b[39;00m\n\u001b[1;32m    173\u001b[0m \n\u001b[1;32m    174\u001b[0m \u001b[38;5;124;03m  Note: All eager `tf.Tensor` values are immutable (in contrast to\u001b[39;00m\n\u001b[0;32m   (...)\u001b[0m\n\u001b[1;32m    265\u001b[0m \u001b[38;5;124;03m    ValueError: if called on a symbolic tensor.\u001b[39;00m\n\u001b[1;32m    266\u001b[0m \u001b[38;5;124;03m  \"\"\"\u001b[39;00m\n\u001b[0;32m--> 267\u001b[0m   \u001b[38;5;28;01mreturn\u001b[39;00m \u001b[43m_constant_impl\u001b[49m\u001b[43m(\u001b[49m\u001b[43mvalue\u001b[49m\u001b[43m,\u001b[49m\u001b[43m \u001b[49m\u001b[43mdtype\u001b[49m\u001b[43m,\u001b[49m\u001b[43m \u001b[49m\u001b[43mshape\u001b[49m\u001b[43m,\u001b[49m\u001b[43m \u001b[49m\u001b[43mname\u001b[49m\u001b[43m,\u001b[49m\u001b[43m \u001b[49m\u001b[43mverify_shape\u001b[49m\u001b[38;5;241;43m=\u001b[39;49m\u001b[38;5;28;43;01mFalse\u001b[39;49;00m\u001b[43m,\u001b[49m\n\u001b[1;32m    268\u001b[0m \u001b[43m                        \u001b[49m\u001b[43mallow_broadcast\u001b[49m\u001b[38;5;241;43m=\u001b[39;49m\u001b[38;5;28;43;01mTrue\u001b[39;49;00m\u001b[43m)\u001b[49m\n",
      "File \u001b[0;32m~/anaconda3/envs/stochastic_games/lib/python3.10/site-packages/tensorflow/python/framework/constant_op.py:279\u001b[0m, in \u001b[0;36m_constant_impl\u001b[0;34m(value, dtype, shape, name, verify_shape, allow_broadcast)\u001b[0m\n\u001b[1;32m    277\u001b[0m     \u001b[38;5;28;01mwith\u001b[39;00m trace\u001b[38;5;241m.\u001b[39mTrace(\u001b[38;5;124m\"\u001b[39m\u001b[38;5;124mtf.constant\u001b[39m\u001b[38;5;124m\"\u001b[39m):\n\u001b[1;32m    278\u001b[0m       \u001b[38;5;28;01mreturn\u001b[39;00m _constant_eager_impl(ctx, value, dtype, shape, verify_shape)\n\u001b[0;32m--> 279\u001b[0m   \u001b[38;5;28;01mreturn\u001b[39;00m \u001b[43m_constant_eager_impl\u001b[49m\u001b[43m(\u001b[49m\u001b[43mctx\u001b[49m\u001b[43m,\u001b[49m\u001b[43m \u001b[49m\u001b[43mvalue\u001b[49m\u001b[43m,\u001b[49m\u001b[43m \u001b[49m\u001b[43mdtype\u001b[49m\u001b[43m,\u001b[49m\u001b[43m \u001b[49m\u001b[43mshape\u001b[49m\u001b[43m,\u001b[49m\u001b[43m \u001b[49m\u001b[43mverify_shape\u001b[49m\u001b[43m)\u001b[49m\n\u001b[1;32m    281\u001b[0m g \u001b[38;5;241m=\u001b[39m ops\u001b[38;5;241m.\u001b[39mget_default_graph()\n\u001b[1;32m    282\u001b[0m tensor_value \u001b[38;5;241m=\u001b[39m attr_value_pb2\u001b[38;5;241m.\u001b[39mAttrValue()\n",
      "File \u001b[0;32m~/anaconda3/envs/stochastic_games/lib/python3.10/site-packages/tensorflow/python/framework/constant_op.py:304\u001b[0m, in \u001b[0;36m_constant_eager_impl\u001b[0;34m(ctx, value, dtype, shape, verify_shape)\u001b[0m\n\u001b[1;32m    302\u001b[0m \u001b[38;5;28;01mdef\u001b[39;00m \u001b[38;5;21m_constant_eager_impl\u001b[39m(ctx, value, dtype, shape, verify_shape):\n\u001b[1;32m    303\u001b[0m   \u001b[38;5;124;03m\"\"\"Creates a constant on the current device.\"\"\"\u001b[39;00m\n\u001b[0;32m--> 304\u001b[0m   t \u001b[38;5;241m=\u001b[39m \u001b[43mconvert_to_eager_tensor\u001b[49m\u001b[43m(\u001b[49m\u001b[43mvalue\u001b[49m\u001b[43m,\u001b[49m\u001b[43m \u001b[49m\u001b[43mctx\u001b[49m\u001b[43m,\u001b[49m\u001b[43m \u001b[49m\u001b[43mdtype\u001b[49m\u001b[43m)\u001b[49m\n\u001b[1;32m    305\u001b[0m   \u001b[38;5;28;01mif\u001b[39;00m shape \u001b[38;5;129;01mis\u001b[39;00m \u001b[38;5;28;01mNone\u001b[39;00m:\n\u001b[1;32m    306\u001b[0m     \u001b[38;5;28;01mreturn\u001b[39;00m t\n",
      "File \u001b[0;32m~/anaconda3/envs/stochastic_games/lib/python3.10/site-packages/tensorflow/python/framework/constant_op.py:102\u001b[0m, in \u001b[0;36mconvert_to_eager_tensor\u001b[0;34m(value, ctx, dtype)\u001b[0m\n\u001b[1;32m    100\u001b[0m     dtype \u001b[38;5;241m=\u001b[39m dtypes\u001b[38;5;241m.\u001b[39mas_dtype(dtype)\u001b[38;5;241m.\u001b[39mas_datatype_enum\n\u001b[1;32m    101\u001b[0m ctx\u001b[38;5;241m.\u001b[39mensure_initialized()\n\u001b[0;32m--> 102\u001b[0m \u001b[38;5;28;01mreturn\u001b[39;00m \u001b[43mops\u001b[49m\u001b[38;5;241;43m.\u001b[39;49m\u001b[43mEagerTensor\u001b[49m\u001b[43m(\u001b[49m\u001b[43mvalue\u001b[49m\u001b[43m,\u001b[49m\u001b[43m \u001b[49m\u001b[43mctx\u001b[49m\u001b[38;5;241;43m.\u001b[39;49m\u001b[43mdevice_name\u001b[49m\u001b[43m,\u001b[49m\u001b[43m \u001b[49m\u001b[43mdtype\u001b[49m\u001b[43m)\u001b[49m\n",
      "\u001b[0;31mValueError\u001b[0m: Attempt to convert a value (<class 'mpg.mpgml.dataset.generator.MPGGeneratedDataset'>) with an unsupported type (<class 'abc.ABCMeta'>) to a Tensor."
     ]
    }
   ],
   "source": []
  },
  {
   "cell_type": "code",
   "execution_count": 1,
   "id": "c185625b-20fc-481a-84a9-6ce875529551",
   "metadata": {},
   "outputs": [
    {
     "name": "stderr",
     "output_type": "stream",
     "text": [
      "2023-04-02 19:15:27.169338: I tensorflow/core/platform/cpu_feature_guard.cc:193] This TensorFlow binary is optimized with oneAPI Deep Neural Network Library (oneDNN) to use the following CPU instructions in performance-critical operations:  SSE4.1 SSE4.2 AVX AVX2 FMA\n",
      "To enable them in other operations, rebuild TensorFlow with the appropriate compiler flags.\n"
     ]
    }
   ],
   "source": [
    "import numpy as np\n",
    "import tensorflow as tf\n",
    "import mpg.graph.random_graph\n",
    "import networkx as nx\n",
    "\n",
    "\n",
    "def _convert_sparse_matrix_to_sparse_tensor(X, shape_hint):\n",
    "    coo = X.tocoo()\n",
    "    indices = np.mat([coo.row, coo.col]).transpose()\n",
    "    return tf.SparseTensor(indices, coo.data, shape_hint)\n",
    "\n",
    "\n",
    "def _stack_sparse_tensors(shape_hint, *A):\n",
    "    indices = []\n",
    "    values = []\n",
    "    for i, Z in enumerate(A):\n",
    "        for L, v in zip(Z.indices, Z.values):\n",
    "            indices.append([i, *L])\n",
    "            values.append(v)\n",
    "    return tf.sparse.SparseTensor(indices, values, shape_hint)\n",
    "\n",
    "\n",
    "def _as_tensor(A, as_dense: bool, shape_hint=None):\n",
    "    if as_dense:\n",
    "        return tf.convert_to_tensor(A.todense())\n",
    "    else:\n",
    "        return _convert_sparse_matrix_to_sparse_tensor(A, shape_hint)\n",
    "\n",
    "\n",
    "def _generate_instances(n,p,seed, cardinality: int, target: bool, as_graph: bool,\n",
    "                        adj_matrix: bool, weight_matrix: bool, as_dense: bool):\n",
    "    generator=np.random.Generator(np.random.MT19937(seed))\n",
    "    graph = mpg.graph.random_graph.gnp_random_mpg(n=n,p=p, seed=seed, method=\"fast\", loops=True,\n",
    "                                                  distribution=\"integers\", low=0, high=10, endpoint=True)\n",
    "    output = None\n",
    "    if as_graph:\n",
    "        output = graph\n",
    "    else:\n",
    "        if adj_matrix and weight_matrix:\n",
    "            A = _as_tensor(nx.adjacency_matrix(graph, weight=None), as_dense=as_dense, shape_hint=(n, n))\n",
    "            W = _as_tensor(nx.adjacency_matrix(graph, weight=\"weight\"), as_dense=as_dense, shape_hint=(n, n))\n",
    "            if as_dense:\n",
    "                output = tf.stack([A, W], axis=0)\n",
    "            else:\n",
    "                output = tf.cast(_stack_sparse_tensors((2, n, n), A, W),dtype=tf.float32)\n",
    "\n",
    "        elif adj_matrix:\n",
    "            output = tf.cast(_as_tensor(nx.adjacency_matrix(graph, weight=None), as_dense=as_dense, shape_hint=(n, n)),dtype=tf.float32)\n",
    "        elif weight_matrix:\n",
    "            output = tf.cast(_as_tensor(nx.adjacency_matrix(graph, weight=\"weight\"), as_dense=as_dense, shape_hint=(n, n)),dtype=tf.float32)\n",
    "    starting=tf.constant([generator.integers(0,n),generator.integers(0,1,endpoint=True)])\n",
    "    if target:\n",
    "        # TODO: Add target\n",
    "        return (output,starting,1)\n",
    "    else:\n",
    "        return (output,1)\n",
    "def _generate_dense_instances(n,p,seed, cardinality: int, target: bool, weight_matrix: bool,flatten:bool):\n",
    "\n",
    "    generator=np.random.Generator(np.random.MT19937(seed))\n",
    "    shape=(n,n) if not flatten else (n*n,)\n",
    "    W=generator.integers(-10,10,endpoint=True,size=shape)\n",
    "    A=generator.integers(0,2,endpoint=True,size=shape)\n",
    "    W=np.multiply(A,W)\n",
    "    vertex=generator.integers(0,n)\n",
    "    player=generator.integers(0,2,endpoint=True)\n",
    "    if flatten:\n",
    "        if weight_matrix:\n",
    "            output=tf.cast(tf.concat([A,W,vertex,player],axis=0),dtype=tf.float32)\n",
    "        else:\n",
    "            output=tf.cast(tf.concat([A,vertex,player],axis=0),dtype=tf.float32)\n",
    "        if target:\n",
    "            return (output,1)\n",
    "        return output\n",
    "    else:\n",
    "        if weight_matrix:\n",
    "            output=tf.cast(tf.stack([A,W],axis=0),dtype=tf.float32)\n",
    "        else:\n",
    "            output=tf.cast(A,dtype=tf.float32)\n",
    "        if target:\n",
    "            return (output,tf.constant([vertex,player]),1)\n",
    "        return (output,tf.constant([vertex,player]))\n",
    "class MPGGeneratedDenseDataset(tf.data.Dataset):\n",
    "    def _generator(n,p,cardinality: int, target: bool, weight_matrix: bool,flatten):\n",
    "        if cardinality == tf.data.INFINITE_CARDINALITY:\n",
    "            seed = 0\n",
    "            while True:\n",
    "                yield _generate_dense_instances(n,p,seed, cardinality, target, weight_matrix, flatten)\n",
    "                seed += 1\n",
    "        else:\n",
    "            for sample_idx in range(cardinality):\n",
    "                yield _generate_dense_instances(n,p,sample_idx, cardinality, target, weight_matrix, flatten)\n",
    "\n",
    "\n",
    "    def __new__(cls,n,p, cardinality=tf.data.INFINITE_CARDINALITY,\n",
    "                target: bool = False,weight_matrix: bool =True,flatten =False):\n",
    "        shape = None\n",
    "        if flatten:\n",
    "            if weight_matrix:\n",
    "                shape=(2*n*n+2,)\n",
    "            else:\n",
    "                shape=(n*n+2,)\n",
    "            signature = (tf.TensorSpec(shape=shape, dtype=tf.float32),)\n",
    "        else:\n",
    "            shape=(n,n)\n",
    "            signature = (tf.TensorSpec(shape=shape, dtype=tf.float32),tf.TensorSpec(shape=(2,), dtype=tf.int32))\n",
    "        if target:\n",
    "            signature = (*signature, tf.TensorSpec(shape=()))\n",
    "        return tf.data.Dataset.from_generator(\n",
    "            cls._generator,\n",
    "            args=(n,p,cardinality, target, weight_matrix,flatten),\n",
    "            output_signature=signature\n",
    "        )\n",
    "\n",
    "    def __init__(self,n,p):\n",
    "        pass\n",
    "\n",
    "\n",
    "class MPGGeneratedDataset(tf.data.Dataset):\n",
    "    def _generator(n,p,cardinality: int, target: bool, as_graph: bool,\n",
    "                   adj_matrix: bool, weight_matrix: bool, as_dense: bool):\n",
    "        if cardinality == tf.data.INFINITE_CARDINALITY:\n",
    "            seed = 0\n",
    "            while True:\n",
    "                yield _generate_instances(n,p,seed, cardinality, target, as_graph, adj_matrix, weight_matrix, as_dense)\n",
    "                seed += 1\n",
    "        else:\n",
    "            for sample_idx in range(cardinality):\n",
    "                yield _generate_instances(n,p,sample_idx, cardinality, target, as_graph, adj_matrix, weight_matrix,\n",
    "                                          as_dense)\n",
    "\n",
    "    def __new__(cls,n,p, cardinality=tf.data.INFINITE_CARDINALITY, target: bool = False, as_graph: bool = False,\n",
    "                adj_matrix: bool = True, weight_matrix: bool = True, as_dense: bool = True):\n",
    "        shape = None\n",
    "        if as_graph:\n",
    "            signature = tf.TensorSpec(shape=(), dtype=mpg.MeanPayoffGraph)\n",
    "        else:\n",
    "            if adj_matrix and weight_matrix:\n",
    "                shape = (2, n, n)\n",
    "            elif adj_matrix or weight_matrix:\n",
    "                shape = (n, n)\n",
    "            else:\n",
    "                raise ValueError(\"Must specify at least one of adj_matrix or weight_matrix\")\n",
    "        if as_dense:\n",
    "            TensorSpec = tf.TensorSpec\n",
    "        else:\n",
    "            TensorSpec = tf.SparseTensorSpec\n",
    "        signature = (TensorSpec(shape=shape),tf.TensorSpec(shape=(2,), dtype=tf.int32))\n",
    "        if target:\n",
    "            signature = (*signature, tf.TensorSpec(shape=()))\n",
    "        return tf.data.Dataset.from_generator(\n",
    "            cls._generator,\n",
    "            args=(n,p,cardinality, target, as_graph, adj_matrix, weight_matrix, as_dense),\n",
    "            output_signature=signature\n",
    "        )\n",
    "\n",
    "    def __init__(self,n,p):\n",
    "        pass\n"
   ]
  },
  {
   "cell_type": "code",
   "execution_count": 2,
   "id": "725f89f4-9709-4d85-9b27-ecdc2d4dbfa5",
   "metadata": {},
   "outputs": [
    {
     "name": "stderr",
     "output_type": "stream",
     "text": [
      "2023-04-02 19:15:31.150790: E tensorflow/compiler/xla/stream_executor/cuda/cuda_driver.cc:267] failed call to cuInit: CUDA_ERROR_UNKNOWN: unknown error\n",
      "2023-04-02 19:15:31.150828: I tensorflow/compiler/xla/stream_executor/cuda/cuda_diagnostics.cc:169] retrieving CUDA diagnostic information for host: fedora\n",
      "2023-04-02 19:15:31.150835: I tensorflow/compiler/xla/stream_executor/cuda/cuda_diagnostics.cc:176] hostname: fedora\n",
      "2023-04-02 19:15:31.150974: I tensorflow/compiler/xla/stream_executor/cuda/cuda_diagnostics.cc:200] libcuda reported version is: 525.89.2\n",
      "2023-04-02 19:15:31.150990: I tensorflow/compiler/xla/stream_executor/cuda/cuda_diagnostics.cc:204] kernel reported version is: 525.89.2\n",
      "2023-04-02 19:15:31.150995: I tensorflow/compiler/xla/stream_executor/cuda/cuda_diagnostics.cc:310] kernel version seems to match DSO: 525.89.2\n",
      "2023-04-02 19:15:31.151891: I tensorflow/core/platform/cpu_feature_guard.cc:193] This TensorFlow binary is optimized with oneAPI Deep Neural Network Library (oneDNN) to use the following CPU instructions in performance-critical operations:  SSE4.1 SSE4.2 AVX AVX2 FMA\n",
      "To enable them in other operations, rebuild TensorFlow with the appropriate compiler flags.\n"
     ]
    }
   ],
   "source": [
    "dataset=MPGGeneratedDenseDataset(100,0.5,cardinality=10,weight_matrix=True,target=True)"
   ]
  },
  {
   "cell_type": "code",
   "execution_count": null,
   "id": "58229cfe-8f48-4d02-b5d9-227796a6bec3",
   "metadata": {},
   "outputs": [
    {
     "name": "stderr",
     "output_type": "stream",
     "text": [
      "2023-04-02 19:15:51.391377: W tensorflow/core/framework/op_kernel.cc:1818] INVALID_ARGUMENT: TypeError: `generator` yielded an element of shape (2, 100, 100) where an element of shape (100, 100) was expected.\n",
      "Traceback (most recent call last):\n",
      "\n",
      "  File \"/home/ramizouari/anaconda3/envs/stochastic_games/lib/python3.10/site-packages/tensorflow/python/ops/script_ops.py\", line 271, in __call__\n",
      "    ret = func(*args)\n",
      "\n",
      "  File \"/home/ramizouari/anaconda3/envs/stochastic_games/lib/python3.10/site-packages/tensorflow/python/autograph/impl/api.py\", line 642, in wrapper\n",
      "    return func(*args, **kwargs)\n",
      "\n",
      "  File \"/home/ramizouari/anaconda3/envs/stochastic_games/lib/python3.10/site-packages/tensorflow/python/data/ops/dataset_ops.py\", line 1076, in generator_py_func\n",
      "    raise TypeError(\n",
      "\n",
      "TypeError: `generator` yielded an element of shape (2, 100, 100) where an element of shape (100, 100) was expected.\n",
      "\n",
      "\n",
      "2023-04-02 19:15:51.397096: W tensorflow/core/framework/op_kernel.cc:1818] INVALID_ARGUMENT: TypeError: `generator` yielded an element of shape (2, 100, 100) where an element of shape (100, 100) was expected.\n",
      "Traceback (most recent call last):\n",
      "\n",
      "  File \"/home/ramizouari/anaconda3/envs/stochastic_games/lib/python3.10/site-packages/tensorflow/python/ops/script_ops.py\", line 271, in __call__\n",
      "    ret = func(*args)\n",
      "\n",
      "  File \"/home/ramizouari/anaconda3/envs/stochastic_games/lib/python3.10/site-packages/tensorflow/python/autograph/impl/api.py\", line 642, in wrapper\n",
      "    return func(*args, **kwargs)\n",
      "\n",
      "  File \"/home/ramizouari/anaconda3/envs/stochastic_games/lib/python3.10/site-packages/tensorflow/python/data/ops/dataset_ops.py\", line 1076, in generator_py_func\n",
      "    raise TypeError(\n",
      "\n",
      "TypeError: `generator` yielded an element of shape (2, 100, 100) where an element of shape (100, 100) was expected.\n",
      "\n",
      "\n"
     ]
    },
    {
     "ename": "InvalidArgumentError",
     "evalue": "{{function_node __wrapped__IteratorGetNext_output_types_3_device_/job:localhost/replica:0/task:0/device:CPU:0}} TypeError: `generator` yielded an element of shape (2, 100, 100) where an element of shape (100, 100) was expected.\nTraceback (most recent call last):\n\n  File \"/home/ramizouari/anaconda3/envs/stochastic_games/lib/python3.10/site-packages/tensorflow/python/ops/script_ops.py\", line 271, in __call__\n    ret = func(*args)\n\n  File \"/home/ramizouari/anaconda3/envs/stochastic_games/lib/python3.10/site-packages/tensorflow/python/autograph/impl/api.py\", line 642, in wrapper\n    return func(*args, **kwargs)\n\n  File \"/home/ramizouari/anaconda3/envs/stochastic_games/lib/python3.10/site-packages/tensorflow/python/data/ops/dataset_ops.py\", line 1076, in generator_py_func\n    raise TypeError(\n\nTypeError: `generator` yielded an element of shape (2, 100, 100) where an element of shape (100, 100) was expected.\n\n\n\t [[{{node PyFunc}}]] [Op:IteratorGetNext]",
     "output_type": "error",
     "traceback": [
      "\u001b[0;31m---------------------------------------------------------------------------\u001b[0m",
      "\u001b[0;31mInvalidArgumentError\u001b[0m                      Traceback (most recent call last)",
      "Cell \u001b[0;32mIn[3], line 1\u001b[0m\n\u001b[0;32m----> 1\u001b[0m \u001b[38;5;28;01mfor\u001b[39;00m row \u001b[38;5;129;01min\u001b[39;00m dataset:\n\u001b[1;32m      2\u001b[0m     \u001b[38;5;28mprint\u001b[39m(row)\n",
      "File \u001b[0;32m~/anaconda3/envs/stochastic_games/lib/python3.10/site-packages/tensorflow/python/data/ops/iterator_ops.py:787\u001b[0m, in \u001b[0;36mOwnedIterator.__next__\u001b[0;34m(self)\u001b[0m\n\u001b[1;32m    785\u001b[0m \u001b[38;5;28;01mdef\u001b[39;00m \u001b[38;5;21m__next__\u001b[39m(\u001b[38;5;28mself\u001b[39m):\n\u001b[1;32m    786\u001b[0m   \u001b[38;5;28;01mtry\u001b[39;00m:\n\u001b[0;32m--> 787\u001b[0m     \u001b[38;5;28;01mreturn\u001b[39;00m \u001b[38;5;28;43mself\u001b[39;49m\u001b[38;5;241;43m.\u001b[39;49m\u001b[43m_next_internal\u001b[49m\u001b[43m(\u001b[49m\u001b[43m)\u001b[49m\n\u001b[1;32m    788\u001b[0m   \u001b[38;5;28;01mexcept\u001b[39;00m errors\u001b[38;5;241m.\u001b[39mOutOfRangeError:\n\u001b[1;32m    789\u001b[0m     \u001b[38;5;28;01mraise\u001b[39;00m \u001b[38;5;167;01mStopIteration\u001b[39;00m\n",
      "File \u001b[0;32m~/anaconda3/envs/stochastic_games/lib/python3.10/site-packages/tensorflow/python/data/ops/iterator_ops.py:770\u001b[0m, in \u001b[0;36mOwnedIterator._next_internal\u001b[0;34m(self)\u001b[0m\n\u001b[1;32m    767\u001b[0m \u001b[38;5;66;03m# TODO(b/77291417): This runs in sync mode as iterators use an error status\u001b[39;00m\n\u001b[1;32m    768\u001b[0m \u001b[38;5;66;03m# to communicate that there is no more data to iterate over.\u001b[39;00m\n\u001b[1;32m    769\u001b[0m \u001b[38;5;28;01mwith\u001b[39;00m context\u001b[38;5;241m.\u001b[39mexecution_mode(context\u001b[38;5;241m.\u001b[39mSYNC):\n\u001b[0;32m--> 770\u001b[0m   ret \u001b[38;5;241m=\u001b[39m \u001b[43mgen_dataset_ops\u001b[49m\u001b[38;5;241;43m.\u001b[39;49m\u001b[43miterator_get_next\u001b[49m\u001b[43m(\u001b[49m\n\u001b[1;32m    771\u001b[0m \u001b[43m      \u001b[49m\u001b[38;5;28;43mself\u001b[39;49m\u001b[38;5;241;43m.\u001b[39;49m\u001b[43m_iterator_resource\u001b[49m\u001b[43m,\u001b[49m\n\u001b[1;32m    772\u001b[0m \u001b[43m      \u001b[49m\u001b[43moutput_types\u001b[49m\u001b[38;5;241;43m=\u001b[39;49m\u001b[38;5;28;43mself\u001b[39;49m\u001b[38;5;241;43m.\u001b[39;49m\u001b[43m_flat_output_types\u001b[49m\u001b[43m,\u001b[49m\n\u001b[1;32m    773\u001b[0m \u001b[43m      \u001b[49m\u001b[43moutput_shapes\u001b[49m\u001b[38;5;241;43m=\u001b[39;49m\u001b[38;5;28;43mself\u001b[39;49m\u001b[38;5;241;43m.\u001b[39;49m\u001b[43m_flat_output_shapes\u001b[49m\u001b[43m)\u001b[49m\n\u001b[1;32m    775\u001b[0m   \u001b[38;5;28;01mtry\u001b[39;00m:\n\u001b[1;32m    776\u001b[0m     \u001b[38;5;66;03m# Fast path for the case `self._structure` is not a nested structure.\u001b[39;00m\n\u001b[1;32m    777\u001b[0m     \u001b[38;5;28;01mreturn\u001b[39;00m \u001b[38;5;28mself\u001b[39m\u001b[38;5;241m.\u001b[39m_element_spec\u001b[38;5;241m.\u001b[39m_from_compatible_tensor_list(ret)  \u001b[38;5;66;03m# pylint: disable=protected-access\u001b[39;00m\n",
      "File \u001b[0;32m~/anaconda3/envs/stochastic_games/lib/python3.10/site-packages/tensorflow/python/ops/gen_dataset_ops.py:3017\u001b[0m, in \u001b[0;36miterator_get_next\u001b[0;34m(iterator, output_types, output_shapes, name)\u001b[0m\n\u001b[1;32m   3015\u001b[0m   \u001b[38;5;28;01mreturn\u001b[39;00m _result\n\u001b[1;32m   3016\u001b[0m \u001b[38;5;28;01mexcept\u001b[39;00m _core\u001b[38;5;241m.\u001b[39m_NotOkStatusException \u001b[38;5;28;01mas\u001b[39;00m e:\n\u001b[0;32m-> 3017\u001b[0m   \u001b[43m_ops\u001b[49m\u001b[38;5;241;43m.\u001b[39;49m\u001b[43mraise_from_not_ok_status\u001b[49m\u001b[43m(\u001b[49m\u001b[43me\u001b[49m\u001b[43m,\u001b[49m\u001b[43m \u001b[49m\u001b[43mname\u001b[49m\u001b[43m)\u001b[49m\n\u001b[1;32m   3018\u001b[0m \u001b[38;5;28;01mexcept\u001b[39;00m _core\u001b[38;5;241m.\u001b[39m_FallbackException:\n\u001b[1;32m   3019\u001b[0m   \u001b[38;5;28;01mpass\u001b[39;00m\n",
      "File \u001b[0;32m~/anaconda3/envs/stochastic_games/lib/python3.10/site-packages/tensorflow/python/framework/ops.py:7215\u001b[0m, in \u001b[0;36mraise_from_not_ok_status\u001b[0;34m(e, name)\u001b[0m\n\u001b[1;32m   7213\u001b[0m \u001b[38;5;28;01mdef\u001b[39;00m \u001b[38;5;21mraise_from_not_ok_status\u001b[39m(e, name):\n\u001b[1;32m   7214\u001b[0m   e\u001b[38;5;241m.\u001b[39mmessage \u001b[38;5;241m+\u001b[39m\u001b[38;5;241m=\u001b[39m (\u001b[38;5;124m\"\u001b[39m\u001b[38;5;124m name: \u001b[39m\u001b[38;5;124m\"\u001b[39m \u001b[38;5;241m+\u001b[39m name \u001b[38;5;28;01mif\u001b[39;00m name \u001b[38;5;129;01mis\u001b[39;00m \u001b[38;5;129;01mnot\u001b[39;00m \u001b[38;5;28;01mNone\u001b[39;00m \u001b[38;5;28;01melse\u001b[39;00m \u001b[38;5;124m\"\u001b[39m\u001b[38;5;124m\"\u001b[39m)\n\u001b[0;32m-> 7215\u001b[0m   \u001b[38;5;28;01mraise\u001b[39;00m core\u001b[38;5;241m.\u001b[39m_status_to_exception(e) \u001b[38;5;28;01mfrom\u001b[39;00m \u001b[38;5;28mNone\u001b[39m\n",
      "\u001b[0;31mInvalidArgumentError\u001b[0m: {{function_node __wrapped__IteratorGetNext_output_types_3_device_/job:localhost/replica:0/task:0/device:CPU:0}} TypeError: `generator` yielded an element of shape (2, 100, 100) where an element of shape (100, 100) was expected.\nTraceback (most recent call last):\n\n  File \"/home/ramizouari/anaconda3/envs/stochastic_games/lib/python3.10/site-packages/tensorflow/python/ops/script_ops.py\", line 271, in __call__\n    ret = func(*args)\n\n  File \"/home/ramizouari/anaconda3/envs/stochastic_games/lib/python3.10/site-packages/tensorflow/python/autograph/impl/api.py\", line 642, in wrapper\n    return func(*args, **kwargs)\n\n  File \"/home/ramizouari/anaconda3/envs/stochastic_games/lib/python3.10/site-packages/tensorflow/python/data/ops/dataset_ops.py\", line 1076, in generator_py_func\n    raise TypeError(\n\nTypeError: `generator` yielded an element of shape (2, 100, 100) where an element of shape (100, 100) was expected.\n\n\n\t [[{{node PyFunc}}]] [Op:IteratorGetNext]"
     ]
    }
   ],
   "source": [
    "for row in dataset:\n",
    "    print(row)"
   ]
  },
  {
   "cell_type": "code",
   "execution_count": 191,
   "id": "224616e8-f5f7-4193-a904-2bad8b99c4f5",
   "metadata": {},
   "outputs": [],
   "source": [
    "\n",
    "import tensorflow.keras as keras\n",
    "model=keras.Sequential([\n",
    "    keras.layers.Flatten(),\n",
    "    keras.layers.BatchNormalization(),\n",
    "    keras.layers.Dense(100,activation=\"relu\"),\n",
    "    keras.layers.Dense(50,activation=\"relu\"),\n",
    "    keras.layers.BatchNormalization(),\n",
    "    keras.layers.Dense(50,activation=\"relu\"),\n",
    "    keras.layers.Dense(15,activation=\"relu\"),\n",
    "    keras.layers.BatchNormalization(),\n",
    "    keras.layers.Dense(15,activation=\"relu\"),\n",
    "    keras.layers.Dense(1,\"sigmoid\")\n",
    "])"
   ]
  },
  {
   "cell_type": "code",
   "execution_count": 192,
   "id": "b8d1fa73-a6f7-4b3f-8839-9bab25d075dd",
   "metadata": {},
   "outputs": [
    {
     "name": "stdout",
     "output_type": "stream",
     "text": [
      "Epoch 1/25\n",
      "   4/4096 [..............................] - ETA: 4:16:24 - loss: 0.7570 - accuracy: 0.5195"
     ]
    },
    {
     "name": "stderr",
     "output_type": "stream",
     "text": [
      "\n",
      "KeyboardInterrupt\n",
      "\n"
     ]
    }
   ],
   "source": [
    "model.compile(\n",
    "    optimizer=\"Adam\",\n",
    "    loss=tf.keras.losses.BinaryCrossentropy(),\n",
    "    metrics=[\"accuracy\"],\n",
    ")\n",
    "model.fit(x=transformed,\n",
    "    epochs=25,\n",
    "    verbose='auto',\n",
    "    steps_per_epoch=4096,\n",
    "    shuffle=True)"
   ]
  },
  {
   "cell_type": "code",
   "execution_count": 101,
   "id": "6b742d82-9f2b-48a4-9e09-ac865e8f6563",
   "metadata": {},
   "outputs": [
    {
     "ename": "NameError",
     "evalue": "name 'S' is not defined",
     "output_type": "error",
     "traceback": [
      "\u001b[0;31m---------------------------------------------------------------------------\u001b[0m",
      "\u001b[0;31mNameError\u001b[0m                                 Traceback (most recent call last)",
      "Cell \u001b[0;32mIn[150], line 1\u001b[0m\n\u001b[0;32m----> 1\u001b[0m \u001b[38;5;28;01mfor\u001b[39;00m x \u001b[38;5;129;01min\u001b[39;00m \u001b[43mS\u001b[49m:\n\u001b[1;32m      2\u001b[0m     \u001b[38;5;28mprint\u001b[39m(x)\n",
      "\u001b[0;31mNameError\u001b[0m: name 'S' is not defined"
     ]
    }
   ],
   "source": [
    "for x in S:\n",
    "    print(x)"
   ]
  },
  {
   "cell_type": "code",
   "execution_count": 95,
   "id": "1e738124-3e9d-4d50-8259-b17c518a89fe",
   "metadata": {},
   "outputs": [
    {
     "ename": "TypeError",
     "evalue": "Tensor.__init__() missing 2 required positional arguments: 'value_index' and 'dtype'",
     "output_type": "error",
     "traceback": [
      "\u001b[0;31m---------------------------------------------------------------------------\u001b[0m",
      "\u001b[0;31mTypeError\u001b[0m                                 Traceback (most recent call last)",
      "Cell \u001b[0;32mIn[95], line 1\u001b[0m\n\u001b[0;32m----> 1\u001b[0m \u001b[43mtf\u001b[49m\u001b[38;5;241;43m.\u001b[39;49m\u001b[43mTensor\u001b[49m\u001b[43m(\u001b[49m\u001b[43m[\u001b[49m\u001b[43m[\u001b[49m\u001b[38;5;241;43m3\u001b[39;49m\u001b[43m,\u001b[49m\u001b[38;5;241;43m25\u001b[39;49m\u001b[43m]\u001b[49m\u001b[43m]\u001b[49m\u001b[43m)\u001b[49m\n",
      "\u001b[0;31mTypeError\u001b[0m: Tensor.__init__() missing 2 required positional arguments: 'value_index' and 'dtype'"
     ]
    }
   ],
   "source": []
  },
  {
   "cell_type": "code",
   "execution_count": 111,
   "id": "76525fcd-f9d6-4fe6-8296-b8650bd55e9d",
   "metadata": {},
   "outputs": [],
   "source": [
    "graph = mpg.graph.random_graph.gnp_random_mpg(10, 0.5, seed=1, method=\"fast\", loops=True,\n",
    "                                              distribution=\"integers\", low=0, high=10, endpoint=True)"
   ]
  },
  {
   "cell_type": "code",
   "execution_count": 123,
   "id": "1ed80934-92d8-4292-bca8-6d68460daf35",
   "metadata": {},
   "outputs": [],
   "source": [
    "A = tf.convert_to_tensor(nx.adjacency_matrix(graph, weight=None).todense())"
   ]
  },
  {
   "cell_type": "code",
   "execution_count": 181,
   "id": "f31b98bc-6320-4e42-a7de-0f7a271069a8",
   "metadata": {},
   "outputs": [],
   "source": [
    "\n",
    "coo = nx.adjacency_matrix(graph).tocoo()\n",
    "indices = np.mat([coo.row, coo.col]).transpose()\n",
    "Z=tf.SparseTensor(indices, coo.data, (10,10))"
   ]
  },
  {
   "cell_type": "code",
   "execution_count": 44,
   "id": "88f34aa6-bae6-4e5a-988e-d463f4315552",
   "metadata": {},
   "outputs": [
    {
     "ename": "TypeError",
     "evalue": "binomial() takes at least 2 positional arguments (0 given)",
     "output_type": "error",
     "traceback": [
      "\u001b[0;31m---------------------------------------------------------------------------\u001b[0m",
      "\u001b[0;31mTypeError\u001b[0m                                 Traceback (most recent call last)",
      "Cell \u001b[0;32mIn[44], line 1\u001b[0m\n\u001b[0;32m----> 1\u001b[0m \u001b[43mnp\u001b[49m\u001b[38;5;241;43m.\u001b[39;49m\u001b[43mrandom\u001b[49m\u001b[38;5;241;43m.\u001b[39;49m\u001b[43mbinomial\u001b[49m\u001b[43m(\u001b[49m\u001b[43m)\u001b[49m\n",
      "File \u001b[0;32mmtrand.pyx:3283\u001b[0m, in \u001b[0;36mnumpy.random.mtrand.RandomState.binomial\u001b[0;34m()\u001b[0m\n",
      "\u001b[0;31mTypeError\u001b[0m: binomial() takes at least 2 positional arguments (0 given)"
     ]
    }
   ],
   "source": []
  },
  {
   "cell_type": "code",
   "execution_count": 28,
   "id": "381345b7-1bd3-44da-84b1-e7b56fe855d5",
   "metadata": {},
   "outputs": [
    {
     "name": "stderr",
     "output_type": "stream",
     "text": [
      "2023-04-02 15:36:19.793565: I tensorflow/core/platform/cpu_feature_guard.cc:193] This TensorFlow binary is optimized with oneAPI Deep Neural Network Library (oneDNN) to use the following CPU instructions in performance-critical operations:  SSE4.1 SSE4.2 AVX AVX2 FMA\n",
      "To enable them in other operations, rebuild TensorFlow with the appropriate compiler flags.\n"
     ]
    }
   ],
   "source": [
    "import numpy as np\n",
    "import tensorflow as tf\n",
    "import mpg.graph.random_graph\n",
    "import networkx as nx\n",
    "\n",
    "\n",
    "def _convert_sparse_matrix_to_sparse_tensor(X, shape_hint):\n",
    "    coo = X.tocoo()\n",
    "    indices = np.mat([coo.row, coo.col]).transpose()\n",
    "    return tf.SparseTensor(indices, coo.data, shape_hint)\n",
    "\n",
    "\n",
    "def _stack_sparse_tensors(shape_hint, *A):\n",
    "    indices = []\n",
    "    values = []\n",
    "    for i, Z in enumerate(A):\n",
    "        for L, v in zip(Z.indices, Z.values):\n",
    "            indices.append([i, *L])\n",
    "            values.append(v)\n",
    "    return tf.sparse.SparseTensor(indices, values, shape_hint)\n",
    "\n",
    "\n",
    "def _as_tensor(A, as_dense: bool, shape_hint=None):\n",
    "    if as_dense:\n",
    "        return tf.convert_to_tensor(A.todense())\n",
    "    else:\n",
    "        return _convert_sparse_matrix_to_sparse_tensor(A, shape_hint)\n",
    "\n",
    "\n",
    "def _generate_instances(seed, cardinality: int, target: bool, as_graph: bool,\n",
    "                        adj_matrix: bool, weight_matrix: bool, as_dense: bool, dtype=np.float32):\n",
    "    graph = mpg.graph.random_graph.gnp_random_mpg(10, 0.5, seed=seed, method=\"fast\", loops=True,\n",
    "                                                  distribution=\"integers\", low=0, high=10, endpoint=True)\n",
    "    n = len(graph)\n",
    "    output = None\n",
    "    generator= np.random.Generator(np.random.MT19937(seed))\n",
    "    if as_graph:\n",
    "        output = graph\n",
    "    else:\n",
    "        if adj_matrix and weight_matrix:\n",
    "            A = _as_tensor(nx.adjacency_matrix(graph, weight=None), as_dense=as_dense, shape_hint=(n, n))\n",
    "            W = _as_tensor(nx.adjacency_matrix(graph, weight=\"weight\"), as_dense=as_dense, shape_hint=(n, n))\n",
    "            if as_dense:\n",
    "                output = tf.stack([A, W], axis=0)\n",
    "            else:\n",
    "                output = tf.cast(_stack_sparse_tensors((2, n, n), A, W), dtype=dtype)\n",
    "\n",
    "\n",
    "        elif adj_matrix:\n",
    "            output = _as_tensor(nx.adjacency_matrix(graph, weight=None), as_dense=as_dense, shape_hint=(n, n))\n",
    "        elif weight_matrix:\n",
    "            output = _as_tensor(nx.adjacency_matrix(graph, weight=\"weight\"), as_dense=as_dense, shape_hint=(n, n))\n",
    "    starting=np.array(generator.integers(0, n, endpoint=False), generator.integers(0, 1, endpoint=True))\n",
    "    if target:\n",
    "        # TODO: Add target\n",
    "        return output, starting\n",
    "    else:\n",
    "        return output, starting\n",
    "\n",
    "\n",
    "class MPGGeneratedDataset(tf.data.Dataset):\n",
    "    def _generator(cardinality: int, target: bool, as_graph: bool,\n",
    "                   adj_matrix: bool, weight_matrix: bool, as_dense, dtype):\n",
    "        if cardinality == tf.data.INFINITE_CARDINALITY:\n",
    "            seed = 0\n",
    "            while True:\n",
    "                yield _generate_instances(seed, cardinality, target, as_graph, adj_matrix, weight_matrix, as_dense)\n",
    "                seed += 1\n",
    "        else:\n",
    "            for sample_idx in range(cardinality):\n",
    "                yield _generate_instances(sample_idx, cardinality, target, as_graph, adj_matrix, weight_matrix,\n",
    "                                          as_dense)\n",
    "\n",
    "    def __new__(cls, cardinality=tf.data.INFINITE_CARDINALITY, target: bool = False, as_graph: bool = False,\n",
    "                adj_matrix: bool = True, weight_matrix: bool = True, as_dense: bool = True, dtype=np.float32):\n",
    "        shape = None\n",
    "        if as_graph:\n",
    "            signature = tf.TensorSpec(shape=(), dtype=mpg.MeanPayoffGraph)\n",
    "        else:\n",
    "            if adj_matrix and weight_matrix:\n",
    "                shape = (2, None, None)\n",
    "            elif adj_matrix or weight_matrix:\n",
    "                shape = (None, None)\n",
    "            else:\n",
    "                raise ValueError(\"Must specify at least one of adj_matrix or weight_matrix\")\n",
    "        if as_dense:\n",
    "            TensorSpec = tf.TensorSpec\n",
    "        else:\n",
    "            TensorSpec = tf.SparseTensorSpec\n",
    "        signature = (TensorSpec(shape=shape, dtype=tf.float32),tf.TensorSpec(shape=(2,),dtype=tf.int16))\n",
    "        if target:\n",
    "            signature = (*signature, tf.TensorSpec(shape=(), dtype=dtype))\n",
    "        return tf.data.Dataset.from_generator(\n",
    "            cls._generator,\n",
    "            args=(cardinality, target, as_graph, adj_matrix, weight_matrix, as_dense, dtype),\n",
    "            output_signature=signature\n",
    "        )"
   ]
  },
  {
   "cell_type": "code",
   "execution_count": 198,
   "id": "a221f6ba-9aaf-4185-bae0-97da9546647b",
   "metadata": {},
   "outputs": [
    {
     "data": {
      "text/plain": [
       "<zip at 0x7fad8dbf60c0>"
      ]
     },
     "execution_count": 198,
     "metadata": {},
     "output_type": "execute_result"
    }
   ],
   "source": [
    "zip(range(2),Z.indices)"
   ]
  },
  {
   "cell_type": "code",
   "execution_count": 202,
   "id": "ac159200-e868-4a3d-bbd0-2c99c86982a8",
   "metadata": {},
   "outputs": [
    {
     "name": "stdout",
     "output_type": "stream",
     "text": [
      "tf.Tensor([0 0], shape=(2,), dtype=int64)\n",
      "tf.Tensor([0 5], shape=(2,), dtype=int64)\n",
      "tf.Tensor([0 8], shape=(2,), dtype=int64)\n",
      "tf.Tensor([0 9], shape=(2,), dtype=int64)\n",
      "tf.Tensor([1 0], shape=(2,), dtype=int64)\n",
      "tf.Tensor([1 2], shape=(2,), dtype=int64)\n",
      "tf.Tensor([1 3], shape=(2,), dtype=int64)\n",
      "tf.Tensor([1 5], shape=(2,), dtype=int64)\n",
      "tf.Tensor([1 7], shape=(2,), dtype=int64)\n",
      "tf.Tensor([1 8], shape=(2,), dtype=int64)\n",
      "tf.Tensor([1 9], shape=(2,), dtype=int64)\n",
      "tf.Tensor([2 0], shape=(2,), dtype=int64)\n",
      "tf.Tensor([2 2], shape=(2,), dtype=int64)\n",
      "tf.Tensor([2 3], shape=(2,), dtype=int64)\n",
      "tf.Tensor([2 4], shape=(2,), dtype=int64)\n",
      "tf.Tensor([2 7], shape=(2,), dtype=int64)\n",
      "tf.Tensor([2 8], shape=(2,), dtype=int64)\n",
      "tf.Tensor([3 0], shape=(2,), dtype=int64)\n",
      "tf.Tensor([3 2], shape=(2,), dtype=int64)\n",
      "tf.Tensor([3 3], shape=(2,), dtype=int64)\n",
      "tf.Tensor([3 5], shape=(2,), dtype=int64)\n",
      "tf.Tensor([3 7], shape=(2,), dtype=int64)\n",
      "tf.Tensor([3 8], shape=(2,), dtype=int64)\n",
      "tf.Tensor([4 1], shape=(2,), dtype=int64)\n",
      "tf.Tensor([4 4], shape=(2,), dtype=int64)\n",
      "tf.Tensor([4 5], shape=(2,), dtype=int64)\n",
      "tf.Tensor([4 7], shape=(2,), dtype=int64)\n",
      "tf.Tensor([5 0], shape=(2,), dtype=int64)\n",
      "tf.Tensor([5 2], shape=(2,), dtype=int64)\n",
      "tf.Tensor([5 3], shape=(2,), dtype=int64)\n",
      "tf.Tensor([5 5], shape=(2,), dtype=int64)\n",
      "tf.Tensor([5 6], shape=(2,), dtype=int64)\n",
      "tf.Tensor([6 1], shape=(2,), dtype=int64)\n",
      "tf.Tensor([6 2], shape=(2,), dtype=int64)\n",
      "tf.Tensor([6 4], shape=(2,), dtype=int64)\n",
      "tf.Tensor([6 5], shape=(2,), dtype=int64)\n",
      "tf.Tensor([6 7], shape=(2,), dtype=int64)\n",
      "tf.Tensor([6 8], shape=(2,), dtype=int64)\n",
      "tf.Tensor([6 9], shape=(2,), dtype=int64)\n",
      "tf.Tensor([7 2], shape=(2,), dtype=int64)\n",
      "tf.Tensor([7 4], shape=(2,), dtype=int64)\n",
      "tf.Tensor([7 6], shape=(2,), dtype=int64)\n",
      "tf.Tensor([7 7], shape=(2,), dtype=int64)\n",
      "tf.Tensor([7 8], shape=(2,), dtype=int64)\n",
      "tf.Tensor([7 9], shape=(2,), dtype=int64)\n",
      "tf.Tensor([8 1], shape=(2,), dtype=int64)\n",
      "tf.Tensor([8 2], shape=(2,), dtype=int64)\n",
      "tf.Tensor([8 3], shape=(2,), dtype=int64)\n",
      "tf.Tensor([8 7], shape=(2,), dtype=int64)\n",
      "tf.Tensor([8 8], shape=(2,), dtype=int64)\n",
      "tf.Tensor([8 9], shape=(2,), dtype=int64)\n",
      "tf.Tensor([9 1], shape=(2,), dtype=int64)\n",
      "tf.Tensor([9 4], shape=(2,), dtype=int64)\n"
     ]
    }
   ],
   "source": []
  },
  {
   "cell_type": "code",
   "execution_count": 238,
   "id": "88317d5f-e69b-4e88-9080-d5dc422a561f",
   "metadata": {},
   "outputs": [
    {
     "data": {
      "text/plain": [
       "SparseTensor(indices=tf.Tensor(\n",
       "[[0 0]\n",
       " [0 5]\n",
       " [0 8]\n",
       " [0 9]\n",
       " [1 0]\n",
       " [1 2]\n",
       " [1 3]\n",
       " [1 5]\n",
       " [1 7]\n",
       " [1 8]\n",
       " [1 9]\n",
       " [2 0]\n",
       " [2 2]\n",
       " [2 3]\n",
       " [2 4]\n",
       " [2 7]\n",
       " [2 8]\n",
       " [3 0]\n",
       " [3 2]\n",
       " [3 3]\n",
       " [3 5]\n",
       " [3 7]\n",
       " [3 8]\n",
       " [4 1]\n",
       " [4 4]\n",
       " [4 5]\n",
       " [4 7]\n",
       " [5 0]\n",
       " [5 2]\n",
       " [5 3]\n",
       " [5 5]\n",
       " [5 6]\n",
       " [6 1]\n",
       " [6 2]\n",
       " [6 4]\n",
       " [6 5]\n",
       " [6 7]\n",
       " [6 8]\n",
       " [6 9]\n",
       " [7 2]\n",
       " [7 4]\n",
       " [7 6]\n",
       " [7 7]\n",
       " [7 8]\n",
       " [7 9]\n",
       " [8 1]\n",
       " [8 2]\n",
       " [8 3]\n",
       " [8 7]\n",
       " [8 8]\n",
       " [8 9]\n",
       " [9 1]\n",
       " [9 4]], shape=(53, 2), dtype=int64), values=tf.Tensor(\n",
       "[ 2.  8.  1.  9.  9.  1.  5.  6.  3.  1. 10.  5.  4.  1.  1.  7.  1.  0.\n",
       "  3.  4. 10. 10.  8.  0.  0.  3.  3.  6. 10.  8. 10.  1.  9.  2. 10.  5.\n",
       "  0.  9.  0.  3. 10.  4.  8.  3.  8.  2.  4.  0.  9.  6.  7.  6.  1.], shape=(53,), dtype=float64), dense_shape=tf.Tensor([10 10], shape=(2,), dtype=int64))"
      ]
     },
     "execution_count": 238,
     "metadata": {},
     "output_type": "execute_result"
    }
   ],
   "source": [
    "tf.cast(Z,tf.float64)"
   ]
  },
  {
   "cell_type": "code",
   "execution_count": 2,
   "id": "09d88bb0-a08b-417f-964c-baf019b607f5",
   "metadata": {},
   "outputs": [],
   "source": [
    "from numba import jit\n",
    "import networkx as nx\n",
    "import numpy as np\n",
    "from typing import Union, TypeVar, Type\n",
    "import mpg.games.mpg as mpg\n"
   ]
  },
  {
   "cell_type": "code",
   "execution_count": 17,
   "id": "cf280984-dc52-4e08-bee7-8e1c088ea413",
   "metadata": {},
   "outputs": [
    {
     "name": "stdout",
     "output_type": "stream",
     "text": [
      "1.19 s ± 32.3 ms per loop (mean ± std. dev. of 7 runs, 1 loop each)\n"
     ]
    }
   ],
   "source": []
  },
  {
   "cell_type": "code",
   "execution_count": 23,
   "id": "9beecdae-9d4b-4867-9388-f652a8f535b1",
   "metadata": {},
   "outputs": [],
   "source": [
    "import mpg.graph.random_graph as rg\n",
    "G= rg.gnp_random_mpg(500,0.5,seed=27,distribution=\"integers\",low=-10,high=10,endpoint=True)"
   ]
  },
  {
   "cell_type": "code",
   "execution_count": 27,
   "id": "fb3ac617-a83c-4c7d-ba9c-a5f937126a66",
   "metadata": {},
   "outputs": [
    {
     "name": "stdout",
     "output_type": "stream",
     "text": [
      "20.2 s ± 170 ms per loop (mean ± std. dev. of 7 runs, 1 loop each)\n"
     ]
    }
   ],
   "source": [
    "%timeit mpg.optimal_strategy_pair(G)"
   ]
  },
  {
   "cell_type": "code",
   "execution_count": 25,
   "id": "d61f50ae-379f-43a3-80d6-94bb19c495b5",
   "metadata": {},
   "outputs": [
    {
     "name": "stdout",
     "output_type": "stream",
     "text": [
      "664 ms ± 63.5 ms per loop (mean ± std. dev. of 7 runs, 1 loop each)\n"
     ]
    }
   ],
   "source": [
    "import mpg.wrapper as wrapper\n",
    "%timeit wrapper.optimal_strategy_pair(G)"
   ]
  },
  {
   "cell_type": "code",
   "execution_count": null,
   "id": "25d92073-78bc-4e23-abd1-80a096a39347",
   "metadata": {},
   "outputs": [],
   "source": []
  }
 ],
 "metadata": {
  "kernelspec": {
   "display_name": "Python 3 (ipykernel)",
   "language": "python",
   "name": "python3"
  },
  "language_info": {
   "codemirror_mode": {
    "name": "ipython",
    "version": 3
   },
   "file_extension": ".py",
   "mimetype": "text/x-python",
   "name": "python",
   "nbconvert_exporter": "python",
   "pygments_lexer": "ipython3",
   "version": "3.10.9"
  }
 },
 "nbformat": 4,
 "nbformat_minor": 5
}
