{
 "cells": [
  {
   "cell_type": "markdown",
   "id": "e08ee8b0-7503-4d04-b080-413021af8e36",
   "metadata": {},
   "source": [
    "# Random Graphs\n",
    "- Let $(\\Omega,\\Sigma,\\mathcal{P})$ be a probability space on graphs.\n",
    "- Let $\\mathscr{G}$ be a set of graphs\n",
    "- A random graph $\\mathcal{G}=(\\mathcal{V},\\mathcal{E})$ is a function $\\Omega\\rightarrow \\mathscr{G}$\n",
    "## 1. Manual Construction\n",
    "### 1.1 Fixing Seeding\n",
    "This is important for reproducibility"
   ]
  },
  {
   "cell_type": "code",
   "execution_count": 4,
   "id": "0cb8b238-4965-455b-b0b7-250c0ce91d66",
   "metadata": {},
   "outputs": [],
   "source": [
    "import numpy as np\n",
    "from yfiles_jupyter_graphs import GraphWidget\n",
    "import networkx as nx\n"
   ]
  },
  {
   "cell_type": "markdown",
   "id": "e1913512-caeb-4ef2-a641-6defcc0a2561",
   "metadata": {},
   "source": [
    "### 1.1 $\\lvert E \\rvert$ Is fixed"
   ]
  },
  {
   "cell_type": "code",
   "execution_count": 2,
   "id": "b4f42771-2ae0-4148-841f-b8abe6364234",
   "metadata": {},
   "outputs": [
    {
     "data": {
      "application/vnd.jupyter.widget-view+json": {
       "model_id": "7280aff6e7e74b12b68f264e2a4e3f00",
       "version_major": 2,
       "version_minor": 0
      },
      "text/plain": [
       "GraphWidget(layout=Layout(height='500px', width='100%'))"
      ]
     },
     "metadata": {},
     "output_type": "display_data"
    }
   ],
   "source": [
    "d=lambda:np.random.randint(-5,5)\n",
    "G=rg.generate_labeled_graph(V=10,E=20,d=d)\n",
    "gv.visualise_graph(G)"
   ]
  },
  {
   "cell_type": "markdown",
   "id": "41fba98a-1bbb-43c1-bf1a-dac0c413a089",
   "metadata": {},
   "source": [
    "### 1.2 The probability of an edge is given"
   ]
  },
  {
   "cell_type": "code",
   "execution_count": 3,
   "id": "5068403a-c99a-4038-b6f4-4129635f8276",
   "metadata": {},
   "outputs": [
    {
     "data": {
      "application/vnd.jupyter.widget-view+json": {
       "model_id": "eb1b9b2848aa496591b3ace4c478120d",
       "version_major": 2,
       "version_minor": 0
      },
      "text/plain": [
       "GraphWidget(layout=Layout(height='500px', width='100%'))"
      ]
     },
     "metadata": {},
     "output_type": "display_data"
    }
   ],
   "source": [
    "d=lambda:np.random.randint(-5,5)\n",
    "G=rg.generate_labeled_graph(V=10,E=0.15,d=d)\n",
    "gv.visualise_graph(G)"
   ]
  },
  {
   "cell_type": "markdown",
   "id": "6e8c47fb-09cb-4a8b-9e1d-147b2ed9cf18",
   "metadata": {},
   "source": [
    "## 2. Networkx\n",
    "Reference: https://networkx.org/documentation/stable/reference/generators.html\n",
    "### 2.1 Graph Atlas\n",
    "The graph atlas contains all graphs with $\\lvert V \\rvert \\in\\{0,\\dots,7\\}$ up to isomorphism"
   ]
  },
  {
   "cell_type": "code",
   "execution_count": 4,
   "id": "511c396f-e6d7-41d8-8fe2-1b14df128e0b",
   "metadata": {},
   "outputs": [
    {
     "data": {
      "application/vnd.jupyter.widget-view+json": {
       "model_id": "036ff22334e541c886f0de028f0146c1",
       "version_major": 2,
       "version_minor": 0
      },
      "text/plain": [
       "GraphWidget(layout=Layout(height='500px', width='100%'))"
      ]
     },
     "metadata": {},
     "output_type": "display_data"
    }
   ],
   "source": [
    "GraphWidget(graph=nx.graph_atlas(1252))"
   ]
  },
  {
   "cell_type": "markdown",
   "id": "e098b43e-5008-4b66-b849-1290e937f7d6",
   "metadata": {},
   "source": [
    "### 2.2 $G_{n,m}$ Random Graph\n",
    "- $G_{n,m}$ is the set of graphs with $\\lvert V \\rvert=n$ and $\\lvert E\\rvert =m$\n",
    "- This is a random graph following the uniform distribution $\\mathcal{U}(G_{n,m})$\n",
    "- We will augment it with a distribution $\\mathcal{D}$ of edge weights"
   ]
  },
  {
   "cell_type": "code",
   "execution_count": 5,
   "id": "2b765634-c4b6-4670-8c4c-f5bf10d7ef44",
   "metadata": {},
   "outputs": [
    {
     "data": {
      "application/vnd.jupyter.widget-view+json": {
       "model_id": "7e3464c7f18b43ccb0aa996da80bf5bb",
       "version_major": 2,
       "version_minor": 0
      },
      "text/plain": [
       "GraphWidget(layout=Layout(height='500px', width='100%'))"
      ]
     },
     "metadata": {},
     "output_type": "display_data"
    }
   ],
   "source": [
    "G=nx.gnm_random_graph(50,200,directed=True)\n",
    "for edge in G.edges:\n",
    "    G.edges[edge][\"label\"]=d()\n",
    "GraphWidget(graph=G)"
   ]
  },
  {
   "cell_type": "markdown",
   "id": "f7a8845c-ebaa-4af3-9599-3cf43a1c3eeb",
   "metadata": {},
   "source": [
    "### 2.3 Binomial Graph\n",
    "- $G_{n}$ is the set of graphs with $\\lvert V \\rvert=n$\n",
    "- This is a random graph following the uniform distribution $\\mathcal{U}(G_{n,m})$\n",
    "- We will augment it with a distribution $\\mathcal{D}$ of edge weights"
   ]
  },
  {
   "cell_type": "code",
   "execution_count": 6,
   "id": "a7752901-dada-44b3-a659-d25b6f76b2d7",
   "metadata": {},
   "outputs": [
    {
     "data": {
      "application/vnd.jupyter.widget-view+json": {
       "model_id": "e0a0830d21044508bb7acdc0c666886d",
       "version_major": 2,
       "version_minor": 0
      },
      "text/plain": [
       "GraphWidget(layout=Layout(height='500px', width='100%'))"
      ]
     },
     "metadata": {},
     "output_type": "display_data"
    }
   ],
   "source": [
    "G=nx.binomial_graph(12, 0.15, directed=True,seed=54)\n",
    "for edge in G.edges:\n",
    "    G.edges[edge][\"label\"]=d()\n",
    "GraphWidget(graph=G)"
   ]
  },
  {
   "cell_type": "markdown",
   "id": "a6947a5e-5e58-4320-a29e-c1d1c6063d83",
   "metadata": {},
   "source": [
    "### 2.4 Growing Network Digraph with kernel"
   ]
  },
  {
   "cell_type": "code",
   "execution_count": 7,
   "id": "213c2b3c-5b51-4334-bb3d-90cb0b4410a1",
   "metadata": {},
   "outputs": [
    {
     "data": {
      "application/vnd.jupyter.widget-view+json": {
       "model_id": "5f288daf999844d7b3d20847e2f2b68e",
       "version_major": 2,
       "version_minor": 0
      },
      "text/plain": [
       "GraphWidget(layout=Layout(height='500px', width='100%'))"
      ]
     },
     "metadata": {},
     "output_type": "display_data"
    }
   ],
   "source": [
    "D = nx.gn_graph(18, kernel=lambda x: x ** 1.5)\n",
    "GraphWidget(graph=D)"
   ]
  },
  {
   "cell_type": "markdown",
   "id": "874fa234-3605-4e6b-985d-3cc1de5a4058",
   "metadata": {},
   "source": [
    "## 2.5 Growing Network Digraph with probability"
   ]
  },
  {
   "cell_type": "code",
   "execution_count": 8,
   "id": "40bf096a-4b94-4d6b-ba06-caf91099d85b",
   "metadata": {},
   "outputs": [
    {
     "data": {
      "application/vnd.jupyter.widget-view+json": {
       "model_id": "006468551b834704b4cd4d8f0363bc46",
       "version_major": 2,
       "version_minor": 0
      },
      "text/plain": [
       "GraphWidget(layout=Layout(height='500px', width='100%'))"
      ]
     },
     "metadata": {},
     "output_type": "display_data"
    }
   ],
   "source": [
    "D = nx.gnr_graph(10, 0.7)  # the GNR graph\n",
    "GraphWidget(graph=D)"
   ]
  },
  {
   "cell_type": "markdown",
   "id": "89f36795-c243-480c-9b39-4376b2177931",
   "metadata": {},
   "source": [
    "### 2.6 Complete Graphs $\\mathcal{K}_n$"
   ]
  },
  {
   "cell_type": "code",
   "execution_count": 93,
   "id": "4904ddb3-8179-4bc4-909a-03d4fde6c1b7",
   "metadata": {},
   "outputs": [
    {
     "data": {
      "application/vnd.jupyter.widget-view+json": {
       "model_id": "285d4c758e1b4fd3a9892f56a86320ec",
       "version_major": 2,
       "version_minor": 0
      },
      "text/plain": [
       "GraphWidget(layout=Layout(height='500px', width='100%'))"
      ]
     },
     "metadata": {},
     "output_type": "display_data"
    }
   ],
   "source": [
    "D = nx.complete_graph(n=5,create_using=nx.DiGraph)\n",
    "for edge in D.edges:\n",
    "    D.edges[edge][\"label\"]=d()\n",
    "GraphWidget(graph=D)"
   ]
  },
  {
   "cell_type": "code",
   "execution_count": 45,
   "id": "9e0d8027-f1b5-40f7-9214-fee9637653d9",
   "metadata": {},
   "outputs": [],
   "source": [
    "G=nx.gnm_random_graph(1000,10000,directed=True)\n",
    "d=lambda:np.random.randint(-100,100)\n",
    "\n",
    "for edge in G.edges:\n",
    "    G.edges[edge][\"label\"]=d()\n",
    "    G.edges[edge][\"weight\"]=    G.edges[edge][\"label\"]\n",
    "#GraphWidget(graph=G)"
   ]
  },
  {
   "cell_type": "code",
   "execution_count": 46,
   "id": "368cbf2c-ccdb-4396-81e1-112a2a279471",
   "metadata": {},
   "outputs": [],
   "source": [
    "import mpg\n",
    "G=mpg.mpg_from_digraph(G)"
   ]
  },
  {
   "cell_type": "code",
   "execution_count": 47,
   "id": "95a133c4-7adf-40cc-b99f-240f2cbcc3ce",
   "metadata": {},
   "outputs": [],
   "source": [
    "G.closure()\n",
    "#GraphWidget(graph=G)"
   ]
  },
  {
   "cell_type": "code",
   "execution_count": 29,
   "id": "acd2b458-7e38-4982-8221-4db5540da4f2",
   "metadata": {},
   "outputs": [
    {
     "name": "stdout",
     "output_type": "stream",
     "text": [
      "0.372\n"
     ]
    }
   ],
   "source": [
    "m=1000\n",
    "n=150\n",
    "c=5\n",
    "counter=0\n",
    "for k in range(m):\n",
    "    G=nx.gnp_random_graph(n,p=c/n,directed=True,)\n",
    "    sinkless=True\n",
    "    for s in G.nodes:\n",
    "        if len(G.succ[s])==0:\n",
    "            sinkless=False\n",
    "            break\n",
    "    if sinkless:\n",
    "        counter+=1\n",
    "print(counter/m)"
   ]
  },
  {
   "cell_type": "code",
   "execution_count": 47,
   "id": "c7568e00-1060-4289-88a3-a31ce8875157",
   "metadata": {},
   "outputs": [
    {
     "name": "stdout",
     "output_type": "stream",
     "text": [
      "1159397\n"
     ]
    }
   ],
   "source": [
    "n=100000\n",
    "A=np.zeros(n)\n",
    "m=n\n",
    "k=0\n",
    "while m>0:\n",
    "    s=np.random.randint(0,n)\n",
    "    if not A[s]:\n",
    "        A[s]=True\n",
    "        m-=1\n",
    "    k+=1\n",
    "print(k)"
   ]
  },
  {
   "cell_type": "code",
   "execution_count": null,
   "id": "4c2cdb4a-698b-4124-9f0f-77e72455ac46",
   "metadata": {},
   "outputs": [],
   "source": []
  }
 ],
 "metadata": {
  "kernelspec": {
   "display_name": "Python 3 (ipykernel)",
   "language": "python",
   "name": "python3"
  },
  "language_info": {
   "codemirror_mode": {
    "name": "ipython",
    "version": 3
   },
   "file_extension": ".py",
   "mimetype": "text/x-python",
   "name": "python",
   "nbconvert_exporter": "python",
   "pygments_lexer": "ipython3",
   "version": "3.10.9"
  }
 },
 "nbformat": 4,
 "nbformat_minor": 5
}
