{
 "cells": [
  {
   "cell_type": "code",
   "execution_count": 1,
   "id": "438a2d44-e94c-4588-8974-6ee1f0aa17ee",
   "metadata": {},
   "outputs": [
    {
     "name": "stderr",
     "output_type": "stream",
     "text": [
      "2023-04-05 15:51:08.294985: I tensorflow/core/platform/cpu_feature_guard.cc:193] This TensorFlow binary is optimized with oneAPI Deep Neural Network Library (oneDNN) to use the following CPU instructions in performance-critical operations:  SSE4.1 SSE4.2 AVX AVX2 FMA\n",
      "To enable them in other operations, rebuild TensorFlow with the appropriate compiler flags.\n"
     ]
    }
   ],
   "source": [
    "import mpg.mpgml.dataset.generator as mpgml_generator"
   ]
  },
  {
   "cell_type": "code",
   "execution_count": 103,
   "id": "99c960dd-3d3b-4719-91e5-eefed2227594",
   "metadata": {},
   "outputs": [
    {
     "name": "stdout",
     "output_type": "stream",
     "text": [
      "The autoreload extension is already loaded. To reload it, use:\n",
      "  %reload_ext autoreload\n"
     ]
    }
   ],
   "source": [
    "from importlib import reload\n",
    "import mpg.wrapper as mpgwrapper\n",
    "import mpg.mpgml.dataset.generator\n",
    "from mpg.mpgml.dataset.generator import MPGGeneratedDenseDataset\n",
    "%load_ext autoreload\n",
    "%aimport mpg.mpgml.dataset.generator\n",
    "%aimport mpg.wrapper"
   ]
  },
  {
   "cell_type": "code",
   "execution_count": 104,
   "id": "c185625b-20fc-481a-84a9-6ce875529551",
   "metadata": {},
   "outputs": [],
   "source": [
    "%autoreload 2\n",
    "import tensorflow as tf\n",
    "import tensorflow_probability as tfp"
   ]
  },
  {
   "cell_type": "code",
   "execution_count": 105,
   "id": "a46f66e0-4827-474a-bf22-d0e0788591a8",
   "metadata": {},
   "outputs": [],
   "source": [
    "%autoreload 2\n",
    "%aimport mpg.mpgml.layers.normalisation \n",
    "%aimport mpg.mpgml.layers.augmentation \n",
    "%aimport mpg.mpgml.layers.padding \n",
    "%aimport mpg.mpgml.dataset.augmentation\n",
    "\n",
    "n=10\n",
    "dataset=MPGGeneratedDenseDataset(n,0.5,seed=25,target=\"winners\",generated_input=\"both\",flatten=False,weights_distribution=tfp.distributions.Uniform(-100,100),weight_type=\"int\")\n",
    "validation_dataset=MPGGeneratedDenseDataset(8,0.5,target=\"winners\",generated_input=\"both\",flatten=False,weights_distribution=tfp.distributions.Uniform(-1,1),weight_type=\"float\")"
   ]
  },
  {
   "cell_type": "code",
   "execution_count": 106,
   "id": "63328327-31ba-4339-8da7-18f4b89c9fc2",
   "metadata": {},
   "outputs": [],
   "source": [
    "import mpg.mpgml.dataset.utils as utils\n",
    "import mpg.mpgml.dataset.augmentation as ds_aug\n",
    "def assume_starting_position(dataset ,starting_vertex ,starting_turn):\n",
    "    return dataset.map(lambda x ,y: (x ,y[..., starting_turn ,starting_vertex]))\n",
    "transformed=assume_starting_position(ds_aug.random_graph_isomorphism(dataset.batch(64).take(1024).cache(),10),0,0).repeat()\n",
    "validation_dataset=assume_starting_position(validation_dataset,0,0).batch(64).take(12).cache()"
   ]
  },
  {
   "cell_type": "code",
   "execution_count": 107,
   "id": "eb1cb642-4b3b-42f8-bcd2-93e2664b4646",
   "metadata": {},
   "outputs": [],
   "source": [
    "validation_dataset=MPGGeneratedDenseDataset(10,0.5,target=\"winners\",generated_input=\"both\",flatten=False,weights_distribution=tfp.distributions.Uniform(-1,1),weight_type=\"float\")\n",
    "validation_dataset=assume_starting_position(validation_dataset,0,0).batch(64).take(12).cache()\n"
   ]
  },
  {
   "cell_type": "code",
   "execution_count": 108,
   "id": "0e07ceea-815f-4a4f-8731-cc6c22bfaf33",
   "metadata": {},
   "outputs": [
    {
     "ename": "NameError",
     "evalue": "name 'X' is not defined",
     "output_type": "error",
     "traceback": [
      "\u001b[0;31m---------------------------------------------------------------------------\u001b[0m",
      "\u001b[0;31mNameError\u001b[0m                                 Traceback (most recent call last)",
      "Cell \u001b[0;32mIn[108], line 9\u001b[0m\n\u001b[1;32m      7\u001b[0m layer\u001b[38;5;241m=\u001b[39mnormalisation\u001b[38;5;241m.\u001b[39mMPGNormalisationLayer(edges_matrix\u001b[38;5;241m=\u001b[39m\u001b[38;5;241m1\u001b[39m,mask_tensor\u001b[38;5;241m=\u001b[39m\u001b[38;5;241m0\u001b[39m)\n\u001b[1;32m      8\u001b[0m A\u001b[38;5;241m=\u001b[39maugmentation\u001b[38;5;241m.\u001b[39mEdgeWeightsNoiseLayer(noise_layer\u001b[38;5;241m=\u001b[39maugmentation\u001b[38;5;241m.\u001b[39mUniformNoise(\u001b[38;5;241m0.1\u001b[39m),edges_matrix\u001b[38;5;241m=\u001b[39m\u001b[38;5;241m1\u001b[39m, mask_tensor\u001b[38;5;241m=\u001b[39m\u001b[38;5;241m0\u001b[39m)\n\u001b[0;32m----> 9\u001b[0m Z\u001b[38;5;241m=\u001b[39mlayer(\u001b[43mX\u001b[49m)\n\u001b[1;32m     10\u001b[0m A(Z,training\u001b[38;5;241m=\u001b[39m\u001b[38;5;28;01mTrue\u001b[39;00m),Z\n",
      "\u001b[0;31mNameError\u001b[0m: name 'X' is not defined"
     ]
    }
   ],
   "source": [
    "import mpg.mpgml.layers.normalisation as normalisation\n",
    "import mpg.mpgml.layers.augmentation as augmentation\n",
    "\n",
    "%aimport mpg.mpgml.layers.normalisation \n",
    "%aimport mpg.mpgml.layers.augmentation \n",
    "%autoreload 2\n",
    "layer=normalisation.MPGNormalisationLayer(edges_matrix=1,mask_tensor=0)\n",
    "A=augmentation.EdgeWeightsNoiseLayer(noise_layer=augmentation.UniformNoise(0.1),edges_matrix=1, mask_tensor=0)\n",
    "Z=layer(X)\n",
    "A(Z,training=True),Z"
   ]
  },
  {
   "cell_type": "code",
   "execution_count": 109,
   "id": "486c9693-8031-4402-acd7-cbc0e3b733c1",
   "metadata": {},
   "outputs": [
    {
     "name": "stdout",
     "output_type": "stream",
     "text": [
      "tf.Tensor(\n",
      "[[[[  1.          1.          1.        ...   1.          1.\n",
      "      1.       ]\n",
      "   [  0.          0.          0.        ...   0.          0.\n",
      "      1.       ]\n",
      "   [  0.          1.          1.        ...   1.          1.\n",
      "      1.       ]\n",
      "   ...\n",
      "   [  0.          0.          0.        ...   0.          0.\n",
      "      0.       ]\n",
      "   [  1.          1.          0.        ...   1.          1.\n",
      "      1.       ]\n",
      "   [  0.          0.          0.        ...   1.          1.\n",
      "      0.       ]]\n",
      "\n",
      "  [[ 79.22635     7.849411   -7.637451  ...  16.576195   99.95265\n",
      "    -98.60854  ]\n",
      "   [ -0.          0.         -0.        ...  -0.          0.\n",
      "     -9.235237 ]\n",
      "   [ -0.        -24.302147   25.138405  ...  77.88005    63.43637\n",
      "     79.23631  ]\n",
      "   ...\n",
      "   [ -0.          0.         -0.        ...   0.         -0.\n",
      "      0.       ]\n",
      "   [ 20.46077   -93.29035     0.        ...  93.8745    -73.26996\n",
      "    -81.58362  ]\n",
      "   [ -0.          0.          0.        ...  86.60672   -56.62422\n",
      "     -0.       ]]]\n",
      "\n",
      "\n",
      " [[[  0.          0.          0.        ...   1.          1.\n",
      "      1.       ]\n",
      "   [  1.          0.          1.        ...   0.          1.\n",
      "      0.       ]\n",
      "   [  0.          0.          0.        ...   0.          0.\n",
      "      0.       ]\n",
      "   ...\n",
      "   [  1.          0.          1.        ...   0.          0.\n",
      "      0.       ]\n",
      "   [  0.          1.          0.        ...   0.          1.\n",
      "      0.       ]\n",
      "   [  1.          1.          1.        ...   0.          0.\n",
      "      1.       ]]\n",
      "\n",
      "  [[ -0.          0.         -0.        ... -40.35208   -49.002625\n",
      "     25.560883 ]\n",
      "   [ 74.78023     0.        -17.642471  ...   0.        -35.743973\n",
      "      0.       ]\n",
      "   [ -0.          0.          0.        ...   0.         -0.\n",
      "      0.       ]\n",
      "   ...\n",
      "   [ 89.21153    -0.        -40.48641   ...   0.         -0.\n",
      "      0.       ]\n",
      "   [ -0.        -82.628586   -0.        ...   0.         83.25061\n",
      "      0.       ]\n",
      "   [ 42.941284   33.79193   -83.83725   ...  -0.          0.\n",
      "     41.036987 ]]]\n",
      "\n",
      "\n",
      " [[[  0.          0.          1.        ...   0.          1.\n",
      "      0.       ]\n",
      "   [  0.          1.          0.        ...   1.          0.\n",
      "      0.       ]\n",
      "   [  0.          0.          0.        ...   1.          0.\n",
      "      0.       ]\n",
      "   ...\n",
      "   [  1.          1.          1.        ...   0.          0.\n",
      "      1.       ]\n",
      "   [  1.          1.          1.        ...   0.          1.\n",
      "      1.       ]\n",
      "   [  0.          1.          1.        ...   0.          0.\n",
      "      0.       ]]\n",
      "\n",
      "  [[  0.         -0.        -52.74546   ...  -0.         40.368195\n",
      "     -0.       ]\n",
      "   [ -0.         21.563843    0.        ...  27.15178     0.\n",
      "      0.       ]\n",
      "   [  0.         -0.          0.        ...  38.88118    -0.\n",
      "      0.       ]\n",
      "   ...\n",
      "   [-81.03297    66.13214   -61.637306  ...  -0.         -0.\n",
      "     31.34935  ]\n",
      "   [-45.720005    3.6770554 -99.38266   ...   0.        -27.630852\n",
      "     52.66748  ]\n",
      "   [  0.         -0.6101837  67.68434   ...   0.         -0.\n",
      "     -0.       ]]]\n",
      "\n",
      "\n",
      " ...\n",
      "\n",
      "\n",
      " [[[  1.          1.          0.        ...   1.          1.\n",
      "      0.       ]\n",
      "   [  0.          0.          1.        ...   1.          0.\n",
      "      0.       ]\n",
      "   [  0.          1.          0.        ...   1.          0.\n",
      "      0.       ]\n",
      "   ...\n",
      "   [  0.          0.          1.        ...   1.          1.\n",
      "      1.       ]\n",
      "   [  1.          1.          1.        ...   0.          0.\n",
      "      0.       ]\n",
      "   [  0.          1.          1.        ...   1.          0.\n",
      "      1.       ]]\n",
      "\n",
      "  [[-52.11165    22.36905    -0.        ...  60.72435    31.67398\n",
      "      0.       ]\n",
      "   [  0.          0.        -85.706856  ...  71.96896    -0.\n",
      "     -0.       ]\n",
      "   [  0.         19.088768    0.        ...  65.35712    -0.\n",
      "     -0.       ]\n",
      "   ...\n",
      "   [ -0.         -0.        -47.02723   ... -73.20156   -68.37444\n",
      "     48.86818  ]\n",
      "   [-24.824837   77.852585   -4.2372437 ...  -0.         -0.\n",
      "      0.       ]\n",
      "   [ -0.        -19.20533   -11.260559  ... -84.02095    -0.\n",
      "     86.88667  ]]]\n",
      "\n",
      "\n",
      " [[[  0.          0.          0.        ...   1.          0.\n",
      "      1.       ]\n",
      "   [  1.          0.          1.        ...   0.          1.\n",
      "      0.       ]\n",
      "   [  1.          0.          1.        ...   0.          1.\n",
      "      0.       ]\n",
      "   ...\n",
      "   [  1.          0.          1.        ...   1.          1.\n",
      "      1.       ]\n",
      "   [  0.          0.          0.        ...   0.          1.\n",
      "      1.       ]\n",
      "   [  0.          0.          1.        ...   1.          0.\n",
      "      1.       ]]\n",
      "\n",
      "  [[ -0.         -0.          0.        ...  21.41552    -0.\n",
      "     26.531746 ]\n",
      "   [-30.218506   -0.        -35.532043  ...  -0.        -93.96379\n",
      "     -0.       ]\n",
      "   [ 50.294205    0.          3.2934418 ...   0.        -76.598694\n",
      "     -0.       ]\n",
      "   ...\n",
      "   [ 17.572235    0.        -77.178     ...  42.603973   62.36374\n",
      "    -98.86699  ]\n",
      "   [  0.          0.         -0.        ...  -0.        -21.37954\n",
      "    -13.926407 ]\n",
      "   [  0.          0.         -9.736946  ...  83.453674   -0.\n",
      "    -19.114517 ]]]\n",
      "\n",
      "\n",
      " [[[  1.          0.          0.        ...   0.          0.\n",
      "      0.       ]\n",
      "   [  1.          0.          1.        ...   1.          1.\n",
      "      1.       ]\n",
      "   [  1.          0.          0.        ...   1.          0.\n",
      "      1.       ]\n",
      "   ...\n",
      "   [  1.          0.          0.        ...   0.          1.\n",
      "      0.       ]\n",
      "   [  0.          0.          1.        ...   0.          1.\n",
      "      0.       ]\n",
      "   [  0.          1.          1.        ...   0.          1.\n",
      "      0.       ]]\n",
      "\n",
      "  [[-69.04161    -0.         -0.        ...   0.          0.\n",
      "      0.       ]\n",
      "   [-20.6111     -0.        -76.71745   ...  42.66252    37.691833\n",
      "     83.53653  ]\n",
      "   [-30.912231   -0.          0.        ... -66.847534    0.\n",
      "     42.29193  ]\n",
      "   ...\n",
      "   [ 30.668991   -0.         -0.        ...  -0.        -58.99794\n",
      "      0.       ]\n",
      "   [  0.         -0.        -44.94734   ...  -0.        -54.46186\n",
      "     -0.       ]\n",
      "   [  0.         98.64798    74.17612   ...  -0.         45.627518\n",
      "      0.       ]]]], shape=(64, 2, 10, 10), dtype=float32)\n"
     ]
    },
    {
     "name": "stderr",
     "output_type": "stream",
     "text": [
      "2023-04-08 06:13:22.734215: W tensorflow/core/kernels/data/cache_dataset_ops.cc:856] The calling iterator did not fully read the dataset being cached. In order to avoid unexpected truncation of the dataset, the partially cached contents of the dataset  will be discarded. This can happen if you have an input pipeline similar to `dataset.cache().take(k).repeat()`. You should use `dataset.take(k).cache().repeat()` instead.\n"
     ]
    }
   ],
   "source": [
    "for x,y in transformed.take(1):\n",
    "    print(x)"
   ]
  },
  {
   "cell_type": "code",
   "execution_count": null,
   "id": "10da4c42-4fef-454f-95be-27f25f7f1dbd",
   "metadata": {},
   "outputs": [],
   "source": []
  },
  {
   "cell_type": "code",
   "execution_count": 110,
   "id": "ea239d83-bf48-45a3-8663-44c9747adf45",
   "metadata": {},
   "outputs": [
    {
     "data": {
      "text/plain": [
       "(TensorSpec(shape=(None, 2, 10, 10), dtype=tf.float32, name=None),\n",
       " TensorSpec(shape=(None,), dtype=tf.float32, name=None))"
      ]
     },
     "execution_count": 110,
     "metadata": {},
     "output_type": "execute_result"
    }
   ],
   "source": [
    "transformed.take(10).element_spec"
   ]
  },
  {
   "cell_type": "code",
   "execution_count": 113,
   "id": "224616e8-f5f7-4193-a904-2bad8b99c4f5",
   "metadata": {},
   "outputs": [],
   "source": [
    "import mpg.mpgml.layers.normalisation as mpgml_norm\n",
    "import mpg.mpgml.layers.augmentation as mpgml_augm\n",
    "import mpg.mpgml.layers.padding as mpgml_pad\n",
    "%aimport mpg.mpgml.layers.normalisation \n",
    "%aimport mpg.mpgml.layers.augmentation \n",
    "%aimport mpg.mpgml.layers.padding \n",
    "\n",
    "import tensorflow.keras as keras\n",
    "model=keras.Sequential([\n",
    "    mpgml_pad.GraphPaddingLayer(10),\n",
    "#    mpgml_augm.GraphIsomorphismLayer(10),\n",
    "    mpgml_norm.MPGNormalisationLayer(edges_matrix=1),\n",
    "    mpgml_augm.EdgeWeightsNoiseLayer(noise_layer=keras.layers.GaussianNoise(stddev=0.01),edges_matrix=1),\n",
    "    keras.layers.Flatten(),\n",
    "    keras.layers.Dense(100,activation=\"relu\"),\n",
    "    keras.layers.Dense(50,activation=\"relu\"),\n",
    "    keras.layers.BatchNormalization(),\n",
    "    keras.layers.Dense(50,activation=\"relu\"),\n",
    "    keras.layers.Dense(15,activation=\"relu\"),\n",
    "    keras.layers.BatchNormalization(),\n",
    "    keras.layers.Dense(15,activation=\"relu\"),\n",
    "    keras.layers.Dense(1,\"sigmoid\")\n",
    "])"
   ]
  },
  {
   "cell_type": "code",
   "execution_count": 112,
   "id": "b8d1fa73-a6f7-4b3f-8839-9bab25d075dd",
   "metadata": {},
   "outputs": [
    {
     "name": "stdout",
     "output_type": "stream",
     "text": [
      "Epoch 1/25\n",
      "40/64 [=================>............] - ETA: 3s - loss: 0.7402 - accuracy: 0.5297"
     ]
    },
    {
     "ename": "KeyboardInterrupt",
     "evalue": "",
     "output_type": "error",
     "traceback": [
      "\u001b[0;31m---------------------------------------------------------------------------\u001b[0m",
      "\u001b[0;31mKeyboardInterrupt\u001b[0m                         Traceback (most recent call last)",
      "Cell \u001b[0;32mIn[112], line 6\u001b[0m\n\u001b[1;32m      1\u001b[0m model\u001b[38;5;241m.\u001b[39mcompile(\n\u001b[1;32m      2\u001b[0m     optimizer\u001b[38;5;241m=\u001b[39m\u001b[38;5;124m\"\u001b[39m\u001b[38;5;124mAdam\u001b[39m\u001b[38;5;124m\"\u001b[39m,\n\u001b[1;32m      3\u001b[0m     loss\u001b[38;5;241m=\u001b[39mtf\u001b[38;5;241m.\u001b[39mkeras\u001b[38;5;241m.\u001b[39mlosses\u001b[38;5;241m.\u001b[39mBinaryCrossentropy(),\n\u001b[1;32m      4\u001b[0m     metrics\u001b[38;5;241m=\u001b[39m[\u001b[38;5;124m\"\u001b[39m\u001b[38;5;124maccuracy\u001b[39m\u001b[38;5;124m\"\u001b[39m],\n\u001b[1;32m      5\u001b[0m )\n\u001b[0;32m----> 6\u001b[0m \u001b[43mmodel\u001b[49m\u001b[38;5;241;43m.\u001b[39;49m\u001b[43mfit\u001b[49m\u001b[43m(\u001b[49m\u001b[43mx\u001b[49m\u001b[38;5;241;43m=\u001b[39;49m\u001b[43mtransformed\u001b[49m\u001b[43m,\u001b[49m\n\u001b[1;32m      7\u001b[0m \u001b[43m    \u001b[49m\u001b[43mepochs\u001b[49m\u001b[38;5;241;43m=\u001b[39;49m\u001b[38;5;241;43m25\u001b[39;49m\u001b[43m,\u001b[49m\n\u001b[1;32m      8\u001b[0m \u001b[43m    \u001b[49m\u001b[43mverbose\u001b[49m\u001b[38;5;241;43m=\u001b[39;49m\u001b[38;5;124;43m'\u001b[39;49m\u001b[38;5;124;43mauto\u001b[39;49m\u001b[38;5;124;43m'\u001b[39;49m\u001b[43m,\u001b[49m\n\u001b[1;32m      9\u001b[0m \u001b[43m    \u001b[49m\u001b[43msteps_per_epoch\u001b[49m\u001b[38;5;241;43m=\u001b[39;49m\u001b[38;5;241;43m64\u001b[39;49m\u001b[43m,\u001b[49m\n\u001b[1;32m     10\u001b[0m \u001b[43m    \u001b[49m\u001b[43mshuffle\u001b[49m\u001b[38;5;241;43m=\u001b[39;49m\u001b[38;5;28;43;01mFalse\u001b[39;49;00m\u001b[43m,\u001b[49m\n\u001b[1;32m     11\u001b[0m \u001b[43m          \u001b[49m\u001b[43mvalidation_data\u001b[49m\u001b[38;5;241;43m=\u001b[39;49m\u001b[43mvalidation_dataset\u001b[49m\n\u001b[1;32m     12\u001b[0m \u001b[43m         \u001b[49m\u001b[43m)\u001b[49m\n",
      "File \u001b[0;32m~/anaconda3/envs/stochastic_games/lib/python3.10/site-packages/keras/utils/traceback_utils.py:65\u001b[0m, in \u001b[0;36mfilter_traceback.<locals>.error_handler\u001b[0;34m(*args, **kwargs)\u001b[0m\n\u001b[1;32m     63\u001b[0m filtered_tb \u001b[38;5;241m=\u001b[39m \u001b[38;5;28;01mNone\u001b[39;00m\n\u001b[1;32m     64\u001b[0m \u001b[38;5;28;01mtry\u001b[39;00m:\n\u001b[0;32m---> 65\u001b[0m     \u001b[38;5;28;01mreturn\u001b[39;00m \u001b[43mfn\u001b[49m\u001b[43m(\u001b[49m\u001b[38;5;241;43m*\u001b[39;49m\u001b[43margs\u001b[49m\u001b[43m,\u001b[49m\u001b[43m \u001b[49m\u001b[38;5;241;43m*\u001b[39;49m\u001b[38;5;241;43m*\u001b[39;49m\u001b[43mkwargs\u001b[49m\u001b[43m)\u001b[49m\n\u001b[1;32m     66\u001b[0m \u001b[38;5;28;01mexcept\u001b[39;00m \u001b[38;5;167;01mException\u001b[39;00m \u001b[38;5;28;01mas\u001b[39;00m e:\n\u001b[1;32m     67\u001b[0m     filtered_tb \u001b[38;5;241m=\u001b[39m _process_traceback_frames(e\u001b[38;5;241m.\u001b[39m__traceback__)\n",
      "File \u001b[0;32m~/anaconda3/envs/stochastic_games/lib/python3.10/site-packages/keras/engine/training.py:1650\u001b[0m, in \u001b[0;36mModel.fit\u001b[0;34m(self, x, y, batch_size, epochs, verbose, callbacks, validation_split, validation_data, shuffle, class_weight, sample_weight, initial_epoch, steps_per_epoch, validation_steps, validation_batch_size, validation_freq, max_queue_size, workers, use_multiprocessing)\u001b[0m\n\u001b[1;32m   1642\u001b[0m \u001b[38;5;28;01mwith\u001b[39;00m tf\u001b[38;5;241m.\u001b[39mprofiler\u001b[38;5;241m.\u001b[39mexperimental\u001b[38;5;241m.\u001b[39mTrace(\n\u001b[1;32m   1643\u001b[0m     \u001b[38;5;124m\"\u001b[39m\u001b[38;5;124mtrain\u001b[39m\u001b[38;5;124m\"\u001b[39m,\n\u001b[1;32m   1644\u001b[0m     epoch_num\u001b[38;5;241m=\u001b[39mepoch,\n\u001b[0;32m   (...)\u001b[0m\n\u001b[1;32m   1647\u001b[0m     _r\u001b[38;5;241m=\u001b[39m\u001b[38;5;241m1\u001b[39m,\n\u001b[1;32m   1648\u001b[0m ):\n\u001b[1;32m   1649\u001b[0m     callbacks\u001b[38;5;241m.\u001b[39mon_train_batch_begin(step)\n\u001b[0;32m-> 1650\u001b[0m     tmp_logs \u001b[38;5;241m=\u001b[39m \u001b[38;5;28;43mself\u001b[39;49m\u001b[38;5;241;43m.\u001b[39;49m\u001b[43mtrain_function\u001b[49m\u001b[43m(\u001b[49m\u001b[43miterator\u001b[49m\u001b[43m)\u001b[49m\n\u001b[1;32m   1651\u001b[0m     \u001b[38;5;28;01mif\u001b[39;00m data_handler\u001b[38;5;241m.\u001b[39mshould_sync:\n\u001b[1;32m   1652\u001b[0m         context\u001b[38;5;241m.\u001b[39masync_wait()\n",
      "File \u001b[0;32m~/anaconda3/envs/stochastic_games/lib/python3.10/site-packages/tensorflow/python/util/traceback_utils.py:150\u001b[0m, in \u001b[0;36mfilter_traceback.<locals>.error_handler\u001b[0;34m(*args, **kwargs)\u001b[0m\n\u001b[1;32m    148\u001b[0m filtered_tb \u001b[38;5;241m=\u001b[39m \u001b[38;5;28;01mNone\u001b[39;00m\n\u001b[1;32m    149\u001b[0m \u001b[38;5;28;01mtry\u001b[39;00m:\n\u001b[0;32m--> 150\u001b[0m   \u001b[38;5;28;01mreturn\u001b[39;00m \u001b[43mfn\u001b[49m\u001b[43m(\u001b[49m\u001b[38;5;241;43m*\u001b[39;49m\u001b[43margs\u001b[49m\u001b[43m,\u001b[49m\u001b[43m \u001b[49m\u001b[38;5;241;43m*\u001b[39;49m\u001b[38;5;241;43m*\u001b[39;49m\u001b[43mkwargs\u001b[49m\u001b[43m)\u001b[49m\n\u001b[1;32m    151\u001b[0m \u001b[38;5;28;01mexcept\u001b[39;00m \u001b[38;5;167;01mException\u001b[39;00m \u001b[38;5;28;01mas\u001b[39;00m e:\n\u001b[1;32m    152\u001b[0m   filtered_tb \u001b[38;5;241m=\u001b[39m _process_traceback_frames(e\u001b[38;5;241m.\u001b[39m__traceback__)\n",
      "File \u001b[0;32m~/anaconda3/envs/stochastic_games/lib/python3.10/site-packages/tensorflow/python/eager/polymorphic_function/polymorphic_function.py:880\u001b[0m, in \u001b[0;36mFunction.__call__\u001b[0;34m(self, *args, **kwds)\u001b[0m\n\u001b[1;32m    877\u001b[0m compiler \u001b[38;5;241m=\u001b[39m \u001b[38;5;124m\"\u001b[39m\u001b[38;5;124mxla\u001b[39m\u001b[38;5;124m\"\u001b[39m \u001b[38;5;28;01mif\u001b[39;00m \u001b[38;5;28mself\u001b[39m\u001b[38;5;241m.\u001b[39m_jit_compile \u001b[38;5;28;01melse\u001b[39;00m \u001b[38;5;124m\"\u001b[39m\u001b[38;5;124mnonXla\u001b[39m\u001b[38;5;124m\"\u001b[39m\n\u001b[1;32m    879\u001b[0m \u001b[38;5;28;01mwith\u001b[39;00m OptionalXlaContext(\u001b[38;5;28mself\u001b[39m\u001b[38;5;241m.\u001b[39m_jit_compile):\n\u001b[0;32m--> 880\u001b[0m   result \u001b[38;5;241m=\u001b[39m \u001b[38;5;28;43mself\u001b[39;49m\u001b[38;5;241;43m.\u001b[39;49m\u001b[43m_call\u001b[49m\u001b[43m(\u001b[49m\u001b[38;5;241;43m*\u001b[39;49m\u001b[43margs\u001b[49m\u001b[43m,\u001b[49m\u001b[43m \u001b[49m\u001b[38;5;241;43m*\u001b[39;49m\u001b[38;5;241;43m*\u001b[39;49m\u001b[43mkwds\u001b[49m\u001b[43m)\u001b[49m\n\u001b[1;32m    882\u001b[0m new_tracing_count \u001b[38;5;241m=\u001b[39m \u001b[38;5;28mself\u001b[39m\u001b[38;5;241m.\u001b[39mexperimental_get_tracing_count()\n\u001b[1;32m    883\u001b[0m without_tracing \u001b[38;5;241m=\u001b[39m (tracing_count \u001b[38;5;241m==\u001b[39m new_tracing_count)\n",
      "File \u001b[0;32m~/anaconda3/envs/stochastic_games/lib/python3.10/site-packages/tensorflow/python/eager/polymorphic_function/polymorphic_function.py:912\u001b[0m, in \u001b[0;36mFunction._call\u001b[0;34m(self, *args, **kwds)\u001b[0m\n\u001b[1;32m    909\u001b[0m   \u001b[38;5;28mself\u001b[39m\u001b[38;5;241m.\u001b[39m_lock\u001b[38;5;241m.\u001b[39mrelease()\n\u001b[1;32m    910\u001b[0m   \u001b[38;5;66;03m# In this case we have created variables on the first call, so we run the\u001b[39;00m\n\u001b[1;32m    911\u001b[0m   \u001b[38;5;66;03m# defunned version which is guaranteed to never create variables.\u001b[39;00m\n\u001b[0;32m--> 912\u001b[0m   \u001b[38;5;28;01mreturn\u001b[39;00m \u001b[38;5;28;43mself\u001b[39;49m\u001b[38;5;241;43m.\u001b[39;49m\u001b[43m_no_variable_creation_fn\u001b[49m\u001b[43m(\u001b[49m\u001b[38;5;241;43m*\u001b[39;49m\u001b[43margs\u001b[49m\u001b[43m,\u001b[49m\u001b[43m \u001b[49m\u001b[38;5;241;43m*\u001b[39;49m\u001b[38;5;241;43m*\u001b[39;49m\u001b[43mkwds\u001b[49m\u001b[43m)\u001b[49m  \u001b[38;5;66;03m# pylint: disable=not-callable\u001b[39;00m\n\u001b[1;32m    913\u001b[0m \u001b[38;5;28;01melif\u001b[39;00m \u001b[38;5;28mself\u001b[39m\u001b[38;5;241m.\u001b[39m_variable_creation_fn \u001b[38;5;129;01mis\u001b[39;00m \u001b[38;5;129;01mnot\u001b[39;00m \u001b[38;5;28;01mNone\u001b[39;00m:\n\u001b[1;32m    914\u001b[0m   \u001b[38;5;66;03m# Release the lock early so that multiple threads can perform the call\u001b[39;00m\n\u001b[1;32m    915\u001b[0m   \u001b[38;5;66;03m# in parallel.\u001b[39;00m\n\u001b[1;32m    916\u001b[0m   \u001b[38;5;28mself\u001b[39m\u001b[38;5;241m.\u001b[39m_lock\u001b[38;5;241m.\u001b[39mrelease()\n",
      "File \u001b[0;32m~/anaconda3/envs/stochastic_games/lib/python3.10/site-packages/tensorflow/python/eager/polymorphic_function/tracing_compiler.py:134\u001b[0m, in \u001b[0;36mTracingCompiler.__call__\u001b[0;34m(self, *args, **kwargs)\u001b[0m\n\u001b[1;32m    131\u001b[0m \u001b[38;5;28;01mwith\u001b[39;00m \u001b[38;5;28mself\u001b[39m\u001b[38;5;241m.\u001b[39m_lock:\n\u001b[1;32m    132\u001b[0m   (concrete_function,\n\u001b[1;32m    133\u001b[0m    filtered_flat_args) \u001b[38;5;241m=\u001b[39m \u001b[38;5;28mself\u001b[39m\u001b[38;5;241m.\u001b[39m_maybe_define_function(args, kwargs)\n\u001b[0;32m--> 134\u001b[0m \u001b[38;5;28;01mreturn\u001b[39;00m \u001b[43mconcrete_function\u001b[49m\u001b[38;5;241;43m.\u001b[39;49m\u001b[43m_call_flat\u001b[49m\u001b[43m(\u001b[49m\n\u001b[1;32m    135\u001b[0m \u001b[43m    \u001b[49m\u001b[43mfiltered_flat_args\u001b[49m\u001b[43m,\u001b[49m\u001b[43m \u001b[49m\u001b[43mcaptured_inputs\u001b[49m\u001b[38;5;241;43m=\u001b[39;49m\u001b[43mconcrete_function\u001b[49m\u001b[38;5;241;43m.\u001b[39;49m\u001b[43mcaptured_inputs\u001b[49m\u001b[43m)\u001b[49m\n",
      "File \u001b[0;32m~/anaconda3/envs/stochastic_games/lib/python3.10/site-packages/tensorflow/python/eager/polymorphic_function/monomorphic_function.py:1745\u001b[0m, in \u001b[0;36mConcreteFunction._call_flat\u001b[0;34m(self, args, captured_inputs, cancellation_manager)\u001b[0m\n\u001b[1;32m   1741\u001b[0m possible_gradient_type \u001b[38;5;241m=\u001b[39m gradients_util\u001b[38;5;241m.\u001b[39mPossibleTapeGradientTypes(args)\n\u001b[1;32m   1742\u001b[0m \u001b[38;5;28;01mif\u001b[39;00m (possible_gradient_type \u001b[38;5;241m==\u001b[39m gradients_util\u001b[38;5;241m.\u001b[39mPOSSIBLE_GRADIENT_TYPES_NONE\n\u001b[1;32m   1743\u001b[0m     \u001b[38;5;129;01mand\u001b[39;00m executing_eagerly):\n\u001b[1;32m   1744\u001b[0m   \u001b[38;5;66;03m# No tape is watching; skip to running the function.\u001b[39;00m\n\u001b[0;32m-> 1745\u001b[0m   \u001b[38;5;28;01mreturn\u001b[39;00m \u001b[38;5;28mself\u001b[39m\u001b[38;5;241m.\u001b[39m_build_call_outputs(\u001b[38;5;28;43mself\u001b[39;49m\u001b[38;5;241;43m.\u001b[39;49m\u001b[43m_inference_function\u001b[49m\u001b[38;5;241;43m.\u001b[39;49m\u001b[43mcall\u001b[49m\u001b[43m(\u001b[49m\n\u001b[1;32m   1746\u001b[0m \u001b[43m      \u001b[49m\u001b[43mctx\u001b[49m\u001b[43m,\u001b[49m\u001b[43m \u001b[49m\u001b[43margs\u001b[49m\u001b[43m,\u001b[49m\u001b[43m \u001b[49m\u001b[43mcancellation_manager\u001b[49m\u001b[38;5;241;43m=\u001b[39;49m\u001b[43mcancellation_manager\u001b[49m\u001b[43m)\u001b[49m)\n\u001b[1;32m   1747\u001b[0m forward_backward \u001b[38;5;241m=\u001b[39m \u001b[38;5;28mself\u001b[39m\u001b[38;5;241m.\u001b[39m_select_forward_and_backward_functions(\n\u001b[1;32m   1748\u001b[0m     args,\n\u001b[1;32m   1749\u001b[0m     possible_gradient_type,\n\u001b[1;32m   1750\u001b[0m     executing_eagerly)\n\u001b[1;32m   1751\u001b[0m forward_function, args_with_tangents \u001b[38;5;241m=\u001b[39m forward_backward\u001b[38;5;241m.\u001b[39mforward()\n",
      "File \u001b[0;32m~/anaconda3/envs/stochastic_games/lib/python3.10/site-packages/tensorflow/python/eager/polymorphic_function/monomorphic_function.py:378\u001b[0m, in \u001b[0;36m_EagerDefinedFunction.call\u001b[0;34m(self, ctx, args, cancellation_manager)\u001b[0m\n\u001b[1;32m    376\u001b[0m \u001b[38;5;28;01mwith\u001b[39;00m _InterpolateFunctionError(\u001b[38;5;28mself\u001b[39m):\n\u001b[1;32m    377\u001b[0m   \u001b[38;5;28;01mif\u001b[39;00m cancellation_manager \u001b[38;5;129;01mis\u001b[39;00m \u001b[38;5;28;01mNone\u001b[39;00m:\n\u001b[0;32m--> 378\u001b[0m     outputs \u001b[38;5;241m=\u001b[39m \u001b[43mexecute\u001b[49m\u001b[38;5;241;43m.\u001b[39;49m\u001b[43mexecute\u001b[49m\u001b[43m(\u001b[49m\n\u001b[1;32m    379\u001b[0m \u001b[43m        \u001b[49m\u001b[38;5;28;43mstr\u001b[39;49m\u001b[43m(\u001b[49m\u001b[38;5;28;43mself\u001b[39;49m\u001b[38;5;241;43m.\u001b[39;49m\u001b[43msignature\u001b[49m\u001b[38;5;241;43m.\u001b[39;49m\u001b[43mname\u001b[49m\u001b[43m)\u001b[49m\u001b[43m,\u001b[49m\n\u001b[1;32m    380\u001b[0m \u001b[43m        \u001b[49m\u001b[43mnum_outputs\u001b[49m\u001b[38;5;241;43m=\u001b[39;49m\u001b[38;5;28;43mself\u001b[39;49m\u001b[38;5;241;43m.\u001b[39;49m\u001b[43m_num_outputs\u001b[49m\u001b[43m,\u001b[49m\n\u001b[1;32m    381\u001b[0m \u001b[43m        \u001b[49m\u001b[43minputs\u001b[49m\u001b[38;5;241;43m=\u001b[39;49m\u001b[43margs\u001b[49m\u001b[43m,\u001b[49m\n\u001b[1;32m    382\u001b[0m \u001b[43m        \u001b[49m\u001b[43mattrs\u001b[49m\u001b[38;5;241;43m=\u001b[39;49m\u001b[43mattrs\u001b[49m\u001b[43m,\u001b[49m\n\u001b[1;32m    383\u001b[0m \u001b[43m        \u001b[49m\u001b[43mctx\u001b[49m\u001b[38;5;241;43m=\u001b[39;49m\u001b[43mctx\u001b[49m\u001b[43m)\u001b[49m\n\u001b[1;32m    384\u001b[0m   \u001b[38;5;28;01melse\u001b[39;00m:\n\u001b[1;32m    385\u001b[0m     outputs \u001b[38;5;241m=\u001b[39m execute\u001b[38;5;241m.\u001b[39mexecute_with_cancellation(\n\u001b[1;32m    386\u001b[0m         \u001b[38;5;28mstr\u001b[39m(\u001b[38;5;28mself\u001b[39m\u001b[38;5;241m.\u001b[39msignature\u001b[38;5;241m.\u001b[39mname),\n\u001b[1;32m    387\u001b[0m         num_outputs\u001b[38;5;241m=\u001b[39m\u001b[38;5;28mself\u001b[39m\u001b[38;5;241m.\u001b[39m_num_outputs,\n\u001b[0;32m   (...)\u001b[0m\n\u001b[1;32m    390\u001b[0m         ctx\u001b[38;5;241m=\u001b[39mctx,\n\u001b[1;32m    391\u001b[0m         cancellation_manager\u001b[38;5;241m=\u001b[39mcancellation_manager)\n",
      "File \u001b[0;32m~/anaconda3/envs/stochastic_games/lib/python3.10/site-packages/tensorflow/python/eager/execute.py:52\u001b[0m, in \u001b[0;36mquick_execute\u001b[0;34m(op_name, num_outputs, inputs, attrs, ctx, name)\u001b[0m\n\u001b[1;32m     50\u001b[0m \u001b[38;5;28;01mtry\u001b[39;00m:\n\u001b[1;32m     51\u001b[0m   ctx\u001b[38;5;241m.\u001b[39mensure_initialized()\n\u001b[0;32m---> 52\u001b[0m   tensors \u001b[38;5;241m=\u001b[39m \u001b[43mpywrap_tfe\u001b[49m\u001b[38;5;241;43m.\u001b[39;49m\u001b[43mTFE_Py_Execute\u001b[49m\u001b[43m(\u001b[49m\u001b[43mctx\u001b[49m\u001b[38;5;241;43m.\u001b[39;49m\u001b[43m_handle\u001b[49m\u001b[43m,\u001b[49m\u001b[43m \u001b[49m\u001b[43mdevice_name\u001b[49m\u001b[43m,\u001b[49m\u001b[43m \u001b[49m\u001b[43mop_name\u001b[49m\u001b[43m,\u001b[49m\n\u001b[1;32m     53\u001b[0m \u001b[43m                                      \u001b[49m\u001b[43minputs\u001b[49m\u001b[43m,\u001b[49m\u001b[43m \u001b[49m\u001b[43mattrs\u001b[49m\u001b[43m,\u001b[49m\u001b[43m \u001b[49m\u001b[43mnum_outputs\u001b[49m\u001b[43m)\u001b[49m\n\u001b[1;32m     54\u001b[0m \u001b[38;5;28;01mexcept\u001b[39;00m core\u001b[38;5;241m.\u001b[39m_NotOkStatusException \u001b[38;5;28;01mas\u001b[39;00m e:\n\u001b[1;32m     55\u001b[0m   \u001b[38;5;28;01mif\u001b[39;00m name \u001b[38;5;129;01mis\u001b[39;00m \u001b[38;5;129;01mnot\u001b[39;00m \u001b[38;5;28;01mNone\u001b[39;00m:\n",
      "\u001b[0;31mKeyboardInterrupt\u001b[0m: "
     ]
    }
   ],
   "source": [
    "model.compile(\n",
    "    optimizer=\"Adam\",\n",
    "    loss=tf.keras.losses.BinaryCrossentropy(),\n",
    "    metrics=[\"accuracy\"],\n",
    ")\n",
    "model.fit(x=transformed,\n",
    "    epochs=25,\n",
    "    verbose='auto',\n",
    "    steps_per_epoch=64,\n",
    "    shuffle=False,\n",
    "          validation_data=validation_dataset\n",
    "         )"
   ]
  },
  {
   "cell_type": "code",
   "execution_count": 188,
   "id": "6b742d82-9f2b-48a4-9e09-ac865e8f6563",
   "metadata": {},
   "outputs": [
    {
     "name": "stdout",
     "output_type": "stream",
     "text": [
      "Epoch 1/60\n",
      "256/256 [==============================] - 4s 17ms/step - loss: 0.3095 - accuracy: 0.8660 - val_loss: 1.0890 - val_accuracy: 0.5820\n",
      "Epoch 2/60\n",
      "256/256 [==============================] - 2s 7ms/step - loss: 0.2597 - accuracy: 0.8915 - val_loss: 1.1163 - val_accuracy: 0.5846\n",
      "Epoch 3/60\n",
      "256/256 [==============================] - 2s 7ms/step - loss: 0.2675 - accuracy: 0.8881 - val_loss: 0.9463 - val_accuracy: 0.6159\n",
      "Epoch 4/60\n",
      "256/256 [==============================] - 2s 7ms/step - loss: 0.3160 - accuracy: 0.8631 - val_loss: 0.8769 - val_accuracy: 0.6081\n",
      "Epoch 5/60\n",
      "256/256 [==============================] - 2s 7ms/step - loss: 0.2956 - accuracy: 0.8742 - val_loss: 1.1093 - val_accuracy: 0.5951\n",
      "Epoch 6/60\n",
      "256/256 [==============================] - 2s 7ms/step - loss: 0.2623 - accuracy: 0.8901 - val_loss: 1.1416 - val_accuracy: 0.5716\n",
      "Epoch 7/60\n",
      "256/256 [==============================] - 2s 7ms/step - loss: 0.2563 - accuracy: 0.8914 - val_loss: 1.0005 - val_accuracy: 0.6198\n",
      "Epoch 8/60\n",
      "256/256 [==============================] - 2s 7ms/step - loss: 0.3172 - accuracy: 0.8616 - val_loss: 0.8822 - val_accuracy: 0.6198\n",
      "Epoch 9/60\n",
      "256/256 [==============================] - 2s 7ms/step - loss: 0.2929 - accuracy: 0.8757 - val_loss: 1.1041 - val_accuracy: 0.5964\n",
      "Epoch 10/60\n",
      "256/256 [==============================] - 2s 7ms/step - loss: 0.2550 - accuracy: 0.8951 - val_loss: 1.0949 - val_accuracy: 0.5898\n",
      "Epoch 11/60\n",
      "256/256 [==============================] - 2s 7ms/step - loss: 0.2538 - accuracy: 0.8917 - val_loss: 0.9828 - val_accuracy: 0.6315\n",
      "Epoch 12/60\n",
      "256/256 [==============================] - 2s 7ms/step - loss: 0.3092 - accuracy: 0.8685 - val_loss: 0.9043 - val_accuracy: 0.6029\n",
      "Epoch 13/60\n",
      "256/256 [==============================] - 2s 7ms/step - loss: 0.2839 - accuracy: 0.8795 - val_loss: 1.1536 - val_accuracy: 0.5833\n",
      "Epoch 14/60\n",
      "256/256 [==============================] - 2s 7ms/step - loss: 0.2508 - accuracy: 0.8958 - val_loss: 1.1934 - val_accuracy: 0.5729\n",
      "Epoch 15/60\n",
      "256/256 [==============================] - 2s 6ms/step - loss: 0.2472 - accuracy: 0.8952 - val_loss: 1.0323 - val_accuracy: 0.6133\n",
      "Epoch 16/60\n",
      "256/256 [==============================] - 2s 7ms/step - loss: 0.3026 - accuracy: 0.8701 - val_loss: 0.9220 - val_accuracy: 0.5938\n",
      "Epoch 17/60\n",
      "256/256 [==============================] - 2s 7ms/step - loss: 0.2848 - accuracy: 0.8774 - val_loss: 1.2246 - val_accuracy: 0.5820\n",
      "Epoch 18/60\n",
      "256/256 [==============================] - 2s 7ms/step - loss: 0.2425 - accuracy: 0.9007 - val_loss: 1.1987 - val_accuracy: 0.5911\n",
      "Epoch 19/60\n",
      "256/256 [==============================] - 2s 7ms/step - loss: 0.2415 - accuracy: 0.8982 - val_loss: 1.0205 - val_accuracy: 0.6159\n",
      "Epoch 20/60\n",
      "256/256 [==============================] - 2s 6ms/step - loss: 0.2931 - accuracy: 0.8733 - val_loss: 0.9442 - val_accuracy: 0.6029\n",
      "Epoch 21/60\n",
      "256/256 [==============================] - 2s 7ms/step - loss: 0.2713 - accuracy: 0.8847 - val_loss: 1.3419 - val_accuracy: 0.5768\n",
      "Epoch 22/60\n",
      "256/256 [==============================] - 2s 7ms/step - loss: 0.2362 - accuracy: 0.9047 - val_loss: 1.1568 - val_accuracy: 0.5859\n",
      "Epoch 23/60\n",
      "256/256 [==============================] - 2s 7ms/step - loss: 0.2376 - accuracy: 0.9028 - val_loss: 1.0348 - val_accuracy: 0.6289\n",
      "Epoch 24/60\n",
      "256/256 [==============================] - 2s 7ms/step - loss: 0.2881 - accuracy: 0.8751 - val_loss: 0.9337 - val_accuracy: 0.6003\n",
      "Epoch 25/60\n",
      "256/256 [==============================] - 2s 7ms/step - loss: 0.2717 - accuracy: 0.8850 - val_loss: 1.2733 - val_accuracy: 0.5820\n",
      "Epoch 26/60\n",
      "256/256 [==============================] - 2s 7ms/step - loss: 0.2338 - accuracy: 0.9039 - val_loss: 1.1550 - val_accuracy: 0.5990\n",
      "Epoch 27/60\n",
      "256/256 [==============================] - 2s 7ms/step - loss: 0.2397 - accuracy: 0.8990 - val_loss: 1.0301 - val_accuracy: 0.6289\n",
      "Epoch 28/60\n",
      "256/256 [==============================] - 2s 6ms/step - loss: 0.2791 - accuracy: 0.8818 - val_loss: 0.9794 - val_accuracy: 0.5990\n",
      "Epoch 29/60\n",
      "256/256 [==============================] - 2s 7ms/step - loss: 0.2699 - accuracy: 0.8848 - val_loss: 1.2634 - val_accuracy: 0.5911\n",
      "Epoch 30/60\n",
      "256/256 [==============================] - 2s 7ms/step - loss: 0.2314 - accuracy: 0.9068 - val_loss: 1.2130 - val_accuracy: 0.6003\n",
      "Epoch 31/60\n",
      "256/256 [==============================] - 2s 7ms/step - loss: 0.2348 - accuracy: 0.9026 - val_loss: 1.0697 - val_accuracy: 0.6289\n",
      "Epoch 32/60\n",
      "256/256 [==============================] - 2s 7ms/step - loss: 0.2748 - accuracy: 0.8842 - val_loss: 0.9866 - val_accuracy: 0.6042\n",
      "Epoch 33/60\n",
      "256/256 [==============================] - 2s 6ms/step - loss: 0.2648 - accuracy: 0.8887 - val_loss: 1.2096 - val_accuracy: 0.5938\n",
      "Epoch 34/60\n",
      "256/256 [==============================] - 2s 6ms/step - loss: 0.2250 - accuracy: 0.9070 - val_loss: 1.2527 - val_accuracy: 0.6016\n",
      "Epoch 35/60\n",
      "256/256 [==============================] - 2s 7ms/step - loss: 0.2254 - accuracy: 0.9073 - val_loss: 1.1043 - val_accuracy: 0.6315\n",
      "Epoch 36/60\n",
      "256/256 [==============================] - 2s 7ms/step - loss: 0.2735 - accuracy: 0.8845 - val_loss: 0.9902 - val_accuracy: 0.6055\n",
      "Epoch 37/60\n",
      "256/256 [==============================] - 2s 7ms/step - loss: 0.2634 - accuracy: 0.8886 - val_loss: 1.2332 - val_accuracy: 0.5885\n",
      "Epoch 38/60\n",
      "256/256 [==============================] - 2s 7ms/step - loss: 0.2244 - accuracy: 0.9090 - val_loss: 1.1654 - val_accuracy: 0.6016\n",
      "Epoch 39/60\n",
      "256/256 [==============================] - 2s 6ms/step - loss: 0.2286 - accuracy: 0.9052 - val_loss: 1.0423 - val_accuracy: 0.6224\n",
      "Epoch 40/60\n",
      "256/256 [==============================] - 2s 7ms/step - loss: 0.2660 - accuracy: 0.8880 - val_loss: 1.0288 - val_accuracy: 0.6029\n",
      "Epoch 41/60\n",
      "256/256 [==============================] - 2s 7ms/step - loss: 0.2576 - accuracy: 0.8918 - val_loss: 1.3593 - val_accuracy: 0.5872\n",
      "Epoch 42/60\n",
      "256/256 [==============================] - 2s 7ms/step - loss: 0.2214 - accuracy: 0.9099 - val_loss: 1.1853 - val_accuracy: 0.6198\n",
      "Epoch 43/60\n",
      "256/256 [==============================] - 2s 7ms/step - loss: 0.2175 - accuracy: 0.9086 - val_loss: 1.1533 - val_accuracy: 0.6211\n",
      "Epoch 44/60\n",
      "256/256 [==============================] - 2s 7ms/step - loss: 0.2556 - accuracy: 0.8903 - val_loss: 1.0572 - val_accuracy: 0.6042\n",
      "Epoch 45/60\n",
      "256/256 [==============================] - 2s 7ms/step - loss: 0.2484 - accuracy: 0.8934 - val_loss: 1.2560 - val_accuracy: 0.6068\n",
      "Epoch 46/60\n",
      "256/256 [==============================] - 2s 7ms/step - loss: 0.2172 - accuracy: 0.9096 - val_loss: 1.1929 - val_accuracy: 0.6250\n",
      "Epoch 47/60\n",
      "256/256 [==============================] - 2s 8ms/step - loss: 0.2190 - accuracy: 0.9088 - val_loss: 1.1342 - val_accuracy: 0.6133\n",
      "Epoch 48/60\n",
      "256/256 [==============================] - 2s 7ms/step - loss: 0.2572 - accuracy: 0.8946 - val_loss: 1.0418 - val_accuracy: 0.6094\n",
      "Epoch 49/60\n",
      "256/256 [==============================] - 2s 7ms/step - loss: 0.2421 - accuracy: 0.8989 - val_loss: 1.3374 - val_accuracy: 0.5977\n",
      "Epoch 50/60\n",
      "256/256 [==============================] - 2s 7ms/step - loss: 0.2124 - accuracy: 0.9151 - val_loss: 1.2937 - val_accuracy: 0.6068\n",
      "Epoch 51/60\n",
      "256/256 [==============================] - 2s 7ms/step - loss: 0.2155 - accuracy: 0.9119 - val_loss: 1.1251 - val_accuracy: 0.6185\n",
      "Epoch 52/60\n",
      "256/256 [==============================] - 2s 7ms/step - loss: 0.2471 - accuracy: 0.8958 - val_loss: 1.0539 - val_accuracy: 0.6237\n",
      "Epoch 53/60\n",
      "256/256 [==============================] - 2s 7ms/step - loss: 0.2380 - accuracy: 0.8994 - val_loss: 1.2954 - val_accuracy: 0.6016\n",
      "Epoch 54/60\n",
      "256/256 [==============================] - 2s 7ms/step - loss: 0.2059 - accuracy: 0.9157 - val_loss: 1.3493 - val_accuracy: 0.5951\n",
      "Epoch 55/60\n",
      "256/256 [==============================] - 2s 7ms/step - loss: 0.2143 - accuracy: 0.9114 - val_loss: 1.1184 - val_accuracy: 0.6263\n",
      "Epoch 56/60\n",
      "256/256 [==============================] - 2s 7ms/step - loss: 0.2496 - accuracy: 0.8961 - val_loss: 1.1002 - val_accuracy: 0.6211\n",
      "Epoch 57/60\n",
      "256/256 [==============================] - 2s 7ms/step - loss: 0.2402 - accuracy: 0.8980 - val_loss: 1.2381 - val_accuracy: 0.6081\n",
      "Epoch 58/60\n",
      "256/256 [==============================] - 2s 7ms/step - loss: 0.2023 - accuracy: 0.9178 - val_loss: 1.2940 - val_accuracy: 0.6068\n",
      "Epoch 59/60\n",
      "256/256 [==============================] - 2s 7ms/step - loss: 0.2090 - accuracy: 0.9156 - val_loss: 1.1895 - val_accuracy: 0.5977\n",
      "Epoch 60/60\n",
      "256/256 [==============================] - 2s 6ms/step - loss: 0.2428 - accuracy: 0.9009 - val_loss: 1.1026 - val_accuracy: 0.6159\n"
     ]
    },
    {
     "data": {
      "text/plain": [
       "<keras.callbacks.History at 0x7f82b0168dc0>"
      ]
     },
     "execution_count": 188,
     "metadata": {},
     "output_type": "execute_result"
    }
   ],
   "source": [
    "model.fit(x=transformed,\n",
    "    epochs=60,\n",
    "    verbose='auto',\n",
    "    steps_per_epoch=256,\n",
    "    shuffle=False,\n",
    "          validation_data=validation_dataset\n",
    "         )"
   ]
  },
  {
   "cell_type": "code",
   "execution_count": 130,
   "id": "1e738124-3e9d-4d50-8259-b17c518a89fe",
   "metadata": {},
   "outputs": [
    {
     "name": "stderr",
     "output_type": "stream",
     "text": [
      "2023-04-04 05:43:34.998569: W tensorflow/core/kernels/data/cache_dataset_ops.cc:856] The calling iterator did not fully read the dataset being cached. In order to avoid unexpected truncation of the dataset, the partially cached contents of the dataset  will be discarded. This can happen if you have an input pipeline similar to `dataset.cache().take(k).repeat()`. You should use `dataset.take(k).cache().repeat()` instead.\n"
     ]
    },
    {
     "data": {
      "text/plain": [
       "<tf.Tensor: shape=(64, 1), dtype=float32, numpy=\n",
       "array([[1.],\n",
       "       [1.],\n",
       "       [0.],\n",
       "       [0.],\n",
       "       [0.],\n",
       "       [0.],\n",
       "       [1.],\n",
       "       [0.],\n",
       "       [0.],\n",
       "       [1.],\n",
       "       [1.],\n",
       "       [1.],\n",
       "       [0.],\n",
       "       [0.],\n",
       "       [1.],\n",
       "       [0.],\n",
       "       [1.],\n",
       "       [1.],\n",
       "       [1.],\n",
       "       [0.],\n",
       "       [0.],\n",
       "       [0.],\n",
       "       [0.],\n",
       "       [0.],\n",
       "       [0.],\n",
       "       [1.],\n",
       "       [1.],\n",
       "       [0.],\n",
       "       [0.],\n",
       "       [0.],\n",
       "       [0.],\n",
       "       [1.],\n",
       "       [1.],\n",
       "       [1.],\n",
       "       [1.],\n",
       "       [1.],\n",
       "       [0.],\n",
       "       [0.],\n",
       "       [1.],\n",
       "       [0.],\n",
       "       [1.],\n",
       "       [0.],\n",
       "       [0.],\n",
       "       [0.],\n",
       "       [0.],\n",
       "       [0.],\n",
       "       [1.],\n",
       "       [0.],\n",
       "       [1.],\n",
       "       [0.],\n",
       "       [1.],\n",
       "       [0.],\n",
       "       [0.],\n",
       "       [0.],\n",
       "       [1.],\n",
       "       [0.],\n",
       "       [0.],\n",
       "       [0.],\n",
       "       [1.],\n",
       "       [1.],\n",
       "       [1.],\n",
       "       [0.],\n",
       "       [1.],\n",
       "       [0.]], dtype=float32)>"
      ]
     },
     "execution_count": 130,
     "metadata": {},
     "output_type": "execute_result"
    }
   ],
   "source": [
    "x,y=next(iter(transformed))\n",
    "y"
   ]
  },
  {
   "cell_type": "code",
   "execution_count": 111,
   "id": "76525fcd-f9d6-4fe6-8296-b8650bd55e9d",
   "metadata": {},
   "outputs": [],
   "source": [
    "graph = mpg.graph.random_graph.gnp_random_mpg(10, 0.5, seed=1, method=\"fast\", loops=True,\n",
    "                                              distribution=\"integers\", low=0, high=10, endpoint=True)"
   ]
  },
  {
   "cell_type": "code",
   "execution_count": 123,
   "id": "1ed80934-92d8-4292-bca8-6d68460daf35",
   "metadata": {},
   "outputs": [],
   "source": [
    "A = tf.convert_to_tensor(nx.adjacency_matrix(graph, weight=None).todense())"
   ]
  },
  {
   "cell_type": "code",
   "execution_count": 2,
   "id": "09d88bb0-a08b-417f-964c-baf019b607f5",
   "metadata": {},
   "outputs": [],
   "source": [
    "from numba import jit\n",
    "import networkx as nx\n",
    "import numpy as np\n",
    "from typing import Union, TypeVar, Type\n",
    "import mpg.games.mpg as mpg\n"
   ]
  },
  {
   "cell_type": "code",
   "execution_count": 17,
   "id": "cf280984-dc52-4e08-bee7-8e1c088ea413",
   "metadata": {},
   "outputs": [
    {
     "name": "stdout",
     "output_type": "stream",
     "text": [
      "1.19 s ± 32.3 ms per loop (mean ± std. dev. of 7 runs, 1 loop each)\n"
     ]
    }
   ],
   "source": []
  },
  {
   "cell_type": "code",
   "execution_count": 23,
   "id": "9beecdae-9d4b-4867-9388-f652a8f535b1",
   "metadata": {},
   "outputs": [],
   "source": [
    "import mpg.graph.random_graph as rg\n",
    "G= rg.gnp_random_mpg(500,0.5,seed=27,distribution=\"integers\",low=-10,high=10,endpoint=True)"
   ]
  },
  {
   "cell_type": "code",
   "execution_count": 27,
   "id": "fb3ac617-a83c-4c7d-ba9c-a5f937126a66",
   "metadata": {},
   "outputs": [
    {
     "name": "stdout",
     "output_type": "stream",
     "text": [
      "20.2 s ± 170 ms per loop (mean ± std. dev. of 7 runs, 1 loop each)\n"
     ]
    }
   ],
   "source": [
    "%timeit mpg.optimal_strategy_pair(G)"
   ]
  },
  {
   "cell_type": "code",
   "execution_count": 25,
   "id": "d61f50ae-379f-43a3-80d6-94bb19c495b5",
   "metadata": {},
   "outputs": [
    {
     "name": "stdout",
     "output_type": "stream",
     "text": [
      "664 ms ± 63.5 ms per loop (mean ± std. dev. of 7 runs, 1 loop each)\n"
     ]
    }
   ],
   "source": [
    "import mpg.wrapper as wrapper\n",
    "%timeit wrapper.optimal_strategy_pair(G)"
   ]
  },
  {
   "cell_type": "code",
   "execution_count": 110,
   "id": "25d92073-78bc-4e23-abd1-80a096a39347",
   "metadata": {},
   "outputs": [],
   "source": [
    "\n",
    "def _get_winner(A,W,vertex,player):\n",
    "    edges = []\n",
    "    for i in range(A.shape[0]):\n",
    "        for j in range(A.shape[1]):\n",
    "            if A[i,j] == 1:\n",
    "                edges.append((i,j,W[i,j]))\n",
    "    C=mpgwrapper.mpgcpp.winners_double_edges_cxx(edges)\n",
    "    return C[player][vertex]"
   ]
  },
  {
   "cell_type": "code",
   "execution_count": 77,
   "id": "4b8d24e6-ff07-48b7-8aee-8ea2c59eae9c",
   "metadata": {},
   "outputs": [],
   "source": [
    "adjacency_distribution: tfp.distributions.Distribution = tfp.distributions.Bernoulli(probs=0.57)\n",
    "d=tfp.distributions.Uniform(-10,10)"
   ]
  },
  {
   "cell_type": "code",
   "execution_count": 6,
   "id": "a9433860-4665-4ce3-a1c3-5b4d20b11c47",
   "metadata": {},
   "outputs": [
    {
     "data": {
      "text/plain": [
       "<tf.Tensor: shape=(100,), dtype=int32, numpy=\n",
       "array([1, 1, 1, 0, 1, 0, 1, 0, 0, 1, 1, 1, 0, 1, 0, 0, 0, 0, 0, 0, 1, 0,\n",
       "       0, 1, 1, 0, 0, 0, 0, 0, 1, 1, 0, 1, 1, 0, 0, 1, 0, 1, 0, 0, 0, 1,\n",
       "       1, 0, 1, 1, 0, 0, 0, 0, 0, 0, 0, 1, 0, 0, 1, 0, 1, 0, 0, 1, 0, 0,\n",
       "       1, 0, 1, 1, 0, 1, 0, 1, 0, 0, 1, 1, 1, 1, 0, 0, 0, 0, 1, 1, 1, 0,\n",
       "       0, 0, 0, 0, 0, 1, 1, 0, 1, 0, 0, 1], dtype=int32)>"
      ]
     },
     "execution_count": 6,
     "metadata": {},
     "output_type": "execute_result"
    }
   ],
   "source": []
  },
  {
   "cell_type": "code",
   "execution_count": 33,
   "id": "698966d4-5293-40ed-bc43-40f4355d173b",
   "metadata": {},
   "outputs": [
    {
     "data": {
      "text/plain": [
       "b'\\x05\\x00\\x00\\x00'"
      ]
     },
     "execution_count": 33,
     "metadata": {},
     "output_type": "execute_result"
    }
   ],
   "source": [
    "bytes(tf.constant([5]))"
   ]
  },
  {
   "cell_type": "code",
   "execution_count": 16,
   "id": "4ae00552-cce2-4302-8e8b-ad6e76c62875",
   "metadata": {},
   "outputs": [
    {
     "name": "stdout",
     "output_type": "stream",
     "text": [
      "Processing Graph 0:\n",
      "Processing Time 0.2986409664154053:\n",
      "Processing Graph 1:\n",
      "Processing Time 0.2029719352722168:\n",
      "Processing Graph 2:\n",
      "Processing Time 0.2950937747955322:\n",
      "Processing Graph 3:\n",
      "Processing Time 0.012552738189697266:\n",
      "Processing Graph 4:\n",
      "Processing Time 0.24564290046691895:\n",
      "Processing Graph 5:\n",
      "Processing Time 0.01729297637939453:\n",
      "Processing Graph 6:\n",
      "Processing Time 0.0193173885345459:\n",
      "Processing Graph 7:\n",
      "Processing Time 0.3035721778869629:\n",
      "Processing Graph 8:\n",
      "Processing Time 0.07518315315246582:\n",
      "Processing Graph 9:\n",
      "Processing Time 0.2042698860168457:\n"
     ]
    }
   ],
   "source": [
    "from importlib import reload\n",
    "import mpg.wrapper as mpgwrapper\n",
    "import time\n",
    "import mpg.graph.random_graph as rg\n",
    "times=[]\n",
    "for k in range(10):\n",
    "    G=rg.gnp_random_mpg(n=1000,p=0.001,distribution=\"normal\",loc=0,scale=1,loops=True)\n",
    "    print(f\"Processing Graph {k}:\",flush=True)\n",
    "    start=time.time()\n",
    "    mpgwrapper.mpgcpp.winners_float_edges_cxx([(int(u),int(v),int(G.edges[u,v][\"weight\"])) for u,v in G.edges])\n",
    "    end=time.time()\n",
    "    print(f\"Processing Time {end-start}:\",flush=True)\n",
    "    times.append(end-start)"
   ]
  },
  {
   "cell_type": "code",
   "execution_count": 31,
   "id": "b4ed22b7-7140-40e3-bced-6bbceb834197",
   "metadata": {},
   "outputs": [
    {
     "name": "stdout",
     "output_type": "stream",
     "text": [
      "Processing Graph 0:\n",
      "Processing Time 0.04545021057128906:\n",
      "Processing Graph 1:\n",
      "Processing Time 0.014969825744628906:\n",
      "Processing Graph 2:\n",
      "Processing Time 0.01526021957397461:\n",
      "Processing Graph 3:\n",
      "Processing Time 0.013864278793334961:\n",
      "Processing Graph 4:\n",
      "Processing Time 0.014152050018310547:\n",
      "Processing Graph 5:\n",
      "Processing Time 0.012566089630126953:\n",
      "Processing Graph 6:\n",
      "Processing Time 0.012970209121704102:\n",
      "Processing Graph 7:\n",
      "Processing Time 0.014101028442382812:\n",
      "Processing Graph 8:\n",
      "Processing Time 0.012717485427856445:\n",
      "Processing Graph 9:\n",
      "Processing Time 0.013520479202270508:\n"
     ]
    }
   ],
   "source": [
    "from importlib import reload\n",
    "import mpg.wrapper as mpgwrapper\n",
    "import time\n",
    "import mpg.graph.random_graph as rg\n",
    "import numba\n",
    "import numpy as np\n",
    "import tensorflow as tf\n",
    "import mpg.graph.random_graph\n",
    "import networkx as nx\n",
    "import itertools\n",
    "import tensorflow_probability as tfp\n",
    "import mpg.wrapper as mpgwrapper\n",
    "\n",
    "\n",
    "def _adj_matrix_generator(n,p):\n",
    "    \n",
    "    A=np.zeros([n,n],dtype=np.uint8)\n",
    "    for k in range(n):\n",
    "        A[k,:]=np.random.binomial(1,p,n)\n",
    "        while A[k,:].sum() == 0:\n",
    "            A[k,:]=np.random.binomial(1,p,n)\n",
    "    return A\n",
    "\n",
    "def _generate_dense_instances(n, p, seeder, cardinality: int, target: bool, weight_matrix: bool, flatten: bool,\n",
    "                              weight_distribution: tfp.distributions.Distribution, weight_type):\n",
    "    adjacency_distribution: tfp.distributions.Distribution = tfp.distributions.Bernoulli(probs=p,dtype=tf.bool)\n",
    "    turn_distribution: tfp.distributions.Distribution = tfp.distributions.Bernoulli(probs=0.5)\n",
    "    # discrete=tfp.distributions.DiscreteUniform(low=0,high=10)\n",
    "    shape = (n, n) if not flatten else (n * n,)\n",
    "    W = weight_distribution.sample(shape, seed=seeder())\n",
    "    dtype=weight_distribution.dtype\n",
    "    A=tf.numpy_function(_adj_matrix_generator,inp=[n,p],Tout=tf.uint8,stateful=False)\n",
    "    if flatten:\n",
    "        A=tf.reshape(A,shape=(-1,))\n",
    "    A = tf.cast(A,dtype=dtype)\n",
    "    W = tf.multiply(A, W)\n",
    "    vertex = tf.random.uniform((1,), 0, n, dtype=tf.int32, seed=seeder())\n",
    "    player = turn_distribution.sample((1,), seed=seeder())\n",
    "    if flatten:\n",
    "        if weight_matrix:\n",
    "            output = tf.concat(cast_all(dtype,A, W, vertex, player), axis=0)\n",
    "        else:\n",
    "            output = tf.concat(cast_all(dtype,A, vertex, player), axis=0)\n",
    "        if target:\n",
    "            if weight_type == tf.int32 or weight_type == tf.int64:\n",
    "                target_value = tf.py_function(\n",
    "                    lambda output: np.array(mpgwrapper.mpgcpp.winners_tensorflow_int_matrix_flattened_cxx(output.numpy().astype(np.int32).tolist())),\n",
    "                    inp=[output], Tout=tf.int32)\n",
    "            else:\n",
    "                target_value = tf.py_function(\n",
    "                    lambda output: np.array(mpgwrapper.mpgcpp.winners_tensorflow_float_matrix_flattened_cxx(output.numpy().astype(np.float32).tolist())),\n",
    "                    inp=[output], Tout=tf.float32)\n",
    "            target_value = tf.reshape(tf.ensure_shape(target_value, ()), shape=(1,))\n",
    "            return (tf.cast(output,dtype=tf.float32), tf.cast(target_value, dtype=tf.float32))\n",
    "        return output\n",
    "    else:\n",
    "        if weight_matrix:\n",
    "            output = tf.cast(tf.stack([A, W], axis=0), dtype=tf.float32)\n",
    "        else:\n",
    "            output = tf.cast(A, dtype=tf.float32)\n",
    "        if target:\n",
    "            return (output, tf.constant([vertex, player]), 1)\n",
    "        return (output, tf.constant([vertex, player]))\n",
    "\n",
    "\n",
    "def cast_all(dtype,*args):\n",
    "    return tuple(tf.cast(arg, dtype) for arg in args)\n",
    "times=[]\n",
    "with tf.device(\"/device:gpu:0\") as device:\n",
    "    for k in range(10):\n",
    "        print(f\"Processing Graph {k}:\",flush=True)\n",
    "        seeder=tfp.util.SeedStream(k,\"k\")\n",
    "        start=time.time()\n",
    "        _generate_dense_instances(n=200,p=1,seeder=seeder,cardinality=1,target=False,weight_matrix=True,flatten=True,weight_distribution=tfp.distributions.Uniform(-30,30),weight_type=\"int\")\n",
    "        end=time.time()\n",
    "        print(f\"Processing Time {end-start}:\",flush=True)\n",
    "        times.append(end-start)"
   ]
  },
  {
   "cell_type": "code",
   "execution_count": 2,
   "id": "a8c2a788-4651-436e-b68a-bcd5003b3110",
   "metadata": {},
   "outputs": [
    {
     "data": {
      "text/plain": [
       "array([[0, 1, 0, ..., 0, 0, 1],\n",
       "       [0, 0, 1, ..., 1, 1, 1],\n",
       "       [0, 1, 1, ..., 1, 0, 1],\n",
       "       ...,\n",
       "       [1, 1, 0, ..., 1, 0, 0],\n",
       "       [0, 1, 1, ..., 0, 1, 1],\n",
       "       [0, 1, 0, ..., 1, 0, 0]], dtype=uint8)"
      ]
     },
     "execution_count": 2,
     "metadata": {},
     "output_type": "execute_result"
    }
   ],
   "source": [
    "\n",
    "def _adj_matrix_generator(n,p):\n",
    "    A=np.zeros([n,n],dtype=np.uint8)\n",
    "    for k in range(n):\n",
    "        A[k,:]=np.random.binomial(1,p,n)\n",
    "        while A[k,:].sum() == 0:\n",
    "            A[k,:]=np.random.binomial(1,p,n)\n",
    "    return A\n",
    "_adj_matrix_generator(100,0.5)"
   ]
  },
  {
   "cell_type": "code",
   "execution_count": 8,
   "id": "7cdbe2ce-daac-41b5-83e2-59f25ff1196a",
   "metadata": {},
   "outputs": [
    {
     "name": "stdout",
     "output_type": "stream",
     "text": [
      "0.0311582088470459\n"
     ]
    }
   ],
   "source": [
    "import time\n",
    "n=100\n",
    "seeder=tfp.util.SeedStream(4,\"g\")\n",
    "X=generate_dense_gnp_instance(n=n,p=0.1,seeder=seeder,cardinality=1,\n",
    "                          target=\"none\",weight_matrix=True,flatten=True,weight_distribution=tfp.distributions.Uniform(-100,100),weight_type=\"int\")\n",
    "L=[]\n",
    "Z=X.numpy()\n",
    "for i in range(n):\n",
    "    for j in range(n):\n",
    "        if Z[i+n*j] == 1:\n",
    "            L.append((i,j,int(Z[i+n*j+n*n])))\n",
    "a=time.time()\n",
    "Q=mpgwrapper.mpgcpp.targets_tensorflow_int_cxx(X.numpy().reshape((2,n,n)).astype(np.int32).tolist(),\"dense\",\"all\",False)\n",
    "b=time.time()\n",
    "print(b-a)"
   ]
  },
  {
   "cell_type": "code",
   "execution_count": 7,
   "id": "677ae2a3-06e5-4f10-8f47-b5ab6beb52a0",
   "metadata": {},
   "outputs": [
    {
     "data": {
      "text/plain": [
       "<tf.Tensor: shape=(2, 2, 100), dtype=int32, numpy=\n",
       "array([[[88, 85, 80, 77, 91, 95, 88, 96, 98, 93, 98, 96, 97, 99, 93, 96,\n",
       "         95, 97, 89, 98, 95, 99, 95, 99, 92, 93, 99, 86, 97, 94, 96, 98,\n",
       "         94, 95, 86, 99, 91, 88, 95, 85, 81, 93, 93, 81, 91, 96, 69, 92,\n",
       "         99, 95, 95, 84, 90, 95, 87, 98, 65, 98, 94, 71, 98, 90, 96, 89,\n",
       "         95, 97, 97, 84, 90, 85, 93, 99, 97, 97, 91, 90, 98, 88, 99, 91,\n",
       "         90, 78, 97, 81, 99, 93, 78, 96, 95, 94, 92, 98, 96, 95, 86, 97,\n",
       "         95, 96, 97, 85],\n",
       "        [88, 81, 15, 12,  5, 38, 88, 84, 81, 29, 19, 34, 88,  2, 29, 43,\n",
       "         71, 95,  2, 16, 81, 84, 95, 97, 61, 11, 76,  6, 38, 55, 96, 88,\n",
       "         94, 46, 84, 14, 42, 88, 95, 49, 68, 68, 50, 81, 33, 96, 69, 29,\n",
       "         99, 95, 46, 84, 50,  5, 53, 86, 64, 34, 42, 55, 76, 49, 96, 19,\n",
       "         34, 97,  4, 38,  4, 42,  5, 87,  3,  2, 71, 23, 55, 78, 84, 84,\n",
       "         25, 31, 80, 57, 91,  4, 76, 17, 95, 84, 78, 80, 23, 95, 63, 68,\n",
       "         95, 10, 84, 61]],\n",
       "\n",
       "       [[ 1,  1,  1,  1,  1,  1,  1,  1,  1,  1,  1,  1,  1,  1,  1,  1,\n",
       "          1,  1,  1,  1,  1,  1,  1,  1,  1,  1,  1,  1,  1,  1,  1,  1,\n",
       "          1,  1,  1,  1,  1,  1,  1,  1,  1,  1,  1,  1,  1,  1,  1,  1,\n",
       "          1,  1,  1,  1,  1,  1,  1,  1,  1,  1,  1,  1,  1,  1,  1,  1,\n",
       "          1,  1,  1,  1,  1,  1,  1,  1,  1,  1,  1,  1,  1,  1,  1,  1,\n",
       "          1,  1,  1,  1,  1,  1,  1,  1,  1,  1,  1,  1,  1,  1,  1,  1,\n",
       "          1,  1,  1,  1],\n",
       "        [ 1,  1,  1,  1,  1,  1,  1,  1,  1,  1,  1,  1,  1,  1,  1,  1,\n",
       "          1,  1,  1,  1,  1,  1,  1,  1,  1,  1,  1,  1,  1,  1,  1,  1,\n",
       "          1,  1,  1,  1,  1,  1,  1,  1,  1,  1,  1,  1,  1,  1,  1,  1,\n",
       "          1,  1,  1,  1,  1,  1,  1,  1,  1,  1,  1,  1,  1,  1,  1,  1,\n",
       "          1,  1,  1,  1,  1,  1,  1,  1,  1,  1,  1,  1,  1,  1,  1,  1,\n",
       "          1,  1,  1,  1,  1,  1,  1,  1,  1,  1,  1,  1,  1,  1,  1,  1,\n",
       "          1,  1,  1,  1]]], dtype=int32)>"
      ]
     },
     "execution_count": 7,
     "metadata": {},
     "output_type": "execute_result"
    }
   ],
   "source": []
  },
  {
   "cell_type": "code",
   "execution_count": 13,
   "id": "75ac754f-d0fd-4999-bfc3-48dfa4eec930",
   "metadata": {},
   "outputs": [],
   "source": [
    "seeder=tfp.util.SeedStream(45,\"a\")\n",
    "n=10\n",
    "X=_generate_dense_instances(n=n,p=0.01,seeder=seeder,cardinality=1,\n",
    "                          target=\"none\",weight_matrix=True,flatten=True,weight_distribution=tfp.distributions.Uniform(-30,30),weight_type=\"int\")"
   ]
  },
  {
   "cell_type": "code",
   "execution_count": 30,
   "id": "337ec9fa-baa7-4d6f-a0c2-6c2780218f10",
   "metadata": {},
   "outputs": [
    {
     "data": {
      "text/plain": [
       "<tf.Tensor: shape=(2, 2), dtype=float32, numpy=\n",
       "array([[1., 2.],\n",
       "       [3., 4.]], dtype=float32)>"
      ]
     },
     "execution_count": 30,
     "metadata": {},
     "output_type": "execute_result"
    }
   ],
   "source": [
    "tf.py_function(lambda X:np.array([[1,2],[3,4]]),inp=[X],Tout=tf.TensorSpec([5,10]))"
   ]
  },
  {
   "cell_type": "code",
   "execution_count": 11,
   "id": "023b2f1d-7806-4d08-84f7-ec466c1e43d0",
   "metadata": {},
   "outputs": [
    {
     "ename": "NameError",
     "evalue": "name 'X' is not defined",
     "output_type": "error",
     "traceback": [
      "\u001b[0;31m---------------------------------------------------------------------------\u001b[0m",
      "\u001b[0;31mNameError\u001b[0m                                 Traceback (most recent call last)",
      "Cell \u001b[0;32mIn[11], line 1\u001b[0m\n\u001b[0;32m----> 1\u001b[0m Z\u001b[38;5;241m=\u001b[39m\u001b[43mX\u001b[49m\u001b[38;5;241m.\u001b[39mnumpy()\n\u001b[1;32m      2\u001b[0m Z\u001b[38;5;241m=\u001b[39mZ[n\u001b[38;5;241m*\u001b[39mn:\u001b[38;5;241m2\u001b[39m\u001b[38;5;241m*\u001b[39mn\u001b[38;5;241m*\u001b[39mn]\u001b[38;5;241m.\u001b[39mreshape((n,n))\n\u001b[1;32m      3\u001b[0m Z\u001b[38;5;241m=\u001b[39mZ\u001b[38;5;241m.\u001b[39mastype(np\u001b[38;5;241m.\u001b[39mint32)\n",
      "\u001b[0;31mNameError\u001b[0m: name 'X' is not defined"
     ]
    }
   ],
   "source": [
    "Z=X.numpy()\n",
    "Z=Z[n*n:2*n*n].reshape((n,n))\n",
    "Z=Z.astype(np.int32)\n",
    "Z\n",
    "A=X.numpy()[:n*n].reshape((n,n))"
   ]
  },
  {
   "cell_type": "code",
   "execution_count": 52,
   "id": "e1c25174-02f5-408f-be3d-87a357b34f79",
   "metadata": {},
   "outputs": [],
   "source": [
    "import networkx as nx\n",
    "import mpg.games.mpg as mpg\n",
    "G=nx.from_numpy_array(A,create_using=mpg.MeanPayoffGraph)\n",
    "for e in G.edges:\n",
    "    u,v=e\n",
    "    G.edges[u,v][\"weight\"]=Z[u,v]"
   ]
  },
  {
   "cell_type": "code",
   "execution_count": null,
   "id": "543a5ba9-1843-41f8-801a-df8b266ab095",
   "metadata": {},
   "outputs": [],
   "source": [
    "mpgwrapper.mean_payoffs(G)"
   ]
  },
  {
   "cell_type": "code",
   "execution_count": 10,
   "id": "bc1cc7b5-9807-4ba8-a47e-aaef3cd5b606",
   "metadata": {},
   "outputs": [
    {
     "data": {
      "text/plain": [
       "<tf.Tensor: shape=(2, 2), dtype=int32, numpy=\n",
       "array([[1, 1],\n",
       "       [2, 2]], dtype=int32)>"
      ]
     },
     "execution_count": 10,
     "metadata": {},
     "output_type": "execute_result"
    }
   ],
   "source": [
    "tf.constant(((1,1),(2,2)))"
   ]
  },
  {
   "cell_type": "code",
   "execution_count": 38,
   "id": "b052c539-96f5-4dd5-a9de-4a5f4af6b4ac",
   "metadata": {},
   "outputs": [
    {
     "ename": "ValueError",
     "evalue": "Exception encountered when calling layer 'laplacian_matrix_layer_4' (type LaplacianMatrixLayer).\n\nAttempt to convert a value (<TakeDataset element_spec=(TensorSpec(shape=(None, 200), dtype=tf.float32, name=None), TensorSpec(shape=(None,), dtype=tf.float32, name=None))>) with an unsupported type (<class 'tensorflow.python.data.ops.dataset_ops.TakeDataset'>) to a Tensor.\n\nCall arguments received by layer 'laplacian_matrix_layer_4' (type LaplacianMatrixLayer):\n  • inputs=<TakeDataset element_spec=(TensorSpec(shape=(None, 200), dtype=tf.float32, name=None), TensorSpec(shape=(None,), dtype=tf.float32, name=None))>\n  • kwargs={'training': 'None'}",
     "output_type": "error",
     "traceback": [
      "\u001b[0;31m---------------------------------------------------------------------------\u001b[0m",
      "\u001b[0;31mValueError\u001b[0m                                Traceback (most recent call last)",
      "Cell \u001b[0;32mIn[38], line 6\u001b[0m\n\u001b[1;32m      4\u001b[0m layer\u001b[38;5;241m=\u001b[39mnormalisation\u001b[38;5;241m.\u001b[39mLaplacianMatrixLayer()\n\u001b[1;32m      5\u001b[0m X\u001b[38;5;241m=\u001b[39mtransformed\u001b[38;5;241m.\u001b[39mtake(\u001b[38;5;241m1\u001b[39m)\n\u001b[0;32m----> 6\u001b[0m \u001b[43mlayer\u001b[49m\u001b[43m(\u001b[49m\u001b[43mX\u001b[49m\u001b[43m)\u001b[49m\n",
      "File \u001b[0;32m~/anaconda3/envs/stochastic_games/lib/python3.10/site-packages/keras/utils/traceback_utils.py:70\u001b[0m, in \u001b[0;36mfilter_traceback.<locals>.error_handler\u001b[0;34m(*args, **kwargs)\u001b[0m\n\u001b[1;32m     67\u001b[0m     filtered_tb \u001b[38;5;241m=\u001b[39m _process_traceback_frames(e\u001b[38;5;241m.\u001b[39m__traceback__)\n\u001b[1;32m     68\u001b[0m     \u001b[38;5;66;03m# To get the full stack trace, call:\u001b[39;00m\n\u001b[1;32m     69\u001b[0m     \u001b[38;5;66;03m# `tf.debugging.disable_traceback_filtering()`\u001b[39;00m\n\u001b[0;32m---> 70\u001b[0m     \u001b[38;5;28;01mraise\u001b[39;00m e\u001b[38;5;241m.\u001b[39mwith_traceback(filtered_tb) \u001b[38;5;28;01mfrom\u001b[39;00m \u001b[38;5;28mNone\u001b[39m\n\u001b[1;32m     71\u001b[0m \u001b[38;5;28;01mfinally\u001b[39;00m:\n\u001b[1;32m     72\u001b[0m     \u001b[38;5;28;01mdel\u001b[39;00m filtered_tb\n",
      "File \u001b[0;32m~/Academic/AI/MeanPayOffGames/notebooks/mpg/mpgml/layers/normalisation.py:64\u001b[0m, in \u001b[0;36mLaplacianMatrixLayer.call\u001b[0;34m(self, inputs, **kwargs)\u001b[0m\n\u001b[1;32m     62\u001b[0m     result \u001b[38;5;241m=\u001b[39m tf\u001b[38;5;241m.\u001b[39mconcat([inputs[\u001b[38;5;241m.\u001b[39m\u001b[38;5;241m.\u001b[39m\u001b[38;5;241m.\u001b[39m,:\u001b[38;5;28mself\u001b[39m\u001b[38;5;241m.\u001b[39medges_matrix,:,:],result,inputs[\u001b[38;5;241m.\u001b[39m\u001b[38;5;241m.\u001b[39m\u001b[38;5;241m.\u001b[39m,\u001b[38;5;28mself\u001b[39m\u001b[38;5;241m.\u001b[39medges_matrix\u001b[38;5;241m+\u001b[39m\u001b[38;5;241m1\u001b[39m:,:,:]],axis\u001b[38;5;241m=\u001b[39m\u001b[38;5;241m-\u001b[39m\u001b[38;5;241m3\u001b[39m)\n\u001b[1;32m     63\u001b[0m \u001b[38;5;28;01melse\u001b[39;00m:\n\u001b[0;32m---> 64\u001b[0m     result\u001b[38;5;241m=\u001b[39mtf\u001b[38;5;241m.\u001b[39mlinalg\u001b[38;5;241m.\u001b[39mdiag(\u001b[43mtf\u001b[49m\u001b[38;5;241;43m.\u001b[39;49m\u001b[43mreduce_sum\u001b[49m\u001b[43m(\u001b[49m\u001b[43minputs\u001b[49m\u001b[43m,\u001b[49m\u001b[43maxis\u001b[49m\u001b[38;5;241;43m=\u001b[39;49m\u001b[38;5;241;43m-\u001b[39;49m\u001b[38;5;241;43m1\u001b[39;49m\u001b[43m)\u001b[49m) \u001b[38;5;241m-\u001b[39m inputs\n\u001b[1;32m     65\u001b[0m     \u001b[38;5;28;01mif\u001b[39;00m \u001b[38;5;28mself\u001b[39m\u001b[38;5;241m.\u001b[39mnegate:\n\u001b[1;32m     66\u001b[0m         result\u001b[38;5;241m=\u001b[39m \u001b[38;5;241m-\u001b[39mresult\n",
      "\u001b[0;31mValueError\u001b[0m: Exception encountered when calling layer 'laplacian_matrix_layer_4' (type LaplacianMatrixLayer).\n\nAttempt to convert a value (<TakeDataset element_spec=(TensorSpec(shape=(None, 200), dtype=tf.float32, name=None), TensorSpec(shape=(None,), dtype=tf.float32, name=None))>) with an unsupported type (<class 'tensorflow.python.data.ops.dataset_ops.TakeDataset'>) to a Tensor.\n\nCall arguments received by layer 'laplacian_matrix_layer_4' (type LaplacianMatrixLayer):\n  • inputs=<TakeDataset element_spec=(TensorSpec(shape=(None, 200), dtype=tf.float32, name=None), TensorSpec(shape=(None,), dtype=tf.float32, name=None))>\n  • kwargs={'training': 'None'}"
     ]
    }
   ],
   "source": []
  },
  {
   "cell_type": "code",
   "execution_count": 74,
   "id": "47b8af3c-e265-4d06-85cc-a3b424c7adb2",
   "metadata": {},
   "outputs": [],
   "source": [
    "z=tf.constant([[1,2],[3,4]])\n",
    "M=tf.ragged.boolean_mask(z,[[True,True],[True,False]])"
   ]
  },
  {
   "cell_type": "code",
   "execution_count": 125,
   "id": "715db699-9d53-4eaf-9daa-872dfd946788",
   "metadata": {},
   "outputs": [
    {
     "data": {
      "text/plain": [
       "<tf.Tensor: shape=(2,), dtype=float64, numpy=array([0.5, 0. ])>"
      ]
     },
     "execution_count": 125,
     "metadata": {},
     "output_type": "execute_result"
    }
   ],
   "source": [
    "tf.math.reduce_std(M,axis=-1)"
   ]
  },
  {
   "cell_type": "code",
   "execution_count": 126,
   "id": "062835ab-cfdd-4b1d-99e7-c7bef3337a78",
   "metadata": {},
   "outputs": [
    {
     "data": {
      "text/plain": [
       "<tf.RaggedTensor [[1, 2], [3]]>"
      ]
     },
     "execution_count": 126,
     "metadata": {},
     "output_type": "execute_result"
    }
   ],
   "source": [
    "M"
   ]
  },
  {
   "cell_type": "code",
   "execution_count": 161,
   "id": "94383276-c0e8-4a91-8b6b-44fa7e7b5707",
   "metadata": {},
   "outputs": [
    {
     "data": {
      "text/plain": [
       "<tf.Tensor: shape=(2,), dtype=bool, numpy=array([ True,  True])>"
      ]
     },
     "execution_count": 161,
     "metadata": {},
     "output_type": "execute_result"
    }
   ],
   "source": [
    "tf.constant([1,1])==1"
   ]
  },
  {
   "cell_type": "code",
   "execution_count": 162,
   "id": "4a9c99be-cd26-4ff7-8264-34bc484e0cf5",
   "metadata": {},
   "outputs": [
    {
     "data": {
      "text/plain": [
       "<tf.Tensor: shape=(4, 2, 2), dtype=int32, numpy=\n",
       "array([[[4, 3],\n",
       "        [2, 1]],\n",
       "\n",
       "       [[4, 3],\n",
       "        [2, 1]],\n",
       "\n",
       "       [[4, 3],\n",
       "        [2, 1]],\n",
       "\n",
       "       [[4, 3],\n",
       "        [2, 1]]], dtype=int32)>"
      ]
     },
     "execution_count": 162,
     "metadata": {},
     "output_type": "execute_result"
    }
   ],
   "source": [
    "p=[1,0]\n",
    "tf.gather(tf.gather(tf.stack([z,z,z,z]),p,axis=-2),p,axis=-1)"
   ]
  },
  {
   "cell_type": "code",
   "execution_count": 86,
   "id": "2c482960-3dbc-47d7-9552-61cc8a4402a6",
   "metadata": {},
   "outputs": [
    {
     "data": {
      "text/plain": [
       "<tf.Tensor: shape=(2, 2), dtype=int32, numpy=\n",
       "array([[1, 2],\n",
       "       [3, 4]], dtype=int32)>"
      ]
     },
     "execution_count": 86,
     "metadata": {},
     "output_type": "execute_result"
    }
   ],
   "source": [
    "z"
   ]
  },
  {
   "cell_type": "code",
   "execution_count": 93,
   "id": "75a336bc-f1eb-45aa-b116-a54d2d293968",
   "metadata": {},
   "outputs": [
    {
     "data": {
      "text/plain": [
       "<tf.Tensor: shape=(3,), dtype=int32, numpy=array([1, 2, 0], dtype=int32)>"
      ]
     },
     "execution_count": 93,
     "metadata": {},
     "output_type": "execute_result"
    }
   ],
   "source": [
    "tf.random_index_shuffle(\n",
    "    [0,1,2], [55,1,2], 3, rounds=4, name=None\n",
    ")\n"
   ]
  },
  {
   "cell_type": "code",
   "execution_count": 34,
   "id": "92f9dd1b-f56a-408e-b5e9-30ecc4aa1bdb",
   "metadata": {},
   "outputs": [],
   "source": [
    "import tensorflow as tf\n",
    "class MPGFileReader(tf.data.Dataset):\n",
    "    def __init__(self,k):\n",
    "        self.k=k\n",
    "        super().__init__(k)\n",
    "    def _inputs(self):\n",
    "        return []\n",
    "        pass\n",
    "\n",
    "    def element_spec(self):\n",
    "        return tf.TypeSpec(shape=())\n",
    "        pass\n"
   ]
  },
  {
   "cell_type": "code",
   "execution_count": 35,
   "id": "a71f97df-9e11-453c-8ea7-0da0f8a191f7",
   "metadata": {},
   "outputs": [],
   "source": [
    "x=MPGFileReader(5)"
   ]
  },
  {
   "cell_type": "code",
   "execution_count": 36,
   "id": "aa8dd985-0b88-49e6-b984-006f50ed9e61",
   "metadata": {},
   "outputs": [
    {
     "ename": "AttributeError",
     "evalue": "'function' object has no attribute '_flat_tensor_specs'",
     "output_type": "error",
     "traceback": [
      "\u001b[0;31m---------------------------------------------------------------------------\u001b[0m",
      "\u001b[0;31mAttributeError\u001b[0m                            Traceback (most recent call last)",
      "Cell \u001b[0;32mIn[36], line 1\u001b[0m\n\u001b[0;32m----> 1\u001b[0m \u001b[38;5;28;01mfor\u001b[39;00m s \u001b[38;5;129;01min\u001b[39;00m x:\n\u001b[1;32m      2\u001b[0m     \u001b[38;5;28mprint\u001b[39m(s)\n",
      "File \u001b[0;32m~/anaconda3/envs/stochastic_games/lib/python3.10/site-packages/tensorflow/python/data/ops/dataset_ops.py:499\u001b[0m, in \u001b[0;36mDatasetV2.__iter__\u001b[0;34m(self)\u001b[0m\n\u001b[1;32m    497\u001b[0m \u001b[38;5;28;01mif\u001b[39;00m context\u001b[38;5;241m.\u001b[39mexecuting_eagerly() \u001b[38;5;129;01mor\u001b[39;00m ops\u001b[38;5;241m.\u001b[39minside_function():\n\u001b[1;32m    498\u001b[0m   \u001b[38;5;28;01mwith\u001b[39;00m ops\u001b[38;5;241m.\u001b[39mcolocate_with(\u001b[38;5;28mself\u001b[39m\u001b[38;5;241m.\u001b[39m_variant_tensor):\n\u001b[0;32m--> 499\u001b[0m     \u001b[38;5;28;01mreturn\u001b[39;00m \u001b[43miterator_ops\u001b[49m\u001b[38;5;241;43m.\u001b[39;49m\u001b[43mOwnedIterator\u001b[49m\u001b[43m(\u001b[49m\u001b[38;5;28;43mself\u001b[39;49m\u001b[43m)\u001b[49m\n\u001b[1;32m    500\u001b[0m \u001b[38;5;28;01melse\u001b[39;00m:\n\u001b[1;32m    501\u001b[0m   \u001b[38;5;28;01mraise\u001b[39;00m \u001b[38;5;167;01mRuntimeError\u001b[39;00m(\u001b[38;5;124m\"\u001b[39m\u001b[38;5;124m`tf.data.Dataset` only supports Python-style \u001b[39m\u001b[38;5;124m\"\u001b[39m\n\u001b[1;32m    502\u001b[0m                      \u001b[38;5;124m\"\u001b[39m\u001b[38;5;124miteration in eager mode or within tf.function.\u001b[39m\u001b[38;5;124m\"\u001b[39m)\n",
      "File \u001b[0;32m~/anaconda3/envs/stochastic_games/lib/python3.10/site-packages/tensorflow/python/data/ops/iterator_ops.py:703\u001b[0m, in \u001b[0;36mOwnedIterator.__init__\u001b[0;34m(self, dataset, components, element_spec)\u001b[0m\n\u001b[1;32m    699\u001b[0m   \u001b[38;5;28;01mif\u001b[39;00m (components \u001b[38;5;129;01mis\u001b[39;00m \u001b[38;5;129;01mnot\u001b[39;00m \u001b[38;5;28;01mNone\u001b[39;00m \u001b[38;5;129;01mor\u001b[39;00m element_spec \u001b[38;5;129;01mis\u001b[39;00m \u001b[38;5;129;01mnot\u001b[39;00m \u001b[38;5;28;01mNone\u001b[39;00m):\n\u001b[1;32m    700\u001b[0m     \u001b[38;5;28;01mraise\u001b[39;00m \u001b[38;5;167;01mValueError\u001b[39;00m(\n\u001b[1;32m    701\u001b[0m         \u001b[38;5;124m\"\u001b[39m\u001b[38;5;124mWhen `dataset` is provided, `element_spec` and `components` must \u001b[39m\u001b[38;5;124m\"\u001b[39m\n\u001b[1;32m    702\u001b[0m         \u001b[38;5;124m\"\u001b[39m\u001b[38;5;124mnot be specified.\u001b[39m\u001b[38;5;124m\"\u001b[39m)\n\u001b[0;32m--> 703\u001b[0m   \u001b[38;5;28;43mself\u001b[39;49m\u001b[38;5;241;43m.\u001b[39;49m\u001b[43m_create_iterator\u001b[49m\u001b[43m(\u001b[49m\u001b[43mdataset\u001b[49m\u001b[43m)\u001b[49m\n\u001b[1;32m    705\u001b[0m \u001b[38;5;28mself\u001b[39m\u001b[38;5;241m.\u001b[39m_get_next_call_count \u001b[38;5;241m=\u001b[39m \u001b[38;5;241m0\u001b[39m\n",
      "File \u001b[0;32m~/anaconda3/envs/stochastic_games/lib/python3.10/site-packages/tensorflow/python/data/ops/iterator_ops.py:719\u001b[0m, in \u001b[0;36mOwnedIterator._create_iterator\u001b[0;34m(self, dataset)\u001b[0m\n\u001b[1;32m    717\u001b[0m ds_variant \u001b[38;5;241m=\u001b[39m dataset\u001b[38;5;241m.\u001b[39m_variant_tensor\n\u001b[1;32m    718\u001b[0m \u001b[38;5;28mself\u001b[39m\u001b[38;5;241m.\u001b[39m_element_spec \u001b[38;5;241m=\u001b[39m dataset\u001b[38;5;241m.\u001b[39melement_spec\n\u001b[0;32m--> 719\u001b[0m \u001b[38;5;28mself\u001b[39m\u001b[38;5;241m.\u001b[39m_flat_output_types \u001b[38;5;241m=\u001b[39m \u001b[43mstructure\u001b[49m\u001b[38;5;241;43m.\u001b[39;49m\u001b[43mget_flat_tensor_types\u001b[49m\u001b[43m(\u001b[49m\n\u001b[1;32m    720\u001b[0m \u001b[43m    \u001b[49m\u001b[38;5;28;43mself\u001b[39;49m\u001b[38;5;241;43m.\u001b[39;49m\u001b[43m_element_spec\u001b[49m\u001b[43m)\u001b[49m\n\u001b[1;32m    721\u001b[0m \u001b[38;5;28mself\u001b[39m\u001b[38;5;241m.\u001b[39m_flat_output_shapes \u001b[38;5;241m=\u001b[39m structure\u001b[38;5;241m.\u001b[39mget_flat_tensor_shapes(\n\u001b[1;32m    722\u001b[0m     \u001b[38;5;28mself\u001b[39m\u001b[38;5;241m.\u001b[39m_element_spec)\n\u001b[1;32m    723\u001b[0m \u001b[38;5;28;01mwith\u001b[39;00m ops\u001b[38;5;241m.\u001b[39mcolocate_with(ds_variant):\n",
      "File \u001b[0;32m~/anaconda3/envs/stochastic_games/lib/python3.10/site-packages/tensorflow/python/data/util/structure.py:315\u001b[0m, in \u001b[0;36mget_flat_tensor_types\u001b[0;34m(element_spec)\u001b[0m\n\u001b[1;32m    305\u001b[0m \u001b[38;5;28;01mdef\u001b[39;00m \u001b[38;5;21mget_flat_tensor_types\u001b[39m(element_spec):\n\u001b[1;32m    306\u001b[0m   \u001b[38;5;124;03m\"\"\"Returns a list `tf.DType`s for the element tensor representation.\u001b[39;00m\n\u001b[1;32m    307\u001b[0m \n\u001b[1;32m    308\u001b[0m \u001b[38;5;124;03m  Args:\u001b[39;00m\n\u001b[0;32m   (...)\u001b[0m\n\u001b[1;32m    313\u001b[0m \u001b[38;5;124;03m    A list `tf.DType`s for the element tensor representation.\u001b[39;00m\n\u001b[1;32m    314\u001b[0m \u001b[38;5;124;03m  \"\"\"\u001b[39;00m\n\u001b[0;32m--> 315\u001b[0m   \u001b[38;5;28;01mreturn\u001b[39;00m [spec\u001b[38;5;241m.\u001b[39mdtype \u001b[38;5;28;01mfor\u001b[39;00m spec \u001b[38;5;129;01min\u001b[39;00m \u001b[43mget_flat_tensor_specs\u001b[49m\u001b[43m(\u001b[49m\u001b[43melement_spec\u001b[49m\u001b[43m)\u001b[49m]\n",
      "File \u001b[0;32m~/anaconda3/envs/stochastic_games/lib/python3.10/site-packages/tensorflow/python/data/util/structure.py:287\u001b[0m, in \u001b[0;36mget_flat_tensor_specs\u001b[0;34m(element_spec)\u001b[0m\n\u001b[1;32m    276\u001b[0m \u001b[38;5;124;03m\"\"\"Returns a list `tf.TypeSpec`s for the element tensor representation.\u001b[39;00m\n\u001b[1;32m    277\u001b[0m \n\u001b[1;32m    278\u001b[0m \u001b[38;5;124;03mArgs:\u001b[39;00m\n\u001b[0;32m   (...)\u001b[0m\n\u001b[1;32m    283\u001b[0m \u001b[38;5;124;03m  A list `tf.TypeSpec`s for the element tensor representation.\u001b[39;00m\n\u001b[1;32m    284\u001b[0m \u001b[38;5;124;03m\"\"\"\u001b[39;00m\n\u001b[1;32m    286\u001b[0m \u001b[38;5;66;03m# pylint: disable=protected-access\u001b[39;00m\n\u001b[0;32m--> 287\u001b[0m \u001b[38;5;28;01mreturn\u001b[39;00m \u001b[38;5;28;43mlist\u001b[39;49m\u001b[43m(\u001b[49m\n\u001b[1;32m    288\u001b[0m \u001b[43m    \u001b[49m\u001b[43mitertools\u001b[49m\u001b[38;5;241;43m.\u001b[39;49m\u001b[43mchain\u001b[49m\u001b[38;5;241;43m.\u001b[39;49m\u001b[43mfrom_iterable\u001b[49m\u001b[43m(\u001b[49m\n\u001b[1;32m    289\u001b[0m \u001b[43m        \u001b[49m\u001b[43mspec\u001b[49m\u001b[38;5;241;43m.\u001b[39;49m\u001b[43m_flat_tensor_specs\u001b[49m\u001b[43m \u001b[49m\u001b[38;5;28;43;01mfor\u001b[39;49;00m\u001b[43m \u001b[49m\u001b[43mspec\u001b[49m\u001b[43m \u001b[49m\u001b[38;5;129;43;01min\u001b[39;49;00m\u001b[43m \u001b[49m\u001b[43mnest\u001b[49m\u001b[38;5;241;43m.\u001b[39;49m\u001b[43mflatten\u001b[49m\u001b[43m(\u001b[49m\u001b[43melement_spec\u001b[49m\u001b[43m)\u001b[49m\u001b[43m)\u001b[49m\u001b[43m)\u001b[49m\n",
      "File \u001b[0;32m~/anaconda3/envs/stochastic_games/lib/python3.10/site-packages/tensorflow/python/data/util/structure.py:289\u001b[0m, in \u001b[0;36m<genexpr>\u001b[0;34m(.0)\u001b[0m\n\u001b[1;32m    276\u001b[0m \u001b[38;5;124;03m\"\"\"Returns a list `tf.TypeSpec`s for the element tensor representation.\u001b[39;00m\n\u001b[1;32m    277\u001b[0m \n\u001b[1;32m    278\u001b[0m \u001b[38;5;124;03mArgs:\u001b[39;00m\n\u001b[0;32m   (...)\u001b[0m\n\u001b[1;32m    283\u001b[0m \u001b[38;5;124;03m  A list `tf.TypeSpec`s for the element tensor representation.\u001b[39;00m\n\u001b[1;32m    284\u001b[0m \u001b[38;5;124;03m\"\"\"\u001b[39;00m\n\u001b[1;32m    286\u001b[0m \u001b[38;5;66;03m# pylint: disable=protected-access\u001b[39;00m\n\u001b[1;32m    287\u001b[0m \u001b[38;5;28;01mreturn\u001b[39;00m \u001b[38;5;28mlist\u001b[39m(\n\u001b[1;32m    288\u001b[0m     itertools\u001b[38;5;241m.\u001b[39mchain\u001b[38;5;241m.\u001b[39mfrom_iterable(\n\u001b[0;32m--> 289\u001b[0m         \u001b[43mspec\u001b[49m\u001b[38;5;241;43m.\u001b[39;49m\u001b[43m_flat_tensor_specs\u001b[49m \u001b[38;5;28;01mfor\u001b[39;00m spec \u001b[38;5;129;01min\u001b[39;00m nest\u001b[38;5;241m.\u001b[39mflatten(element_spec)))\n",
      "\u001b[0;31mAttributeError\u001b[0m: 'function' object has no attribute '_flat_tensor_specs'"
     ]
    }
   ],
   "source": [
    "for s in x:\n",
    "    print(s)"
   ]
  },
  {
   "cell_type": "code",
   "execution_count": 118,
   "id": "b4028d56-68b5-47be-aaef-2f02727c850f",
   "metadata": {},
   "outputs": [],
   "source": [
    "%autoreload 2\n",
    "%aimport mpg.mpgml.layers.normalisation \n",
    "%aimport mpg.mpgml.layers.augmentation \n",
    "%aimport mpg.mpgml.layers.padding \n",
    "%aimport mpg.mpgml.dataset.augmentation\n",
    "\n",
    "n=100\n",
    "dataset=mpg.mpgml.dataset.generator.MPGSparseGeneratedDataset(n,0.1,seed=25,target=\"none\",generated_input=\"weight\",flatten=False,weights_distribution=tfp.distributions.Uniform(-100,100),weight_type=\"int\")"
   ]
  },
  {
   "cell_type": "code",
   "execution_count": 119,
   "id": "7ecf8767-74a4-472a-baae-08ccdbed9267",
   "metadata": {},
   "outputs": [
    {
     "name": "stdout",
     "output_type": "stream",
     "text": [
      "SparseTensor(indices=tf.Tensor(\n",
      "[[ 0  0 37]\n",
      " [ 0  0  8]\n",
      " [ 0  0 58]\n",
      " ...\n",
      " [63 99  6]\n",
      " [63 99  0]\n",
      " [63 99 58]], shape=(64237, 3), dtype=int64), values=tf.Tensor([ 96.56076   42.62047   54.516464 ... -16.267868 -96.6578    67.36159 ], shape=(64237,), dtype=float32), dense_shape=tf.Tensor([ 64 100 100], shape=(3,), dtype=int64))\n"
     ]
    }
   ],
   "source": [
    "for x in dataset.batch(64).take(1):\n",
    "    print(x)"
   ]
  },
  {
   "cell_type": "code",
   "execution_count": 115,
   "id": "6a72f8ac-556a-43fc-852e-619c7c5decbb",
   "metadata": {},
   "outputs": [
    {
     "name": "stdout",
     "output_type": "stream",
     "text": [
      "Epoch 1/25\n",
      "50/64 [======================>.......] - ETA: 2s - loss: 0.7219 - accuracy: 0.5437"
     ]
    },
    {
     "ename": "KeyboardInterrupt",
     "evalue": "",
     "output_type": "error",
     "traceback": [
      "\u001b[0;31m---------------------------------------------------------------------------\u001b[0m",
      "\u001b[0;31mKeyboardInterrupt\u001b[0m                         Traceback (most recent call last)",
      "Cell \u001b[0;32mIn[115], line 6\u001b[0m\n\u001b[1;32m      1\u001b[0m model\u001b[38;5;241m.\u001b[39mcompile(\n\u001b[1;32m      2\u001b[0m     optimizer\u001b[38;5;241m=\u001b[39m\u001b[38;5;124m\"\u001b[39m\u001b[38;5;124mAdam\u001b[39m\u001b[38;5;124m\"\u001b[39m,\n\u001b[1;32m      3\u001b[0m     loss\u001b[38;5;241m=\u001b[39mtf\u001b[38;5;241m.\u001b[39mkeras\u001b[38;5;241m.\u001b[39mlosses\u001b[38;5;241m.\u001b[39mBinaryCrossentropy(),\n\u001b[1;32m      4\u001b[0m     metrics\u001b[38;5;241m=\u001b[39m[\u001b[38;5;124m\"\u001b[39m\u001b[38;5;124maccuracy\u001b[39m\u001b[38;5;124m\"\u001b[39m],\n\u001b[1;32m      5\u001b[0m )\n\u001b[0;32m----> 6\u001b[0m \u001b[43mmodel\u001b[49m\u001b[38;5;241;43m.\u001b[39;49m\u001b[43mfit\u001b[49m\u001b[43m(\u001b[49m\u001b[43mx\u001b[49m\u001b[38;5;241;43m=\u001b[39;49m\u001b[43mtransformed\u001b[49m\u001b[43m,\u001b[49m\n\u001b[1;32m      7\u001b[0m \u001b[43m    \u001b[49m\u001b[43mepochs\u001b[49m\u001b[38;5;241;43m=\u001b[39;49m\u001b[38;5;241;43m25\u001b[39;49m\u001b[43m,\u001b[49m\n\u001b[1;32m      8\u001b[0m \u001b[43m    \u001b[49m\u001b[43mverbose\u001b[49m\u001b[38;5;241;43m=\u001b[39;49m\u001b[38;5;124;43m'\u001b[39;49m\u001b[38;5;124;43mauto\u001b[39;49m\u001b[38;5;124;43m'\u001b[39;49m\u001b[43m,\u001b[49m\n\u001b[1;32m      9\u001b[0m \u001b[43m    \u001b[49m\u001b[43msteps_per_epoch\u001b[49m\u001b[38;5;241;43m=\u001b[39;49m\u001b[38;5;241;43m64\u001b[39;49m\u001b[43m,\u001b[49m\n\u001b[1;32m     10\u001b[0m \u001b[43m    \u001b[49m\u001b[43mshuffle\u001b[49m\u001b[38;5;241;43m=\u001b[39;49m\u001b[38;5;28;43;01mFalse\u001b[39;49;00m\u001b[43m,\u001b[49m\n\u001b[1;32m     11\u001b[0m \u001b[43m          \u001b[49m\u001b[43mvalidation_data\u001b[49m\u001b[38;5;241;43m=\u001b[39;49m\u001b[43mvalidation_dataset\u001b[49m\n\u001b[1;32m     12\u001b[0m \u001b[43m         \u001b[49m\u001b[43m)\u001b[49m\n",
      "File \u001b[0;32m~/anaconda3/envs/stochastic_games/lib/python3.10/site-packages/keras/utils/traceback_utils.py:65\u001b[0m, in \u001b[0;36mfilter_traceback.<locals>.error_handler\u001b[0;34m(*args, **kwargs)\u001b[0m\n\u001b[1;32m     63\u001b[0m filtered_tb \u001b[38;5;241m=\u001b[39m \u001b[38;5;28;01mNone\u001b[39;00m\n\u001b[1;32m     64\u001b[0m \u001b[38;5;28;01mtry\u001b[39;00m:\n\u001b[0;32m---> 65\u001b[0m     \u001b[38;5;28;01mreturn\u001b[39;00m \u001b[43mfn\u001b[49m\u001b[43m(\u001b[49m\u001b[38;5;241;43m*\u001b[39;49m\u001b[43margs\u001b[49m\u001b[43m,\u001b[49m\u001b[43m \u001b[49m\u001b[38;5;241;43m*\u001b[39;49m\u001b[38;5;241;43m*\u001b[39;49m\u001b[43mkwargs\u001b[49m\u001b[43m)\u001b[49m\n\u001b[1;32m     66\u001b[0m \u001b[38;5;28;01mexcept\u001b[39;00m \u001b[38;5;167;01mException\u001b[39;00m \u001b[38;5;28;01mas\u001b[39;00m e:\n\u001b[1;32m     67\u001b[0m     filtered_tb \u001b[38;5;241m=\u001b[39m _process_traceback_frames(e\u001b[38;5;241m.\u001b[39m__traceback__)\n",
      "File \u001b[0;32m~/anaconda3/envs/stochastic_games/lib/python3.10/site-packages/keras/engine/training.py:1650\u001b[0m, in \u001b[0;36mModel.fit\u001b[0;34m(self, x, y, batch_size, epochs, verbose, callbacks, validation_split, validation_data, shuffle, class_weight, sample_weight, initial_epoch, steps_per_epoch, validation_steps, validation_batch_size, validation_freq, max_queue_size, workers, use_multiprocessing)\u001b[0m\n\u001b[1;32m   1642\u001b[0m \u001b[38;5;28;01mwith\u001b[39;00m tf\u001b[38;5;241m.\u001b[39mprofiler\u001b[38;5;241m.\u001b[39mexperimental\u001b[38;5;241m.\u001b[39mTrace(\n\u001b[1;32m   1643\u001b[0m     \u001b[38;5;124m\"\u001b[39m\u001b[38;5;124mtrain\u001b[39m\u001b[38;5;124m\"\u001b[39m,\n\u001b[1;32m   1644\u001b[0m     epoch_num\u001b[38;5;241m=\u001b[39mepoch,\n\u001b[0;32m   (...)\u001b[0m\n\u001b[1;32m   1647\u001b[0m     _r\u001b[38;5;241m=\u001b[39m\u001b[38;5;241m1\u001b[39m,\n\u001b[1;32m   1648\u001b[0m ):\n\u001b[1;32m   1649\u001b[0m     callbacks\u001b[38;5;241m.\u001b[39mon_train_batch_begin(step)\n\u001b[0;32m-> 1650\u001b[0m     tmp_logs \u001b[38;5;241m=\u001b[39m \u001b[38;5;28;43mself\u001b[39;49m\u001b[38;5;241;43m.\u001b[39;49m\u001b[43mtrain_function\u001b[49m\u001b[43m(\u001b[49m\u001b[43miterator\u001b[49m\u001b[43m)\u001b[49m\n\u001b[1;32m   1651\u001b[0m     \u001b[38;5;28;01mif\u001b[39;00m data_handler\u001b[38;5;241m.\u001b[39mshould_sync:\n\u001b[1;32m   1652\u001b[0m         context\u001b[38;5;241m.\u001b[39masync_wait()\n",
      "File \u001b[0;32m~/anaconda3/envs/stochastic_games/lib/python3.10/site-packages/tensorflow/python/util/traceback_utils.py:150\u001b[0m, in \u001b[0;36mfilter_traceback.<locals>.error_handler\u001b[0;34m(*args, **kwargs)\u001b[0m\n\u001b[1;32m    148\u001b[0m filtered_tb \u001b[38;5;241m=\u001b[39m \u001b[38;5;28;01mNone\u001b[39;00m\n\u001b[1;32m    149\u001b[0m \u001b[38;5;28;01mtry\u001b[39;00m:\n\u001b[0;32m--> 150\u001b[0m   \u001b[38;5;28;01mreturn\u001b[39;00m \u001b[43mfn\u001b[49m\u001b[43m(\u001b[49m\u001b[38;5;241;43m*\u001b[39;49m\u001b[43margs\u001b[49m\u001b[43m,\u001b[49m\u001b[43m \u001b[49m\u001b[38;5;241;43m*\u001b[39;49m\u001b[38;5;241;43m*\u001b[39;49m\u001b[43mkwargs\u001b[49m\u001b[43m)\u001b[49m\n\u001b[1;32m    151\u001b[0m \u001b[38;5;28;01mexcept\u001b[39;00m \u001b[38;5;167;01mException\u001b[39;00m \u001b[38;5;28;01mas\u001b[39;00m e:\n\u001b[1;32m    152\u001b[0m   filtered_tb \u001b[38;5;241m=\u001b[39m _process_traceback_frames(e\u001b[38;5;241m.\u001b[39m__traceback__)\n",
      "File \u001b[0;32m~/anaconda3/envs/stochastic_games/lib/python3.10/site-packages/tensorflow/python/eager/polymorphic_function/polymorphic_function.py:880\u001b[0m, in \u001b[0;36mFunction.__call__\u001b[0;34m(self, *args, **kwds)\u001b[0m\n\u001b[1;32m    877\u001b[0m compiler \u001b[38;5;241m=\u001b[39m \u001b[38;5;124m\"\u001b[39m\u001b[38;5;124mxla\u001b[39m\u001b[38;5;124m\"\u001b[39m \u001b[38;5;28;01mif\u001b[39;00m \u001b[38;5;28mself\u001b[39m\u001b[38;5;241m.\u001b[39m_jit_compile \u001b[38;5;28;01melse\u001b[39;00m \u001b[38;5;124m\"\u001b[39m\u001b[38;5;124mnonXla\u001b[39m\u001b[38;5;124m\"\u001b[39m\n\u001b[1;32m    879\u001b[0m \u001b[38;5;28;01mwith\u001b[39;00m OptionalXlaContext(\u001b[38;5;28mself\u001b[39m\u001b[38;5;241m.\u001b[39m_jit_compile):\n\u001b[0;32m--> 880\u001b[0m   result \u001b[38;5;241m=\u001b[39m \u001b[38;5;28;43mself\u001b[39;49m\u001b[38;5;241;43m.\u001b[39;49m\u001b[43m_call\u001b[49m\u001b[43m(\u001b[49m\u001b[38;5;241;43m*\u001b[39;49m\u001b[43margs\u001b[49m\u001b[43m,\u001b[49m\u001b[43m \u001b[49m\u001b[38;5;241;43m*\u001b[39;49m\u001b[38;5;241;43m*\u001b[39;49m\u001b[43mkwds\u001b[49m\u001b[43m)\u001b[49m\n\u001b[1;32m    882\u001b[0m new_tracing_count \u001b[38;5;241m=\u001b[39m \u001b[38;5;28mself\u001b[39m\u001b[38;5;241m.\u001b[39mexperimental_get_tracing_count()\n\u001b[1;32m    883\u001b[0m without_tracing \u001b[38;5;241m=\u001b[39m (tracing_count \u001b[38;5;241m==\u001b[39m new_tracing_count)\n",
      "File \u001b[0;32m~/anaconda3/envs/stochastic_games/lib/python3.10/site-packages/tensorflow/python/eager/polymorphic_function/polymorphic_function.py:912\u001b[0m, in \u001b[0;36mFunction._call\u001b[0;34m(self, *args, **kwds)\u001b[0m\n\u001b[1;32m    909\u001b[0m   \u001b[38;5;28mself\u001b[39m\u001b[38;5;241m.\u001b[39m_lock\u001b[38;5;241m.\u001b[39mrelease()\n\u001b[1;32m    910\u001b[0m   \u001b[38;5;66;03m# In this case we have created variables on the first call, so we run the\u001b[39;00m\n\u001b[1;32m    911\u001b[0m   \u001b[38;5;66;03m# defunned version which is guaranteed to never create variables.\u001b[39;00m\n\u001b[0;32m--> 912\u001b[0m   \u001b[38;5;28;01mreturn\u001b[39;00m \u001b[38;5;28;43mself\u001b[39;49m\u001b[38;5;241;43m.\u001b[39;49m\u001b[43m_no_variable_creation_fn\u001b[49m\u001b[43m(\u001b[49m\u001b[38;5;241;43m*\u001b[39;49m\u001b[43margs\u001b[49m\u001b[43m,\u001b[49m\u001b[43m \u001b[49m\u001b[38;5;241;43m*\u001b[39;49m\u001b[38;5;241;43m*\u001b[39;49m\u001b[43mkwds\u001b[49m\u001b[43m)\u001b[49m  \u001b[38;5;66;03m# pylint: disable=not-callable\u001b[39;00m\n\u001b[1;32m    913\u001b[0m \u001b[38;5;28;01melif\u001b[39;00m \u001b[38;5;28mself\u001b[39m\u001b[38;5;241m.\u001b[39m_variable_creation_fn \u001b[38;5;129;01mis\u001b[39;00m \u001b[38;5;129;01mnot\u001b[39;00m \u001b[38;5;28;01mNone\u001b[39;00m:\n\u001b[1;32m    914\u001b[0m   \u001b[38;5;66;03m# Release the lock early so that multiple threads can perform the call\u001b[39;00m\n\u001b[1;32m    915\u001b[0m   \u001b[38;5;66;03m# in parallel.\u001b[39;00m\n\u001b[1;32m    916\u001b[0m   \u001b[38;5;28mself\u001b[39m\u001b[38;5;241m.\u001b[39m_lock\u001b[38;5;241m.\u001b[39mrelease()\n",
      "File \u001b[0;32m~/anaconda3/envs/stochastic_games/lib/python3.10/site-packages/tensorflow/python/eager/polymorphic_function/tracing_compiler.py:134\u001b[0m, in \u001b[0;36mTracingCompiler.__call__\u001b[0;34m(self, *args, **kwargs)\u001b[0m\n\u001b[1;32m    131\u001b[0m \u001b[38;5;28;01mwith\u001b[39;00m \u001b[38;5;28mself\u001b[39m\u001b[38;5;241m.\u001b[39m_lock:\n\u001b[1;32m    132\u001b[0m   (concrete_function,\n\u001b[1;32m    133\u001b[0m    filtered_flat_args) \u001b[38;5;241m=\u001b[39m \u001b[38;5;28mself\u001b[39m\u001b[38;5;241m.\u001b[39m_maybe_define_function(args, kwargs)\n\u001b[0;32m--> 134\u001b[0m \u001b[38;5;28;01mreturn\u001b[39;00m \u001b[43mconcrete_function\u001b[49m\u001b[38;5;241;43m.\u001b[39;49m\u001b[43m_call_flat\u001b[49m\u001b[43m(\u001b[49m\n\u001b[1;32m    135\u001b[0m \u001b[43m    \u001b[49m\u001b[43mfiltered_flat_args\u001b[49m\u001b[43m,\u001b[49m\u001b[43m \u001b[49m\u001b[43mcaptured_inputs\u001b[49m\u001b[38;5;241;43m=\u001b[39;49m\u001b[43mconcrete_function\u001b[49m\u001b[38;5;241;43m.\u001b[39;49m\u001b[43mcaptured_inputs\u001b[49m\u001b[43m)\u001b[49m\n",
      "File \u001b[0;32m~/anaconda3/envs/stochastic_games/lib/python3.10/site-packages/tensorflow/python/eager/polymorphic_function/monomorphic_function.py:1745\u001b[0m, in \u001b[0;36mConcreteFunction._call_flat\u001b[0;34m(self, args, captured_inputs, cancellation_manager)\u001b[0m\n\u001b[1;32m   1741\u001b[0m possible_gradient_type \u001b[38;5;241m=\u001b[39m gradients_util\u001b[38;5;241m.\u001b[39mPossibleTapeGradientTypes(args)\n\u001b[1;32m   1742\u001b[0m \u001b[38;5;28;01mif\u001b[39;00m (possible_gradient_type \u001b[38;5;241m==\u001b[39m gradients_util\u001b[38;5;241m.\u001b[39mPOSSIBLE_GRADIENT_TYPES_NONE\n\u001b[1;32m   1743\u001b[0m     \u001b[38;5;129;01mand\u001b[39;00m executing_eagerly):\n\u001b[1;32m   1744\u001b[0m   \u001b[38;5;66;03m# No tape is watching; skip to running the function.\u001b[39;00m\n\u001b[0;32m-> 1745\u001b[0m   \u001b[38;5;28;01mreturn\u001b[39;00m \u001b[38;5;28mself\u001b[39m\u001b[38;5;241m.\u001b[39m_build_call_outputs(\u001b[38;5;28;43mself\u001b[39;49m\u001b[38;5;241;43m.\u001b[39;49m\u001b[43m_inference_function\u001b[49m\u001b[38;5;241;43m.\u001b[39;49m\u001b[43mcall\u001b[49m\u001b[43m(\u001b[49m\n\u001b[1;32m   1746\u001b[0m \u001b[43m      \u001b[49m\u001b[43mctx\u001b[49m\u001b[43m,\u001b[49m\u001b[43m \u001b[49m\u001b[43margs\u001b[49m\u001b[43m,\u001b[49m\u001b[43m \u001b[49m\u001b[43mcancellation_manager\u001b[49m\u001b[38;5;241;43m=\u001b[39;49m\u001b[43mcancellation_manager\u001b[49m\u001b[43m)\u001b[49m)\n\u001b[1;32m   1747\u001b[0m forward_backward \u001b[38;5;241m=\u001b[39m \u001b[38;5;28mself\u001b[39m\u001b[38;5;241m.\u001b[39m_select_forward_and_backward_functions(\n\u001b[1;32m   1748\u001b[0m     args,\n\u001b[1;32m   1749\u001b[0m     possible_gradient_type,\n\u001b[1;32m   1750\u001b[0m     executing_eagerly)\n\u001b[1;32m   1751\u001b[0m forward_function, args_with_tangents \u001b[38;5;241m=\u001b[39m forward_backward\u001b[38;5;241m.\u001b[39mforward()\n",
      "File \u001b[0;32m~/anaconda3/envs/stochastic_games/lib/python3.10/site-packages/tensorflow/python/eager/polymorphic_function/monomorphic_function.py:378\u001b[0m, in \u001b[0;36m_EagerDefinedFunction.call\u001b[0;34m(self, ctx, args, cancellation_manager)\u001b[0m\n\u001b[1;32m    376\u001b[0m \u001b[38;5;28;01mwith\u001b[39;00m _InterpolateFunctionError(\u001b[38;5;28mself\u001b[39m):\n\u001b[1;32m    377\u001b[0m   \u001b[38;5;28;01mif\u001b[39;00m cancellation_manager \u001b[38;5;129;01mis\u001b[39;00m \u001b[38;5;28;01mNone\u001b[39;00m:\n\u001b[0;32m--> 378\u001b[0m     outputs \u001b[38;5;241m=\u001b[39m \u001b[43mexecute\u001b[49m\u001b[38;5;241;43m.\u001b[39;49m\u001b[43mexecute\u001b[49m\u001b[43m(\u001b[49m\n\u001b[1;32m    379\u001b[0m \u001b[43m        \u001b[49m\u001b[38;5;28;43mstr\u001b[39;49m\u001b[43m(\u001b[49m\u001b[38;5;28;43mself\u001b[39;49m\u001b[38;5;241;43m.\u001b[39;49m\u001b[43msignature\u001b[49m\u001b[38;5;241;43m.\u001b[39;49m\u001b[43mname\u001b[49m\u001b[43m)\u001b[49m\u001b[43m,\u001b[49m\n\u001b[1;32m    380\u001b[0m \u001b[43m        \u001b[49m\u001b[43mnum_outputs\u001b[49m\u001b[38;5;241;43m=\u001b[39;49m\u001b[38;5;28;43mself\u001b[39;49m\u001b[38;5;241;43m.\u001b[39;49m\u001b[43m_num_outputs\u001b[49m\u001b[43m,\u001b[49m\n\u001b[1;32m    381\u001b[0m \u001b[43m        \u001b[49m\u001b[43minputs\u001b[49m\u001b[38;5;241;43m=\u001b[39;49m\u001b[43margs\u001b[49m\u001b[43m,\u001b[49m\n\u001b[1;32m    382\u001b[0m \u001b[43m        \u001b[49m\u001b[43mattrs\u001b[49m\u001b[38;5;241;43m=\u001b[39;49m\u001b[43mattrs\u001b[49m\u001b[43m,\u001b[49m\n\u001b[1;32m    383\u001b[0m \u001b[43m        \u001b[49m\u001b[43mctx\u001b[49m\u001b[38;5;241;43m=\u001b[39;49m\u001b[43mctx\u001b[49m\u001b[43m)\u001b[49m\n\u001b[1;32m    384\u001b[0m   \u001b[38;5;28;01melse\u001b[39;00m:\n\u001b[1;32m    385\u001b[0m     outputs \u001b[38;5;241m=\u001b[39m execute\u001b[38;5;241m.\u001b[39mexecute_with_cancellation(\n\u001b[1;32m    386\u001b[0m         \u001b[38;5;28mstr\u001b[39m(\u001b[38;5;28mself\u001b[39m\u001b[38;5;241m.\u001b[39msignature\u001b[38;5;241m.\u001b[39mname),\n\u001b[1;32m    387\u001b[0m         num_outputs\u001b[38;5;241m=\u001b[39m\u001b[38;5;28mself\u001b[39m\u001b[38;5;241m.\u001b[39m_num_outputs,\n\u001b[0;32m   (...)\u001b[0m\n\u001b[1;32m    390\u001b[0m         ctx\u001b[38;5;241m=\u001b[39mctx,\n\u001b[1;32m    391\u001b[0m         cancellation_manager\u001b[38;5;241m=\u001b[39mcancellation_manager)\n",
      "File \u001b[0;32m~/anaconda3/envs/stochastic_games/lib/python3.10/site-packages/tensorflow/python/eager/execute.py:52\u001b[0m, in \u001b[0;36mquick_execute\u001b[0;34m(op_name, num_outputs, inputs, attrs, ctx, name)\u001b[0m\n\u001b[1;32m     50\u001b[0m \u001b[38;5;28;01mtry\u001b[39;00m:\n\u001b[1;32m     51\u001b[0m   ctx\u001b[38;5;241m.\u001b[39mensure_initialized()\n\u001b[0;32m---> 52\u001b[0m   tensors \u001b[38;5;241m=\u001b[39m \u001b[43mpywrap_tfe\u001b[49m\u001b[38;5;241;43m.\u001b[39;49m\u001b[43mTFE_Py_Execute\u001b[49m\u001b[43m(\u001b[49m\u001b[43mctx\u001b[49m\u001b[38;5;241;43m.\u001b[39;49m\u001b[43m_handle\u001b[49m\u001b[43m,\u001b[49m\u001b[43m \u001b[49m\u001b[43mdevice_name\u001b[49m\u001b[43m,\u001b[49m\u001b[43m \u001b[49m\u001b[43mop_name\u001b[49m\u001b[43m,\u001b[49m\n\u001b[1;32m     53\u001b[0m \u001b[43m                                      \u001b[49m\u001b[43minputs\u001b[49m\u001b[43m,\u001b[49m\u001b[43m \u001b[49m\u001b[43mattrs\u001b[49m\u001b[43m,\u001b[49m\u001b[43m \u001b[49m\u001b[43mnum_outputs\u001b[49m\u001b[43m)\u001b[49m\n\u001b[1;32m     54\u001b[0m \u001b[38;5;28;01mexcept\u001b[39;00m core\u001b[38;5;241m.\u001b[39m_NotOkStatusException \u001b[38;5;28;01mas\u001b[39;00m e:\n\u001b[1;32m     55\u001b[0m   \u001b[38;5;28;01mif\u001b[39;00m name \u001b[38;5;129;01mis\u001b[39;00m \u001b[38;5;129;01mnot\u001b[39;00m \u001b[38;5;28;01mNone\u001b[39;00m:\n",
      "\u001b[0;31mKeyboardInterrupt\u001b[0m: "
     ]
    }
   ],
   "source": [
    "model.compile(\n",
    "    optimizer=\"Adam\",\n",
    "    loss=tf.keras.losses.BinaryCrossentropy(),\n",
    "    metrics=[\"accuracy\"],\n",
    ")\n",
    "model.fit(x=transformed,\n",
    "    epochs=25,\n",
    "    verbose='auto',\n",
    "    steps_per_epoch=64,\n",
    "    shuffle=False,\n",
    "          validation_data=validation_dataset\n",
    "         )"
   ]
  },
  {
   "cell_type": "code",
   "execution_count": null,
   "id": "2d296bce-1e0e-45f8-ba44-1212803614f6",
   "metadata": {},
   "outputs": [],
   "source": []
  }
 ],
 "metadata": {
  "kernelspec": {
   "display_name": "Python 3 (ipykernel)",
   "language": "python",
   "name": "python3"
  },
  "language_info": {
   "codemirror_mode": {
    "name": "ipython",
    "version": 3
   },
   "file_extension": ".py",
   "mimetype": "text/x-python",
   "name": "python",
   "nbconvert_exporter": "python",
   "pygments_lexer": "ipython3",
   "version": "3.10.9"
  }
 },
 "nbformat": 4,
 "nbformat_minor": 5
}
