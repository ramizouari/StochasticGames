{
 "cells": [
  {
   "cell_type": "code",
   "execution_count": 1,
   "id": "438a2d44-e94c-4588-8974-6ee1f0aa17ee",
   "metadata": {},
   "outputs": [
    {
     "name": "stderr",
     "output_type": "stream",
     "text": [
      "2023-04-02 04:57:54.603900: I tensorflow/core/platform/cpu_feature_guard.cc:193] This TensorFlow binary is optimized with oneAPI Deep Neural Network Library (oneDNN) to use the following CPU instructions in performance-critical operations:  SSE4.1 SSE4.2 AVX AVX2 FMA\n",
      "To enable them in other operations, rebuild TensorFlow with the appropriate compiler flags.\n"
     ]
    }
   ],
   "source": [
    "import mpg.mpgml.dataset.generator as mpgml_generator"
   ]
  },
  {
   "cell_type": "code",
   "execution_count": 4,
   "id": "99c960dd-3d3b-4719-91e5-eefed2227594",
   "metadata": {},
   "outputs": [],
   "source": [
    "from importlib import reload\n",
    "import mpg.wrapper as mpgwrapper"
   ]
  },
  {
   "cell_type": "code",
   "execution_count": 14,
   "id": "c185625b-20fc-481a-84a9-6ce875529551",
   "metadata": {},
   "outputs": [],
   "source": [
    "import numba\n",
    "import numpy as np\n",
    "import tensorflow as tf\n",
    "import mpg.graph.random_graph\n",
    "import networkx as nx\n",
    "import itertools\n",
    "import tensorflow_probability as tfp\n",
    "import mpg.wrapper as mpgwrapper\n",
    "\n",
    "\n",
    "def _convert_sparse_matrix_to_sparse_tensor(X, shape_hint):\n",
    "    coo = X.tocoo()\n",
    "    indices = np.mat([coo.row, coo.col]).transpose()\n",
    "    return tf.SparseTensor(indices, coo.data, shape_hint)\n",
    "\n",
    "\n",
    "def _stack_sparse_tensors(shape_hint, *A):\n",
    "    indices = []\n",
    "    values = []\n",
    "    for i, Z in enumerate(A):\n",
    "        for L, v in zip(Z.indices, Z.values):\n",
    "            indices.append([i, *L])\n",
    "            values.append(v)\n",
    "    return tf.sparse.SparseTensor(indices, values, shape_hint)\n",
    "\n",
    "\n",
    "def _as_tensor(A, as_dense: bool, shape_hint=None):\n",
    "    if as_dense:\n",
    "        return tf.convert_to_tensor(A.todense())\n",
    "    else:\n",
    "        return _convert_sparse_matrix_to_sparse_tensor(A, shape_hint)\n",
    "\n",
    "\n",
    "def _generate_instances(n, p, seed, cardinality: int, target: bool, as_graph: bool,\n",
    "                        adj_matrix: bool, weight_matrix: bool, as_dense: bool):\n",
    "    generator = np.random.Generator(np.random.MT19937(seed))\n",
    "    graph = mpg.graph.random_graph.gnp_random_mpg(n=n, p=p, seed=seed, method=\"fast\", loops=True,\n",
    "                                                  distribution=\"integers\", low=0, high=10, endpoint=True)\n",
    "    output = None\n",
    "    if as_graph:\n",
    "        output = graph\n",
    "    else:\n",
    "        if adj_matrix and weight_matrix:\n",
    "            A = _as_tensor(nx.adjacency_matrix(graph, weight=None), as_dense=as_dense, shape_hint=(n, n))\n",
    "            W = _as_tensor(nx.adjacency_matrix(graph, weight=\"weight\"), as_dense=as_dense, shape_hint=(n, n))\n",
    "            if as_dense:\n",
    "                output = tf.stack([A, W], axis=0)\n",
    "            else:\n",
    "                output = tf.cast(_stack_sparse_tensors((2, n, n), A, W), dtype=tf.float32)\n",
    "\n",
    "        elif adj_matrix:\n",
    "            output = tf.cast(_as_tensor(nx.adjacency_matrix(graph, weight=None), as_dense=as_dense, shape_hint=(n, n)),\n",
    "                             dtype=tf.float32)\n",
    "        elif weight_matrix:\n",
    "            output = tf.cast(\n",
    "                _as_tensor(nx.adjacency_matrix(graph, weight=\"weight\"), as_dense=as_dense, shape_hint=(n, n)),\n",
    "                dtype=tf.float32)\n",
    "    starting = tf.constant([generator.integers(0, n), generator.integers(0, 1, endpoint=True)])\n",
    "    if target:\n",
    "        # TODO: Add target\n",
    "        return (output, starting, 1)\n",
    "    else:\n",
    "        return (output, 1)\n",
    "\n",
    "def cast_all(dtype,*args):\n",
    "    return tuple(tf.cast(arg, dtype) for arg in args)\n",
    "\n",
    "\n",
    "def _adj_matrix_generator(n, p):\n",
    "    A = np.zeros([n, n], dtype=np.uint8)\n",
    "    for k in range(n):\n",
    "        A[k, :] = np.random.binomial(1, p, n)\n",
    "        while A[k, :].sum() == 0:\n",
    "            A[k, :] = np.random.binomial(1, p, n)\n",
    "    return A\n",
    "\n",
    "def _generate_dense_instances(n, p, seeder, cardinality: int, target: bool, weight_matrix: bool, flatten: bool,\n",
    "                              weight_distribution: tfp.distributions.Distribution, weight_type):\n",
    "    adjacency_distribution: tfp.distributions.Distribution = tfp.distributions.Bernoulli(probs=p, dtype=tf.bool)\n",
    "    turn_distribution: tfp.distributions.Distribution = tfp.distributions.Bernoulli(probs=0.5)\n",
    "    # discrete=tfp.distributions.DiscreteUniform(low=0,high=10)\n",
    "    shape = (n, n) if not flatten else (n * n,)\n",
    "    W = weight_distribution.sample(shape, seed=seeder())\n",
    "    dtype = weight_distribution.dtype\n",
    "    A = tf.numpy_function(_adj_matrix_generator, inp=[n, p], Tout=tf.uint8,stateful=True)\n",
    "    if flatten:\n",
    "        A = tf.reshape(A, shape=(n*n,))\n",
    "    A = tf.cast(A, dtype=dtype)\n",
    "    W = tf.multiply(A, W)\n",
    "    vertex = tf.random.uniform((1,), 0, n, dtype=tf.int32, seed=seeder())\n",
    "    player = turn_distribution.sample((1,), seed=seeder())\n",
    "    if flatten:\n",
    "        if weight_matrix:\n",
    "            output = tf.concat(cast_all(dtype, A, W, vertex, player), axis=0)\n",
    "        else:\n",
    "            output = tf.concat(cast_all(dtype, A, vertex, player), axis=0)\n",
    "        if target:\n",
    "            if weight_type == tf.int32 or weight_type == tf.int64:\n",
    "                target_value = tf.py_function(\n",
    "                    lambda output: mpgwrapper.mpgcpp.winners_tensorflow_int_matrix_flattened_cxx(\n",
    "                        output.numpy().astype(np.int32).tolist(),\"dense\"),\n",
    "                    inp=[output], Tout=tf.int32)\n",
    "            else:\n",
    "                target_value = tf.py_function(\n",
    "                    lambda output: mpgwrapper.mpgcpp.winners_tensorflow_float_matrix_flattened_cxx(\n",
    "                        output.numpy().astype(np.float32).tolist(),\"dense\"),\n",
    "                    inp=[output], Tout=tf.float32)\n",
    "            target_value = tf.reshape(tf.ensure_shape(target_value, ()), shape=(1,))\n",
    "            return (tf.cast(output, dtype=tf.float32), tf.cast(target_value, dtype=tf.float32))\n",
    "        return output\n",
    "    else:\n",
    "        if weight_matrix:\n",
    "            output = tf.cast(tf.stack([A, W], axis=0), dtype=tf.float32)\n",
    "        else:\n",
    "            output = tf.cast(A, dtype=tf.float32)\n",
    "        if target:\n",
    "            return (output, tf.constant([vertex, player]), 1)\n",
    "        return (output, tf.constant([vertex, player]))\n",
    "\n",
    "\n",
    "class MPGGeneratedDenseDataset(tf.data.Dataset):\n",
    "\n",
    "    def __new__(cls, n, p, cardinality=tf.data.INFINITE_CARDINALITY,\n",
    "                target: bool = False, weight_matrix: bool = True, flatten=False, seed=None,\n",
    "                weights_distribution: tfp.distributions.Distribution = None,\n",
    "                weight_type : str = \"int\"):\n",
    "        if weight_type == \"int\":\n",
    "            weight_type= tf.int32\n",
    "        elif weight_type == \"float\":\n",
    "            weight_type = tf.float32\n",
    "        elif weight_type == \"double\":\n",
    "            weight_type = tf.float64\n",
    "        elif not isinstance(weight_type, tf.DType):\n",
    "            raise ValueError(\"weight_type must be a string or a tf.DType\")\n",
    "        if weights_distribution is None:\n",
    "            weights_distribution = tfp.distributions.Uniform(low=-1, high=1)\n",
    "        if seed is None:\n",
    "            seed = np.random.randint(0, 1 << 32)\n",
    "\n",
    "        seeder = tfp.util.SeedStream(seed, \"seeding_generator\")\n",
    "\n",
    "        shape = None\n",
    "        if flatten:\n",
    "            if weight_matrix:\n",
    "                shape = (2 * n * n + 2,)\n",
    "            else:\n",
    "                shape = (n * n + 2,)\n",
    "            signature = (tf.TensorSpec(shape=shape, dtype=tf.float32),)\n",
    "        else:\n",
    "            if weight_matrix:\n",
    "                shape = (2, n, n)\n",
    "            else:\n",
    "                shape = (n, n)\n",
    "            signature = (tf.TensorSpec(shape=shape, dtype=tf.float32), tf.TensorSpec(shape=(2,), dtype=tf.int32))\n",
    "        if target:\n",
    "            signature = (*signature, tf.TensorSpec(shape=()))\n",
    "\n",
    "        generated: tf.data.Dataset\n",
    "        if cardinality == tf.data.INFINITE_CARDINALITY:\n",
    "            generated = tf.data.Dataset.counter(start=seed, step=1)\n",
    "        else:\n",
    "            generated = tf.data.Dataset.range(seed, seed + cardinality)\n",
    "        return generated.map(\n",
    "            lambda seed: _generate_dense_instances(n, p, seeder, cardinality, target, weight_matrix, flatten,\n",
    "                                                   weights_distribution, weight_type),\n",
    "            num_parallel_calls=12\n",
    "        )\n",
    "        #    range,\n",
    "        #    args=(n,p,cardinality, target, weight_matrix,flatten),\n",
    "        #    output_signature=signature\n",
    "        # )\n",
    "\n",
    "    def __init__(self, n, p, cardinality=tf.data.INFINITE_CARDINALITY,\n",
    "                 target: bool = False, weight_matrix: bool = True, flatten=False, seed=None,\n",
    "                 weights_distribution: tfp.distributions.Distribution = None,\n",
    "                 weight_type : str = \"int\"):\n",
    "        self.n = n\n",
    "        self.p = p\n",
    "        self.cardinality = cardinality\n",
    "        self.target = target\n",
    "        self.weight_matrix = weight_matrix\n",
    "        self.flatten = flatten\n",
    "        self.seed = seed\n",
    "        self.weights_distribution = weights_distribution\n",
    "\n",
    "    def _permutation(self, x, P):\n",
    "        if self.flatten:\n",
    "            S = tf.concat(tf.reshape(tf.tensordot(P, P, axes=None), shape=(-1,)))\n",
    "            return tf.concat([tf.gather(x, S, axis=0), P[x[-2]], x[-1]])\n",
    "\n",
    "    def permutation(self, P):\n",
    "        return self.map(lambda x: self._permutation(x, P))\n",
    "\n",
    "\n",
    "class MPGGeneratedDataset(tf.data.Dataset):\n",
    "    def _generator(n, p, cardinality: int, target: bool, as_graph: bool,\n",
    "                   adj_matrix: bool, weight_matrix: bool, as_dense: bool):\n",
    "        if cardinality == tf.data.INFINITE_CARDINALITY:\n",
    "            seed = 0\n",
    "            while True:\n",
    "                yield _generate_instances(n, p, seed, cardinality, target, as_graph, adj_matrix, weight_matrix,\n",
    "                                          as_dense)\n",
    "                seed += 1\n",
    "        else:\n",
    "            for sample_idx in range(cardinality):\n",
    "                yield _generate_instances(n, p, sample_idx, cardinality, target, as_graph, adj_matrix, weight_matrix,\n",
    "                                          as_dense)\n",
    "\n",
    "    def __new__(cls, n, p, cardinality=tf.data.INFINITE_CARDINALITY, target: bool = False, as_graph: bool = False,\n",
    "                adj_matrix: bool = True, weight_matrix: bool = True, as_dense: bool = True):\n",
    "        shape = None\n",
    "        if as_graph:\n",
    "            signature = tf.TensorSpec(shape=(), dtype=mpg.MeanPayoffGraph)\n",
    "        else:\n",
    "            if adj_matrix and weight_matrix:\n",
    "                shape = (2, n, n)\n",
    "            elif adj_matrix or weight_matrix:\n",
    "                shape = (n, n)\n",
    "            else:\n",
    "                raise ValueError(\"Must specify at least one of adj_matrix or weight_matrix\")\n",
    "        if as_dense:\n",
    "            TensorSpec = tf.TensorSpec\n",
    "        else:\n",
    "            TensorSpec = tf.SparseTensorSpec\n",
    "        signature = (TensorSpec(shape=shape), tf.TensorSpec(shape=(2,), dtype=tf.int32))\n",
    "        if target:\n",
    "            signature = (*signature, tf.TensorSpec(shape=()))\n",
    "        return tf.data.Dataset.from_generator(\n",
    "            cls._generator,\n",
    "            args=(n, p, cardinality, target, as_graph, adj_matrix, weight_matrix, as_dense),\n",
    "            output_signature=signature\n",
    "        )\n",
    "\n",
    "    def __init__(self, n, p):\n",
    "        pass\n"
   ]
  },
  {
   "cell_type": "code",
   "execution_count": 28,
   "id": "a46f66e0-4827-474a-bf22-d0e0788591a8",
   "metadata": {},
   "outputs": [],
   "source": [
    "dataset=MPGGeneratedDenseDataset(10,0.5,target=True,weight_matrix=True,flatten=True,weights_distribution=tfp.distributions.Uniform(-100,100),weight_type=\"int\")\n",
    "transformed=dataset.batch(64).take(1024).cache().repeat()\n",
    "validation_dataset=MPGGeneratedDenseDataset(10,0.5,target=True,weight_matrix=True,flatten=True,weights_distribution=tfp.distributions.Uniform(-10,10),weight_type=\"float\").batch(64).take(12).cache()"
   ]
  },
  {
   "cell_type": "code",
   "execution_count": 29,
   "id": "b260d6d6-826e-47bd-8460-911a67b5da17",
   "metadata": {},
   "outputs": [
    {
     "name": "stdout",
     "output_type": "stream",
     "text": [
      "tf.Tensor([1.], shape=(1,), dtype=float32)\n"
     ]
    }
   ],
   "source": [
    "for x,y in dataset.take(1):\n",
    "    print(y)"
   ]
  },
  {
   "cell_type": "code",
   "execution_count": 30,
   "id": "224616e8-f5f7-4193-a904-2bad8b99c4f5",
   "metadata": {},
   "outputs": [],
   "source": [
    "import mpg.mpgml.layers.normalisation as mpgml_norm\n",
    "import mpg.mpgml.layers.augmentation as mpgml_augm\n",
    "import tensorflow.keras as keras\n",
    "model=keras.Sequential([\n",
    "    mpgml_norm.EdgeNormalisationLayer(edges_interval=(1,-2)),\n",
    "    mpgml_augm.EdgeWeightsNoiseLayer(noise_layer=keras.layers.GaussianNoise(stddev=0.01),edges_interval=(1,-2)),\n",
    "    keras.layers.Dense(100,activation=\"relu\"),\n",
    "    keras.layers.Dense(50,activation=\"relu\"),\n",
    "    keras.layers.BatchNormalization(),\n",
    "    keras.layers.Dense(50,activation=\"relu\"),\n",
    "    keras.layers.Dense(15,activation=\"relu\"),\n",
    "    keras.layers.BatchNormalization(),\n",
    "    keras.layers.Dense(15,activation=\"relu\"),\n",
    "    keras.layers.Dense(1,\"sigmoid\")\n",
    "])"
   ]
  },
  {
   "cell_type": "code",
   "execution_count": 31,
   "id": "b8d1fa73-a6f7-4b3f-8839-9bab25d075dd",
   "metadata": {},
   "outputs": [
    {
     "name": "stdout",
     "output_type": "stream",
     "text": [
      "Epoch 1/25\n",
      "64/64 [==============================] - 12s 162ms/step - loss: 0.6858 - accuracy: 0.5676 - val_loss: 0.6641 - val_accuracy: 0.6328\n",
      "Epoch 2/25\n",
      "64/64 [==============================] - 8s 130ms/step - loss: 0.6220 - accuracy: 0.6567 - val_loss: 0.6414 - val_accuracy: 0.6315\n",
      "Epoch 3/25\n",
      "12/64 [====>.........................] - ETA: 6s - loss: 0.5916 - accuracy: 0.6992"
     ]
    },
    {
     "ename": "KeyboardInterrupt",
     "evalue": "",
     "output_type": "error",
     "traceback": [
      "\u001b[0;31m---------------------------------------------------------------------------\u001b[0m",
      "\u001b[0;31mKeyboardInterrupt\u001b[0m                         Traceback (most recent call last)",
      "Cell \u001b[0;32mIn[31], line 6\u001b[0m\n\u001b[1;32m      1\u001b[0m model\u001b[38;5;241m.\u001b[39mcompile(\n\u001b[1;32m      2\u001b[0m     optimizer\u001b[38;5;241m=\u001b[39m\u001b[38;5;124m\"\u001b[39m\u001b[38;5;124mAdam\u001b[39m\u001b[38;5;124m\"\u001b[39m,\n\u001b[1;32m      3\u001b[0m     loss\u001b[38;5;241m=\u001b[39mtf\u001b[38;5;241m.\u001b[39mkeras\u001b[38;5;241m.\u001b[39mlosses\u001b[38;5;241m.\u001b[39mBinaryCrossentropy(),\n\u001b[1;32m      4\u001b[0m     metrics\u001b[38;5;241m=\u001b[39m[\u001b[38;5;124m\"\u001b[39m\u001b[38;5;124maccuracy\u001b[39m\u001b[38;5;124m\"\u001b[39m],\n\u001b[1;32m      5\u001b[0m )\n\u001b[0;32m----> 6\u001b[0m \u001b[43mmodel\u001b[49m\u001b[38;5;241;43m.\u001b[39;49m\u001b[43mfit\u001b[49m\u001b[43m(\u001b[49m\u001b[43mx\u001b[49m\u001b[38;5;241;43m=\u001b[39;49m\u001b[43mtransformed\u001b[49m\u001b[43m,\u001b[49m\n\u001b[1;32m      7\u001b[0m \u001b[43m    \u001b[49m\u001b[43mepochs\u001b[49m\u001b[38;5;241;43m=\u001b[39;49m\u001b[38;5;241;43m25\u001b[39;49m\u001b[43m,\u001b[49m\n\u001b[1;32m      8\u001b[0m \u001b[43m    \u001b[49m\u001b[43mverbose\u001b[49m\u001b[38;5;241;43m=\u001b[39;49m\u001b[38;5;124;43m'\u001b[39;49m\u001b[38;5;124;43mauto\u001b[39;49m\u001b[38;5;124;43m'\u001b[39;49m\u001b[43m,\u001b[49m\n\u001b[1;32m      9\u001b[0m \u001b[43m    \u001b[49m\u001b[43msteps_per_epoch\u001b[49m\u001b[38;5;241;43m=\u001b[39;49m\u001b[38;5;241;43m64\u001b[39;49m\u001b[43m,\u001b[49m\n\u001b[1;32m     10\u001b[0m \u001b[43m    \u001b[49m\u001b[43mshuffle\u001b[49m\u001b[38;5;241;43m=\u001b[39;49m\u001b[38;5;28;43;01mFalse\u001b[39;49;00m\u001b[43m,\u001b[49m\n\u001b[1;32m     11\u001b[0m \u001b[43m          \u001b[49m\u001b[43mvalidation_data\u001b[49m\u001b[38;5;241;43m=\u001b[39;49m\u001b[43mvalidation_dataset\u001b[49m\n\u001b[1;32m     12\u001b[0m \u001b[43m         \u001b[49m\u001b[43m)\u001b[49m\n",
      "File \u001b[0;32m~/anaconda3/envs/stochastic_games/lib/python3.10/site-packages/keras/utils/traceback_utils.py:65\u001b[0m, in \u001b[0;36mfilter_traceback.<locals>.error_handler\u001b[0;34m(*args, **kwargs)\u001b[0m\n\u001b[1;32m     63\u001b[0m filtered_tb \u001b[38;5;241m=\u001b[39m \u001b[38;5;28;01mNone\u001b[39;00m\n\u001b[1;32m     64\u001b[0m \u001b[38;5;28;01mtry\u001b[39;00m:\n\u001b[0;32m---> 65\u001b[0m     \u001b[38;5;28;01mreturn\u001b[39;00m \u001b[43mfn\u001b[49m\u001b[43m(\u001b[49m\u001b[38;5;241;43m*\u001b[39;49m\u001b[43margs\u001b[49m\u001b[43m,\u001b[49m\u001b[43m \u001b[49m\u001b[38;5;241;43m*\u001b[39;49m\u001b[38;5;241;43m*\u001b[39;49m\u001b[43mkwargs\u001b[49m\u001b[43m)\u001b[49m\n\u001b[1;32m     66\u001b[0m \u001b[38;5;28;01mexcept\u001b[39;00m \u001b[38;5;167;01mException\u001b[39;00m \u001b[38;5;28;01mas\u001b[39;00m e:\n\u001b[1;32m     67\u001b[0m     filtered_tb \u001b[38;5;241m=\u001b[39m _process_traceback_frames(e\u001b[38;5;241m.\u001b[39m__traceback__)\n",
      "File \u001b[0;32m~/anaconda3/envs/stochastic_games/lib/python3.10/site-packages/keras/engine/training.py:1650\u001b[0m, in \u001b[0;36mModel.fit\u001b[0;34m(self, x, y, batch_size, epochs, verbose, callbacks, validation_split, validation_data, shuffle, class_weight, sample_weight, initial_epoch, steps_per_epoch, validation_steps, validation_batch_size, validation_freq, max_queue_size, workers, use_multiprocessing)\u001b[0m\n\u001b[1;32m   1642\u001b[0m \u001b[38;5;28;01mwith\u001b[39;00m tf\u001b[38;5;241m.\u001b[39mprofiler\u001b[38;5;241m.\u001b[39mexperimental\u001b[38;5;241m.\u001b[39mTrace(\n\u001b[1;32m   1643\u001b[0m     \u001b[38;5;124m\"\u001b[39m\u001b[38;5;124mtrain\u001b[39m\u001b[38;5;124m\"\u001b[39m,\n\u001b[1;32m   1644\u001b[0m     epoch_num\u001b[38;5;241m=\u001b[39mepoch,\n\u001b[0;32m   (...)\u001b[0m\n\u001b[1;32m   1647\u001b[0m     _r\u001b[38;5;241m=\u001b[39m\u001b[38;5;241m1\u001b[39m,\n\u001b[1;32m   1648\u001b[0m ):\n\u001b[1;32m   1649\u001b[0m     callbacks\u001b[38;5;241m.\u001b[39mon_train_batch_begin(step)\n\u001b[0;32m-> 1650\u001b[0m     tmp_logs \u001b[38;5;241m=\u001b[39m \u001b[38;5;28;43mself\u001b[39;49m\u001b[38;5;241;43m.\u001b[39;49m\u001b[43mtrain_function\u001b[49m\u001b[43m(\u001b[49m\u001b[43miterator\u001b[49m\u001b[43m)\u001b[49m\n\u001b[1;32m   1651\u001b[0m     \u001b[38;5;28;01mif\u001b[39;00m data_handler\u001b[38;5;241m.\u001b[39mshould_sync:\n\u001b[1;32m   1652\u001b[0m         context\u001b[38;5;241m.\u001b[39masync_wait()\n",
      "File \u001b[0;32m~/anaconda3/envs/stochastic_games/lib/python3.10/site-packages/tensorflow/python/util/traceback_utils.py:150\u001b[0m, in \u001b[0;36mfilter_traceback.<locals>.error_handler\u001b[0;34m(*args, **kwargs)\u001b[0m\n\u001b[1;32m    148\u001b[0m filtered_tb \u001b[38;5;241m=\u001b[39m \u001b[38;5;28;01mNone\u001b[39;00m\n\u001b[1;32m    149\u001b[0m \u001b[38;5;28;01mtry\u001b[39;00m:\n\u001b[0;32m--> 150\u001b[0m   \u001b[38;5;28;01mreturn\u001b[39;00m \u001b[43mfn\u001b[49m\u001b[43m(\u001b[49m\u001b[38;5;241;43m*\u001b[39;49m\u001b[43margs\u001b[49m\u001b[43m,\u001b[49m\u001b[43m \u001b[49m\u001b[38;5;241;43m*\u001b[39;49m\u001b[38;5;241;43m*\u001b[39;49m\u001b[43mkwargs\u001b[49m\u001b[43m)\u001b[49m\n\u001b[1;32m    151\u001b[0m \u001b[38;5;28;01mexcept\u001b[39;00m \u001b[38;5;167;01mException\u001b[39;00m \u001b[38;5;28;01mas\u001b[39;00m e:\n\u001b[1;32m    152\u001b[0m   filtered_tb \u001b[38;5;241m=\u001b[39m _process_traceback_frames(e\u001b[38;5;241m.\u001b[39m__traceback__)\n",
      "File \u001b[0;32m~/anaconda3/envs/stochastic_games/lib/python3.10/site-packages/tensorflow/python/eager/polymorphic_function/polymorphic_function.py:880\u001b[0m, in \u001b[0;36mFunction.__call__\u001b[0;34m(self, *args, **kwds)\u001b[0m\n\u001b[1;32m    877\u001b[0m compiler \u001b[38;5;241m=\u001b[39m \u001b[38;5;124m\"\u001b[39m\u001b[38;5;124mxla\u001b[39m\u001b[38;5;124m\"\u001b[39m \u001b[38;5;28;01mif\u001b[39;00m \u001b[38;5;28mself\u001b[39m\u001b[38;5;241m.\u001b[39m_jit_compile \u001b[38;5;28;01melse\u001b[39;00m \u001b[38;5;124m\"\u001b[39m\u001b[38;5;124mnonXla\u001b[39m\u001b[38;5;124m\"\u001b[39m\n\u001b[1;32m    879\u001b[0m \u001b[38;5;28;01mwith\u001b[39;00m OptionalXlaContext(\u001b[38;5;28mself\u001b[39m\u001b[38;5;241m.\u001b[39m_jit_compile):\n\u001b[0;32m--> 880\u001b[0m   result \u001b[38;5;241m=\u001b[39m \u001b[38;5;28;43mself\u001b[39;49m\u001b[38;5;241;43m.\u001b[39;49m\u001b[43m_call\u001b[49m\u001b[43m(\u001b[49m\u001b[38;5;241;43m*\u001b[39;49m\u001b[43margs\u001b[49m\u001b[43m,\u001b[49m\u001b[43m \u001b[49m\u001b[38;5;241;43m*\u001b[39;49m\u001b[38;5;241;43m*\u001b[39;49m\u001b[43mkwds\u001b[49m\u001b[43m)\u001b[49m\n\u001b[1;32m    882\u001b[0m new_tracing_count \u001b[38;5;241m=\u001b[39m \u001b[38;5;28mself\u001b[39m\u001b[38;5;241m.\u001b[39mexperimental_get_tracing_count()\n\u001b[1;32m    883\u001b[0m without_tracing \u001b[38;5;241m=\u001b[39m (tracing_count \u001b[38;5;241m==\u001b[39m new_tracing_count)\n",
      "File \u001b[0;32m~/anaconda3/envs/stochastic_games/lib/python3.10/site-packages/tensorflow/python/eager/polymorphic_function/polymorphic_function.py:912\u001b[0m, in \u001b[0;36mFunction._call\u001b[0;34m(self, *args, **kwds)\u001b[0m\n\u001b[1;32m    909\u001b[0m   \u001b[38;5;28mself\u001b[39m\u001b[38;5;241m.\u001b[39m_lock\u001b[38;5;241m.\u001b[39mrelease()\n\u001b[1;32m    910\u001b[0m   \u001b[38;5;66;03m# In this case we have created variables on the first call, so we run the\u001b[39;00m\n\u001b[1;32m    911\u001b[0m   \u001b[38;5;66;03m# defunned version which is guaranteed to never create variables.\u001b[39;00m\n\u001b[0;32m--> 912\u001b[0m   \u001b[38;5;28;01mreturn\u001b[39;00m \u001b[38;5;28;43mself\u001b[39;49m\u001b[38;5;241;43m.\u001b[39;49m\u001b[43m_no_variable_creation_fn\u001b[49m\u001b[43m(\u001b[49m\u001b[38;5;241;43m*\u001b[39;49m\u001b[43margs\u001b[49m\u001b[43m,\u001b[49m\u001b[43m \u001b[49m\u001b[38;5;241;43m*\u001b[39;49m\u001b[38;5;241;43m*\u001b[39;49m\u001b[43mkwds\u001b[49m\u001b[43m)\u001b[49m  \u001b[38;5;66;03m# pylint: disable=not-callable\u001b[39;00m\n\u001b[1;32m    913\u001b[0m \u001b[38;5;28;01melif\u001b[39;00m \u001b[38;5;28mself\u001b[39m\u001b[38;5;241m.\u001b[39m_variable_creation_fn \u001b[38;5;129;01mis\u001b[39;00m \u001b[38;5;129;01mnot\u001b[39;00m \u001b[38;5;28;01mNone\u001b[39;00m:\n\u001b[1;32m    914\u001b[0m   \u001b[38;5;66;03m# Release the lock early so that multiple threads can perform the call\u001b[39;00m\n\u001b[1;32m    915\u001b[0m   \u001b[38;5;66;03m# in parallel.\u001b[39;00m\n\u001b[1;32m    916\u001b[0m   \u001b[38;5;28mself\u001b[39m\u001b[38;5;241m.\u001b[39m_lock\u001b[38;5;241m.\u001b[39mrelease()\n",
      "File \u001b[0;32m~/anaconda3/envs/stochastic_games/lib/python3.10/site-packages/tensorflow/python/eager/polymorphic_function/tracing_compiler.py:134\u001b[0m, in \u001b[0;36mTracingCompiler.__call__\u001b[0;34m(self, *args, **kwargs)\u001b[0m\n\u001b[1;32m    131\u001b[0m \u001b[38;5;28;01mwith\u001b[39;00m \u001b[38;5;28mself\u001b[39m\u001b[38;5;241m.\u001b[39m_lock:\n\u001b[1;32m    132\u001b[0m   (concrete_function,\n\u001b[1;32m    133\u001b[0m    filtered_flat_args) \u001b[38;5;241m=\u001b[39m \u001b[38;5;28mself\u001b[39m\u001b[38;5;241m.\u001b[39m_maybe_define_function(args, kwargs)\n\u001b[0;32m--> 134\u001b[0m \u001b[38;5;28;01mreturn\u001b[39;00m \u001b[43mconcrete_function\u001b[49m\u001b[38;5;241;43m.\u001b[39;49m\u001b[43m_call_flat\u001b[49m\u001b[43m(\u001b[49m\n\u001b[1;32m    135\u001b[0m \u001b[43m    \u001b[49m\u001b[43mfiltered_flat_args\u001b[49m\u001b[43m,\u001b[49m\u001b[43m \u001b[49m\u001b[43mcaptured_inputs\u001b[49m\u001b[38;5;241;43m=\u001b[39;49m\u001b[43mconcrete_function\u001b[49m\u001b[38;5;241;43m.\u001b[39;49m\u001b[43mcaptured_inputs\u001b[49m\u001b[43m)\u001b[49m\n",
      "File \u001b[0;32m~/anaconda3/envs/stochastic_games/lib/python3.10/site-packages/tensorflow/python/eager/polymorphic_function/monomorphic_function.py:1745\u001b[0m, in \u001b[0;36mConcreteFunction._call_flat\u001b[0;34m(self, args, captured_inputs, cancellation_manager)\u001b[0m\n\u001b[1;32m   1741\u001b[0m possible_gradient_type \u001b[38;5;241m=\u001b[39m gradients_util\u001b[38;5;241m.\u001b[39mPossibleTapeGradientTypes(args)\n\u001b[1;32m   1742\u001b[0m \u001b[38;5;28;01mif\u001b[39;00m (possible_gradient_type \u001b[38;5;241m==\u001b[39m gradients_util\u001b[38;5;241m.\u001b[39mPOSSIBLE_GRADIENT_TYPES_NONE\n\u001b[1;32m   1743\u001b[0m     \u001b[38;5;129;01mand\u001b[39;00m executing_eagerly):\n\u001b[1;32m   1744\u001b[0m   \u001b[38;5;66;03m# No tape is watching; skip to running the function.\u001b[39;00m\n\u001b[0;32m-> 1745\u001b[0m   \u001b[38;5;28;01mreturn\u001b[39;00m \u001b[38;5;28mself\u001b[39m\u001b[38;5;241m.\u001b[39m_build_call_outputs(\u001b[38;5;28;43mself\u001b[39;49m\u001b[38;5;241;43m.\u001b[39;49m\u001b[43m_inference_function\u001b[49m\u001b[38;5;241;43m.\u001b[39;49m\u001b[43mcall\u001b[49m\u001b[43m(\u001b[49m\n\u001b[1;32m   1746\u001b[0m \u001b[43m      \u001b[49m\u001b[43mctx\u001b[49m\u001b[43m,\u001b[49m\u001b[43m \u001b[49m\u001b[43margs\u001b[49m\u001b[43m,\u001b[49m\u001b[43m \u001b[49m\u001b[43mcancellation_manager\u001b[49m\u001b[38;5;241;43m=\u001b[39;49m\u001b[43mcancellation_manager\u001b[49m\u001b[43m)\u001b[49m)\n\u001b[1;32m   1747\u001b[0m forward_backward \u001b[38;5;241m=\u001b[39m \u001b[38;5;28mself\u001b[39m\u001b[38;5;241m.\u001b[39m_select_forward_and_backward_functions(\n\u001b[1;32m   1748\u001b[0m     args,\n\u001b[1;32m   1749\u001b[0m     possible_gradient_type,\n\u001b[1;32m   1750\u001b[0m     executing_eagerly)\n\u001b[1;32m   1751\u001b[0m forward_function, args_with_tangents \u001b[38;5;241m=\u001b[39m forward_backward\u001b[38;5;241m.\u001b[39mforward()\n",
      "File \u001b[0;32m~/anaconda3/envs/stochastic_games/lib/python3.10/site-packages/tensorflow/python/eager/polymorphic_function/monomorphic_function.py:378\u001b[0m, in \u001b[0;36m_EagerDefinedFunction.call\u001b[0;34m(self, ctx, args, cancellation_manager)\u001b[0m\n\u001b[1;32m    376\u001b[0m \u001b[38;5;28;01mwith\u001b[39;00m _InterpolateFunctionError(\u001b[38;5;28mself\u001b[39m):\n\u001b[1;32m    377\u001b[0m   \u001b[38;5;28;01mif\u001b[39;00m cancellation_manager \u001b[38;5;129;01mis\u001b[39;00m \u001b[38;5;28;01mNone\u001b[39;00m:\n\u001b[0;32m--> 378\u001b[0m     outputs \u001b[38;5;241m=\u001b[39m \u001b[43mexecute\u001b[49m\u001b[38;5;241;43m.\u001b[39;49m\u001b[43mexecute\u001b[49m\u001b[43m(\u001b[49m\n\u001b[1;32m    379\u001b[0m \u001b[43m        \u001b[49m\u001b[38;5;28;43mstr\u001b[39;49m\u001b[43m(\u001b[49m\u001b[38;5;28;43mself\u001b[39;49m\u001b[38;5;241;43m.\u001b[39;49m\u001b[43msignature\u001b[49m\u001b[38;5;241;43m.\u001b[39;49m\u001b[43mname\u001b[49m\u001b[43m)\u001b[49m\u001b[43m,\u001b[49m\n\u001b[1;32m    380\u001b[0m \u001b[43m        \u001b[49m\u001b[43mnum_outputs\u001b[49m\u001b[38;5;241;43m=\u001b[39;49m\u001b[38;5;28;43mself\u001b[39;49m\u001b[38;5;241;43m.\u001b[39;49m\u001b[43m_num_outputs\u001b[49m\u001b[43m,\u001b[49m\n\u001b[1;32m    381\u001b[0m \u001b[43m        \u001b[49m\u001b[43minputs\u001b[49m\u001b[38;5;241;43m=\u001b[39;49m\u001b[43margs\u001b[49m\u001b[43m,\u001b[49m\n\u001b[1;32m    382\u001b[0m \u001b[43m        \u001b[49m\u001b[43mattrs\u001b[49m\u001b[38;5;241;43m=\u001b[39;49m\u001b[43mattrs\u001b[49m\u001b[43m,\u001b[49m\n\u001b[1;32m    383\u001b[0m \u001b[43m        \u001b[49m\u001b[43mctx\u001b[49m\u001b[38;5;241;43m=\u001b[39;49m\u001b[43mctx\u001b[49m\u001b[43m)\u001b[49m\n\u001b[1;32m    384\u001b[0m   \u001b[38;5;28;01melse\u001b[39;00m:\n\u001b[1;32m    385\u001b[0m     outputs \u001b[38;5;241m=\u001b[39m execute\u001b[38;5;241m.\u001b[39mexecute_with_cancellation(\n\u001b[1;32m    386\u001b[0m         \u001b[38;5;28mstr\u001b[39m(\u001b[38;5;28mself\u001b[39m\u001b[38;5;241m.\u001b[39msignature\u001b[38;5;241m.\u001b[39mname),\n\u001b[1;32m    387\u001b[0m         num_outputs\u001b[38;5;241m=\u001b[39m\u001b[38;5;28mself\u001b[39m\u001b[38;5;241m.\u001b[39m_num_outputs,\n\u001b[0;32m   (...)\u001b[0m\n\u001b[1;32m    390\u001b[0m         ctx\u001b[38;5;241m=\u001b[39mctx,\n\u001b[1;32m    391\u001b[0m         cancellation_manager\u001b[38;5;241m=\u001b[39mcancellation_manager)\n",
      "File \u001b[0;32m~/anaconda3/envs/stochastic_games/lib/python3.10/site-packages/tensorflow/python/eager/execute.py:52\u001b[0m, in \u001b[0;36mquick_execute\u001b[0;34m(op_name, num_outputs, inputs, attrs, ctx, name)\u001b[0m\n\u001b[1;32m     50\u001b[0m \u001b[38;5;28;01mtry\u001b[39;00m:\n\u001b[1;32m     51\u001b[0m   ctx\u001b[38;5;241m.\u001b[39mensure_initialized()\n\u001b[0;32m---> 52\u001b[0m   tensors \u001b[38;5;241m=\u001b[39m \u001b[43mpywrap_tfe\u001b[49m\u001b[38;5;241;43m.\u001b[39;49m\u001b[43mTFE_Py_Execute\u001b[49m\u001b[43m(\u001b[49m\u001b[43mctx\u001b[49m\u001b[38;5;241;43m.\u001b[39;49m\u001b[43m_handle\u001b[49m\u001b[43m,\u001b[49m\u001b[43m \u001b[49m\u001b[43mdevice_name\u001b[49m\u001b[43m,\u001b[49m\u001b[43m \u001b[49m\u001b[43mop_name\u001b[49m\u001b[43m,\u001b[49m\n\u001b[1;32m     53\u001b[0m \u001b[43m                                      \u001b[49m\u001b[43minputs\u001b[49m\u001b[43m,\u001b[49m\u001b[43m \u001b[49m\u001b[43mattrs\u001b[49m\u001b[43m,\u001b[49m\u001b[43m \u001b[49m\u001b[43mnum_outputs\u001b[49m\u001b[43m)\u001b[49m\n\u001b[1;32m     54\u001b[0m \u001b[38;5;28;01mexcept\u001b[39;00m core\u001b[38;5;241m.\u001b[39m_NotOkStatusException \u001b[38;5;28;01mas\u001b[39;00m e:\n\u001b[1;32m     55\u001b[0m   \u001b[38;5;28;01mif\u001b[39;00m name \u001b[38;5;129;01mis\u001b[39;00m \u001b[38;5;129;01mnot\u001b[39;00m \u001b[38;5;28;01mNone\u001b[39;00m:\n",
      "\u001b[0;31mKeyboardInterrupt\u001b[0m: "
     ]
    }
   ],
   "source": [
    "model.compile(\n",
    "    optimizer=\"Adam\",\n",
    "    loss=tf.keras.losses.BinaryCrossentropy(),\n",
    "    metrics=[\"accuracy\"],\n",
    ")\n",
    "model.fit(x=transformed,\n",
    "    epochs=25,\n",
    "    verbose='auto',\n",
    "    steps_per_epoch=64,\n",
    "    shuffle=False,\n",
    "          validation_data=validation_dataset\n",
    "         )"
   ]
  },
  {
   "cell_type": "code",
   "execution_count": null,
   "id": "6b742d82-9f2b-48a4-9e09-ac865e8f6563",
   "metadata": {},
   "outputs": [],
   "source": [
    "model.fit(x=transformed,\n",
    "    epochs=25,\n",
    "    verbose='auto',\n",
    "    steps_per_epoch=256,\n",
    "    shuffle=False,\n",
    "          validation_data=validation_dataset\n",
    "         )"
   ]
  },
  {
   "cell_type": "code",
   "execution_count": 130,
   "id": "1e738124-3e9d-4d50-8259-b17c518a89fe",
   "metadata": {},
   "outputs": [
    {
     "name": "stderr",
     "output_type": "stream",
     "text": [
      "2023-04-04 05:43:34.998569: W tensorflow/core/kernels/data/cache_dataset_ops.cc:856] The calling iterator did not fully read the dataset being cached. In order to avoid unexpected truncation of the dataset, the partially cached contents of the dataset  will be discarded. This can happen if you have an input pipeline similar to `dataset.cache().take(k).repeat()`. You should use `dataset.take(k).cache().repeat()` instead.\n"
     ]
    },
    {
     "data": {
      "text/plain": [
       "<tf.Tensor: shape=(64, 1), dtype=float32, numpy=\n",
       "array([[1.],\n",
       "       [1.],\n",
       "       [0.],\n",
       "       [0.],\n",
       "       [0.],\n",
       "       [0.],\n",
       "       [1.],\n",
       "       [0.],\n",
       "       [0.],\n",
       "       [1.],\n",
       "       [1.],\n",
       "       [1.],\n",
       "       [0.],\n",
       "       [0.],\n",
       "       [1.],\n",
       "       [0.],\n",
       "       [1.],\n",
       "       [1.],\n",
       "       [1.],\n",
       "       [0.],\n",
       "       [0.],\n",
       "       [0.],\n",
       "       [0.],\n",
       "       [0.],\n",
       "       [0.],\n",
       "       [1.],\n",
       "       [1.],\n",
       "       [0.],\n",
       "       [0.],\n",
       "       [0.],\n",
       "       [0.],\n",
       "       [1.],\n",
       "       [1.],\n",
       "       [1.],\n",
       "       [1.],\n",
       "       [1.],\n",
       "       [0.],\n",
       "       [0.],\n",
       "       [1.],\n",
       "       [0.],\n",
       "       [1.],\n",
       "       [0.],\n",
       "       [0.],\n",
       "       [0.],\n",
       "       [0.],\n",
       "       [0.],\n",
       "       [1.],\n",
       "       [0.],\n",
       "       [1.],\n",
       "       [0.],\n",
       "       [1.],\n",
       "       [0.],\n",
       "       [0.],\n",
       "       [0.],\n",
       "       [1.],\n",
       "       [0.],\n",
       "       [0.],\n",
       "       [0.],\n",
       "       [1.],\n",
       "       [1.],\n",
       "       [1.],\n",
       "       [0.],\n",
       "       [1.],\n",
       "       [0.]], dtype=float32)>"
      ]
     },
     "execution_count": 130,
     "metadata": {},
     "output_type": "execute_result"
    }
   ],
   "source": [
    "x,y=next(iter(transformed))\n",
    "y"
   ]
  },
  {
   "cell_type": "code",
   "execution_count": 111,
   "id": "76525fcd-f9d6-4fe6-8296-b8650bd55e9d",
   "metadata": {},
   "outputs": [],
   "source": [
    "graph = mpg.graph.random_graph.gnp_random_mpg(10, 0.5, seed=1, method=\"fast\", loops=True,\n",
    "                                              distribution=\"integers\", low=0, high=10, endpoint=True)"
   ]
  },
  {
   "cell_type": "code",
   "execution_count": 123,
   "id": "1ed80934-92d8-4292-bca8-6d68460daf35",
   "metadata": {},
   "outputs": [],
   "source": [
    "A = tf.convert_to_tensor(nx.adjacency_matrix(graph, weight=None).todense())"
   ]
  },
  {
   "cell_type": "code",
   "execution_count": 2,
   "id": "09d88bb0-a08b-417f-964c-baf019b607f5",
   "metadata": {},
   "outputs": [],
   "source": [
    "from numba import jit\n",
    "import networkx as nx\n",
    "import numpy as np\n",
    "from typing import Union, TypeVar, Type\n",
    "import mpg.games.mpg as mpg\n"
   ]
  },
  {
   "cell_type": "code",
   "execution_count": 17,
   "id": "cf280984-dc52-4e08-bee7-8e1c088ea413",
   "metadata": {},
   "outputs": [
    {
     "name": "stdout",
     "output_type": "stream",
     "text": [
      "1.19 s ± 32.3 ms per loop (mean ± std. dev. of 7 runs, 1 loop each)\n"
     ]
    }
   ],
   "source": []
  },
  {
   "cell_type": "code",
   "execution_count": 23,
   "id": "9beecdae-9d4b-4867-9388-f652a8f535b1",
   "metadata": {},
   "outputs": [],
   "source": [
    "import mpg.graph.random_graph as rg\n",
    "G= rg.gnp_random_mpg(500,0.5,seed=27,distribution=\"integers\",low=-10,high=10,endpoint=True)"
   ]
  },
  {
   "cell_type": "code",
   "execution_count": 27,
   "id": "fb3ac617-a83c-4c7d-ba9c-a5f937126a66",
   "metadata": {},
   "outputs": [
    {
     "name": "stdout",
     "output_type": "stream",
     "text": [
      "20.2 s ± 170 ms per loop (mean ± std. dev. of 7 runs, 1 loop each)\n"
     ]
    }
   ],
   "source": [
    "%timeit mpg.optimal_strategy_pair(G)"
   ]
  },
  {
   "cell_type": "code",
   "execution_count": 25,
   "id": "d61f50ae-379f-43a3-80d6-94bb19c495b5",
   "metadata": {},
   "outputs": [
    {
     "name": "stdout",
     "output_type": "stream",
     "text": [
      "664 ms ± 63.5 ms per loop (mean ± std. dev. of 7 runs, 1 loop each)\n"
     ]
    }
   ],
   "source": [
    "import mpg.wrapper as wrapper\n",
    "%timeit wrapper.optimal_strategy_pair(G)"
   ]
  },
  {
   "cell_type": "code",
   "execution_count": 110,
   "id": "25d92073-78bc-4e23-abd1-80a096a39347",
   "metadata": {},
   "outputs": [],
   "source": [
    "\n",
    "def _get_winner(A,W,vertex,player):\n",
    "    edges = []\n",
    "    for i in range(A.shape[0]):\n",
    "        for j in range(A.shape[1]):\n",
    "            if A[i,j] == 1:\n",
    "                edges.append((i,j,W[i,j]))\n",
    "    C=mpgwrapper.mpgcpp.winners_double_edges_cxx(edges)\n",
    "    return C[player][vertex]"
   ]
  },
  {
   "cell_type": "code",
   "execution_count": 77,
   "id": "4b8d24e6-ff07-48b7-8aee-8ea2c59eae9c",
   "metadata": {},
   "outputs": [],
   "source": [
    "adjacency_distribution: tfp.distributions.Distribution = tfp.distributions.Bernoulli(probs=0.57)\n",
    "d=tfp.distributions.Uniform(-10,10)"
   ]
  },
  {
   "cell_type": "code",
   "execution_count": 6,
   "id": "a9433860-4665-4ce3-a1c3-5b4d20b11c47",
   "metadata": {},
   "outputs": [
    {
     "data": {
      "text/plain": [
       "<tf.Tensor: shape=(100,), dtype=int32, numpy=\n",
       "array([1, 1, 1, 0, 1, 0, 1, 0, 0, 1, 1, 1, 0, 1, 0, 0, 0, 0, 0, 0, 1, 0,\n",
       "       0, 1, 1, 0, 0, 0, 0, 0, 1, 1, 0, 1, 1, 0, 0, 1, 0, 1, 0, 0, 0, 1,\n",
       "       1, 0, 1, 1, 0, 0, 0, 0, 0, 0, 0, 1, 0, 0, 1, 0, 1, 0, 0, 1, 0, 0,\n",
       "       1, 0, 1, 1, 0, 1, 0, 1, 0, 0, 1, 1, 1, 1, 0, 0, 0, 0, 1, 1, 1, 0,\n",
       "       0, 0, 0, 0, 0, 1, 1, 0, 1, 0, 0, 1], dtype=int32)>"
      ]
     },
     "execution_count": 6,
     "metadata": {},
     "output_type": "execute_result"
    }
   ],
   "source": []
  },
  {
   "cell_type": "code",
   "execution_count": 33,
   "id": "698966d4-5293-40ed-bc43-40f4355d173b",
   "metadata": {},
   "outputs": [
    {
     "data": {
      "text/plain": [
       "b'\\x05\\x00\\x00\\x00'"
      ]
     },
     "execution_count": 33,
     "metadata": {},
     "output_type": "execute_result"
    }
   ],
   "source": [
    "bytes(tf.constant([5]))"
   ]
  },
  {
   "cell_type": "code",
   "execution_count": 16,
   "id": "4ae00552-cce2-4302-8e8b-ad6e76c62875",
   "metadata": {},
   "outputs": [
    {
     "name": "stdout",
     "output_type": "stream",
     "text": [
      "Processing Graph 0:\n",
      "Processing Time 0.2986409664154053:\n",
      "Processing Graph 1:\n",
      "Processing Time 0.2029719352722168:\n",
      "Processing Graph 2:\n",
      "Processing Time 0.2950937747955322:\n",
      "Processing Graph 3:\n",
      "Processing Time 0.012552738189697266:\n",
      "Processing Graph 4:\n",
      "Processing Time 0.24564290046691895:\n",
      "Processing Graph 5:\n",
      "Processing Time 0.01729297637939453:\n",
      "Processing Graph 6:\n",
      "Processing Time 0.0193173885345459:\n",
      "Processing Graph 7:\n",
      "Processing Time 0.3035721778869629:\n",
      "Processing Graph 8:\n",
      "Processing Time 0.07518315315246582:\n",
      "Processing Graph 9:\n",
      "Processing Time 0.2042698860168457:\n"
     ]
    }
   ],
   "source": [
    "from importlib import reload\n",
    "import mpg.wrapper as mpgwrapper\n",
    "import time\n",
    "import mpg.graph.random_graph as rg\n",
    "times=[]\n",
    "for k in range(10):\n",
    "    G=rg.gnp_random_mpg(n=1000,p=0.001,distribution=\"normal\",loc=0,scale=1,loops=True)\n",
    "    print(f\"Processing Graph {k}:\",flush=True)\n",
    "    start=time.time()\n",
    "    mpgwrapper.mpgcpp.winners_float_edges_cxx([(int(u),int(v),int(G.edges[u,v][\"weight\"])) for u,v in G.edges])\n",
    "    end=time.time()\n",
    "    print(f\"Processing Time {end-start}:\",flush=True)\n",
    "    times.append(end-start)"
   ]
  },
  {
   "cell_type": "code",
   "execution_count": 1,
   "id": "b4ed22b7-7140-40e3-bced-6bbceb834197",
   "metadata": {},
   "outputs": [
    {
     "name": "stderr",
     "output_type": "stream",
     "text": [
      "2023-04-04 18:41:25.354470: I tensorflow/core/platform/cpu_feature_guard.cc:193] This TensorFlow binary is optimized with oneAPI Deep Neural Network Library (oneDNN) to use the following CPU instructions in performance-critical operations:  SSE4.1 SSE4.2 AVX AVX2 FMA\n",
      "To enable them in other operations, rebuild TensorFlow with the appropriate compiler flags.\n"
     ]
    },
    {
     "name": "stdout",
     "output_type": "stream",
     "text": [
      "Processing Graph 0:\n",
      "Processing Time 0.09424042701721191:\n",
      "Processing Graph 1:\n",
      "Processing Time 0.01358485221862793:\n",
      "Processing Graph 2:\n",
      "Processing Time 0.012871503829956055:\n",
      "Processing Graph 3:\n",
      "Processing Time 0.01280069351196289:\n",
      "Processing Graph 4:\n",
      "Processing Time 0.012240409851074219:\n",
      "Processing Graph 5:\n",
      "Processing Time 0.013983726501464844:\n",
      "Processing Graph 6:\n",
      "Processing Time 0.012516021728515625:\n",
      "Processing Graph 7:\n",
      "Processing Time 0.013568878173828125:\n",
      "Processing Graph 8:\n",
      "Processing Time 0.014420747756958008:\n",
      "Processing Graph 9:\n",
      "Processing Time 0.016191720962524414:\n"
     ]
    }
   ],
   "source": [
    "from importlib import reload\n",
    "import mpg.wrapper as mpgwrapper\n",
    "import time\n",
    "import mpg.graph.random_graph as rg\n",
    "import numba\n",
    "import numpy as np\n",
    "import tensorflow as tf\n",
    "import mpg.graph.random_graph\n",
    "import networkx as nx\n",
    "import itertools\n",
    "import tensorflow_probability as tfp\n",
    "import mpg.wrapper as mpgwrapper\n",
    "\n",
    "\n",
    "def _adj_matrix_generator(n,p):\n",
    "    \n",
    "    A=np.zeros([n,n],dtype=np.uint8)\n",
    "    for k in range(n):\n",
    "        A[k,:]=np.random.binomial(1,p,n)\n",
    "        while A[k,:].sum() == 0:\n",
    "            A[k,:]=np.random.binomial(1,p,n)\n",
    "    return A\n",
    "\n",
    "def _generate_dense_instances(n, p, seeder, cardinality: int, target: bool, weight_matrix: bool, flatten: bool,\n",
    "                              weight_distribution: tfp.distributions.Distribution, weight_type):\n",
    "    adjacency_distribution: tfp.distributions.Distribution = tfp.distributions.Bernoulli(probs=p,dtype=tf.bool)\n",
    "    turn_distribution: tfp.distributions.Distribution = tfp.distributions.Bernoulli(probs=0.5)\n",
    "    # discrete=tfp.distributions.DiscreteUniform(low=0,high=10)\n",
    "    shape = (n, n) if not flatten else (n * n,)\n",
    "    W = weight_distribution.sample(shape, seed=seeder())\n",
    "    dtype=weight_distribution.dtype\n",
    "    A=tf.numpy_function(_adj_matrix_generator,inp=[n,p],Tout=tf.uint8,stateful=False)\n",
    "    if flatten:\n",
    "        A=tf.reshape(A,shape=(-1,))\n",
    "    A = tf.cast(A,dtype=dtype)\n",
    "    W = tf.multiply(A, W)\n",
    "    vertex = tf.random.uniform((1,), 0, n, dtype=tf.int32, seed=seeder())\n",
    "    player = turn_distribution.sample((1,), seed=seeder())\n",
    "    if flatten:\n",
    "        if weight_matrix:\n",
    "            output = tf.concat(cast_all(dtype,A, W, vertex, player), axis=0)\n",
    "        else:\n",
    "            output = tf.concat(cast_all(dtype,A, vertex, player), axis=0)\n",
    "        if target:\n",
    "            if weight_type == tf.int32 or weight_type == tf.int64:\n",
    "                target_value = tf.py_function(\n",
    "                    lambda output: mpgwrapper.mpgcpp.winners_tensorflow_int_matrix_flattened_cxx(output.numpy().astype(np.int32).tolist()),\n",
    "                    inp=[output], Tout=tf.int32)\n",
    "            else:\n",
    "                target_value = tf.py_function(\n",
    "                    lambda output: mpgwrapper.mpgcpp.winners_tensorflow_float_matrix_flattened_cxx(output.numpy().astype(np.float32).tolist()),\n",
    "                    inp=[output], Tout=tf.float32)\n",
    "            target_value = tf.reshape(tf.ensure_shape(target_value, ()), shape=(1,))\n",
    "            return (tf.cast(output,dtype=tf.float32), tf.cast(target_value, dtype=tf.float32))\n",
    "        return output\n",
    "    else:\n",
    "        if weight_matrix:\n",
    "            output = tf.cast(tf.stack([A, W], axis=0), dtype=tf.float32)\n",
    "        else:\n",
    "            output = tf.cast(A, dtype=tf.float32)\n",
    "        if target:\n",
    "            return (output, tf.constant([vertex, player]), 1)\n",
    "        return (output, tf.constant([vertex, player]))\n",
    "\n",
    "\n",
    "def cast_all(dtype,*args):\n",
    "    return tuple(tf.cast(arg, dtype) for arg in args)\n",
    "times=[]\n",
    "with tf.device(\"/device:gpu:0\") as device:\n",
    "    for k in range(10):\n",
    "        print(f\"Processing Graph {k}:\",flush=True)\n",
    "        seeder=tfp.util.SeedStream(k,\"k\")\n",
    "        start=time.time()\n",
    "        _generate_dense_instances(n=200,p=1,seeder=seeder,cardinality=1,target=False,weight_matrix=True,flatten=True,weight_distribution=tfp.distributions.Uniform(-30,30),weight_type=\"int\")\n",
    "        end=time.time()\n",
    "        print(f\"Processing Time {end-start}:\",flush=True)\n",
    "        times.append(end-start)"
   ]
  },
  {
   "cell_type": "code",
   "execution_count": 2,
   "id": "a8c2a788-4651-436e-b68a-bcd5003b3110",
   "metadata": {},
   "outputs": [
    {
     "data": {
      "text/plain": [
       "array([[0, 1, 0, ..., 0, 0, 1],\n",
       "       [0, 0, 1, ..., 1, 1, 1],\n",
       "       [0, 1, 1, ..., 1, 0, 1],\n",
       "       ...,\n",
       "       [1, 1, 0, ..., 1, 0, 0],\n",
       "       [0, 1, 1, ..., 0, 1, 1],\n",
       "       [0, 1, 0, ..., 1, 0, 0]], dtype=uint8)"
      ]
     },
     "execution_count": 2,
     "metadata": {},
     "output_type": "execute_result"
    }
   ],
   "source": [
    "\n",
    "def _adj_matrix_generator(n,p):\n",
    "    A=np.zeros([n,n],dtype=np.uint8)\n",
    "    for k in range(n):\n",
    "        A[k,:]=np.random.binomial(1,p,n)\n",
    "        while A[k,:].sum() == 0:\n",
    "            A[k,:]=np.random.binomial(1,p,n)\n",
    "    return A\n",
    "_adj_matrix_generator(100,0.5)"
   ]
  },
  {
   "cell_type": "code",
   "execution_count": 3,
   "id": "7cdbe2ce-daac-41b5-83e2-59f25ff1196a",
   "metadata": {},
   "outputs": [
    {
     "name": "stdout",
     "output_type": "stream",
     "text": [
      "max_c=99\n",
      "radius=99500\n",
      "estimate=109\n",
      "2.0294992923736572\n",
      "max_c=99\n",
      "radius=99500\n",
      "estimate=109\n"
     ]
    }
   ],
   "source": [
    "import time\n",
    "n=100\n",
    "seeder=tfp.util.SeedStream(4,\"g\")\n",
    "X=_generate_dense_instances(n=n,p=0.1,seeder=seeder,cardinality=1,\n",
    "                          target=False,weight_matrix=True,flatten=True,weight_distribution=tfp.distributions.Uniform(-100,100),weight_type=\"int\")\n",
    "L=[]\n",
    "Z=X.numpy()\n",
    "for i in range(n):\n",
    "    for j in range(n):\n",
    "        if Z[i+n*j] == 1:\n",
    "            L.append((i,j,int(Z[i+n*j+n*n])))\n",
    "a=time.time()\n",
    "mpgwrapper.mpgcpp.winners_tensorflow_int_matrix_flattened_cxx(X.numpy().astype(int).tolist())\n",
    "b=time.time()\n",
    "print(b-a)"
   ]
  },
  {
   "cell_type": "code",
   "execution_count": 4,
   "id": "677ae2a3-06e5-4f10-8f47-b5ab6beb52a0",
   "metadata": {},
   "outputs": [
    {
     "ename": "NameError",
     "evalue": "name 'X' is not defined",
     "output_type": "error",
     "traceback": [
      "\u001b[0;31m---------------------------------------------------------------------------\u001b[0m",
      "\u001b[0;31mNameError\u001b[0m                                 Traceback (most recent call last)",
      "Cell \u001b[0;32mIn[4], line 2\u001b[0m\n\u001b[1;32m      1\u001b[0m L\u001b[38;5;241m=\u001b[39m[]\n\u001b[0;32m----> 2\u001b[0m Z\u001b[38;5;241m=\u001b[39m\u001b[43mX\u001b[49m\u001b[38;5;241m.\u001b[39mnumpy()\n\u001b[1;32m      3\u001b[0m \u001b[38;5;28;01mfor\u001b[39;00m i \u001b[38;5;129;01min\u001b[39;00m \u001b[38;5;28mrange\u001b[39m(n):\n\u001b[1;32m      4\u001b[0m     \u001b[38;5;28;01mfor\u001b[39;00m j \u001b[38;5;129;01min\u001b[39;00m \u001b[38;5;28mrange\u001b[39m(n):\n",
      "\u001b[0;31mNameError\u001b[0m: name 'X' is not defined"
     ]
    }
   ],
   "source": [
    "\n",
    "print(5)"
   ]
  },
  {
   "cell_type": "code",
   "execution_count": 59,
   "id": "75ac754f-d0fd-4999-bfc3-48dfa4eec930",
   "metadata": {},
   "outputs": [
    {
     "ename": "NameError",
     "evalue": "name 'seeder' is not defined",
     "output_type": "error",
     "traceback": [
      "\u001b[0;31m---------------------------------------------------------------------------\u001b[0m",
      "\u001b[0;31mNameError\u001b[0m                                 Traceback (most recent call last)",
      "Cell \u001b[0;32mIn[59], line 2\u001b[0m\n\u001b[1;32m      1\u001b[0m n\u001b[38;5;241m=\u001b[39m\u001b[38;5;241m100\u001b[39m\n\u001b[0;32m----> 2\u001b[0m X\u001b[38;5;241m=\u001b[39m_generate_dense_instances(n\u001b[38;5;241m=\u001b[39mn,p\u001b[38;5;241m=\u001b[39m\u001b[38;5;241m0.01\u001b[39m,seeder\u001b[38;5;241m=\u001b[39m\u001b[43mseeder\u001b[49m,cardinality\u001b[38;5;241m=\u001b[39m\u001b[38;5;241m1\u001b[39m,\n\u001b[1;32m      3\u001b[0m                           target\u001b[38;5;241m=\u001b[39m\u001b[38;5;28;01mFalse\u001b[39;00m,weight_matrix\u001b[38;5;241m=\u001b[39m\u001b[38;5;28;01mTrue\u001b[39;00m,flatten\u001b[38;5;241m=\u001b[39m\u001b[38;5;28;01mTrue\u001b[39;00m,weight_distribution\u001b[38;5;241m=\u001b[39mtfp\u001b[38;5;241m.\u001b[39mdistributions\u001b[38;5;241m.\u001b[39mUniform(\u001b[38;5;241m-\u001b[39m\u001b[38;5;241m30\u001b[39m,\u001b[38;5;241m30\u001b[39m),weight_type\u001b[38;5;241m=\u001b[39m\u001b[38;5;124m\"\u001b[39m\u001b[38;5;124mint\u001b[39m\u001b[38;5;124m\"\u001b[39m)\n",
      "\u001b[0;31mNameError\u001b[0m: name 'seeder' is not defined"
     ]
    }
   ],
   "source": [
    "n=100\n",
    "X=_generate_dense_instances(n=n,p=0.01,seeder=seeder,cardinality=1,\n",
    "                          target=False,weight_matrix=True,flatten=True,weight_distribution=tfp.distributions.Uniform(-30,30),weight_type=\"int\")"
   ]
  },
  {
   "cell_type": "code",
   "execution_count": 50,
   "id": "337ec9fa-baa7-4d6f-a0c2-6c2780218f10",
   "metadata": {},
   "outputs": [
    {
     "data": {
      "text/plain": [
       "<tf.Tensor: shape=(20002,), dtype=float32, numpy=array([ 0.,  0.,  0., ..., -0., 84.,  0.], dtype=float32)>"
      ]
     },
     "execution_count": 50,
     "metadata": {},
     "output_type": "execute_result"
    }
   ],
   "source": [
    "X"
   ]
  },
  {
   "cell_type": "code",
   "execution_count": 51,
   "id": "023b2f1d-7806-4d08-84f7-ec466c1e43d0",
   "metadata": {},
   "outputs": [],
   "source": [
    "Z=X.numpy()\n",
    "Z=Z[n*n:2*n*n].reshape((n,n))\n",
    "Z=Z.astype(np.int32)\n",
    "Z\n",
    "A=X.numpy()[:n*n].reshape((n,n))"
   ]
  },
  {
   "cell_type": "code",
   "execution_count": 52,
   "id": "e1c25174-02f5-408f-be3d-87a357b34f79",
   "metadata": {},
   "outputs": [],
   "source": [
    "import networkx as nx\n",
    "import mpg.games.mpg as mpg\n",
    "G=nx.from_numpy_array(A,create_using=mpg.MeanPayoffGraph)\n",
    "for e in G.edges:\n",
    "    u,v=e\n",
    "    G.edges[u,v][\"weight\"]=Z[u,v]"
   ]
  },
  {
   "cell_type": "code",
   "execution_count": null,
   "id": "543a5ba9-1843-41f8-801a-df8b266ab095",
   "metadata": {},
   "outputs": [],
   "source": [
    "mpgwrapper.mean_payoffs(G)"
   ]
  },
  {
   "cell_type": "code",
   "execution_count": null,
   "id": "bc1cc7b5-9807-4ba8-a47e-aaef3cd5b606",
   "metadata": {},
   "outputs": [],
   "source": []
  },
  {
   "cell_type": "code",
   "execution_count": null,
   "id": "b052c539-96f5-4dd5-a9de-4a5f4af6b4ac",
   "metadata": {},
   "outputs": [],
   "source": []
  }
 ],
 "metadata": {
  "kernelspec": {
   "display_name": "Python 3 (ipykernel)",
   "language": "python",
   "name": "python3"
  },
  "language_info": {
   "codemirror_mode": {
    "name": "ipython",
    "version": 3
   },
   "file_extension": ".py",
   "mimetype": "text/x-python",
   "name": "python",
   "nbconvert_exporter": "python",
   "pygments_lexer": "ipython3",
   "version": "3.10.9"
  }
 },
 "nbformat": 4,
 "nbformat_minor": 5
}
