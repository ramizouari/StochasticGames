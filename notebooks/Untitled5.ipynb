{
 "cells": [
  {
   "cell_type": "code",
   "execution_count": 60,
   "id": "77bea353-68be-48a8-b855-247874a1393c",
   "metadata": {},
   "outputs": [],
   "source": [
    "import reverb\n",
    "import tensorflow as tf"
   ]
  },
  {
   "cell_type": "code",
   "execution_count": 65,
   "id": "30245a13-27f2-4064-9710-c7e54a2dd5d9",
   "metadata": {},
   "outputs": [
    {
     "name": "stderr",
     "output_type": "stream",
     "text": [
      "[reverb/cc/platform/tfrecord_checkpointer.cc:162]  Initializing TFRecordCheckpointer in /tmp/tmpwfb2rtdk.\n",
      "[reverb/cc/platform/tfrecord_checkpointer.cc:567] Loading latest checkpoint from /tmp/tmpwfb2rtdk\n",
      "[reverb/cc/platform/default/server.cc:71] Started replay server on port 8000\n",
      "[reverb/cc/platform/default/server.cc:84] Shutting down replay server\n"
     ]
    }
   ],
   "source": [
    "table=reverb.Table(\n",
    "                 name='table',\n",
    "                 sampler=reverb.selectors.Uniform(),\n",
    "                 remover=reverb.selectors.Fifo(),\n",
    "                 max_size=65000,\n",
    "                signature=\n",
    "            [\n",
    "                tf.TensorSpec([None,None,2],\n",
    "                              tf.float32),\n",
    "           \n",
    "                tf.TensorSpec([],\n",
    "                              tf.float32)]\n",
    "        ,\n",
    "    \n",
    "                 rate_limiter=reverb.rate_limiters.MinSize(1)\n",
    "            )\n",
    "reverb_server = reverb.Server(tables=[table], port=8000)"
   ]
  },
  {
   "cell_type": "code",
   "execution_count": 66,
   "id": "5c3c1e80-0004-4090-9be0-6ed10d75edba",
   "metadata": {},
   "outputs": [],
   "source": [
    "client=reverb_server.localhost_client()"
   ]
  },
  {
   "cell_type": "code",
   "execution_count": 67,
   "id": "ae4f4204-0fc6-497b-a66e-15244c8b6b85",
   "metadata": {},
   "outputs": [],
   "source": [
    "import mpg.ml.dataset.generator as gen\n",
    "import numpy as np"
   ]
  },
  {
   "cell_type": "code",
   "execution_count": 68,
   "id": "78cf0972-4d06-4f1d-91bf-094b4efbf4b2",
   "metadata": {},
   "outputs": [],
   "source": [
    "with client.writer(max_sequence_length=1) as writer:\n",
    "    for n in  [1,2,3,5]:\n",
    "        A=tf.random.uniform(shape=[n,n])\n",
    "        W=tf.random.uniform(shape=[n,n])\n",
    "        v=tf.random.uniform(shape=())\n",
    "        writer.append([tf.stack([A,W],axis=-1),v])\n",
    "        writer.create_item(table=\"table\",priority=1,num_timesteps=1)\n",
    "    writer.flush()"
   ]
  },
  {
   "cell_type": "code",
   "execution_count": 70,
   "id": "6eb5f296-eb4a-4305-a16c-9255682f9ad1",
   "metadata": {},
   "outputs": [
    {
     "data": {
      "text/plain": [
       "4"
      ]
     },
     "execution_count": 70,
     "metadata": {},
     "output_type": "execute_result"
    }
   ],
   "source": [
    "client.server_info()[\"table\"].current_size"
   ]
  },
  {
   "cell_type": "code",
   "execution_count": 58,
   "id": "c1182e74-2059-4700-a5f9-68fc7b8845bf",
   "metadata": {},
   "outputs": [],
   "source": [
    "dataset=client.sample(\"table\",1,emit_timesteps=False)"
   ]
  },
  {
   "cell_type": "code",
   "execution_count": 59,
   "id": "faaf69da-c1a1-4f56-a9a5-c5c1c442e4aa",
   "metadata": {},
   "outputs": [
    {
     "name": "stdout",
     "output_type": "stream",
     "text": [
      "(2, 2, 2, 2)\n"
     ]
    },
    {
     "name": "stderr",
     "output_type": "stream",
     "text": [
      "[reverb/cc/client.cc:165] Sampler and server are owned by the same process (2530229) so Table table is accessed directly without gRPC.\n"
     ]
    }
   ],
   "source": [
    "for k in dataset:\n",
    "    print(k.data[0].shape)\n",
    "    break"
   ]
  },
  {
   "cell_type": "code",
   "execution_count": 4,
   "id": "eccb73a6-5917-45aa-b276-a284a041da86",
   "metadata": {},
   "outputs": [],
   "source": [
    "with client.trajectory_writer(num_keep_alive_refs=3) as writer:\n",
    "    writer.append({'a': 2, 'b': 12})\n",
    "    writer.append({'a': 3, 'b': 13})\n",
    "    writer.append({'a': 4, 'b': 14})\n",
    "\n",
    "    # Create an item referencing all the data.\n",
    "    writer.create_item(\n",
    "      table='table',\n",
    "      priority=1.0,\n",
    "      trajectory={\n",
    "          'a': writer.history['a'][:],\n",
    "          'b': writer.history['b'][:],\n",
    "      })\n",
    "\n",
    "    # Block until the item has been inserted and confirmed by the server.\n",
    "    writer.flush()"
   ]
  },
  {
   "cell_type": "code",
   "execution_count": null,
   "id": "75d65ac2-1180-4225-9aa1-48b38d03211b",
   "metadata": {},
   "outputs": [
    {
     "name": "stderr",
     "output_type": "stream",
     "text": [
      "[reverb/cc/client.cc:165] Sampler and server are owned by the same process (1493666) so Table table is accessed directly without gRPC.\n"
     ]
    }
   ],
   "source": [
    "print(list(client.sample('table', num_samples=2)))\n"
   ]
  },
  {
   "cell_type": "code",
   "execution_count": 39,
   "id": "d02cc676-cae7-458a-80c0-95abed17d184",
   "metadata": {},
   "outputs": [
    {
     "data": {
      "text/plain": [
       "TableInfo(name='table', sampler_options=uniform: true\n",
       ", remover_options=fifo: true\n",
       "is_deterministic: true\n",
       ", max_size=65000, max_times_sampled=0, rate_limiter_info=samples_per_insert: 1\n",
       "min_diff: -1.7976931348623157e+308\n",
       "max_diff: 1.7976931348623157e+308\n",
       "min_size_to_sample: 1\n",
       "insert_stats {\n",
       "  completed: 3\n",
       "}\n",
       "sample_stats {\n",
       "  completed: 3\n",
       "}\n",
       ", signature=None, current_size=3, num_episodes=3, num_deleted_episodes=0, num_unique_samples=2, table_worker_time=sleeping_ms: 78794\n",
       ")"
      ]
     },
     "execution_count": 39,
     "metadata": {},
     "output_type": "execute_result"
    }
   ],
   "source": []
  },
  {
   "cell_type": "code",
   "execution_count": 6,
   "id": "05d1b3fb-d19a-470d-a0ef-732a233295ab",
   "metadata": {},
   "outputs": [],
   "source": [
    "dataset2=reverb.TimestepDataset.from_table_signature(\"localhost:8000\",\"table\",max_in_flight_samples_per_worker=10)"
   ]
  },
  {
   "cell_type": "code",
   "execution_count": 8,
   "id": "ee544336-612b-4cb7-9f8b-de49212da125",
   "metadata": {},
   "outputs": [
    {
     "name": "stderr",
     "output_type": "stream",
     "text": [
      "[reverb/cc/client.cc:165] Sampler and server are owned by the same process (1496204) so Table table is accessed directly without gRPC.\n"
     ]
    },
    {
     "data": {
      "text/plain": [
       "ReplaySample(info=SampleInfo(key=<tf.Tensor: shape=(), dtype=uint64, numpy=17596500392063279357>, probability=<tf.Tensor: shape=(), dtype=float64, numpy=1.0>, table_size=<tf.Tensor: shape=(), dtype=int64, numpy=4>, priority=<tf.Tensor: shape=(), dtype=float64, numpy=1.0>, times_sampled=<tf.Tensor: shape=(), dtype=int32, numpy=11>), data={'state': <tf.Tensor: shape=(), dtype=float32, numpy=0.49774885>, 'environment': <tf.Tensor: shape=(1, 1, 2), dtype=float32, numpy=array([[[0.8454232 , 0.04760706]]], dtype=float32)>})"
      ]
     },
     "execution_count": 8,
     "metadata": {},
     "output_type": "execute_result"
    }
   ],
   "source": [
    "next(iter(dataset2))"
   ]
  },
  {
   "cell_type": "code",
   "execution_count": 85,
   "id": "f9917d03-adbe-45fa-8d87-8e37238db1e0",
   "metadata": {},
   "outputs": [],
   "source": [
    "replay=dataset2.skip(1)"
   ]
  },
  {
   "cell_type": "code",
   "execution_count": 86,
   "id": "e4b82db7-2a60-46c2-becc-d2b0705d0e96",
   "metadata": {},
   "outputs": [],
   "source": [
    "replay=next(iter(replay))"
   ]
  },
  {
   "cell_type": "code",
   "execution_count": 87,
   "id": "52fb3a0d-d1cb-45c6-88b9-b42b04fd99f1",
   "metadata": {},
   "outputs": [
    {
     "data": {
      "text/plain": [
       "{'state': <tf.Tensor: shape=(), dtype=float32, numpy=0.57800925>,\n",
       " 'environment': <tf.Tensor: shape=(5, 5, 2), dtype=float32, numpy=\n",
       " array([[[0.22750628, 0.5832697 ],\n",
       "         [0.86505675, 0.10401309],\n",
       "         [0.20687664, 0.3058145 ],\n",
       "         [0.2234062 , 0.8591584 ],\n",
       "         [0.6675446 , 0.27603495]],\n",
       " \n",
       "        [[0.8345144 , 0.45825958],\n",
       "         [0.74715424, 0.78297615],\n",
       "         [0.7780688 , 0.41035748],\n",
       "         [0.03698099, 0.67571926],\n",
       "         [0.3375945 , 0.43015003]],\n",
       " \n",
       "        [[0.47619116, 0.7298639 ],\n",
       "         [0.248451  , 0.8680376 ],\n",
       "         [0.6604856 , 0.86580634],\n",
       "         [0.69490933, 0.98098385],\n",
       "         [0.03313601, 0.88633764]],\n",
       " \n",
       "        [[0.7755816 , 0.10151064],\n",
       "         [0.6948798 , 0.6425749 ],\n",
       "         [0.09303379, 0.5171981 ],\n",
       "         [0.6281872 , 0.5559063 ],\n",
       "         [0.37633646, 0.48895645]],\n",
       " \n",
       "        [[0.04617739, 0.10574234],\n",
       "         [0.28436494, 0.7769892 ],\n",
       "         [0.3978827 , 0.54584026],\n",
       "         [0.702816  , 0.56703997],\n",
       "         [0.8281907 , 0.6798161 ]]], dtype=float32)>}"
      ]
     },
     "execution_count": 87,
     "metadata": {},
     "output_type": "execute_result"
    }
   ],
   "source": [
    "replay.data"
   ]
  },
  {
   "cell_type": "code",
   "execution_count": 88,
   "id": "347bd3fc-2835-422f-b283-926375943d85",
   "metadata": {},
   "outputs": [
    {
     "data": {
      "text/plain": [
       "TableInfo(name='table', sampler_options=uniform: true\n",
       ", remover_options=fifo: true\n",
       "is_deterministic: true\n",
       ", max_size=65000, max_times_sampled=0, rate_limiter_info=samples_per_insert: 1\n",
       "min_diff: -1.7976931348623157e+308\n",
       "max_diff: 1.7976931348623157e+308\n",
       "min_size_to_sample: 1\n",
       "insert_stats {\n",
       "  completed: 4\n",
       "}\n",
       "sample_stats {\n",
       "  completed: 260\n",
       "}\n",
       ", signature={'environment': TensorSpec(shape=(None, None, 2), dtype=tf.float32, name=None), 'state': TensorSpec(shape=(), dtype=tf.float32, name=None)}, current_size=4, num_episodes=4, num_deleted_episodes=0, num_unique_samples=4, table_worker_time=sleeping_ms: 453487\n",
       ")"
      ]
     },
     "execution_count": 88,
     "metadata": {},
     "output_type": "execute_result"
    }
   ],
   "source": [
    "table.info"
   ]
  },
  {
   "cell_type": "code",
   "execution_count": 98,
   "id": "ee0e6ce5-e12d-4f74-94be-2ef8dcf21aec",
   "metadata": {},
   "outputs": [
    {
     "data": {
      "text/plain": [
       "<_GatheringFuture pending>"
      ]
     },
     "execution_count": 98,
     "metadata": {},
     "output_type": "execute_result"
    },
    {
     "name": "stdout",
     "output_type": "stream",
     "text": [
      "HOla\n",
      "COLA\n",
      "OO\n",
      "CC\n"
     ]
    }
   ],
   "source": [
    "import asyncio\n",
    "# Online Python compiler (interpreter) to run Python online.\n",
    "# Write Python 3 code in this online editor and run it.\n",
    "async def A():\n",
    "    print(\"HOla\")\n",
    "    await asyncio.sleep(5)\n",
    "    print(\"OO\")\n",
    "    \n",
    "async def B():\n",
    "    print(\"COLA\")\n",
    "    await asyncio.sleep(5)\n",
    "    print(\"CC\")\n",
    "    \n",
    "asyncio.gather(A(),B())"
   ]
  },
  {
   "cell_type": "code",
   "execution_count": 33,
   "id": "b8c0c480-d9a3-49a4-8f51-c3d067eb258c",
   "metadata": {},
   "outputs": [],
   "source": [
    "a=client.sample(\"table\",2)"
   ]
  },
  {
   "cell_type": "code",
   "execution_count": 34,
   "id": "61668a27-18a3-4aa6-a766-3af8970a1902",
   "metadata": {},
   "outputs": [],
   "source": [
    "names=[\"environment\",\"state\"]\n",
    "a= [ dict(zip(names,z[0].data)) for z in a]"
   ]
  },
  {
   "cell_type": "code",
   "execution_count": 35,
   "id": "c575855c-916b-4f5f-b0f2-cf483a8e9b7f",
   "metadata": {},
   "outputs": [
    {
     "data": {
      "text/plain": [
       "[{'environment': array(0.98913467, dtype=float32),\n",
       "  'state': array([[[0.18964303, 0.66071284],\n",
       "          [0.07515097, 0.9688363 ],\n",
       "          [0.37223458, 0.05682504],\n",
       "          [0.8417206 , 0.4246173 ],\n",
       "          [0.05307496, 0.7297653 ]],\n",
       "  \n",
       "         [[0.95934165, 0.5798961 ],\n",
       "          [0.37970984, 0.03373742],\n",
       "          [0.1492467 , 0.12759602],\n",
       "          [0.8235059 , 0.6620413 ],\n",
       "          [0.33073735, 0.96749485]],\n",
       "  \n",
       "         [[0.31027055, 0.5251578 ],\n",
       "          [0.07770598, 0.5633315 ],\n",
       "          [0.23489213, 0.46311712],\n",
       "          [0.26119328, 0.14406645],\n",
       "          [0.5889164 , 0.598019  ]],\n",
       "  \n",
       "         [[0.6984408 , 0.91712475],\n",
       "          [0.18235064, 0.02049029],\n",
       "          [0.4754548 , 0.35344374],\n",
       "          [0.9772159 , 0.51109827],\n",
       "          [0.81730187, 0.6915761 ]],\n",
       "  \n",
       "         [[0.6174283 , 0.43172526],\n",
       "          [0.00889611, 0.05513704],\n",
       "          [0.35045362, 0.26662838],\n",
       "          [0.36207092, 0.63193023],\n",
       "          [0.9768071 , 0.98974967]]], dtype=float32)},\n",
       " {'environment': array(0.98913467, dtype=float32),\n",
       "  'state': array([[[0.18964303, 0.66071284],\n",
       "          [0.07515097, 0.9688363 ],\n",
       "          [0.37223458, 0.05682504],\n",
       "          [0.8417206 , 0.4246173 ],\n",
       "          [0.05307496, 0.7297653 ]],\n",
       "  \n",
       "         [[0.95934165, 0.5798961 ],\n",
       "          [0.37970984, 0.03373742],\n",
       "          [0.1492467 , 0.12759602],\n",
       "          [0.8235059 , 0.6620413 ],\n",
       "          [0.33073735, 0.96749485]],\n",
       "  \n",
       "         [[0.31027055, 0.5251578 ],\n",
       "          [0.07770598, 0.5633315 ],\n",
       "          [0.23489213, 0.46311712],\n",
       "          [0.26119328, 0.14406645],\n",
       "          [0.5889164 , 0.598019  ]],\n",
       "  \n",
       "         [[0.6984408 , 0.91712475],\n",
       "          [0.18235064, 0.02049029],\n",
       "          [0.4754548 , 0.35344374],\n",
       "          [0.9772159 , 0.51109827],\n",
       "          [0.81730187, 0.6915761 ]],\n",
       "  \n",
       "         [[0.6174283 , 0.43172526],\n",
       "          [0.00889611, 0.05513704],\n",
       "          [0.35045362, 0.26662838],\n",
       "          [0.36207092, 0.63193023],\n",
       "          [0.9768071 , 0.98974967]]], dtype=float32)}]"
      ]
     },
     "execution_count": 35,
     "metadata": {},
     "output_type": "execute_result"
    }
   ],
   "source": [
    "a"
   ]
  },
  {
   "cell_type": "code",
   "execution_count": 48,
   "id": "5bf25f2e-701c-4708-a538-3e7235f56f1f",
   "metadata": {},
   "outputs": [
    {
     "data": {
      "text/plain": [
       "True"
      ]
     },
     "execution_count": 48,
     "metadata": {},
     "output_type": "execute_result"
    }
   ],
   "source": [
    "table.can_insert(10000000)"
   ]
  },
  {
   "cell_type": "code",
   "execution_count": 52,
   "id": "f0caa4af-be0e-4fc5-a9da-569ad2bed16d",
   "metadata": {},
   "outputs": [
    {
     "data": {
      "text/plain": [
       "TableInfo(name='table', sampler_options=uniform: true\n",
       ", remover_options=fifo: true\n",
       "is_deterministic: true\n",
       ", max_size=65000, max_times_sampled=0, rate_limiter_info=samples_per_insert: 1\n",
       "min_diff: -1.7976931348623157e+308\n",
       "max_diff: 1.7976931348623157e+308\n",
       "min_size_to_sample: 1\n",
       "insert_stats {\n",
       "  completed: 4\n",
       "}\n",
       "sample_stats {\n",
       "  completed: 12\n",
       "}\n",
       ", signature={'environment': TensorSpec(shape=(), dtype=tf.float32, name=None), 'state': TensorSpec(shape=(None, None, 2), dtype=tf.float32, name=None)}, current_size=4, num_episodes=1, num_deleted_episodes=0, num_unique_samples=4, table_worker_time=sleeping_ms: 3925900\n",
       ")"
      ]
     },
     "execution_count": 52,
     "metadata": {},
     "output_type": "execute_result"
    }
   ],
   "source": [
    "client.server_info()[\"table\"]"
   ]
  },
  {
   "cell_type": "code",
   "execution_count": 56,
   "id": "7c76d755-a504-4dd8-ad9a-ad880a586eda",
   "metadata": {},
   "outputs": [],
   "source": [
    "class X:\n",
    "    @property\n",
    "    def random(self):\n",
    "        return random.randint(0,100)"
   ]
  },
  {
   "cell_type": "code",
   "execution_count": 55,
   "id": "730c55f5-d586-40c5-b015-4d6e5f9eb2a6",
   "metadata": {},
   "outputs": [
    {
     "data": {
      "text/plain": [
       "28"
      ]
     },
     "execution_count": 55,
     "metadata": {},
     "output_type": "execute_result"
    }
   ],
   "source": [
    "import random\n"
   ]
  },
  {
   "cell_type": "code",
   "execution_count": 57,
   "id": "adb02e76-c6a7-4eec-acfb-e3a74edd6f04",
   "metadata": {},
   "outputs": [],
   "source": [
    "a=X()"
   ]
  },
  {
   "cell_type": "code",
   "execution_count": 62,
   "id": "f58b793e-4f9f-40a2-8c48-031d9102924b",
   "metadata": {},
   "outputs": [
    {
     "data": {
      "text/plain": [
       "51"
      ]
     },
     "execution_count": 62,
     "metadata": {},
     "output_type": "execute_result"
    }
   ],
   "source": [
    "a.random"
   ]
  },
  {
   "cell_type": "code",
   "execution_count": 22,
   "id": "0537f0fa-7d90-49bd-9126-4cab95ba87b2",
   "metadata": {},
   "outputs": [],
   "source": [
    "import reverb\n",
    "import tensorflow as tf\n",
    "client=reverb.Client(f\"localhost:50051\")"
   ]
  },
  {
   "cell_type": "code",
   "execution_count": 23,
   "id": "2aac2e97-e0b1-4010-86e0-4c158fe5e949",
   "metadata": {},
   "outputs": [
    {
     "data": {
      "text/plain": [
       "1696"
      ]
     },
     "execution_count": 23,
     "metadata": {},
     "output_type": "execute_result"
    }
   ],
   "source": [
    "client.server_info()[\"mpg\"].current_size"
   ]
  },
  {
   "cell_type": "code",
   "execution_count": 189,
   "id": "4b6a2819-b8ae-4a81-afb9-51d7ed4ff5d4",
   "metadata": {},
   "outputs": [],
   "source": [
    "x= next(iter(client.sample(\"mpg\",1)))"
   ]
  },
  {
   "cell_type": "code",
   "execution_count": 190,
   "id": "12712e6a-03b7-426e-864e-bc6c08097c98",
   "metadata": {},
   "outputs": [],
   "source": [
    "x,y,z,w=x[0].data"
   ]
  },
  {
   "cell_type": "code",
   "execution_count": 4,
   "id": "3ed97212-2374-4b08-8320-f673cf4c798e",
   "metadata": {},
   "outputs": [],
   "source": [
    "import reverb"
   ]
  },
  {
   "cell_type": "code",
   "execution_count": 3,
   "id": "06a0e0bc-9137-4e74-ac9a-d45531940e7a",
   "metadata": {},
   "outputs": [
    {
     "name": "stderr",
     "output_type": "stream",
     "text": [
      "2023-06-25 07:49:42.749941: E tensorflow/compiler/xla/stream_executor/cuda/cuda_driver.cc:266] failed call to cuInit: CUDA_ERROR_UNKNOWN: unknown error\n",
      "2023-06-25 07:49:42.749984: I tensorflow/compiler/xla/stream_executor/cuda/cuda_diagnostics.cc:168] retrieving CUDA diagnostic information for host: fedora\n",
      "2023-06-25 07:49:42.749995: I tensorflow/compiler/xla/stream_executor/cuda/cuda_diagnostics.cc:175] hostname: fedora\n",
      "2023-06-25 07:49:42.750149: I tensorflow/compiler/xla/stream_executor/cuda/cuda_diagnostics.cc:199] libcuda reported version is: 525.116.4\n",
      "2023-06-25 07:49:42.750178: I tensorflow/compiler/xla/stream_executor/cuda/cuda_diagnostics.cc:203] kernel reported version is: 525.116.4\n",
      "2023-06-25 07:49:42.750188: I tensorflow/compiler/xla/stream_executor/cuda/cuda_diagnostics.cc:309] kernel version seems to match DSO: 525.116.4\n"
     ]
    },
    {
     "data": {
      "text/plain": [
       "<TimestepDataset element_spec=ReplaySample(info=SampleInfo(key=TensorSpec(shape=(), dtype=tf.uint64, name=None), probability=TensorSpec(shape=(), dtype=tf.float64, name=None), table_size=TensorSpec(shape=(), dtype=tf.int64, name=None), priority=TensorSpec(shape=(), dtype=tf.float64, name=None), times_sampled=TensorSpec(shape=(), dtype=tf.int32, name=None)), data=(TensorSpec(shape=(None, None, 2), dtype=tf.float32, name=None), TensorSpec(shape=(1,), dtype=tf.float32, name=None), TensorSpec(shape=(), dtype=tf.float32, name=None), TensorSpec(shape=(None,), dtype=tf.float32, name=None)))>"
      ]
     },
     "execution_count": 3,
     "metadata": {},
     "output_type": "execute_result"
    }
   ],
   "source": [
    "reverb.TimestepDataset.from_table_signature(\"localhost:50051\", \"mpg\",\n",
    "                                                                  max_in_flight_samples_per_worker=192,\n",
    "                                                            get_signature_timeout_secs=None)"
   ]
  },
  {
   "cell_type": "code",
   "execution_count": 30,
   "id": "50420204-89f4-41a2-bb0c-42a4987d7062",
   "metadata": {},
   "outputs": [],
   "source": [
    "import pandas\n",
    "df=pandas.read_json(\"actors_stats_fedora.ndjson\",lines=True)"
   ]
  },
  {
   "cell_type": "code",
   "execution_count": null,
   "id": "6e1538af-76ab-41f9-86ab-a85678b072f4",
   "metadata": {},
   "outputs": [],
   "source": []
  },
  {
   "cell_type": "code",
   "execution_count": null,
   "id": "e72b59bd-7d66-47b2-be78-f8ef4d464a8b",
   "metadata": {},
   "outputs": [],
   "source": []
  }
 ],
 "metadata": {
  "kernelspec": {
   "display_name": "Python 3 (ipykernel)",
   "language": "python",
   "name": "python3"
  },
  "language_info": {
   "codemirror_mode": {
    "name": "ipython",
    "version": 3
   },
   "file_extension": ".py",
   "mimetype": "text/x-python",
   "name": "python",
   "nbconvert_exporter": "python",
   "pygments_lexer": "ipython3",
   "version": "3.10.11"
  }
 },
 "nbformat": 4,
 "nbformat_minor": 5
}
