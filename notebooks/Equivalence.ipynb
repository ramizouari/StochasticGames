{
 "cells": [
  {
   "cell_type": "markdown",
   "id": "f4d6d03c-40ff-40f3-962f-8db9c5fdd0f0",
   "metadata": {},
   "source": [
    "# Equivalence between MPG and Ternary Max Atom systems\n",
    "## 1. Equivalence between Max Atom and Ternary Max Atom System\n",
    "The equivalence is proven in detail on the **Max Atom** markdown file.\n",
    "\n",
    "### 1.1 Reduction\n",
    "The main idea is for each constraint:\n",
    "$$\n",
    "R:x\\le \\max Y+c\n",
    "$$\n",
    "Where: \n",
    "- $x$ is a variable \n",
    "- $Y$ is a subset of variables having **more than** $2$ elements.\n",
    "- $c$ is a constant.\n",
    "\n",
    "We select two **distinct** variables $y,z\\in Y$. We add a new variable $w,$ and reduce the arity of $R$ as follow:\n",
    "$$\n",
    "R':x \\le \\max Y'+c\n",
    "$$\n",
    "With, $Y'=(Y\\cup\\{w\\})\\setminus\\{y,z\\}.$\n",
    "\n",
    "We also couple $w$ with $y,z$ by adding the following constraint:\n",
    "$$\n",
    "w\\le \\max(y,z)\n",
    "$$\n",
    "Note that the new relation is **ternary**, so it does not need to be reduced.\n",
    "\n",
    "### 1.2 Induction\n",
    "The construction will be applied iteratively, until the arity of each relation $R$ is **less or equal to** $3.$\n",
    "\n",
    "Now, after reducing all high-arity constraints, we must augment **binary** constraints as follow:\n",
    "$$\n",
    "R:x\\le \\max(y)+c \\iff R:x \\le \\max(y,y)+c  \n",
    "$$\n",
    "With that the new system will be a ternary system.\n",
    "### 1.3 Example\n",
    "#### 1.3.1 Max Atom System"
   ]
  },
  {
   "cell_type": "code",
   "execution_count": 1,
   "id": "446aad18-a227-498a-8518-7d27d2f8c074",
   "metadata": {},
   "outputs": [
    {
     "data": {
      "text/latex": [
       "System of 3 max constraints:\n",
       "        \\begin{align*}\n",
       "        X[1] & \\leq \\max(X[1],X[2],X[3]) + -1\\\\\n",
       "\tX[2] & \\leq \\max(X[1],X[2],X[3]) + -1\\\\\n",
       "\tX[3] & \\leq \\max(X[1],X[2],X[3]) + -1\n",
       "        \\end{align*}\n",
       "        "
      ],
      "text/plain": [
       "System of 3 max constraints:\n",
       "\tX[1] <= max(X[1],X[2],X[3]) + -1\n",
       "\tX[2] <= max(X[1],X[2],X[3]) + -1\n",
       "\tX[3] <= max(X[1],X[2],X[3]) + -1"
      ]
     },
     "execution_count": 1,
     "metadata": {},
     "output_type": "execute_result"
    }
   ],
   "source": [
    "import mpg.csp.max_atom as ma\n",
    "import mpg.csp.constraint_satisfaction as cs\n",
    "VG=cs.VariableGenerator(name=\"X\")\n",
    "S=ma.MaxAtomSystem()\n",
    "x=VG()\n",
    "y=VG()\n",
    "z=VG()\n",
    "S.add_constraint(x,[x,y,z],-1)\n",
    "S.add_constraint(y,[x,y,z],-1)\n",
    "S.add_constraint(z,[x,y,z],-1)\n",
    "S"
   ]
  },
  {
   "cell_type": "markdown",
   "id": "5eaf4366-4979-42dd-aba5-43ecfb68dc0b",
   "metadata": {},
   "source": [
    "#### 1.3.2 Equivalent Ternary System"
   ]
  },
  {
   "cell_type": "code",
   "execution_count": 2,
   "id": "6003c968-bc66-4374-8778-17ad3d774062",
   "metadata": {},
   "outputs": [
    {
     "data": {
      "text/latex": [
       "System of 4 equations:\n",
       "        \\begin{align*}\n",
       "P[1] &\\leq \\max(X[3],X[2]) + 0\\\\X[1] &\\leq \\max(X[1],P[1]) + -1\\\\X[2] &\\leq \\max(X[1],P[1]) + -1\\\\X[3] &\\leq \\max(X[1],P[1]) + -1\n",
       "\\end{align*}"
      ],
      "text/plain": [
       "System of 4 equations:\n",
       "\tP[1] <= max(X[3],X[2]) + 0\n",
       "\tX[1] <= max(X[1],P[1]) + -1\n",
       "\tX[2] <= max(X[1],P[1]) + -1\n",
       "\tX[3] <= max(X[1],P[1]) + -1"
      ]
     },
     "execution_count": 2,
     "metadata": {},
     "output_type": "execute_result"
    }
   ],
   "source": [
    "S_eq=S.equivalent_system\n",
    "S_eq"
   ]
  },
  {
   "cell_type": "markdown",
   "id": "08719724-fdc6-4f42-a538-b4640d240f52",
   "metadata": {},
   "source": [
    "#### 1.3.3 Solution"
   ]
  },
  {
   "cell_type": "code",
   "execution_count": 5,
   "id": "5910d42e-03de-4a22-9bc2-fed18217822e",
   "metadata": {},
   "outputs": [
    {
     "data": {
      "text/plain": [
       "{X[3]: '-inf', X[1]: '-inf', X[2]: '-inf'}"
      ]
     },
     "execution_count": 5,
     "metadata": {},
     "output_type": "execute_result"
    }
   ],
   "source": [
    "S.solve(method=\"ACOCXX\")"
   ]
  },
  {
   "cell_type": "markdown",
   "id": "cbf16fe4-c4a9-48a7-826b-e205a9fc05b5",
   "metadata": {},
   "source": [
    "## 2. Equivalence between Min Max problem and Max atom\n",
    "### 2.2 Example\n",
    "#### 2.2.1 Min Max System"
   ]
  },
  {
   "cell_type": "code",
   "execution_count": 5,
   "id": "e419362c-8309-42f1-9e1e-7119bb980213",
   "metadata": {},
   "outputs": [
    {
     "data": {
      "text/latex": [
       "System of 3 min-max constraints:\n",
       "        \\begin{align*}\n",
       "        X & \\leq \\max(X+1,Y+2,Z+-1)\\\\\n",
       "Y & \\leq \\min(X+3,Y+2,Z+-1)\\\\\n",
       "Z & \\leq \\max(X+5,Y+1,Z+-1) \n",
       "        \\end{align*}"
      ],
      "text/plain": [
       "System of 3 min-max constraints:\n",
       "\tX <= max(X+1,Y+2,Z+-1)\n",
       "\tY <= min(X+3,Y+2,Z+-1)\n",
       "\tZ <= max(X+5,Y+1,Z+-1)"
      ]
     },
     "execution_count": 5,
     "metadata": {},
     "output_type": "execute_result"
    }
   ],
   "source": [
    "import mpg.csp.max_atom as ma\n",
    "import mpg.csp.constraint_satisfaction as cs\n",
    "VG=cs.VariableGenerator(name=\"X\")\n",
    "S=ma.MinMaxSystem()\n",
    "x=cs.Variable(id=0,name=\"X\")\n",
    "y=cs.Variable(id=1,name=\"Y\")\n",
    "z=cs.Variable(id=2,name=\"Z\")\n",
    "S.add_constraint(\"max\",x,[x,y,z],[1,2,-1])\n",
    "S.add_constraint(\"min\",y,[x,y,z],[3,2,-1])\n",
    "S.add_constraint(\"max\",z,[x,y,z],[5,1,-1])\n",
    "S"
   ]
  },
  {
   "cell_type": "markdown",
   "id": "69d609b5-a464-411d-bf6e-ad546f13dbba",
   "metadata": {},
   "source": [
    "#### 2.2.2 Equivalent Max Atom System"
   ]
  },
  {
   "cell_type": "code",
   "execution_count": 6,
   "id": "1c2cff02-bba0-4a52-9059-9795a2bfd08f",
   "metadata": {},
   "outputs": [
    {
     "data": {
      "text/latex": [
       "System of 11 max constraints:\n",
       "        \\begin{align*}\n",
       "        S[1] & \\leq \\max(X,X) + 1\\\\\n",
       "\tS[2] & \\leq \\max(Y,Y) + 2\\\\\n",
       "\tS[3] & \\leq \\max(Z,Z) + -1\\\\\n",
       "\tS[3] & \\leq \\max(Z,Z) + -1\\\\\n",
       "\tS[4] & \\leq \\max(X,X) + 5\\\\\n",
       "\tS[5] & \\leq \\max(Y,Y) + 1\\\\\n",
       "\tX & \\leq \\max(S[1],S[2],S[3]) + 0\\\\\n",
       "\tY & \\leq \\max(X,X) + 3\\\\\n",
       "\tY & \\leq \\max(Y,Y) + 2\\\\\n",
       "\tY & \\leq \\max(Z,Z) + -1\\\\\n",
       "\tZ & \\leq \\max(S[4],S[5],S[3]) + 0\n",
       "        \\end{align*}\n",
       "        "
      ],
      "text/plain": [
       "System of 11 max constraints:\n",
       "\tS[1] <= max(X,X) + 1\n",
       "\tS[2] <= max(Y,Y) + 2\n",
       "\tS[3] <= max(Z,Z) + -1\n",
       "\tX <= max(S[1],S[2],S[3]) + 0\n",
       "\tY <= max(X,X) + 3\n",
       "\tY <= max(Y,Y) + 2\n",
       "\tY <= max(Z,Z) + -1\n",
       "\tS[4] <= max(X,X) + 5\n",
       "\tS[5] <= max(Y,Y) + 1\n",
       "\tS[3] <= max(Z,Z) + -1\n",
       "\tZ <= max(S[4],S[5],S[3]) + 0"
      ]
     },
     "execution_count": 6,
     "metadata": {},
     "output_type": "execute_result"
    }
   ],
   "source": [
    "S.equivalent_system"
   ]
  },
  {
   "cell_type": "markdown",
   "id": "76070c8e-18ea-4a6a-8895-389ad4df1a46",
   "metadata": {},
   "source": [
    "#### 2.2.3 Solving the System"
   ]
  },
  {
   "cell_type": "code",
   "execution_count": 7,
   "id": "ec7bf0ae-36a0-4b78-b241-a7a8e5fd26c9",
   "metadata": {},
   "outputs": [
    {
     "data": {
      "text/plain": [
       "{X: 20, Y: 19, Z: 20}"
      ]
     },
     "execution_count": 7,
     "metadata": {},
     "output_type": "execute_result"
    }
   ],
   "source": [
    "assignment=S.solve(L=-20,R=20)\n",
    "assignment"
   ]
  },
  {
   "cell_type": "markdown",
   "id": "dbfbfadc-c5c7-45a4-81fd-43efdf318558",
   "metadata": {},
   "source": [
    "#### 2.2.4 Verifying assignment"
   ]
  },
  {
   "cell_type": "code",
   "execution_count": 8,
   "id": "938605ac-9797-48aa-950c-793ebe78bedb",
   "metadata": {},
   "outputs": [
    {
     "data": {
      "text/plain": [
       "True"
      ]
     },
     "execution_count": 8,
     "metadata": {},
     "output_type": "execute_result"
    }
   ],
   "source": [
    "S.admissible(assignment)"
   ]
  },
  {
   "cell_type": "markdown",
   "id": "1b8813bc-7311-44fe-976b-67a8988b81c9",
   "metadata": {},
   "source": [
    "## 3. Equivalence between an MPG and a bipartite MPG\n",
    "### 3.1 $\\text{Bi-MPG}\\le \\text{MPG}$\n",
    "This is immediate.\n",
    "\n",
    "### 3.2 $\\text{MPG}\\le \\text{Bi-MPG}$\n",
    "- Let $G=(V,E,L,s)$ be a mean-payoff game.\n",
    "- Let $\\mathcal{P}=\\{0,1\\}$ the set of players\n",
    "- For a player $p\\in\\mathcal{P},$ we will denote by $\\bar{p}$ the other player.\n",
    "- Let $V'=V\\times \\mathcal{P}$\n",
    "\n",
    "We will build the following equivalent mean-payoff game $G'(V',E',L')$ with:\n",
    "$$\n",
    "\\begin{align*}\n",
    "E'&=\\{((u,s),(v,\\bar{s})),\\quad (u,v)\\in E, s\\in \\mathcal{P}\\} \\\\\n",
    "\\forall (u,v)\\in E,\\forall s\\in\\mathcal{P},\\quad L'((u,s),(v,s))&=L(u,v)\n",
    "\\end{align*}\n",
    "$$\n",
    "### 3.3 Example"
   ]
  },
  {
   "cell_type": "code",
   "execution_count": 1,
   "id": "5c963a5f-b73b-4094-90bd-6b0dc454963b",
   "metadata": {},
   "outputs": [
    {
     "data": {
      "application/vnd.jupyter.widget-view+json": {
       "model_id": "d75249ec1c65446d92e9442849145de5",
       "version_major": 2,
       "version_minor": 0
      },
      "text/plain": [
       "MPGVisualisation(layout=Layout(height='500px', width='100%'))"
      ]
     },
     "metadata": {},
     "output_type": "display_data"
    }
   ],
   "source": [
    "import mpg.visualisation.game as vgame\n",
    "import mpg.games.mpg as mpg\n",
    "G=mpg.MeanPayoffGraph()\n",
    "G.add_edge(0,1,5)\n",
    "G.add_edge(0,2,-5)\n",
    "G.add_edge(2,1,3)\n",
    "G.add_edge(2,0,-6)\n",
    "G.add_edge(1,0,-6)\n",
    "vgame.MPGVisualisation(G)"
   ]
  },
  {
   "cell_type": "code",
   "execution_count": 22,
   "id": "d3a73235-6737-4d6f-b884-3173926bf47e",
   "metadata": {},
   "outputs": [
    {
     "data": {
      "application/vnd.jupyter.widget-view+json": {
       "model_id": "bb0f33748d2a4aed8726241a4aa9cb07",
       "version_major": 2,
       "version_minor": 0
      },
      "text/plain": [
       "MPGVisualisation(layout=Layout(height='500px', width='100%'))"
      ]
     },
     "metadata": {},
     "output_type": "display_data"
    }
   ],
   "source": [
    "vgame.MPGVisualisation(G.as_bipartite())"
   ]
  },
  {
   "cell_type": "markdown",
   "id": "deeacf8d-f2cd-4f7a-92da-94cb39ad58f7",
   "metadata": {},
   "source": [
    "## 4. Equivalence between Bipartite MPG and Min Max System\n",
    "### 4.1 $\\text{Bi-MPG} \\le \\text{Min-Max System}$\n",
    "- Let $G=(V_1,V_2,E,L)$ a bipartite MPG.\n",
    "- Let $\\text{Adj}(v)$ be the adjacency list of a vertex $v\\in V=V_1\\cup V_2$\n",
    "- For each vertex $v\\in V_1$, we introduce a variable $X_v$\n",
    "- For each vertex $v\\in V_2$, we introduce a variable $Y_v$\n",
    "\n",
    "Now we propose the following system:\n",
    "$$\n",
    "\\begin{align*}\n",
    "\\forall u\\in V_1, X_u &\\le \\max_{v \\in \\text{Adj}(u)}(Y_v+L(u,v))\\\\\n",
    "\\forall u\\in V_2, Y_u &\\le \\min_{v \\in \\text{Adj}(u)}(X_v+L(u,v))\n",
    "\\end{align*}\n",
    "$$\n",
    "\n",
    "This system is an equivalent min max system. See the paper \"Mean-Payoff Games and the Max-Atom Problem\" for a detailing the equivalence.\n",
    "\n",
    "### 4.2 $\\text{Min-Max System}\\le \\text{Bi-MPG}$\n",
    "### 4.3 Example"
   ]
  },
  {
   "cell_type": "code",
   "execution_count": 2,
   "id": "d68d0703-7e4f-4139-a7f6-4422d6ecee8f",
   "metadata": {},
   "outputs": [
    {
     "data": {
      "text/latex": [
       "System of 6 min-max constraints:\n",
       "        \\begin{align*}\n",
       "        V_0(0) & \\leq \\max(V_1(1)+5,V_1(2)+-5)\\\\\n",
       "V_0(1) & \\leq \\max(V_1(0)+-6)\\\\\n",
       "V_0(2) & \\leq \\max(V_1(1)+3,V_1(0)+-6)\\\\\n",
       "V_1(0) & \\leq \\min(V_0(1)+5,V_0(2)+-5)\\\\\n",
       "V_1(1) & \\leq \\min(V_0(0)+-6)\\\\\n",
       "V_1(2) & \\leq \\min(V_0(1)+3,V_0(0)+-6) \n",
       "        \\end{align*}"
      ],
      "text/plain": [
       "System of 6 min-max constraints:\n",
       "\tV_0(0) <= max(V_1(1)+5,V_1(2)+-5)\n",
       "\tV_1(1) <= min(V_0(0)+-6)\n",
       "\tV_1(0) <= min(V_0(1)+5,V_0(2)+-5)\n",
       "\tV_0(1) <= max(V_1(0)+-6)\n",
       "\tV_1(2) <= min(V_0(1)+3,V_0(0)+-6)\n",
       "\tV_0(2) <= max(V_1(1)+3,V_1(0)+-6)"
      ]
     },
     "execution_count": 2,
     "metadata": {},
     "output_type": "execute_result"
    }
   ],
   "source": [
    "MMS=G.as_min_max_system()\n",
    "MMS"
   ]
  },
  {
   "cell_type": "code",
   "execution_count": 3,
   "id": "c142d034-0c60-4a2b-9b6a-4f151b59edb6",
   "metadata": {},
   "outputs": [
    {
     "data": {
      "text/plain": [
       "{V_1(0): -inf,\n",
       " V_1(2): -inf,\n",
       " V_0(0): -inf,\n",
       " V_1(1): -inf,\n",
       " V_0(2): -inf,\n",
       " V_0(1): -inf}"
      ]
     },
     "execution_count": 3,
     "metadata": {},
     "output_type": "execute_result"
    }
   ],
   "source": [
    "MMS.solve()"
   ]
  },
  {
   "cell_type": "markdown",
   "id": "47d804ca-9916-4606-bb8e-98c77d7eea50",
   "metadata": {},
   "source": [
    "### 4.4 Optimal Strategy"
   ]
  },
  {
   "cell_type": "code",
   "execution_count": 4,
   "id": "ad855022-c248-47fe-bd4e-451865b809b1",
   "metadata": {},
   "outputs": [
    {
     "data": {
      "text/plain": [
       "({0: 2, 1: 0, 2: 0}, {0: 2, 1: 0, 2: 0})"
      ]
     },
     "execution_count": 4,
     "metadata": {},
     "output_type": "execute_result"
    }
   ],
   "source": [
    "S1,S2=mpg.optimal_strategy_pair(G)\n",
    "S1,S2"
   ]
  },
  {
   "cell_type": "markdown",
   "id": "1bc9aad1-9c37-48ee-9695-73a830fef2c4",
   "metadata": {},
   "source": [
    "### 4.5 Visualisation"
   ]
  },
  {
   "cell_type": "code",
   "execution_count": 5,
   "id": "8664df6b-b965-4dbc-8814-376d1dc12456",
   "metadata": {},
   "outputs": [
    {
     "data": {
      "application/vnd.jupyter.widget-view+json": {
       "model_id": "117cf4dced0447d983448e14b56e4bbf",
       "version_major": 2,
       "version_minor": 0
      },
      "text/plain": [
       "MPGVisualisation(layout=Layout(height='500px', width='100%'))"
      ]
     },
     "metadata": {},
     "output_type": "display_data"
    }
   ],
   "source": [
    "A=vgame.MPGVisualisation(G)\n",
    "A.set_node_color_mapping(vgame.WinnerVisualiser(A.graph,S1,S2))\n",
    "A.set_edge_color_mapping(vgame.StrategyVisualiser(S1,S2))\n",
    "A"
   ]
  },
  {
   "cell_type": "markdown",
   "id": "dc862e7c-e75d-49c4-85c1-a6f100f8a037",
   "metadata": {},
   "source": [
    "### 4.6 Mean Pay Off"
   ]
  },
  {
   "cell_type": "code",
   "execution_count": 6,
   "id": "7344f451-be4d-4b52-8a64-94ab0e2c7d52",
   "metadata": {},
   "outputs": [
    {
     "data": {
      "text/plain": [
       "{(0, False): -5.5,\n",
       " (2, True): -5.5,\n",
       " (1, 1): -5.5,\n",
       " (0, True): -5.5,\n",
       " (2, False): -5.5,\n",
       " (1, 0): -5.5}"
      ]
     },
     "execution_count": 6,
     "metadata": {},
     "output_type": "execute_result"
    }
   ],
   "source": [
    "mpg.mean_payoffs(G,S1,S2)"
   ]
  },
  {
   "cell_type": "code",
   "execution_count": null,
   "id": "62c43756-781c-48bb-9bea-3ad0b7befec9",
   "metadata": {},
   "outputs": [],
   "source": []
  }
 ],
 "metadata": {
  "kernelspec": {
   "display_name": "Python 3 (ipykernel)",
   "language": "python",
   "name": "python3"
  },
  "language_info": {
   "codemirror_mode": {
    "name": "ipython",
    "version": 3
   },
   "file_extension": ".py",
   "mimetype": "text/x-python",
   "name": "python",
   "nbconvert_exporter": "python",
   "pygments_lexer": "ipython3",
   "version": "3.10.10"
  }
 },
 "nbformat": 4,
 "nbformat_minor": 5
}
