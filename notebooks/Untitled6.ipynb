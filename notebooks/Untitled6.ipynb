{
 "cells": [
  {
   "cell_type": "code",
   "execution_count": 2,
   "id": "224561ef-fca0-4678-8fbc-98a7116d8ff9",
   "metadata": {},
   "outputs": [],
   "source": [
    "import pyspiel"
   ]
  },
  {
   "cell_type": "code",
   "execution_count": 3,
   "id": "ea92fa7d-6712-47be-9e11-95938def04ac",
   "metadata": {},
   "outputs": [],
   "source": [
    "game=pyspiel.load_game(\"mpg(max_moves=50,max_size=100,generator=usgnp,generator_params=30 30 0.3 0.7 -1 1,padding=false,representation=normal)\")"
   ]
  },
  {
   "cell_type": "code",
   "execution_count": 4,
   "id": "fd1fb653-4386-42c2-a06c-402811b11a9b",
   "metadata": {},
   "outputs": [],
   "source": [
    "state=game.new_initial_environment_state()"
   ]
  },
  {
   "cell_type": "code",
   "execution_count": 5,
   "id": "d9213e9a-acf2-45d7-b573-d08a8ff0a618",
   "metadata": {},
   "outputs": [
    {
     "data": {
      "text/plain": [
       "[[30, 30, 2], [1]]"
      ]
     },
     "execution_count": 5,
     "metadata": {},
     "output_type": "execute_result"
    }
   ],
   "source": [
    "state.observation_tensor_shapes_list()"
   ]
  },
  {
   "cell_type": "code",
   "execution_count": 6,
   "id": "0aa8a3ba-f065-4e9b-af05-95eeb8fed834",
   "metadata": {},
   "outputs": [
    {
     "data": {
      "text/plain": [
       "485"
      ]
     },
     "execution_count": 6,
     "metadata": {},
     "output_type": "execute_result"
    }
   ],
   "source": [
    "state.count_edges()"
   ]
  },
  {
   "cell_type": "code",
   "execution_count": 7,
   "id": "43392a69-68b4-46f5-b28e-62bebcacd00b",
   "metadata": {},
   "outputs": [
    {
     "data": {
      "text/plain": [
       "30"
      ]
     },
     "execution_count": 7,
     "metadata": {},
     "output_type": "execute_result"
    }
   ],
   "source": [
    "state.graph_size()"
   ]
  },
  {
   "cell_type": "code",
   "execution_count": 8,
   "id": "8984dfe9-f280-4f72-98ba-6e0af31f13f4",
   "metadata": {},
   "outputs": [
    {
     "ename": "NameError",
     "evalue": "name 'E' is not defined",
     "output_type": "error",
     "traceback": [
      "\u001b[0;31m---------------------------------------------------------------------------\u001b[0m",
      "\u001b[0;31mNameError\u001b[0m                                 Traceback (most recent call last)",
      "Cell \u001b[0;32mIn[8], line 1\u001b[0m\n\u001b[0;32m----> 1\u001b[0m \u001b[43mE\u001b[49m\u001b[38;5;241m.\u001b[39mshape\n",
      "\u001b[0;31mNameError\u001b[0m: name 'E' is not defined"
     ]
    }
   ],
   "source": [
    "E.shape"
   ]
  },
  {
   "cell_type": "code",
   "execution_count": 9,
   "id": "fc03ca56-e64c-48f0-b7f6-fe60349d3973",
   "metadata": {},
   "outputs": [
    {
     "ename": "NameError",
     "evalue": "name 'E' is not defined",
     "output_type": "error",
     "traceback": [
      "\u001b[0;31m---------------------------------------------------------------------------\u001b[0m",
      "\u001b[0;31mNameError\u001b[0m                                 Traceback (most recent call last)",
      "Cell \u001b[0;32mIn[9], line 1\u001b[0m\n\u001b[0;32m----> 1\u001b[0m E\u001b[38;5;241m=\u001b[39m\u001b[43mE\u001b[49m\u001b[38;5;241m.\u001b[39mreshape(state\u001b[38;5;241m.\u001b[39mobservation_tensor_shapes_list()[\u001b[38;5;241m0\u001b[39m])\n\u001b[1;32m      3\u001b[0m E[:,:,\u001b[38;5;241m1\u001b[39m]\n",
      "\u001b[0;31mNameError\u001b[0m: name 'E' is not defined"
     ]
    }
   ],
   "source": [
    "E=E.reshape(state.observation_tensor_shapes_list()[0])\n",
    "\n",
    "E[:,:,1]"
   ]
  },
  {
   "cell_type": "code",
   "execution_count": 31,
   "id": "d527bfd0-5004-4688-8fea-13fe0ecdb550",
   "metadata": {},
   "outputs": [],
   "source": [
    "state.apply_action(2)"
   ]
  },
  {
   "cell_type": "code",
   "execution_count": 32,
   "id": "146ff560-880f-4a1b-ac95-bd74209a115e",
   "metadata": {},
   "outputs": [
    {
     "data": {
      "text/plain": [
       "13085936220915563836"
      ]
     },
     "execution_count": 32,
     "metadata": {},
     "output_type": "execute_result"
    }
   ],
   "source": [
    "state"
   ]
  },
  {
   "cell_type": "code",
   "execution_count": 53,
   "id": "dcd02ede-14ba-48d7-845f-ec9bbb88cc81",
   "metadata": {},
   "outputs": [],
   "source": [
    "import numpy as np\n",
    "A=np.array(state.observation_tensor())\n",
    "E,s=A[:-1],A[-1]"
   ]
  },
  {
   "cell_type": "code",
   "execution_count": 57,
   "id": "850ed4c9-09b4-4f0e-b5a7-315082644ee0",
   "metadata": {},
   "outputs": [
    {
     "data": {
      "text/plain": [
       "array([[0., 1., 0.],\n",
       "       [1., 0., 0.],\n",
       "       [1., 1., 1.]])"
      ]
     },
     "execution_count": 57,
     "metadata": {},
     "output_type": "execute_result"
    }
   ],
   "source": [
    "E=E.reshape(state.observation_tensor_shapes_list()[0])\n",
    "E[:,:,0]"
   ]
  },
  {
   "cell_type": "code",
   "execution_count": 19,
   "id": "80f58652-42b5-4b6c-88f9-8b6bfea6146c",
   "metadata": {},
   "outputs": [],
   "source": [
    "import pandas as pd\n",
    "df=pd.read_json(\"stats.jsonl\",lines=True)"
   ]
  },
  {
   "cell_type": "code",
   "execution_count": 20,
   "id": "228e59de-3f0f-4d06-abc2-e44cc4b3ac40",
   "metadata": {},
   "outputs": [
    {
     "data": {
      "text/html": [
       "<div>\n",
       "<style scoped>\n",
       "    .dataframe tbody tr th:only-of-type {\n",
       "        vertical-align: middle;\n",
       "    }\n",
       "\n",
       "    .dataframe tbody tr th {\n",
       "        vertical-align: top;\n",
       "    }\n",
       "\n",
       "    .dataframe thead th {\n",
       "        text-align: right;\n",
       "    }\n",
       "</style>\n",
       "<table border=\"1\" class=\"dataframe\">\n",
       "  <thead>\n",
       "    <tr style=\"text-align: right;\">\n",
       "      <th></th>\n",
       "      <th>0</th>\n",
       "      <th>1</th>\n",
       "      <th>2</th>\n",
       "    </tr>\n",
       "  </thead>\n",
       "  <tbody>\n",
       "    <tr>\n",
       "      <th>0</th>\n",
       "      <td>{}</td>\n",
       "      <td>{}</td>\n",
       "      <td>{}</td>\n",
       "    </tr>\n",
       "    <tr>\n",
       "      <th>1</th>\n",
       "      <td>{}</td>\n",
       "      <td>{}</td>\n",
       "      <td>{}</td>\n",
       "    </tr>\n",
       "    <tr>\n",
       "      <th>2</th>\n",
       "      <td>{'start_time': '2023-06-26T00:45:36.482062', '...</td>\n",
       "      <td>{'start_time': '2023-06-26T00:45:36.552605', '...</td>\n",
       "      <td>{'start_time': '2023-06-26T00:45:36.513515', '...</td>\n",
       "    </tr>\n",
       "    <tr>\n",
       "      <th>3</th>\n",
       "      <td>{'start_time': '2023-06-26T00:47:18.853107', '...</td>\n",
       "      <td>{'start_time': '2023-06-26T00:47:19.672664', '...</td>\n",
       "      <td>{'start_time': '2023-06-26T00:47:18.744794', '...</td>\n",
       "    </tr>\n",
       "    <tr>\n",
       "      <th>4</th>\n",
       "      <td>{'start_time': '2023-06-26T00:49:02.368419', '...</td>\n",
       "      <td>{'start_time': '2023-06-26T00:49:02.859706', '...</td>\n",
       "      <td>{'start_time': '2023-06-26T00:49:00.273266', '...</td>\n",
       "    </tr>\n",
       "    <tr>\n",
       "      <th>5</th>\n",
       "      <td>{'start_time': '2023-06-26T00:50:46.122679', '...</td>\n",
       "      <td>{'start_time': '2023-06-26T00:50:44.802517', '...</td>\n",
       "      <td>{'start_time': '2023-06-26T00:50:42.113778', '...</td>\n",
       "    </tr>\n",
       "    <tr>\n",
       "      <th>6</th>\n",
       "      <td>{'start_time': '2023-06-26T00:52:29.063244', '...</td>\n",
       "      <td>{'start_time': '2023-06-26T00:52:27.951881', '...</td>\n",
       "      <td>{'start_time': '2023-06-26T00:52:23.545262', '...</td>\n",
       "    </tr>\n",
       "    <tr>\n",
       "      <th>7</th>\n",
       "      <td>{'start_time': '2023-06-26T00:54:10.909819', '...</td>\n",
       "      <td>{'start_time': '2023-06-26T00:54:09.628702', '...</td>\n",
       "      <td>{'start_time': '2023-06-26T00:54:06.049684', '...</td>\n",
       "    </tr>\n",
       "    <tr>\n",
       "      <th>8</th>\n",
       "      <td>{'start_time': '2023-06-26T00:55:53.082160', '...</td>\n",
       "      <td>{'start_time': '2023-06-26T00:55:51.948519', '...</td>\n",
       "      <td>{'start_time': '2023-06-26T00:55:48.275617', '...</td>\n",
       "    </tr>\n",
       "  </tbody>\n",
       "</table>\n",
       "</div>"
      ],
      "text/plain": [
       "                                                   0  \\\n",
       "0                                                 {}   \n",
       "1                                                 {}   \n",
       "2  {'start_time': '2023-06-26T00:45:36.482062', '...   \n",
       "3  {'start_time': '2023-06-26T00:47:18.853107', '...   \n",
       "4  {'start_time': '2023-06-26T00:49:02.368419', '...   \n",
       "5  {'start_time': '2023-06-26T00:50:46.122679', '...   \n",
       "6  {'start_time': '2023-06-26T00:52:29.063244', '...   \n",
       "7  {'start_time': '2023-06-26T00:54:10.909819', '...   \n",
       "8  {'start_time': '2023-06-26T00:55:53.082160', '...   \n",
       "\n",
       "                                                   1  \\\n",
       "0                                                 {}   \n",
       "1                                                 {}   \n",
       "2  {'start_time': '2023-06-26T00:45:36.552605', '...   \n",
       "3  {'start_time': '2023-06-26T00:47:19.672664', '...   \n",
       "4  {'start_time': '2023-06-26T00:49:02.859706', '...   \n",
       "5  {'start_time': '2023-06-26T00:50:44.802517', '...   \n",
       "6  {'start_time': '2023-06-26T00:52:27.951881', '...   \n",
       "7  {'start_time': '2023-06-26T00:54:09.628702', '...   \n",
       "8  {'start_time': '2023-06-26T00:55:51.948519', '...   \n",
       "\n",
       "                                                   2  \n",
       "0                                                 {}  \n",
       "1                                                 {}  \n",
       "2  {'start_time': '2023-06-26T00:45:36.513515', '...  \n",
       "3  {'start_time': '2023-06-26T00:47:18.744794', '...  \n",
       "4  {'start_time': '2023-06-26T00:49:00.273266', '...  \n",
       "5  {'start_time': '2023-06-26T00:50:42.113778', '...  \n",
       "6  {'start_time': '2023-06-26T00:52:23.545262', '...  \n",
       "7  {'start_time': '2023-06-26T00:54:06.049684', '...  \n",
       "8  {'start_time': '2023-06-26T00:55:48.275617', '...  "
      ]
     },
     "execution_count": 20,
     "metadata": {},
     "output_type": "execute_result"
    }
   ],
   "source": [
    "df"
   ]
  },
  {
   "cell_type": "code",
   "execution_count": 1,
   "id": "53f0897c-1336-48f9-93e2-487fdf8e477b",
   "metadata": {},
   "outputs": [],
   "source": [
    "import pyspiel \n",
    "from mpg.games.mpg import MeanPayoffGraph\n",
    "G=MeanPayoffGraph()\n",
    "G.add_edge(0,1,2)\n",
    "G.add_edge(1,0,1)"
   ]
  },
  {
   "cell_type": "code",
   "execution_count": 42,
   "id": "ec32b0b2-9fb1-40bf-81ac-e9b22cd0ddc3",
   "metadata": {},
   "outputs": [],
   "source": [
    "game=pyspiel.load_game(\"mpg(max_repeats=3,max_size=2,generator=gnp,generator_params=50 1 -1 1)\")\n",
    "state=game.new_initial_state()"
   ]
  },
  {
   "cell_type": "code",
   "execution_count": 11,
   "id": "c7a21a23-4913-4509-8e7b-990979f9cd79",
   "metadata": {},
   "outputs": [
    {
     "name": "stderr",
     "output_type": "stream",
     "text": [
      "2023-06-28 13:02:23.665095: I tensorflow/core/platform/cpu_feature_guard.cc:182] This TensorFlow binary is optimized to use available CPU instructions in performance-critical operations.\n",
      "To enable the following instructions: AVX2 FMA, in other operations, rebuild TensorFlow with the appropriate compiler flags.\n",
      "2023-06-28 13:02:24.237729: W tensorflow/compiler/tf2tensorrt/utils/py_utils.cc:38] TF-TRT Warning: Could not find TensorRT\n"
     ]
    }
   ],
   "source": [
    "import open_spiel.python.algorithms.alpha_zero_mpg.bots as mpg_bots\n",
    "import open_spiel.python.algorithms.mcts as mcts"
   ]
  },
  {
   "cell_type": "code",
   "execution_count": 12,
   "id": "73f78c58-8b2e-47e3-b363-45bfb7f887ff",
   "metadata": {},
   "outputs": [],
   "source": [
    "uct_c=1\n",
    "max_simulations=1000\n",
    "evaluator_=mcts.RandomRolloutEvaluator()\n",
    "noise=(1,1)\n",
    "solve=False\n",
    "bot=mcts.MCTSBot(\n",
    "        game,\n",
    "        uct_c,\n",
    "        max_simulations,\n",
    "        evaluator_,\n",
    "        solve=solve,\n",
    "        dirichlet_noise=None,\n",
    "        child_selection_fn=mcts.SearchNode.puct_value,\n",
    "        verbose=False,\n",
    "        dont_return_chance_node=True)"
   ]
  },
  {
   "cell_type": "code",
   "execution_count": 13,
   "id": "610caba9-474b-4ae3-96f7-048229cb0b1f",
   "metadata": {},
   "outputs": [
    {
     "name": "stderr",
     "output_type": "stream",
     "text": [
      "OpenSpiel exception: /home/ramizouari/Academic/AI/MeanPayOffGames/open_spiel/open_spiel/games/mpg/mpg.cc:139 CHECK_TRUE(environment->graph[current_state].count(move))\n"
     ]
    },
    {
     "ename": "SpielError",
     "evalue": "/home/ramizouari/Academic/AI/MeanPayOffGames/open_spiel/open_spiel/games/mpg/mpg.cc:139 CHECK_TRUE(environment->graph[current_state].count(move))",
     "output_type": "error",
     "traceback": [
      "\u001b[0;31m---------------------------------------------------------------------------\u001b[0m",
      "\u001b[0;31mSpielError\u001b[0m                                Traceback (most recent call last)",
      "Cell \u001b[0;32mIn[13], line 1\u001b[0m\n\u001b[0;32m----> 1\u001b[0m \u001b[43mstate\u001b[49m\u001b[38;5;241;43m.\u001b[39;49m\u001b[43mapply_action\u001b[49m\u001b[43m(\u001b[49m\u001b[38;5;241;43m12\u001b[39;49m\u001b[43m)\u001b[49m\n",
      "\u001b[0;31mSpielError\u001b[0m: /home/ramizouari/Academic/AI/MeanPayOffGames/open_spiel/open_spiel/games/mpg/mpg.cc:139 CHECK_TRUE(environment->graph[current_state].count(move))"
     ]
    }
   ],
   "source": [
    "state.apply_action12)"
   ]
  },
  {
   "cell_type": "code",
   "execution_count": 110,
   "id": "87800237-705e-4640-a4be-2432f067fd94",
   "metadata": {},
   "outputs": [
    {
     "data": {
      "text/plain": [
       "0"
      ]
     },
     "execution_count": 110,
     "metadata": {},
     "output_type": "execute_result"
    }
   ],
   "source": [
    "state=game.new_initial_environment_state()\n",
    "state.current_player()"
   ]
  },
  {
   "cell_type": "code",
   "execution_count": 111,
   "id": "a4d8ac3b-edbc-4a37-8143-37ea0d0df85e",
   "metadata": {},
   "outputs": [
    {
     "data": {
      "text/plain": [
       "-0.208"
      ]
     },
     "execution_count": 111,
     "metadata": {},
     "output_type": "execute_result"
    }
   ],
   "source": [
    "\n",
    "root=bot.mcts_search(state)\n",
    "\n",
    "root.total_reward / root.explore_count"
   ]
  },
  {
   "cell_type": "code",
   "execution_count": 58,
   "id": "3e33c531-91b7-48e0-aabf-b2cc5e655228",
   "metadata": {},
   "outputs": [],
   "source": [
    "state.apply_action(1)"
   ]
  },
  {
   "cell_type": "code",
   "execution_count": 54,
   "id": "eb592f0e-f3da-41a1-8cbc-e1769cc0100a",
   "metadata": {},
   "outputs": [],
   "source": [
    "E=state.observation_tensor()"
   ]
  },
  {
   "cell_type": "code",
   "execution_count": 55,
   "id": "eee73578-9872-46b4-b502-78006bf4582d",
   "metadata": {},
   "outputs": [],
   "source": [
    "import numpy as np\n",
    "E=np.reshape(E[:-1],(2,2,2))"
   ]
  },
  {
   "cell_type": "code",
   "execution_count": 57,
   "id": "ee39685f-e578-4fe9-a357-c9ba71560369",
   "metadata": {},
   "outputs": [
    {
     "data": {
      "text/plain": [
       "array([[1., 0.],\n",
       "       [1., 0.]])"
      ]
     },
     "execution_count": 57,
     "metadata": {},
     "output_type": "execute_result"
    }
   ],
   "source": [
    "E[:,:,0]"
   ]
  },
  {
   "cell_type": "code",
   "execution_count": 104,
   "id": "a53fa9ab-ad40-4605-ac1b-f0760ad216ec",
   "metadata": {},
   "outputs": [
    {
     "data": {
      "text/plain": [
       "[667, 332]"
      ]
     },
     "execution_count": 104,
     "metadata": {},
     "output_type": "execute_result"
    }
   ],
   "source": [
    "[child.explore_count for child in root.children]"
   ]
  },
  {
   "cell_type": "code",
   "execution_count": 107,
   "id": "4a1d741e-1c05-4d74-94cb-95409a2d769d",
   "metadata": {},
   "outputs": [
    {
     "data": {
      "text/plain": [
       "0.984290361404419"
      ]
     },
     "execution_count": 107,
     "metadata": {},
     "output_type": "execute_result"
    }
   ],
   "source": [
    "state.get_meanpayoff()"
   ]
  },
  {
   "cell_type": "code",
   "execution_count": 32,
   "id": "61ff9449-85ac-4544-bfc4-f620f01acbc2",
   "metadata": {},
   "outputs": [],
   "source": [
    "import tensorflow as tf\n",
    "A=tf.random.uniform([5,5,3,6,6]) < 0\n",
    "B=tf.reduce_any(A,axis=-1)\n",
    "Z=tf.linalg.diag(~B)\n",
    "C=A|Z"
   ]
  },
  {
   "cell_type": "code",
   "execution_count": 33,
   "id": "1eb61b50-cec0-4dc3-be01-0d028ed6773d",
   "metadata": {},
   "outputs": [
    {
     "data": {
      "text/plain": [
       "<tf.Tensor: shape=(), dtype=bool, numpy=False>"
      ]
     },
     "execution_count": 33,
     "metadata": {},
     "output_type": "execute_result"
    }
   ],
   "source": []
  },
  {
   "cell_type": "code",
   "execution_count": 40,
   "id": "2ff0cdc3-cfe3-4ea4-92b8-789a0fbf5138",
   "metadata": {},
   "outputs": [
    {
     "data": {
      "text/plain": [
       "<tf.Tensor: shape=(2,), dtype=bool, numpy=array([False,  True])>"
      ]
     },
     "execution_count": 40,
     "metadata": {},
     "output_type": "execute_result"
    }
   ],
   "source": [
    "tf.cast(tf.constant([-0.,5.]),dtype=tf.bool)"
   ]
  },
  {
   "cell_type": "code",
   "execution_count": null,
   "id": "da0380c9-294c-4bfc-bbc8-e7a1f4aca829",
   "metadata": {},
   "outputs": [],
   "source": []
  }
 ],
 "metadata": {
  "kernelspec": {
   "display_name": "Python 3 (ipykernel)",
   "language": "python",
   "name": "python3"
  },
  "language_info": {
   "codemirror_mode": {
    "name": "ipython",
    "version": 3
   },
   "file_extension": ".py",
   "mimetype": "text/x-python",
   "name": "python",
   "nbconvert_exporter": "python",
   "pygments_lexer": "ipython3",
   "version": "3.10.11"
  }
 },
 "nbformat": 4,
 "nbformat_minor": 5
}
