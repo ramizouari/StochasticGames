{
 "cells": [
  {
   "cell_type": "code",
   "execution_count": 2,
   "id": "224561ef-fca0-4678-8fbc-98a7116d8ff9",
   "metadata": {},
   "outputs": [],
   "source": [
    "import pyspiel"
   ]
  },
  {
   "cell_type": "code",
   "execution_count": 3,
   "id": "ea92fa7d-6712-47be-9e11-95938def04ac",
   "metadata": {},
   "outputs": [],
   "source": [
    "game=pyspiel.load_game(\"mpg(max_moves=50,max_size=100,generator=usgnp,generator_params=30 30 0.3 0.7 -1 1,padding=false,representation=normal)\")"
   ]
  },
  {
   "cell_type": "code",
   "execution_count": 4,
   "id": "fd1fb653-4386-42c2-a06c-402811b11a9b",
   "metadata": {},
   "outputs": [],
   "source": [
    "state=game.new_initial_environment_state()"
   ]
  },
  {
   "cell_type": "code",
   "execution_count": 5,
   "id": "d9213e9a-acf2-45d7-b573-d08a8ff0a618",
   "metadata": {},
   "outputs": [
    {
     "data": {
      "text/plain": [
       "[[30, 30, 2], [1]]"
      ]
     },
     "execution_count": 5,
     "metadata": {},
     "output_type": "execute_result"
    }
   ],
   "source": [
    "state.observation_tensor_shapes_list()"
   ]
  },
  {
   "cell_type": "code",
   "execution_count": 6,
   "id": "0aa8a3ba-f065-4e9b-af05-95eeb8fed834",
   "metadata": {},
   "outputs": [
    {
     "data": {
      "text/plain": [
       "485"
      ]
     },
     "execution_count": 6,
     "metadata": {},
     "output_type": "execute_result"
    }
   ],
   "source": [
    "state.count_edges()"
   ]
  },
  {
   "cell_type": "code",
   "execution_count": 7,
   "id": "43392a69-68b4-46f5-b28e-62bebcacd00b",
   "metadata": {},
   "outputs": [
    {
     "data": {
      "text/plain": [
       "30"
      ]
     },
     "execution_count": 7,
     "metadata": {},
     "output_type": "execute_result"
    }
   ],
   "source": [
    "state.graph_size()"
   ]
  },
  {
   "cell_type": "code",
   "execution_count": 8,
   "id": "8984dfe9-f280-4f72-98ba-6e0af31f13f4",
   "metadata": {},
   "outputs": [
    {
     "ename": "NameError",
     "evalue": "name 'E' is not defined",
     "output_type": "error",
     "traceback": [
      "\u001b[0;31m---------------------------------------------------------------------------\u001b[0m",
      "\u001b[0;31mNameError\u001b[0m                                 Traceback (most recent call last)",
      "Cell \u001b[0;32mIn[8], line 1\u001b[0m\n\u001b[0;32m----> 1\u001b[0m \u001b[43mE\u001b[49m\u001b[38;5;241m.\u001b[39mshape\n",
      "\u001b[0;31mNameError\u001b[0m: name 'E' is not defined"
     ]
    }
   ],
   "source": [
    "E.shape"
   ]
  },
  {
   "cell_type": "code",
   "execution_count": 9,
   "id": "fc03ca56-e64c-48f0-b7f6-fe60349d3973",
   "metadata": {},
   "outputs": [
    {
     "ename": "NameError",
     "evalue": "name 'E' is not defined",
     "output_type": "error",
     "traceback": [
      "\u001b[0;31m---------------------------------------------------------------------------\u001b[0m",
      "\u001b[0;31mNameError\u001b[0m                                 Traceback (most recent call last)",
      "Cell \u001b[0;32mIn[9], line 1\u001b[0m\n\u001b[0;32m----> 1\u001b[0m E\u001b[38;5;241m=\u001b[39m\u001b[43mE\u001b[49m\u001b[38;5;241m.\u001b[39mreshape(state\u001b[38;5;241m.\u001b[39mobservation_tensor_shapes_list()[\u001b[38;5;241m0\u001b[39m])\n\u001b[1;32m      3\u001b[0m E[:,:,\u001b[38;5;241m1\u001b[39m]\n",
      "\u001b[0;31mNameError\u001b[0m: name 'E' is not defined"
     ]
    }
   ],
   "source": [
    "E=E.reshape(state.observation_tensor_shapes_list()[0])\n",
    "\n",
    "E[:,:,1]"
   ]
  },
  {
   "cell_type": "code",
   "execution_count": 31,
   "id": "d527bfd0-5004-4688-8fea-13fe0ecdb550",
   "metadata": {},
   "outputs": [],
   "source": [
    "state.apply_action(2)"
   ]
  },
  {
   "cell_type": "code",
   "execution_count": 32,
   "id": "146ff560-880f-4a1b-ac95-bd74209a115e",
   "metadata": {},
   "outputs": [
    {
     "data": {
      "text/plain": [
       "13085936220915563836"
      ]
     },
     "execution_count": 32,
     "metadata": {},
     "output_type": "execute_result"
    }
   ],
   "source": [
    "state"
   ]
  },
  {
   "cell_type": "code",
   "execution_count": 53,
   "id": "dcd02ede-14ba-48d7-845f-ec9bbb88cc81",
   "metadata": {},
   "outputs": [],
   "source": [
    "import numpy as np\n",
    "A=np.array(state.observation_tensor())\n",
    "E,s=A[:-1],A[-1]"
   ]
  },
  {
   "cell_type": "code",
   "execution_count": 57,
   "id": "850ed4c9-09b4-4f0e-b5a7-315082644ee0",
   "metadata": {},
   "outputs": [
    {
     "data": {
      "text/plain": [
       "array([[0., 1., 0.],\n",
       "       [1., 0., 0.],\n",
       "       [1., 1., 1.]])"
      ]
     },
     "execution_count": 57,
     "metadata": {},
     "output_type": "execute_result"
    }
   ],
   "source": [
    "E=E.reshape(state.observation_tensor_shapes_list()[0])\n",
    "E[:,:,0]"
   ]
  },
  {
   "cell_type": "code",
   "execution_count": 19,
   "id": "80f58652-42b5-4b6c-88f9-8b6bfea6146c",
   "metadata": {},
   "outputs": [],
   "source": [
    "import pandas as pd\n",
    "df=pd.read_json(\"stats.jsonl\",lines=True)"
   ]
  },
  {
   "cell_type": "code",
   "execution_count": 20,
   "id": "228e59de-3f0f-4d06-abc2-e44cc4b3ac40",
   "metadata": {},
   "outputs": [
    {
     "data": {
      "text/html": [
       "<div>\n",
       "<style scoped>\n",
       "    .dataframe tbody tr th:only-of-type {\n",
       "        vertical-align: middle;\n",
       "    }\n",
       "\n",
       "    .dataframe tbody tr th {\n",
       "        vertical-align: top;\n",
       "    }\n",
       "\n",
       "    .dataframe thead th {\n",
       "        text-align: right;\n",
       "    }\n",
       "</style>\n",
       "<table border=\"1\" class=\"dataframe\">\n",
       "  <thead>\n",
       "    <tr style=\"text-align: right;\">\n",
       "      <th></th>\n",
       "      <th>0</th>\n",
       "      <th>1</th>\n",
       "      <th>2</th>\n",
       "    </tr>\n",
       "  </thead>\n",
       "  <tbody>\n",
       "    <tr>\n",
       "      <th>0</th>\n",
       "      <td>{}</td>\n",
       "      <td>{}</td>\n",
       "      <td>{}</td>\n",
       "    </tr>\n",
       "    <tr>\n",
       "      <th>1</th>\n",
       "      <td>{}</td>\n",
       "      <td>{}</td>\n",
       "      <td>{}</td>\n",
       "    </tr>\n",
       "    <tr>\n",
       "      <th>2</th>\n",
       "      <td>{'start_time': '2023-06-26T00:45:36.482062', '...</td>\n",
       "      <td>{'start_time': '2023-06-26T00:45:36.552605', '...</td>\n",
       "      <td>{'start_time': '2023-06-26T00:45:36.513515', '...</td>\n",
       "    </tr>\n",
       "    <tr>\n",
       "      <th>3</th>\n",
       "      <td>{'start_time': '2023-06-26T00:47:18.853107', '...</td>\n",
       "      <td>{'start_time': '2023-06-26T00:47:19.672664', '...</td>\n",
       "      <td>{'start_time': '2023-06-26T00:47:18.744794', '...</td>\n",
       "    </tr>\n",
       "    <tr>\n",
       "      <th>4</th>\n",
       "      <td>{'start_time': '2023-06-26T00:49:02.368419', '...</td>\n",
       "      <td>{'start_time': '2023-06-26T00:49:02.859706', '...</td>\n",
       "      <td>{'start_time': '2023-06-26T00:49:00.273266', '...</td>\n",
       "    </tr>\n",
       "    <tr>\n",
       "      <th>5</th>\n",
       "      <td>{'start_time': '2023-06-26T00:50:46.122679', '...</td>\n",
       "      <td>{'start_time': '2023-06-26T00:50:44.802517', '...</td>\n",
       "      <td>{'start_time': '2023-06-26T00:50:42.113778', '...</td>\n",
       "    </tr>\n",
       "    <tr>\n",
       "      <th>6</th>\n",
       "      <td>{'start_time': '2023-06-26T00:52:29.063244', '...</td>\n",
       "      <td>{'start_time': '2023-06-26T00:52:27.951881', '...</td>\n",
       "      <td>{'start_time': '2023-06-26T00:52:23.545262', '...</td>\n",
       "    </tr>\n",
       "    <tr>\n",
       "      <th>7</th>\n",
       "      <td>{'start_time': '2023-06-26T00:54:10.909819', '...</td>\n",
       "      <td>{'start_time': '2023-06-26T00:54:09.628702', '...</td>\n",
       "      <td>{'start_time': '2023-06-26T00:54:06.049684', '...</td>\n",
       "    </tr>\n",
       "    <tr>\n",
       "      <th>8</th>\n",
       "      <td>{'start_time': '2023-06-26T00:55:53.082160', '...</td>\n",
       "      <td>{'start_time': '2023-06-26T00:55:51.948519', '...</td>\n",
       "      <td>{'start_time': '2023-06-26T00:55:48.275617', '...</td>\n",
       "    </tr>\n",
       "  </tbody>\n",
       "</table>\n",
       "</div>"
      ],
      "text/plain": [
       "                                                   0  \\\n",
       "0                                                 {}   \n",
       "1                                                 {}   \n",
       "2  {'start_time': '2023-06-26T00:45:36.482062', '...   \n",
       "3  {'start_time': '2023-06-26T00:47:18.853107', '...   \n",
       "4  {'start_time': '2023-06-26T00:49:02.368419', '...   \n",
       "5  {'start_time': '2023-06-26T00:50:46.122679', '...   \n",
       "6  {'start_time': '2023-06-26T00:52:29.063244', '...   \n",
       "7  {'start_time': '2023-06-26T00:54:10.909819', '...   \n",
       "8  {'start_time': '2023-06-26T00:55:53.082160', '...   \n",
       "\n",
       "                                                   1  \\\n",
       "0                                                 {}   \n",
       "1                                                 {}   \n",
       "2  {'start_time': '2023-06-26T00:45:36.552605', '...   \n",
       "3  {'start_time': '2023-06-26T00:47:19.672664', '...   \n",
       "4  {'start_time': '2023-06-26T00:49:02.859706', '...   \n",
       "5  {'start_time': '2023-06-26T00:50:44.802517', '...   \n",
       "6  {'start_time': '2023-06-26T00:52:27.951881', '...   \n",
       "7  {'start_time': '2023-06-26T00:54:09.628702', '...   \n",
       "8  {'start_time': '2023-06-26T00:55:51.948519', '...   \n",
       "\n",
       "                                                   2  \n",
       "0                                                 {}  \n",
       "1                                                 {}  \n",
       "2  {'start_time': '2023-06-26T00:45:36.513515', '...  \n",
       "3  {'start_time': '2023-06-26T00:47:18.744794', '...  \n",
       "4  {'start_time': '2023-06-26T00:49:00.273266', '...  \n",
       "5  {'start_time': '2023-06-26T00:50:42.113778', '...  \n",
       "6  {'start_time': '2023-06-26T00:52:23.545262', '...  \n",
       "7  {'start_time': '2023-06-26T00:54:06.049684', '...  \n",
       "8  {'start_time': '2023-06-26T00:55:48.275617', '...  "
      ]
     },
     "execution_count": 20,
     "metadata": {},
     "output_type": "execute_result"
    }
   ],
   "source": [
    "df"
   ]
  },
  {
   "cell_type": "code",
   "execution_count": 1,
   "id": "53f0897c-1336-48f9-93e2-487fdf8e477b",
   "metadata": {},
   "outputs": [],
   "source": [
    "import pyspiel \n",
    "from mpg.games.mpg import MeanPayoffGraph\n",
    "G=MeanPayoffGraph()\n",
    "G.add_edge(0,1,2)\n",
    "G.add_edge(1,0,1)"
   ]
  },
  {
   "cell_type": "code",
   "execution_count": 42,
   "id": "ec32b0b2-9fb1-40bf-81ac-e9b22cd0ddc3",
   "metadata": {},
   "outputs": [],
   "source": [
    "game=pyspiel.load_game(\"mpg(max_repeats=3,max_size=2,generator=gnp,generator_params=50 1 -1 1)\")\n",
    "state=game.new_initial_state()"
   ]
  },
  {
   "cell_type": "code",
   "execution_count": 11,
   "id": "c7a21a23-4913-4509-8e7b-990979f9cd79",
   "metadata": {},
   "outputs": [
    {
     "name": "stderr",
     "output_type": "stream",
     "text": [
      "2023-06-28 13:02:23.665095: I tensorflow/core/platform/cpu_feature_guard.cc:182] This TensorFlow binary is optimized to use available CPU instructions in performance-critical operations.\n",
      "To enable the following instructions: AVX2 FMA, in other operations, rebuild TensorFlow with the appropriate compiler flags.\n",
      "2023-06-28 13:02:24.237729: W tensorflow/compiler/tf2tensorrt/utils/py_utils.cc:38] TF-TRT Warning: Could not find TensorRT\n"
     ]
    }
   ],
   "source": [
    "import open_spiel.python.algorithms.alpha_zero_mpg.bots as mpg_bots\n",
    "import open_spiel.python.algorithms.mcts as mcts"
   ]
  },
  {
   "cell_type": "code",
   "execution_count": 12,
   "id": "73f78c58-8b2e-47e3-b363-45bfb7f887ff",
   "metadata": {},
   "outputs": [],
   "source": [
    "uct_c=1\n",
    "max_simulations=1000\n",
    "evaluator_=mcts.RandomRolloutEvaluator()\n",
    "noise=(1,1)\n",
    "solve=False\n",
    "bot=mcts.MCTSBot(\n",
    "        game,\n",
    "        uct_c,\n",
    "        max_simulations,\n",
    "        evaluator_,\n",
    "        solve=solve,\n",
    "        dirichlet_noise=None,\n",
    "        child_selection_fn=mcts.SearchNode.puct_value,\n",
    "        verbose=False,\n",
    "        dont_return_chance_node=True)"
   ]
  },
  {
   "cell_type": "code",
   "execution_count": 13,
   "id": "610caba9-474b-4ae3-96f7-048229cb0b1f",
   "metadata": {},
   "outputs": [
    {
     "name": "stderr",
     "output_type": "stream",
     "text": [
      "OpenSpiel exception: /home/ramizouari/Academic/AI/MeanPayOffGames/open_spiel/open_spiel/games/mpg/mpg.cc:139 CHECK_TRUE(environment->graph[current_state].count(move))\n"
     ]
    },
    {
     "ename": "SpielError",
     "evalue": "/home/ramizouari/Academic/AI/MeanPayOffGames/open_spiel/open_spiel/games/mpg/mpg.cc:139 CHECK_TRUE(environment->graph[current_state].count(move))",
     "output_type": "error",
     "traceback": [
      "\u001b[0;31m---------------------------------------------------------------------------\u001b[0m",
      "\u001b[0;31mSpielError\u001b[0m                                Traceback (most recent call last)",
      "Cell \u001b[0;32mIn[13], line 1\u001b[0m\n\u001b[0;32m----> 1\u001b[0m \u001b[43mstate\u001b[49m\u001b[38;5;241;43m.\u001b[39;49m\u001b[43mapply_action\u001b[49m\u001b[43m(\u001b[49m\u001b[38;5;241;43m12\u001b[39;49m\u001b[43m)\u001b[49m\n",
      "\u001b[0;31mSpielError\u001b[0m: /home/ramizouari/Academic/AI/MeanPayOffGames/open_spiel/open_spiel/games/mpg/mpg.cc:139 CHECK_TRUE(environment->graph[current_state].count(move))"
     ]
    }
   ],
   "source": [
    "state.apply_action12)"
   ]
  },
  {
   "cell_type": "code",
   "execution_count": 110,
   "id": "87800237-705e-4640-a4be-2432f067fd94",
   "metadata": {},
   "outputs": [
    {
     "data": {
      "text/plain": [
       "0"
      ]
     },
     "execution_count": 110,
     "metadata": {},
     "output_type": "execute_result"
    }
   ],
   "source": [
    "state=game.new_initial_environment_state()\n",
    "state.current_player()"
   ]
  },
  {
   "cell_type": "code",
   "execution_count": 111,
   "id": "a4d8ac3b-edbc-4a37-8143-37ea0d0df85e",
   "metadata": {},
   "outputs": [
    {
     "data": {
      "text/plain": [
       "-0.208"
      ]
     },
     "execution_count": 111,
     "metadata": {},
     "output_type": "execute_result"
    }
   ],
   "source": [
    "\n",
    "root=bot.mcts_search(state)\n",
    "\n",
    "root.total_reward / root.explore_count"
   ]
  },
  {
   "cell_type": "code",
   "execution_count": 58,
   "id": "3e33c531-91b7-48e0-aabf-b2cc5e655228",
   "metadata": {},
   "outputs": [],
   "source": [
    "state.apply_action(1)"
   ]
  },
  {
   "cell_type": "code",
   "execution_count": 54,
   "id": "eb592f0e-f3da-41a1-8cbc-e1769cc0100a",
   "metadata": {},
   "outputs": [],
   "source": [
    "E=state.observation_tensor()"
   ]
  },
  {
   "cell_type": "code",
   "execution_count": 55,
   "id": "eee73578-9872-46b4-b502-78006bf4582d",
   "metadata": {},
   "outputs": [],
   "source": [
    "import numpy as np\n",
    "E=np.reshape(E[:-1],(2,2,2))"
   ]
  },
  {
   "cell_type": "code",
   "execution_count": 57,
   "id": "ee39685f-e578-4fe9-a357-c9ba71560369",
   "metadata": {},
   "outputs": [
    {
     "data": {
      "text/plain": [
       "array([[1., 0.],\n",
       "       [1., 0.]])"
      ]
     },
     "execution_count": 57,
     "metadata": {},
     "output_type": "execute_result"
    }
   ],
   "source": [
    "E[:,:,0]"
   ]
  },
  {
   "cell_type": "code",
   "execution_count": 104,
   "id": "a53fa9ab-ad40-4605-ac1b-f0760ad216ec",
   "metadata": {},
   "outputs": [
    {
     "data": {
      "text/plain": [
       "[667, 332]"
      ]
     },
     "execution_count": 104,
     "metadata": {},
     "output_type": "execute_result"
    }
   ],
   "source": [
    "[child.explore_count for child in root.children]"
   ]
  },
  {
   "cell_type": "code",
   "execution_count": 107,
   "id": "4a1d741e-1c05-4d74-94cb-95409a2d769d",
   "metadata": {},
   "outputs": [
    {
     "data": {
      "text/plain": [
       "0.984290361404419"
      ]
     },
     "execution_count": 107,
     "metadata": {},
     "output_type": "execute_result"
    }
   ],
   "source": [
    "state.get_meanpayoff()"
   ]
  },
  {
   "cell_type": "code",
   "execution_count": 32,
   "id": "61ff9449-85ac-4544-bfc4-f620f01acbc2",
   "metadata": {},
   "outputs": [],
   "source": [
    "import tensorflow as tf\n",
    "A=tf.random.uniform([5,5,3,6,6]) < 0\n",
    "B=tf.reduce_any(A,axis=-1)\n",
    "Z=tf.linalg.diag(~B)\n",
    "C=A|Z"
   ]
  },
  {
   "cell_type": "code",
   "execution_count": 33,
   "id": "1eb61b50-cec0-4dc3-be01-0d028ed6773d",
   "metadata": {},
   "outputs": [
    {
     "data": {
      "text/plain": [
       "<tf.Tensor: shape=(), dtype=bool, numpy=False>"
      ]
     },
     "execution_count": 33,
     "metadata": {},
     "output_type": "execute_result"
    }
   ],
   "source": []
  },
  {
   "cell_type": "code",
   "execution_count": 40,
   "id": "2ff0cdc3-cfe3-4ea4-92b8-789a0fbf5138",
   "metadata": {},
   "outputs": [
    {
     "data": {
      "text/plain": [
       "<tf.Tensor: shape=(2,), dtype=bool, numpy=array([False,  True])>"
      ]
     },
     "execution_count": 40,
     "metadata": {},
     "output_type": "execute_result"
    }
   ],
   "source": [
    "tf.cast(tf.constant([-0.,5.]),dtype=tf.bool)"
   ]
  },
  {
   "cell_type": "code",
   "execution_count": 50,
   "id": "da0380c9-294c-4bfc-bbc8-e7a1f4aca829",
   "metadata": {},
   "outputs": [],
   "source": [
    "import abc\n",
    "\n",
    "import tensorflow as tf\n",
    "import mpg.ml.model.gnn as gnn\n",
    "import mpg.ml.layers.augmentation as aug\n",
    "import mpg.ml.dataset.reader as reader\n",
    "import mpg.ml.dataset.generator as generator\n",
    "import mpg.ml.dataset.utils as utils\n",
    "import mpg.ml.dataset.transforms as transforms\n",
    "\n",
    "class LossTransformation(tf.keras.losses.Loss):\n",
    "    def __init__(self, loss, name=None):\n",
    "        super(LossTransformation, self).__init__(name=name)\n",
    "        self.loss = loss\n",
    "    @abc.abstractmethod\n",
    "    def call(self, y_true, y_pred):\n",
    "        pass\n",
    "\n",
    "class Tanh2Sigmoid(LossTransformation):\n",
    "    def __init__(self, name=None):\n",
    "        super(Tanh2Sigmoid, self).__init__(tf.keras.losses.BinaryCrossentropy(name=name), name=name)\n",
    "\n",
    "    def call(self, y_true, y_pred):\n",
    "        return self.loss((y_true+1)/2, (tf.sigmoid(y_pred)+1)/2)\n",
    "def main(argv=()):\n",
    "    target_path=\"/run/media/ramizouari/6cf4ec5b-ccaf-4b2a-a40f-75ddfe64af76/HPC/dataset/targets_dense-worker-35347670-0.json\"\n",
    "#target_dataset=\"/run/media/ramizouari/6cf4ec5b-ccaf-4b2a-a40f-75ddfe64af76/HPC/dataset/targets_dense.json\"\n",
    "    gen=reader.MPGGraphReader(\"/run/media/ramizouari/6cf4ec5b-ccaf-4b2a-a40f-75ddfe64af76/HPC/dataset/dense\",target=\"all\",target_path=target_path,debug=False)\n",
    "    model = gnn.ResGNN(conv_layers=[32, 16, 1, 32, 16, 1], residual_connections={3: [0], 6: [3, 0]},\n",
    "                       graph_normalisation=True,\n",
    "                       masked_softmax=True, ragged_batch=False, weight_normalisation=\"std\",\n",
    "                       random_connection_probability=0.05,\n",
    "                       weight_noise_layer=aug.UniformNoise(-0.01, 0.01, name=\"uniform_noise\"))\n",
    "    sub_model = tf.keras.Model(inputs=model.inputs, outputs=(model.outputs[0]+1)/2)\n",
    "    \n",
    "    sub_model.compile(optimizer=tf.keras.optimizers.Adam(learning_rate=0.001),loss=\"binary_crossentropy\",metrics=[\"accuracy\"])\n",
    "    sub_model.summary()\n",
    "    T=transforms.DatasetStackTransforms([transforms.Transposer(),transforms.WithStartingPosition(0,0),transforms.StrategyEncoder(),transforms.BatchDatasetTransform(pad=True,batch_size=32)])\n",
    "    dataset=T(gen).map(lambda X,Y:(X,(Y[0]+1)/2)).take(16).cache().repeat()\n",
    "    return sub_model,dataset"
   ]
  },
  {
   "cell_type": "code",
   "execution_count": 51,
   "id": "efe433f9-584d-4324-9ac6-ec4f69753403",
   "metadata": {},
   "outputs": [
    {
     "name": "stdout",
     "output_type": "stream",
     "text": [
      "(TensorSpec(shape=(2, None, None), dtype=tf.float32, name=None), TensorSpec(shape=(2, 2, None), dtype=tf.float32, name=None))\n"
     ]
    },
    {
     "name": "stderr",
     "output_type": "stream",
     "text": [
      "2023-07-11 15:36:04.089222: I tensorflow/core/common_runtime/executor.cc:1197] [/device:CPU:0] (DEBUG INFO) Executor start aborting (this does not indicate an error and you can ignore this message): INVALID_ARGUMENT: You must feed a value for placeholder tensor 'Placeholder' with dtype float and shape [?]\n",
      "\t [[{{node Placeholder}}]]\n"
     ]
    },
    {
     "name": "stdout",
     "output_type": "stream",
     "text": [
      "Model: \"model_4\"\n",
      "__________________________________________________________________________________________________\n",
      " Layer (type)                   Output Shape         Param #     Connected to                     \n",
      "==================================================================================================\n",
      " environment (InputLayer)       [(None, None, None,  0           []                               \n",
      "                                 2)]                                                              \n",
      "                                                                                                  \n",
      " state (InputLayer)             [(None,)]            0           []                               \n",
      "                                                                                                  \n",
      " tf.cast_12 (TFOpLambda)        (None,)              0           ['state[0][0]']                  \n",
      "                                                                                                  \n",
      " tf.compat.v1.shape_6 (TFOpLamb  (4,)                0           ['environment[0][0]']            \n",
      " da)                                                                                              \n",
      "                                                                                                  \n",
      " tf.__operators__.getitem_31 (S  (None, None, None)  0           ['environment[0][0]']            \n",
      " licingOpLambda)                                                                                  \n",
      "                                                                                                  \n",
      " tf.__operators__.getitem_32 (S  (None, None, None)  0           ['environment[0][0]']            \n",
      " licingOpLambda)                                                                                  \n",
      "                                                                                                  \n",
      " reshape_6 (Reshape)            (None, 1)            0           ['tf.cast_12[0][0]']             \n",
      "                                                                                                  \n",
      " tf.__operators__.getitem_30 (S  ()                  0           ['tf.compat.v1.shape_6[0][0]']   \n",
      " licingOpLambda)                                                                                  \n",
      "                                                                                                  \n",
      " random_connection (RandomConne  [(None, None, None)  0          ['tf.__operators__.getitem_31[0][\n",
      " ctionLayer)                    , (None, None, None              0]',                             \n",
      "                                )]                                'tf.__operators__.getitem_32[0][\n",
      "                                                                 0]']                             \n",
      "                                                                                                  \n",
      " tf.one_hot_6 (TFOpLambda)      (None, 1, None)      0           ['reshape_6[0][0]',              \n",
      "                                                                  'tf.__operators__.getitem_30[0][\n",
      "                                                                 0]']                             \n",
      "                                                                                                  \n",
      " weight_normalisation (MPGNorma  ((None, None, None)  0          ['random_connection[0][0]',      \n",
      " lisationLayer)                 , (None, None, None               'random_connection[0][1]']      \n",
      "                                ))                                                                \n",
      "                                                                                                  \n",
      " tf.cast_13 (TFOpLambda)        (None, 1, None)      0           ['tf.one_hot_6[0][0]']           \n",
      "                                                                                                  \n",
      " weight_noise (EdgeWeightsNoise  [(None, None, None)  0          ['weight_normalisation[0][0]',   \n",
      " Layer)                         , (None, None, None               'weight_normalisation[0][1]']   \n",
      "                                )]                                                                \n",
      "                                                                                                  \n",
      " tf.compat.v1.transpose_12 (TFO  (None, None, 1)     0           ['tf.cast_13[0][0]']             \n",
      " pLambda)                                                                                         \n",
      "                                                                                                  \n",
      " conv_0 (WGCN)                  (None, None, 32)     64          ['weight_noise[0][0]',           \n",
      "                                                                  'weight_noise[0][1]',           \n",
      "                                                                  'tf.compat.v1.transpose_12[0][0]\n",
      "                                                                 ']                               \n",
      "                                                                                                  \n",
      " conv_batch_norm_0 (BatchNormal  (None, None, 32)    128         ['conv_0[0][0]']                 \n",
      " ization)                                                                                         \n",
      "                                                                                                  \n",
      " conv_1 (WGCN)                  (None, None, 16)     528         ['weight_noise[0][0]',           \n",
      "                                                                  'weight_noise[0][1]',           \n",
      "                                                                  'conv_batch_norm_0[0][0]']      \n",
      "                                                                                                  \n",
      " conv_batch_norm_1 (BatchNormal  (None, None, 16)    64          ['conv_1[0][0]']                 \n",
      " ization)                                                                                         \n",
      "                                                                                                  \n",
      " conv_2 (WGCN)                  (None, None, 1)      17          ['weight_noise[0][0]',           \n",
      "                                                                  'weight_noise[0][1]',           \n",
      "                                                                  'conv_batch_norm_1[0][0]']      \n",
      "                                                                                                  \n",
      " conv_batch_norm_2 (BatchNormal  (None, None, 1)     4           ['conv_2[0][0]']                 \n",
      " ization)                                                                                         \n",
      "                                                                                                  \n",
      " conv_3 (WGCN)                  (None, None, 32)     64          ['weight_noise[0][0]',           \n",
      "                                                                  'weight_noise[0][1]',           \n",
      "                                                                  'conv_batch_norm_2[0][0]']      \n",
      "                                                                                                  \n",
      " conv_batch_norm_3 (BatchNormal  (None, None, 32)    128         ['conv_3[0][0]']                 \n",
      " ization)                                                                                         \n",
      "                                                                                                  \n",
      " conv_residual_3 (Add)          (None, None, 32)     0           ['conv_batch_norm_3[0][0]',      \n",
      "                                                                  'tf.compat.v1.transpose_12[0][0]\n",
      "                                                                 ']                               \n",
      "                                                                                                  \n",
      " conv_4 (WGCN)                  (None, None, 16)     528         ['weight_noise[0][0]',           \n",
      "                                                                  'weight_noise[0][1]',           \n",
      "                                                                  'conv_residual_3[0][0]']        \n",
      "                                                                                                  \n",
      " conv_batch_norm_4 (BatchNormal  (None, None, 16)    64          ['conv_4[0][0]']                 \n",
      " ization)                                                                                         \n",
      "                                                                                                  \n",
      " conv_5 (WGCN)                  (None, None, 1)      17          ['weight_noise[0][0]',           \n",
      "                                                                  'weight_noise[0][1]',           \n",
      "                                                                  'conv_batch_norm_4[0][0]']      \n",
      "                                                                                                  \n",
      " conv_batch_norm_5 (BatchNormal  (None, None, 1)     4           ['conv_5[0][0]']                 \n",
      " ization)                                                                                         \n",
      "                                                                                                  \n",
      " tf.compat.v1.transpose_13 (TFO  (None, 1, None)     0           ['conv_batch_norm_5[0][0]']      \n",
      " pLambda)                                                                                         \n",
      "                                                                                                  \n",
      " tf.math.multiply_6 (TFOpLambda  (None, 1, None)     0           ['tf.compat.v1.transpose_13[0][0]\n",
      " )                                                               ',                               \n",
      "                                                                  'tf.one_hot_6[0][0]']           \n",
      "                                                                                                  \n",
      " tf.math.reduce_sum_6 (TFOpLamb  (None, 1)           0           ['tf.math.multiply_6[0][0]']     \n",
      " da)                                                                                              \n",
      "                                                                                                  \n",
      " flat_batch_norm_0 (BatchNormal  (None, 1)           4           ['tf.math.reduce_sum_6[0][0]']   \n",
      " ization)                                                                                         \n",
      "                                                                                                  \n",
      " flat_0 (Dense)                 (None, 128)          256         ['flat_batch_norm_0[0][0]']      \n",
      "                                                                                                  \n",
      " value_targets (Dense)          (None, 1)            129         ['flat_0[0][0]']                 \n",
      "                                                                                                  \n",
      " tf.__operators__.add_2 (TFOpLa  (None, 1)           0           ['value_targets[0][0]']          \n",
      " mbda)                                                                                            \n",
      "                                                                                                  \n",
      " tf.math.truediv_2 (TFOpLambda)  (None, 1)           0           ['tf.__operators__.add_2[0][0]'] \n",
      "                                                                                                  \n",
      "==================================================================================================\n",
      "Total params: 1,999\n",
      "Trainable params: 1,801\n",
      "Non-trainable params: 198\n",
      "__________________________________________________________________________________________________\n"
     ]
    }
   ],
   "source": [
    "model,dataset=main()"
   ]
  },
  {
   "cell_type": "code",
   "execution_count": null,
   "id": "6141de7e-ffc6-480d-af91-09d8a8b71493",
   "metadata": {},
   "outputs": [],
   "source": []
  },
  {
   "cell_type": "code",
   "execution_count": 53,
   "id": "0c10f026-2d25-4e7a-8c0f-1a78d7bc111b",
   "metadata": {},
   "outputs": [
    {
     "name": "stdout",
     "output_type": "stream",
     "text": [
      "Epoch 1/50\n",
      "8/8 [==============================] - 0s 43ms/step - loss: 0.6788 - accuracy: 0.5938\n",
      "Epoch 2/50\n",
      "8/8 [==============================] - 0s 37ms/step - loss: 0.6796 - accuracy: 0.5859\n",
      "Epoch 3/50\n",
      "8/8 [==============================] - 0s 42ms/step - loss: 0.6786 - accuracy: 0.5938\n",
      "Epoch 4/50\n",
      "8/8 [==============================] - 0s 38ms/step - loss: 0.6795 - accuracy: 0.5781\n",
      "Epoch 5/50\n",
      "8/8 [==============================] - 0s 41ms/step - loss: 0.6783 - accuracy: 0.5938\n",
      "Epoch 6/50\n",
      "8/8 [==============================] - 0s 37ms/step - loss: 0.6802 - accuracy: 0.5820\n",
      "Epoch 7/50\n",
      "8/8 [==============================] - 0s 42ms/step - loss: 0.6781 - accuracy: 0.5977\n",
      "Epoch 8/50\n",
      "8/8 [==============================] - 0s 36ms/step - loss: 0.6795 - accuracy: 0.5820\n",
      "Epoch 9/50\n",
      "8/8 [==============================] - 0s 42ms/step - loss: 0.6780 - accuracy: 0.5938\n",
      "Epoch 10/50\n",
      "8/8 [==============================] - 0s 37ms/step - loss: 0.6794 - accuracy: 0.5820\n",
      "Epoch 11/50\n",
      "8/8 [==============================] - 0s 41ms/step - loss: 0.6780 - accuracy: 0.5898\n",
      "Epoch 12/50\n",
      "8/8 [==============================] - 0s 39ms/step - loss: 0.6795 - accuracy: 0.5781\n",
      "Epoch 13/50\n",
      "8/8 [==============================] - 0s 43ms/step - loss: 0.6780 - accuracy: 0.5938\n",
      "Epoch 14/50\n",
      "8/8 [==============================] - 0s 38ms/step - loss: 0.6789 - accuracy: 0.5781\n",
      "Epoch 15/50\n",
      "8/8 [==============================] - 0s 40ms/step - loss: 0.6774 - accuracy: 0.5938\n",
      "Epoch 16/50\n",
      "8/8 [==============================] - 0s 37ms/step - loss: 0.6800 - accuracy: 0.5781\n",
      "Epoch 17/50\n",
      "8/8 [==============================] - 0s 42ms/step - loss: 0.6776 - accuracy: 0.5938\n",
      "Epoch 18/50\n",
      "8/8 [==============================] - 0s 37ms/step - loss: 0.6789 - accuracy: 0.5820\n",
      "Epoch 19/50\n",
      "8/8 [==============================] - 0s 41ms/step - loss: 0.6776 - accuracy: 0.5938\n",
      "Epoch 20/50\n",
      "8/8 [==============================] - 0s 38ms/step - loss: 0.6794 - accuracy: 0.5781\n",
      "Epoch 21/50\n",
      "8/8 [==============================] - 0s 41ms/step - loss: 0.6775 - accuracy: 0.5938\n",
      "Epoch 22/50\n",
      "8/8 [==============================] - 0s 37ms/step - loss: 0.6797 - accuracy: 0.5742\n",
      "Epoch 23/50\n",
      "8/8 [==============================] - 0s 42ms/step - loss: 0.6773 - accuracy: 0.5898\n",
      "Epoch 24/50\n",
      "8/8 [==============================] - 0s 38ms/step - loss: 0.6789 - accuracy: 0.5781\n",
      "Epoch 25/50\n",
      "8/8 [==============================] - 0s 42ms/step - loss: 0.6775 - accuracy: 0.5938\n",
      "Epoch 26/50\n",
      "8/8 [==============================] - 0s 38ms/step - loss: 0.6784 - accuracy: 0.5781\n",
      "Epoch 27/50\n",
      "8/8 [==============================] - 0s 40ms/step - loss: 0.6775 - accuracy: 0.5938\n",
      "Epoch 28/50\n",
      "8/8 [==============================] - 0s 37ms/step - loss: 0.6792 - accuracy: 0.5820\n",
      "Epoch 29/50\n",
      "8/8 [==============================] - 0s 42ms/step - loss: 0.6774 - accuracy: 0.5977\n",
      "Epoch 30/50\n",
      "8/8 [==============================] - 0s 37ms/step - loss: 0.6789 - accuracy: 0.5820\n",
      "Epoch 31/50\n",
      "8/8 [==============================] - 0s 42ms/step - loss: 0.6779 - accuracy: 0.5898\n",
      "Epoch 32/50\n",
      "8/8 [==============================] - 0s 37ms/step - loss: 0.6785 - accuracy: 0.5820\n",
      "Epoch 33/50\n",
      "8/8 [==============================] - 0s 42ms/step - loss: 0.6771 - accuracy: 0.5938\n",
      "Epoch 34/50\n",
      "8/8 [==============================] - 0s 37ms/step - loss: 0.6795 - accuracy: 0.5781\n",
      "Epoch 35/50\n",
      "8/8 [==============================] - 0s 40ms/step - loss: 0.6769 - accuracy: 0.5898\n",
      "Epoch 36/50\n",
      "8/8 [==============================] - 0s 38ms/step - loss: 0.6791 - accuracy: 0.5781\n",
      "Epoch 37/50\n",
      "8/8 [==============================] - 0s 42ms/step - loss: 0.6771 - accuracy: 0.5977\n",
      "Epoch 38/50\n",
      "8/8 [==============================] - 0s 37ms/step - loss: 0.6791 - accuracy: 0.5781\n",
      "Epoch 39/50\n",
      "8/8 [==============================] - 0s 42ms/step - loss: 0.6773 - accuracy: 0.5898\n",
      "Epoch 40/50\n",
      "8/8 [==============================] - 0s 38ms/step - loss: 0.6786 - accuracy: 0.5859\n",
      "Epoch 41/50\n",
      "8/8 [==============================] - 0s 42ms/step - loss: 0.6773 - accuracy: 0.5898\n",
      "Epoch 42/50\n",
      "8/8 [==============================] - 0s 38ms/step - loss: 0.6787 - accuracy: 0.5820\n",
      "Epoch 43/50\n",
      "8/8 [==============================] - 0s 42ms/step - loss: 0.6768 - accuracy: 0.5977\n",
      "Epoch 44/50\n",
      "8/8 [==============================] - 0s 39ms/step - loss: 0.6791 - accuracy: 0.5781\n",
      "Epoch 45/50\n",
      "8/8 [==============================] - 0s 43ms/step - loss: 0.6768 - accuracy: 0.5938\n",
      "Epoch 46/50\n",
      "8/8 [==============================] - 0s 38ms/step - loss: 0.6784 - accuracy: 0.5820\n",
      "Epoch 47/50\n",
      "8/8 [==============================] - 0s 42ms/step - loss: 0.6775 - accuracy: 0.5938\n",
      "Epoch 48/50\n",
      "8/8 [==============================] - 0s 37ms/step - loss: 0.6785 - accuracy: 0.5781\n",
      "Epoch 49/50\n",
      "8/8 [==============================] - 0s 40ms/step - loss: 0.6773 - accuracy: 0.5938\n",
      "Epoch 50/50\n",
      "8/8 [==============================] - 0s 35ms/step - loss: 0.6783 - accuracy: 0.5781\n"
     ]
    },
    {
     "data": {
      "text/plain": [
       "<keras.callbacks.History at 0x7f8cf5c69000>"
      ]
     },
     "execution_count": 53,
     "metadata": {},
     "output_type": "execute_result"
    }
   ],
   "source": [
    "model.fit(dataset,steps_per_epoch=8,epochs=50)"
   ]
  },
  {
   "cell_type": "code",
   "execution_count": 41,
   "id": "7d18b0d4-1e36-419d-aaf6-57acac5352e0",
   "metadata": {},
   "outputs": [
    {
     "name": "stderr",
     "output_type": "stream",
     "text": [
      "2023-07-11 15:32:19.657998: I tensorflow/core/common_runtime/executor.cc:1197] [/device:CPU:0] (DEBUG INFO) Executor start aborting (this does not indicate an error and you can ignore this message): INVALID_ARGUMENT: You must feed a value for placeholder tensor 'Placeholder/_0' with dtype int32\n",
      "\t [[{{node Placeholder/_0}}]]\n"
     ]
    }
   ],
   "source": [
    "X,Y=next(iter(dataset))"
   ]
  },
  {
   "cell_type": "code",
   "execution_count": 42,
   "id": "1212c28e-3d5d-46dc-9dea-457bef3cd160",
   "metadata": {},
   "outputs": [
    {
     "data": {
      "text/plain": [
       "<tf.Tensor: shape=(32,), dtype=float32, numpy=\n",
       "array([-1.,  1.,  1.,  1., -1.,  1., -1., -1.,  1.,  1.,  1., -1.,  1.,\n",
       "        1.,  1., -1., -1.,  1., -1.,  1., -1.,  1.,  1., -1., -1.,  1.,\n",
       "        1., -1., -1., -1.,  1.,  1.], dtype=float32)>"
      ]
     },
     "execution_count": 42,
     "metadata": {},
     "output_type": "execute_result"
    }
   ],
   "source": [
    "Y"
   ]
  },
  {
   "cell_type": "code",
   "execution_count": 45,
   "id": "9af56a1d-21d5-4d24-bc86-45d47d1228f6",
   "metadata": {},
   "outputs": [],
   "source": [
    "sub_model = tf.keras.Model(inputs=model.inputs, outputs=(model.outputs[0]+1)/2)\n",
    "    "
   ]
  },
  {
   "cell_type": "code",
   "execution_count": null,
   "id": "55fbacad-49e3-4fbc-b229-7358b0b16b91",
   "metadata": {},
   "outputs": [],
   "source": []
  }
 ],
 "metadata": {
  "kernelspec": {
   "display_name": "Python 3 (ipykernel)",
   "language": "python",
   "name": "python3"
  },
  "language_info": {
   "codemirror_mode": {
    "name": "ipython",
    "version": 3
   },
   "file_extension": ".py",
   "mimetype": "text/x-python",
   "name": "python",
   "nbconvert_exporter": "python",
   "pygments_lexer": "ipython3",
   "version": "3.10.11"
  }
 },
 "nbformat": 4,
 "nbformat_minor": 5
}
