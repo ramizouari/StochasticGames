{
 "cells": [
  {
   "cell_type": "code",
   "execution_count": 1,
   "id": "224561ef-fca0-4678-8fbc-98a7116d8ff9",
   "metadata": {},
   "outputs": [],
   "source": [
    "import pyspiel"
   ]
  },
  {
   "cell_type": "code",
   "execution_count": 12,
   "id": "ea92fa7d-6712-47be-9e11-95938def04ac",
   "metadata": {},
   "outputs": [],
   "source": [
    "game=pyspiel.load_game(\"mpg(max_moves=50,max_size=100,generator=usgnp,generator_params=3 7 0.3 0.7 -1 1,padding=false,representation=normal)\")"
   ]
  },
  {
   "cell_type": "code",
   "execution_count": 14,
   "id": "fd1fb653-4386-42c2-a06c-402811b11a9b",
   "metadata": {},
   "outputs": [],
   "source": [
    "state=game.new_initial_environment_state()"
   ]
  },
  {
   "cell_type": "code",
   "execution_count": 15,
   "id": "d9213e9a-acf2-45d7-b573-d08a8ff0a618",
   "metadata": {},
   "outputs": [
    {
     "data": {
      "text/plain": [
       "[[7, 7, 2], [1]]"
      ]
     },
     "execution_count": 15,
     "metadata": {},
     "output_type": "execute_result"
    }
   ],
   "source": [
    "state.observation_tensor_shapes_list()"
   ]
  },
  {
   "cell_type": "code",
   "execution_count": 16,
   "id": "0aa8a3ba-f065-4e9b-af05-95eeb8fed834",
   "metadata": {},
   "outputs": [
    {
     "data": {
      "text/plain": [
       "23"
      ]
     },
     "execution_count": 16,
     "metadata": {},
     "output_type": "execute_result"
    }
   ],
   "source": [
    "state.count_edges()"
   ]
  },
  {
   "cell_type": "code",
   "execution_count": 18,
   "id": "43392a69-68b4-46f5-b28e-62bebcacd00b",
   "metadata": {},
   "outputs": [
    {
     "data": {
      "text/plain": [
       "7"
      ]
     },
     "execution_count": 18,
     "metadata": {},
     "output_type": "execute_result"
    }
   ],
   "source": [
    "state.graph_size()"
   ]
  },
  {
   "cell_type": "code",
   "execution_count": 21,
   "id": "8984dfe9-f280-4f72-98ba-6e0af31f13f4",
   "metadata": {},
   "outputs": [
    {
     "data": {
      "text/plain": [
       "(18,)"
      ]
     },
     "execution_count": 21,
     "metadata": {},
     "output_type": "execute_result"
    }
   ],
   "source": [
    "E.shape"
   ]
  },
  {
   "cell_type": "code",
   "execution_count": 22,
   "id": "fc03ca56-e64c-48f0-b7f6-fe60349d3973",
   "metadata": {},
   "outputs": [
    {
     "data": {
      "text/plain": [
       "array([[ 0.        ,  0.08456993,  0.        ],\n",
       "       [-0.88568044,  0.        ,  0.        ],\n",
       "       [ 0.68452108, -0.15285891,  0.26305676]])"
      ]
     },
     "execution_count": 22,
     "metadata": {},
     "output_type": "execute_result"
    }
   ],
   "source": [
    "E=E.reshape(state.observation_tensor_shapes_list()[0])\n",
    "\n",
    "E[:,:,1]"
   ]
  },
  {
   "cell_type": "code",
   "execution_count": 31,
   "id": "d527bfd0-5004-4688-8fea-13fe0ecdb550",
   "metadata": {},
   "outputs": [],
   "source": [
    "state.apply_action(2)"
   ]
  },
  {
   "cell_type": "code",
   "execution_count": 32,
   "id": "146ff560-880f-4a1b-ac95-bd74209a115e",
   "metadata": {},
   "outputs": [
    {
     "data": {
      "text/plain": [
       "13085936220915563836"
      ]
     },
     "execution_count": 32,
     "metadata": {},
     "output_type": "execute_result"
    }
   ],
   "source": [
    "state"
   ]
  },
  {
   "cell_type": "code",
   "execution_count": 53,
   "id": "dcd02ede-14ba-48d7-845f-ec9bbb88cc81",
   "metadata": {},
   "outputs": [],
   "source": [
    "import numpy as np\n",
    "A=np.array(state.observation_tensor())\n",
    "E,s=A[:-1],A[-1]"
   ]
  },
  {
   "cell_type": "code",
   "execution_count": 57,
   "id": "850ed4c9-09b4-4f0e-b5a7-315082644ee0",
   "metadata": {},
   "outputs": [
    {
     "data": {
      "text/plain": [
       "array([[0., 1., 0.],\n",
       "       [1., 0., 0.],\n",
       "       [1., 1., 1.]])"
      ]
     },
     "execution_count": 57,
     "metadata": {},
     "output_type": "execute_result"
    }
   ],
   "source": [
    "E=E.reshape(state.observation_tensor_shapes_list()[0])\n",
    "E[:,:,0]"
   ]
  },
  {
   "cell_type": "code",
   "execution_count": 19,
   "id": "80f58652-42b5-4b6c-88f9-8b6bfea6146c",
   "metadata": {},
   "outputs": [],
   "source": [
    "import pandas as pd\n",
    "df=pd.read_json(\"stats.jsonl\",lines=True)"
   ]
  },
  {
   "cell_type": "code",
   "execution_count": 20,
   "id": "228e59de-3f0f-4d06-abc2-e44cc4b3ac40",
   "metadata": {},
   "outputs": [
    {
     "data": {
      "text/html": [
       "<div>\n",
       "<style scoped>\n",
       "    .dataframe tbody tr th:only-of-type {\n",
       "        vertical-align: middle;\n",
       "    }\n",
       "\n",
       "    .dataframe tbody tr th {\n",
       "        vertical-align: top;\n",
       "    }\n",
       "\n",
       "    .dataframe thead th {\n",
       "        text-align: right;\n",
       "    }\n",
       "</style>\n",
       "<table border=\"1\" class=\"dataframe\">\n",
       "  <thead>\n",
       "    <tr style=\"text-align: right;\">\n",
       "      <th></th>\n",
       "      <th>0</th>\n",
       "      <th>1</th>\n",
       "      <th>2</th>\n",
       "    </tr>\n",
       "  </thead>\n",
       "  <tbody>\n",
       "    <tr>\n",
       "      <th>0</th>\n",
       "      <td>{}</td>\n",
       "      <td>{}</td>\n",
       "      <td>{}</td>\n",
       "    </tr>\n",
       "    <tr>\n",
       "      <th>1</th>\n",
       "      <td>{}</td>\n",
       "      <td>{}</td>\n",
       "      <td>{}</td>\n",
       "    </tr>\n",
       "    <tr>\n",
       "      <th>2</th>\n",
       "      <td>{'start_time': '2023-06-26T00:45:36.482062', '...</td>\n",
       "      <td>{'start_time': '2023-06-26T00:45:36.552605', '...</td>\n",
       "      <td>{'start_time': '2023-06-26T00:45:36.513515', '...</td>\n",
       "    </tr>\n",
       "    <tr>\n",
       "      <th>3</th>\n",
       "      <td>{'start_time': '2023-06-26T00:47:18.853107', '...</td>\n",
       "      <td>{'start_time': '2023-06-26T00:47:19.672664', '...</td>\n",
       "      <td>{'start_time': '2023-06-26T00:47:18.744794', '...</td>\n",
       "    </tr>\n",
       "    <tr>\n",
       "      <th>4</th>\n",
       "      <td>{'start_time': '2023-06-26T00:49:02.368419', '...</td>\n",
       "      <td>{'start_time': '2023-06-26T00:49:02.859706', '...</td>\n",
       "      <td>{'start_time': '2023-06-26T00:49:00.273266', '...</td>\n",
       "    </tr>\n",
       "    <tr>\n",
       "      <th>5</th>\n",
       "      <td>{'start_time': '2023-06-26T00:50:46.122679', '...</td>\n",
       "      <td>{'start_time': '2023-06-26T00:50:44.802517', '...</td>\n",
       "      <td>{'start_time': '2023-06-26T00:50:42.113778', '...</td>\n",
       "    </tr>\n",
       "    <tr>\n",
       "      <th>6</th>\n",
       "      <td>{'start_time': '2023-06-26T00:52:29.063244', '...</td>\n",
       "      <td>{'start_time': '2023-06-26T00:52:27.951881', '...</td>\n",
       "      <td>{'start_time': '2023-06-26T00:52:23.545262', '...</td>\n",
       "    </tr>\n",
       "    <tr>\n",
       "      <th>7</th>\n",
       "      <td>{'start_time': '2023-06-26T00:54:10.909819', '...</td>\n",
       "      <td>{'start_time': '2023-06-26T00:54:09.628702', '...</td>\n",
       "      <td>{'start_time': '2023-06-26T00:54:06.049684', '...</td>\n",
       "    </tr>\n",
       "    <tr>\n",
       "      <th>8</th>\n",
       "      <td>{'start_time': '2023-06-26T00:55:53.082160', '...</td>\n",
       "      <td>{'start_time': '2023-06-26T00:55:51.948519', '...</td>\n",
       "      <td>{'start_time': '2023-06-26T00:55:48.275617', '...</td>\n",
       "    </tr>\n",
       "  </tbody>\n",
       "</table>\n",
       "</div>"
      ],
      "text/plain": [
       "                                                   0  \\\n",
       "0                                                 {}   \n",
       "1                                                 {}   \n",
       "2  {'start_time': '2023-06-26T00:45:36.482062', '...   \n",
       "3  {'start_time': '2023-06-26T00:47:18.853107', '...   \n",
       "4  {'start_time': '2023-06-26T00:49:02.368419', '...   \n",
       "5  {'start_time': '2023-06-26T00:50:46.122679', '...   \n",
       "6  {'start_time': '2023-06-26T00:52:29.063244', '...   \n",
       "7  {'start_time': '2023-06-26T00:54:10.909819', '...   \n",
       "8  {'start_time': '2023-06-26T00:55:53.082160', '...   \n",
       "\n",
       "                                                   1  \\\n",
       "0                                                 {}   \n",
       "1                                                 {}   \n",
       "2  {'start_time': '2023-06-26T00:45:36.552605', '...   \n",
       "3  {'start_time': '2023-06-26T00:47:19.672664', '...   \n",
       "4  {'start_time': '2023-06-26T00:49:02.859706', '...   \n",
       "5  {'start_time': '2023-06-26T00:50:44.802517', '...   \n",
       "6  {'start_time': '2023-06-26T00:52:27.951881', '...   \n",
       "7  {'start_time': '2023-06-26T00:54:09.628702', '...   \n",
       "8  {'start_time': '2023-06-26T00:55:51.948519', '...   \n",
       "\n",
       "                                                   2  \n",
       "0                                                 {}  \n",
       "1                                                 {}  \n",
       "2  {'start_time': '2023-06-26T00:45:36.513515', '...  \n",
       "3  {'start_time': '2023-06-26T00:47:18.744794', '...  \n",
       "4  {'start_time': '2023-06-26T00:49:00.273266', '...  \n",
       "5  {'start_time': '2023-06-26T00:50:42.113778', '...  \n",
       "6  {'start_time': '2023-06-26T00:52:23.545262', '...  \n",
       "7  {'start_time': '2023-06-26T00:54:06.049684', '...  \n",
       "8  {'start_time': '2023-06-26T00:55:48.275617', '...  "
      ]
     },
     "execution_count": 20,
     "metadata": {},
     "output_type": "execute_result"
    }
   ],
   "source": [
    "df"
   ]
  },
  {
   "cell_type": "code",
   "execution_count": 1,
   "id": "53f0897c-1336-48f9-93e2-487fdf8e477b",
   "metadata": {},
   "outputs": [],
   "source": [
    "import pyspiel \n",
    "from mpg.games.mpg import MeanPayoffGraph\n",
    "G=MeanPayoffGraph()\n",
    "G.add_edge(0,1,2)\n",
    "G.add_edge(1,0,1)"
   ]
  },
  {
   "cell_type": "code",
   "execution_count": 57,
   "id": "ec32b0b2-9fb1-40bf-81ac-e9b22cd0ddc3",
   "metadata": {},
   "outputs": [],
   "source": [
    "game=pyspiel.load_game(\"mpg(max_repeats=3,max_size=2,generator=gnp,generator_params=50 1 -1 1)\")\n",
    "state=game.new_initial_state()"
   ]
  },
  {
   "cell_type": "code",
   "execution_count": 58,
   "id": "c7a21a23-4913-4509-8e7b-990979f9cd79",
   "metadata": {},
   "outputs": [],
   "source": [
    "import open_spiel.python.algorithms.alpha_zero_mpg.bots as mpg_bots\n",
    "import open_spiel.python.algorithms.mcts as mcts"
   ]
  },
  {
   "cell_type": "code",
   "execution_count": 59,
   "id": "73f78c58-8b2e-47e3-b363-45bfb7f887ff",
   "metadata": {},
   "outputs": [],
   "source": [
    "uct_c=1\n",
    "max_simulations=1000\n",
    "evaluator_=mcts.RandomRolloutEvaluator()\n",
    "noise=(1,1)\n",
    "solve=False\n",
    "bot=mcts.MCTSBot(\n",
    "        game,\n",
    "        uct_c,\n",
    "        max_simulations,\n",
    "        evaluator_,\n",
    "        solve=solve,\n",
    "        dirichlet_noise=None,\n",
    "        child_selection_fn=mcts.SearchNode.puct_value,\n",
    "        verbose=False,\n",
    "        dont_return_chance_node=True)"
   ]
  },
  {
   "cell_type": "code",
   "execution_count": 44,
   "id": "610caba9-474b-4ae3-96f7-048229cb0b1f",
   "metadata": {},
   "outputs": [],
   "source": [
    "state.apply_action(12)"
   ]
  },
  {
   "cell_type": "code",
   "execution_count": 61,
   "id": "87800237-705e-4640-a4be-2432f067fd94",
   "metadata": {},
   "outputs": [],
   "source": [
    "root=bot.mcts_search(state)"
   ]
  },
  {
   "cell_type": "code",
   "execution_count": 62,
   "id": "a4d8ac3b-edbc-4a37-8143-37ea0d0df85e",
   "metadata": {},
   "outputs": [
    {
     "data": {
      "text/plain": [
       "0.218"
      ]
     },
     "execution_count": 62,
     "metadata": {},
     "output_type": "execute_result"
    }
   ],
   "source": [
    "root.total_reward / root.explore_count"
   ]
  },
  {
   "cell_type": "code",
   "execution_count": 24,
   "id": "3e33c531-91b7-48e0-aabf-b2cc5e655228",
   "metadata": {},
   "outputs": [
    {
     "data": {
      "text/plain": [
       "@@@\n",
       "@Graph: \n",
       "{0: (0, 0.263057) (4, 0.812603) (5, -0.311229) (7, 0.194989) (8, 0.684521) (10, 0.98429) (11, 0.311052) (13, -0.88568) (14, -0.680413) (16, -0.152859) (17, -0.153704) (20, 0.0845699) (23, -0.920862) (27, 0.860862) \n",
       "1: (0, 0.158528) (1, -0.708368) (2, -0.425139) (6, 0.115361) (7, 0.390841) (8, 0.580379) (10, -0.110658) (13, 0.129099) (16, -0.707164) (17, -0.699669) (18, -0.960132) (19, 0.108815) (21, 0.374664) (24, -0.223694) (27, 0.857578) (28, -0.640412) (29, -0.49077) \n",
       "2: (4, -0.680914) (6, 0.970941) (7, 0.960815) (10, -0.485821) (11, -0.0476629) (13, 0.340131) (14, 0.535543) (17, 0.676366) (18, -0.654885) (19, -0.73994) (20, -0.366541) (21, 0.765722) (22, -0.200392) (24, -0.16425) (27, 0.0318798) (29, -0.620184) \n",
       "3: (3, 0.191835) (5, -0.609584) (7, -0.571858) (10, -0.712209) (11, 0.51575) (12, -0.769123) (13, 0.685931) (15, 0.72779) (16, 0.0590172) (17, 0.0805644) (21, 0.06613) (23, -0.767977) (25, 0.90055) (26, 0.595112) (28, -0.443309) (29, -0.009911) \n",
       "4: (2, -0.860275) (12, -0.183366) (13, -0.397104) (17, -0.994522) (18, -0.603605) (19, 0.784669) (22, 0.106214) (23, -0.172926) (24, -0.905415) (25, 0.546056) (29, 0.386341) \n",
       "5: (2, -0.546744) (3, 0.347095) (8, 0.496028) (10, 0.806802) (14, -0.98872) (15, 0.60677) (18, -0.849767) (20, -0.690944) (21, 0.330527) (23, -0.339167) (24, -0.45089) (28, 0.201909) \n",
       "6: (2, -0.329877) (4, 0.128527) (5, 0.475265) (6, 0.424815) (8, 0.36937) (9, -0.901942) (10, -0.028711) (14, 0.994035) (15, 0.679522) (17, 0.702449) (19, 0.324236) (21, 0.570853) (22, 0.609971) (23, -0.189888) (26, 0.602811) (27, 0.251982) (29, 0.209975) \n",
       "7: (2, -0.0926375) (3, 0.481881) (5, -0.447989) (9, 0.93972) (10, 0.140162) (14, 0.662463) (17, -0.806755) (19, -0.793793) (21, -0.796731) (22, 0.180456) (28, 0.199481) (29, -0.251091) \n",
       "8: (2, 0.149865) (4, 0.373758) (5, 0.0136913) (6, -0.793437) (8, -0.0256594) (15, -0.110814) (18, 0.550533) (19, 0.654254) (20, 0.920707) (22, 0.90422) (23, 0.290834) (24, 0.434951) (27, -0.450812) \n",
       "9: (0, 0.247779) (6, 0.192652) (7, -0.387876) (8, 0.337366) (10, 0.120934) (12, -0.859539) (13, -0.317535) (19, -0.0255332) (20, 0.374042) (22, -0.886824) (24, -0.927319) (25, -0.000289083) (27, 0.572061) (28, -0.191385) \n",
       "10: (0, -0.992484) (1, -0.490042) (2, 0.66124) (3, 0.247666) (5, -0.0918027) (6, -0.212789) (7, -0.0987276) (8, 0.933283) (9, -0.16081) (10, -0.243277) (11, -0.789835) (12, 0.720928) (15, -0.0950102) (18, 0.192067) (20, 0.960425) (21, -0.748893) (24, -0.337759) (25, -0.785549) (28, -0.0170453) \n",
       "11: (1, -0.748108) (3, -0.631604) (6, -0.811246) (8, 0.966709) (9, -0.111476) (11, -0.603798) (13, 0.297182) (14, 0.899848) (15, 0.403593) (18, 0.147282) (19, -0.332157) (20, 0.503117) (24, -0.342033) (26, -0.337918) (29, -0.023625) \n",
       "12: (1, 0.294474) (3, -0.439768) (4, 0.821805) (5, -0.337761) (7, 0.0842443) (8, 0.886293) (9, 0.177292) (10, 0.985832) (11, 0.462784) (12, 0.300549) (16, 0.480348) (17, -0.638533) (18, 0.360517) (20, 0.627629) (21, -0.70464) (23, 0.239145) (24, -0.556164) (28, -0.84574) (29, -0.981499) \n",
       "13: (0, 0.150469) (2, -0.111973) (3, -0.588864) (4, 0.645352) (5, -0.0773843) (6, 0.104743) (7, 0.552068) (10, 0.00509202) (12, 0.37283) (13, 0.217659) (14, -0.0923784) (15, 0.816068) (16, -0.190629) (19, 0.476219) (21, 0.877212) (22, -0.461756) (25, -0.544291) (26, -0.47948) (27, 0.68497) (29, 0.392773) \n",
       "14: (5, 0.9113) (10, 0.406933) (12, 0.848305) (13, 0.621766) (14, -0.286971) (20, 0.191931) (21, 0.8169) (22, -0.931434) (23, 0.849699) (25, -0.980927) (28, 0.371044) (29, 0.330394) \n",
       "15: (0, 0.564269) (2, 0.853507) (5, 0.320186) (7, 0.578784) (11, -0.715654) (12, 0.99414) (14, -0.0939113) (16, -0.0680391) (18, 0.10761) (19, 0.835984) (21, -0.047332) (23, 0.795408) (24, 0.499041) (25, 0.113937) (28, 0.582417) \n",
       "16: (0, 0.00748265) (1, -0.0872069) (2, 0.824622) (4, 0.570179) (5, -0.200377) (6, -0.319651) (7, 0.203324) (9, 0.804265) (10, -0.436439) (11, -0.046112) (13, 0.734832) (16, -0.217342) (19, -0.41232) (20, -0.594333) (22, -0.040782) (23, -0.0611322) (27, 0.0129569) (28, -0.916343) (29, -0.358536) \n",
       "17: (2, 0.652448) (4, 0.407295) (6, 0.20445) (7, 0.993342) (10, 0.328669) (11, -0.756447) (12, 0.393936) (13, 0.331838) (16, -0.06486) (20, 0.274001) (28, -0.775944) (29, -0.363658) \n",
       "18: (0, 0.992049) (3, -0.75529) (5, -0.581979) (6, -0.101514) (10, 0.18206) (12, -0.365551) (13, -0.40728) (14, 0.495353) (16, -0.367199) (18, 0.0265055) (21, 0.803699) (24, -0.895858) (25, -0.272861) (27, 0.797173) (29, 0.216903) \n",
       "19: (0, 0.689341) (1, 0.801507) (3, -0.812646) (6, -0.000612199) (9, 0.475951) (10, -0.949787) (11, 0.701545) (12, 0.771076) (14, 0.277066) (15, 0.912808) (17, -0.512885) (22, -0.135811) (24, 0.390638) (25, 0.345966) (26, 0.163632) (27, -0.256072) (28, -0.420226) \n",
       "20: (0, 0.252583) (2, 0.0977986) (4, -0.526815) (5, 0.656173) (7, 0.0925287) (11, -0.360221) (12, 0.914914) (13, 0.217381) (15, 0.360407) (18, -0.900173) (19, 0.636184) (22, 0.535777) (24, 0.145123) (25, 0.958786) (27, -0.631015) \n",
       "21: (0, -0.170155) (1, 0.971825) (2, 0.933332) (3, 0.895694) (5, -0.0120587) (6, 0.940036) (7, 0.669337) (11, 0.487954) (12, -0.320252) (13, -0.637718) (14, 0.430087) (15, 0.554667) (16, -0.103845) (18, 0.0194583) (19, 0.542372) (22, 0.00126052) (24, 0.219757) (27, 0.207224) (28, 0.543114) \n",
       "22: (1, -0.998829) (2, -0.8444) (3, -0.846386) (6, 0.303337) (7, 0.601361) (9, -0.485543) (11, -0.145872) (12, -0.515862) (13, -0.853157) (14, -0.0226845) (19, -0.666336) (22, -0.483391) (23, 0.464767) (25, -0.224675) (26, 0.575687) \n",
       "23: (0, -0.694079) (2, 0.435632) (5, 0.929831) (6, 0.0863516) (8, 0.136647) (9, -0.00912517) (12, -0.196469) (17, 0.225574) (21, 0.0194159) (24, 0.708268) (25, 0.989098) (27, 0.231616) \n",
       "24: (0, 0.197106) (1, 0.770069) (2, 0.959509) (3, -0.0115509) (4, -0.3063) (5, 0.669866) (8, -0.174403) (10, -0.736315) (12, -0.138029) (14, 0.230675) (16, 0.196722) (23, 0.433302) (25, -0.431397) (28, 0.649674) (29, -0.43747) \n",
       "25: (0, -0.72079) (1, -0.064962) (3, 0.691508) (4, 0.421098) (6, -0.943165) (7, 0.36228) (10, -0.205988) (11, 0.0102086) (12, -0.916177) (14, -0.257593) (17, -0.845828) (18, -0.0690284) (21, 0.958035) (22, -0.325099) (25, -0.560954) (28, -0.822404) \n",
       "26: (1, 0.5112) (2, 0.623359) (4, 0.102606) (6, 0.346157) (15, -0.751568) (16, -0.513197) (18, 0.912319) (19, -0.71071) (20, -0.71465) (23, -0.154922) (25, -0.161023) (27, -0.271323) (28, 0.963588) \n",
       "27: (0, 0.731848) (2, 0.448351) (3, 0.984358) (4, -0.534914) (5, 0.863707) (8, -0.10696) (9, -0.153851) (10, 0.113538) (14, 0.258787) (15, -0.739592) (17, -0.659499) (20, -0.948191) (22, -0.0499498) (23, 0.656431) (26, -0.149944) (28, -0.323052) (29, -0.986974) \n",
       "28: (3, 0.0667294) (5, -0.72702) (7, 0.361673) (12, -0.802376) (13, -0.52422) (15, -0.731527) (16, -0.48346) (20, 0.250727) (21, -0.53272) (22, 0.420443) (23, 0.339411) (26, 0.265229) (27, -0.236092) (29, -0.400612) \n",
       "29: (2, -0.715977) (3, -0.0844937) (4, 0.958879) (6, 0.3283) (7, -0.494235) (9, 0.566941) (10, 0.586871) (14, -0.640444) (16, -0.810479) (18, -0.621077) (19, -0.923338) (20, 0.707737) (24, 0.163704) (26, 0.360118) (27, -0.616324) (28, 0.642031) (29, 0.59509) \n",
       "}\n",
       "@Current state: 4\n",
       "@Current player: 0\n",
       "@Number of moves: 0\n",
       "@@@"
      ]
     },
     "execution_count": 24,
     "metadata": {},
     "output_type": "execute_result"
    }
   ],
   "source": [
    "state"
   ]
  },
  {
   "cell_type": "code",
   "execution_count": 54,
   "id": "eb592f0e-f3da-41a1-8cbc-e1769cc0100a",
   "metadata": {},
   "outputs": [],
   "source": [
    "E=state.observation_tensor()"
   ]
  },
  {
   "cell_type": "code",
   "execution_count": 55,
   "id": "eee73578-9872-46b4-b502-78006bf4582d",
   "metadata": {},
   "outputs": [],
   "source": [
    "import numpy as np\n",
    "E=np.reshape(E[:-1],(2,2,2))"
   ]
  },
  {
   "cell_type": "code",
   "execution_count": 57,
   "id": "ee39685f-e578-4fe9-a357-c9ba71560369",
   "metadata": {},
   "outputs": [
    {
     "data": {
      "text/plain": [
       "array([[1., 0.],\n",
       "       [1., 0.]])"
      ]
     },
     "execution_count": 57,
     "metadata": {},
     "output_type": "execute_result"
    }
   ],
   "source": [
    "E[:,:,0]"
   ]
  },
  {
   "cell_type": "code",
   "execution_count": 104,
   "id": "a53fa9ab-ad40-4605-ac1b-f0760ad216ec",
   "metadata": {},
   "outputs": [
    {
     "data": {
      "text/plain": [
       "[667, 332]"
      ]
     },
     "execution_count": 104,
     "metadata": {},
     "output_type": "execute_result"
    }
   ],
   "source": [
    "[child.explore_count for child in root.children]"
   ]
  },
  {
   "cell_type": "code",
   "execution_count": 107,
   "id": "4a1d741e-1c05-4d74-94cb-95409a2d769d",
   "metadata": {},
   "outputs": [
    {
     "data": {
      "text/plain": [
       "0.984290361404419"
      ]
     },
     "execution_count": 107,
     "metadata": {},
     "output_type": "execute_result"
    }
   ],
   "source": [
    "state.get_meanpayoff()"
   ]
  },
  {
   "cell_type": "code",
   "execution_count": 32,
   "id": "61ff9449-85ac-4544-bfc4-f620f01acbc2",
   "metadata": {},
   "outputs": [],
   "source": [
    "import tensorflow as tf\n",
    "A=tf.random.uniform([5,5,3,6,6]) < 0\n",
    "B=tf.reduce_any(A,axis=-1)\n",
    "Z=tf.linalg.diag(~B)\n",
    "C=A|Z"
   ]
  },
  {
   "cell_type": "code",
   "execution_count": 33,
   "id": "1eb61b50-cec0-4dc3-be01-0d028ed6773d",
   "metadata": {},
   "outputs": [
    {
     "data": {
      "text/plain": [
       "<tf.Tensor: shape=(), dtype=bool, numpy=False>"
      ]
     },
     "execution_count": 33,
     "metadata": {},
     "output_type": "execute_result"
    }
   ],
   "source": []
  },
  {
   "cell_type": "code",
   "execution_count": 40,
   "id": "2ff0cdc3-cfe3-4ea4-92b8-789a0fbf5138",
   "metadata": {},
   "outputs": [
    {
     "data": {
      "text/plain": [
       "<tf.Tensor: shape=(2,), dtype=bool, numpy=array([False,  True])>"
      ]
     },
     "execution_count": 40,
     "metadata": {},
     "output_type": "execute_result"
    }
   ],
   "source": [
    "tf.cast(tf.constant([-0.,5.]),dtype=tf.bool)"
   ]
  },
  {
   "cell_type": "code",
   "execution_count": null,
   "id": "da0380c9-294c-4bfc-bbc8-e7a1f4aca829",
   "metadata": {},
   "outputs": [],
   "source": []
  }
 ],
 "metadata": {
  "kernelspec": {
   "display_name": "Python 3 (ipykernel)",
   "language": "python",
   "name": "python3"
  },
  "language_info": {
   "codemirror_mode": {
    "name": "ipython",
    "version": 3
   },
   "file_extension": ".py",
   "mimetype": "text/x-python",
   "name": "python",
   "nbconvert_exporter": "python",
   "pygments_lexer": "ipython3",
   "version": "3.10.11"
  }
 },
 "nbformat": 4,
 "nbformat_minor": 5
}
