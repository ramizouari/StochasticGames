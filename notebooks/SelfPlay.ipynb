{
 "cells": [
  {
   "cell_type": "code",
   "execution_count": 3,
   "id": "a48f68a2-ade5-4644-944b-2ab34fa548ca",
   "metadata": {
    "ExecuteTime": {
     "end_time": "2023-06-01T03:51:00.310238434Z",
     "start_time": "2023-06-01T03:51:00.269549531Z"
    }
   },
   "outputs": [],
   "source": [
    "import coloredlogs\n",
    "import logging\n",
    "from mpg.sp.azg.Coach import Coach\n",
    "import mpg.sp.MPGGame as mpg_game\n",
    "from mpg.sp.MPGGame import UniformGnpMPGGame as Game\n",
    "from mpg.sp.NNet import NNetWrapper as nn\n",
    "from mpg.sp.azg.utils import *\n",
    "import importlib\n",
    "importlib.reload(mpg_game)\n",
    "\n",
    "log = logging.getLogger(__name__)\n",
    "\n",
    "coloredlogs.install(level='INFO')  # Change this to DEBUG to see more info.\n",
    "\n",
    "args = dotdict({\n",
    "    'numIters': 1000,\n",
    "    'numEps': 10,              # Number of complete self-play games to simulate during a new iteration.\n",
    "    'tempThreshold': 15,        #\n",
    "    'updateThreshold': 0.6,     # During arena playoff, new neural net will be accepted if threshold or more of games are won.\n",
    "    'maxlenOfQueue': 200000,    # Number of game examples to train the neural networks.\n",
    "    'numMCTSSims': 25,          # Number of games moves for MCTS to simulate.\n",
    "    'arenaCompare': 40,         # Number of games to play during arena play to determine if new net will be accepted.\n",
    "    'cpuct': 8,\n",
    "\n",
    "    'checkpoint': './temp/',\n",
    "    'load_model': False,\n",
    "    'load_folder_file': ('/dev/models/8x100x50','best.pth.tar'),\n",
    "    'numItersForTrainExamplesHistory': 20,\n",
    "\n",
    "})\n",
    "\n",
    "def main():\n",
    "    log.info('Loading %s...', Game.__name__)\n",
    "    g = Game(n=6,p=0.6,a=-1,b=1,max_turns=12,seeder=25)\n",
    "\n",
    "    log.info('Loading %s...', nn.__name__)\n",
    "    nnet = nn(g)\n",
    "\n",
    "    if args.load_model:\n",
    "        log.info('Loading checkpoint \"%s/%s\"...', args.load_folder_file[0], args.load_folder_file[1])\n",
    "        nnet.load_checkpoint(args.load_folder_file[0], args.load_folder_file[1])\n",
    "    else:\n",
    "        log.warning('Not loading a checkpoint!')\n",
    "\n",
    "    log.info('Loading the Coach...')\n",
    "    c = Coach(g, nnet, args)\n",
    "\n",
    "    if args.load_model:\n",
    "        log.info(\"Loading 'trainExamples' from file...\")\n",
    "        c.loadTrainExamples()\n",
    "\n",
    "    log.info('Starting the learning process 🎉')\n",
    "    c.learn()"
   ]
  },
  {
   "cell_type": "code",
   "execution_count": 4,
   "id": "556da03f-b372-45c9-bca0-3a65b0246463",
   "metadata": {
    "ExecuteTime": {
     "end_time": "2023-06-01T03:51:21.828812669Z",
     "start_time": "2023-06-01T03:51:01.780589256Z"
    }
   },
   "outputs": [
    {
     "name": "stderr",
     "output_type": "stream",
     "text": [
      "2023-06-01 05:51:01 fedora __main__[414526] INFO Loading UniformGnpMPGGame...\n",
      "2023-06-01 05:51:01 fedora __main__[414526] INFO Loading NNetWrapper...\n",
      "2023-06-01 05:51:01 fedora __main__[414526] WARNING Not loading a checkpoint!\n",
      "2023-06-01 05:51:01 fedora __main__[414526] INFO Loading the Coach...\n",
      "2023-06-01 05:51:01 fedora __main__[414526] INFO Starting the learning process 🎉\n",
      "2023-06-01 05:51:01 fedora mpg.sp.azg.Coach[414526] INFO Starting Iter #1 ...\n",
      "Self Play: 100%|████████████████████████████████| 10/10 [00:09<00:00,  1.03it/s]"
     ]
    },
    {
     "name": "stdout",
     "output_type": "stream",
     "text": [
      "Checkpoint Directory exists! \n",
      "Epoch 1/10\n"
     ]
    },
    {
     "name": "stderr",
     "output_type": "stream",
     "text": [
      "\n"
     ]
    },
    {
     "name": "stdout",
     "output_type": "stream",
     "text": [
      "1/1 [==============================] - 1s 1s/step - loss: 4.7240 - pi_loss: 2.6840 - v_loss: 2.0401\n",
      "Epoch 2/10\n",
      "1/1 [==============================] - 0s 13ms/step - loss: 3.9809 - pi_loss: 2.5302 - v_loss: 1.4507\n",
      "Epoch 3/10\n",
      "1/1 [==============================] - 0s 13ms/step - loss: 3.4604 - pi_loss: 2.3873 - v_loss: 1.0731\n",
      "Epoch 4/10\n",
      "1/1 [==============================] - 0s 12ms/step - loss: 3.1028 - pi_loss: 2.2549 - v_loss: 0.8479\n",
      "Epoch 5/10\n",
      "1/1 [==============================] - 0s 11ms/step - loss: 2.8845 - pi_loss: 2.1332 - v_loss: 0.7513\n",
      "Epoch 6/10\n",
      "1/1 [==============================] - 0s 15ms/step - loss: 2.6954 - pi_loss: 2.0249 - v_loss: 0.6705\n",
      "Epoch 7/10\n",
      "1/1 [==============================] - 0s 13ms/step - loss: 2.4385 - pi_loss: 1.9336 - v_loss: 0.5049\n",
      "Epoch 8/10\n",
      "1/1 [==============================] - 0s 11ms/step - loss: 2.1455 - pi_loss: 1.8585 - v_loss: 0.2870\n",
      "Epoch 9/10\n",
      "1/1 [==============================] - 0s 13ms/step - loss: 1.9213 - pi_loss: 1.7958 - v_loss: 0.1255\n",
      "Epoch 10/10\n",
      "1/1 [==============================] - 0s 12ms/step - loss: 1.7703 - pi_loss: 1.7433 - v_loss: 0.0270\n"
     ]
    },
    {
     "name": "stderr",
     "output_type": "stream",
     "text": [
      "2023-06-01 05:51:13 fedora mpg.sp.azg.Coach[414526] INFO PITTING AGAINST PREVIOUS VERSION\n",
      "Arena.playGames (1): 100%|██████████████████████| 20/20 [00:00<00:00, 20.35it/s]\n"
     ]
    },
    {
     "name": "stdout",
     "output_type": "stream",
     "text": [
      "probs:  [1 0 0 0 0 0]\n"
     ]
    },
    {
     "name": "stderr",
     "output_type": "stream",
     "text": [
      "Arena.playGames (2): 100%|██████████████████| 20/20 [00:00<00:00, 243854.88it/s]\n",
      "2023-06-01 05:51:14 fedora mpg.sp.azg.Coach[414526] INFO NEW/PREV WINS : 20 / 20 ; DRAWS : 0\n",
      "2023-06-01 05:51:14 fedora mpg.sp.azg.Coach[414526] INFO REJECTING NEW MODEL\n",
      "2023-06-01 05:51:14 fedora mpg.sp.azg.Coach[414526] INFO Starting Iter #2 ...\n",
      "Self Play:  70%|███████████████████████          | 7/10 [00:06<00:02,  1.04it/s]\n"
     ]
    },
    {
     "ename": "KeyboardInterrupt",
     "evalue": "",
     "output_type": "error",
     "traceback": [
      "\u001B[0;31m---------------------------------------------------------------------------\u001B[0m",
      "\u001B[0;31mKeyboardInterrupt\u001B[0m                         Traceback (most recent call last)",
      "Cell \u001B[0;32mIn[4], line 1\u001B[0m\n\u001B[0;32m----> 1\u001B[0m \u001B[43mmain\u001B[49m\u001B[43m(\u001B[49m\u001B[43m)\u001B[49m\n",
      "Cell \u001B[0;32mIn[3], line 53\u001B[0m, in \u001B[0;36mmain\u001B[0;34m()\u001B[0m\n\u001B[1;32m     50\u001B[0m     c\u001B[38;5;241m.\u001B[39mloadTrainExamples()\n\u001B[1;32m     52\u001B[0m log\u001B[38;5;241m.\u001B[39minfo(\u001B[38;5;124m'\u001B[39m\u001B[38;5;124mStarting the learning process 🎉\u001B[39m\u001B[38;5;124m'\u001B[39m)\n\u001B[0;32m---> 53\u001B[0m \u001B[43mc\u001B[49m\u001B[38;5;241;43m.\u001B[39;49m\u001B[43mlearn\u001B[49m\u001B[43m(\u001B[49m\u001B[43m)\u001B[49m\n",
      "File \u001B[0;32m~/Academic/AI/MeanPayOffGames/notebooks/mpg/sp/azg/Coach.py:89\u001B[0m, in \u001B[0;36mCoach.learn\u001B[0;34m(self)\u001B[0m\n\u001B[1;32m     87\u001B[0m \u001B[38;5;28;01mfor\u001B[39;00m _ \u001B[38;5;129;01min\u001B[39;00m tqdm(\u001B[38;5;28mrange\u001B[39m(\u001B[38;5;28mself\u001B[39m\u001B[38;5;241m.\u001B[39margs\u001B[38;5;241m.\u001B[39mnumEps), desc\u001B[38;5;241m=\u001B[39m\u001B[38;5;124m\"\u001B[39m\u001B[38;5;124mSelf Play\u001B[39m\u001B[38;5;124m\"\u001B[39m):\n\u001B[1;32m     88\u001B[0m     \u001B[38;5;28mself\u001B[39m\u001B[38;5;241m.\u001B[39mmcts \u001B[38;5;241m=\u001B[39m MCTS(\u001B[38;5;28mself\u001B[39m\u001B[38;5;241m.\u001B[39mgame, \u001B[38;5;28mself\u001B[39m\u001B[38;5;241m.\u001B[39mnnet, \u001B[38;5;28mself\u001B[39m\u001B[38;5;241m.\u001B[39margs)  \u001B[38;5;66;03m# reset search tree\u001B[39;00m\n\u001B[0;32m---> 89\u001B[0m     iterationTrainExamples \u001B[38;5;241m+\u001B[39m\u001B[38;5;241m=\u001B[39m \u001B[38;5;28;43mself\u001B[39;49m\u001B[38;5;241;43m.\u001B[39;49m\u001B[43mexecuteEpisode\u001B[49m\u001B[43m(\u001B[49m\u001B[43m)\u001B[49m\n\u001B[1;32m     91\u001B[0m \u001B[38;5;66;03m# save the iteration examples to the history \u001B[39;00m\n\u001B[1;32m     92\u001B[0m \u001B[38;5;28mself\u001B[39m\u001B[38;5;241m.\u001B[39mtrainExamplesHistory\u001B[38;5;241m.\u001B[39mappend(iterationTrainExamples)\n",
      "File \u001B[0;32m~/Academic/AI/MeanPayOffGames/notebooks/mpg/sp/azg/Coach.py:58\u001B[0m, in \u001B[0;36mCoach.executeEpisode\u001B[0;34m(self)\u001B[0m\n\u001B[1;32m     55\u001B[0m canonicalBoard \u001B[38;5;241m=\u001B[39m \u001B[38;5;28mself\u001B[39m\u001B[38;5;241m.\u001B[39mgame\u001B[38;5;241m.\u001B[39mgetCanonicalForm(board, \u001B[38;5;28mself\u001B[39m\u001B[38;5;241m.\u001B[39mcurPlayer)\n\u001B[1;32m     56\u001B[0m temp \u001B[38;5;241m=\u001B[39m \u001B[38;5;28mint\u001B[39m(episodeStep \u001B[38;5;241m<\u001B[39m \u001B[38;5;28mself\u001B[39m\u001B[38;5;241m.\u001B[39margs\u001B[38;5;241m.\u001B[39mtempThreshold)\n\u001B[0;32m---> 58\u001B[0m pi \u001B[38;5;241m=\u001B[39m \u001B[38;5;28;43mself\u001B[39;49m\u001B[38;5;241;43m.\u001B[39;49m\u001B[43mmcts\u001B[49m\u001B[38;5;241;43m.\u001B[39;49m\u001B[43mgetActionProb\u001B[49m\u001B[43m(\u001B[49m\u001B[43mcanonicalBoard\u001B[49m\u001B[43m,\u001B[49m\u001B[43m \u001B[49m\u001B[43mtemp\u001B[49m\u001B[38;5;241;43m=\u001B[39;49m\u001B[43mtemp\u001B[49m\u001B[43m)\u001B[49m\n\u001B[1;32m     59\u001B[0m sym \u001B[38;5;241m=\u001B[39m \u001B[38;5;28mself\u001B[39m\u001B[38;5;241m.\u001B[39mgame\u001B[38;5;241m.\u001B[39mgetSymmetries(canonicalBoard, pi)\n\u001B[1;32m     60\u001B[0m \u001B[38;5;28;01mfor\u001B[39;00m b, p \u001B[38;5;129;01min\u001B[39;00m sym:\n",
      "File \u001B[0;32m~/Academic/AI/MeanPayOffGames/notebooks/mpg/sp/azg/MCTS.py:38\u001B[0m, in \u001B[0;36mMCTS.getActionProb\u001B[0;34m(self, canonicalBoard, temp)\u001B[0m\n\u001B[1;32m     29\u001B[0m \u001B[38;5;124;03m\"\"\"\u001B[39;00m\n\u001B[1;32m     30\u001B[0m \u001B[38;5;124;03mThis function performs numMCTSSims simulations of MCTS starting from\u001B[39;00m\n\u001B[1;32m     31\u001B[0m \u001B[38;5;124;03mcanonicalBoard.\u001B[39;00m\n\u001B[0;32m   (...)\u001B[0m\n\u001B[1;32m     35\u001B[0m \u001B[38;5;124;03m           proportional to Nsa[(s,a)]**(1./temp)\u001B[39;00m\n\u001B[1;32m     36\u001B[0m \u001B[38;5;124;03m\"\"\"\u001B[39;00m\n\u001B[1;32m     37\u001B[0m \u001B[38;5;28;01mfor\u001B[39;00m i \u001B[38;5;129;01min\u001B[39;00m \u001B[38;5;28mrange\u001B[39m(\u001B[38;5;28mself\u001B[39m\u001B[38;5;241m.\u001B[39margs\u001B[38;5;241m.\u001B[39mnumMCTSSims):\n\u001B[0;32m---> 38\u001B[0m     \u001B[38;5;28;43mself\u001B[39;49m\u001B[38;5;241;43m.\u001B[39;49m\u001B[43msearch\u001B[49m\u001B[43m(\u001B[49m\u001B[43mcanonicalBoard\u001B[49m\u001B[43m)\u001B[49m\n\u001B[1;32m     40\u001B[0m s \u001B[38;5;241m=\u001B[39m \u001B[38;5;28mself\u001B[39m\u001B[38;5;241m.\u001B[39mgame\u001B[38;5;241m.\u001B[39mstringRepresentation(canonicalBoard)\n\u001B[1;32m     41\u001B[0m counts \u001B[38;5;241m=\u001B[39m np\u001B[38;5;241m.\u001B[39marray([\u001B[38;5;28mself\u001B[39m\u001B[38;5;241m.\u001B[39mNsa[(s, a)] \u001B[38;5;28;01mif\u001B[39;00m (s, a) \u001B[38;5;129;01min\u001B[39;00m \u001B[38;5;28mself\u001B[39m\u001B[38;5;241m.\u001B[39mNsa \u001B[38;5;28;01melse\u001B[39;00m \u001B[38;5;241m0\u001B[39m \u001B[38;5;28;01mfor\u001B[39;00m a \u001B[38;5;129;01min\u001B[39;00m \u001B[38;5;28mrange\u001B[39m(\u001B[38;5;28mself\u001B[39m\u001B[38;5;241m.\u001B[39mgame\u001B[38;5;241m.\u001B[39mgetActionSize())])\n",
      "File \u001B[0;32m~/Academic/AI/MeanPayOffGames/notebooks/mpg/sp/azg/MCTS.py:139\u001B[0m, in \u001B[0;36mMCTS.search\u001B[0;34m(self, canonicalBoard)\u001B[0m\n\u001B[1;32m    136\u001B[0m next_s, next_player \u001B[38;5;241m=\u001B[39m \u001B[38;5;28mself\u001B[39m\u001B[38;5;241m.\u001B[39mgame\u001B[38;5;241m.\u001B[39mgetNextState(canonicalBoard, \u001B[38;5;241m1\u001B[39m, a)\n\u001B[1;32m    137\u001B[0m next_s \u001B[38;5;241m=\u001B[39m \u001B[38;5;28mself\u001B[39m\u001B[38;5;241m.\u001B[39mgame\u001B[38;5;241m.\u001B[39mgetCanonicalForm(next_s, next_player)\n\u001B[0;32m--> 139\u001B[0m v \u001B[38;5;241m=\u001B[39m \u001B[38;5;28;43mself\u001B[39;49m\u001B[38;5;241;43m.\u001B[39;49m\u001B[43msearch\u001B[49m\u001B[43m(\u001B[49m\u001B[43mnext_s\u001B[49m\u001B[43m)\u001B[49m\n\u001B[1;32m    141\u001B[0m \u001B[38;5;28;01mif\u001B[39;00m (s, a) \u001B[38;5;129;01min\u001B[39;00m \u001B[38;5;28mself\u001B[39m\u001B[38;5;241m.\u001B[39mQsa:\n\u001B[1;32m    142\u001B[0m     \u001B[38;5;28mself\u001B[39m\u001B[38;5;241m.\u001B[39mQsa[(s, a)] \u001B[38;5;241m=\u001B[39m (\u001B[38;5;28mself\u001B[39m\u001B[38;5;241m.\u001B[39mNsa[(s, a)] \u001B[38;5;241m*\u001B[39m \u001B[38;5;28mself\u001B[39m\u001B[38;5;241m.\u001B[39mQsa[(s, a)] \u001B[38;5;241m+\u001B[39m v) \u001B[38;5;241m/\u001B[39m (\u001B[38;5;28mself\u001B[39m\u001B[38;5;241m.\u001B[39mNsa[(s, a)] \u001B[38;5;241m+\u001B[39m \u001B[38;5;241m1\u001B[39m)\n",
      "File \u001B[0;32m~/Academic/AI/MeanPayOffGames/notebooks/mpg/sp/azg/MCTS.py:98\u001B[0m, in \u001B[0;36mMCTS.search\u001B[0;34m(self, canonicalBoard)\u001B[0m\n\u001B[1;32m     94\u001B[0m     \u001B[38;5;28;01mreturn\u001B[39;00m \u001B[38;5;241m-\u001B[39m\u001B[38;5;28mself\u001B[39m\u001B[38;5;241m.\u001B[39mEs[s]\n\u001B[1;32m     96\u001B[0m \u001B[38;5;28;01mif\u001B[39;00m s \u001B[38;5;129;01mnot\u001B[39;00m \u001B[38;5;129;01min\u001B[39;00m \u001B[38;5;28mself\u001B[39m\u001B[38;5;241m.\u001B[39mPs:\n\u001B[1;32m     97\u001B[0m     \u001B[38;5;66;03m# leaf node\u001B[39;00m\n\u001B[0;32m---> 98\u001B[0m     \u001B[38;5;28mself\u001B[39m\u001B[38;5;241m.\u001B[39mPs[s], v \u001B[38;5;241m=\u001B[39m \u001B[38;5;28;43mself\u001B[39;49m\u001B[38;5;241;43m.\u001B[39;49m\u001B[43mnnet\u001B[49m\u001B[38;5;241;43m.\u001B[39;49m\u001B[43mpredict\u001B[49m\u001B[43m(\u001B[49m\u001B[43mcanonicalBoard\u001B[49m\u001B[43m)\u001B[49m\n\u001B[1;32m     99\u001B[0m     valids \u001B[38;5;241m=\u001B[39m \u001B[38;5;28mself\u001B[39m\u001B[38;5;241m.\u001B[39mgame\u001B[38;5;241m.\u001B[39mgetValidMoves(canonicalBoard, \u001B[38;5;241m1\u001B[39m)\n\u001B[1;32m    100\u001B[0m     \u001B[38;5;28mself\u001B[39m\u001B[38;5;241m.\u001B[39mPs[s] \u001B[38;5;241m=\u001B[39m \u001B[38;5;28mself\u001B[39m\u001B[38;5;241m.\u001B[39mPs[s] \u001B[38;5;241m*\u001B[39m valids  \u001B[38;5;66;03m# masking invalid moves\u001B[39;00m\n",
      "File \u001B[0;32m~/Academic/AI/MeanPayOffGames/notebooks/mpg/sp/NNet.py:64\u001B[0m, in \u001B[0;36mNNetWrapper.predict\u001B[0;34m(self, board)\u001B[0m\n\u001B[1;32m     61\u001B[0m board\u001B[38;5;241m=\u001B[39mtfa\u001B[38;5;241m.\u001B[39mutils\u001B[38;5;241m.\u001B[39mnest_utils\u001B[38;5;241m.\u001B[39mbatch_nested_tensors(board)\n\u001B[1;32m     63\u001B[0m \u001B[38;5;66;03m# run\u001B[39;00m\n\u001B[0;32m---> 64\u001B[0m pi, v \u001B[38;5;241m=\u001B[39m \u001B[38;5;28;43mself\u001B[39;49m\u001B[38;5;241;43m.\u001B[39;49m\u001B[43mnnet\u001B[49m\u001B[38;5;241;43m.\u001B[39;49m\u001B[43mmodel\u001B[49m\u001B[38;5;241;43m.\u001B[39;49m\u001B[43mpredict\u001B[49m\u001B[43m(\u001B[49m\u001B[43mboard\u001B[49m\u001B[43m,\u001B[49m\u001B[43m \u001B[49m\u001B[43mverbose\u001B[49m\u001B[38;5;241;43m=\u001B[39;49m\u001B[38;5;28;43;01mFalse\u001B[39;49;00m\u001B[43m)\u001B[49m\n\u001B[1;32m     66\u001B[0m \u001B[38;5;66;03m#print('PREDICTION TIME TAKEN : {0:03f}'.format(time.time()-start))\u001B[39;00m\n\u001B[1;32m     67\u001B[0m \u001B[38;5;28;01mreturn\u001B[39;00m pi[\u001B[38;5;241m0\u001B[39m], v[\u001B[38;5;241m0\u001B[39m]\n",
      "File \u001B[0;32m~/anaconda3/envs/stochastic_games/lib/python3.10/site-packages/keras/utils/traceback_utils.py:65\u001B[0m, in \u001B[0;36mfilter_traceback.<locals>.error_handler\u001B[0;34m(*args, **kwargs)\u001B[0m\n\u001B[1;32m     63\u001B[0m filtered_tb \u001B[38;5;241m=\u001B[39m \u001B[38;5;28;01mNone\u001B[39;00m\n\u001B[1;32m     64\u001B[0m \u001B[38;5;28;01mtry\u001B[39;00m:\n\u001B[0;32m---> 65\u001B[0m     \u001B[38;5;28;01mreturn\u001B[39;00m \u001B[43mfn\u001B[49m\u001B[43m(\u001B[49m\u001B[38;5;241;43m*\u001B[39;49m\u001B[43margs\u001B[49m\u001B[43m,\u001B[49m\u001B[43m \u001B[49m\u001B[38;5;241;43m*\u001B[39;49m\u001B[38;5;241;43m*\u001B[39;49m\u001B[43mkwargs\u001B[49m\u001B[43m)\u001B[49m\n\u001B[1;32m     66\u001B[0m \u001B[38;5;28;01mexcept\u001B[39;00m \u001B[38;5;167;01mException\u001B[39;00m \u001B[38;5;28;01mas\u001B[39;00m e:\n\u001B[1;32m     67\u001B[0m     filtered_tb \u001B[38;5;241m=\u001B[39m _process_traceback_frames(e\u001B[38;5;241m.\u001B[39m__traceback__)\n",
      "File \u001B[0;32m~/anaconda3/envs/stochastic_games/lib/python3.10/site-packages/keras/engine/training.py:2346\u001B[0m, in \u001B[0;36mModel.predict\u001B[0;34m(self, x, batch_size, verbose, steps, callbacks, max_queue_size, workers, use_multiprocessing)\u001B[0m\n\u001B[1;32m   2344\u001B[0m callbacks\u001B[38;5;241m.\u001B[39mon_predict_begin()\n\u001B[1;32m   2345\u001B[0m batch_outputs \u001B[38;5;241m=\u001B[39m \u001B[38;5;28;01mNone\u001B[39;00m\n\u001B[0;32m-> 2346\u001B[0m \u001B[38;5;28;01mfor\u001B[39;00m _, iterator \u001B[38;5;129;01min\u001B[39;00m data_handler\u001B[38;5;241m.\u001B[39menumerate_epochs():  \u001B[38;5;66;03m# Single epoch.\u001B[39;00m\n\u001B[1;32m   2347\u001B[0m     \u001B[38;5;28;01mwith\u001B[39;00m data_handler\u001B[38;5;241m.\u001B[39mcatch_stop_iteration():\n\u001B[1;32m   2348\u001B[0m         \u001B[38;5;28;01mfor\u001B[39;00m step \u001B[38;5;129;01min\u001B[39;00m data_handler\u001B[38;5;241m.\u001B[39msteps():\n",
      "File \u001B[0;32m~/anaconda3/envs/stochastic_games/lib/python3.10/site-packages/keras/engine/data_adapter.py:1304\u001B[0m, in \u001B[0;36mDataHandler.enumerate_epochs\u001B[0;34m(self)\u001B[0m\n\u001B[1;32m   1302\u001B[0m \u001B[38;5;124;03m\"\"\"Yields `(epoch, tf.data.Iterator)`.\"\"\"\u001B[39;00m\n\u001B[1;32m   1303\u001B[0m \u001B[38;5;28;01mwith\u001B[39;00m \u001B[38;5;28mself\u001B[39m\u001B[38;5;241m.\u001B[39m_truncate_execution_to_epoch():\n\u001B[0;32m-> 1304\u001B[0m     data_iterator \u001B[38;5;241m=\u001B[39m \u001B[38;5;28;43miter\u001B[39;49m\u001B[43m(\u001B[49m\u001B[38;5;28;43mself\u001B[39;49m\u001B[38;5;241;43m.\u001B[39;49m\u001B[43m_dataset\u001B[49m\u001B[43m)\u001B[49m\n\u001B[1;32m   1305\u001B[0m     \u001B[38;5;28;01mfor\u001B[39;00m epoch \u001B[38;5;129;01min\u001B[39;00m \u001B[38;5;28mrange\u001B[39m(\u001B[38;5;28mself\u001B[39m\u001B[38;5;241m.\u001B[39m_initial_epoch, \u001B[38;5;28mself\u001B[39m\u001B[38;5;241m.\u001B[39m_epochs):\n\u001B[1;32m   1306\u001B[0m         \u001B[38;5;28;01mif\u001B[39;00m \u001B[38;5;28mself\u001B[39m\u001B[38;5;241m.\u001B[39m_insufficient_data:  \u001B[38;5;66;03m# Set by `catch_stop_iteration`.\u001B[39;00m\n",
      "File \u001B[0;32m~/anaconda3/envs/stochastic_games/lib/python3.10/site-packages/tensorflow/python/data/ops/dataset_ops.py:499\u001B[0m, in \u001B[0;36mDatasetV2.__iter__\u001B[0;34m(self)\u001B[0m\n\u001B[1;32m    497\u001B[0m \u001B[38;5;28;01mif\u001B[39;00m context\u001B[38;5;241m.\u001B[39mexecuting_eagerly() \u001B[38;5;129;01mor\u001B[39;00m ops\u001B[38;5;241m.\u001B[39minside_function():\n\u001B[1;32m    498\u001B[0m   \u001B[38;5;28;01mwith\u001B[39;00m ops\u001B[38;5;241m.\u001B[39mcolocate_with(\u001B[38;5;28mself\u001B[39m\u001B[38;5;241m.\u001B[39m_variant_tensor):\n\u001B[0;32m--> 499\u001B[0m     \u001B[38;5;28;01mreturn\u001B[39;00m \u001B[43miterator_ops\u001B[49m\u001B[38;5;241;43m.\u001B[39;49m\u001B[43mOwnedIterator\u001B[49m\u001B[43m(\u001B[49m\u001B[38;5;28;43mself\u001B[39;49m\u001B[43m)\u001B[49m\n\u001B[1;32m    500\u001B[0m \u001B[38;5;28;01melse\u001B[39;00m:\n\u001B[1;32m    501\u001B[0m   \u001B[38;5;28;01mraise\u001B[39;00m \u001B[38;5;167;01mRuntimeError\u001B[39;00m(\u001B[38;5;124m\"\u001B[39m\u001B[38;5;124m`tf.data.Dataset` only supports Python-style \u001B[39m\u001B[38;5;124m\"\u001B[39m\n\u001B[1;32m    502\u001B[0m                      \u001B[38;5;124m\"\u001B[39m\u001B[38;5;124miteration in eager mode or within tf.function.\u001B[39m\u001B[38;5;124m\"\u001B[39m)\n",
      "File \u001B[0;32m~/anaconda3/envs/stochastic_games/lib/python3.10/site-packages/tensorflow/python/data/ops/iterator_ops.py:703\u001B[0m, in \u001B[0;36mOwnedIterator.__init__\u001B[0;34m(self, dataset, components, element_spec)\u001B[0m\n\u001B[1;32m    699\u001B[0m   \u001B[38;5;28;01mif\u001B[39;00m (components \u001B[38;5;129;01mis\u001B[39;00m \u001B[38;5;129;01mnot\u001B[39;00m \u001B[38;5;28;01mNone\u001B[39;00m \u001B[38;5;129;01mor\u001B[39;00m element_spec \u001B[38;5;129;01mis\u001B[39;00m \u001B[38;5;129;01mnot\u001B[39;00m \u001B[38;5;28;01mNone\u001B[39;00m):\n\u001B[1;32m    700\u001B[0m     \u001B[38;5;28;01mraise\u001B[39;00m \u001B[38;5;167;01mValueError\u001B[39;00m(\n\u001B[1;32m    701\u001B[0m         \u001B[38;5;124m\"\u001B[39m\u001B[38;5;124mWhen `dataset` is provided, `element_spec` and `components` must \u001B[39m\u001B[38;5;124m\"\u001B[39m\n\u001B[1;32m    702\u001B[0m         \u001B[38;5;124m\"\u001B[39m\u001B[38;5;124mnot be specified.\u001B[39m\u001B[38;5;124m\"\u001B[39m)\n\u001B[0;32m--> 703\u001B[0m   \u001B[38;5;28;43mself\u001B[39;49m\u001B[38;5;241;43m.\u001B[39;49m\u001B[43m_create_iterator\u001B[49m\u001B[43m(\u001B[49m\u001B[43mdataset\u001B[49m\u001B[43m)\u001B[49m\n\u001B[1;32m    705\u001B[0m \u001B[38;5;28mself\u001B[39m\u001B[38;5;241m.\u001B[39m_get_next_call_count \u001B[38;5;241m=\u001B[39m \u001B[38;5;241m0\u001B[39m\n",
      "File \u001B[0;32m~/anaconda3/envs/stochastic_games/lib/python3.10/site-packages/tensorflow/python/data/ops/iterator_ops.py:742\u001B[0m, in \u001B[0;36mOwnedIterator._create_iterator\u001B[0;34m(self, dataset)\u001B[0m\n\u001B[1;32m    739\u001B[0m   \u001B[38;5;28;01massert\u001B[39;00m \u001B[38;5;28mlen\u001B[39m(fulltype\u001B[38;5;241m.\u001B[39margs[\u001B[38;5;241m0\u001B[39m]\u001B[38;5;241m.\u001B[39margs[\u001B[38;5;241m0\u001B[39m]\u001B[38;5;241m.\u001B[39margs) \u001B[38;5;241m==\u001B[39m \u001B[38;5;28mlen\u001B[39m(\n\u001B[1;32m    740\u001B[0m       \u001B[38;5;28mself\u001B[39m\u001B[38;5;241m.\u001B[39m_flat_output_types)\n\u001B[1;32m    741\u001B[0m   \u001B[38;5;28mself\u001B[39m\u001B[38;5;241m.\u001B[39m_iterator_resource\u001B[38;5;241m.\u001B[39mop\u001B[38;5;241m.\u001B[39mexperimental_set_type(fulltype)\n\u001B[0;32m--> 742\u001B[0m \u001B[43mgen_dataset_ops\u001B[49m\u001B[38;5;241;43m.\u001B[39;49m\u001B[43mmake_iterator\u001B[49m\u001B[43m(\u001B[49m\u001B[43mds_variant\u001B[49m\u001B[43m,\u001B[49m\u001B[43m \u001B[49m\u001B[38;5;28;43mself\u001B[39;49m\u001B[38;5;241;43m.\u001B[39;49m\u001B[43m_iterator_resource\u001B[49m\u001B[43m)\u001B[49m\n",
      "File \u001B[0;32m~/anaconda3/envs/stochastic_games/lib/python3.10/site-packages/tensorflow/python/ops/gen_dataset_ops.py:3409\u001B[0m, in \u001B[0;36mmake_iterator\u001B[0;34m(dataset, iterator, name)\u001B[0m\n\u001B[1;32m   3407\u001B[0m \u001B[38;5;28;01mif\u001B[39;00m tld\u001B[38;5;241m.\u001B[39mis_eager:\n\u001B[1;32m   3408\u001B[0m   \u001B[38;5;28;01mtry\u001B[39;00m:\n\u001B[0;32m-> 3409\u001B[0m     _result \u001B[38;5;241m=\u001B[39m \u001B[43mpywrap_tfe\u001B[49m\u001B[38;5;241;43m.\u001B[39;49m\u001B[43mTFE_Py_FastPathExecute\u001B[49m\u001B[43m(\u001B[49m\n\u001B[1;32m   3410\u001B[0m \u001B[43m      \u001B[49m\u001B[43m_ctx\u001B[49m\u001B[43m,\u001B[49m\u001B[43m \u001B[49m\u001B[38;5;124;43m\"\u001B[39;49m\u001B[38;5;124;43mMakeIterator\u001B[39;49m\u001B[38;5;124;43m\"\u001B[39;49m\u001B[43m,\u001B[49m\u001B[43m \u001B[49m\u001B[43mname\u001B[49m\u001B[43m,\u001B[49m\u001B[43m \u001B[49m\u001B[43mdataset\u001B[49m\u001B[43m,\u001B[49m\u001B[43m \u001B[49m\u001B[43miterator\u001B[49m\u001B[43m)\u001B[49m\n\u001B[1;32m   3411\u001B[0m     \u001B[38;5;28;01mreturn\u001B[39;00m _result\n\u001B[1;32m   3412\u001B[0m   \u001B[38;5;28;01mexcept\u001B[39;00m _core\u001B[38;5;241m.\u001B[39m_NotOkStatusException \u001B[38;5;28;01mas\u001B[39;00m e:\n",
      "\u001B[0;31mKeyboardInterrupt\u001B[0m: "
     ]
    }
   ],
   "source": [
    "main()"
   ]
  },
  {
   "cell_type": "code",
   "execution_count": 4,
   "id": "18a9abf8-d67a-46f7-a000-9b6f1cadc411",
   "metadata": {},
   "outputs": [
    {
     "data": {
      "text/plain": "{'A': <tf.Tensor: shape=(1, 3), dtype=int64, numpy=array([[5, 5, 5]])>,\n 'B': <tf.Tensor: shape=(1, 3), dtype=int64, numpy=array([[1, 3, 6]])>}"
     },
     "execution_count": 4,
     "metadata": {},
     "output_type": "execute_result"
    }
   ],
   "source": [
    "import tf_agents as tfa\n",
    "import numpy as np\n",
    "Z={\"A\":np.array([5,5,5]),\"B\":np.array([1,3,6])}\n",
    "tfa.utils.nest_utils.batch_nested_tensors(\n",
    "    Z\n",
    ")"
   ]
  },
  {
   "cell_type": "code",
   "execution_count": 5,
   "outputs": [
    {
     "data": {
      "text/plain": "{'A': array([5, 5, 5]), 'B': array([1, 3, 6])}"
     },
     "execution_count": 5,
     "metadata": {},
     "output_type": "execute_result"
    }
   ],
   "source": [
    "Z"
   ],
   "metadata": {
    "collapsed": false,
    "ExecuteTime": {
     "end_time": "2023-06-01T01:12:56.484598418Z",
     "start_time": "2023-06-01T01:12:56.428856398Z"
    }
   }
  },
  {
   "cell_type": "code",
   "execution_count": 4,
   "outputs": [
    {
     "data": {
      "text/plain": "[PhysicalDevice(name='/physical_device:GPU:0', device_type='GPU')]"
     },
     "execution_count": 4,
     "metadata": {},
     "output_type": "execute_result"
    }
   ],
   "source": [],
   "metadata": {
    "collapsed": false,
    "ExecuteTime": {
     "end_time": "2023-06-01T02:31:31.460842681Z",
     "start_time": "2023-06-01T02:31:31.419528546Z"
    }
   }
  },
  {
   "cell_type": "code",
   "execution_count": null,
   "outputs": [],
   "source": [],
   "metadata": {
    "collapsed": false
   }
  }
 ],
 "metadata": {
  "kernelspec": {
   "display_name": "Python 3 (ipykernel)",
   "language": "python",
   "name": "python3"
  },
  "language_info": {
   "codemirror_mode": {
    "name": "ipython",
    "version": 3
   },
   "file_extension": ".py",
   "mimetype": "text/x-python",
   "name": "python",
   "nbconvert_exporter": "python",
   "pygments_lexer": "ipython3",
   "version": "3.10.11"
  }
 },
 "nbformat": 4,
 "nbformat_minor": 5
}
