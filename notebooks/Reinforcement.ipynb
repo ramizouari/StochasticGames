{
 "cells": [
  {
   "cell_type": "code",
   "execution_count": 1,
   "id": "1f188a3a-1a4a-4368-b2c4-1816a9e37719",
   "metadata": {
    "ExecuteTime": {
     "end_time": "2023-05-12T01:26:25.959745Z",
     "start_time": "2023-05-12T01:26:25.951790Z"
    }
   },
   "outputs": [
    {
     "name": "stderr",
     "output_type": "stream",
     "text": [
      "2023-05-16 17:16:52.520203: I tensorflow/core/platform/cpu_feature_guard.cc:193] This TensorFlow binary is optimized with oneAPI Deep Neural Network Library (oneDNN) to use the following CPU instructions in performance-critical operations:  SSE4.1 SSE4.2 AVX AVX2 FMA\n",
      "To enable them in other operations, rebuild TensorFlow with the appropriate compiler flags.\n"
     ]
    }
   ],
   "source": [
    "from __future__ import absolute_import\n",
    "from __future__ import division\n",
    "from __future__ import print_function\n",
    "\n",
    "import abc\n",
    "import tensorflow as tf\n",
    "import numpy as np\n",
    "\n",
    "from tf_agents.environments import py_environment\n",
    "from tf_agents.environments import tf_environment\n",
    "from tf_agents.environments import tf_py_environment\n",
    "from tf_agents.environments import utils\n",
    "from tf_agents.specs import array_spec\n",
    "from tf_agents.environments import wrappers\n",
    "from tf_agents.environments import suite_gym\n",
    "from tf_agents.trajectories import time_step as ts"
   ]
  },
  {
   "cell_type": "code",
   "execution_count": 2,
   "id": "074abc3c-371c-458e-9884-7360a4ec6be3",
   "metadata": {
    "ExecuteTime": {
     "end_time": "2023-05-12T01:26:27.488349Z",
     "start_time": "2023-05-12T01:26:27.479720Z"
    }
   },
   "outputs": [],
   "source": [
    "class CardGameEnv(py_environment.PyEnvironment):\n",
    "    def __init__(self):\n",
    "        self._action_spec = array_spec.BoundedArraySpec(\n",
    "            shape=(), dtype=np.int32, minimum=0, maximum=1, name='action')\n",
    "        self._observation_spec = array_spec.BoundedArraySpec(\n",
    "            shape=(1,), dtype=np.int32, minimum=0, name='observation')\n",
    "        self._state = 0\n",
    "        self._episode_ended = False\n",
    "\n",
    "\n",
    "    def action_spec(self):\n",
    "        return self._action_spec\n",
    "\n",
    "    def observation_spec(self):\n",
    "        return self._observation_spec\n",
    "\n",
    "    def _reset(self):\n",
    "        self._state = 0\n",
    "        self._episode_ended = False\n",
    "        return ts.restart(np.array([self._state], dtype=np.int32))\n",
    "\n",
    "    def _step(self, action):\n",
    "\n",
    "        if self._episode_ended:\n",
    "          # The last action ended the episode. Ignore the current action and start\n",
    "          # a new episode.\n",
    "            return self.reset()\n",
    "\n",
    "        # Make sure episodes don't go on forever.\n",
    "        if action == 1:\n",
    "            self._episode_ended = True\n",
    "        elif action == 0:\n",
    "            new_card = np.random.randint(1, 11)\n",
    "            self._state += new_card\n",
    "        else:\n",
    "            raise ValueError('`action` should be 0 or 1.')\n",
    "\n",
    "        if self._episode_ended or self._state >= 21:\n",
    "            reward = self._state - 21 if self._state <= 21 else -21\n",
    "            return ts.termination(np.array([self._state], dtype=np.int32), reward)\n",
    "        else:\n",
    "            return ts.transition(\n",
    "              np.array([self._state], dtype=np.int32), reward=0.0, discount=1.0)"
   ]
  },
  {
   "cell_type": "code",
   "execution_count": 3,
   "id": "f0e7220c-4d29-49b9-8302-02883cb6d20d",
   "metadata": {
    "ExecuteTime": {
     "end_time": "2023-05-12T01:26:28.521902Z",
     "start_time": "2023-05-12T01:26:28.503895Z"
    }
   },
   "outputs": [],
   "source": [
    "environment = CardGameEnv()\n",
    "utils.validate_py_environment(environment, episodes=5)"
   ]
  },
  {
   "cell_type": "markdown",
   "id": "ffc71781-5bce-4538-bfda-a0a247e72ebe",
   "metadata": {},
   "source": [
    "## 2. MPG Environment"
   ]
  },
  {
   "cell_type": "code",
   "execution_count": 4,
   "id": "99a08238-94c8-49c7-9ae6-619195e1bf8b",
   "metadata": {
    "ExecuteTime": {
     "end_time": "2023-05-12T01:26:32.774105Z",
     "start_time": "2023-05-12T01:26:32.751900Z"
    }
   },
   "outputs": [],
   "source": [
    "from mpg.games import mpg\n"
   ]
  },
  {
   "cell_type": "code",
   "execution_count": 5,
   "id": "fe3b00ac-bf51-4eff-aef8-f1133467addf",
   "metadata": {
    "ExecuteTime": {
     "end_time": "2023-05-12T01:26:33.322302Z",
     "start_time": "2023-05-12T01:26:33.258487Z"
    }
   },
   "outputs": [],
   "source": [
    "from mpg.games import strategy,mpg\n",
    "from mpg.rl import model_free,environment as rl_env\n",
    "import importlib\n",
    "importlib.reload(strategy)\n",
    "importlib.reload(mpg)\n",
    "importlib.reload(model_free)\n",
    "importlib.reload(rl_env)\n",
    "G=mpg.mpg_from_file(\"data/test01.in\",ignore_header=1)\n",
    "G\n",
    "environment = rl_env.MPGEnvironment(G,0,0,10,bad_action_penalty=None)\n",
    "#utils.validate_py_environment(environment, episodes=5)"
   ]
  },
  {
   "cell_type": "code",
   "execution_count": 6,
   "id": "2bb6e23e-4fa9-4bec-80c5-49d34c162457",
   "metadata": {
    "ExecuteTime": {
     "end_time": "2023-05-12T01:26:34.202025Z",
     "start_time": "2023-05-12T01:26:34.167708Z"
    }
   },
   "outputs": [
    {
     "data": {
      "text/plain": [
       "ArraySpec(shape=(), dtype=dtype('float32'), name='reward')"
      ]
     },
     "execution_count": 6,
     "metadata": {},
     "output_type": "execute_result"
    }
   ],
   "source": [
    "environment.reward_spec()"
   ]
  },
  {
   "cell_type": "code",
   "execution_count": 7,
   "id": "69c18508-d3b6-41d1-93a0-bdb8f91e44c1",
   "metadata": {
    "ExecuteTime": {
     "end_time": "2023-05-12T01:26:35.592708Z",
     "start_time": "2023-05-12T01:26:35.584564Z"
    }
   },
   "outputs": [],
   "source": [
    "environment = rl_env.MPGEnvironment(G,1,0,max_turns=100,bad_action_penalty=-10)"
   ]
  },
  {
   "cell_type": "code",
   "execution_count": 8,
   "id": "e7c5a12d-fc56-4a35-9581-9b48512b016c",
   "metadata": {
    "ExecuteTime": {
     "end_time": "2023-05-12T01:26:36.245614Z",
     "start_time": "2023-05-12T01:26:36.238562Z"
    }
   },
   "outputs": [],
   "source": [
    "fixed_env=rl_env.FixedStrategyMPGEnvironment(environment,strategy.GreedyStrategy(environment.graph,turn=mpg.MeanPayoffGraph.player1))\n",
    "fixed_env.reset()\n",
    "agent=model_free.RLearningAgent(fixed_env)\n",
    "fo_env=rl_env.FullyObservableMPGEnvironment(fixed_env)"
   ]
  },
  {
   "cell_type": "code",
   "execution_count": 9,
   "id": "3dfb546b-8732-4abc-8896-c321992e74b9",
   "metadata": {
    "ExecuteTime": {
     "end_time": "2023-05-12T01:26:39.708070Z",
     "start_time": "2023-05-12T01:26:39.701952Z"
    }
   },
   "outputs": [],
   "source": [
    "environment._vertex=np.array(0)"
   ]
  },
  {
   "cell_type": "code",
   "execution_count": 10,
   "id": "85b13569-779a-42dd-a437-8f48aa510c19",
   "metadata": {
    "ExecuteTime": {
     "end_time": "2023-05-12T01:26:42.240449Z",
     "start_time": "2023-05-12T01:26:42.230151Z"
    }
   },
   "outputs": [
    {
     "data": {
      "text/plain": [
       "{1: 2, 5: 5, 3: 5, 4: 5}"
      ]
     },
     "execution_count": 10,
     "metadata": {},
     "output_type": "execute_result"
    }
   ],
   "source": [
    "{1:2,5:5,3:5,4:5}"
   ]
  },
  {
   "cell_type": "code",
   "execution_count": 11,
   "id": "5d3abf8f-970a-44e6-962f-f35e7848b07e",
   "metadata": {
    "ExecuteTime": {
     "end_time": "2023-05-12T01:26:43.495649Z",
     "start_time": "2023-05-12T01:26:43.486393Z"
    }
   },
   "outputs": [],
   "source": [
    "A={0:np.zeros(5),1:np.zeros(5)}"
   ]
  },
  {
   "cell_type": "code",
   "execution_count": 12,
   "id": "97bc5002-c85e-467c-8cd1-12520662e978",
   "metadata": {
    "ExecuteTime": {
     "end_time": "2023-05-12T01:26:44.259762Z",
     "start_time": "2023-05-12T01:26:44.247105Z"
    }
   },
   "outputs": [
    {
     "data": {
      "text/plain": [
       "0.0"
      ]
     },
     "execution_count": 12,
     "metadata": {},
     "output_type": "execute_result"
    }
   ],
   "source": [
    "A[1][1]"
   ]
  },
  {
   "cell_type": "code",
   "execution_count": 13,
   "id": "35401ede-5ea1-41ae-854d-523ac1fba58c",
   "metadata": {
    "ExecuteTime": {
     "end_time": "2023-05-12T01:26:51.584753Z",
     "start_time": "2023-05-12T01:26:51.550378Z"
    }
   },
   "outputs": [
    {
     "data": {
      "application/vnd.jupyter.widget-view+json": {
       "model_id": "492ccf40b9344ef2a960d680b62ee069",
       "version_major": 2,
       "version_minor": 0
      },
      "text/plain": [
       "MPGVisualisation(layout=Layout(height='500px', width='100%'))"
      ]
     },
     "metadata": {},
     "output_type": "display_data"
    }
   ],
   "source": [
    "from mpg.visualisation import game as vgame\n",
    "VG=vgame.MPGVisualisation(G)\n",
    "VG"
   ]
  },
  {
   "cell_type": "code",
   "execution_count": 14,
   "id": "48b7587a-d4d1-4aca-a8be-6ceb1bce0753",
   "metadata": {
    "ExecuteTime": {
     "end_time": "2023-05-15T14:24:23.290980Z",
     "start_time": "2023-05-15T14:24:23.218746Z"
    }
   },
   "outputs": [
    {
     "data": {
      "text/plain": [
       "<module 'mpg.rl.architectures.example' from '/home/ramizouari/Academic/AI/MeanPayOffGames/notebooks/mpg/rl/architectures/example.py'>"
      ]
     },
     "execution_count": 14,
     "metadata": {},
     "output_type": "execute_result"
    }
   ],
   "source": [
    "importlib.reload(rl_env)\n",
    "import mpg.rl.driver as rl_driver\n",
    "importlib.reload(rl_driver)\n",
    "import tf_agents as tfa\n",
    "import mpg.rl.replay_buffers as rl_replay\n",
    "importlib.reload(rl_replay)\n",
    "import mpg.rl.agents as rl_agents\n",
    "importlib.reload(rl_agents)\n",
    "import mpg.rl.architectures.example as rl_arch\n",
    "importlib.reload(rl_arch)\n"
   ]
  },
  {
   "cell_type": "code",
   "execution_count": 15,
   "id": "1c65aa2c-e06e-44cc-a71c-9369436afab9",
   "metadata": {
    "ExecuteTime": {
     "end_time": "2023-05-15T14:24:23.680376Z",
     "start_time": "2023-05-15T14:24:23.680277Z"
    }
   },
   "outputs": [
    {
     "data": {
      "text/plain": [
       "ArraySpec(shape=(2, 8, 8), dtype=dtype('float32'), name=None)"
      ]
     },
     "execution_count": 15,
     "metadata": {},
     "output_type": "execute_result"
    }
   ],
   "source": [
    "importlib.reload(rl_env)\n",
    "E=rl_env.MPGMatrixExtractor(matrix=\"both\",graph_size=8)\n",
    "E.get_env_specs(fixed_env)"
   ]
  },
  {
   "cell_type": "code",
   "execution_count": 16,
   "id": "1d7bfa91-8c3b-43e2-9447-49cae8407420",
   "metadata": {
    "ExecuteTime": {
     "end_time": "2023-05-15T14:24:24.129255Z",
     "start_time": "2023-05-15T14:24:24.105947Z"
    }
   },
   "outputs": [
    {
     "data": {
      "text/plain": [
       "array([[[ 0.,  1.,  0.,  0.,  0.,  0.,  0.,  0.],\n",
       "        [ 0.,  0.,  1.,  0.,  1.,  0.,  0.,  0.],\n",
       "        [ 0.,  0.,  0.,  1.,  0.,  0.,  0.,  0.],\n",
       "        [ 0.,  0.,  0.,  0.,  0.,  0.,  1.,  1.],\n",
       "        [ 0.,  0.,  0.,  0.,  0.,  1.,  0.,  0.],\n",
       "        [ 0.,  0.,  0.,  0.,  0.,  0.,  1.,  1.],\n",
       "        [ 0.,  1.,  0.,  0.,  0.,  0.,  0.,  0.],\n",
       "        [ 0.,  1.,  0.,  0.,  0.,  0.,  0.,  0.]],\n",
       "\n",
       "       [[ 0.,  5.,  0.,  0.,  0.,  0.,  0.,  0.],\n",
       "        [ 0.,  0.,  5.,  0.,  4.,  0.,  0.,  0.],\n",
       "        [ 0.,  0.,  0., -7.,  0.,  0.,  0.,  0.],\n",
       "        [ 0.,  0.,  0.,  0.,  0.,  0.,  5.,  0.],\n",
       "        [ 0.,  0.,  0.,  0.,  0., -3.,  0.,  0.],\n",
       "        [ 0.,  0.,  0.,  0.,  0.,  0.,  3.,  0.],\n",
       "        [ 0., -3.,  0.,  0.,  0.,  0.,  0.,  0.],\n",
       "        [ 0.,  0.,  0.,  0.,  0.,  0.,  0.,  0.]]], dtype=float32)"
      ]
     },
     "execution_count": 16,
     "metadata": {},
     "output_type": "execute_result"
    }
   ],
   "source": [
    "E(fixed_env)"
   ]
  },
  {
   "cell_type": "code",
   "execution_count": 17,
   "id": "28758e61-549b-471f-af4c-49fc57c60701",
   "metadata": {
    "ExecuteTime": {
     "end_time": "2023-05-15T14:24:24.533133Z",
     "start_time": "2023-05-15T14:24:24.524182Z"
    }
   },
   "outputs": [],
   "source": [
    "optimizer=tf.keras.optimizers.Adam()\n",
    "\n",
    "converter=rl_env.MPGTrajectoryConverter(fixed_env,E)\n",
    "\n",
    "qnet=tfa.networks.q_network.QNetwork(\n",
    "    input_tensor_spec=converter.data_spec[\"environment\"],\n",
    "    action_spec=fixed_env.action_spec(),\n",
    "    preprocessing_layers=None,\n",
    "    preprocessing_combiner=None,\n",
    "    conv_layer_params=None,\n",
    "    fc_layer_params=(75, 40),\n",
    "    dropout_layer_params=None,\n",
    "    activation_fn=tf.keras.activations.relu,\n",
    "    kernel_initializer=None,\n",
    "    batch_squash=True,\n",
    "    dtype=tf.float32,\n",
    "    q_layer_activation_fn=None,\n",
    "    name='QNetwork'\n",
    ")\n",
    "\n"
   ]
  },
  {
   "cell_type": "code",
   "execution_count": 94,
   "id": "dbbe210f-aba1-42af-9b45-2ef3d8500b36",
   "metadata": {
    "ExecuteTime": {
     "end_time": "2023-05-15T14:27:42.070221Z",
     "start_time": "2023-05-15T14:27:42.009429Z"
    }
   },
   "outputs": [],
   "source": [
    "#buffer=rl_replay.MPGMatrixBuffer(converter.data_spec[\"environment\"],10)\n",
    "from mpg.rl import observers as rl_observer\n",
    "from mpg.rl import utils as rl_utils\n",
    "importlib.reload(rl_observer)\n",
    "importlib.reload(rl_utils)\n",
    "train_env=tfa.environments.tf_py_environment.TFPyEnvironment(fo_env)\n",
    "T=tfa.specs.tensor_spec.add_outer_dims_nest(\n",
    "    train_env.time_step_spec(), [1]\n",
    ")\n",
    "A=tfa.specs.tensor_spec.add_outer_dims_nest(\n",
    "    train_env.action_spec(), [1]\n",
    ")\n",
    "O=tfa.specs.tensor_spec.add_outer_dims_nest(\n",
    "    train_env.observation_spec(), [None]\n",
    ")\n",
    "\n",
    "\n",
    "def normal_splitter(observation):\n",
    "    if isinstance(observation[\"state\"],tfa.specs.TensorSpec):\n",
    "        return observation,tf.TensorSpec(shape=(tf.cast(observation[\"state\"].maximum,dtype=tf.int32)+1,))\n",
    "    C=tf.gather_nd(observation[\"environment\"],tf.concat([tf.constant([0,0]),tf.cast(observation[\"state\"],dtype=tf.int32)],0))\n",
    "    return observation,tf.reshape(C,shape=(1,-1))\n",
    "net=rl_arch.MPGNetworkExample(train_env.observation_spec(),fo_env.count_vertices)\n",
    "splitter=rl_utils.MPGActionConstraintSplitter()\n",
    "agent=tfa.agents.DqnAgent(\n",
    "    time_step_spec=train_env.time_step_spec(),\n",
    "    action_spec= train_env.action_spec(),\n",
    "    q_network= net,\n",
    "    optimizer= optimizer,\n",
    "    observation_and_action_constraint_splitter= splitter,\n",
    "    epsilon_greedy= 0.1,\n",
    "    n_step_update = 3,\n",
    "#    training_data_spec= converter.data_spec\n",
    ")\n",
    "buffer=tfa.replay_buffers.tf_uniform_replay_buffer.TFUniformReplayBuffer(agent.collect_data_spec,batch_size=1,max_length=20)\n",
    "driver=rl_driver.MPGDriver(train_env,agent.collect_policy,total_observers=[],partial_observers=[buffer.add_batch],num_episodes=10,max_steps=8)"
   ]
  },
  {
   "cell_type": "code",
   "execution_count": 95,
   "id": "88280348-ab9a-4f5b-881f-58acd1909b2e",
   "metadata": {},
   "outputs": [
    {
     "data": {
      "text/plain": [
       "(Trajectory(\n",
       " {'action': <tf.Tensor: shape=(8, 4), dtype=int32, numpy=\n",
       " array([[2, 7, 2, 7],\n",
       "        [2, 7, 2, 7],\n",
       "        [7, 2, 7, 2],\n",
       "        [2, 7, 4, 7],\n",
       "        [7, 2, 7, 2],\n",
       "        [2, 7, 2, 7],\n",
       "        [7, 2, 7, 2],\n",
       "        [7, 2, 7, 2]], dtype=int32)>,\n",
       "  'discount': <tf.Tensor: shape=(8, 4), dtype=float32, numpy=\n",
       " array([[1., 1., 1., 1.],\n",
       "        [1., 1., 1., 1.],\n",
       "        [1., 1., 1., 1.],\n",
       "        [1., 1., 1., 1.],\n",
       "        [1., 1., 1., 1.],\n",
       "        [1., 1., 1., 1.],\n",
       "        [1., 1., 1., 1.],\n",
       "        [1., 1., 1., 1.]], dtype=float32)>,\n",
       "  'next_step_type': <tf.Tensor: shape=(8, 4), dtype=int32, numpy=\n",
       " array([[1, 1, 1, 1],\n",
       "        [1, 1, 1, 1],\n",
       "        [1, 1, 1, 1],\n",
       "        [1, 1, 1, 1],\n",
       "        [1, 1, 1, 1],\n",
       "        [1, 1, 1, 1],\n",
       "        [1, 1, 1, 1],\n",
       "        [1, 1, 1, 1]], dtype=int32)>,\n",
       "  'observation': DictWrapper({'state': <tf.Tensor: shape=(8, 4), dtype=int32, numpy=\n",
       " array([[1, 3, 1, 3],\n",
       "        [1, 3, 1, 3],\n",
       "        [3, 1, 3, 1],\n",
       "        [1, 3, 1, 5],\n",
       "        [3, 1, 3, 1],\n",
       "        [1, 3, 1, 3],\n",
       "        [3, 1, 3, 1],\n",
       "        [3, 1, 3, 1]], dtype=int32)>, 'environment': <tf.Tensor: shape=(8, 4, 2, 8, 8), dtype=float32, numpy=\n",
       " array([[[[[ 0.,  1.,  0., ...,  0.,  0.,  0.],\n",
       "           [ 0.,  0.,  1., ...,  0.,  0.,  0.],\n",
       "           [ 0.,  0.,  0., ...,  0.,  0.,  0.],\n",
       "           ...,\n",
       "           [ 0.,  0.,  0., ...,  0.,  1.,  1.],\n",
       "           [ 0.,  1.,  0., ...,  0.,  0.,  0.],\n",
       "           [ 0.,  1.,  0., ...,  0.,  0.,  0.]],\n",
       " \n",
       "          [[ 0.,  5.,  0., ...,  0.,  0.,  0.],\n",
       "           [ 0.,  0.,  5., ...,  0.,  0.,  0.],\n",
       "           [ 0.,  0.,  0., ...,  0.,  0.,  0.],\n",
       "           ...,\n",
       "           [ 0.,  0.,  0., ...,  0.,  3.,  0.],\n",
       "           [ 0., -3.,  0., ...,  0.,  0.,  0.],\n",
       "           [ 0.,  0.,  0., ...,  0.,  0.,  0.]]],\n",
       " \n",
       " \n",
       "         [[[ 0.,  1.,  0., ...,  0.,  0.,  0.],\n",
       "           [ 0.,  0.,  1., ...,  0.,  0.,  0.],\n",
       "           [ 0.,  0.,  0., ...,  0.,  0.,  0.],\n",
       "           ...,\n",
       "           [ 0.,  0.,  0., ...,  0.,  1.,  1.],\n",
       "           [ 0.,  1.,  0., ...,  0.,  0.,  0.],\n",
       "           [ 0.,  1.,  0., ...,  0.,  0.,  0.]],\n",
       " \n",
       "          [[ 0.,  5.,  0., ...,  0.,  0.,  0.],\n",
       "           [ 0.,  0.,  5., ...,  0.,  0.,  0.],\n",
       "           [ 0.,  0.,  0., ...,  0.,  0.,  0.],\n",
       "           ...,\n",
       "           [ 0.,  0.,  0., ...,  0.,  3.,  0.],\n",
       "           [ 0., -3.,  0., ...,  0.,  0.,  0.],\n",
       "           [ 0.,  0.,  0., ...,  0.,  0.,  0.]]],\n",
       " \n",
       " \n",
       "         [[[ 0.,  1.,  0., ...,  0.,  0.,  0.],\n",
       "           [ 0.,  0.,  1., ...,  0.,  0.,  0.],\n",
       "           [ 0.,  0.,  0., ...,  0.,  0.,  0.],\n",
       "           ...,\n",
       "           [ 0.,  0.,  0., ...,  0.,  1.,  1.],\n",
       "           [ 0.,  1.,  0., ...,  0.,  0.,  0.],\n",
       "           [ 0.,  1.,  0., ...,  0.,  0.,  0.]],\n",
       " \n",
       "          [[ 0.,  5.,  0., ...,  0.,  0.,  0.],\n",
       "           [ 0.,  0.,  5., ...,  0.,  0.,  0.],\n",
       "           [ 0.,  0.,  0., ...,  0.,  0.,  0.],\n",
       "           ...,\n",
       "           [ 0.,  0.,  0., ...,  0.,  3.,  0.],\n",
       "           [ 0., -3.,  0., ...,  0.,  0.,  0.],\n",
       "           [ 0.,  0.,  0., ...,  0.,  0.,  0.]]],\n",
       " \n",
       " \n",
       "         [[[ 0.,  1.,  0., ...,  0.,  0.,  0.],\n",
       "           [ 0.,  0.,  1., ...,  0.,  0.,  0.],\n",
       "           [ 0.,  0.,  0., ...,  0.,  0.,  0.],\n",
       "           ...,\n",
       "           [ 0.,  0.,  0., ...,  0.,  1.,  1.],\n",
       "           [ 0.,  1.,  0., ...,  0.,  0.,  0.],\n",
       "           [ 0.,  1.,  0., ...,  0.,  0.,  0.]],\n",
       " \n",
       "          [[ 0.,  5.,  0., ...,  0.,  0.,  0.],\n",
       "           [ 0.,  0.,  5., ...,  0.,  0.,  0.],\n",
       "           [ 0.,  0.,  0., ...,  0.,  0.,  0.],\n",
       "           ...,\n",
       "           [ 0.,  0.,  0., ...,  0.,  3.,  0.],\n",
       "           [ 0., -3.,  0., ...,  0.,  0.,  0.],\n",
       "           [ 0.,  0.,  0., ...,  0.,  0.,  0.]]]],\n",
       " \n",
       " \n",
       " \n",
       "        [[[[ 0.,  1.,  0., ...,  0.,  0.,  0.],\n",
       "           [ 0.,  0.,  1., ...,  0.,  0.,  0.],\n",
       "           [ 0.,  0.,  0., ...,  0.,  0.,  0.],\n",
       "           ...,\n",
       "           [ 0.,  0.,  0., ...,  0.,  1.,  1.],\n",
       "           [ 0.,  1.,  0., ...,  0.,  0.,  0.],\n",
       "           [ 0.,  1.,  0., ...,  0.,  0.,  0.]],\n",
       " \n",
       "          [[ 0.,  5.,  0., ...,  0.,  0.,  0.],\n",
       "           [ 0.,  0.,  5., ...,  0.,  0.,  0.],\n",
       "           [ 0.,  0.,  0., ...,  0.,  0.,  0.],\n",
       "           ...,\n",
       "           [ 0.,  0.,  0., ...,  0.,  3.,  0.],\n",
       "           [ 0., -3.,  0., ...,  0.,  0.,  0.],\n",
       "           [ 0.,  0.,  0., ...,  0.,  0.,  0.]]],\n",
       " \n",
       " \n",
       "         [[[ 0.,  1.,  0., ...,  0.,  0.,  0.],\n",
       "           [ 0.,  0.,  1., ...,  0.,  0.,  0.],\n",
       "           [ 0.,  0.,  0., ...,  0.,  0.,  0.],\n",
       "           ...,\n",
       "           [ 0.,  0.,  0., ...,  0.,  1.,  1.],\n",
       "           [ 0.,  1.,  0., ...,  0.,  0.,  0.],\n",
       "           [ 0.,  1.,  0., ...,  0.,  0.,  0.]],\n",
       " \n",
       "          [[ 0.,  5.,  0., ...,  0.,  0.,  0.],\n",
       "           [ 0.,  0.,  5., ...,  0.,  0.,  0.],\n",
       "           [ 0.,  0.,  0., ...,  0.,  0.,  0.],\n",
       "           ...,\n",
       "           [ 0.,  0.,  0., ...,  0.,  3.,  0.],\n",
       "           [ 0., -3.,  0., ...,  0.,  0.,  0.],\n",
       "           [ 0.,  0.,  0., ...,  0.,  0.,  0.]]],\n",
       " \n",
       " \n",
       "         [[[ 0.,  1.,  0., ...,  0.,  0.,  0.],\n",
       "           [ 0.,  0.,  1., ...,  0.,  0.,  0.],\n",
       "           [ 0.,  0.,  0., ...,  0.,  0.,  0.],\n",
       "           ...,\n",
       "           [ 0.,  0.,  0., ...,  0.,  1.,  1.],\n",
       "           [ 0.,  1.,  0., ...,  0.,  0.,  0.],\n",
       "           [ 0.,  1.,  0., ...,  0.,  0.,  0.]],\n",
       " \n",
       "          [[ 0.,  5.,  0., ...,  0.,  0.,  0.],\n",
       "           [ 0.,  0.,  5., ...,  0.,  0.,  0.],\n",
       "           [ 0.,  0.,  0., ...,  0.,  0.,  0.],\n",
       "           ...,\n",
       "           [ 0.,  0.,  0., ...,  0.,  3.,  0.],\n",
       "           [ 0., -3.,  0., ...,  0.,  0.,  0.],\n",
       "           [ 0.,  0.,  0., ...,  0.,  0.,  0.]]],\n",
       " \n",
       " \n",
       "         [[[ 0.,  1.,  0., ...,  0.,  0.,  0.],\n",
       "           [ 0.,  0.,  1., ...,  0.,  0.,  0.],\n",
       "           [ 0.,  0.,  0., ...,  0.,  0.,  0.],\n",
       "           ...,\n",
       "           [ 0.,  0.,  0., ...,  0.,  1.,  1.],\n",
       "           [ 0.,  1.,  0., ...,  0.,  0.,  0.],\n",
       "           [ 0.,  1.,  0., ...,  0.,  0.,  0.]],\n",
       " \n",
       "          [[ 0.,  5.,  0., ...,  0.,  0.,  0.],\n",
       "           [ 0.,  0.,  5., ...,  0.,  0.,  0.],\n",
       "           [ 0.,  0.,  0., ...,  0.,  0.,  0.],\n",
       "           ...,\n",
       "           [ 0.,  0.,  0., ...,  0.,  3.,  0.],\n",
       "           [ 0., -3.,  0., ...,  0.,  0.,  0.],\n",
       "           [ 0.,  0.,  0., ...,  0.,  0.,  0.]]]],\n",
       " \n",
       " \n",
       " \n",
       "        [[[[ 0.,  1.,  0., ...,  0.,  0.,  0.],\n",
       "           [ 0.,  0.,  1., ...,  0.,  0.,  0.],\n",
       "           [ 0.,  0.,  0., ...,  0.,  0.,  0.],\n",
       "           ...,\n",
       "           [ 0.,  0.,  0., ...,  0.,  1.,  1.],\n",
       "           [ 0.,  1.,  0., ...,  0.,  0.,  0.],\n",
       "           [ 0.,  1.,  0., ...,  0.,  0.,  0.]],\n",
       " \n",
       "          [[ 0.,  5.,  0., ...,  0.,  0.,  0.],\n",
       "           [ 0.,  0.,  5., ...,  0.,  0.,  0.],\n",
       "           [ 0.,  0.,  0., ...,  0.,  0.,  0.],\n",
       "           ...,\n",
       "           [ 0.,  0.,  0., ...,  0.,  3.,  0.],\n",
       "           [ 0., -3.,  0., ...,  0.,  0.,  0.],\n",
       "           [ 0.,  0.,  0., ...,  0.,  0.,  0.]]],\n",
       " \n",
       " \n",
       "         [[[ 0.,  1.,  0., ...,  0.,  0.,  0.],\n",
       "           [ 0.,  0.,  1., ...,  0.,  0.,  0.],\n",
       "           [ 0.,  0.,  0., ...,  0.,  0.,  0.],\n",
       "           ...,\n",
       "           [ 0.,  0.,  0., ...,  0.,  1.,  1.],\n",
       "           [ 0.,  1.,  0., ...,  0.,  0.,  0.],\n",
       "           [ 0.,  1.,  0., ...,  0.,  0.,  0.]],\n",
       " \n",
       "          [[ 0.,  5.,  0., ...,  0.,  0.,  0.],\n",
       "           [ 0.,  0.,  5., ...,  0.,  0.,  0.],\n",
       "           [ 0.,  0.,  0., ...,  0.,  0.,  0.],\n",
       "           ...,\n",
       "           [ 0.,  0.,  0., ...,  0.,  3.,  0.],\n",
       "           [ 0., -3.,  0., ...,  0.,  0.,  0.],\n",
       "           [ 0.,  0.,  0., ...,  0.,  0.,  0.]]],\n",
       " \n",
       " \n",
       "         [[[ 0.,  1.,  0., ...,  0.,  0.,  0.],\n",
       "           [ 0.,  0.,  1., ...,  0.,  0.,  0.],\n",
       "           [ 0.,  0.,  0., ...,  0.,  0.,  0.],\n",
       "           ...,\n",
       "           [ 0.,  0.,  0., ...,  0.,  1.,  1.],\n",
       "           [ 0.,  1.,  0., ...,  0.,  0.,  0.],\n",
       "           [ 0.,  1.,  0., ...,  0.,  0.,  0.]],\n",
       " \n",
       "          [[ 0.,  5.,  0., ...,  0.,  0.,  0.],\n",
       "           [ 0.,  0.,  5., ...,  0.,  0.,  0.],\n",
       "           [ 0.,  0.,  0., ...,  0.,  0.,  0.],\n",
       "           ...,\n",
       "           [ 0.,  0.,  0., ...,  0.,  3.,  0.],\n",
       "           [ 0., -3.,  0., ...,  0.,  0.,  0.],\n",
       "           [ 0.,  0.,  0., ...,  0.,  0.,  0.]]],\n",
       " \n",
       " \n",
       "         [[[ 0.,  1.,  0., ...,  0.,  0.,  0.],\n",
       "           [ 0.,  0.,  1., ...,  0.,  0.,  0.],\n",
       "           [ 0.,  0.,  0., ...,  0.,  0.,  0.],\n",
       "           ...,\n",
       "           [ 0.,  0.,  0., ...,  0.,  1.,  1.],\n",
       "           [ 0.,  1.,  0., ...,  0.,  0.,  0.],\n",
       "           [ 0.,  1.,  0., ...,  0.,  0.,  0.]],\n",
       " \n",
       "          [[ 0.,  5.,  0., ...,  0.,  0.,  0.],\n",
       "           [ 0.,  0.,  5., ...,  0.,  0.,  0.],\n",
       "           [ 0.,  0.,  0., ...,  0.,  0.,  0.],\n",
       "           ...,\n",
       "           [ 0.,  0.,  0., ...,  0.,  3.,  0.],\n",
       "           [ 0., -3.,  0., ...,  0.,  0.,  0.],\n",
       "           [ 0.,  0.,  0., ...,  0.,  0.,  0.]]]],\n",
       " \n",
       " \n",
       " \n",
       "        ...,\n",
       " \n",
       " \n",
       " \n",
       "        [[[[ 0.,  1.,  0., ...,  0.,  0.,  0.],\n",
       "           [ 0.,  0.,  1., ...,  0.,  0.,  0.],\n",
       "           [ 0.,  0.,  0., ...,  0.,  0.,  0.],\n",
       "           ...,\n",
       "           [ 0.,  0.,  0., ...,  0.,  1.,  1.],\n",
       "           [ 0.,  1.,  0., ...,  0.,  0.,  0.],\n",
       "           [ 0.,  1.,  0., ...,  0.,  0.,  0.]],\n",
       " \n",
       "          [[ 0.,  5.,  0., ...,  0.,  0.,  0.],\n",
       "           [ 0.,  0.,  5., ...,  0.,  0.,  0.],\n",
       "           [ 0.,  0.,  0., ...,  0.,  0.,  0.],\n",
       "           ...,\n",
       "           [ 0.,  0.,  0., ...,  0.,  3.,  0.],\n",
       "           [ 0., -3.,  0., ...,  0.,  0.,  0.],\n",
       "           [ 0.,  0.,  0., ...,  0.,  0.,  0.]]],\n",
       " \n",
       " \n",
       "         [[[ 0.,  1.,  0., ...,  0.,  0.,  0.],\n",
       "           [ 0.,  0.,  1., ...,  0.,  0.,  0.],\n",
       "           [ 0.,  0.,  0., ...,  0.,  0.,  0.],\n",
       "           ...,\n",
       "           [ 0.,  0.,  0., ...,  0.,  1.,  1.],\n",
       "           [ 0.,  1.,  0., ...,  0.,  0.,  0.],\n",
       "           [ 0.,  1.,  0., ...,  0.,  0.,  0.]],\n",
       " \n",
       "          [[ 0.,  5.,  0., ...,  0.,  0.,  0.],\n",
       "           [ 0.,  0.,  5., ...,  0.,  0.,  0.],\n",
       "           [ 0.,  0.,  0., ...,  0.,  0.,  0.],\n",
       "           ...,\n",
       "           [ 0.,  0.,  0., ...,  0.,  3.,  0.],\n",
       "           [ 0., -3.,  0., ...,  0.,  0.,  0.],\n",
       "           [ 0.,  0.,  0., ...,  0.,  0.,  0.]]],\n",
       " \n",
       " \n",
       "         [[[ 0.,  1.,  0., ...,  0.,  0.,  0.],\n",
       "           [ 0.,  0.,  1., ...,  0.,  0.,  0.],\n",
       "           [ 0.,  0.,  0., ...,  0.,  0.,  0.],\n",
       "           ...,\n",
       "           [ 0.,  0.,  0., ...,  0.,  1.,  1.],\n",
       "           [ 0.,  1.,  0., ...,  0.,  0.,  0.],\n",
       "           [ 0.,  1.,  0., ...,  0.,  0.,  0.]],\n",
       " \n",
       "          [[ 0.,  5.,  0., ...,  0.,  0.,  0.],\n",
       "           [ 0.,  0.,  5., ...,  0.,  0.,  0.],\n",
       "           [ 0.,  0.,  0., ...,  0.,  0.,  0.],\n",
       "           ...,\n",
       "           [ 0.,  0.,  0., ...,  0.,  3.,  0.],\n",
       "           [ 0., -3.,  0., ...,  0.,  0.,  0.],\n",
       "           [ 0.,  0.,  0., ...,  0.,  0.,  0.]]],\n",
       " \n",
       " \n",
       "         [[[ 0.,  1.,  0., ...,  0.,  0.,  0.],\n",
       "           [ 0.,  0.,  1., ...,  0.,  0.,  0.],\n",
       "           [ 0.,  0.,  0., ...,  0.,  0.,  0.],\n",
       "           ...,\n",
       "           [ 0.,  0.,  0., ...,  0.,  1.,  1.],\n",
       "           [ 0.,  1.,  0., ...,  0.,  0.,  0.],\n",
       "           [ 0.,  1.,  0., ...,  0.,  0.,  0.]],\n",
       " \n",
       "          [[ 0.,  5.,  0., ...,  0.,  0.,  0.],\n",
       "           [ 0.,  0.,  5., ...,  0.,  0.,  0.],\n",
       "           [ 0.,  0.,  0., ...,  0.,  0.,  0.],\n",
       "           ...,\n",
       "           [ 0.,  0.,  0., ...,  0.,  3.,  0.],\n",
       "           [ 0., -3.,  0., ...,  0.,  0.,  0.],\n",
       "           [ 0.,  0.,  0., ...,  0.,  0.,  0.]]]],\n",
       " \n",
       " \n",
       " \n",
       "        [[[[ 0.,  1.,  0., ...,  0.,  0.,  0.],\n",
       "           [ 0.,  0.,  1., ...,  0.,  0.,  0.],\n",
       "           [ 0.,  0.,  0., ...,  0.,  0.,  0.],\n",
       "           ...,\n",
       "           [ 0.,  0.,  0., ...,  0.,  1.,  1.],\n",
       "           [ 0.,  1.,  0., ...,  0.,  0.,  0.],\n",
       "           [ 0.,  1.,  0., ...,  0.,  0.,  0.]],\n",
       " \n",
       "          [[ 0.,  5.,  0., ...,  0.,  0.,  0.],\n",
       "           [ 0.,  0.,  5., ...,  0.,  0.,  0.],\n",
       "           [ 0.,  0.,  0., ...,  0.,  0.,  0.],\n",
       "           ...,\n",
       "           [ 0.,  0.,  0., ...,  0.,  3.,  0.],\n",
       "           [ 0., -3.,  0., ...,  0.,  0.,  0.],\n",
       "           [ 0.,  0.,  0., ...,  0.,  0.,  0.]]],\n",
       " \n",
       " \n",
       "         [[[ 0.,  1.,  0., ...,  0.,  0.,  0.],\n",
       "           [ 0.,  0.,  1., ...,  0.,  0.,  0.],\n",
       "           [ 0.,  0.,  0., ...,  0.,  0.,  0.],\n",
       "           ...,\n",
       "           [ 0.,  0.,  0., ...,  0.,  1.,  1.],\n",
       "           [ 0.,  1.,  0., ...,  0.,  0.,  0.],\n",
       "           [ 0.,  1.,  0., ...,  0.,  0.,  0.]],\n",
       " \n",
       "          [[ 0.,  5.,  0., ...,  0.,  0.,  0.],\n",
       "           [ 0.,  0.,  5., ...,  0.,  0.,  0.],\n",
       "           [ 0.,  0.,  0., ...,  0.,  0.,  0.],\n",
       "           ...,\n",
       "           [ 0.,  0.,  0., ...,  0.,  3.,  0.],\n",
       "           [ 0., -3.,  0., ...,  0.,  0.,  0.],\n",
       "           [ 0.,  0.,  0., ...,  0.,  0.,  0.]]],\n",
       " \n",
       " \n",
       "         [[[ 0.,  1.,  0., ...,  0.,  0.,  0.],\n",
       "           [ 0.,  0.,  1., ...,  0.,  0.,  0.],\n",
       "           [ 0.,  0.,  0., ...,  0.,  0.,  0.],\n",
       "           ...,\n",
       "           [ 0.,  0.,  0., ...,  0.,  1.,  1.],\n",
       "           [ 0.,  1.,  0., ...,  0.,  0.,  0.],\n",
       "           [ 0.,  1.,  0., ...,  0.,  0.,  0.]],\n",
       " \n",
       "          [[ 0.,  5.,  0., ...,  0.,  0.,  0.],\n",
       "           [ 0.,  0.,  5., ...,  0.,  0.,  0.],\n",
       "           [ 0.,  0.,  0., ...,  0.,  0.,  0.],\n",
       "           ...,\n",
       "           [ 0.,  0.,  0., ...,  0.,  3.,  0.],\n",
       "           [ 0., -3.,  0., ...,  0.,  0.,  0.],\n",
       "           [ 0.,  0.,  0., ...,  0.,  0.,  0.]]],\n",
       " \n",
       " \n",
       "         [[[ 0.,  1.,  0., ...,  0.,  0.,  0.],\n",
       "           [ 0.,  0.,  1., ...,  0.,  0.,  0.],\n",
       "           [ 0.,  0.,  0., ...,  0.,  0.,  0.],\n",
       "           ...,\n",
       "           [ 0.,  0.,  0., ...,  0.,  1.,  1.],\n",
       "           [ 0.,  1.,  0., ...,  0.,  0.,  0.],\n",
       "           [ 0.,  1.,  0., ...,  0.,  0.,  0.]],\n",
       " \n",
       "          [[ 0.,  5.,  0., ...,  0.,  0.,  0.],\n",
       "           [ 0.,  0.,  5., ...,  0.,  0.,  0.],\n",
       "           [ 0.,  0.,  0., ...,  0.,  0.,  0.],\n",
       "           ...,\n",
       "           [ 0.,  0.,  0., ...,  0.,  3.,  0.],\n",
       "           [ 0., -3.,  0., ...,  0.,  0.,  0.],\n",
       "           [ 0.,  0.,  0., ...,  0.,  0.,  0.]]]],\n",
       " \n",
       " \n",
       " \n",
       "        [[[[ 0.,  1.,  0., ...,  0.,  0.,  0.],\n",
       "           [ 0.,  0.,  1., ...,  0.,  0.,  0.],\n",
       "           [ 0.,  0.,  0., ...,  0.,  0.,  0.],\n",
       "           ...,\n",
       "           [ 0.,  0.,  0., ...,  0.,  1.,  1.],\n",
       "           [ 0.,  1.,  0., ...,  0.,  0.,  0.],\n",
       "           [ 0.,  1.,  0., ...,  0.,  0.,  0.]],\n",
       " \n",
       "          [[ 0.,  5.,  0., ...,  0.,  0.,  0.],\n",
       "           [ 0.,  0.,  5., ...,  0.,  0.,  0.],\n",
       "           [ 0.,  0.,  0., ...,  0.,  0.,  0.],\n",
       "           ...,\n",
       "           [ 0.,  0.,  0., ...,  0.,  3.,  0.],\n",
       "           [ 0., -3.,  0., ...,  0.,  0.,  0.],\n",
       "           [ 0.,  0.,  0., ...,  0.,  0.,  0.]]],\n",
       " \n",
       " \n",
       "         [[[ 0.,  1.,  0., ...,  0.,  0.,  0.],\n",
       "           [ 0.,  0.,  1., ...,  0.,  0.,  0.],\n",
       "           [ 0.,  0.,  0., ...,  0.,  0.,  0.],\n",
       "           ...,\n",
       "           [ 0.,  0.,  0., ...,  0.,  1.,  1.],\n",
       "           [ 0.,  1.,  0., ...,  0.,  0.,  0.],\n",
       "           [ 0.,  1.,  0., ...,  0.,  0.,  0.]],\n",
       " \n",
       "          [[ 0.,  5.,  0., ...,  0.,  0.,  0.],\n",
       "           [ 0.,  0.,  5., ...,  0.,  0.,  0.],\n",
       "           [ 0.,  0.,  0., ...,  0.,  0.,  0.],\n",
       "           ...,\n",
       "           [ 0.,  0.,  0., ...,  0.,  3.,  0.],\n",
       "           [ 0., -3.,  0., ...,  0.,  0.,  0.],\n",
       "           [ 0.,  0.,  0., ...,  0.,  0.,  0.]]],\n",
       " \n",
       " \n",
       "         [[[ 0.,  1.,  0., ...,  0.,  0.,  0.],\n",
       "           [ 0.,  0.,  1., ...,  0.,  0.,  0.],\n",
       "           [ 0.,  0.,  0., ...,  0.,  0.,  0.],\n",
       "           ...,\n",
       "           [ 0.,  0.,  0., ...,  0.,  1.,  1.],\n",
       "           [ 0.,  1.,  0., ...,  0.,  0.,  0.],\n",
       "           [ 0.,  1.,  0., ...,  0.,  0.,  0.]],\n",
       " \n",
       "          [[ 0.,  5.,  0., ...,  0.,  0.,  0.],\n",
       "           [ 0.,  0.,  5., ...,  0.,  0.,  0.],\n",
       "           [ 0.,  0.,  0., ...,  0.,  0.,  0.],\n",
       "           ...,\n",
       "           [ 0.,  0.,  0., ...,  0.,  3.,  0.],\n",
       "           [ 0., -3.,  0., ...,  0.,  0.,  0.],\n",
       "           [ 0.,  0.,  0., ...,  0.,  0.,  0.]]],\n",
       " \n",
       " \n",
       "         [[[ 0.,  1.,  0., ...,  0.,  0.,  0.],\n",
       "           [ 0.,  0.,  1., ...,  0.,  0.,  0.],\n",
       "           [ 0.,  0.,  0., ...,  0.,  0.,  0.],\n",
       "           ...,\n",
       "           [ 0.,  0.,  0., ...,  0.,  1.,  1.],\n",
       "           [ 0.,  1.,  0., ...,  0.,  0.,  0.],\n",
       "           [ 0.,  1.,  0., ...,  0.,  0.,  0.]],\n",
       " \n",
       "          [[ 0.,  5.,  0., ...,  0.,  0.,  0.],\n",
       "           [ 0.,  0.,  5., ...,  0.,  0.,  0.],\n",
       "           [ 0.,  0.,  0., ...,  0.,  0.,  0.],\n",
       "           ...,\n",
       "           [ 0.,  0.,  0., ...,  0.,  3.,  0.],\n",
       "           [ 0., -3.,  0., ...,  0.,  0.,  0.],\n",
       "           [ 0.,  0.,  0., ...,  0.,  0.,  0.]]]]], dtype=float32)>}),\n",
       "  'policy_info': (),\n",
       "  'reward': <tf.Tensor: shape=(8, 4), dtype=float32, numpy=\n",
       " array([[-2.,  0., -2.,  0.],\n",
       "        [-2.,  0., -2.,  0.],\n",
       "        [ 0., -2.,  0., -2.],\n",
       "        [-2.,  0.,  1.,  0.],\n",
       "        [ 0., -2.,  0., -2.],\n",
       "        [-2.,  0., -2.,  0.],\n",
       "        [ 0., -2.,  0., -2.],\n",
       "        [ 0., -2.,  0., -2.]], dtype=float32)>,\n",
       "  'step_type': <tf.Tensor: shape=(8, 4), dtype=int32, numpy=\n",
       " array([[1, 1, 1, 1],\n",
       "        [1, 1, 1, 1],\n",
       "        [1, 1, 1, 1],\n",
       "        [1, 1, 1, 1],\n",
       "        [1, 1, 1, 1],\n",
       "        [1, 1, 1, 1],\n",
       "        [1, 1, 1, 1],\n",
       "        [1, 1, 1, 1]], dtype=int32)>}),\n",
       " BufferInfo(ids=<tf.Tensor: shape=(8, 4), dtype=int64, numpy=\n",
       " array([[493, 494, 495, 496],\n",
       "        [491, 492, 493, 494],\n",
       "        [498, 499, 500, 501],\n",
       "        [505, 506, 507, 508],\n",
       "        [494, 495, 496, 497],\n",
       "        [501, 502, 503, 504],\n",
       "        [502, 503, 504, 505],\n",
       "        [494, 495, 496, 497]])>, probabilities=<tf.Tensor: shape=(8,), dtype=float32, numpy=\n",
       " array([0.05882353, 0.05882353, 0.05882353, 0.05882353, 0.05882353,\n",
       "        0.05882353, 0.05882353, 0.05882353], dtype=float32)>))"
      ]
     },
     "execution_count": 95,
     "metadata": {},
     "output_type": "execute_result"
    }
   ],
   "source": [
    "dataset = buffer.as_dataset(\n",
    "    num_parallel_calls=8,\n",
    "    sample_batch_size=8,\n",
    "    num_steps=4).prefetch(3)\n",
    "driver.run(train_env.reset())\n",
    "batch=next(iter(dataset))\n",
    "batch"
   ]
  },
  {
   "cell_type": "code",
   "execution_count": 96,
   "id": "530acb8c-b506-47e8-937c-c2556e0f4b7c",
   "metadata": {},
   "outputs": [
    {
     "data": {
      "text/plain": [
       "({'state': <tf.Tensor: shape=(8,), dtype=int32, numpy=array([3, 1, 3, 3, 3, 1, 3, 1], dtype=int32)>,\n",
       "  'environment': <tf.Tensor: shape=(8, 2, 8, 8), dtype=float32, numpy=\n",
       "  array([[[[ 0.,  1.,  0., ...,  0.,  0.,  0.],\n",
       "           [ 0.,  0.,  1., ...,  0.,  0.,  0.],\n",
       "           [ 0.,  0.,  0., ...,  0.,  0.,  0.],\n",
       "           ...,\n",
       "           [ 0.,  0.,  0., ...,  0.,  1.,  1.],\n",
       "           [ 0.,  1.,  0., ...,  0.,  0.,  0.],\n",
       "           [ 0.,  1.,  0., ...,  0.,  0.,  0.]],\n",
       "  \n",
       "          [[ 0.,  5.,  0., ...,  0.,  0.,  0.],\n",
       "           [ 0.,  0.,  5., ...,  0.,  0.,  0.],\n",
       "           [ 0.,  0.,  0., ...,  0.,  0.,  0.],\n",
       "           ...,\n",
       "           [ 0.,  0.,  0., ...,  0.,  3.,  0.],\n",
       "           [ 0., -3.,  0., ...,  0.,  0.,  0.],\n",
       "           [ 0.,  0.,  0., ...,  0.,  0.,  0.]]],\n",
       "  \n",
       "  \n",
       "         [[[ 0.,  1.,  0., ...,  0.,  0.,  0.],\n",
       "           [ 0.,  0.,  1., ...,  0.,  0.,  0.],\n",
       "           [ 0.,  0.,  0., ...,  0.,  0.,  0.],\n",
       "           ...,\n",
       "           [ 0.,  0.,  0., ...,  0.,  1.,  1.],\n",
       "           [ 0.,  1.,  0., ...,  0.,  0.,  0.],\n",
       "           [ 0.,  1.,  0., ...,  0.,  0.,  0.]],\n",
       "  \n",
       "          [[ 0.,  5.,  0., ...,  0.,  0.,  0.],\n",
       "           [ 0.,  0.,  5., ...,  0.,  0.,  0.],\n",
       "           [ 0.,  0.,  0., ...,  0.,  0.,  0.],\n",
       "           ...,\n",
       "           [ 0.,  0.,  0., ...,  0.,  3.,  0.],\n",
       "           [ 0., -3.,  0., ...,  0.,  0.,  0.],\n",
       "           [ 0.,  0.,  0., ...,  0.,  0.,  0.]]],\n",
       "  \n",
       "  \n",
       "         [[[ 0.,  1.,  0., ...,  0.,  0.,  0.],\n",
       "           [ 0.,  0.,  1., ...,  0.,  0.,  0.],\n",
       "           [ 0.,  0.,  0., ...,  0.,  0.,  0.],\n",
       "           ...,\n",
       "           [ 0.,  0.,  0., ...,  0.,  1.,  1.],\n",
       "           [ 0.,  1.,  0., ...,  0.,  0.,  0.],\n",
       "           [ 0.,  1.,  0., ...,  0.,  0.,  0.]],\n",
       "  \n",
       "          [[ 0.,  5.,  0., ...,  0.,  0.,  0.],\n",
       "           [ 0.,  0.,  5., ...,  0.,  0.,  0.],\n",
       "           [ 0.,  0.,  0., ...,  0.,  0.,  0.],\n",
       "           ...,\n",
       "           [ 0.,  0.,  0., ...,  0.,  3.,  0.],\n",
       "           [ 0., -3.,  0., ...,  0.,  0.,  0.],\n",
       "           [ 0.,  0.,  0., ...,  0.,  0.,  0.]]],\n",
       "  \n",
       "  \n",
       "         ...,\n",
       "  \n",
       "  \n",
       "         [[[ 0.,  1.,  0., ...,  0.,  0.,  0.],\n",
       "           [ 0.,  0.,  1., ...,  0.,  0.,  0.],\n",
       "           [ 0.,  0.,  0., ...,  0.,  0.,  0.],\n",
       "           ...,\n",
       "           [ 0.,  0.,  0., ...,  0.,  1.,  1.],\n",
       "           [ 0.,  1.,  0., ...,  0.,  0.,  0.],\n",
       "           [ 0.,  1.,  0., ...,  0.,  0.,  0.]],\n",
       "  \n",
       "          [[ 0.,  5.,  0., ...,  0.,  0.,  0.],\n",
       "           [ 0.,  0.,  5., ...,  0.,  0.,  0.],\n",
       "           [ 0.,  0.,  0., ...,  0.,  0.,  0.],\n",
       "           ...,\n",
       "           [ 0.,  0.,  0., ...,  0.,  3.,  0.],\n",
       "           [ 0., -3.,  0., ...,  0.,  0.,  0.],\n",
       "           [ 0.,  0.,  0., ...,  0.,  0.,  0.]]],\n",
       "  \n",
       "  \n",
       "         [[[ 0.,  1.,  0., ...,  0.,  0.,  0.],\n",
       "           [ 0.,  0.,  1., ...,  0.,  0.,  0.],\n",
       "           [ 0.,  0.,  0., ...,  0.,  0.,  0.],\n",
       "           ...,\n",
       "           [ 0.,  0.,  0., ...,  0.,  1.,  1.],\n",
       "           [ 0.,  1.,  0., ...,  0.,  0.,  0.],\n",
       "           [ 0.,  1.,  0., ...,  0.,  0.,  0.]],\n",
       "  \n",
       "          [[ 0.,  5.,  0., ...,  0.,  0.,  0.],\n",
       "           [ 0.,  0.,  5., ...,  0.,  0.,  0.],\n",
       "           [ 0.,  0.,  0., ...,  0.,  0.,  0.],\n",
       "           ...,\n",
       "           [ 0.,  0.,  0., ...,  0.,  3.,  0.],\n",
       "           [ 0., -3.,  0., ...,  0.,  0.,  0.],\n",
       "           [ 0.,  0.,  0., ...,  0.,  0.,  0.]]],\n",
       "  \n",
       "  \n",
       "         [[[ 0.,  1.,  0., ...,  0.,  0.,  0.],\n",
       "           [ 0.,  0.,  1., ...,  0.,  0.,  0.],\n",
       "           [ 0.,  0.,  0., ...,  0.,  0.,  0.],\n",
       "           ...,\n",
       "           [ 0.,  0.,  0., ...,  0.,  1.,  1.],\n",
       "           [ 0.,  1.,  0., ...,  0.,  0.,  0.],\n",
       "           [ 0.,  1.,  0., ...,  0.,  0.,  0.]],\n",
       "  \n",
       "          [[ 0.,  5.,  0., ...,  0.,  0.,  0.],\n",
       "           [ 0.,  0.,  5., ...,  0.,  0.,  0.],\n",
       "           [ 0.,  0.,  0., ...,  0.,  0.,  0.],\n",
       "           ...,\n",
       "           [ 0.,  0.,  0., ...,  0.,  3.,  0.],\n",
       "           [ 0., -3.,  0., ...,  0.,  0.,  0.],\n",
       "           [ 0.,  0.,  0., ...,  0.,  0.,  0.]]]], dtype=float32)>},\n",
       " <tf.Tensor: shape=(8, 8), dtype=float32, numpy=\n",
       " array([[0., 0., 0., 0., 0., 0., 1., 1.],\n",
       "        [0., 0., 1., 0., 1., 0., 0., 0.],\n",
       "        [0., 0., 0., 0., 0., 0., 1., 1.],\n",
       "        [0., 0., 0., 0., 0., 0., 1., 1.],\n",
       "        [0., 0., 0., 0., 0., 0., 1., 1.],\n",
       "        [0., 0., 1., 0., 1., 0., 0., 0.],\n",
       "        [0., 0., 0., 0., 0., 0., 1., 1.],\n",
       "        [0., 0., 1., 0., 1., 0., 0., 0.]], dtype=float32)>)"
      ]
     },
     "execution_count": 96,
     "metadata": {},
     "output_type": "execute_result"
    }
   ],
   "source": [
    "importlib.reload(rl_utils)\n",
    "batch=next(iter(dataset))\n",
    "E={key:batch[0].observation[key][:,0] for key in batch[0].observation}\n",
    "splitter(E)"
   ]
  },
  {
   "cell_type": "code",
   "execution_count": 97,
   "id": "f3aff162-250b-4ce3-abfc-49a70002aec2",
   "metadata": {
    "ExecuteTime": {
     "end_time": "2023-05-15T14:30:39.690057Z",
     "start_time": "2023-05-15T14:29:41.622731Z"
    },
    "tags": []
   },
   "outputs": [
    {
     "name": "stdout",
     "output_type": "stream",
     "text": [
      "WARNING:tensorflow:From /home/ramizouari/anaconda3/envs/stochastic_games/lib/python3.10/site-packages/tensorflow/python/util/dispatch.py:1176: calling foldr_v2 (from tensorflow.python.ops.functional_ops) with back_prop=False is deprecated and will be removed in a future version.\n",
      "Instructions for updating:\n",
      "back_prop=False is deprecated. Consider using tf.stop_gradient instead.\n",
      "Instead of:\n",
      "results = tf.foldr(fn, elems, back_prop=False)\n",
      "Use:\n",
      "results = tf.nest.map_structure(tf.stop_gradient, tf.foldr(fn, elems))\n"
     ]
    },
    {
     "name": "stderr",
     "output_type": "stream",
     "text": [
      "WARNING:tensorflow:From /home/ramizouari/anaconda3/envs/stochastic_games/lib/python3.10/site-packages/tensorflow/python/util/dispatch.py:1176: calling foldr_v2 (from tensorflow.python.ops.functional_ops) with back_prop=False is deprecated and will be removed in a future version.\n",
      "Instructions for updating:\n",
      "back_prop=False is deprecated. Consider using tf.stop_gradient instead.\n",
      "Instead of:\n",
      "results = tf.foldr(fn, elems, back_prop=False)\n",
      "Use:\n",
      "results = tf.nest.map_structure(tf.stop_gradient, tf.foldr(fn, elems))\n"
     ]
    },
    {
     "name": "stdout",
     "output_type": "stream",
     "text": [
      "step = 1: loss = 1.1339476108551025\n",
      "step = 2: loss = 2.201998472213745\n",
      "step = 3: loss = 1.8107719421386719\n",
      "step = 4: loss = 1.2546463012695312\n",
      "step = 5: loss = 0.5603786706924438\n",
      "step = 6: loss = 1.3612220287322998\n",
      "step = 7: loss = 0.4488934278488159\n",
      "step = 8: loss = 0.4845980405807495\n",
      "step = 9: loss = 0.35422948002815247\n",
      "step = 10: loss = 0.45054376125335693\n",
      "step = 11: loss = 0.4913141429424286\n",
      "step = 12: loss = 0.4865337908267975\n",
      "step = 13: loss = 0.5816371440887451\n",
      "step = 14: loss = 1.6906977891921997\n",
      "step = 15: loss = 2.4146690368652344\n",
      "step = 16: loss = 2.189333200454712\n",
      "step = 17: loss = 1.0436348915100098\n",
      "step = 18: loss = 2.8249311447143555\n",
      "step = 19: loss = 1.458680510520935\n",
      "step = 20: loss = 1.2377842664718628\n",
      "step = 21: loss = 1.9340684413909912\n",
      "step = 22: loss = 0.8917479515075684\n",
      "step = 23: loss = 1.4628241062164307\n",
      "step = 24: loss = 0.8024151921272278\n",
      "step = 25: loss = 1.2241432666778564\n",
      "step = 26: loss = 1.204770803451538\n",
      "step = 27: loss = 1.0098650455474854\n",
      "step = 28: loss = 1.0050417184829712\n",
      "step = 29: loss = 0.8536320924758911\n",
      "step = 30: loss = 1.4339663982391357\n",
      "step = 31: loss = 1.6369035243988037\n",
      "step = 32: loss = 1.431429386138916\n",
      "step = 33: loss = 1.1540546417236328\n",
      "step = 34: loss = 1.1036152839660645\n",
      "step = 35: loss = 1.1676563024520874\n",
      "step = 36: loss = 1.0\n",
      "step = 37: loss = 2.5653045177459717\n",
      "step = 38: loss = 1.9048001766204834\n",
      "step = 39: loss = 0.8605350852012634\n",
      "step = 40: loss = 0.7177236080169678\n",
      "step = 41: loss = 2.057281494140625\n",
      "step = 42: loss = 1.961695909500122\n",
      "step = 43: loss = 0.8071892261505127\n",
      "step = 44: loss = 2.069190502166748\n",
      "step = 45: loss = 2.9557533264160156\n",
      "step = 46: loss = 2.1724493503570557\n",
      "step = 47: loss = 0.34312963485717773\n",
      "step = 48: loss = 0.8556320667266846\n",
      "step = 49: loss = 3.5583739280700684\n",
      "step = 50: loss = 2.8941140174865723\n",
      "step = 51: loss = 2.1318275928497314\n",
      "step = 52: loss = 1.3518803119659424\n",
      "step = 53: loss = 2.6943602561950684\n",
      "step = 54: loss = 10.571197509765625\n",
      "step = 55: loss = 5.48758602142334\n",
      "step = 56: loss = 1.4387750625610352\n",
      "step = 57: loss = 1.0134730339050293\n",
      "step = 58: loss = 1.2947940826416016\n",
      "step = 59: loss = 1.0430314540863037\n",
      "step = 60: loss = 0.5945380926132202\n",
      "step = 61: loss = 3.924747943878174\n",
      "step = 62: loss = 1.0066171884536743\n",
      "step = 63: loss = 2.532275915145874\n",
      "step = 64: loss = 1.171000361442566\n",
      "step = 65: loss = 1.8211661577224731\n",
      "step = 66: loss = 3.3301472663879395\n",
      "step = 67: loss = 1.6501045227050781\n",
      "step = 68: loss = 5.399876594543457\n",
      "step = 69: loss = 3.1621432304382324\n",
      "step = 70: loss = 7.745741367340088\n",
      "step = 71: loss = 3.054248571395874\n",
      "step = 72: loss = 1.054616928100586\n",
      "step = 73: loss = 1.2573561668395996\n",
      "step = 74: loss = 1.0273709297180176\n",
      "step = 75: loss = 3.1851093769073486\n",
      "step = 76: loss = 0.8331406116485596\n",
      "step = 77: loss = 5.5553083419799805\n",
      "step = 78: loss = 3.204524278640747\n",
      "step = 79: loss = 1.2454615831375122\n",
      "step = 80: loss = 1.1100401878356934\n",
      "step = 81: loss = 3.953984260559082\n",
      "step = 82: loss = 3.596958637237549\n",
      "step = 83: loss = 3.4287033081054688\n",
      "step = 84: loss = 0.5889902114868164\n",
      "step = 85: loss = 0.3585170805454254\n",
      "step = 86: loss = 4.138518333435059\n",
      "step = 87: loss = 0.5860125422477722\n",
      "step = 88: loss = 0.30499976873397827\n",
      "step = 89: loss = 4.294406890869141\n",
      "step = 90: loss = 4.456204414367676\n",
      "step = 91: loss = 4.576651573181152\n",
      "step = 92: loss = 1.2156171798706055\n",
      "step = 93: loss = 4.20438814163208\n",
      "step = 94: loss = 4.068495750427246\n",
      "step = 95: loss = 0.5909766554832458\n",
      "step = 96: loss = 1.7197883129119873\n",
      "step = 97: loss = 4.616270065307617\n",
      "step = 98: loss = 0.3364097774028778\n",
      "step = 99: loss = 0.5891645550727844\n",
      "step = 100: loss = 1.0735293626785278\n"
     ]
    }
   ],
   "source": [
    "\n",
    "\n",
    "iterator=iter(dataset)\n",
    "iterations=100\n",
    "time_step=train_env.reset()\n",
    "log_interval=1\n",
    "eval_interval=1\n",
    "for k in range(iterations):\n",
    "    time_step, _ = driver.run(time_step)\n",
    "\n",
    "  # Sample a batch of data from the buffer and update the agent's network. w\n",
    "    experience, unused_info = next(iterator)\n",
    "    train_loss = agent.train(experience).loss\n",
    "\n",
    "    step = agent.train_step_counter.numpy()\n",
    "\n",
    "    if step % log_interval == 0:\n",
    "        print('step = {0}: loss = {1}'.format(step, train_loss))\n",
    "\n"
   ]
  },
  {
   "cell_type": "markdown",
   "id": "d3eeb167-28bd-48f0-b300-8a091872062f",
   "metadata": {},
   "source": [
    "## Z=iter(dataset)"
   ]
  },
  {
   "cell_type": "code",
   "execution_count": null,
   "id": "d4ab7772-0da8-4eb5-8b86-099b94944f77",
   "metadata": {},
   "outputs": [],
   "source": [
    "next(Z)"
   ]
  },
  {
   "cell_type": "code",
   "execution_count": null,
   "id": "21a5089e-0c72-4975-b0bc-e095dd441b67",
   "metadata": {},
   "outputs": [],
   "source": [
    "for k,_ in enumerate(buffer.as_dataset()):\n",
    "    print(_[0].observation[\"state\"])\n",
    "    if k > 100:\n",
    "        break"
   ]
  },
  {
   "cell_type": "code",
   "execution_count": null,
   "id": "fc2a9221-ff21-42fd-8b08-084ee9e69384",
   "metadata": {},
   "outputs": [],
   "source": [
    "driver.env.time_step_spec()"
   ]
  },
  {
   "cell_type": "code",
   "execution_count": null,
   "id": "7e0e3f7c-44bd-4215-9769-94e54f7793be",
   "metadata": {},
   "outputs": [],
   "source": [
    "for k,element in enumerate(buffer.as_dataset()):\n",
    "    print(element)\n",
    "    print(f\"****::{k}:****\")\n",
    "    if k > 2:\n",
    "        break"
   ]
  },
  {
   "cell_type": "code",
   "execution_count": null,
   "id": "93104668-991a-43db-807b-d642808cea76",
   "metadata": {},
   "outputs": [],
   "source": [
    "fo_env.batched"
   ]
  },
  {
   "cell_type": "code",
   "execution_count": null,
   "id": "76caa481-6041-4aaf-8725-56a951c32ecd",
   "metadata": {},
   "outputs": [],
   "source": [
    "A=tf.random.uniform(shape=[3,3,3])"
   ]
  },
  {
   "cell_type": "code",
   "execution_count": 111,
   "id": "ff114d30-710b-4065-84e8-e0c5c8a6a2a4",
   "metadata": {},
   "outputs": [
    {
     "data": {
      "text/plain": [
       "PolicyStep(action=<tf.Tensor: shape=(1,), dtype=int32, numpy=array([4], dtype=int32)>, state=(), info=())"
      ]
     },
     "execution_count": 111,
     "metadata": {},
     "output_type": "execute_result"
    }
   ],
   "source": [
    "t0=train_env.reset()\n",
    "agent.policy.action(t0)"
   ]
  },
  {
   "cell_type": "code",
   "execution_count": null,
   "id": "5cc7918e-8a2d-40ed-9e54-e7daeea5985d",
   "metadata": {},
   "outputs": [],
   "source": []
  },
  {
   "cell_type": "code",
   "execution_count": 312,
   "id": "c5652784-8f23-42f5-a8a6-cd75dbcc092e",
   "metadata": {},
   "outputs": [
    {
     "ename": "ValueError",
     "evalue": "Attempt to convert a value ({0: array([0., 0., 0., 0., 0.]), 1: array([0., 0., 0., 0., 0.])}) with an unsupported type (<class 'dict'>) to a Tensor.",
     "output_type": "error",
     "traceback": [
      "\u001B[0;31m---------------------------------------------------------------------------\u001B[0m",
      "\u001B[0;31mValueError\u001B[0m                                Traceback (most recent call last)",
      "Cell \u001B[0;32mIn[312], line 1\u001B[0m\n\u001B[0;32m----> 1\u001B[0m \u001B[43mtf\u001B[49m\u001B[38;5;241;43m.\u001B[39;49m\u001B[43mgather_nd\u001B[49m\u001B[43m(\u001B[49m\u001B[43mA\u001B[49m\u001B[43m,\u001B[49m\u001B[43mtf\u001B[49m\u001B[38;5;241;43m.\u001B[39;49m\u001B[43mconstant\u001B[49m\u001B[43m(\u001B[49m\u001B[43m[\u001B[49m\u001B[43m[\u001B[49m\u001B[38;5;241;43m0\u001B[39;49m\u001B[43m,\u001B[49m\u001B[38;5;241;43m0\u001B[39;49m\u001B[43m,\u001B[49m\u001B[38;5;241;43m0\u001B[39;49m\u001B[43m]\u001B[49m\u001B[43m,\u001B[49m\u001B[43m[\u001B[49m\u001B[38;5;241;43m1\u001B[39;49m\u001B[43m,\u001B[49m\u001B[38;5;241;43m1\u001B[39;49m\u001B[43m,\u001B[49m\u001B[38;5;241;43m1\u001B[39;49m\u001B[43m]\u001B[49m\u001B[43m]\u001B[49m\u001B[43m)\u001B[49m\u001B[43m)\u001B[49m\n",
      "File \u001B[0;32m~/anaconda3/envs/stochastic_games/lib/python3.10/site-packages/tensorflow/python/util/traceback_utils.py:153\u001B[0m, in \u001B[0;36mfilter_traceback.<locals>.error_handler\u001B[0;34m(*args, **kwargs)\u001B[0m\n\u001B[1;32m    151\u001B[0m \u001B[38;5;28;01mexcept\u001B[39;00m \u001B[38;5;167;01mException\u001B[39;00m \u001B[38;5;28;01mas\u001B[39;00m e:\n\u001B[1;32m    152\u001B[0m   filtered_tb \u001B[38;5;241m=\u001B[39m _process_traceback_frames(e\u001B[38;5;241m.\u001B[39m__traceback__)\n\u001B[0;32m--> 153\u001B[0m   \u001B[38;5;28;01mraise\u001B[39;00m e\u001B[38;5;241m.\u001B[39mwith_traceback(filtered_tb) \u001B[38;5;28;01mfrom\u001B[39;00m \u001B[38;5;28mNone\u001B[39m\n\u001B[1;32m    154\u001B[0m \u001B[38;5;28;01mfinally\u001B[39;00m:\n\u001B[1;32m    155\u001B[0m   \u001B[38;5;28;01mdel\u001B[39;00m filtered_tb\n",
      "File \u001B[0;32m~/anaconda3/envs/stochastic_games/lib/python3.10/site-packages/tensorflow/python/framework/constant_op.py:102\u001B[0m, in \u001B[0;36mconvert_to_eager_tensor\u001B[0;34m(value, ctx, dtype)\u001B[0m\n\u001B[1;32m    100\u001B[0m     dtype \u001B[38;5;241m=\u001B[39m dtypes\u001B[38;5;241m.\u001B[39mas_dtype(dtype)\u001B[38;5;241m.\u001B[39mas_datatype_enum\n\u001B[1;32m    101\u001B[0m ctx\u001B[38;5;241m.\u001B[39mensure_initialized()\n\u001B[0;32m--> 102\u001B[0m \u001B[38;5;28;01mreturn\u001B[39;00m \u001B[43mops\u001B[49m\u001B[38;5;241;43m.\u001B[39;49m\u001B[43mEagerTensor\u001B[49m\u001B[43m(\u001B[49m\u001B[43mvalue\u001B[49m\u001B[43m,\u001B[49m\u001B[43m \u001B[49m\u001B[43mctx\u001B[49m\u001B[38;5;241;43m.\u001B[39;49m\u001B[43mdevice_name\u001B[49m\u001B[43m,\u001B[49m\u001B[43m \u001B[49m\u001B[43mdtype\u001B[49m\u001B[43m)\u001B[49m\n",
      "\u001B[0;31mValueError\u001B[0m: Attempt to convert a value ({0: array([0., 0., 0., 0., 0.]), 1: array([0., 0., 0., 0., 0.])}) with an unsupported type (<class 'dict'>) to a Tensor."
     ]
    }
   ],
   "source": [
    "tf.gather_nd(A,tf.constant([[0,0,0],[1,1,1]]))"
   ]
  },
  {
   "cell_type": "code",
   "execution_count": 313,
   "id": "518e6b53-8bb1-452a-9d0b-f5c09cd16f23",
   "metadata": {},
   "outputs": [
    {
     "data": {
      "text/plain": [
       "{0: array([0., 0., 0., 0., 0.]), 1: array([0., 0., 0., 0., 0.])}"
      ]
     },
     "execution_count": 313,
     "metadata": {},
     "output_type": "execute_result"
    }
   ],
   "source": [
    "A"
   ]
  },
  {
   "cell_type": "code",
   "execution_count": 271,
   "id": "820f8e0d-6cab-4ee2-a021-7d5b1eac9d62",
   "metadata": {},
   "outputs": [
    {
     "data": {
      "text/plain": [
       "<tf.Tensor: shape=(), dtype=float32, numpy=0.6443225>"
      ]
     },
     "execution_count": 271,
     "metadata": {},
     "output_type": "execute_result"
    }
   ],
   "source": [
    "A[1,1,1]"
   ]
  },
  {
   "cell_type": "code",
   "execution_count": 339,
   "id": "78882a38-f330-401b-8c5d-e920c4a8ad7a",
   "metadata": {},
   "outputs": [
    {
     "data": {
      "text/plain": [
       "array([[0., 1., 0., 0., 0., 0., 0., 0.],\n",
       "       [0., 0., 1., 0., 1., 0., 0., 0.],\n",
       "       [0., 0., 0., 1., 0., 0., 0., 0.],\n",
       "       [0., 0., 0., 0., 0., 0., 1., 1.],\n",
       "       [0., 0., 0., 0., 0., 1., 0., 0.],\n",
       "       [0., 0., 0., 0., 0., 0., 1., 1.],\n",
       "       [0., 1., 0., 0., 0., 0., 0., 0.],\n",
       "       [0., 1., 0., 0., 0., 0., 0., 0.]], dtype=float32)"
      ]
     },
     "execution_count": 339,
     "metadata": {},
     "output_type": "execute_result"
    }
   ],
   "source": [
    "fo_env.env.graph.adjacency_matrix"
   ]
  },
  {
   "cell_type": "code",
   "execution_count": 424,
   "id": "a9c16b77-313d-42c9-909f-2921568c00c2",
   "metadata": {
    "ExecuteTime": {
     "end_time": "2023-05-15T14:29:09.724186Z",
     "start_time": "2023-05-15T14:29:09.675994Z"
    }
   },
   "outputs": [
    {
     "data": {
      "text/plain": [
       "TensorShape([2, 2, 2])"
      ]
     },
     "execution_count": 424,
     "metadata": {},
     "output_type": "execute_result"
    }
   ],
   "source": [
    "tf.zeros(shape=(2,2,2)).shape"
   ]
  },
  {
   "cell_type": "code",
   "execution_count": 46,
   "id": "697805d7-5c40-443b-a48a-0209488843ba",
   "metadata": {},
   "outputs": [],
   "source": [
    "A=tf.random.uniform([2,1,5,5,5])"
   ]
  },
  {
   "cell_type": "code",
   "execution_count": 49,
   "id": "e76a7c05-7ba8-46c8-95fb-47ca45aa9cca",
   "metadata": {},
   "outputs": [
    {
     "data": {
      "text/plain": [
       "<tf.Tensor: shape=(2, 1, 5), dtype=float32, numpy=\n",
       "array([[[0.76097524, 0.13867462, 0.5122886 , 0.18104172, 0.08846366]],\n",
       "\n",
       "       [[0.1883893 , 0.79562414, 0.60452783, 0.92311394, 0.04559219]]],\n",
       "      dtype=float32)>"
      ]
     },
     "execution_count": 49,
     "metadata": {},
     "output_type": "execute_result"
    }
   ],
   "source": [
    "tf.gather_nd(A,indices=I,batch_dims=2)"
   ]
  },
  {
   "cell_type": "code",
   "execution_count": 48,
   "id": "d5ad4acb-d398-43b5-803d-c073a33139ed",
   "metadata": {},
   "outputs": [],
   "source": [
    "I=tf.constant([[[1,1]],[[2,2]]])"
   ]
  },
  {
   "cell_type": "code",
   "execution_count": 113,
   "id": "ee9ce73d-0bb0-41d7-935a-2d6b46a0c799",
   "metadata": {},
   "outputs": [
    {
     "ename": "AttributeError",
     "evalue": "'DqnAgent' object has no attribute 'q_network'",
     "output_type": "error",
     "traceback": [
      "\u001B[0;31m---------------------------------------------------------------------------\u001B[0m",
      "\u001B[0;31mAttributeError\u001B[0m                            Traceback (most recent call last)",
      "Cell \u001B[0;32mIn[113], line 1\u001B[0m\n\u001B[0;32m----> 1\u001B[0m \u001B[43magent\u001B[49m\u001B[38;5;241;43m.\u001B[39;49m\u001B[43mq_network\u001B[49m\n",
      "\u001B[0;31mAttributeError\u001B[0m: 'DqnAgent' object has no attribute 'q_network'"
     ]
    }
   ],
   "source": [
    "agent.q_network"
   ]
  },
  {
   "cell_type": "code",
   "execution_count": 125,
   "id": "72069c1d-35b7-4e59-a4dd-61dce10ab7f6",
   "metadata": {},
   "outputs": [
    {
     "data": {
      "text/plain": [
       "<tf.Tensor: shape=(2,), dtype=int32, numpy=array([1, 1], dtype=int32)>"
      ]
     },
     "execution_count": 125,
     "metadata": {},
     "output_type": "execute_result"
    }
   ],
   "source": [
    "tf.math.reduce_sum(tf.ragged.constant([[0,1],[1]]),axis=0)"
   ]
  },
  {
   "cell_type": "code",
   "execution_count": 132,
   "id": "6c75c9cb-8a71-436d-8aec-f69edfc1a090",
   "metadata": {},
   "outputs": [
    {
     "ename": "TypeError",
     "evalue": "SparseTensor.__init__() missing 1 required positional argument: 'dense_shape'",
     "output_type": "error",
     "traceback": [
      "\u001B[0;31m---------------------------------------------------------------------------\u001B[0m",
      "\u001B[0;31mTypeError\u001B[0m                                 Traceback (most recent call last)",
      "Cell \u001B[0;32mIn[132], line 1\u001B[0m\n\u001B[0;32m----> 1\u001B[0m tf\u001B[38;5;241m.\u001B[39mVariable(\u001B[43mtf\u001B[49m\u001B[38;5;241;43m.\u001B[39;49m\u001B[43msparse\u001B[49m\u001B[38;5;241;43m.\u001B[39;49m\u001B[43mSparseTensor\u001B[49m\u001B[43m(\u001B[49m\u001B[43m[\u001B[49m\u001B[38;5;241;43m0\u001B[39;49m\u001B[43m,\u001B[49m\u001B[38;5;241;43m5\u001B[39;49m\u001B[43m]\u001B[49m\u001B[43m,\u001B[49m\u001B[43m[\u001B[49m\u001B[38;5;241;43m0\u001B[39;49m\u001B[43m,\u001B[49m\u001B[38;5;241;43m0\u001B[39;49m\u001B[43m]\u001B[49m\u001B[43m)\u001B[49m)\n",
      "\u001B[0;31mTypeError\u001B[0m: SparseTensor.__init__() missing 1 required positional argument: 'dense_shape'"
     ]
    }
   ],
   "source": [
    "tf.Variable(tf.sparse.SparseTensor([0,5],[0,0]))"
   ]
  },
  {
   "cell_type": "code",
   "execution_count": null,
   "id": "66a0dab1-5841-4ef2-a1f8-db426792b27f",
   "metadata": {},
   "outputs": [],
   "source": []
  }
 ],
 "metadata": {
  "kernelspec": {
   "display_name": "Python 3 (ipykernel)",
   "language": "python",
   "name": "python3"
  },
  "language_info": {
   "codemirror_mode": {
    "name": "ipython",
    "version": 3
   },
   "file_extension": ".py",
   "mimetype": "text/x-python",
   "name": "python",
   "nbconvert_exporter": "python",
   "pygments_lexer": "ipython3",
   "version": "3.10.11"
  }
 },
 "nbformat": 4,
 "nbformat_minor": 5
}
