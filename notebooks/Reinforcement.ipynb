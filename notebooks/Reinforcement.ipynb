{
 "cells": [
  {
   "cell_type": "code",
   "execution_count": 1,
   "id": "1f188a3a-1a4a-4368-b2c4-1816a9e37719",
   "metadata": {
    "ExecuteTime": {
     "end_time": "2023-05-12T01:26:25.959745Z",
     "start_time": "2023-05-12T01:26:25.951790Z"
    }
   },
   "outputs": [
    {
     "name": "stderr",
     "output_type": "stream",
     "text": [
      "2023-05-16 17:16:52.520203: I tensorflow/core/platform/cpu_feature_guard.cc:193] This TensorFlow binary is optimized with oneAPI Deep Neural Network Library (oneDNN) to use the following CPU instructions in performance-critical operations:  SSE4.1 SSE4.2 AVX AVX2 FMA\n",
      "To enable them in other operations, rebuild TensorFlow with the appropriate compiler flags.\n"
     ]
    }
   ],
   "source": [
    "from __future__ import absolute_import\n",
    "from __future__ import division\n",
    "from __future__ import print_function\n",
    "\n",
    "import abc\n",
    "import tensorflow as tf\n",
    "import numpy as np\n",
    "\n",
    "from tf_agents.environments import py_environment\n",
    "from tf_agents.environments import tf_environment\n",
    "from tf_agents.environments import tf_py_environment\n",
    "from tf_agents.environments import utils\n",
    "from tf_agents.specs import array_spec\n",
    "from tf_agents.environments import wrappers\n",
    "from tf_agents.environments import suite_gym\n",
    "from tf_agents.trajectories import time_step as ts"
   ]
  },
  {
   "cell_type": "code",
   "execution_count": 2,
   "id": "074abc3c-371c-458e-9884-7360a4ec6be3",
   "metadata": {
    "ExecuteTime": {
     "end_time": "2023-05-12T01:26:27.488349Z",
     "start_time": "2023-05-12T01:26:27.479720Z"
    }
   },
   "outputs": [],
   "source": [
    "class CardGameEnv(py_environment.PyEnvironment):\n",
    "    def __init__(self):\n",
    "        self._action_spec = array_spec.BoundedArraySpec(\n",
    "            shape=(), dtype=np.int32, minimum=0, maximum=1, name='action')\n",
    "        self._observation_spec = array_spec.BoundedArraySpec(\n",
    "            shape=(1,), dtype=np.int32, minimum=0, name='observation')\n",
    "        self._state = 0\n",
    "        self._episode_ended = False\n",
    "\n",
    "\n",
    "    def action_spec(self):\n",
    "        return self._action_spec\n",
    "\n",
    "    def observation_spec(self):\n",
    "        return self._observation_spec\n",
    "\n",
    "    def _reset(self):\n",
    "        self._state = 0\n",
    "        self._episode_ended = False\n",
    "        return ts.restart(np.array([self._state], dtype=np.int32))\n",
    "\n",
    "    def _step(self, action):\n",
    "\n",
    "        if self._episode_ended:\n",
    "          # The last action ended the episode. Ignore the current action and start\n",
    "          # a new episode.\n",
    "            return self.reset()\n",
    "\n",
    "        # Make sure episodes don't go on forever.\n",
    "        if action == 1:\n",
    "            self._episode_ended = True\n",
    "        elif action == 0:\n",
    "            new_card = np.random.randint(1, 11)\n",
    "            self._state += new_card\n",
    "        else:\n",
    "            raise ValueError('`action` should be 0 or 1.')\n",
    "\n",
    "        if self._episode_ended or self._state >= 21:\n",
    "            reward = self._state - 21 if self._state <= 21 else -21\n",
    "            return ts.termination(np.array([self._state], dtype=np.int32), reward)\n",
    "        else:\n",
    "            return ts.transition(\n",
    "              np.array([self._state], dtype=np.int32), reward=0.0, discount=1.0)"
   ]
  },
  {
   "cell_type": "code",
   "execution_count": 3,
   "id": "f0e7220c-4d29-49b9-8302-02883cb6d20d",
   "metadata": {
    "ExecuteTime": {
     "end_time": "2023-05-12T01:26:28.521902Z",
     "start_time": "2023-05-12T01:26:28.503895Z"
    }
   },
   "outputs": [],
   "source": [
    "environment = CardGameEnv()\n",
    "utils.validate_py_environment(environment, episodes=5)"
   ]
  },
  {
   "cell_type": "markdown",
   "id": "ffc71781-5bce-4538-bfda-a0a247e72ebe",
   "metadata": {},
   "source": [
    "## 2. MPG Environment"
   ]
  },
  {
   "cell_type": "code",
   "execution_count": 4,
   "id": "99a08238-94c8-49c7-9ae6-619195e1bf8b",
   "metadata": {
    "ExecuteTime": {
     "end_time": "2023-05-12T01:26:32.774105Z",
     "start_time": "2023-05-12T01:26:32.751900Z"
    }
   },
   "outputs": [],
   "source": [
    "from mpg.games import mpg\n"
   ]
  },
  {
   "cell_type": "code",
   "execution_count": 5,
   "id": "fe3b00ac-bf51-4eff-aef8-f1133467addf",
   "metadata": {
    "ExecuteTime": {
     "end_time": "2023-05-12T01:26:33.322302Z",
     "start_time": "2023-05-12T01:26:33.258487Z"
    }
   },
   "outputs": [],
   "source": [
    "from mpg.games import strategy,mpg\n",
    "from mpg.rl import model_free,environment as rl_env\n",
    "import importlib\n",
    "importlib.reload(strategy)\n",
    "importlib.reload(mpg)\n",
    "importlib.reload(model_free)\n",
    "importlib.reload(rl_env)\n",
    "G=mpg.mpg_from_file(\"data/test01.in\",ignore_header=1)\n",
    "G\n",
    "environment = rl_env.MPGEnvironment(G,0,0,10,bad_action_penalty=None)\n",
    "#utils.validate_py_environment(environment, episodes=5)"
   ]
  },
  {
   "cell_type": "code",
   "execution_count": 6,
   "id": "2bb6e23e-4fa9-4bec-80c5-49d34c162457",
   "metadata": {
    "ExecuteTime": {
     "end_time": "2023-05-12T01:26:34.202025Z",
     "start_time": "2023-05-12T01:26:34.167708Z"
    }
   },
   "outputs": [
    {
     "data": {
      "text/plain": [
       "ArraySpec(shape=(), dtype=dtype('float32'), name='reward')"
      ]
     },
     "execution_count": 6,
     "metadata": {},
     "output_type": "execute_result"
    }
   ],
   "source": [
    "environment.reward_spec()"
   ]
  },
  {
   "cell_type": "code",
   "execution_count": 7,
   "id": "69c18508-d3b6-41d1-93a0-bdb8f91e44c1",
   "metadata": {
    "ExecuteTime": {
     "end_time": "2023-05-12T01:26:35.592708Z",
     "start_time": "2023-05-12T01:26:35.584564Z"
    }
   },
   "outputs": [],
   "source": [
    "environment = rl_env.MPGEnvironment(G,1,0,max_turns=100,bad_action_penalty=-10)"
   ]
  },
  {
   "cell_type": "code",
   "execution_count": 8,
   "id": "e7c5a12d-fc56-4a35-9581-9b48512b016c",
   "metadata": {
    "ExecuteTime": {
     "end_time": "2023-05-12T01:26:36.245614Z",
     "start_time": "2023-05-12T01:26:36.238562Z"
    }
   },
   "outputs": [],
   "source": [
    "fixed_env=rl_env.FixedStrategyMPGEnvironment(environment,strategy.GreedyStrategy(environment.graph,turn=mpg.MeanPayoffGraph.player1))\n",
    "fixed_env.reset()\n",
    "agent=model_free.RLearningAgent(fixed_env)\n",
    "fo_env=rl_env.FullyObservableMPGEnvironment(fixed_env)"
   ]
  },
  {
   "cell_type": "code",
   "execution_count": 9,
   "id": "3dfb546b-8732-4abc-8896-c321992e74b9",
   "metadata": {
    "ExecuteTime": {
     "end_time": "2023-05-12T01:26:39.708070Z",
     "start_time": "2023-05-12T01:26:39.701952Z"
    }
   },
   "outputs": [],
   "source": [
    "environment._vertex=np.array(0)"
   ]
  },
  {
   "cell_type": "code",
   "execution_count": 10,
   "id": "85b13569-779a-42dd-a437-8f48aa510c19",
   "metadata": {
    "ExecuteTime": {
     "end_time": "2023-05-12T01:26:42.240449Z",
     "start_time": "2023-05-12T01:26:42.230151Z"
    }
   },
   "outputs": [
    {
     "data": {
      "text/plain": [
       "{1: 2, 5: 5, 3: 5, 4: 5}"
      ]
     },
     "execution_count": 10,
     "metadata": {},
     "output_type": "execute_result"
    }
   ],
   "source": [
    "{1:2,5:5,3:5,4:5}"
   ]
  },
  {
   "cell_type": "code",
   "execution_count": 11,
   "id": "5d3abf8f-970a-44e6-962f-f35e7848b07e",
   "metadata": {
    "ExecuteTime": {
     "end_time": "2023-05-12T01:26:43.495649Z",
     "start_time": "2023-05-12T01:26:43.486393Z"
    }
   },
   "outputs": [],
   "source": [
    "A={0:np.zeros(5),1:np.zeros(5)}"
   ]
  },
  {
   "cell_type": "code",
   "execution_count": 12,
   "id": "97bc5002-c85e-467c-8cd1-12520662e978",
   "metadata": {
    "ExecuteTime": {
     "end_time": "2023-05-12T01:26:44.259762Z",
     "start_time": "2023-05-12T01:26:44.247105Z"
    }
   },
   "outputs": [
    {
     "data": {
      "text/plain": [
       "0.0"
      ]
     },
     "execution_count": 12,
     "metadata": {},
     "output_type": "execute_result"
    }
   ],
   "source": [
    "A[1][1]"
   ]
  },
  {
   "cell_type": "code",
   "execution_count": 13,
   "id": "35401ede-5ea1-41ae-854d-523ac1fba58c",
   "metadata": {
    "ExecuteTime": {
     "end_time": "2023-05-12T01:26:51.584753Z",
     "start_time": "2023-05-12T01:26:51.550378Z"
    }
   },
   "outputs": [
    {
     "data": {
      "application/vnd.jupyter.widget-view+json": {
       "model_id": "492ccf40b9344ef2a960d680b62ee069",
       "version_major": 2,
       "version_minor": 0
      },
      "text/plain": [
       "MPGVisualisation(layout=Layout(height='500px', width='100%'))"
      ]
     },
     "metadata": {},
     "output_type": "display_data"
    }
   ],
   "source": [
    "from mpg.visualisation import game as vgame\n",
    "VG=vgame.MPGVisualisation(G)\n",
    "VG"
   ]
  },
  {
   "cell_type": "code",
   "execution_count": 14,
   "id": "48b7587a-d4d1-4aca-a8be-6ceb1bce0753",
   "metadata": {
    "ExecuteTime": {
     "end_time": "2023-05-15T14:24:23.290980Z",
     "start_time": "2023-05-15T14:24:23.218746Z"
    }
   },
   "outputs": [
    {
     "data": {
      "text/plain": [
       "<module 'mpg.rl.architectures.example' from '/home/ramizouari/Academic/AI/MeanPayOffGames/notebooks/mpg/rl/architectures/example.py'>"
      ]
     },
     "execution_count": 14,
     "metadata": {},
     "output_type": "execute_result"
    }
   ],
   "source": [
    "importlib.reload(rl_env)\n",
    "import mpg.rl.driver as rl_driver\n",
    "importlib.reload(rl_driver)\n",
    "import tf_agents as tfa\n",
    "import mpg.rl.replay_buffers as rl_replay\n",
    "importlib.reload(rl_replay)\n",
    "import mpg.rl.agents as rl_agents\n",
    "importlib.reload(rl_agents)\n",
    "import mpg.rl.architectures.example as rl_arch\n",
    "importlib.reload(rl_arch)\n"
   ]
  },
  {
   "cell_type": "code",
   "execution_count": 15,
   "id": "1c65aa2c-e06e-44cc-a71c-9369436afab9",
   "metadata": {
    "ExecuteTime": {
     "end_time": "2023-05-15T14:24:23.680376Z",
     "start_time": "2023-05-15T14:24:23.680277Z"
    }
   },
   "outputs": [
    {
     "data": {
      "text/plain": [
       "ArraySpec(shape=(2, 8, 8), dtype=dtype('float32'), name=None)"
      ]
     },
     "execution_count": 15,
     "metadata": {},
     "output_type": "execute_result"
    }
   ],
   "source": [
    "importlib.reload(rl_env)\n",
    "E=rl_env.MPGMatrixExtractor(matrix=\"both\",graph_size=8)\n",
    "E.get_env_specs(fixed_env)"
   ]
  },
  {
   "cell_type": "code",
   "execution_count": 16,
   "id": "1d7bfa91-8c3b-43e2-9447-49cae8407420",
   "metadata": {
    "ExecuteTime": {
     "end_time": "2023-05-15T14:24:24.129255Z",
     "start_time": "2023-05-15T14:24:24.105947Z"
    }
   },
   "outputs": [
    {
     "data": {
      "text/plain": [
       "array([[[ 0.,  1.,  0.,  0.,  0.,  0.,  0.,  0.],\n",
       "        [ 0.,  0.,  1.,  0.,  1.,  0.,  0.,  0.],\n",
       "        [ 0.,  0.,  0.,  1.,  0.,  0.,  0.,  0.],\n",
       "        [ 0.,  0.,  0.,  0.,  0.,  0.,  1.,  1.],\n",
       "        [ 0.,  0.,  0.,  0.,  0.,  1.,  0.,  0.],\n",
       "        [ 0.,  0.,  0.,  0.,  0.,  0.,  1.,  1.],\n",
       "        [ 0.,  1.,  0.,  0.,  0.,  0.,  0.,  0.],\n",
       "        [ 0.,  1.,  0.,  0.,  0.,  0.,  0.,  0.]],\n",
       "\n",
       "       [[ 0.,  5.,  0.,  0.,  0.,  0.,  0.,  0.],\n",
       "        [ 0.,  0.,  5.,  0.,  4.,  0.,  0.,  0.],\n",
       "        [ 0.,  0.,  0., -7.,  0.,  0.,  0.,  0.],\n",
       "        [ 0.,  0.,  0.,  0.,  0.,  0.,  5.,  0.],\n",
       "        [ 0.,  0.,  0.,  0.,  0., -3.,  0.,  0.],\n",
       "        [ 0.,  0.,  0.,  0.,  0.,  0.,  3.,  0.],\n",
       "        [ 0., -3.,  0.,  0.,  0.,  0.,  0.,  0.],\n",
       "        [ 0.,  0.,  0.,  0.,  0.,  0.,  0.,  0.]]], dtype=float32)"
      ]
     },
     "execution_count": 16,
     "metadata": {},
     "output_type": "execute_result"
    }
   ],
   "source": [
    "E(fixed_env)"
   ]
  },
  {
   "cell_type": "code",
   "execution_count": 17,
   "id": "28758e61-549b-471f-af4c-49fc57c60701",
   "metadata": {
    "ExecuteTime": {
     "end_time": "2023-05-15T14:24:24.533133Z",
     "start_time": "2023-05-15T14:24:24.524182Z"
    }
   },
   "outputs": [],
   "source": [
    "optimizer=tf.keras.optimizers.Adam()\n",
    "\n",
    "converter=rl_env.MPGTrajectoryConverter(fixed_env,E)\n",
    "\n",
    "qnet=tfa.networks.q_network.QNetwork(\n",
    "    input_tensor_spec=converter.data_spec[\"environment\"],\n",
    "    action_spec=fixed_env.action_spec(),\n",
    "    preprocessing_layers=None,\n",
    "    preprocessing_combiner=None,\n",
    "    conv_layer_params=None,\n",
    "    fc_layer_params=(75, 40),\n",
    "    dropout_layer_params=None,\n",
    "    activation_fn=tf.keras.activations.relu,\n",
    "    kernel_initializer=None,\n",
    "    batch_squash=True,\n",
    "    dtype=tf.float32,\n",
    "    q_layer_activation_fn=None,\n",
    "    name='QNetwork'\n",
    ")\n",
    "\n"
   ]
  },
  {
   "cell_type": "code",
   "execution_count": 58,
   "id": "dbbe210f-aba1-42af-9b45-2ef3d8500b36",
   "metadata": {
    "ExecuteTime": {
     "end_time": "2023-05-15T14:27:42.070221Z",
     "start_time": "2023-05-15T14:27:42.009429Z"
    }
   },
   "outputs": [],
   "source": [
    "#buffer=rl_replay.MPGMatrixBuffer(converter.data_spec[\"environment\"],10)\n",
    "from mpg.rl import observers as rl_observer\n",
    "from mpg.rl import utils as rl_utils\n",
    "importlib.reload(rl_observer)\n",
    "importlib.reload(rl_utils)\n",
    "train_env=tfa.environments.tf_py_environment.TFPyEnvironment(fo_env)\n",
    "T=tfa.specs.tensor_spec.add_outer_dims_nest(\n",
    "    train_env.time_step_spec(), [1]\n",
    ")\n",
    "A=tfa.specs.tensor_spec.add_outer_dims_nest(\n",
    "    train_env.action_spec(), [1]\n",
    ")\n",
    "O=tfa.specs.tensor_spec.add_outer_dims_nest(\n",
    "    train_env.observation_spec(), [None]\n",
    ")\n",
    "\n",
    "\n",
    "def normal_splitter(observation):\n",
    "    if isinstance(observation[\"state\"],tfa.specs.TensorSpec):\n",
    "        return observation,tf.TensorSpec(shape=(tf.cast(observation[\"state\"].maximum,dtype=tf.int32)+1,))\n",
    "    C=tf.gather_nd(observation[\"environment\"],tf.concat([tf.constant([0,0]),tf.cast(observation[\"state\"],dtype=tf.int32)],0))\n",
    "    return observation,tf.reshape(C,shape=(1,-1))\n",
    "net=rl_arch.MPGNetworkExample(train_env.observation_spec(),fo_env.count_vertices)\n",
    "splitter=rl_utils.MPGActionConstraintSplitter()\n",
    "agent=tfa.agents.DqnAgent(\n",
    "    time_step_spec=train_env.time_step_spec(),\n",
    "    action_spec= train_env.action_spec(),\n",
    "    q_network= net,\n",
    "    optimizer= optimizer,\n",
    "#    observation_and_action_constraint_splitter= splitter,\n",
    "    epsilon_greedy= 0.1,\n",
    "    n_step_update = 3,\n",
    "#    training_data_spec= converter.data_spec\n",
    ")\n",
    "buffer=tfa.replay_buffers.tf_uniform_replay_buffer.TFUniformReplayBuffer(agent.collect_data_spec,batch_size=1,max_length=20)\n",
    "driver=rl_driver.MPGDriver(train_env,agent.collect_policy,total_observers=[],partial_observers=[buffer.add_batch],num_episodes=10,max_steps=8)"
   ]
  },
  {
   "cell_type": "code",
   "execution_count": 59,
   "id": "88280348-ab9a-4f5b-881f-58acd1909b2e",
   "metadata": {},
   "outputs": [
    {
     "data": {
      "text/plain": [
       "(Trajectory(\n",
       " {'action': <tf.Tensor: shape=(8, 4), dtype=int32, numpy=\n",
       " array([[6, 6, 6, 6],\n",
       "        [3, 6, 6, 6],\n",
       "        [6, 6, 6, 6],\n",
       "        [6, 6, 6, 6],\n",
       "        [6, 6, 6, 6],\n",
       "        [6, 6, 6, 6],\n",
       "        [6, 6, 6, 6],\n",
       "        [6, 6, 6, 6]], dtype=int32)>,\n",
       "  'discount': <tf.Tensor: shape=(8, 4), dtype=float32, numpy=\n",
       " array([[1., 1., 1., 1.],\n",
       "        [1., 1., 1., 1.],\n",
       "        [1., 1., 1., 1.],\n",
       "        [1., 1., 1., 1.],\n",
       "        [1., 1., 1., 1.],\n",
       "        [1., 1., 1., 1.],\n",
       "        [1., 1., 1., 1.],\n",
       "        [1., 1., 1., 1.]], dtype=float32)>,\n",
       "  'next_step_type': <tf.Tensor: shape=(8, 4), dtype=int32, numpy=\n",
       " array([[1, 1, 1, 1],\n",
       "        [1, 1, 1, 1],\n",
       "        [1, 1, 1, 1],\n",
       "        [1, 1, 1, 1],\n",
       "        [1, 1, 1, 1],\n",
       "        [1, 1, 1, 1],\n",
       "        [1, 1, 1, 1],\n",
       "        [1, 1, 1, 1]], dtype=int32)>,\n",
       "  'observation': DictWrapper({'state': <tf.Tensor: shape=(8, 4), dtype=int32, numpy=\n",
       " array([[1, 1, 1, 1],\n",
       "        [1, 1, 1, 1],\n",
       "        [1, 1, 1, 1],\n",
       "        [1, 1, 1, 1],\n",
       "        [1, 1, 1, 1],\n",
       "        [1, 1, 1, 1],\n",
       "        [1, 1, 1, 1],\n",
       "        [1, 1, 1, 1]], dtype=int32)>, 'environment': <tf.Tensor: shape=(8, 4, 2, 8, 8), dtype=float32, numpy=\n",
       " array([[[[[ 0.,  1.,  0., ...,  0.,  0.,  0.],\n",
       "           [ 0.,  0.,  1., ...,  0.,  0.,  0.],\n",
       "           [ 0.,  0.,  0., ...,  0.,  0.,  0.],\n",
       "           ...,\n",
       "           [ 0.,  0.,  0., ...,  0.,  1.,  1.],\n",
       "           [ 0.,  1.,  0., ...,  0.,  0.,  0.],\n",
       "           [ 0.,  1.,  0., ...,  0.,  0.,  0.]],\n",
       " \n",
       "          [[ 0.,  5.,  0., ...,  0.,  0.,  0.],\n",
       "           [ 0.,  0.,  5., ...,  0.,  0.,  0.],\n",
       "           [ 0.,  0.,  0., ...,  0.,  0.,  0.],\n",
       "           ...,\n",
       "           [ 0.,  0.,  0., ...,  0.,  3.,  0.],\n",
       "           [ 0., -3.,  0., ...,  0.,  0.,  0.],\n",
       "           [ 0.,  0.,  0., ...,  0.,  0.,  0.]]],\n",
       " \n",
       " \n",
       "         [[[ 0.,  1.,  0., ...,  0.,  0.,  0.],\n",
       "           [ 0.,  0.,  1., ...,  0.,  0.,  0.],\n",
       "           [ 0.,  0.,  0., ...,  0.,  0.,  0.],\n",
       "           ...,\n",
       "           [ 0.,  0.,  0., ...,  0.,  1.,  1.],\n",
       "           [ 0.,  1.,  0., ...,  0.,  0.,  0.],\n",
       "           [ 0.,  1.,  0., ...,  0.,  0.,  0.]],\n",
       " \n",
       "          [[ 0.,  5.,  0., ...,  0.,  0.,  0.],\n",
       "           [ 0.,  0.,  5., ...,  0.,  0.,  0.],\n",
       "           [ 0.,  0.,  0., ...,  0.,  0.,  0.],\n",
       "           ...,\n",
       "           [ 0.,  0.,  0., ...,  0.,  3.,  0.],\n",
       "           [ 0., -3.,  0., ...,  0.,  0.,  0.],\n",
       "           [ 0.,  0.,  0., ...,  0.,  0.,  0.]]],\n",
       " \n",
       " \n",
       "         [[[ 0.,  1.,  0., ...,  0.,  0.,  0.],\n",
       "           [ 0.,  0.,  1., ...,  0.,  0.,  0.],\n",
       "           [ 0.,  0.,  0., ...,  0.,  0.,  0.],\n",
       "           ...,\n",
       "           [ 0.,  0.,  0., ...,  0.,  1.,  1.],\n",
       "           [ 0.,  1.,  0., ...,  0.,  0.,  0.],\n",
       "           [ 0.,  1.,  0., ...,  0.,  0.,  0.]],\n",
       " \n",
       "          [[ 0.,  5.,  0., ...,  0.,  0.,  0.],\n",
       "           [ 0.,  0.,  5., ...,  0.,  0.,  0.],\n",
       "           [ 0.,  0.,  0., ...,  0.,  0.,  0.],\n",
       "           ...,\n",
       "           [ 0.,  0.,  0., ...,  0.,  3.,  0.],\n",
       "           [ 0., -3.,  0., ...,  0.,  0.,  0.],\n",
       "           [ 0.,  0.,  0., ...,  0.,  0.,  0.]]],\n",
       " \n",
       " \n",
       "         [[[ 0.,  1.,  0., ...,  0.,  0.,  0.],\n",
       "           [ 0.,  0.,  1., ...,  0.,  0.,  0.],\n",
       "           [ 0.,  0.,  0., ...,  0.,  0.,  0.],\n",
       "           ...,\n",
       "           [ 0.,  0.,  0., ...,  0.,  1.,  1.],\n",
       "           [ 0.,  1.,  0., ...,  0.,  0.,  0.],\n",
       "           [ 0.,  1.,  0., ...,  0.,  0.,  0.]],\n",
       " \n",
       "          [[ 0.,  5.,  0., ...,  0.,  0.,  0.],\n",
       "           [ 0.,  0.,  5., ...,  0.,  0.,  0.],\n",
       "           [ 0.,  0.,  0., ...,  0.,  0.,  0.],\n",
       "           ...,\n",
       "           [ 0.,  0.,  0., ...,  0.,  3.,  0.],\n",
       "           [ 0., -3.,  0., ...,  0.,  0.,  0.],\n",
       "           [ 0.,  0.,  0., ...,  0.,  0.,  0.]]]],\n",
       " \n",
       " \n",
       " \n",
       "        [[[[ 0.,  1.,  0., ...,  0.,  0.,  0.],\n",
       "           [ 0.,  0.,  1., ...,  0.,  0.,  0.],\n",
       "           [ 0.,  0.,  0., ...,  0.,  0.,  0.],\n",
       "           ...,\n",
       "           [ 0.,  0.,  0., ...,  0.,  1.,  1.],\n",
       "           [ 0.,  1.,  0., ...,  0.,  0.,  0.],\n",
       "           [ 0.,  1.,  0., ...,  0.,  0.,  0.]],\n",
       " \n",
       "          [[ 0.,  5.,  0., ...,  0.,  0.,  0.],\n",
       "           [ 0.,  0.,  5., ...,  0.,  0.,  0.],\n",
       "           [ 0.,  0.,  0., ...,  0.,  0.,  0.],\n",
       "           ...,\n",
       "           [ 0.,  0.,  0., ...,  0.,  3.,  0.],\n",
       "           [ 0., -3.,  0., ...,  0.,  0.,  0.],\n",
       "           [ 0.,  0.,  0., ...,  0.,  0.,  0.]]],\n",
       " \n",
       " \n",
       "         [[[ 0.,  1.,  0., ...,  0.,  0.,  0.],\n",
       "           [ 0.,  0.,  1., ...,  0.,  0.,  0.],\n",
       "           [ 0.,  0.,  0., ...,  0.,  0.,  0.],\n",
       "           ...,\n",
       "           [ 0.,  0.,  0., ...,  0.,  1.,  1.],\n",
       "           [ 0.,  1.,  0., ...,  0.,  0.,  0.],\n",
       "           [ 0.,  1.,  0., ...,  0.,  0.,  0.]],\n",
       " \n",
       "          [[ 0.,  5.,  0., ...,  0.,  0.,  0.],\n",
       "           [ 0.,  0.,  5., ...,  0.,  0.,  0.],\n",
       "           [ 0.,  0.,  0., ...,  0.,  0.,  0.],\n",
       "           ...,\n",
       "           [ 0.,  0.,  0., ...,  0.,  3.,  0.],\n",
       "           [ 0., -3.,  0., ...,  0.,  0.,  0.],\n",
       "           [ 0.,  0.,  0., ...,  0.,  0.,  0.]]],\n",
       " \n",
       " \n",
       "         [[[ 0.,  1.,  0., ...,  0.,  0.,  0.],\n",
       "           [ 0.,  0.,  1., ...,  0.,  0.,  0.],\n",
       "           [ 0.,  0.,  0., ...,  0.,  0.,  0.],\n",
       "           ...,\n",
       "           [ 0.,  0.,  0., ...,  0.,  1.,  1.],\n",
       "           [ 0.,  1.,  0., ...,  0.,  0.,  0.],\n",
       "           [ 0.,  1.,  0., ...,  0.,  0.,  0.]],\n",
       " \n",
       "          [[ 0.,  5.,  0., ...,  0.,  0.,  0.],\n",
       "           [ 0.,  0.,  5., ...,  0.,  0.,  0.],\n",
       "           [ 0.,  0.,  0., ...,  0.,  0.,  0.],\n",
       "           ...,\n",
       "           [ 0.,  0.,  0., ...,  0.,  3.,  0.],\n",
       "           [ 0., -3.,  0., ...,  0.,  0.,  0.],\n",
       "           [ 0.,  0.,  0., ...,  0.,  0.,  0.]]],\n",
       " \n",
       " \n",
       "         [[[ 0.,  1.,  0., ...,  0.,  0.,  0.],\n",
       "           [ 0.,  0.,  1., ...,  0.,  0.,  0.],\n",
       "           [ 0.,  0.,  0., ...,  0.,  0.,  0.],\n",
       "           ...,\n",
       "           [ 0.,  0.,  0., ...,  0.,  1.,  1.],\n",
       "           [ 0.,  1.,  0., ...,  0.,  0.,  0.],\n",
       "           [ 0.,  1.,  0., ...,  0.,  0.,  0.]],\n",
       " \n",
       "          [[ 0.,  5.,  0., ...,  0.,  0.,  0.],\n",
       "           [ 0.,  0.,  5., ...,  0.,  0.,  0.],\n",
       "           [ 0.,  0.,  0., ...,  0.,  0.,  0.],\n",
       "           ...,\n",
       "           [ 0.,  0.,  0., ...,  0.,  3.,  0.],\n",
       "           [ 0., -3.,  0., ...,  0.,  0.,  0.],\n",
       "           [ 0.,  0.,  0., ...,  0.,  0.,  0.]]]],\n",
       " \n",
       " \n",
       " \n",
       "        [[[[ 0.,  1.,  0., ...,  0.,  0.,  0.],\n",
       "           [ 0.,  0.,  1., ...,  0.,  0.,  0.],\n",
       "           [ 0.,  0.,  0., ...,  0.,  0.,  0.],\n",
       "           ...,\n",
       "           [ 0.,  0.,  0., ...,  0.,  1.,  1.],\n",
       "           [ 0.,  1.,  0., ...,  0.,  0.,  0.],\n",
       "           [ 0.,  1.,  0., ...,  0.,  0.,  0.]],\n",
       " \n",
       "          [[ 0.,  5.,  0., ...,  0.,  0.,  0.],\n",
       "           [ 0.,  0.,  5., ...,  0.,  0.,  0.],\n",
       "           [ 0.,  0.,  0., ...,  0.,  0.,  0.],\n",
       "           ...,\n",
       "           [ 0.,  0.,  0., ...,  0.,  3.,  0.],\n",
       "           [ 0., -3.,  0., ...,  0.,  0.,  0.],\n",
       "           [ 0.,  0.,  0., ...,  0.,  0.,  0.]]],\n",
       " \n",
       " \n",
       "         [[[ 0.,  1.,  0., ...,  0.,  0.,  0.],\n",
       "           [ 0.,  0.,  1., ...,  0.,  0.,  0.],\n",
       "           [ 0.,  0.,  0., ...,  0.,  0.,  0.],\n",
       "           ...,\n",
       "           [ 0.,  0.,  0., ...,  0.,  1.,  1.],\n",
       "           [ 0.,  1.,  0., ...,  0.,  0.,  0.],\n",
       "           [ 0.,  1.,  0., ...,  0.,  0.,  0.]],\n",
       " \n",
       "          [[ 0.,  5.,  0., ...,  0.,  0.,  0.],\n",
       "           [ 0.,  0.,  5., ...,  0.,  0.,  0.],\n",
       "           [ 0.,  0.,  0., ...,  0.,  0.,  0.],\n",
       "           ...,\n",
       "           [ 0.,  0.,  0., ...,  0.,  3.,  0.],\n",
       "           [ 0., -3.,  0., ...,  0.,  0.,  0.],\n",
       "           [ 0.,  0.,  0., ...,  0.,  0.,  0.]]],\n",
       " \n",
       " \n",
       "         [[[ 0.,  1.,  0., ...,  0.,  0.,  0.],\n",
       "           [ 0.,  0.,  1., ...,  0.,  0.,  0.],\n",
       "           [ 0.,  0.,  0., ...,  0.,  0.,  0.],\n",
       "           ...,\n",
       "           [ 0.,  0.,  0., ...,  0.,  1.,  1.],\n",
       "           [ 0.,  1.,  0., ...,  0.,  0.,  0.],\n",
       "           [ 0.,  1.,  0., ...,  0.,  0.,  0.]],\n",
       " \n",
       "          [[ 0.,  5.,  0., ...,  0.,  0.,  0.],\n",
       "           [ 0.,  0.,  5., ...,  0.,  0.,  0.],\n",
       "           [ 0.,  0.,  0., ...,  0.,  0.,  0.],\n",
       "           ...,\n",
       "           [ 0.,  0.,  0., ...,  0.,  3.,  0.],\n",
       "           [ 0., -3.,  0., ...,  0.,  0.,  0.],\n",
       "           [ 0.,  0.,  0., ...,  0.,  0.,  0.]]],\n",
       " \n",
       " \n",
       "         [[[ 0.,  1.,  0., ...,  0.,  0.,  0.],\n",
       "           [ 0.,  0.,  1., ...,  0.,  0.,  0.],\n",
       "           [ 0.,  0.,  0., ...,  0.,  0.,  0.],\n",
       "           ...,\n",
       "           [ 0.,  0.,  0., ...,  0.,  1.,  1.],\n",
       "           [ 0.,  1.,  0., ...,  0.,  0.,  0.],\n",
       "           [ 0.,  1.,  0., ...,  0.,  0.,  0.]],\n",
       " \n",
       "          [[ 0.,  5.,  0., ...,  0.,  0.,  0.],\n",
       "           [ 0.,  0.,  5., ...,  0.,  0.,  0.],\n",
       "           [ 0.,  0.,  0., ...,  0.,  0.,  0.],\n",
       "           ...,\n",
       "           [ 0.,  0.,  0., ...,  0.,  3.,  0.],\n",
       "           [ 0., -3.,  0., ...,  0.,  0.,  0.],\n",
       "           [ 0.,  0.,  0., ...,  0.,  0.,  0.]]]],\n",
       " \n",
       " \n",
       " \n",
       "        ...,\n",
       " \n",
       " \n",
       " \n",
       "        [[[[ 0.,  1.,  0., ...,  0.,  0.,  0.],\n",
       "           [ 0.,  0.,  1., ...,  0.,  0.,  0.],\n",
       "           [ 0.,  0.,  0., ...,  0.,  0.,  0.],\n",
       "           ...,\n",
       "           [ 0.,  0.,  0., ...,  0.,  1.,  1.],\n",
       "           [ 0.,  1.,  0., ...,  0.,  0.,  0.],\n",
       "           [ 0.,  1.,  0., ...,  0.,  0.,  0.]],\n",
       " \n",
       "          [[ 0.,  5.,  0., ...,  0.,  0.,  0.],\n",
       "           [ 0.,  0.,  5., ...,  0.,  0.,  0.],\n",
       "           [ 0.,  0.,  0., ...,  0.,  0.,  0.],\n",
       "           ...,\n",
       "           [ 0.,  0.,  0., ...,  0.,  3.,  0.],\n",
       "           [ 0., -3.,  0., ...,  0.,  0.,  0.],\n",
       "           [ 0.,  0.,  0., ...,  0.,  0.,  0.]]],\n",
       " \n",
       " \n",
       "         [[[ 0.,  1.,  0., ...,  0.,  0.,  0.],\n",
       "           [ 0.,  0.,  1., ...,  0.,  0.,  0.],\n",
       "           [ 0.,  0.,  0., ...,  0.,  0.,  0.],\n",
       "           ...,\n",
       "           [ 0.,  0.,  0., ...,  0.,  1.,  1.],\n",
       "           [ 0.,  1.,  0., ...,  0.,  0.,  0.],\n",
       "           [ 0.,  1.,  0., ...,  0.,  0.,  0.]],\n",
       " \n",
       "          [[ 0.,  5.,  0., ...,  0.,  0.,  0.],\n",
       "           [ 0.,  0.,  5., ...,  0.,  0.,  0.],\n",
       "           [ 0.,  0.,  0., ...,  0.,  0.,  0.],\n",
       "           ...,\n",
       "           [ 0.,  0.,  0., ...,  0.,  3.,  0.],\n",
       "           [ 0., -3.,  0., ...,  0.,  0.,  0.],\n",
       "           [ 0.,  0.,  0., ...,  0.,  0.,  0.]]],\n",
       " \n",
       " \n",
       "         [[[ 0.,  1.,  0., ...,  0.,  0.,  0.],\n",
       "           [ 0.,  0.,  1., ...,  0.,  0.,  0.],\n",
       "           [ 0.,  0.,  0., ...,  0.,  0.,  0.],\n",
       "           ...,\n",
       "           [ 0.,  0.,  0., ...,  0.,  1.,  1.],\n",
       "           [ 0.,  1.,  0., ...,  0.,  0.,  0.],\n",
       "           [ 0.,  1.,  0., ...,  0.,  0.,  0.]],\n",
       " \n",
       "          [[ 0.,  5.,  0., ...,  0.,  0.,  0.],\n",
       "           [ 0.,  0.,  5., ...,  0.,  0.,  0.],\n",
       "           [ 0.,  0.,  0., ...,  0.,  0.,  0.],\n",
       "           ...,\n",
       "           [ 0.,  0.,  0., ...,  0.,  3.,  0.],\n",
       "           [ 0., -3.,  0., ...,  0.,  0.,  0.],\n",
       "           [ 0.,  0.,  0., ...,  0.,  0.,  0.]]],\n",
       " \n",
       " \n",
       "         [[[ 0.,  1.,  0., ...,  0.,  0.,  0.],\n",
       "           [ 0.,  0.,  1., ...,  0.,  0.,  0.],\n",
       "           [ 0.,  0.,  0., ...,  0.,  0.,  0.],\n",
       "           ...,\n",
       "           [ 0.,  0.,  0., ...,  0.,  1.,  1.],\n",
       "           [ 0.,  1.,  0., ...,  0.,  0.,  0.],\n",
       "           [ 0.,  1.,  0., ...,  0.,  0.,  0.]],\n",
       " \n",
       "          [[ 0.,  5.,  0., ...,  0.,  0.,  0.],\n",
       "           [ 0.,  0.,  5., ...,  0.,  0.,  0.],\n",
       "           [ 0.,  0.,  0., ...,  0.,  0.,  0.],\n",
       "           ...,\n",
       "           [ 0.,  0.,  0., ...,  0.,  3.,  0.],\n",
       "           [ 0., -3.,  0., ...,  0.,  0.,  0.],\n",
       "           [ 0.,  0.,  0., ...,  0.,  0.,  0.]]]],\n",
       " \n",
       " \n",
       " \n",
       "        [[[[ 0.,  1.,  0., ...,  0.,  0.,  0.],\n",
       "           [ 0.,  0.,  1., ...,  0.,  0.,  0.],\n",
       "           [ 0.,  0.,  0., ...,  0.,  0.,  0.],\n",
       "           ...,\n",
       "           [ 0.,  0.,  0., ...,  0.,  1.,  1.],\n",
       "           [ 0.,  1.,  0., ...,  0.,  0.,  0.],\n",
       "           [ 0.,  1.,  0., ...,  0.,  0.,  0.]],\n",
       " \n",
       "          [[ 0.,  5.,  0., ...,  0.,  0.,  0.],\n",
       "           [ 0.,  0.,  5., ...,  0.,  0.,  0.],\n",
       "           [ 0.,  0.,  0., ...,  0.,  0.,  0.],\n",
       "           ...,\n",
       "           [ 0.,  0.,  0., ...,  0.,  3.,  0.],\n",
       "           [ 0., -3.,  0., ...,  0.,  0.,  0.],\n",
       "           [ 0.,  0.,  0., ...,  0.,  0.,  0.]]],\n",
       " \n",
       " \n",
       "         [[[ 0.,  1.,  0., ...,  0.,  0.,  0.],\n",
       "           [ 0.,  0.,  1., ...,  0.,  0.,  0.],\n",
       "           [ 0.,  0.,  0., ...,  0.,  0.,  0.],\n",
       "           ...,\n",
       "           [ 0.,  0.,  0., ...,  0.,  1.,  1.],\n",
       "           [ 0.,  1.,  0., ...,  0.,  0.,  0.],\n",
       "           [ 0.,  1.,  0., ...,  0.,  0.,  0.]],\n",
       " \n",
       "          [[ 0.,  5.,  0., ...,  0.,  0.,  0.],\n",
       "           [ 0.,  0.,  5., ...,  0.,  0.,  0.],\n",
       "           [ 0.,  0.,  0., ...,  0.,  0.,  0.],\n",
       "           ...,\n",
       "           [ 0.,  0.,  0., ...,  0.,  3.,  0.],\n",
       "           [ 0., -3.,  0., ...,  0.,  0.,  0.],\n",
       "           [ 0.,  0.,  0., ...,  0.,  0.,  0.]]],\n",
       " \n",
       " \n",
       "         [[[ 0.,  1.,  0., ...,  0.,  0.,  0.],\n",
       "           [ 0.,  0.,  1., ...,  0.,  0.,  0.],\n",
       "           [ 0.,  0.,  0., ...,  0.,  0.,  0.],\n",
       "           ...,\n",
       "           [ 0.,  0.,  0., ...,  0.,  1.,  1.],\n",
       "           [ 0.,  1.,  0., ...,  0.,  0.,  0.],\n",
       "           [ 0.,  1.,  0., ...,  0.,  0.,  0.]],\n",
       " \n",
       "          [[ 0.,  5.,  0., ...,  0.,  0.,  0.],\n",
       "           [ 0.,  0.,  5., ...,  0.,  0.,  0.],\n",
       "           [ 0.,  0.,  0., ...,  0.,  0.,  0.],\n",
       "           ...,\n",
       "           [ 0.,  0.,  0., ...,  0.,  3.,  0.],\n",
       "           [ 0., -3.,  0., ...,  0.,  0.,  0.],\n",
       "           [ 0.,  0.,  0., ...,  0.,  0.,  0.]]],\n",
       " \n",
       " \n",
       "         [[[ 0.,  1.,  0., ...,  0.,  0.,  0.],\n",
       "           [ 0.,  0.,  1., ...,  0.,  0.,  0.],\n",
       "           [ 0.,  0.,  0., ...,  0.,  0.,  0.],\n",
       "           ...,\n",
       "           [ 0.,  0.,  0., ...,  0.,  1.,  1.],\n",
       "           [ 0.,  1.,  0., ...,  0.,  0.,  0.],\n",
       "           [ 0.,  1.,  0., ...,  0.,  0.,  0.]],\n",
       " \n",
       "          [[ 0.,  5.,  0., ...,  0.,  0.,  0.],\n",
       "           [ 0.,  0.,  5., ...,  0.,  0.,  0.],\n",
       "           [ 0.,  0.,  0., ...,  0.,  0.,  0.],\n",
       "           ...,\n",
       "           [ 0.,  0.,  0., ...,  0.,  3.,  0.],\n",
       "           [ 0., -3.,  0., ...,  0.,  0.,  0.],\n",
       "           [ 0.,  0.,  0., ...,  0.,  0.,  0.]]]],\n",
       " \n",
       " \n",
       " \n",
       "        [[[[ 0.,  1.,  0., ...,  0.,  0.,  0.],\n",
       "           [ 0.,  0.,  1., ...,  0.,  0.,  0.],\n",
       "           [ 0.,  0.,  0., ...,  0.,  0.,  0.],\n",
       "           ...,\n",
       "           [ 0.,  0.,  0., ...,  0.,  1.,  1.],\n",
       "           [ 0.,  1.,  0., ...,  0.,  0.,  0.],\n",
       "           [ 0.,  1.,  0., ...,  0.,  0.,  0.]],\n",
       " \n",
       "          [[ 0.,  5.,  0., ...,  0.,  0.,  0.],\n",
       "           [ 0.,  0.,  5., ...,  0.,  0.,  0.],\n",
       "           [ 0.,  0.,  0., ...,  0.,  0.,  0.],\n",
       "           ...,\n",
       "           [ 0.,  0.,  0., ...,  0.,  3.,  0.],\n",
       "           [ 0., -3.,  0., ...,  0.,  0.,  0.],\n",
       "           [ 0.,  0.,  0., ...,  0.,  0.,  0.]]],\n",
       " \n",
       " \n",
       "         [[[ 0.,  1.,  0., ...,  0.,  0.,  0.],\n",
       "           [ 0.,  0.,  1., ...,  0.,  0.,  0.],\n",
       "           [ 0.,  0.,  0., ...,  0.,  0.,  0.],\n",
       "           ...,\n",
       "           [ 0.,  0.,  0., ...,  0.,  1.,  1.],\n",
       "           [ 0.,  1.,  0., ...,  0.,  0.,  0.],\n",
       "           [ 0.,  1.,  0., ...,  0.,  0.,  0.]],\n",
       " \n",
       "          [[ 0.,  5.,  0., ...,  0.,  0.,  0.],\n",
       "           [ 0.,  0.,  5., ...,  0.,  0.,  0.],\n",
       "           [ 0.,  0.,  0., ...,  0.,  0.,  0.],\n",
       "           ...,\n",
       "           [ 0.,  0.,  0., ...,  0.,  3.,  0.],\n",
       "           [ 0., -3.,  0., ...,  0.,  0.,  0.],\n",
       "           [ 0.,  0.,  0., ...,  0.,  0.,  0.]]],\n",
       " \n",
       " \n",
       "         [[[ 0.,  1.,  0., ...,  0.,  0.,  0.],\n",
       "           [ 0.,  0.,  1., ...,  0.,  0.,  0.],\n",
       "           [ 0.,  0.,  0., ...,  0.,  0.,  0.],\n",
       "           ...,\n",
       "           [ 0.,  0.,  0., ...,  0.,  1.,  1.],\n",
       "           [ 0.,  1.,  0., ...,  0.,  0.,  0.],\n",
       "           [ 0.,  1.,  0., ...,  0.,  0.,  0.]],\n",
       " \n",
       "          [[ 0.,  5.,  0., ...,  0.,  0.,  0.],\n",
       "           [ 0.,  0.,  5., ...,  0.,  0.,  0.],\n",
       "           [ 0.,  0.,  0., ...,  0.,  0.,  0.],\n",
       "           ...,\n",
       "           [ 0.,  0.,  0., ...,  0.,  3.,  0.],\n",
       "           [ 0., -3.,  0., ...,  0.,  0.,  0.],\n",
       "           [ 0.,  0.,  0., ...,  0.,  0.,  0.]]],\n",
       " \n",
       " \n",
       "         [[[ 0.,  1.,  0., ...,  0.,  0.,  0.],\n",
       "           [ 0.,  0.,  1., ...,  0.,  0.,  0.],\n",
       "           [ 0.,  0.,  0., ...,  0.,  0.,  0.],\n",
       "           ...,\n",
       "           [ 0.,  0.,  0., ...,  0.,  1.,  1.],\n",
       "           [ 0.,  1.,  0., ...,  0.,  0.,  0.],\n",
       "           [ 0.,  1.,  0., ...,  0.,  0.,  0.]],\n",
       " \n",
       "          [[ 0.,  5.,  0., ...,  0.,  0.,  0.],\n",
       "           [ 0.,  0.,  5., ...,  0.,  0.,  0.],\n",
       "           [ 0.,  0.,  0., ...,  0.,  0.,  0.],\n",
       "           ...,\n",
       "           [ 0.,  0.,  0., ...,  0.,  3.,  0.],\n",
       "           [ 0., -3.,  0., ...,  0.,  0.,  0.],\n",
       "           [ 0.,  0.,  0., ...,  0.,  0.,  0.]]]]], dtype=float32)>}),\n",
       "  'policy_info': (),\n",
       "  'reward': <tf.Tensor: shape=(8, 4), dtype=float32, numpy=\n",
       " array([[-20., -20., -20., -20.],\n",
       "        [-20., -20., -20., -20.],\n",
       "        [-20., -20., -20., -20.],\n",
       "        [-20., -20., -20., -20.],\n",
       "        [-20., -20., -20., -20.],\n",
       "        [-20., -20., -20., -20.],\n",
       "        [-20., -20., -20., -20.],\n",
       "        [-20., -20., -20., -20.]], dtype=float32)>,\n",
       "  'step_type': <tf.Tensor: shape=(8, 4), dtype=int32, numpy=\n",
       " array([[1, 1, 1, 1],\n",
       "        [1, 1, 1, 1],\n",
       "        [1, 1, 1, 1],\n",
       "        [1, 1, 1, 1],\n",
       "        [1, 1, 1, 1],\n",
       "        [1, 1, 1, 1],\n",
       "        [1, 1, 1, 1],\n",
       "        [1, 1, 1, 1]], dtype=int32)>}),\n",
       " BufferInfo(ids=<tf.Tensor: shape=(8, 4), dtype=int64, numpy=\n",
       " array([[938, 939, 940, 941],\n",
       "        [932, 933, 934, 935],\n",
       "        [937, 938, 939, 940],\n",
       "        [938, 939, 940, 941],\n",
       "        [938, 939, 940, 941],\n",
       "        [935, 936, 937, 938],\n",
       "        [940, 941, 942, 943],\n",
       "        [937, 938, 939, 940]])>, probabilities=<tf.Tensor: shape=(8,), dtype=float32, numpy=\n",
       " array([0.05882353, 0.05882353, 0.05882353, 0.05882353, 0.05882353,\n",
       "        0.05882353, 0.05882353, 0.05882353], dtype=float32)>))"
      ]
     },
     "execution_count": 59,
     "metadata": {},
     "output_type": "execute_result"
    }
   ],
   "source": [
    "dataset = buffer.as_dataset(\n",
    "    num_parallel_calls=8,\n",
    "    sample_batch_size=8,\n",
    "    num_steps=4).prefetch(3)\n",
    "driver.run(train_env.reset())\n",
    "batch=next(iter(dataset))\n",
    "batch"
   ]
  },
  {
   "cell_type": "code",
   "execution_count": 88,
   "id": "530acb8c-b506-47e8-937c-c2556e0f4b7c",
   "metadata": {},
   "outputs": [
    {
     "name": "stdout",
     "output_type": "stream",
     "text": [
      "tf.Tensor(1, shape=(), dtype=int32)\n",
      "tf.Tensor(\n",
      "[[[0 1]]\n",
      "\n",
      " [[0 1]]\n",
      "\n",
      " [[0 1]]\n",
      "\n",
      " [[0 1]]\n",
      "\n",
      " [[0 1]]\n",
      "\n",
      " [[0 1]]\n",
      "\n",
      " [[0 1]]\n",
      "\n",
      " [[0 1]]], shape=(8, 1, 2), dtype=int32)\n"
     ]
    },
    {
     "data": {
      "text/plain": [
       "({'state': <tf.Tensor: shape=(8, 1), dtype=int32, numpy=\n",
       "  array([[1],\n",
       "         [1],\n",
       "         [1],\n",
       "         [1],\n",
       "         [1],\n",
       "         [1],\n",
       "         [1],\n",
       "         [1]], dtype=int32)>,\n",
       "  'environment': <tf.Tensor: shape=(8, 1, 2, 8, 8), dtype=float32, numpy=\n",
       "  array([[[[[ 0.,  1.,  0., ...,  0.,  0.,  0.],\n",
       "            [ 0.,  0.,  1., ...,  0.,  0.,  0.],\n",
       "            [ 0.,  0.,  0., ...,  0.,  0.,  0.],\n",
       "            ...,\n",
       "            [ 0.,  0.,  0., ...,  0.,  1.,  1.],\n",
       "            [ 0.,  1.,  0., ...,  0.,  0.,  0.],\n",
       "            [ 0.,  1.,  0., ...,  0.,  0.,  0.]],\n",
       "  \n",
       "           [[ 0.,  5.,  0., ...,  0.,  0.,  0.],\n",
       "            [ 0.,  0.,  5., ...,  0.,  0.,  0.],\n",
       "            [ 0.,  0.,  0., ...,  0.,  0.,  0.],\n",
       "            ...,\n",
       "            [ 0.,  0.,  0., ...,  0.,  3.,  0.],\n",
       "            [ 0., -3.,  0., ...,  0.,  0.,  0.],\n",
       "            [ 0.,  0.,  0., ...,  0.,  0.,  0.]]]],\n",
       "  \n",
       "  \n",
       "  \n",
       "         [[[[ 0.,  1.,  0., ...,  0.,  0.,  0.],\n",
       "            [ 0.,  0.,  1., ...,  0.,  0.,  0.],\n",
       "            [ 0.,  0.,  0., ...,  0.,  0.,  0.],\n",
       "            ...,\n",
       "            [ 0.,  0.,  0., ...,  0.,  1.,  1.],\n",
       "            [ 0.,  1.,  0., ...,  0.,  0.,  0.],\n",
       "            [ 0.,  1.,  0., ...,  0.,  0.,  0.]],\n",
       "  \n",
       "           [[ 0.,  5.,  0., ...,  0.,  0.,  0.],\n",
       "            [ 0.,  0.,  5., ...,  0.,  0.,  0.],\n",
       "            [ 0.,  0.,  0., ...,  0.,  0.,  0.],\n",
       "            ...,\n",
       "            [ 0.,  0.,  0., ...,  0.,  3.,  0.],\n",
       "            [ 0., -3.,  0., ...,  0.,  0.,  0.],\n",
       "            [ 0.,  0.,  0., ...,  0.,  0.,  0.]]]],\n",
       "  \n",
       "  \n",
       "  \n",
       "         [[[[ 0.,  1.,  0., ...,  0.,  0.,  0.],\n",
       "            [ 0.,  0.,  1., ...,  0.,  0.,  0.],\n",
       "            [ 0.,  0.,  0., ...,  0.,  0.,  0.],\n",
       "            ...,\n",
       "            [ 0.,  0.,  0., ...,  0.,  1.,  1.],\n",
       "            [ 0.,  1.,  0., ...,  0.,  0.,  0.],\n",
       "            [ 0.,  1.,  0., ...,  0.,  0.,  0.]],\n",
       "  \n",
       "           [[ 0.,  5.,  0., ...,  0.,  0.,  0.],\n",
       "            [ 0.,  0.,  5., ...,  0.,  0.,  0.],\n",
       "            [ 0.,  0.,  0., ...,  0.,  0.,  0.],\n",
       "            ...,\n",
       "            [ 0.,  0.,  0., ...,  0.,  3.,  0.],\n",
       "            [ 0., -3.,  0., ...,  0.,  0.,  0.],\n",
       "            [ 0.,  0.,  0., ...,  0.,  0.,  0.]]]],\n",
       "  \n",
       "  \n",
       "  \n",
       "         ...,\n",
       "  \n",
       "  \n",
       "  \n",
       "         [[[[ 0.,  1.,  0., ...,  0.,  0.,  0.],\n",
       "            [ 0.,  0.,  1., ...,  0.,  0.,  0.],\n",
       "            [ 0.,  0.,  0., ...,  0.,  0.,  0.],\n",
       "            ...,\n",
       "            [ 0.,  0.,  0., ...,  0.,  1.,  1.],\n",
       "            [ 0.,  1.,  0., ...,  0.,  0.,  0.],\n",
       "            [ 0.,  1.,  0., ...,  0.,  0.,  0.]],\n",
       "  \n",
       "           [[ 0.,  5.,  0., ...,  0.,  0.,  0.],\n",
       "            [ 0.,  0.,  5., ...,  0.,  0.,  0.],\n",
       "            [ 0.,  0.,  0., ...,  0.,  0.,  0.],\n",
       "            ...,\n",
       "            [ 0.,  0.,  0., ...,  0.,  3.,  0.],\n",
       "            [ 0., -3.,  0., ...,  0.,  0.,  0.],\n",
       "            [ 0.,  0.,  0., ...,  0.,  0.,  0.]]]],\n",
       "  \n",
       "  \n",
       "  \n",
       "         [[[[ 0.,  1.,  0., ...,  0.,  0.,  0.],\n",
       "            [ 0.,  0.,  1., ...,  0.,  0.,  0.],\n",
       "            [ 0.,  0.,  0., ...,  0.,  0.,  0.],\n",
       "            ...,\n",
       "            [ 0.,  0.,  0., ...,  0.,  1.,  1.],\n",
       "            [ 0.,  1.,  0., ...,  0.,  0.,  0.],\n",
       "            [ 0.,  1.,  0., ...,  0.,  0.,  0.]],\n",
       "  \n",
       "           [[ 0.,  5.,  0., ...,  0.,  0.,  0.],\n",
       "            [ 0.,  0.,  5., ...,  0.,  0.,  0.],\n",
       "            [ 0.,  0.,  0., ...,  0.,  0.,  0.],\n",
       "            ...,\n",
       "            [ 0.,  0.,  0., ...,  0.,  3.,  0.],\n",
       "            [ 0., -3.,  0., ...,  0.,  0.,  0.],\n",
       "            [ 0.,  0.,  0., ...,  0.,  0.,  0.]]]],\n",
       "  \n",
       "  \n",
       "  \n",
       "         [[[[ 0.,  1.,  0., ...,  0.,  0.,  0.],\n",
       "            [ 0.,  0.,  1., ...,  0.,  0.,  0.],\n",
       "            [ 0.,  0.,  0., ...,  0.,  0.,  0.],\n",
       "            ...,\n",
       "            [ 0.,  0.,  0., ...,  0.,  1.,  1.],\n",
       "            [ 0.,  1.,  0., ...,  0.,  0.,  0.],\n",
       "            [ 0.,  1.,  0., ...,  0.,  0.,  0.]],\n",
       "  \n",
       "           [[ 0.,  5.,  0., ...,  0.,  0.,  0.],\n",
       "            [ 0.,  0.,  5., ...,  0.,  0.,  0.],\n",
       "            [ 0.,  0.,  0., ...,  0.,  0.,  0.],\n",
       "            ...,\n",
       "            [ 0.,  0.,  0., ...,  0.,  3.,  0.],\n",
       "            [ 0., -3.,  0., ...,  0.,  0.,  0.],\n",
       "            [ 0.,  0.,  0., ...,  0.,  0.,  0.]]]]], dtype=float32)>},\n",
       " <tf.Tensor: shape=(8, 1, 8, 8), dtype=float32, numpy=\n",
       " array([[[[ 0.,  5.,  0.,  0.,  0.,  0.,  0.,  0.],\n",
       "          [ 0.,  0.,  5.,  0.,  4.,  0.,  0.,  0.],\n",
       "          [ 0.,  0.,  0., -7.,  0.,  0.,  0.,  0.],\n",
       "          [ 0.,  0.,  0.,  0.,  0.,  0.,  5.,  0.],\n",
       "          [ 0.,  0.,  0.,  0.,  0., -3.,  0.,  0.],\n",
       "          [ 0.,  0.,  0.,  0.,  0.,  0.,  3.,  0.],\n",
       "          [ 0., -3.,  0.,  0.,  0.,  0.,  0.,  0.],\n",
       "          [ 0.,  0.,  0.,  0.,  0.,  0.,  0.,  0.]]],\n",
       " \n",
       " \n",
       "        [[[ 0.,  5.,  0.,  0.,  0.,  0.,  0.,  0.],\n",
       "          [ 0.,  0.,  5.,  0.,  4.,  0.,  0.,  0.],\n",
       "          [ 0.,  0.,  0., -7.,  0.,  0.,  0.,  0.],\n",
       "          [ 0.,  0.,  0.,  0.,  0.,  0.,  5.,  0.],\n",
       "          [ 0.,  0.,  0.,  0.,  0., -3.,  0.,  0.],\n",
       "          [ 0.,  0.,  0.,  0.,  0.,  0.,  3.,  0.],\n",
       "          [ 0., -3.,  0.,  0.,  0.,  0.,  0.,  0.],\n",
       "          [ 0.,  0.,  0.,  0.,  0.,  0.,  0.,  0.]]],\n",
       " \n",
       " \n",
       "        [[[ 0.,  5.,  0.,  0.,  0.,  0.,  0.,  0.],\n",
       "          [ 0.,  0.,  5.,  0.,  4.,  0.,  0.,  0.],\n",
       "          [ 0.,  0.,  0., -7.,  0.,  0.,  0.,  0.],\n",
       "          [ 0.,  0.,  0.,  0.,  0.,  0.,  5.,  0.],\n",
       "          [ 0.,  0.,  0.,  0.,  0., -3.,  0.,  0.],\n",
       "          [ 0.,  0.,  0.,  0.,  0.,  0.,  3.,  0.],\n",
       "          [ 0., -3.,  0.,  0.,  0.,  0.,  0.,  0.],\n",
       "          [ 0.,  0.,  0.,  0.,  0.,  0.,  0.,  0.]]],\n",
       " \n",
       " \n",
       "        [[[ 0.,  5.,  0.,  0.,  0.,  0.,  0.,  0.],\n",
       "          [ 0.,  0.,  5.,  0.,  4.,  0.,  0.,  0.],\n",
       "          [ 0.,  0.,  0., -7.,  0.,  0.,  0.,  0.],\n",
       "          [ 0.,  0.,  0.,  0.,  0.,  0.,  5.,  0.],\n",
       "          [ 0.,  0.,  0.,  0.,  0., -3.,  0.,  0.],\n",
       "          [ 0.,  0.,  0.,  0.,  0.,  0.,  3.,  0.],\n",
       "          [ 0., -3.,  0.,  0.,  0.,  0.,  0.,  0.],\n",
       "          [ 0.,  0.,  0.,  0.,  0.,  0.,  0.,  0.]]],\n",
       " \n",
       " \n",
       "        [[[ 0.,  5.,  0.,  0.,  0.,  0.,  0.,  0.],\n",
       "          [ 0.,  0.,  5.,  0.,  4.,  0.,  0.,  0.],\n",
       "          [ 0.,  0.,  0., -7.,  0.,  0.,  0.,  0.],\n",
       "          [ 0.,  0.,  0.,  0.,  0.,  0.,  5.,  0.],\n",
       "          [ 0.,  0.,  0.,  0.,  0., -3.,  0.,  0.],\n",
       "          [ 0.,  0.,  0.,  0.,  0.,  0.,  3.,  0.],\n",
       "          [ 0., -3.,  0.,  0.,  0.,  0.,  0.,  0.],\n",
       "          [ 0.,  0.,  0.,  0.,  0.,  0.,  0.,  0.]]],\n",
       " \n",
       " \n",
       "        [[[ 0.,  5.,  0.,  0.,  0.,  0.,  0.,  0.],\n",
       "          [ 0.,  0.,  5.,  0.,  4.,  0.,  0.,  0.],\n",
       "          [ 0.,  0.,  0., -7.,  0.,  0.,  0.,  0.],\n",
       "          [ 0.,  0.,  0.,  0.,  0.,  0.,  5.,  0.],\n",
       "          [ 0.,  0.,  0.,  0.,  0., -3.,  0.,  0.],\n",
       "          [ 0.,  0.,  0.,  0.,  0.,  0.,  3.,  0.],\n",
       "          [ 0., -3.,  0.,  0.,  0.,  0.,  0.,  0.],\n",
       "          [ 0.,  0.,  0.,  0.,  0.,  0.,  0.,  0.]]],\n",
       " \n",
       " \n",
       "        [[[ 0.,  5.,  0.,  0.,  0.,  0.,  0.,  0.],\n",
       "          [ 0.,  0.,  5.,  0.,  4.,  0.,  0.,  0.],\n",
       "          [ 0.,  0.,  0., -7.,  0.,  0.,  0.,  0.],\n",
       "          [ 0.,  0.,  0.,  0.,  0.,  0.,  5.,  0.],\n",
       "          [ 0.,  0.,  0.,  0.,  0., -3.,  0.,  0.],\n",
       "          [ 0.,  0.,  0.,  0.,  0.,  0.,  3.,  0.],\n",
       "          [ 0., -3.,  0.,  0.,  0.,  0.,  0.,  0.],\n",
       "          [ 0.,  0.,  0.,  0.,  0.,  0.,  0.,  0.]]],\n",
       " \n",
       " \n",
       "        [[[ 0.,  5.,  0.,  0.,  0.,  0.,  0.,  0.],\n",
       "          [ 0.,  0.,  5.,  0.,  4.,  0.,  0.,  0.],\n",
       "          [ 0.,  0.,  0., -7.,  0.,  0.,  0.,  0.],\n",
       "          [ 0.,  0.,  0.,  0.,  0.,  0.,  5.,  0.],\n",
       "          [ 0.,  0.,  0.,  0.,  0., -3.,  0.,  0.],\n",
       "          [ 0.,  0.,  0.,  0.,  0.,  0.,  3.,  0.],\n",
       "          [ 0., -3.,  0.,  0.,  0.,  0.,  0.,  0.],\n",
       "          [ 0.,  0.,  0.,  0.,  0.,  0.,  0.,  0.]]]], dtype=float32)>)"
      ]
     },
     "execution_count": 88,
     "metadata": {},
     "output_type": "execute_result"
    }
   ],
   "source": [
    "importlib.reload(rl_utils)\n",
    "batch=next(iter(dataset))\n",
    "splitter=rl_utils.MPGActionConstraintSplitter()\n",
    "splitter.built=True\n",
    "E={key:batch[0].observation[key][:,0:1] for key in batch[0].observation}\n",
    "splitter(E)"
   ]
  },
  {
   "cell_type": "code",
   "execution_count": 87,
   "id": "f3aff162-250b-4ce3-abfc-49a70002aec2",
   "metadata": {
    "ExecuteTime": {
     "end_time": "2023-05-15T14:30:39.690057Z",
     "start_time": "2023-05-15T14:29:41.622731Z"
    },
    "tags": []
   },
   "outputs": [
    {
     "ename": "KeyboardInterrupt",
     "evalue": "",
     "output_type": "error",
     "traceback": [
      "\u001B[0;31m---------------------------------------------------------------------------\u001B[0m",
      "\u001B[0;31mKeyboardInterrupt\u001B[0m                         Traceback (most recent call last)",
      "\u001B[0;32m/tmp/ipykernel_14851/3935891778.py\u001B[0m in \u001B[0;36m?\u001B[0;34m()\u001B[0m\n\u001B[1;32m      3\u001B[0m \u001B[0mtime_step\u001B[0m\u001B[0;34m=\u001B[0m\u001B[0mtrain_env\u001B[0m\u001B[0;34m.\u001B[0m\u001B[0mreset\u001B[0m\u001B[0;34m(\u001B[0m\u001B[0;34m)\u001B[0m\u001B[0;34m\u001B[0m\u001B[0;34m\u001B[0m\u001B[0m\n\u001B[1;32m      4\u001B[0m \u001B[0mlog_interval\u001B[0m\u001B[0;34m=\u001B[0m\u001B[0;36m1\u001B[0m\u001B[0;34m\u001B[0m\u001B[0;34m\u001B[0m\u001B[0m\n\u001B[1;32m      5\u001B[0m \u001B[0meval_interval\u001B[0m\u001B[0;34m=\u001B[0m\u001B[0;36m1\u001B[0m\u001B[0;34m\u001B[0m\u001B[0;34m\u001B[0m\u001B[0m\n\u001B[1;32m      6\u001B[0m \u001B[0;32mfor\u001B[0m \u001B[0mk\u001B[0m \u001B[0;32min\u001B[0m \u001B[0mrange\u001B[0m\u001B[0;34m(\u001B[0m\u001B[0miterations\u001B[0m\u001B[0;34m)\u001B[0m\u001B[0;34m:\u001B[0m\u001B[0;34m\u001B[0m\u001B[0;34m\u001B[0m\u001B[0m\n\u001B[0;32m----> 7\u001B[0;31m     \u001B[0mtime_step\u001B[0m\u001B[0;34m,\u001B[0m \u001B[0m_\u001B[0m \u001B[0;34m=\u001B[0m \u001B[0mdriver\u001B[0m\u001B[0;34m.\u001B[0m\u001B[0mrun\u001B[0m\u001B[0;34m(\u001B[0m\u001B[0mtime_step\u001B[0m\u001B[0;34m)\u001B[0m\u001B[0;34m\u001B[0m\u001B[0;34m\u001B[0m\u001B[0m\n\u001B[0m\u001B[1;32m      8\u001B[0m \u001B[0;34m\u001B[0m\u001B[0m\n\u001B[1;32m      9\u001B[0m   \u001B[0;31m# Sample a batch of data from the buffer and update the agent's network. w\u001B[0m\u001B[0;34m\u001B[0m\u001B[0;34m\u001B[0m\u001B[0m\n\u001B[1;32m     10\u001B[0m     \u001B[0mexperience\u001B[0m\u001B[0;34m,\u001B[0m \u001B[0munused_info\u001B[0m \u001B[0;34m=\u001B[0m \u001B[0mnext\u001B[0m\u001B[0;34m(\u001B[0m\u001B[0miterator\u001B[0m\u001B[0;34m)\u001B[0m\u001B[0;34m\u001B[0m\u001B[0;34m\u001B[0m\u001B[0m\n",
      "\u001B[0;32m~/anaconda3/envs/stochastic_games/lib/python3.10/site-packages/tf_agents/drivers/py_driver.py\u001B[0m in \u001B[0;36m?\u001B[0;34m(self, time_step, policy_state)\u001B[0m\n\u001B[1;32m    110\u001B[0m       \u001B[0;31m# For now we reset the policy_state for non batched envs.\u001B[0m\u001B[0;34m\u001B[0m\u001B[0;34m\u001B[0m\u001B[0m\n\u001B[1;32m    111\u001B[0m       \u001B[0;32mif\u001B[0m \u001B[0;32mnot\u001B[0m \u001B[0mself\u001B[0m\u001B[0;34m.\u001B[0m\u001B[0menv\u001B[0m\u001B[0;34m.\u001B[0m\u001B[0mbatched\u001B[0m \u001B[0;32mand\u001B[0m \u001B[0mtime_step\u001B[0m\u001B[0;34m.\u001B[0m\u001B[0mis_first\u001B[0m\u001B[0;34m(\u001B[0m\u001B[0;34m)\u001B[0m \u001B[0;32mand\u001B[0m \u001B[0mnum_episodes\u001B[0m \u001B[0;34m>\u001B[0m \u001B[0;36m0\u001B[0m\u001B[0;34m:\u001B[0m\u001B[0;34m\u001B[0m\u001B[0;34m\u001B[0m\u001B[0m\n\u001B[1;32m    112\u001B[0m         \u001B[0mpolicy_state\u001B[0m \u001B[0;34m=\u001B[0m \u001B[0mself\u001B[0m\u001B[0;34m.\u001B[0m\u001B[0m_policy\u001B[0m\u001B[0;34m.\u001B[0m\u001B[0mget_initial_state\u001B[0m\u001B[0;34m(\u001B[0m\u001B[0mself\u001B[0m\u001B[0;34m.\u001B[0m\u001B[0menv\u001B[0m\u001B[0;34m.\u001B[0m\u001B[0mbatch_size\u001B[0m \u001B[0;32mor\u001B[0m \u001B[0;36m1\u001B[0m\u001B[0;34m)\u001B[0m\u001B[0;34m\u001B[0m\u001B[0;34m\u001B[0m\u001B[0m\n\u001B[1;32m    113\u001B[0m \u001B[0;34m\u001B[0m\u001B[0m\n\u001B[0;32m--> 114\u001B[0;31m       \u001B[0maction_step\u001B[0m \u001B[0;34m=\u001B[0m \u001B[0mself\u001B[0m\u001B[0;34m.\u001B[0m\u001B[0mpolicy\u001B[0m\u001B[0;34m.\u001B[0m\u001B[0maction\u001B[0m\u001B[0;34m(\u001B[0m\u001B[0mtime_step\u001B[0m\u001B[0;34m,\u001B[0m \u001B[0mpolicy_state\u001B[0m\u001B[0;34m)\u001B[0m\u001B[0;34m\u001B[0m\u001B[0;34m\u001B[0m\u001B[0m\n\u001B[0m\u001B[1;32m    115\u001B[0m       \u001B[0mnext_time_step\u001B[0m \u001B[0;34m=\u001B[0m \u001B[0mself\u001B[0m\u001B[0;34m.\u001B[0m\u001B[0menv\u001B[0m\u001B[0;34m.\u001B[0m\u001B[0mstep\u001B[0m\u001B[0;34m(\u001B[0m\u001B[0maction_step\u001B[0m\u001B[0;34m.\u001B[0m\u001B[0maction\u001B[0m\u001B[0;34m)\u001B[0m\u001B[0;34m\u001B[0m\u001B[0;34m\u001B[0m\u001B[0m\n\u001B[1;32m    116\u001B[0m \u001B[0;34m\u001B[0m\u001B[0m\n\u001B[1;32m    117\u001B[0m       \u001B[0;31m# When using observer (for the purpose of training), only the previous\u001B[0m\u001B[0;34m\u001B[0m\u001B[0;34m\u001B[0m\u001B[0m\n",
      "\u001B[0;32m~/anaconda3/envs/stochastic_games/lib/python3.10/site-packages/tf_agents/policies/tf_policy.py\u001B[0m in \u001B[0;36m?\u001B[0;34m(self, time_step, policy_state, seed)\u001B[0m\n\u001B[1;32m    320\u001B[0m                      'structures do not match'))\n\u001B[1;32m    321\u001B[0m \u001B[0;34m\u001B[0m\u001B[0m\n\u001B[1;32m    322\u001B[0m     \u001B[0;32mif\u001B[0m \u001B[0mself\u001B[0m\u001B[0;34m.\u001B[0m\u001B[0m_automatic_state_reset\u001B[0m\u001B[0;34m:\u001B[0m\u001B[0;34m\u001B[0m\u001B[0;34m\u001B[0m\u001B[0m\n\u001B[1;32m    323\u001B[0m       \u001B[0mpolicy_state\u001B[0m \u001B[0;34m=\u001B[0m \u001B[0mself\u001B[0m\u001B[0;34m.\u001B[0m\u001B[0m_maybe_reset_state\u001B[0m\u001B[0;34m(\u001B[0m\u001B[0mtime_step\u001B[0m\u001B[0;34m,\u001B[0m \u001B[0mpolicy_state\u001B[0m\u001B[0;34m)\u001B[0m\u001B[0;34m\u001B[0m\u001B[0;34m\u001B[0m\u001B[0m\n\u001B[0;32m--> 324\u001B[0;31m     \u001B[0mstep\u001B[0m \u001B[0;34m=\u001B[0m \u001B[0maction_fn\u001B[0m\u001B[0;34m(\u001B[0m\u001B[0mtime_step\u001B[0m\u001B[0;34m=\u001B[0m\u001B[0mtime_step\u001B[0m\u001B[0;34m,\u001B[0m \u001B[0mpolicy_state\u001B[0m\u001B[0;34m=\u001B[0m\u001B[0mpolicy_state\u001B[0m\u001B[0;34m,\u001B[0m \u001B[0mseed\u001B[0m\u001B[0;34m=\u001B[0m\u001B[0mseed\u001B[0m\u001B[0;34m)\u001B[0m\u001B[0;34m\u001B[0m\u001B[0;34m\u001B[0m\u001B[0m\n\u001B[0m\u001B[1;32m    325\u001B[0m \u001B[0;34m\u001B[0m\u001B[0m\n\u001B[1;32m    326\u001B[0m     \u001B[0;32mdef\u001B[0m \u001B[0mclip_action\u001B[0m\u001B[0;34m(\u001B[0m\u001B[0maction\u001B[0m\u001B[0;34m,\u001B[0m \u001B[0maction_spec\u001B[0m\u001B[0;34m)\u001B[0m\u001B[0;34m:\u001B[0m\u001B[0;34m\u001B[0m\u001B[0;34m\u001B[0m\u001B[0m\n\u001B[1;32m    327\u001B[0m       \u001B[0;32mif\u001B[0m \u001B[0misinstance\u001B[0m\u001B[0;34m(\u001B[0m\u001B[0maction_spec\u001B[0m\u001B[0;34m,\u001B[0m \u001B[0mtensor_spec\u001B[0m\u001B[0;34m.\u001B[0m\u001B[0mBoundedTensorSpec\u001B[0m\u001B[0;34m)\u001B[0m\u001B[0;34m:\u001B[0m\u001B[0;34m\u001B[0m\u001B[0;34m\u001B[0m\u001B[0m\n",
      "\u001B[0;32m~/anaconda3/envs/stochastic_games/lib/python3.10/site-packages/tf_agents/utils/common.py\u001B[0m in \u001B[0;36m?\u001B[0;34m(*fn_args, **fn_kwargs)\u001B[0m\n\u001B[1;32m    184\u001B[0m       \u001B[0mcheck_tf1_allowed\u001B[0m\u001B[0;34m(\u001B[0m\u001B[0;34m)\u001B[0m\u001B[0;34m\u001B[0m\u001B[0;34m\u001B[0m\u001B[0m\n\u001B[1;32m    185\u001B[0m       \u001B[0;32mif\u001B[0m \u001B[0mhas_eager_been_enabled\u001B[0m\u001B[0;34m(\u001B[0m\u001B[0;34m)\u001B[0m\u001B[0;34m:\u001B[0m\u001B[0;34m\u001B[0m\u001B[0;34m\u001B[0m\u001B[0m\n\u001B[1;32m    186\u001B[0m         \u001B[0;31m# We're either in eager mode or in tf.function mode (no in-between); so\u001B[0m\u001B[0;34m\u001B[0m\u001B[0;34m\u001B[0m\u001B[0m\n\u001B[1;32m    187\u001B[0m         \u001B[0;31m# autodep-like behavior is already expected of fn.\u001B[0m\u001B[0;34m\u001B[0m\u001B[0;34m\u001B[0m\u001B[0m\n\u001B[0;32m--> 188\u001B[0;31m         \u001B[0;32mreturn\u001B[0m \u001B[0mfn\u001B[0m\u001B[0;34m(\u001B[0m\u001B[0;34m*\u001B[0m\u001B[0mfn_args\u001B[0m\u001B[0;34m,\u001B[0m \u001B[0;34m**\u001B[0m\u001B[0mfn_kwargs\u001B[0m\u001B[0;34m)\u001B[0m\u001B[0;34m\u001B[0m\u001B[0;34m\u001B[0m\u001B[0m\n\u001B[0m\u001B[1;32m    189\u001B[0m       \u001B[0;32mif\u001B[0m \u001B[0;32mnot\u001B[0m \u001B[0mresource_variables_enabled\u001B[0m\u001B[0;34m(\u001B[0m\u001B[0;34m)\u001B[0m\u001B[0;34m:\u001B[0m\u001B[0;34m\u001B[0m\u001B[0;34m\u001B[0m\u001B[0m\n\u001B[1;32m    190\u001B[0m         \u001B[0;32mraise\u001B[0m \u001B[0mRuntimeError\u001B[0m\u001B[0;34m(\u001B[0m\u001B[0mMISSING_RESOURCE_VARIABLES_ERROR\u001B[0m\u001B[0;34m)\u001B[0m\u001B[0;34m\u001B[0m\u001B[0;34m\u001B[0m\u001B[0m\n\u001B[1;32m    191\u001B[0m       \u001B[0;32mif\u001B[0m \u001B[0mwrapped\u001B[0m\u001B[0;34m[\u001B[0m\u001B[0;36m0\u001B[0m\u001B[0;34m]\u001B[0m \u001B[0;32mis\u001B[0m \u001B[0;32mNone\u001B[0m\u001B[0;34m:\u001B[0m\u001B[0;34m\u001B[0m\u001B[0;34m\u001B[0m\u001B[0m\n",
      "\u001B[0;32m~/anaconda3/envs/stochastic_games/lib/python3.10/site-packages/tf_agents/policies/epsilon_greedy_policy.py\u001B[0m in \u001B[0;36m?\u001B[0;34m(self, time_step, policy_state, seed)\u001B[0m\n\u001B[1;32m    113\u001B[0m   \u001B[0;32mdef\u001B[0m \u001B[0m_action\u001B[0m\u001B[0;34m(\u001B[0m\u001B[0mself\u001B[0m\u001B[0;34m,\u001B[0m \u001B[0mtime_step\u001B[0m\u001B[0;34m,\u001B[0m \u001B[0mpolicy_state\u001B[0m\u001B[0;34m,\u001B[0m \u001B[0mseed\u001B[0m\u001B[0;34m)\u001B[0m\u001B[0;34m:\u001B[0m\u001B[0;34m\u001B[0m\u001B[0;34m\u001B[0m\u001B[0m\n\u001B[1;32m    114\u001B[0m     \u001B[0mseed_stream\u001B[0m \u001B[0;34m=\u001B[0m \u001B[0mtfp\u001B[0m\u001B[0;34m.\u001B[0m\u001B[0mutil\u001B[0m\u001B[0;34m.\u001B[0m\u001B[0mSeedStream\u001B[0m\u001B[0;34m(\u001B[0m\u001B[0mseed\u001B[0m\u001B[0;34m=\u001B[0m\u001B[0mseed\u001B[0m\u001B[0;34m,\u001B[0m \u001B[0msalt\u001B[0m\u001B[0;34m=\u001B[0m\u001B[0;34m'epsilon_greedy'\u001B[0m\u001B[0;34m)\u001B[0m\u001B[0;34m\u001B[0m\u001B[0;34m\u001B[0m\u001B[0m\n\u001B[0;32m--> 115\u001B[0;31m     \u001B[0mgreedy_action\u001B[0m \u001B[0;34m=\u001B[0m \u001B[0mself\u001B[0m\u001B[0;34m.\u001B[0m\u001B[0m_greedy_policy\u001B[0m\u001B[0;34m.\u001B[0m\u001B[0maction\u001B[0m\u001B[0;34m(\u001B[0m\u001B[0mtime_step\u001B[0m\u001B[0;34m,\u001B[0m \u001B[0mpolicy_state\u001B[0m\u001B[0;34m)\u001B[0m\u001B[0;34m\u001B[0m\u001B[0;34m\u001B[0m\u001B[0m\n\u001B[0m\u001B[1;32m    116\u001B[0m     \u001B[0mrandom_action\u001B[0m \u001B[0;34m=\u001B[0m \u001B[0mself\u001B[0m\u001B[0;34m.\u001B[0m\u001B[0m_random_policy\u001B[0m\u001B[0;34m.\u001B[0m\u001B[0maction\u001B[0m\u001B[0;34m(\u001B[0m\u001B[0mtime_step\u001B[0m\u001B[0;34m,\u001B[0m \u001B[0;34m(\u001B[0m\u001B[0;34m)\u001B[0m\u001B[0;34m,\u001B[0m \u001B[0mseed_stream\u001B[0m\u001B[0;34m(\u001B[0m\u001B[0;34m)\u001B[0m\u001B[0;34m)\u001B[0m\u001B[0;34m\u001B[0m\u001B[0;34m\u001B[0m\u001B[0m\n\u001B[1;32m    117\u001B[0m \u001B[0;34m\u001B[0m\u001B[0m\n\u001B[1;32m    118\u001B[0m     \u001B[0mouter_shape\u001B[0m \u001B[0;34m=\u001B[0m \u001B[0mnest_utils\u001B[0m\u001B[0;34m.\u001B[0m\u001B[0mget_outer_shape\u001B[0m\u001B[0;34m(\u001B[0m\u001B[0mtime_step\u001B[0m\u001B[0;34m,\u001B[0m \u001B[0mself\u001B[0m\u001B[0;34m.\u001B[0m\u001B[0m_time_step_spec\u001B[0m\u001B[0;34m)\u001B[0m\u001B[0;34m\u001B[0m\u001B[0;34m\u001B[0m\u001B[0m\n",
      "\u001B[0;32m~/anaconda3/envs/stochastic_games/lib/python3.10/site-packages/tf_agents/policies/tf_policy.py\u001B[0m in \u001B[0;36m?\u001B[0;34m(self, time_step, policy_state, seed)\u001B[0m\n\u001B[1;32m    320\u001B[0m                      'structures do not match'))\n\u001B[1;32m    321\u001B[0m \u001B[0;34m\u001B[0m\u001B[0m\n\u001B[1;32m    322\u001B[0m     \u001B[0;32mif\u001B[0m \u001B[0mself\u001B[0m\u001B[0;34m.\u001B[0m\u001B[0m_automatic_state_reset\u001B[0m\u001B[0;34m:\u001B[0m\u001B[0;34m\u001B[0m\u001B[0;34m\u001B[0m\u001B[0m\n\u001B[1;32m    323\u001B[0m       \u001B[0mpolicy_state\u001B[0m \u001B[0;34m=\u001B[0m \u001B[0mself\u001B[0m\u001B[0;34m.\u001B[0m\u001B[0m_maybe_reset_state\u001B[0m\u001B[0;34m(\u001B[0m\u001B[0mtime_step\u001B[0m\u001B[0;34m,\u001B[0m \u001B[0mpolicy_state\u001B[0m\u001B[0;34m)\u001B[0m\u001B[0;34m\u001B[0m\u001B[0;34m\u001B[0m\u001B[0m\n\u001B[0;32m--> 324\u001B[0;31m     \u001B[0mstep\u001B[0m \u001B[0;34m=\u001B[0m \u001B[0maction_fn\u001B[0m\u001B[0;34m(\u001B[0m\u001B[0mtime_step\u001B[0m\u001B[0;34m=\u001B[0m\u001B[0mtime_step\u001B[0m\u001B[0;34m,\u001B[0m \u001B[0mpolicy_state\u001B[0m\u001B[0;34m=\u001B[0m\u001B[0mpolicy_state\u001B[0m\u001B[0;34m,\u001B[0m \u001B[0mseed\u001B[0m\u001B[0;34m=\u001B[0m\u001B[0mseed\u001B[0m\u001B[0;34m)\u001B[0m\u001B[0;34m\u001B[0m\u001B[0;34m\u001B[0m\u001B[0m\n\u001B[0m\u001B[1;32m    325\u001B[0m \u001B[0;34m\u001B[0m\u001B[0m\n\u001B[1;32m    326\u001B[0m     \u001B[0;32mdef\u001B[0m \u001B[0mclip_action\u001B[0m\u001B[0;34m(\u001B[0m\u001B[0maction\u001B[0m\u001B[0;34m,\u001B[0m \u001B[0maction_spec\u001B[0m\u001B[0;34m)\u001B[0m\u001B[0;34m:\u001B[0m\u001B[0;34m\u001B[0m\u001B[0;34m\u001B[0m\u001B[0m\n\u001B[1;32m    327\u001B[0m       \u001B[0;32mif\u001B[0m \u001B[0misinstance\u001B[0m\u001B[0;34m(\u001B[0m\u001B[0maction_spec\u001B[0m\u001B[0;34m,\u001B[0m \u001B[0mtensor_spec\u001B[0m\u001B[0;34m.\u001B[0m\u001B[0mBoundedTensorSpec\u001B[0m\u001B[0;34m)\u001B[0m\u001B[0;34m:\u001B[0m\u001B[0;34m\u001B[0m\u001B[0;34m\u001B[0m\u001B[0m\n",
      "\u001B[0;32m~/anaconda3/envs/stochastic_games/lib/python3.10/site-packages/tf_agents/utils/common.py\u001B[0m in \u001B[0;36m?\u001B[0;34m(*fn_args, **fn_kwargs)\u001B[0m\n\u001B[1;32m    184\u001B[0m       \u001B[0mcheck_tf1_allowed\u001B[0m\u001B[0;34m(\u001B[0m\u001B[0;34m)\u001B[0m\u001B[0;34m\u001B[0m\u001B[0;34m\u001B[0m\u001B[0m\n\u001B[1;32m    185\u001B[0m       \u001B[0;32mif\u001B[0m \u001B[0mhas_eager_been_enabled\u001B[0m\u001B[0;34m(\u001B[0m\u001B[0;34m)\u001B[0m\u001B[0;34m:\u001B[0m\u001B[0;34m\u001B[0m\u001B[0;34m\u001B[0m\u001B[0m\n\u001B[1;32m    186\u001B[0m         \u001B[0;31m# We're either in eager mode or in tf.function mode (no in-between); so\u001B[0m\u001B[0;34m\u001B[0m\u001B[0;34m\u001B[0m\u001B[0m\n\u001B[1;32m    187\u001B[0m         \u001B[0;31m# autodep-like behavior is already expected of fn.\u001B[0m\u001B[0;34m\u001B[0m\u001B[0;34m\u001B[0m\u001B[0m\n\u001B[0;32m--> 188\u001B[0;31m         \u001B[0;32mreturn\u001B[0m \u001B[0mfn\u001B[0m\u001B[0;34m(\u001B[0m\u001B[0;34m*\u001B[0m\u001B[0mfn_args\u001B[0m\u001B[0;34m,\u001B[0m \u001B[0;34m**\u001B[0m\u001B[0mfn_kwargs\u001B[0m\u001B[0;34m)\u001B[0m\u001B[0;34m\u001B[0m\u001B[0;34m\u001B[0m\u001B[0m\n\u001B[0m\u001B[1;32m    189\u001B[0m       \u001B[0;32mif\u001B[0m \u001B[0;32mnot\u001B[0m \u001B[0mresource_variables_enabled\u001B[0m\u001B[0;34m(\u001B[0m\u001B[0;34m)\u001B[0m\u001B[0;34m:\u001B[0m\u001B[0;34m\u001B[0m\u001B[0;34m\u001B[0m\u001B[0m\n\u001B[1;32m    190\u001B[0m         \u001B[0;32mraise\u001B[0m \u001B[0mRuntimeError\u001B[0m\u001B[0;34m(\u001B[0m\u001B[0mMISSING_RESOURCE_VARIABLES_ERROR\u001B[0m\u001B[0;34m)\u001B[0m\u001B[0;34m\u001B[0m\u001B[0;34m\u001B[0m\u001B[0m\n\u001B[1;32m    191\u001B[0m       \u001B[0;32mif\u001B[0m \u001B[0mwrapped\u001B[0m\u001B[0;34m[\u001B[0m\u001B[0;36m0\u001B[0m\u001B[0;34m]\u001B[0m \u001B[0;32mis\u001B[0m \u001B[0;32mNone\u001B[0m\u001B[0;34m:\u001B[0m\u001B[0;34m\u001B[0m\u001B[0;34m\u001B[0m\u001B[0m\n",
      "\u001B[0;32m~/anaconda3/envs/stochastic_games/lib/python3.10/site-packages/tf_agents/policies/tf_policy.py\u001B[0m in \u001B[0;36m?\u001B[0;34m(self, time_step, policy_state, seed)\u001B[0m\n\u001B[1;32m    556\u001B[0m         \u001B[0;31m`\u001B[0m\u001B[0mstate\u001B[0m\u001B[0;31m`\u001B[0m\u001B[0;34m:\u001B[0m \u001B[0mA\u001B[0m \u001B[0mpolicy\u001B[0m \u001B[0mstate\u001B[0m \u001B[0mtensor\u001B[0m \u001B[0mto\u001B[0m \u001B[0mbe\u001B[0m \u001B[0mfed\u001B[0m \u001B[0minto\u001B[0m \u001B[0mthe\u001B[0m \u001B[0mnext\u001B[0m \u001B[0mcall\u001B[0m \u001B[0mto\u001B[0m \u001B[0maction\u001B[0m\u001B[0;34m.\u001B[0m\u001B[0;34m\u001B[0m\u001B[0;34m\u001B[0m\u001B[0m\n\u001B[1;32m    557\u001B[0m         \u001B[0;31m`\u001B[0m\u001B[0minfo\u001B[0m\u001B[0;31m`\u001B[0m\u001B[0;34m:\u001B[0m \u001B[0mOptional\u001B[0m \u001B[0mside\u001B[0m \u001B[0minformation\u001B[0m \u001B[0msuch\u001B[0m \u001B[0;32mas\u001B[0m \u001B[0maction\u001B[0m \u001B[0mlog\u001B[0m \u001B[0mprobabilities\u001B[0m\u001B[0;34m.\u001B[0m\u001B[0;34m\u001B[0m\u001B[0;34m\u001B[0m\u001B[0m\n\u001B[1;32m    558\u001B[0m     \"\"\"\n\u001B[1;32m    559\u001B[0m     \u001B[0mseed_stream\u001B[0m \u001B[0;34m=\u001B[0m \u001B[0mtfp\u001B[0m\u001B[0;34m.\u001B[0m\u001B[0mutil\u001B[0m\u001B[0;34m.\u001B[0m\u001B[0mSeedStream\u001B[0m\u001B[0;34m(\u001B[0m\u001B[0mseed\u001B[0m\u001B[0;34m=\u001B[0m\u001B[0mseed\u001B[0m\u001B[0;34m,\u001B[0m \u001B[0msalt\u001B[0m\u001B[0;34m=\u001B[0m\u001B[0;34m'tf_agents_tf_policy'\u001B[0m\u001B[0;34m)\u001B[0m\u001B[0;34m\u001B[0m\u001B[0;34m\u001B[0m\u001B[0m\n\u001B[0;32m--> 560\u001B[0;31m     \u001B[0mdistribution_step\u001B[0m \u001B[0;34m=\u001B[0m \u001B[0mself\u001B[0m\u001B[0;34m.\u001B[0m\u001B[0m_distribution\u001B[0m\u001B[0;34m(\u001B[0m\u001B[0mtime_step\u001B[0m\u001B[0;34m,\u001B[0m \u001B[0mpolicy_state\u001B[0m\u001B[0;34m)\u001B[0m  \u001B[0;31m# pytype: disable=wrong-arg-types\u001B[0m\u001B[0;34m\u001B[0m\u001B[0;34m\u001B[0m\u001B[0m\n\u001B[0m\u001B[1;32m    561\u001B[0m     actions = tf.nest.map_structure(\n\u001B[1;32m    562\u001B[0m         \u001B[0;32mlambda\u001B[0m \u001B[0md\u001B[0m\u001B[0;34m:\u001B[0m \u001B[0mreparameterized_sampling\u001B[0m\u001B[0;34m.\u001B[0m\u001B[0msample\u001B[0m\u001B[0;34m(\u001B[0m\u001B[0md\u001B[0m\u001B[0;34m,\u001B[0m \u001B[0mseed\u001B[0m\u001B[0;34m=\u001B[0m\u001B[0mseed_stream\u001B[0m\u001B[0;34m(\u001B[0m\u001B[0;34m)\u001B[0m\u001B[0;34m)\u001B[0m\u001B[0;34m,\u001B[0m\u001B[0;34m\u001B[0m\u001B[0;34m\u001B[0m\u001B[0m\n\u001B[1;32m    563\u001B[0m         distribution_step.action)\n",
      "\u001B[0;32m~/anaconda3/envs/stochastic_games/lib/python3.10/site-packages/tf_agents/policies/greedy_policy.py\u001B[0m in \u001B[0;36m?\u001B[0;34m(self, time_step, policy_state)\u001B[0m\n\u001B[1;32m     79\u001B[0m \u001B[0;34m\u001B[0m\u001B[0m\n\u001B[1;32m     80\u001B[0m     distribution_step = self._wrapped_policy.distribution(\n\u001B[1;32m     81\u001B[0m         time_step, policy_state)\n\u001B[1;32m     82\u001B[0m     return policy_step.PolicyStep(\n\u001B[0;32m---> 83\u001B[0;31m         \u001B[0mtf\u001B[0m\u001B[0;34m.\u001B[0m\u001B[0mnest\u001B[0m\u001B[0;34m.\u001B[0m\u001B[0mmap_structure\u001B[0m\u001B[0;34m(\u001B[0m\u001B[0mdist_fn\u001B[0m\u001B[0;34m,\u001B[0m \u001B[0mdistribution_step\u001B[0m\u001B[0;34m.\u001B[0m\u001B[0maction\u001B[0m\u001B[0;34m)\u001B[0m\u001B[0;34m,\u001B[0m\u001B[0;34m\u001B[0m\u001B[0;34m\u001B[0m\u001B[0m\n\u001B[0m\u001B[1;32m     84\u001B[0m         distribution_step.state, distribution_step.info)\n",
      "\u001B[0;32m~/anaconda3/envs/stochastic_games/lib/python3.10/site-packages/tensorflow/python/util/nest.py\u001B[0m in \u001B[0;36m?\u001B[0;34m(func, *structure, **kwargs)\u001B[0m\n\u001B[1;32m    913\u001B[0m   \u001B[0mflat_structure\u001B[0m \u001B[0;34m=\u001B[0m \u001B[0;34m(\u001B[0m\u001B[0mflatten\u001B[0m\u001B[0;34m(\u001B[0m\u001B[0ms\u001B[0m\u001B[0;34m,\u001B[0m \u001B[0mexpand_composites\u001B[0m\u001B[0;34m)\u001B[0m \u001B[0;32mfor\u001B[0m \u001B[0ms\u001B[0m \u001B[0;32min\u001B[0m \u001B[0mstructure\u001B[0m\u001B[0;34m)\u001B[0m\u001B[0;34m\u001B[0m\u001B[0;34m\u001B[0m\u001B[0m\n\u001B[1;32m    914\u001B[0m   \u001B[0mentries\u001B[0m \u001B[0;34m=\u001B[0m \u001B[0mzip\u001B[0m\u001B[0;34m(\u001B[0m\u001B[0;34m*\u001B[0m\u001B[0mflat_structure\u001B[0m\u001B[0;34m)\u001B[0m\u001B[0;34m\u001B[0m\u001B[0;34m\u001B[0m\u001B[0m\n\u001B[1;32m    915\u001B[0m \u001B[0;34m\u001B[0m\u001B[0m\n\u001B[1;32m    916\u001B[0m   return pack_sequence_as(\n\u001B[0;32m--> 917\u001B[0;31m       \u001B[0mstructure\u001B[0m\u001B[0;34m[\u001B[0m\u001B[0;36m0\u001B[0m\u001B[0;34m]\u001B[0m\u001B[0;34m,\u001B[0m \u001B[0;34m[\u001B[0m\u001B[0mfunc\u001B[0m\u001B[0;34m(\u001B[0m\u001B[0;34m*\u001B[0m\u001B[0mx\u001B[0m\u001B[0;34m)\u001B[0m \u001B[0;32mfor\u001B[0m \u001B[0mx\u001B[0m \u001B[0;32min\u001B[0m \u001B[0mentries\u001B[0m\u001B[0;34m]\u001B[0m\u001B[0;34m,\u001B[0m\u001B[0;34m\u001B[0m\u001B[0;34m\u001B[0m\u001B[0m\n\u001B[0m\u001B[1;32m    918\u001B[0m       expand_composites=expand_composites)\n",
      "\u001B[0;32m~/anaconda3/envs/stochastic_games/lib/python3.10/site-packages/tensorflow/python/util/nest.py\u001B[0m in \u001B[0;36m?\u001B[0;34m(.0)\u001B[0m\n\u001B[0;32m--> 917\u001B[0;31m   \u001B[0;34m>>\u001B[0m\u001B[0;34m>\u001B[0m \u001B[0mtf\u001B[0m\u001B[0;34m.\u001B[0m\u001B[0mnest\u001B[0m\u001B[0;34m.\u001B[0m\u001B[0mmap_structure\u001B[0m\u001B[0;34m(\u001B[0m\u001B[0;32mlambda\u001B[0m \u001B[0mx\u001B[0m\u001B[0;34m,\u001B[0m \u001B[0my\u001B[0m\u001B[0;34m:\u001B[0m \u001B[0;32mNone\u001B[0m\u001B[0;34m,\u001B[0m \u001B[0ms1\u001B[0m\u001B[0;34m,\u001B[0m \u001B[0ms1_list\u001B[0m\u001B[0;34m,\u001B[0m \u001B[0mcheck_types\u001B[0m\u001B[0;34m=\u001B[0m\u001B[0;32mFalse\u001B[0m\u001B[0;34m)\u001B[0m\u001B[0;34m\u001B[0m\u001B[0;34m\u001B[0m\u001B[0m\n\u001B[0m",
      "\u001B[0;32m~/anaconda3/envs/stochastic_games/lib/python3.10/site-packages/tf_agents/policies/greedy_policy.py\u001B[0m in \u001B[0;36m?\u001B[0;34m(dist)\u001B[0m\n\u001B[1;32m     70\u001B[0m     \u001B[0;32mdef\u001B[0m \u001B[0mdist_fn\u001B[0m\u001B[0;34m(\u001B[0m\u001B[0mdist\u001B[0m\u001B[0;34m)\u001B[0m\u001B[0;34m:\u001B[0m\u001B[0;34m\u001B[0m\u001B[0;34m\u001B[0m\u001B[0m\n\u001B[1;32m     71\u001B[0m       \u001B[0;32mtry\u001B[0m\u001B[0;34m:\u001B[0m\u001B[0;34m\u001B[0m\u001B[0;34m\u001B[0m\u001B[0m\n\u001B[1;32m     72\u001B[0m         \u001B[0mgreedy_action\u001B[0m \u001B[0;34m=\u001B[0m \u001B[0mdist\u001B[0m\u001B[0;34m.\u001B[0m\u001B[0mmode\u001B[0m\u001B[0;34m(\u001B[0m\u001B[0;34m)\u001B[0m\u001B[0;34m\u001B[0m\u001B[0;34m\u001B[0m\u001B[0m\n\u001B[0;32m---> 73\u001B[0;31m       \u001B[0;32mexcept\u001B[0m \u001B[0mNotImplementedError\u001B[0m\u001B[0;34m:\u001B[0m\u001B[0;34m\u001B[0m\u001B[0;34m\u001B[0m\u001B[0m\n\u001B[0m\u001B[1;32m     74\u001B[0m         raise ValueError(\"Your network's distribution does not implement mode \"\n\u001B[1;32m     75\u001B[0m                          \u001B[0;34m'making it incompatible with a greedy policy.'\u001B[0m\u001B[0;34m\u001B[0m\u001B[0;34m\u001B[0m\u001B[0m\n\u001B[1;32m     76\u001B[0m                         ) from NotImplementedError\n",
      "\u001B[0;32m~/anaconda3/envs/stochastic_games/lib/python3.10/site-packages/tensorflow_probability/python/distributions/distribution.py\u001B[0m in \u001B[0;36m?\u001B[0;34m(self, name, **kwargs)\u001B[0m\n\u001B[1;32m   1692\u001B[0m   \u001B[0;32mdef\u001B[0m \u001B[0mmode\u001B[0m\u001B[0;34m(\u001B[0m\u001B[0mself\u001B[0m\u001B[0;34m,\u001B[0m \u001B[0mname\u001B[0m\u001B[0;34m=\u001B[0m\u001B[0;34m'mode'\u001B[0m\u001B[0;34m,\u001B[0m \u001B[0;34m**\u001B[0m\u001B[0mkwargs\u001B[0m\u001B[0;34m)\u001B[0m\u001B[0;34m:\u001B[0m\u001B[0;34m\u001B[0m\u001B[0;34m\u001B[0m\u001B[0m\n\u001B[1;32m   1693\u001B[0m     \u001B[0;34m\"\"\"Mode.\"\"\"\u001B[0m\u001B[0;34m\u001B[0m\u001B[0;34m\u001B[0m\u001B[0m\n\u001B[1;32m   1694\u001B[0m     \u001B[0;32mwith\u001B[0m \u001B[0mself\u001B[0m\u001B[0;34m.\u001B[0m\u001B[0m_name_and_control_scope\u001B[0m\u001B[0;34m(\u001B[0m\u001B[0mname\u001B[0m\u001B[0;34m)\u001B[0m\u001B[0;34m:\u001B[0m\u001B[0;34m\u001B[0m\u001B[0;34m\u001B[0m\u001B[0m\n\u001B[0;32m-> 1695\u001B[0;31m       \u001B[0;32mreturn\u001B[0m \u001B[0mself\u001B[0m\u001B[0;34m.\u001B[0m\u001B[0m_mode\u001B[0m\u001B[0;34m(\u001B[0m\u001B[0;34m**\u001B[0m\u001B[0mkwargs\u001B[0m\u001B[0;34m)\u001B[0m\u001B[0;34m\u001B[0m\u001B[0;34m\u001B[0m\u001B[0m\n\u001B[0m",
      "\u001B[0;32m~/anaconda3/envs/stochastic_games/lib/python3.10/site-packages/tensorflow_probability/python/distributions/categorical.py\u001B[0m in \u001B[0;36m?\u001B[0;34m(self)\u001B[0m\n\u001B[1;32m    307\u001B[0m   \u001B[0;32mdef\u001B[0m \u001B[0m_mode\u001B[0m\u001B[0;34m(\u001B[0m\u001B[0mself\u001B[0m\u001B[0;34m)\u001B[0m\u001B[0;34m:\u001B[0m\u001B[0;34m\u001B[0m\u001B[0;34m\u001B[0m\u001B[0m\n\u001B[1;32m    308\u001B[0m     \u001B[0mx\u001B[0m \u001B[0;34m=\u001B[0m \u001B[0mself\u001B[0m\u001B[0;34m.\u001B[0m\u001B[0m_probs\u001B[0m \u001B[0;32mif\u001B[0m \u001B[0mself\u001B[0m\u001B[0;34m.\u001B[0m\u001B[0m_logits\u001B[0m \u001B[0;32mis\u001B[0m \u001B[0;32mNone\u001B[0m \u001B[0;32melse\u001B[0m \u001B[0mself\u001B[0m\u001B[0;34m.\u001B[0m\u001B[0m_logits\u001B[0m\u001B[0;34m\u001B[0m\u001B[0;34m\u001B[0m\u001B[0m\n\u001B[0;32m--> 309\u001B[0;31m     \u001B[0mmode\u001B[0m \u001B[0;34m=\u001B[0m \u001B[0mtf\u001B[0m\u001B[0;34m.\u001B[0m\u001B[0mcast\u001B[0m\u001B[0;34m(\u001B[0m\u001B[0mtf\u001B[0m\u001B[0;34m.\u001B[0m\u001B[0margmax\u001B[0m\u001B[0;34m(\u001B[0m\u001B[0mx\u001B[0m\u001B[0;34m,\u001B[0m \u001B[0maxis\u001B[0m\u001B[0;34m=\u001B[0m\u001B[0;34m-\u001B[0m\u001B[0;36m1\u001B[0m\u001B[0;34m)\u001B[0m\u001B[0;34m,\u001B[0m \u001B[0mself\u001B[0m\u001B[0;34m.\u001B[0m\u001B[0mdtype\u001B[0m\u001B[0;34m)\u001B[0m\u001B[0;34m\u001B[0m\u001B[0;34m\u001B[0m\u001B[0m\n\u001B[0m\u001B[1;32m    310\u001B[0m     \u001B[0mtensorshape_util\u001B[0m\u001B[0;34m.\u001B[0m\u001B[0mset_shape\u001B[0m\u001B[0;34m(\u001B[0m\u001B[0mmode\u001B[0m\u001B[0;34m,\u001B[0m \u001B[0mx\u001B[0m\u001B[0;34m.\u001B[0m\u001B[0mshape\u001B[0m\u001B[0;34m[\u001B[0m\u001B[0;34m:\u001B[0m\u001B[0;34m-\u001B[0m\u001B[0;36m1\u001B[0m\u001B[0;34m]\u001B[0m\u001B[0;34m)\u001B[0m\u001B[0;34m\u001B[0m\u001B[0;34m\u001B[0m\u001B[0m\n\u001B[1;32m    311\u001B[0m     \u001B[0;32mreturn\u001B[0m \u001B[0mmode\u001B[0m\u001B[0;34m\u001B[0m\u001B[0;34m\u001B[0m\u001B[0m\n",
      "\u001B[0;32m~/anaconda3/envs/stochastic_games/lib/python3.10/site-packages/tensorflow/python/util/traceback_utils.py\u001B[0m in \u001B[0;36m?\u001B[0;34m(*args, **kwargs)\u001B[0m\n\u001B[1;32m    151\u001B[0m     \u001B[0;32mexcept\u001B[0m \u001B[0mException\u001B[0m \u001B[0;32mas\u001B[0m \u001B[0me\u001B[0m\u001B[0;34m:\u001B[0m\u001B[0;34m\u001B[0m\u001B[0;34m\u001B[0m\u001B[0m\n\u001B[1;32m    152\u001B[0m       \u001B[0mfiltered_tb\u001B[0m \u001B[0;34m=\u001B[0m \u001B[0m_process_traceback_frames\u001B[0m\u001B[0;34m(\u001B[0m\u001B[0me\u001B[0m\u001B[0;34m.\u001B[0m\u001B[0m__traceback__\u001B[0m\u001B[0;34m)\u001B[0m\u001B[0;34m\u001B[0m\u001B[0;34m\u001B[0m\u001B[0m\n\u001B[1;32m    153\u001B[0m       \u001B[0;32mraise\u001B[0m \u001B[0me\u001B[0m\u001B[0;34m.\u001B[0m\u001B[0mwith_traceback\u001B[0m\u001B[0;34m(\u001B[0m\u001B[0mfiltered_tb\u001B[0m\u001B[0;34m)\u001B[0m \u001B[0;32mfrom\u001B[0m \u001B[0;32mNone\u001B[0m\u001B[0;34m\u001B[0m\u001B[0;34m\u001B[0m\u001B[0m\n\u001B[1;32m    154\u001B[0m     \u001B[0;32mfinally\u001B[0m\u001B[0;34m:\u001B[0m\u001B[0;34m\u001B[0m\u001B[0;34m\u001B[0m\u001B[0m\n\u001B[0;32m--> 155\u001B[0;31m       \u001B[0;32mdel\u001B[0m \u001B[0mfiltered_tb\u001B[0m\u001B[0;34m\u001B[0m\u001B[0;34m\u001B[0m\u001B[0m\n\u001B[0m",
      "\u001B[0;32m~/anaconda3/envs/stochastic_games/lib/python3.10/site-packages/tensorflow/python/util/dispatch.py\u001B[0m in \u001B[0;36m?\u001B[0;34m(*args, **kwargs)\u001B[0m\n\u001B[1;32m   1173\u001B[0m \u001B[0;34m\u001B[0m\u001B[0m\n\u001B[1;32m   1174\u001B[0m       \u001B[0;31m# Fallback dispatch system (dispatch v1):\u001B[0m\u001B[0;34m\u001B[0m\u001B[0;34m\u001B[0m\u001B[0m\n\u001B[1;32m   1175\u001B[0m       \u001B[0;32mtry\u001B[0m\u001B[0;34m:\u001B[0m\u001B[0;34m\u001B[0m\u001B[0;34m\u001B[0m\u001B[0m\n\u001B[1;32m   1176\u001B[0m         \u001B[0;32mreturn\u001B[0m \u001B[0mdispatch_target\u001B[0m\u001B[0;34m(\u001B[0m\u001B[0;34m*\u001B[0m\u001B[0margs\u001B[0m\u001B[0;34m,\u001B[0m \u001B[0;34m**\u001B[0m\u001B[0mkwargs\u001B[0m\u001B[0;34m)\u001B[0m\u001B[0;34m\u001B[0m\u001B[0;34m\u001B[0m\u001B[0m\n\u001B[0;32m-> 1177\u001B[0;31m       \u001B[0;32mexcept\u001B[0m \u001B[0;34m(\u001B[0m\u001B[0mTypeError\u001B[0m\u001B[0;34m,\u001B[0m \u001B[0mValueError\u001B[0m\u001B[0;34m)\u001B[0m\u001B[0;34m:\u001B[0m\u001B[0;34m\u001B[0m\u001B[0;34m\u001B[0m\u001B[0m\n\u001B[0m\u001B[1;32m   1178\u001B[0m         \u001B[0;31m# Note: convert_to_eager_tensor currently raises a ValueError, not a\u001B[0m\u001B[0;34m\u001B[0m\u001B[0;34m\u001B[0m\u001B[0m\n\u001B[1;32m   1179\u001B[0m         \u001B[0;31m# TypeError, when given unexpected types.  So we need to catch both.\u001B[0m\u001B[0;34m\u001B[0m\u001B[0;34m\u001B[0m\u001B[0m\n\u001B[1;32m   1180\u001B[0m         \u001B[0mresult\u001B[0m \u001B[0;34m=\u001B[0m \u001B[0mdispatch\u001B[0m\u001B[0;34m(\u001B[0m\u001B[0mop_dispatch_handler\u001B[0m\u001B[0;34m,\u001B[0m \u001B[0margs\u001B[0m\u001B[0;34m,\u001B[0m \u001B[0mkwargs\u001B[0m\u001B[0;34m)\u001B[0m\u001B[0;34m\u001B[0m\u001B[0;34m\u001B[0m\u001B[0m\n",
      "\u001B[0;32m~/anaconda3/envs/stochastic_games/lib/python3.10/site-packages/tensorflow/python/ops/math_ops.py\u001B[0m in \u001B[0;36m?\u001B[0;34m(x, dtype, name)\u001B[0m\n\u001B[1;32m    999\u001B[0m       \u001B[0;31m# allows some conversions that cast() can't do, e.g. casting numbers to\u001B[0m\u001B[0;34m\u001B[0m\u001B[0;34m\u001B[0m\u001B[0m\n\u001B[1;32m   1000\u001B[0m       \u001B[0;31m# strings.\u001B[0m\u001B[0;34m\u001B[0m\u001B[0;34m\u001B[0m\u001B[0m\n\u001B[1;32m   1001\u001B[0m       \u001B[0mx\u001B[0m \u001B[0;34m=\u001B[0m \u001B[0mops\u001B[0m\u001B[0;34m.\u001B[0m\u001B[0mconvert_to_tensor\u001B[0m\u001B[0;34m(\u001B[0m\u001B[0mx\u001B[0m\u001B[0;34m,\u001B[0m \u001B[0mname\u001B[0m\u001B[0;34m=\u001B[0m\u001B[0;34m\"x\"\u001B[0m\u001B[0;34m)\u001B[0m\u001B[0;34m\u001B[0m\u001B[0;34m\u001B[0m\u001B[0m\n\u001B[1;32m   1002\u001B[0m       \u001B[0;32mif\u001B[0m \u001B[0mx\u001B[0m\u001B[0;34m.\u001B[0m\u001B[0mdtype\u001B[0m \u001B[0;34m!=\u001B[0m \u001B[0mbase_type\u001B[0m\u001B[0;34m:\u001B[0m\u001B[0;34m\u001B[0m\u001B[0;34m\u001B[0m\u001B[0m\n\u001B[0;32m-> 1003\u001B[0;31m         \u001B[0mx\u001B[0m \u001B[0;34m=\u001B[0m \u001B[0mgen_math_ops\u001B[0m\u001B[0;34m.\u001B[0m\u001B[0mcast\u001B[0m\u001B[0;34m(\u001B[0m\u001B[0mx\u001B[0m\u001B[0;34m,\u001B[0m \u001B[0mbase_type\u001B[0m\u001B[0;34m,\u001B[0m \u001B[0mname\u001B[0m\u001B[0;34m=\u001B[0m\u001B[0mname\u001B[0m\u001B[0;34m)\u001B[0m\u001B[0;34m\u001B[0m\u001B[0;34m\u001B[0m\u001B[0m\n\u001B[0m\u001B[1;32m   1004\u001B[0m     \u001B[0;32mif\u001B[0m \u001B[0mx\u001B[0m\u001B[0;34m.\u001B[0m\u001B[0mdtype\u001B[0m\u001B[0;34m.\u001B[0m\u001B[0mis_complex\u001B[0m \u001B[0;32mand\u001B[0m \u001B[0mbase_type\u001B[0m\u001B[0;34m.\u001B[0m\u001B[0mis_floating\u001B[0m\u001B[0;34m:\u001B[0m\u001B[0;34m\u001B[0m\u001B[0;34m\u001B[0m\u001B[0m\n\u001B[1;32m   1005\u001B[0m       \u001B[0mlogging\u001B[0m\u001B[0;34m.\u001B[0m\u001B[0mwarn\u001B[0m\u001B[0;34m(\u001B[0m\u001B[0;34m\"Casting complex to real discards imaginary part.\"\u001B[0m\u001B[0;34m)\u001B[0m\u001B[0;34m\u001B[0m\u001B[0;34m\u001B[0m\u001B[0m\n\u001B[1;32m   1006\u001B[0m     \u001B[0;32mreturn\u001B[0m \u001B[0mx\u001B[0m\u001B[0;34m\u001B[0m\u001B[0;34m\u001B[0m\u001B[0m\n",
      "\u001B[0;32m~/anaconda3/envs/stochastic_games/lib/python3.10/site-packages/tensorflow/python/ops/gen_math_ops.py\u001B[0m in \u001B[0;36m?\u001B[0;34m(x, DstT, Truncate, name)\u001B[0m\n\u001B[1;32m   1998\u001B[0m         _ctx, \"Cast\", name, x, \"DstT\", DstT, \"Truncate\", Truncate)\n\u001B[1;32m   1999\u001B[0m       \u001B[0;32mreturn\u001B[0m \u001B[0m_result\u001B[0m\u001B[0;34m\u001B[0m\u001B[0;34m\u001B[0m\u001B[0m\n\u001B[1;32m   2000\u001B[0m     \u001B[0;32mexcept\u001B[0m \u001B[0m_core\u001B[0m\u001B[0;34m.\u001B[0m\u001B[0m_NotOkStatusException\u001B[0m \u001B[0;32mas\u001B[0m \u001B[0me\u001B[0m\u001B[0;34m:\u001B[0m\u001B[0;34m\u001B[0m\u001B[0;34m\u001B[0m\u001B[0m\n\u001B[1;32m   2001\u001B[0m       \u001B[0m_ops\u001B[0m\u001B[0;34m.\u001B[0m\u001B[0mraise_from_not_ok_status\u001B[0m\u001B[0;34m(\u001B[0m\u001B[0me\u001B[0m\u001B[0;34m,\u001B[0m \u001B[0mname\u001B[0m\u001B[0;34m)\u001B[0m\u001B[0;34m\u001B[0m\u001B[0;34m\u001B[0m\u001B[0m\n\u001B[0;32m-> 2002\u001B[0;31m     \u001B[0;32mexcept\u001B[0m \u001B[0m_core\u001B[0m\u001B[0;34m.\u001B[0m\u001B[0m_FallbackException\u001B[0m\u001B[0;34m:\u001B[0m\u001B[0;34m\u001B[0m\u001B[0;34m\u001B[0m\u001B[0m\n\u001B[0m\u001B[1;32m   2003\u001B[0m       \u001B[0;32mpass\u001B[0m\u001B[0;34m\u001B[0m\u001B[0;34m\u001B[0m\u001B[0m\n\u001B[1;32m   2004\u001B[0m     \u001B[0;32mtry\u001B[0m\u001B[0;34m:\u001B[0m\u001B[0;34m\u001B[0m\u001B[0;34m\u001B[0m\u001B[0m\n\u001B[1;32m   2005\u001B[0m       return cast_eager_fallback(\n",
      "\u001B[0;31mKeyboardInterrupt\u001B[0m: "
     ]
    }
   ],
   "source": [
    "\n",
    "\n",
    "iterator=iter(dataset)\n",
    "iterations=100\n",
    "time_step=train_env.reset()\n",
    "log_interval=1\n",
    "eval_interval=1\n",
    "for k in range(iterations):\n",
    "    time_step, _ = driver.run(time_step)\n",
    "\n",
    "  # Sample a batch of data from the buffer and update the agent's network. w\n",
    "    experience, unused_info = next(iterator)\n",
    "    train_loss = agent.train(experience).loss\n",
    "\n",
    "    step = agent.train_step_counter.numpy()\n",
    "\n",
    "    if step % log_interval == 0:\n",
    "        print('step = {0}: loss = {1}'.format(step, train_loss))\n",
    "\n"
   ]
  },
  {
   "cell_type": "markdown",
   "id": "d3eeb167-28bd-48f0-b300-8a091872062f",
   "metadata": {},
   "source": [
    "## Z=iter(dataset)"
   ]
  },
  {
   "cell_type": "code",
   "execution_count": null,
   "id": "d4ab7772-0da8-4eb5-8b86-099b94944f77",
   "metadata": {},
   "outputs": [],
   "source": [
    "next(Z)"
   ]
  },
  {
   "cell_type": "code",
   "execution_count": null,
   "id": "21a5089e-0c72-4975-b0bc-e095dd441b67",
   "metadata": {},
   "outputs": [],
   "source": [
    "for k,_ in enumerate(buffer.as_dataset()):\n",
    "    print(_[0].observation[\"state\"])\n",
    "    if k > 100:\n",
    "        break"
   ]
  },
  {
   "cell_type": "code",
   "execution_count": null,
   "id": "fc2a9221-ff21-42fd-8b08-084ee9e69384",
   "metadata": {},
   "outputs": [],
   "source": [
    "driver.env.time_step_spec()"
   ]
  },
  {
   "cell_type": "code",
   "execution_count": null,
   "id": "7e0e3f7c-44bd-4215-9769-94e54f7793be",
   "metadata": {},
   "outputs": [],
   "source": [
    "for k,element in enumerate(buffer.as_dataset()):\n",
    "    print(element)\n",
    "    print(f\"****::{k}:****\")\n",
    "    if k > 2:\n",
    "        break"
   ]
  },
  {
   "cell_type": "code",
   "execution_count": null,
   "id": "93104668-991a-43db-807b-d642808cea76",
   "metadata": {},
   "outputs": [],
   "source": [
    "fo_env.batched"
   ]
  },
  {
   "cell_type": "code",
   "execution_count": null,
   "id": "76caa481-6041-4aaf-8725-56a951c32ecd",
   "metadata": {},
   "outputs": [],
   "source": [
    "A=tf.random.uniform(shape=[3,3,3])"
   ]
  },
  {
   "cell_type": "code",
   "execution_count": null,
   "id": "ff114d30-710b-4065-84e8-e0c5c8a6a2a4",
   "metadata": {},
   "outputs": [],
   "source": [
    "A[2,tf.constant(1)]"
   ]
  },
  {
   "cell_type": "code",
   "execution_count": 312,
   "id": "c5652784-8f23-42f5-a8a6-cd75dbcc092e",
   "metadata": {},
   "outputs": [
    {
     "ename": "ValueError",
     "evalue": "Attempt to convert a value ({0: array([0., 0., 0., 0., 0.]), 1: array([0., 0., 0., 0., 0.])}) with an unsupported type (<class 'dict'>) to a Tensor.",
     "output_type": "error",
     "traceback": [
      "\u001B[0;31m---------------------------------------------------------------------------\u001B[0m",
      "\u001B[0;31mValueError\u001B[0m                                Traceback (most recent call last)",
      "Cell \u001B[0;32mIn[312], line 1\u001B[0m\n\u001B[0;32m----> 1\u001B[0m \u001B[43mtf\u001B[49m\u001B[38;5;241;43m.\u001B[39;49m\u001B[43mgather_nd\u001B[49m\u001B[43m(\u001B[49m\u001B[43mA\u001B[49m\u001B[43m,\u001B[49m\u001B[43mtf\u001B[49m\u001B[38;5;241;43m.\u001B[39;49m\u001B[43mconstant\u001B[49m\u001B[43m(\u001B[49m\u001B[43m[\u001B[49m\u001B[43m[\u001B[49m\u001B[38;5;241;43m0\u001B[39;49m\u001B[43m,\u001B[49m\u001B[38;5;241;43m0\u001B[39;49m\u001B[43m,\u001B[49m\u001B[38;5;241;43m0\u001B[39;49m\u001B[43m]\u001B[49m\u001B[43m,\u001B[49m\u001B[43m[\u001B[49m\u001B[38;5;241;43m1\u001B[39;49m\u001B[43m,\u001B[49m\u001B[38;5;241;43m1\u001B[39;49m\u001B[43m,\u001B[49m\u001B[38;5;241;43m1\u001B[39;49m\u001B[43m]\u001B[49m\u001B[43m]\u001B[49m\u001B[43m)\u001B[49m\u001B[43m)\u001B[49m\n",
      "File \u001B[0;32m~/anaconda3/envs/stochastic_games/lib/python3.10/site-packages/tensorflow/python/util/traceback_utils.py:153\u001B[0m, in \u001B[0;36mfilter_traceback.<locals>.error_handler\u001B[0;34m(*args, **kwargs)\u001B[0m\n\u001B[1;32m    151\u001B[0m \u001B[38;5;28;01mexcept\u001B[39;00m \u001B[38;5;167;01mException\u001B[39;00m \u001B[38;5;28;01mas\u001B[39;00m e:\n\u001B[1;32m    152\u001B[0m   filtered_tb \u001B[38;5;241m=\u001B[39m _process_traceback_frames(e\u001B[38;5;241m.\u001B[39m__traceback__)\n\u001B[0;32m--> 153\u001B[0m   \u001B[38;5;28;01mraise\u001B[39;00m e\u001B[38;5;241m.\u001B[39mwith_traceback(filtered_tb) \u001B[38;5;28;01mfrom\u001B[39;00m \u001B[38;5;28mNone\u001B[39m\n\u001B[1;32m    154\u001B[0m \u001B[38;5;28;01mfinally\u001B[39;00m:\n\u001B[1;32m    155\u001B[0m   \u001B[38;5;28;01mdel\u001B[39;00m filtered_tb\n",
      "File \u001B[0;32m~/anaconda3/envs/stochastic_games/lib/python3.10/site-packages/tensorflow/python/framework/constant_op.py:102\u001B[0m, in \u001B[0;36mconvert_to_eager_tensor\u001B[0;34m(value, ctx, dtype)\u001B[0m\n\u001B[1;32m    100\u001B[0m     dtype \u001B[38;5;241m=\u001B[39m dtypes\u001B[38;5;241m.\u001B[39mas_dtype(dtype)\u001B[38;5;241m.\u001B[39mas_datatype_enum\n\u001B[1;32m    101\u001B[0m ctx\u001B[38;5;241m.\u001B[39mensure_initialized()\n\u001B[0;32m--> 102\u001B[0m \u001B[38;5;28;01mreturn\u001B[39;00m \u001B[43mops\u001B[49m\u001B[38;5;241;43m.\u001B[39;49m\u001B[43mEagerTensor\u001B[49m\u001B[43m(\u001B[49m\u001B[43mvalue\u001B[49m\u001B[43m,\u001B[49m\u001B[43m \u001B[49m\u001B[43mctx\u001B[49m\u001B[38;5;241;43m.\u001B[39;49m\u001B[43mdevice_name\u001B[49m\u001B[43m,\u001B[49m\u001B[43m \u001B[49m\u001B[43mdtype\u001B[49m\u001B[43m)\u001B[49m\n",
      "\u001B[0;31mValueError\u001B[0m: Attempt to convert a value ({0: array([0., 0., 0., 0., 0.]), 1: array([0., 0., 0., 0., 0.])}) with an unsupported type (<class 'dict'>) to a Tensor."
     ]
    }
   ],
   "source": [
    "tf.gather_nd(A,tf.constant([[0,0,0],[1,1,1]]))"
   ]
  },
  {
   "cell_type": "code",
   "execution_count": 313,
   "id": "518e6b53-8bb1-452a-9d0b-f5c09cd16f23",
   "metadata": {},
   "outputs": [
    {
     "data": {
      "text/plain": [
       "{0: array([0., 0., 0., 0., 0.]), 1: array([0., 0., 0., 0., 0.])}"
      ]
     },
     "execution_count": 313,
     "metadata": {},
     "output_type": "execute_result"
    }
   ],
   "source": [
    "A"
   ]
  },
  {
   "cell_type": "code",
   "execution_count": 271,
   "id": "820f8e0d-6cab-4ee2-a021-7d5b1eac9d62",
   "metadata": {},
   "outputs": [
    {
     "data": {
      "text/plain": [
       "<tf.Tensor: shape=(), dtype=float32, numpy=0.6443225>"
      ]
     },
     "execution_count": 271,
     "metadata": {},
     "output_type": "execute_result"
    }
   ],
   "source": [
    "A[1,1,1]"
   ]
  },
  {
   "cell_type": "code",
   "execution_count": 339,
   "id": "78882a38-f330-401b-8c5d-e920c4a8ad7a",
   "metadata": {},
   "outputs": [
    {
     "data": {
      "text/plain": [
       "array([[0., 1., 0., 0., 0., 0., 0., 0.],\n",
       "       [0., 0., 1., 0., 1., 0., 0., 0.],\n",
       "       [0., 0., 0., 1., 0., 0., 0., 0.],\n",
       "       [0., 0., 0., 0., 0., 0., 1., 1.],\n",
       "       [0., 0., 0., 0., 0., 1., 0., 0.],\n",
       "       [0., 0., 0., 0., 0., 0., 1., 1.],\n",
       "       [0., 1., 0., 0., 0., 0., 0., 0.],\n",
       "       [0., 1., 0., 0., 0., 0., 0., 0.]], dtype=float32)"
      ]
     },
     "execution_count": 339,
     "metadata": {},
     "output_type": "execute_result"
    }
   ],
   "source": [
    "fo_env.env.graph.adjacency_matrix"
   ]
  },
  {
   "cell_type": "code",
   "execution_count": 424,
   "id": "a9c16b77-313d-42c9-909f-2921568c00c2",
   "metadata": {
    "ExecuteTime": {
     "end_time": "2023-05-15T14:29:09.724186Z",
     "start_time": "2023-05-15T14:29:09.675994Z"
    }
   },
   "outputs": [
    {
     "data": {
      "text/plain": [
       "TensorShape([2, 2, 2])"
      ]
     },
     "execution_count": 424,
     "metadata": {},
     "output_type": "execute_result"
    }
   ],
   "source": [
    "tf.zeros(shape=(2,2,2)).shape"
   ]
  },
  {
   "cell_type": "code",
   "execution_count": 46,
   "id": "697805d7-5c40-443b-a48a-0209488843ba",
   "metadata": {},
   "outputs": [],
   "source": [
    "A=tf.random.uniform([2,1,5,5,5])"
   ]
  },
  {
   "cell_type": "code",
   "execution_count": 49,
   "id": "e76a7c05-7ba8-46c8-95fb-47ca45aa9cca",
   "metadata": {},
   "outputs": [
    {
     "data": {
      "text/plain": [
       "<tf.Tensor: shape=(2, 1, 5), dtype=float32, numpy=\n",
       "array([[[0.76097524, 0.13867462, 0.5122886 , 0.18104172, 0.08846366]],\n",
       "\n",
       "       [[0.1883893 , 0.79562414, 0.60452783, 0.92311394, 0.04559219]]],\n",
       "      dtype=float32)>"
      ]
     },
     "execution_count": 49,
     "metadata": {},
     "output_type": "execute_result"
    }
   ],
   "source": [
    "tf.gather_nd(A,indices=I,batch_dims=2)"
   ]
  },
  {
   "cell_type": "code",
   "execution_count": 48,
   "id": "d5ad4acb-d398-43b5-803d-c073a33139ed",
   "metadata": {},
   "outputs": [],
   "source": [
    "I=tf.constant([[[1,1]],[[2,2]]])"
   ]
  },
  {
   "cell_type": "code",
   "execution_count": 45,
   "id": "ee9ce73d-0bb0-41d7-935a-2d6b46a0c799",
   "metadata": {},
   "outputs": [
    {
     "data": {
      "text/plain": [
       "<tf.Tensor: shape=(2, 1, 3), dtype=int32, numpy=\n",
       "array([[[1, 1, 1]],\n",
       "\n",
       "       [[2, 2, 2]]], dtype=int32)>"
      ]
     },
     "execution_count": 45,
     "metadata": {},
     "output_type": "execute_result"
    }
   ],
   "source": [
    "I"
   ]
  },
  {
   "cell_type": "code",
   "execution_count": null,
   "id": "72069c1d-35b7-4e59-a4dd-61dce10ab7f6",
   "metadata": {},
   "outputs": [],
   "source": []
  }
 ],
 "metadata": {
  "kernelspec": {
   "display_name": "Python 3 (ipykernel)",
   "language": "python",
   "name": "python3"
  },
  "language_info": {
   "codemirror_mode": {
    "name": "ipython",
    "version": 3
   },
   "file_extension": ".py",
   "mimetype": "text/x-python",
   "name": "python",
   "nbconvert_exporter": "python",
   "pygments_lexer": "ipython3",
   "version": "3.10.11"
  }
 },
 "nbformat": 4,
 "nbformat_minor": 5
}
