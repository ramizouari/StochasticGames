{
 "cells": [
  {
   "cell_type": "code",
   "execution_count": 1,
   "id": "1f188a3a-1a4a-4368-b2c4-1816a9e37719",
   "metadata": {
    "ExecuteTime": {
     "end_time": "2023-05-12T01:26:25.959745Z",
     "start_time": "2023-05-12T01:26:25.951790Z"
    }
   },
   "outputs": [
    {
     "name": "stderr",
     "output_type": "stream",
     "text": [
      "2023-05-14 14:31:41.362632: I tensorflow/core/platform/cpu_feature_guard.cc:193] This TensorFlow binary is optimized with oneAPI Deep Neural Network Library (oneDNN) to use the following CPU instructions in performance-critical operations:  SSE4.1 SSE4.2 AVX AVX2 FMA\n",
      "To enable them in other operations, rebuild TensorFlow with the appropriate compiler flags.\n"
     ]
    }
   ],
   "source": [
    "from __future__ import absolute_import\n",
    "from __future__ import division\n",
    "from __future__ import print_function\n",
    "\n",
    "import abc\n",
    "import tensorflow as tf\n",
    "import numpy as np\n",
    "\n",
    "from tf_agents.environments import py_environment\n",
    "from tf_agents.environments import tf_environment\n",
    "from tf_agents.environments import tf_py_environment\n",
    "from tf_agents.environments import utils\n",
    "from tf_agents.specs import array_spec\n",
    "from tf_agents.environments import wrappers\n",
    "from tf_agents.environments import suite_gym\n",
    "from tf_agents.trajectories import time_step as ts"
   ]
  },
  {
   "cell_type": "code",
   "execution_count": 317,
   "id": "074abc3c-371c-458e-9884-7360a4ec6be3",
   "metadata": {
    "ExecuteTime": {
     "end_time": "2023-05-12T01:26:27.488349Z",
     "start_time": "2023-05-12T01:26:27.479720Z"
    }
   },
   "outputs": [],
   "source": [
    "class CardGameEnv(py_environment.PyEnvironment):\n",
    "    def __init__(self):\n",
    "        self._action_spec = array_spec.BoundedArraySpec(\n",
    "            shape=(), dtype=np.int32, minimum=0, maximum=1, name='action')\n",
    "        self._observation_spec = array_spec.BoundedArraySpec(\n",
    "            shape=(1,), dtype=np.int32, minimum=0, name='observation')\n",
    "        self._state = 0\n",
    "        self._episode_ended = False\n",
    "\n",
    "\n",
    "    def action_spec(self):\n",
    "        return self._action_spec\n",
    "\n",
    "    def observation_spec(self):\n",
    "        return self._observation_spec\n",
    "\n",
    "    def _reset(self):\n",
    "        self._state = 0\n",
    "        self._episode_ended = False\n",
    "        return ts.restart(np.array([self._state], dtype=np.int32))\n",
    "\n",
    "    def _step(self, action):\n",
    "\n",
    "        if self._episode_ended:\n",
    "          # The last action ended the episode. Ignore the current action and start\n",
    "          # a new episode.\n",
    "            return self.reset()\n",
    "\n",
    "        # Make sure episodes don't go on forever.\n",
    "        if action == 1:\n",
    "            self._episode_ended = True\n",
    "        elif action == 0:\n",
    "            new_card = np.random.randint(1, 11)\n",
    "            self._state += new_card\n",
    "        else:\n",
    "            raise ValueError('`action` should be 0 or 1.')\n",
    "\n",
    "        if self._episode_ended or self._state >= 21:\n",
    "            reward = self._state - 21 if self._state <= 21 else -21\n",
    "            return ts.termination(np.array([self._state], dtype=np.int32), reward)\n",
    "        else:\n",
    "            return ts.transition(\n",
    "              np.array([self._state], dtype=np.int32), reward=0.0, discount=1.0)"
   ]
  },
  {
   "cell_type": "code",
   "execution_count": 318,
   "id": "f0e7220c-4d29-49b9-8302-02883cb6d20d",
   "metadata": {
    "ExecuteTime": {
     "end_time": "2023-05-12T01:26:28.521902Z",
     "start_time": "2023-05-12T01:26:28.503895Z"
    }
   },
   "outputs": [],
   "source": [
    "environment = CardGameEnv()\n",
    "utils.validate_py_environment(environment, episodes=5)"
   ]
  },
  {
   "cell_type": "markdown",
   "id": "ffc71781-5bce-4538-bfda-a0a247e72ebe",
   "metadata": {},
   "source": [
    "## 2. MPG Environment"
   ]
  },
  {
   "cell_type": "code",
   "execution_count": 319,
   "id": "99a08238-94c8-49c7-9ae6-619195e1bf8b",
   "metadata": {
    "ExecuteTime": {
     "end_time": "2023-05-12T01:26:32.774105Z",
     "start_time": "2023-05-12T01:26:32.751900Z"
    }
   },
   "outputs": [],
   "source": [
    "from mpg.games import mpg\n"
   ]
  },
  {
   "cell_type": "code",
   "execution_count": 320,
   "id": "fe3b00ac-bf51-4eff-aef8-f1133467addf",
   "metadata": {
    "ExecuteTime": {
     "end_time": "2023-05-12T01:26:33.322302Z",
     "start_time": "2023-05-12T01:26:33.258487Z"
    }
   },
   "outputs": [],
   "source": [
    "from mpg.games import strategy,mpg\n",
    "from mpg.rl import model_free,environment as rl_env\n",
    "import importlib\n",
    "importlib.reload(strategy)\n",
    "importlib.reload(mpg)\n",
    "importlib.reload(model_free)\n",
    "importlib.reload(rl_env)\n",
    "G=mpg.mpg_from_file(\"data/test01.in\",ignore_header=1)\n",
    "G\n",
    "environment = rl_env.MPGEnvironment(G,0,0,10,bad_action_penalty=None)\n",
    "#utils.validate_py_environment(environment, episodes=5)"
   ]
  },
  {
   "cell_type": "code",
   "execution_count": 321,
   "id": "2bb6e23e-4fa9-4bec-80c5-49d34c162457",
   "metadata": {
    "ExecuteTime": {
     "end_time": "2023-05-12T01:26:34.202025Z",
     "start_time": "2023-05-12T01:26:34.167708Z"
    }
   },
   "outputs": [
    {
     "data": {
      "text/plain": [
       "ArraySpec(shape=(), dtype=dtype('float32'), name='reward')"
      ]
     },
     "execution_count": 321,
     "metadata": {},
     "output_type": "execute_result"
    }
   ],
   "source": [
    "environment.reward_spec()"
   ]
  },
  {
   "cell_type": "code",
   "execution_count": 322,
   "id": "69c18508-d3b6-41d1-93a0-bdb8f91e44c1",
   "metadata": {
    "ExecuteTime": {
     "end_time": "2023-05-12T01:26:35.592708Z",
     "start_time": "2023-05-12T01:26:35.584564Z"
    }
   },
   "outputs": [],
   "source": [
    "environment = rl_env.MPGEnvironment(G,1,0,max_turns=100,bad_action_penalty=-1000)"
   ]
  },
  {
   "cell_type": "code",
   "execution_count": 323,
   "id": "e7c5a12d-fc56-4a35-9581-9b48512b016c",
   "metadata": {
    "ExecuteTime": {
     "end_time": "2023-05-12T01:26:36.245614Z",
     "start_time": "2023-05-12T01:26:36.238562Z"
    }
   },
   "outputs": [],
   "source": [
    "fixed_env=rl_env.FixedStrategyMPGEnvironment(environment,strategy.GreedyStrategy(environment.graph,turn=mpg.MeanPayoffGraph.player1))\n",
    "fixed_env.reset()\n",
    "agent=model_free.RLearningAgent(fixed_env)\n",
    "fo_env=rl_env.FullyObservableMPGEnvironment(fixed_env)"
   ]
  },
  {
   "cell_type": "code",
   "execution_count": 324,
   "id": "3dfb546b-8732-4abc-8896-c321992e74b9",
   "metadata": {
    "ExecuteTime": {
     "end_time": "2023-05-12T01:26:39.708070Z",
     "start_time": "2023-05-12T01:26:39.701952Z"
    }
   },
   "outputs": [],
   "source": [
    "environment._vertex=np.array(0)"
   ]
  },
  {
   "cell_type": "code",
   "execution_count": 325,
   "id": "85b13569-779a-42dd-a437-8f48aa510c19",
   "metadata": {
    "ExecuteTime": {
     "end_time": "2023-05-12T01:26:42.240449Z",
     "start_time": "2023-05-12T01:26:42.230151Z"
    }
   },
   "outputs": [
    {
     "data": {
      "text/plain": [
       "{1: 2, 5: 5, 3: 5, 4: 5}"
      ]
     },
     "execution_count": 325,
     "metadata": {},
     "output_type": "execute_result"
    }
   ],
   "source": [
    "{1:2,5:5,3:5,4:5}"
   ]
  },
  {
   "cell_type": "code",
   "execution_count": 326,
   "id": "5d3abf8f-970a-44e6-962f-f35e7848b07e",
   "metadata": {
    "ExecuteTime": {
     "end_time": "2023-05-12T01:26:43.495649Z",
     "start_time": "2023-05-12T01:26:43.486393Z"
    }
   },
   "outputs": [],
   "source": [
    "A={0:np.zeros(5),1:np.zeros(5)}"
   ]
  },
  {
   "cell_type": "code",
   "execution_count": 327,
   "id": "97bc5002-c85e-467c-8cd1-12520662e978",
   "metadata": {
    "ExecuteTime": {
     "end_time": "2023-05-12T01:26:44.259762Z",
     "start_time": "2023-05-12T01:26:44.247105Z"
    }
   },
   "outputs": [
    {
     "data": {
      "text/plain": [
       "0.0"
      ]
     },
     "execution_count": 327,
     "metadata": {},
     "output_type": "execute_result"
    }
   ],
   "source": [
    "A[1][1]"
   ]
  },
  {
   "cell_type": "code",
   "execution_count": 328,
   "id": "35401ede-5ea1-41ae-854d-523ac1fba58c",
   "metadata": {
    "ExecuteTime": {
     "end_time": "2023-05-12T01:26:51.584753Z",
     "start_time": "2023-05-12T01:26:51.550378Z"
    }
   },
   "outputs": [
    {
     "data": {
      "application/vnd.jupyter.widget-view+json": {
       "model_id": "72757a9022d642ed8db189e0d3e55362",
       "version_major": 2,
       "version_minor": 0
      },
      "text/plain": [
       "MPGVisualisation(layout=Layout(height='500px', width='100%'))"
      ]
     },
     "metadata": {},
     "output_type": "display_data"
    }
   ],
   "source": [
    "from mpg.visualisation import game as vgame\n",
    "VG=vgame.MPGVisualisation(G)\n",
    "VG"
   ]
  },
  {
   "cell_type": "code",
   "execution_count": 329,
   "id": "48b7587a-d4d1-4aca-a8be-6ceb1bce0753",
   "metadata": {
    "ExecuteTime": {
     "end_time": "2023-05-12T01:26:52.423929Z",
     "start_time": "2023-05-12T01:26:52.405541Z"
    }
   },
   "outputs": [
    {
     "data": {
      "text/plain": [
       "<module 'mpg.rl.architectures.example' from '/home/ramizouari/Academic/AI/MeanPayOffGames/notebooks/mpg/rl/architectures/example.py'>"
      ]
     },
     "execution_count": 329,
     "metadata": {},
     "output_type": "execute_result"
    }
   ],
   "source": [
    "importlib.reload(rl_env)\n",
    "import mpg.rl.driver as rl_driver\n",
    "importlib.reload(rl_driver)\n",
    "import tf_agents as tfa\n",
    "import mpg.rl.replay_buffers as rl_replay\n",
    "importlib.reload(rl_replay)\n",
    "import mpg.rl.agents as rl_agents\n",
    "importlib.reload(rl_agents)\n",
    "import mpg.rl.architectures.example as rl_arch\n",
    "importlib.reload(rl_arch)\n"
   ]
  },
  {
   "cell_type": "code",
   "execution_count": 330,
   "id": "1c65aa2c-e06e-44cc-a71c-9369436afab9",
   "metadata": {
    "ExecuteTime": {
     "end_time": "2023-05-12T01:26:53.217770Z",
     "start_time": "2023-05-12T01:26:53.173918Z"
    }
   },
   "outputs": [
    {
     "data": {
      "text/plain": [
       "ArraySpec(shape=(2, 8, 8), dtype=dtype('float32'), name=None)"
      ]
     },
     "execution_count": 330,
     "metadata": {},
     "output_type": "execute_result"
    }
   ],
   "source": [
    "importlib.reload(rl_env)\n",
    "E=rl_env.MPGMatrixExtractor(matrix=\"both\",graph_size=8)\n",
    "E.get_env_specs(fixed_env)"
   ]
  },
  {
   "cell_type": "code",
   "execution_count": 331,
   "id": "1d7bfa91-8c3b-43e2-9447-49cae8407420",
   "metadata": {
    "ExecuteTime": {
     "end_time": "2023-05-12T01:26:54.618005Z",
     "start_time": "2023-05-12T01:26:54.609786Z"
    }
   },
   "outputs": [
    {
     "data": {
      "text/plain": [
       "array([[[ 0.,  1.,  0.,  0.,  0.,  0.,  0.,  0.],\n",
       "        [ 0.,  0.,  1.,  0.,  1.,  0.,  0.,  0.],\n",
       "        [ 0.,  0.,  0.,  1.,  0.,  0.,  0.,  0.],\n",
       "        [ 0.,  0.,  0.,  0.,  0.,  0.,  1.,  1.],\n",
       "        [ 0.,  0.,  0.,  0.,  0.,  1.,  0.,  0.],\n",
       "        [ 0.,  0.,  0.,  0.,  0.,  0.,  1.,  1.],\n",
       "        [ 0.,  1.,  0.,  0.,  0.,  0.,  0.,  0.],\n",
       "        [ 0.,  1.,  0.,  0.,  0.,  0.,  0.,  0.]],\n",
       "\n",
       "       [[ 0.,  5.,  0.,  0.,  0.,  0.,  0.,  0.],\n",
       "        [ 0.,  0.,  5.,  0.,  4.,  0.,  0.,  0.],\n",
       "        [ 0.,  0.,  0., -7.,  0.,  0.,  0.,  0.],\n",
       "        [ 0.,  0.,  0.,  0.,  0.,  0.,  5.,  0.],\n",
       "        [ 0.,  0.,  0.,  0.,  0., -3.,  0.,  0.],\n",
       "        [ 0.,  0.,  0.,  0.,  0.,  0.,  3.,  0.],\n",
       "        [ 0., -3.,  0.,  0.,  0.,  0.,  0.,  0.],\n",
       "        [ 0.,  0.,  0.,  0.,  0.,  0.,  0.,  0.]]], dtype=float32)"
      ]
     },
     "execution_count": 331,
     "metadata": {},
     "output_type": "execute_result"
    }
   ],
   "source": [
    "E(fixed_env)"
   ]
  },
  {
   "cell_type": "code",
   "execution_count": 332,
   "id": "28758e61-549b-471f-af4c-49fc57c60701",
   "metadata": {
    "ExecuteTime": {
     "end_time": "2023-05-12T01:26:55.658355Z",
     "start_time": "2023-05-12T01:26:55.614671Z"
    }
   },
   "outputs": [],
   "source": [
    "optimizer=tf.keras.optimizers.Adam()\n",
    "\n",
    "converter=rl_env.MPGTrajectoryConverter(fixed_env,E)\n",
    "\n",
    "qnet=tfa.networks.q_network.QNetwork(\n",
    "    input_tensor_spec=converter.data_spec[\"environment\"],\n",
    "    action_spec=fixed_env.action_spec(),\n",
    "    preprocessing_layers=None,\n",
    "    preprocessing_combiner=None,\n",
    "    conv_layer_params=None,\n",
    "    fc_layer_params=(75, 40),\n",
    "    dropout_layer_params=None,\n",
    "    activation_fn=tf.keras.activations.relu,\n",
    "    kernel_initializer=None,\n",
    "    batch_squash=True,\n",
    "    dtype=tf.float32,\n",
    "    q_layer_activation_fn=None,\n",
    "    name='QNetwork'\n",
    ")\n",
    "\n"
   ]
  },
  {
   "cell_type": "code",
   "execution_count": 362,
   "id": "dbbe210f-aba1-42af-9b45-2ef3d8500b36",
   "metadata": {
    "ExecuteTime": {
     "end_time": "2023-05-12T01:26:59.559488Z",
     "start_time": "2023-05-12T01:26:59.553975Z"
    }
   },
   "outputs": [],
   "source": [
    "#buffer=rl_replay.MPGMatrixBuffer(converter.data_spec[\"environment\"],10)\n",
    "from mpg.rl import observers as rl_observer\n",
    "from mpg.rl import utils as rl_utils\n",
    "importlib.reload(rl_observer)\n",
    "importlib.reload(rl_utils)\n",
    "train_env=tfa.environments.tf_py_environment.TFPyEnvironment(fo_env)\n",
    "T=tfa.specs.tensor_spec.add_outer_dims_nest(\n",
    "    train_env.time_step_spec(), [1]\n",
    ")\n",
    "A=tfa.specs.tensor_spec.add_outer_dims_nest(\n",
    "    train_env.action_spec(), [1]\n",
    ")\n",
    "O=tfa.specs.tensor_spec.add_outer_dims_nest(\n",
    "    train_env.observation_spec(), [1]\n",
    ")\n",
    "\n",
    "\n",
    "def normal_splitter(observation):\n",
    "    if isinstance(observation[\"state\"],tfa.specs.TensorSpec):\n",
    "        return observation,tf.TensorSpec(shape=(tf.cast(observation[\"state\"].maximum,dtype=tf.int32)+1,))\n",
    "    C=tf.gather_nd(observation[\"environment\"],tf.concat([tf.constant([0,0]),tf.cast(observation[\"state\"],dtype=tf.int32)],0))\n",
    "    return observation,tf.reshape(C,shape=(1,-1))\n",
    "net=rl_arch.MPGNetworkExample(O,fo_env.count_vertices)\n",
    "splitter=rl_utils.MPGActionConstraintSplitter()\n",
    "agent=tfa.agents.DqnAgent(\n",
    "    time_step_spec=train_env.time_step_spec(),\n",
    "    action_spec= train_env.action_spec(),\n",
    "    q_network= net,\n",
    "    optimizer= optimizer,\n",
    "    observation_and_action_constraint_splitter= splitter,\n",
    "    epsilon_greedy= 0.1,\n",
    "    n_step_update = 3,\n",
    "#    training_data_spec= converter.data_spec\n",
    ")\n",
    "buffer=tfa.replay_buffers.tf_uniform_replay_buffer.TFUniformReplayBuffer(agent.collect_data_spec,batch_size=1,max_length=3)\n",
    "driver=rl_driver.MPGDriver(train_env,agent.collect_policy,total_observers=[],partial_observers=[buffer.add_batch,rl_observer.PrinterObserver()],num_episodes=10,max_steps=3)"
   ]
  },
  {
   "cell_type": "code",
   "execution_count": 363,
   "id": "b9558aa8-671c-49bf-9707-088b1f6dedc9",
   "metadata": {
    "ExecuteTime": {
     "end_time": "2023-05-12T01:34:39.768404Z",
     "start_time": "2023-05-12T01:31:01.615688Z"
    },
    "tags": []
   },
   "outputs": [
    {
     "name": "stdout",
     "output_type": "stream",
     "text": [
      "S:[1], A:[4]\n",
      "S:[5], A:[7]\n",
      "S:[1], A:[4]\n",
      "S:[5], A:[7]\n",
      "S:[1], A:[4]\n",
      "S:[5], A:[7]\n",
      "S:[1], A:[4]\n",
      "S:[5], A:[7]\n",
      "S:[1], A:[4]\n",
      "S:[5], A:[7]\n",
      "S:[1], A:[4]\n",
      "S:[5], A:[7]\n",
      "S:[1], A:[4]\n",
      "S:[5], A:[7]\n",
      "S:[1], A:[4]\n",
      "S:[5], A:[7]\n",
      "S:[1], A:[4]\n",
      "S:[5], A:[7]\n",
      "S:[1], A:[4]\n",
      "S:[5], A:[7]\n",
      "S:[1], A:[4]\n",
      "S:[5], A:[7]\n",
      "S:[1], A:[4]\n",
      "S:[5], A:[7]\n",
      "S:[1], A:[4]\n",
      "S:[5], A:[7]\n",
      "S:[1], A:[4]\n",
      "S:[5], A:[7]\n",
      "S:[1], A:[4]\n",
      "S:[5], A:[7]\n",
      "S:[1], A:[4]\n",
      "S:[5], A:[7]\n",
      "S:[1], A:[4]\n",
      "S:[5], A:[7]\n",
      "S:[1], A:[4]\n",
      "S:[5], A:[7]\n",
      "S:[1], A:[4]\n",
      "S:[5], A:[7]\n",
      "S:[1], A:[4]\n",
      "S:[5], A:[7]\n",
      "S:[1], A:[4]\n",
      "S:[5], A:[7]\n",
      "S:[1], A:[4]\n",
      "S:[5], A:[6]\n",
      "S:[1], A:[4]\n",
      "S:[5], A:[7]\n",
      "S:[1], A:[4]\n",
      "S:[5], A:[6]\n",
      "S:[1], A:[4]\n",
      "S:[5], A:[7]\n",
      "S:[1], A:[4]\n",
      "S:[1], A:[4]\n",
      "S:[5], A:[7]\n",
      "S:[1], A:[4]\n",
      "S:[5], A:[7]\n",
      "S:[1], A:[4]\n",
      "S:[5], A:[7]\n",
      "S:[1], A:[4]\n",
      "S:[5], A:[7]\n",
      "S:[1], A:[2]\n",
      "S:[3], A:[7]\n",
      "S:[1], A:[4]\n",
      "S:[5], A:[7]\n",
      "S:[1], A:[4]\n",
      "S:[5], A:[7]\n",
      "S:[1], A:[4]\n",
      "S:[5], A:[7]\n",
      "S:[1], A:[4]\n",
      "S:[5], A:[7]\n",
      "S:[1], A:[4]\n",
      "S:[5], A:[7]\n",
      "S:[1], A:[4]\n",
      "S:[5], A:[7]\n",
      "S:[1], A:[4]\n",
      "S:[5], A:[7]\n",
      "S:[1], A:[4]\n",
      "S:[5], A:[7]\n",
      "S:[1], A:[4]\n",
      "S:[5], A:[7]\n",
      "S:[1], A:[4]\n",
      "S:[5], A:[7]\n",
      "S:[1], A:[4]\n",
      "S:[5], A:[7]\n",
      "S:[1], A:[4]\n",
      "S:[5], A:[7]\n",
      "S:[1], A:[4]\n",
      "S:[5], A:[7]\n",
      "S:[1], A:[4]\n",
      "S:[5], A:[7]\n",
      "S:[1], A:[4]\n",
      "S:[5], A:[7]\n",
      "S:[1], A:[4]\n",
      "S:[5], A:[7]\n",
      "S:[1], A:[4]\n",
      "S:[5], A:[6]\n",
      "S:[1], A:[4]\n",
      "S:[5], A:[7]\n",
      "S:[1], A:[4]\n",
      "S:[5], A:[7]\n",
      "S:[1], A:[4]\n",
      "S:[5], A:[7]\n",
      "S:[1], A:[4]\n",
      "S:[1], A:[4]\n",
      "S:[5], A:[6]\n",
      "S:[1], A:[4]\n",
      "S:[5], A:[7]\n",
      "S:[1], A:[4]\n",
      "S:[5], A:[7]\n",
      "S:[1], A:[4]\n",
      "S:[5], A:[7]\n",
      "S:[1], A:[4]\n",
      "S:[5], A:[7]\n",
      "S:[1], A:[4]\n",
      "S:[5], A:[6]\n",
      "S:[1], A:[4]\n",
      "S:[5], A:[6]\n",
      "S:[1], A:[4]\n",
      "S:[5], A:[7]\n",
      "S:[1], A:[4]\n",
      "S:[5], A:[7]\n",
      "S:[1], A:[4]\n",
      "S:[5], A:[6]\n",
      "S:[1], A:[4]\n",
      "S:[5], A:[7]\n",
      "S:[1], A:[4]\n",
      "S:[5], A:[7]\n",
      "S:[1], A:[4]\n",
      "S:[5], A:[7]\n",
      "S:[1], A:[4]\n",
      "S:[5], A:[7]\n",
      "S:[1], A:[4]\n",
      "S:[5], A:[7]\n",
      "S:[1], A:[4]\n",
      "S:[5], A:[7]\n",
      "S:[1], A:[4]\n",
      "S:[5], A:[7]\n",
      "S:[1], A:[4]\n",
      "S:[5], A:[7]\n",
      "S:[1], A:[4]\n",
      "S:[5], A:[7]\n",
      "S:[1], A:[4]\n",
      "S:[5], A:[7]\n",
      "S:[1], A:[4]\n",
      "S:[5], A:[7]\n",
      "S:[1], A:[4]\n",
      "S:[5], A:[7]\n",
      "S:[1], A:[4]\n",
      "S:[5], A:[7]\n",
      "S:[1], A:[4]\n",
      "S:[5], A:[7]\n",
      "S:[1], A:[4]\n",
      "S:[5], A:[7]\n",
      "S:[1], A:[4]\n",
      "S:[1], A:[4]\n",
      "S:[5], A:[7]\n",
      "S:[1], A:[4]\n",
      "S:[5], A:[7]\n",
      "S:[1], A:[4]\n",
      "S:[5], A:[7]\n",
      "S:[1], A:[2]\n",
      "S:[3], A:[7]\n",
      "S:[1], A:[4]\n",
      "S:[5], A:[7]\n",
      "S:[1], A:[4]\n",
      "S:[5], A:[7]\n",
      "S:[1], A:[4]\n",
      "S:[5], A:[7]\n",
      "S:[1], A:[4]\n",
      "S:[5], A:[7]\n",
      "S:[1], A:[4]\n",
      "S:[5], A:[7]\n",
      "S:[1], A:[4]\n",
      "S:[5], A:[7]\n",
      "S:[1], A:[4]\n",
      "S:[5], A:[7]\n",
      "S:[1], A:[4]\n",
      "S:[5], A:[7]\n",
      "S:[1], A:[4]\n",
      "S:[5], A:[7]\n",
      "S:[1], A:[4]\n",
      "S:[5], A:[7]\n",
      "S:[1], A:[4]\n",
      "S:[5], A:[7]\n",
      "S:[1], A:[4]\n",
      "S:[5], A:[7]\n",
      "S:[1], A:[4]\n",
      "S:[5], A:[7]\n",
      "S:[1], A:[4]\n",
      "S:[5], A:[7]\n",
      "S:[1], A:[4]\n",
      "S:[5], A:[7]\n",
      "S:[1], A:[4]\n",
      "S:[5], A:[7]\n",
      "S:[1], A:[4]\n",
      "S:[5], A:[7]\n",
      "S:[1], A:[4]\n",
      "S:[5], A:[7]\n",
      "S:[1], A:[4]\n",
      "S:[5], A:[7]\n",
      "S:[1], A:[4]\n",
      "S:[5], A:[6]\n",
      "S:[1], A:[4]\n",
      "S:[5], A:[7]\n",
      "S:[1], A:[4]\n",
      "S:[1], A:[4]\n",
      "S:[5], A:[7]\n",
      "S:[1], A:[4]\n",
      "S:[5], A:[7]\n",
      "S:[1], A:[4]\n",
      "S:[5], A:[7]\n",
      "S:[1], A:[4]\n",
      "S:[5], A:[7]\n",
      "S:[1], A:[4]\n",
      "S:[5], A:[7]\n",
      "S:[1], A:[4]\n",
      "S:[5], A:[7]\n",
      "S:[1], A:[4]\n",
      "S:[5], A:[7]\n",
      "S:[1], A:[4]\n",
      "S:[5], A:[7]\n",
      "S:[1], A:[4]\n",
      "S:[5], A:[7]\n",
      "S:[1], A:[4]\n",
      "S:[5], A:[6]\n",
      "S:[1], A:[4]\n",
      "S:[5], A:[7]\n",
      "S:[1], A:[4]\n",
      "S:[5], A:[7]\n",
      "S:[1], A:[4]\n",
      "S:[5], A:[7]\n",
      "S:[1], A:[4]\n",
      "S:[5], A:[7]\n",
      "S:[1], A:[4]\n",
      "S:[5], A:[7]\n",
      "S:[1], A:[4]\n",
      "S:[5], A:[7]\n",
      "S:[1], A:[4]\n",
      "S:[5], A:[7]\n",
      "S:[1], A:[4]\n",
      "S:[5], A:[7]\n",
      "S:[1], A:[4]\n",
      "S:[5], A:[7]\n",
      "S:[1], A:[4]\n",
      "S:[5], A:[7]\n",
      "S:[1], A:[4]\n",
      "S:[5], A:[7]\n",
      "S:[1], A:[4]\n",
      "S:[5], A:[7]\n",
      "S:[1], A:[4]\n",
      "S:[5], A:[7]\n",
      "S:[1], A:[4]\n",
      "S:[5], A:[7]\n",
      "S:[1], A:[4]\n",
      "S:[5], A:[7]\n",
      "S:[1], A:[4]\n",
      "S:[1], A:[4]\n",
      "S:[5], A:[7]\n",
      "S:[1], A:[2]\n",
      "S:[3], A:[7]\n",
      "S:[1], A:[4]\n",
      "S:[5], A:[7]\n",
      "S:[1], A:[4]\n",
      "S:[5], A:[7]\n",
      "S:[1], A:[4]\n",
      "S:[5], A:[7]\n",
      "S:[1], A:[4]\n",
      "S:[5], A:[7]\n",
      "S:[1], A:[4]\n",
      "S:[5], A:[7]\n",
      "S:[1], A:[4]\n",
      "S:[5], A:[7]\n",
      "S:[1], A:[4]\n",
      "S:[5], A:[7]\n",
      "S:[1], A:[4]\n",
      "S:[5], A:[7]\n",
      "S:[1], A:[4]\n",
      "S:[5], A:[7]\n",
      "S:[1], A:[4]\n",
      "S:[5], A:[6]\n",
      "S:[1], A:[4]\n",
      "S:[5], A:[7]\n",
      "S:[1], A:[4]\n",
      "S:[5], A:[7]\n",
      "S:[1], A:[4]\n",
      "S:[5], A:[7]\n",
      "S:[1], A:[4]\n",
      "S:[5], A:[7]\n",
      "S:[1], A:[4]\n",
      "S:[5], A:[7]\n",
      "S:[1], A:[4]\n",
      "S:[5], A:[7]\n",
      "S:[1], A:[4]\n",
      "S:[5], A:[7]\n",
      "S:[1], A:[4]\n",
      "S:[5], A:[7]\n",
      "S:[1], A:[2]\n",
      "S:[3], A:[7]\n",
      "S:[1], A:[4]\n",
      "S:[5], A:[7]\n",
      "S:[1], A:[4]\n",
      "S:[5], A:[7]\n",
      "S:[1], A:[4]\n",
      "S:[5], A:[7]\n",
      "S:[1], A:[4]\n",
      "S:[5], A:[7]\n",
      "S:[1], A:[4]\n",
      "S:[1], A:[4]\n",
      "S:[5], A:[7]\n",
      "S:[1], A:[2]\n",
      "S:[3], A:[6]\n",
      "S:[1], A:[4]\n",
      "S:[5], A:[7]\n",
      "S:[1], A:[2]\n",
      "S:[3], A:[7]\n",
      "S:[1], A:[4]\n",
      "S:[5], A:[7]\n",
      "S:[1], A:[4]\n",
      "S:[5], A:[7]\n",
      "S:[1], A:[4]\n",
      "S:[5], A:[7]\n",
      "S:[1], A:[4]\n",
      "S:[5], A:[6]\n",
      "S:[1], A:[4]\n",
      "S:[5], A:[7]\n",
      "S:[1], A:[4]\n",
      "S:[5], A:[7]\n",
      "S:[1], A:[4]\n",
      "S:[5], A:[7]\n",
      "S:[1], A:[4]\n",
      "S:[5], A:[7]\n",
      "S:[1], A:[4]\n",
      "S:[5], A:[7]\n",
      "S:[1], A:[4]\n",
      "S:[5], A:[7]\n",
      "S:[1], A:[4]\n",
      "S:[5], A:[6]\n",
      "S:[1], A:[4]\n",
      "S:[5], A:[7]\n",
      "S:[1], A:[2]\n",
      "S:[3], A:[7]\n",
      "S:[1], A:[4]\n",
      "S:[5], A:[7]\n",
      "S:[1], A:[4]\n",
      "S:[5], A:[7]\n",
      "S:[1], A:[4]\n",
      "S:[5], A:[7]\n",
      "S:[1], A:[4]\n",
      "S:[5], A:[7]\n",
      "S:[1], A:[4]\n",
      "S:[5], A:[7]\n",
      "S:[1], A:[4]\n",
      "S:[5], A:[7]\n",
      "S:[1], A:[4]\n",
      "S:[5], A:[7]\n",
      "S:[1], A:[4]\n",
      "S:[5], A:[7]\n",
      "S:[1], A:[4]\n",
      "S:[1], A:[4]\n",
      "S:[5], A:[7]\n",
      "S:[1], A:[4]\n",
      "S:[5], A:[7]\n",
      "S:[1], A:[4]\n",
      "S:[5], A:[7]\n",
      "S:[1], A:[4]\n",
      "S:[5], A:[7]\n",
      "S:[1], A:[4]\n",
      "S:[5], A:[7]\n",
      "S:[1], A:[4]\n",
      "S:[5], A:[7]\n",
      "S:[1], A:[4]\n",
      "S:[5], A:[7]\n",
      "S:[1], A:[4]\n",
      "S:[5], A:[7]\n",
      "S:[1], A:[4]\n",
      "S:[5], A:[7]\n",
      "S:[1], A:[4]\n",
      "S:[5], A:[7]\n",
      "S:[1], A:[4]\n",
      "S:[5], A:[7]\n",
      "S:[1], A:[4]\n",
      "S:[5], A:[7]\n",
      "S:[1], A:[4]\n",
      "S:[5], A:[7]\n",
      "S:[1], A:[4]\n",
      "S:[5], A:[7]\n",
      "S:[1], A:[4]\n",
      "S:[5], A:[7]\n",
      "S:[1], A:[4]\n",
      "S:[5], A:[7]\n",
      "S:[1], A:[4]\n",
      "S:[5], A:[7]\n",
      "S:[1], A:[4]\n",
      "S:[5], A:[6]\n",
      "S:[1], A:[4]\n",
      "S:[5], A:[7]\n",
      "S:[1], A:[4]\n",
      "S:[5], A:[7]\n",
      "S:[1], A:[4]\n",
      "S:[5], A:[7]\n",
      "S:[1], A:[4]\n",
      "S:[5], A:[7]\n",
      "S:[1], A:[4]\n",
      "S:[5], A:[7]\n",
      "S:[1], A:[4]\n",
      "S:[5], A:[7]\n",
      "S:[1], A:[4]\n",
      "S:[5], A:[7]\n",
      "S:[1], A:[4]\n",
      "S:[1], A:[4]\n",
      "S:[5], A:[7]\n",
      "S:[1], A:[4]\n",
      "S:[5], A:[7]\n",
      "S:[1], A:[4]\n",
      "S:[5], A:[6]\n",
      "S:[1], A:[4]\n",
      "S:[5], A:[6]\n",
      "S:[1], A:[4]\n",
      "S:[5], A:[7]\n",
      "S:[1], A:[4]\n",
      "S:[5], A:[7]\n",
      "S:[1], A:[4]\n",
      "S:[5], A:[7]\n",
      "S:[1], A:[4]\n",
      "S:[5], A:[7]\n",
      "S:[1], A:[4]\n",
      "S:[5], A:[7]\n",
      "S:[1], A:[4]\n",
      "S:[5], A:[7]\n",
      "S:[1], A:[4]\n",
      "S:[5], A:[7]\n",
      "S:[1], A:[4]\n",
      "S:[5], A:[7]\n",
      "S:[1], A:[4]\n",
      "S:[5], A:[6]\n",
      "S:[1], A:[4]\n",
      "S:[5], A:[7]\n",
      "S:[1], A:[4]\n",
      "S:[5], A:[7]\n",
      "S:[1], A:[4]\n",
      "S:[5], A:[7]\n",
      "S:[1], A:[4]\n",
      "S:[5], A:[7]\n",
      "S:[1], A:[4]\n",
      "S:[5], A:[7]\n",
      "S:[1], A:[4]\n",
      "S:[5], A:[7]\n",
      "S:[1], A:[4]\n",
      "S:[5], A:[7]\n",
      "S:[1], A:[4]\n",
      "S:[5], A:[7]\n",
      "S:[1], A:[4]\n",
      "S:[5], A:[6]\n",
      "S:[1], A:[4]\n",
      "S:[5], A:[7]\n",
      "S:[1], A:[4]\n",
      "S:[5], A:[7]\n",
      "S:[1], A:[4]\n",
      "S:[5], A:[6]\n",
      "S:[1], A:[4]\n",
      "S:[1], A:[2]\n",
      "S:[3], A:[7]\n",
      "S:[1], A:[4]\n",
      "S:[5], A:[7]\n",
      "S:[1], A:[4]\n",
      "S:[5], A:[7]\n",
      "S:[1], A:[4]\n",
      "S:[5], A:[7]\n",
      "S:[1], A:[4]\n",
      "S:[5], A:[7]\n",
      "S:[1], A:[4]\n",
      "S:[5], A:[7]\n",
      "S:[1], A:[4]\n",
      "S:[5], A:[7]\n",
      "S:[1], A:[4]\n",
      "S:[5], A:[7]\n",
      "S:[1], A:[4]\n",
      "S:[5], A:[7]\n",
      "S:[1], A:[4]\n",
      "S:[5], A:[7]\n",
      "S:[1], A:[2]\n",
      "S:[3], A:[7]\n",
      "S:[1], A:[4]\n",
      "S:[5], A:[7]\n",
      "S:[1], A:[4]\n",
      "S:[5], A:[7]\n",
      "S:[1], A:[4]\n",
      "S:[5], A:[7]\n",
      "S:[1], A:[4]\n",
      "S:[5], A:[7]\n",
      "S:[1], A:[4]\n",
      "S:[5], A:[7]\n",
      "S:[1], A:[4]\n",
      "S:[5], A:[7]\n",
      "S:[1], A:[4]\n",
      "S:[5], A:[7]\n",
      "S:[1], A:[2]\n",
      "S:[3], A:[7]\n",
      "S:[1], A:[4]\n",
      "S:[5], A:[7]\n",
      "S:[1], A:[4]\n",
      "S:[5], A:[7]\n",
      "S:[1], A:[4]\n",
      "S:[5], A:[7]\n",
      "S:[1], A:[4]\n",
      "S:[5], A:[7]\n",
      "S:[1], A:[2]\n",
      "S:[3], A:[7]\n",
      "S:[1], A:[4]\n",
      "S:[5], A:[6]\n",
      "S:[1], A:[4]\n",
      "S:[1], A:[4]\n"
     ]
    },
    {
     "data": {
      "text/plain": [
       "(TimeStep(\n",
       " {'discount': <tf.Tensor: shape=(1,), dtype=float32, numpy=array([1.], dtype=float32)>,\n",
       "  'observation': {'environment': <tf.Tensor: shape=(1, 2, 8, 8), dtype=float32, numpy=\n",
       " array([[[[ 0.,  1.,  0.,  0.,  0.,  0.,  0.,  0.],\n",
       "          [ 0.,  0.,  1.,  0.,  1.,  0.,  0.,  0.],\n",
       "          [ 0.,  0.,  0.,  1.,  0.,  0.,  0.,  0.],\n",
       "          [ 0.,  0.,  0.,  0.,  0.,  0.,  1.,  1.],\n",
       "          [ 0.,  0.,  0.,  0.,  0.,  1.,  0.,  0.],\n",
       "          [ 0.,  0.,  0.,  0.,  0.,  0.,  1.,  1.],\n",
       "          [ 0.,  1.,  0.,  0.,  0.,  0.,  0.,  0.],\n",
       "          [ 0.,  1.,  0.,  0.,  0.,  0.,  0.,  0.]],\n",
       " \n",
       "         [[ 0.,  5.,  0.,  0.,  0.,  0.,  0.,  0.],\n",
       "          [ 0.,  0.,  5.,  0.,  4.,  0.,  0.,  0.],\n",
       "          [ 0.,  0.,  0., -7.,  0.,  0.,  0.,  0.],\n",
       "          [ 0.,  0.,  0.,  0.,  0.,  0.,  5.,  0.],\n",
       "          [ 0.,  0.,  0.,  0.,  0., -3.,  0.,  0.],\n",
       "          [ 0.,  0.,  0.,  0.,  0.,  0.,  3.,  0.],\n",
       "          [ 0., -3.,  0.,  0.,  0.,  0.,  0.,  0.],\n",
       "          [ 0.,  0.,  0.,  0.,  0.,  0.,  0.,  0.]]]], dtype=float32)>,\n",
       "                  'state': <tf.Tensor: shape=(1,), dtype=int32, numpy=array([5], dtype=int32)>},\n",
       "  'reward': <tf.Tensor: shape=(1,), dtype=float32, numpy=array([1.], dtype=float32)>,\n",
       "  'step_type': <tf.Tensor: shape=(1,), dtype=int32, numpy=array([1], dtype=int32)>}),\n",
       " ())"
      ]
     },
     "execution_count": 363,
     "metadata": {},
     "output_type": "execute_result"
    }
   ],
   "source": [
    "import traceback\n",
    "driver.run(train_env.reset())"
   ]
  },
  {
   "cell_type": "code",
   "execution_count": null,
   "id": "f3aff162-250b-4ce3-abfc-49a70002aec2",
   "metadata": {
    "tags": []
   },
   "outputs": [],
   "source": [
    "t0=tfa.trajectories.time_step.TimeStep(step_type=np.array(tfa.trajectories.time_step.StepType.FIRST),observation=np.array(0),reward=np.array(0),discount=np.array(1))\n",
    "s=tfa.trajectories.PolicyStep(action=np.array(0))\n",
    "t1=tfa.trajectories.time_step.TimeStep(step_type=tfa.trajectories.time_step.StepType.FIRST,observation=np.array(0),reward=0,discount=1)\n",
    "#driver.observers[0](tfa.trajectories.from_transition(t0,s,t1))"
   ]
  },
  {
   "cell_type": "code",
   "execution_count": null,
   "id": "80ecb9d2-b1b4-4df0-b927-7b9e4661f6ba",
   "metadata": {},
   "outputs": [],
   "source": [
    "agent.collect_data_spec"
   ]
  },
  {
   "cell_type": "code",
   "execution_count": null,
   "id": "d4ab7772-0da8-4eb5-8b86-099b94944f77",
   "metadata": {},
   "outputs": [],
   "source": [
    "train_env.observation_spec()\n"
   ]
  },
  {
   "cell_type": "code",
   "execution_count": 311,
   "id": "21a5089e-0c72-4975-b0bc-e095dd441b67",
   "metadata": {},
   "outputs": [
    {
     "ename": "InvalidArgumentError",
     "evalue": "{{function_node __wrapped__IteratorGetNext_output_types_9_device_/job:localhost/replica:0/task:0/device:CPU:0}} assertion failed: [TFUniformReplayBuffer is empty. Make sure to add items before sampling the buffer.] [Condition x > y did not hold element-wise:] [x (TFUniformReplayBuffer/get_next/SelectV2_1:0) = ] [0] [y (TFUniformReplayBuffer/get_next/SelectV2:0) = ] [0]\n\t [[{{function_node TFUniformReplayBuffer_get_next_assert_greater_Assert_AssertGuard_false_9950585}}{{node TFUniformReplayBuffer/get_next/assert_greater/Assert/AssertGuard/Assert}}]] [Op:IteratorGetNext]",
     "output_type": "error",
     "traceback": [
      "\u001b[0;31m---------------------------------------------------------------------------\u001b[0m",
      "\u001b[0;31mInvalidArgumentError\u001b[0m                      Traceback (most recent call last)",
      "Cell \u001b[0;32mIn[311], line 1\u001b[0m\n\u001b[0;32m----> 1\u001b[0m \u001b[38;5;28;01mfor\u001b[39;00m k,_ \u001b[38;5;129;01min\u001b[39;00m \u001b[38;5;28menumerate\u001b[39m(buffer\u001b[38;5;241m.\u001b[39mas_dataset()):\n\u001b[1;32m      2\u001b[0m     \u001b[38;5;28mprint\u001b[39m(_[\u001b[38;5;241m0\u001b[39m]\u001b[38;5;241m.\u001b[39mobservation[\u001b[38;5;124m\"\u001b[39m\u001b[38;5;124mstate\u001b[39m\u001b[38;5;124m\"\u001b[39m])\n\u001b[1;32m      3\u001b[0m     \u001b[38;5;28;01mif\u001b[39;00m k \u001b[38;5;241m>\u001b[39m \u001b[38;5;241m100\u001b[39m:\n",
      "File \u001b[0;32m~/anaconda3/envs/stochastic_games/lib/python3.10/site-packages/tensorflow/python/data/ops/iterator_ops.py:787\u001b[0m, in \u001b[0;36mOwnedIterator.__next__\u001b[0;34m(self)\u001b[0m\n\u001b[1;32m    785\u001b[0m \u001b[38;5;28;01mdef\u001b[39;00m \u001b[38;5;21m__next__\u001b[39m(\u001b[38;5;28mself\u001b[39m):\n\u001b[1;32m    786\u001b[0m   \u001b[38;5;28;01mtry\u001b[39;00m:\n\u001b[0;32m--> 787\u001b[0m     \u001b[38;5;28;01mreturn\u001b[39;00m \u001b[38;5;28;43mself\u001b[39;49m\u001b[38;5;241;43m.\u001b[39;49m\u001b[43m_next_internal\u001b[49m\u001b[43m(\u001b[49m\u001b[43m)\u001b[49m\n\u001b[1;32m    788\u001b[0m   \u001b[38;5;28;01mexcept\u001b[39;00m errors\u001b[38;5;241m.\u001b[39mOutOfRangeError:\n\u001b[1;32m    789\u001b[0m     \u001b[38;5;28;01mraise\u001b[39;00m \u001b[38;5;167;01mStopIteration\u001b[39;00m\n",
      "File \u001b[0;32m~/anaconda3/envs/stochastic_games/lib/python3.10/site-packages/tensorflow/python/data/ops/iterator_ops.py:770\u001b[0m, in \u001b[0;36mOwnedIterator._next_internal\u001b[0;34m(self)\u001b[0m\n\u001b[1;32m    767\u001b[0m \u001b[38;5;66;03m# TODO(b/77291417): This runs in sync mode as iterators use an error status\u001b[39;00m\n\u001b[1;32m    768\u001b[0m \u001b[38;5;66;03m# to communicate that there is no more data to iterate over.\u001b[39;00m\n\u001b[1;32m    769\u001b[0m \u001b[38;5;28;01mwith\u001b[39;00m context\u001b[38;5;241m.\u001b[39mexecution_mode(context\u001b[38;5;241m.\u001b[39mSYNC):\n\u001b[0;32m--> 770\u001b[0m   ret \u001b[38;5;241m=\u001b[39m \u001b[43mgen_dataset_ops\u001b[49m\u001b[38;5;241;43m.\u001b[39;49m\u001b[43miterator_get_next\u001b[49m\u001b[43m(\u001b[49m\n\u001b[1;32m    771\u001b[0m \u001b[43m      \u001b[49m\u001b[38;5;28;43mself\u001b[39;49m\u001b[38;5;241;43m.\u001b[39;49m\u001b[43m_iterator_resource\u001b[49m\u001b[43m,\u001b[49m\n\u001b[1;32m    772\u001b[0m \u001b[43m      \u001b[49m\u001b[43moutput_types\u001b[49m\u001b[38;5;241;43m=\u001b[39;49m\u001b[38;5;28;43mself\u001b[39;49m\u001b[38;5;241;43m.\u001b[39;49m\u001b[43m_flat_output_types\u001b[49m\u001b[43m,\u001b[49m\n\u001b[1;32m    773\u001b[0m \u001b[43m      \u001b[49m\u001b[43moutput_shapes\u001b[49m\u001b[38;5;241;43m=\u001b[39;49m\u001b[38;5;28;43mself\u001b[39;49m\u001b[38;5;241;43m.\u001b[39;49m\u001b[43m_flat_output_shapes\u001b[49m\u001b[43m)\u001b[49m\n\u001b[1;32m    775\u001b[0m   \u001b[38;5;28;01mtry\u001b[39;00m:\n\u001b[1;32m    776\u001b[0m     \u001b[38;5;66;03m# Fast path for the case `self._structure` is not a nested structure.\u001b[39;00m\n\u001b[1;32m    777\u001b[0m     \u001b[38;5;28;01mreturn\u001b[39;00m \u001b[38;5;28mself\u001b[39m\u001b[38;5;241m.\u001b[39m_element_spec\u001b[38;5;241m.\u001b[39m_from_compatible_tensor_list(ret)  \u001b[38;5;66;03m# pylint: disable=protected-access\u001b[39;00m\n",
      "File \u001b[0;32m~/anaconda3/envs/stochastic_games/lib/python3.10/site-packages/tensorflow/python/ops/gen_dataset_ops.py:3017\u001b[0m, in \u001b[0;36miterator_get_next\u001b[0;34m(iterator, output_types, output_shapes, name)\u001b[0m\n\u001b[1;32m   3015\u001b[0m   \u001b[38;5;28;01mreturn\u001b[39;00m _result\n\u001b[1;32m   3016\u001b[0m \u001b[38;5;28;01mexcept\u001b[39;00m _core\u001b[38;5;241m.\u001b[39m_NotOkStatusException \u001b[38;5;28;01mas\u001b[39;00m e:\n\u001b[0;32m-> 3017\u001b[0m   \u001b[43m_ops\u001b[49m\u001b[38;5;241;43m.\u001b[39;49m\u001b[43mraise_from_not_ok_status\u001b[49m\u001b[43m(\u001b[49m\u001b[43me\u001b[49m\u001b[43m,\u001b[49m\u001b[43m \u001b[49m\u001b[43mname\u001b[49m\u001b[43m)\u001b[49m\n\u001b[1;32m   3018\u001b[0m \u001b[38;5;28;01mexcept\u001b[39;00m _core\u001b[38;5;241m.\u001b[39m_FallbackException:\n\u001b[1;32m   3019\u001b[0m   \u001b[38;5;28;01mpass\u001b[39;00m\n",
      "File \u001b[0;32m~/anaconda3/envs/stochastic_games/lib/python3.10/site-packages/tensorflow/python/framework/ops.py:7215\u001b[0m, in \u001b[0;36mraise_from_not_ok_status\u001b[0;34m(e, name)\u001b[0m\n\u001b[1;32m   7213\u001b[0m \u001b[38;5;28;01mdef\u001b[39;00m \u001b[38;5;21mraise_from_not_ok_status\u001b[39m(e, name):\n\u001b[1;32m   7214\u001b[0m   e\u001b[38;5;241m.\u001b[39mmessage \u001b[38;5;241m+\u001b[39m\u001b[38;5;241m=\u001b[39m (\u001b[38;5;124m\"\u001b[39m\u001b[38;5;124m name: \u001b[39m\u001b[38;5;124m\"\u001b[39m \u001b[38;5;241m+\u001b[39m name \u001b[38;5;28;01mif\u001b[39;00m name \u001b[38;5;129;01mis\u001b[39;00m \u001b[38;5;129;01mnot\u001b[39;00m \u001b[38;5;28;01mNone\u001b[39;00m \u001b[38;5;28;01melse\u001b[39;00m \u001b[38;5;124m\"\u001b[39m\u001b[38;5;124m\"\u001b[39m)\n\u001b[0;32m-> 7215\u001b[0m   \u001b[38;5;28;01mraise\u001b[39;00m core\u001b[38;5;241m.\u001b[39m_status_to_exception(e) \u001b[38;5;28;01mfrom\u001b[39;00m \u001b[38;5;28mNone\u001b[39m\n",
      "\u001b[0;31mInvalidArgumentError\u001b[0m: {{function_node __wrapped__IteratorGetNext_output_types_9_device_/job:localhost/replica:0/task:0/device:CPU:0}} assertion failed: [TFUniformReplayBuffer is empty. Make sure to add items before sampling the buffer.] [Condition x > y did not hold element-wise:] [x (TFUniformReplayBuffer/get_next/SelectV2_1:0) = ] [0] [y (TFUniformReplayBuffer/get_next/SelectV2:0) = ] [0]\n\t [[{{function_node TFUniformReplayBuffer_get_next_assert_greater_Assert_AssertGuard_false_9950585}}{{node TFUniformReplayBuffer/get_next/assert_greater/Assert/AssertGuard/Assert}}]] [Op:IteratorGetNext]"
     ]
    }
   ],
   "source": [
    "for k,_ in enumerate(buffer.as_dataset()):\n",
    "    print(_[0].observation[\"state\"])\n",
    "    if k > 100:\n",
    "        break"
   ]
  },
  {
   "cell_type": "code",
   "execution_count": null,
   "id": "fc2a9221-ff21-42fd-8b08-084ee9e69384",
   "metadata": {},
   "outputs": [],
   "source": [
    "driver.env.time_step_spec()"
   ]
  },
  {
   "cell_type": "code",
   "execution_count": null,
   "id": "7e0e3f7c-44bd-4215-9769-94e54f7793be",
   "metadata": {},
   "outputs": [],
   "source": [
    "for k,element in enumerate(buffer.as_dataset()):\n",
    "    print(element)\n",
    "    print(f\"****::{k}:****\")\n",
    "    if k > 2:\n",
    "        break"
   ]
  },
  {
   "cell_type": "code",
   "execution_count": null,
   "id": "93104668-991a-43db-807b-d642808cea76",
   "metadata": {},
   "outputs": [],
   "source": [
    "fo_env.batched"
   ]
  },
  {
   "cell_type": "code",
   "execution_count": null,
   "id": "76caa481-6041-4aaf-8725-56a951c32ecd",
   "metadata": {},
   "outputs": [],
   "source": [
    "A=tf.random.uniform(shape=[3,3,3])"
   ]
  },
  {
   "cell_type": "code",
   "execution_count": null,
   "id": "ff114d30-710b-4065-84e8-e0c5c8a6a2a4",
   "metadata": {},
   "outputs": [],
   "source": [
    "A[2,tf.constant(1)]"
   ]
  },
  {
   "cell_type": "code",
   "execution_count": 312,
   "id": "c5652784-8f23-42f5-a8a6-cd75dbcc092e",
   "metadata": {},
   "outputs": [
    {
     "ename": "ValueError",
     "evalue": "Attempt to convert a value ({0: array([0., 0., 0., 0., 0.]), 1: array([0., 0., 0., 0., 0.])}) with an unsupported type (<class 'dict'>) to a Tensor.",
     "output_type": "error",
     "traceback": [
      "\u001b[0;31m---------------------------------------------------------------------------\u001b[0m",
      "\u001b[0;31mValueError\u001b[0m                                Traceback (most recent call last)",
      "Cell \u001b[0;32mIn[312], line 1\u001b[0m\n\u001b[0;32m----> 1\u001b[0m \u001b[43mtf\u001b[49m\u001b[38;5;241;43m.\u001b[39;49m\u001b[43mgather_nd\u001b[49m\u001b[43m(\u001b[49m\u001b[43mA\u001b[49m\u001b[43m,\u001b[49m\u001b[43mtf\u001b[49m\u001b[38;5;241;43m.\u001b[39;49m\u001b[43mconstant\u001b[49m\u001b[43m(\u001b[49m\u001b[43m[\u001b[49m\u001b[43m[\u001b[49m\u001b[38;5;241;43m0\u001b[39;49m\u001b[43m,\u001b[49m\u001b[38;5;241;43m0\u001b[39;49m\u001b[43m,\u001b[49m\u001b[38;5;241;43m0\u001b[39;49m\u001b[43m]\u001b[49m\u001b[43m,\u001b[49m\u001b[43m[\u001b[49m\u001b[38;5;241;43m1\u001b[39;49m\u001b[43m,\u001b[49m\u001b[38;5;241;43m1\u001b[39;49m\u001b[43m,\u001b[49m\u001b[38;5;241;43m1\u001b[39;49m\u001b[43m]\u001b[49m\u001b[43m]\u001b[49m\u001b[43m)\u001b[49m\u001b[43m)\u001b[49m\n",
      "File \u001b[0;32m~/anaconda3/envs/stochastic_games/lib/python3.10/site-packages/tensorflow/python/util/traceback_utils.py:153\u001b[0m, in \u001b[0;36mfilter_traceback.<locals>.error_handler\u001b[0;34m(*args, **kwargs)\u001b[0m\n\u001b[1;32m    151\u001b[0m \u001b[38;5;28;01mexcept\u001b[39;00m \u001b[38;5;167;01mException\u001b[39;00m \u001b[38;5;28;01mas\u001b[39;00m e:\n\u001b[1;32m    152\u001b[0m   filtered_tb \u001b[38;5;241m=\u001b[39m _process_traceback_frames(e\u001b[38;5;241m.\u001b[39m__traceback__)\n\u001b[0;32m--> 153\u001b[0m   \u001b[38;5;28;01mraise\u001b[39;00m e\u001b[38;5;241m.\u001b[39mwith_traceback(filtered_tb) \u001b[38;5;28;01mfrom\u001b[39;00m \u001b[38;5;28mNone\u001b[39m\n\u001b[1;32m    154\u001b[0m \u001b[38;5;28;01mfinally\u001b[39;00m:\n\u001b[1;32m    155\u001b[0m   \u001b[38;5;28;01mdel\u001b[39;00m filtered_tb\n",
      "File \u001b[0;32m~/anaconda3/envs/stochastic_games/lib/python3.10/site-packages/tensorflow/python/framework/constant_op.py:102\u001b[0m, in \u001b[0;36mconvert_to_eager_tensor\u001b[0;34m(value, ctx, dtype)\u001b[0m\n\u001b[1;32m    100\u001b[0m     dtype \u001b[38;5;241m=\u001b[39m dtypes\u001b[38;5;241m.\u001b[39mas_dtype(dtype)\u001b[38;5;241m.\u001b[39mas_datatype_enum\n\u001b[1;32m    101\u001b[0m ctx\u001b[38;5;241m.\u001b[39mensure_initialized()\n\u001b[0;32m--> 102\u001b[0m \u001b[38;5;28;01mreturn\u001b[39;00m \u001b[43mops\u001b[49m\u001b[38;5;241;43m.\u001b[39;49m\u001b[43mEagerTensor\u001b[49m\u001b[43m(\u001b[49m\u001b[43mvalue\u001b[49m\u001b[43m,\u001b[49m\u001b[43m \u001b[49m\u001b[43mctx\u001b[49m\u001b[38;5;241;43m.\u001b[39;49m\u001b[43mdevice_name\u001b[49m\u001b[43m,\u001b[49m\u001b[43m \u001b[49m\u001b[43mdtype\u001b[49m\u001b[43m)\u001b[49m\n",
      "\u001b[0;31mValueError\u001b[0m: Attempt to convert a value ({0: array([0., 0., 0., 0., 0.]), 1: array([0., 0., 0., 0., 0.])}) with an unsupported type (<class 'dict'>) to a Tensor."
     ]
    }
   ],
   "source": [
    "tf.gather_nd(A,tf.constant([[0,0,0],[1,1,1]]))"
   ]
  },
  {
   "cell_type": "code",
   "execution_count": 313,
   "id": "518e6b53-8bb1-452a-9d0b-f5c09cd16f23",
   "metadata": {},
   "outputs": [
    {
     "data": {
      "text/plain": [
       "{0: array([0., 0., 0., 0., 0.]), 1: array([0., 0., 0., 0., 0.])}"
      ]
     },
     "execution_count": 313,
     "metadata": {},
     "output_type": "execute_result"
    }
   ],
   "source": [
    "A"
   ]
  },
  {
   "cell_type": "code",
   "execution_count": 271,
   "id": "820f8e0d-6cab-4ee2-a021-7d5b1eac9d62",
   "metadata": {},
   "outputs": [
    {
     "data": {
      "text/plain": [
       "<tf.Tensor: shape=(), dtype=float32, numpy=0.6443225>"
      ]
     },
     "execution_count": 271,
     "metadata": {},
     "output_type": "execute_result"
    }
   ],
   "source": [
    "A[1,1,1]"
   ]
  },
  {
   "cell_type": "code",
   "execution_count": 339,
   "id": "78882a38-f330-401b-8c5d-e920c4a8ad7a",
   "metadata": {},
   "outputs": [
    {
     "data": {
      "text/plain": [
       "array([[0., 1., 0., 0., 0., 0., 0., 0.],\n",
       "       [0., 0., 1., 0., 1., 0., 0., 0.],\n",
       "       [0., 0., 0., 1., 0., 0., 0., 0.],\n",
       "       [0., 0., 0., 0., 0., 0., 1., 1.],\n",
       "       [0., 0., 0., 0., 0., 1., 0., 0.],\n",
       "       [0., 0., 0., 0., 0., 0., 1., 1.],\n",
       "       [0., 1., 0., 0., 0., 0., 0., 0.],\n",
       "       [0., 1., 0., 0., 0., 0., 0., 0.]], dtype=float32)"
      ]
     },
     "execution_count": 339,
     "metadata": {},
     "output_type": "execute_result"
    }
   ],
   "source": [
    "fo_env.env.graph.adjacency_matrix"
   ]
  },
  {
   "cell_type": "code",
   "execution_count": null,
   "id": "a9c16b77-313d-42c9-909f-2921568c00c2",
   "metadata": {},
   "outputs": [],
   "source": []
  },
  {
   "cell_type": "code",
   "execution_count": null,
   "id": "697805d7-5c40-443b-a48a-0209488843ba",
   "metadata": {},
   "outputs": [],
   "source": []
  }
 ],
 "metadata": {
  "kernelspec": {
   "display_name": "Python 3 (ipykernel)",
   "language": "python",
   "name": "python3"
  },
  "language_info": {
   "codemirror_mode": {
    "name": "ipython",
    "version": 3
   },
   "file_extension": ".py",
   "mimetype": "text/x-python",
   "name": "python",
   "nbconvert_exporter": "python",
   "pygments_lexer": "ipython3",
   "version": "3.10.10"
  }
 },
 "nbformat": 4,
 "nbformat_minor": 5
}
