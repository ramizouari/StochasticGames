{
 "cells": [
  {
   "cell_type": "code",
   "execution_count": 7,
   "id": "979a89ba-02bf-4aa3-9160-1e3c17bb931b",
   "metadata": {},
   "outputs": [
    {
     "data": {
      "application/vnd.jupyter.widget-view+json": {
       "model_id": "a864b6c76a114b449d8943003fe1424c",
       "version_major": 2,
       "version_minor": 0
      },
      "text/plain": [
       "MPGVisualisation(layout=Layout(height='500px', width='100%'))"
      ]
     },
     "metadata": {},
     "output_type": "display_data"
    }
   ],
   "source": [
    "import mpg.games.mpg as mpg\n",
    "import mpg.visualisation.game as vg\n",
    "import mpg.graph.random_graph as rg\n",
    "import mpg.wrapper as mpgcpp\n",
    "import time\n",
    "import numpy as np\n",
    "\n",
    "G=rg.gnp_random_mpg(n=260,p=0.001,seed=46,distribution=\"uniform\",low=-5,high=5)\n",
    "M=vg.MPGVisualisation(G)\n",
    "start=time.time()\n",
    "S1,S2=mpgcpp.optimal_strategy_pair(G,edgetype=np.float32)\n",
    "end=time.time()\n",
    "M.set_node_color_mapping(vg.WinnerVisualiser(G,S1,S2))\n",
    "M.set_edge_color_mapping(vg.StrategyVisualiser(S1,S2))\n",
    "M"
   ]
  },
  {
   "cell_type": "code",
   "execution_count": 29,
   "id": "9c395d2c-2ef5-42ca-be91-41a89391e87d",
   "metadata": {},
   "outputs": [],
   "source": [
    "game=G\n",
    "mapper = dict(zip(game.nodes, range(len(game.nodes))))\n",
    "game_cxx = []\n",
    "n=len(game.nodes)\n",
    "for u, v in game.edges:\n",
    "    game_cxx.append((mapper[u], mapper[v], game.edges[u, v]['weight']))"
   ]
  },
  {
   "cell_type": "code",
   "execution_count": 3,
   "id": "d0eaf07a-1298-4827-926f-6bbcda50b89b",
   "metadata": {},
   "outputs": [
    {
     "data": {
      "text/plain": [
       "int"
      ]
     },
     "execution_count": 3,
     "metadata": {},
     "output_type": "execute_result"
    }
   ],
   "source": [
    "type(game_cxx[0][0])"
   ]
  },
  {
   "cell_type": "code",
   "execution_count": 8,
   "id": "2342e516-486a-4b3f-a59d-b04688973845",
   "metadata": {},
   "outputs": [
    {
     "name": "stdout",
     "output_type": "stream",
     "text": [
      "0.09681892395019531\n"
     ]
    }
   ],
   "source": [
    "print(end-start)"
   ]
  },
  {
   "cell_type": "code",
   "execution_count": 3,
   "id": "d3c82bad-0e2d-40fd-8296-c8c753849c54",
   "metadata": {},
   "outputs": [],
   "source": [
    "import mpg.wrapper.mpgcpp as mpgc"
   ]
  },
  {
   "cell_type": "code",
   "execution_count": null,
   "id": "c6193038-8d02-464d-8e2c-f7630afa2946",
   "metadata": {},
   "outputs": [],
   "source": [
    "mpgc."
   ]
  }
 ],
 "metadata": {
  "kernelspec": {
   "display_name": "Python 3 (ipykernel)",
   "language": "python",
   "name": "python3"
  },
  "language_info": {
   "codemirror_mode": {
    "name": "ipython",
    "version": 3
   },
   "file_extension": ".py",
   "mimetype": "text/x-python",
   "name": "python",
   "nbconvert_exporter": "python",
   "pygments_lexer": "ipython3",
   "version": "3.10.10"
  }
 },
 "nbformat": 4,
 "nbformat_minor": 5
}
