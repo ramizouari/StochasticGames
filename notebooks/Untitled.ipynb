{
 "cells": [
  {
   "cell_type": "code",
   "execution_count": 9,
   "id": "979a89ba-02bf-4aa3-9160-1e3c17bb931b",
   "metadata": {},
   "outputs": [
    {
     "name": "stdout",
     "output_type": "stream",
     "text": [
      "Epoch 1/3\n"
     ]
    },
    {
     "name": "stderr",
     "output_type": "stream",
     "text": [
      "2023-06-09 02:43:17.101709: I tensorflow/core/common_runtime/executor.cc:1197] [/device:CPU:0] (DEBUG INFO) Executor start aborting (this does not indicate an error and you can ignore this message): INVALID_ARGUMENT: You must feed a value for placeholder tensor 'Placeholder/_4' with dtype int64 and shape [1]\n",
      "\t [[{{node Placeholder/_4}}]]\n",
      "2023-06-09 02:43:17.102158: I tensorflow/core/common_runtime/executor.cc:1197] [/device:CPU:0] (DEBUG INFO) Executor start aborting (this does not indicate an error and you can ignore this message): INVALID_ARGUMENT: You must feed a value for placeholder tensor 'Placeholder/_3' with dtype int64 and shape [1]\n",
      "\t [[{{node Placeholder/_3}}]]\n"
     ]
    },
    {
     "name": "stdout",
     "output_type": "stream",
     "text": [
      "462/469 [============================>.] - ETA: 0s - loss: 8.9751 - zz_loss: 0.0000e+00 - prediction_loss: 2.2122 - prediction_sparse_categorical_accuracy: 0.4281"
     ]
    },
    {
     "name": "stderr",
     "output_type": "stream",
     "text": [
      "2023-06-09 02:43:25.601812: I tensorflow/core/common_runtime/executor.cc:1197] [/device:CPU:0] (DEBUG INFO) Executor start aborting (this does not indicate an error and you can ignore this message): INVALID_ARGUMENT: You must feed a value for placeholder tensor 'Placeholder/_1' with dtype string and shape [1]\n",
      "\t [[{{node Placeholder/_1}}]]\n",
      "2023-06-09 02:43:25.602947: I tensorflow/core/common_runtime/executor.cc:1197] [/device:CPU:0] (DEBUG INFO) Executor start aborting (this does not indicate an error and you can ignore this message): INVALID_ARGUMENT: You must feed a value for placeholder tensor 'Placeholder/_4' with dtype int64 and shape [1]\n",
      "\t [[{{node Placeholder/_4}}]]\n"
     ]
    },
    {
     "name": "stdout",
     "output_type": "stream",
     "text": [
      "469/469 [==============================] - 9s 6ms/step - loss: 8.8791 - zz_loss: 0.0000e+00 - prediction_loss: 2.2135 - prediction_sparse_categorical_accuracy: 0.4234 - val_loss: 29.3690 - val_zz_loss: 27.0660 - val_prediction_loss: 2.3023 - val_prediction_sparse_categorical_accuracy: 0.1028 - l2_loss: 7.7668e-04\n",
      "Epoch 2/3\n",
      "469/469 [==============================] - 2s 4ms/step - loss: 2.3026 - zz_loss: 0.0000e+00 - prediction_loss: 2.3023 - prediction_sparse_categorical_accuracy: 0.1108 - val_loss: 29.3685 - val_zz_loss: 27.0660 - val_prediction_loss: 2.3023 - val_prediction_sparse_categorical_accuracy: 0.1135 - l2_loss: 1.4205e-04\n",
      "Epoch 3/3\n",
      "469/469 [==============================] - 2s 4ms/step - loss: 2.3025 - zz_loss: 0.0000e+00 - prediction_loss: 2.3023 - prediction_sparse_categorical_accuracy: 0.1107 - val_loss: 29.3685 - val_zz_loss: 27.0660 - val_prediction_loss: 2.3024 - val_prediction_sparse_categorical_accuracy: 0.1135 - l2_loss: 9.3754e-05\n"
     ]
    }
   ],
   "source": [
    "import tensorflow as tf\n",
    "import tensorflow_datasets as tfds\n",
    " \n",
    "(ds_train, ds_test), ds_info = tfds.load(\n",
    "    'mnist',\n",
    "    split=['train', 'test'],\n",
    "    shuffle_files=True,\n",
    "    as_supervised=True,\n",
    "    with_info=True,\n",
    ")\n",
    "\n",
    "def normalize_img(image, label):\n",
    "  \"\"\"Normalizes images: `uint8` -> `float32`.\"\"\"\n",
    "  return tf.cast(image, tf.float32) / 255., label\n",
    "\n",
    "def augment(image,label):\n",
    "    return image,(tf.reshape(image,[-1]),label)\n",
    "\n",
    "ds_train = ds_train.map(\n",
    "    normalize_img, num_parallel_calls=tf.data.AUTOTUNE)\n",
    "ds_train = ds_train.map(\n",
    "    augment, num_parallel_calls=tf.data.AUTOTUNE)\n",
    "ds_train = ds_train.cache()\n",
    "ds_train = ds_train.shuffle(ds_info.splits['train'].num_examples)\n",
    "ds_train = ds_train.batch(128)\n",
    "ds_train = ds_train.prefetch(tf.data.AUTOTUNE)\n",
    "\n",
    "\n",
    "ds_test = ds_test.map(\n",
    "    normalize_img, num_parallel_calls=tf.data.AUTOTUNE)\n",
    "ds_test = ds_test.batch(128)\n",
    "ds_test = ds_test.cache()\n",
    "ds_test = ds_test.prefetch(tf.data.AUTOTUNE)\n",
    "\n",
    "x= tf.keras.layers.Input((28,28))\n",
    "z= tf.keras.layers.Flatten(input_shape=(28, 28),name=\"zz\")(x)\n",
    "y=tf.keras.layers.Dense(128, activation='relu')(z)\n",
    "y=  tf.keras.layers.Dense(10,name=\"prediction\")(y)\n",
    "model= tf.keras.Model(x,[z,y])\n",
    "def l2_loss(model):\n",
    "    return lambda :tf.add_n([tf.nn.l2_loss(v) for v in model.trainable_variables])\n",
    "\n",
    "class L2LossHistoryCallback(tf.keras.callbacks.Callback):\n",
    "    def __init__(self, model):\n",
    "        super().__init__()\n",
    "        self.model = model\n",
    "        self.l2_loss=l2_loss(model)\n",
    "\n",
    "    def on_epoch_end(self, epoch, logs=None):\n",
    "        logs = logs or {}\n",
    "        logs[\"l2_loss\"] = float(self.l2_loss())\n",
    "\n",
    "\n",
    "model.compile(\n",
    "    optimizer=tf.keras.optimizers.Adam(0.001),\n",
    "    loss={\"prediction\":tf.keras.losses.SparseCategoricalCrossentropy(from_logits=True),\"zz\":tf.keras.losses.MeanSquaredError()},\n",
    "    metrics={\"prediction\":tf.keras.metrics.SparseCategoricalAccuracy()}\n",
    ")\n",
    "model.add_loss({\"l2\":l2_loss(model)})\n",
    "\n",
    "t=model.fit(\n",
    "    ds_train,\n",
    "    epochs=3,\n",
    "    validation_data=ds_test,callbacks=[L2LossHistoryCallback(model)]\n",
    ")\n"
   ]
  },
  {
   "cell_type": "code",
   "execution_count": 6,
   "id": "9c395d2c-2ef5-42ca-be91-41a89391e87d",
   "metadata": {},
   "outputs": [
    {
     "name": "stdout",
     "output_type": "stream",
     "text": [
      "INFO:tensorflow:Assets written to: model.pb/assets\n"
     ]
    },
    {
     "name": "stderr",
     "output_type": "stream",
     "text": [
      "INFO:tensorflow:Assets written to: model.pb/assets\n"
     ]
    }
   ],
   "source": [
    "model.save(\"model.pb\")"
   ]
  },
  {
   "cell_type": "code",
   "execution_count": 13,
   "id": "d0eaf07a-1298-4827-926f-6bbcda50b89b",
   "metadata": {},
   "outputs": [],
   "source": [
    "loaded_module=tf.saved_model.load(\"model.pb\")"
   ]
  },
  {
   "cell_type": "code",
   "execution_count": 22,
   "id": "2aaa7053-071f-4df4-a37e-1526b3f92572",
   "metadata": {},
   "outputs": [],
   "source": [
    "x,y=next(iter(ds_test))"
   ]
  },
  {
   "cell_type": "code",
   "execution_count": 12,
   "id": "2342e516-486a-4b3f-a59d-b04688973845",
   "metadata": {},
   "outputs": [
    {
     "data": {
      "text/plain": [
       "{'loss': [8.879067420959473, 2.30257511138916, 2.302513837814331],\n",
       " 'zz_loss': [0.0, 0.0, 0.0],\n",
       " 'prediction_loss': [2.21354079246521, 2.3023481369018555, 2.3023171424865723],\n",
       " 'prediction_sparse_categorical_accuracy': [0.4234333336353302,\n",
       "  0.11081666499376297,\n",
       "  0.11071666330099106],\n",
       " 'val_loss': [29.369009017944336, 29.368450164794922, 29.368450164794922],\n",
       " 'val_zz_loss': [27.06597900390625, 27.06597900390625, 27.06597900390625],\n",
       " 'val_prediction_loss': [2.302251100540161,\n",
       "  2.3023297786712646,\n",
       "  2.3023808002471924],\n",
       " 'val_prediction_sparse_categorical_accuracy': [0.10279999673366547,\n",
       "  0.11349999904632568,\n",
       "  0.11349999904632568],\n",
       " 'l2_loss': [<tf.Tensor: shape=(), dtype=float32, numpy=0.0007766833>,\n",
       "  <tf.Tensor: shape=(), dtype=float32, numpy=0.0001420502>,\n",
       "  <tf.Tensor: shape=(), dtype=float32, numpy=9.375398e-05>]}"
      ]
     },
     "execution_count": 12,
     "metadata": {},
     "output_type": "execute_result"
    }
   ],
   "source": [
    "t.history"
   ]
  },
  {
   "cell_type": "code",
   "execution_count": 20,
   "id": "d3c82bad-0e2d-40fd-8296-c8c753849c54",
   "metadata": {},
   "outputs": [
    {
     "data": {
      "text/plain": [
       "<bound method Layer.add_loss of <keras.engine.sequential.Sequential object at 0x7ff7e1ad6e90>>"
      ]
     },
     "execution_count": 20,
     "metadata": {},
     "output_type": "execute_result"
    }
   ],
   "source": []
  },
  {
   "cell_type": "code",
   "execution_count": 54,
   "id": "c6193038-8d02-464d-8e2c-f7630afa2946",
   "metadata": {},
   "outputs": [
    {
     "ename": "AttributeError",
     "evalue": "module 'tensorflow' has no attribute 'flatten'",
     "output_type": "error",
     "traceback": [
      "\u001b[0;31m---------------------------------------------------------------------------\u001b[0m",
      "\u001b[0;31mAttributeError\u001b[0m                            Traceback (most recent call last)",
      "Cell \u001b[0;32mIn[54], line 1\u001b[0m\n\u001b[0;32m----> 1\u001b[0m \u001b[43mtf\u001b[49m\u001b[38;5;241;43m.\u001b[39;49m\u001b[43mflatten\u001b[49m(tf\u001b[38;5;241m.\u001b[39mconstant([\u001b[38;5;241m1\u001b[39m,\u001b[38;5;241m2\u001b[39m]))\n",
      "\u001b[0;31mAttributeError\u001b[0m: module 'tensorflow' has no attribute 'flatten'"
     ]
    }
   ],
   "source": [
    "tf.res(tf.constant([1,2]))"
   ]
  },
  {
   "cell_type": "code",
   "execution_count": 27,
   "id": "d6aa4ce0-ee8a-497a-b80c-0dfc5de900df",
   "metadata": {},
   "outputs": [
    {
     "name": "stdout",
     "output_type": "stream",
     "text": [
      "1/1 [==============================] - 0s 32ms/step\n"
     ]
    },
    {
     "data": {
      "text/plain": [
       "array([[-26.798069  , -16.96833   ,   2.0264852 ,  29.349308  ,\n",
       "        -50.946102  ,  26.800014  ,   4.567534  ,   5.227916  ,\n",
       "         -0.28305477,  -8.013782  ]], dtype=float32)"
      ]
     },
     "execution_count": 27,
     "metadata": {},
     "output_type": "execute_result"
    }
   ],
   "source": [
    "model.predict(tf.ones([1,28,28,1]))"
   ]
  },
  {
   "cell_type": "code",
   "execution_count": 44,
   "id": "33d9b85b-641d-4b57-a660-53b04ac9c653",
   "metadata": {},
   "outputs": [],
   "source": [
    "tf.keras.backend.clear_session()"
   ]
  },
  {
   "cell_type": "code",
   "execution_count": 16,
   "id": "7cf6315a-8403-4802-8371-a6bd699bd298",
   "metadata": {},
   "outputs": [],
   "source": [
    "model.arch=\"mlp\""
   ]
  },
  {
   "cell_type": "code",
   "execution_count": 17,
   "id": "f7d72f4a-a4fe-4743-b78b-94d0aed1586a",
   "metadata": {},
   "outputs": [
    {
     "name": "stdout",
     "output_type": "stream",
     "text": [
      "INFO:tensorflow:Assets written to: test.pb/assets\n"
     ]
    },
    {
     "name": "stderr",
     "output_type": "stream",
     "text": [
      "INFO:tensorflow:Assets written to: test.pb/assets\n"
     ]
    }
   ],
   "source": [
    "model.save(\"test.pb\")"
   ]
  },
  {
   "cell_type": "code",
   "execution_count": 18,
   "id": "8a68f218-c393-452e-bed1-0549e9dcb776",
   "metadata": {},
   "outputs": [],
   "source": [
    "loaded_model=tf.keras.models.load_model(\"test.pb\")"
   ]
  },
  {
   "cell_type": "code",
   "execution_count": 20,
   "id": "a7d75adc-bb06-4ff2-952a-1ef74fd1d043",
   "metadata": {},
   "outputs": [
    {
     "data": {
      "text/plain": [
       "<keras.engine.functional.Functional at 0x7f64a0ea8d30>"
      ]
     },
     "execution_count": 20,
     "metadata": {},
     "output_type": "execute_result"
    }
   ],
   "source": [
    "loaded_model"
   ]
  },
  {
   "cell_type": "code",
   "execution_count": 141,
   "id": "8ca00c5d-baa1-4bce-98bb-64ecb1c63c42",
   "metadata": {},
   "outputs": [],
   "source": [
    "class DumpyDataset:\n",
    "\n",
    "    \"\"\"Iterator that counts upward forever.\"\"\"\n",
    "\n",
    "    def __init__(self, start=0):\n",
    "        self.num = start\n",
    "\n",
    "    def __iter__(self):\n",
    "        return self\n",
    "\n",
    "    def __next__(self):\n",
    "        num = self.num\n",
    "        self.num += 1\n",
    "        return tf.zeros([5,5],dtype=tf.float32),tf.ones(1)\n",
    "\n"
   ]
  },
  {
   "cell_type": "code",
   "execution_count": 142,
   "id": "ee0d1acd-d703-46b7-9527-3be1c4921fda",
   "metadata": {},
   "outputs": [],
   "source": [
    "S=DumpyDataset()\n",
    "specs=(tf.TensorSpec(shape=(5,5)),tf.TensorSpec(shape=()))\n",
    "\n",
    "dataset=tf.data.Dataset.from_generator(lambda :S,output_signature=specs).batch(32)"
   ]
  },
  {
   "cell_type": "code",
   "execution_count": 143,
   "id": "d2b650fc-2e50-4f97-8b00-b8667d5d50b2",
   "metadata": {},
   "outputs": [],
   "source": [
    "model=tf.keras.Sequential([\n",
    "    tf.keras.layers.Flatten(),\n",
    "    tf.keras.layers.Dense(25,activation=\"sigmoid\"),\n",
    "    tf.keras.layers.Dense(1,activation=\"sigmoid\")\n",
    "])\n",
    "model.compile(optimizer=\"adam\",loss=\"mean_squared_error\")"
   ]
  },
  {
   "cell_type": "code",
   "execution_count": 161,
   "id": "a5fc72c2-f76d-4379-829b-cf2e55d83f2d",
   "metadata": {},
   "outputs": [
    {
     "name": "stdout",
     "output_type": "stream",
     "text": [
      "Epoch 1/3\n",
      " 42/200 [=====>........................] - ETA: 0s - loss: 9.5807e-04"
     ]
    },
    {
     "name": "stderr",
     "output_type": "stream",
     "text": [
      "2023-06-09 09:07:39.855540: I tensorflow/core/common_runtime/executor.cc:1197] [/device:CPU:0] (DEBUG INFO) Executor start aborting (this does not indicate an error and you can ignore this message): INVALID_ARGUMENT: You must feed a value for placeholder tensor 'Placeholder/_0' with dtype int32\n",
      "\t [[{{node Placeholder/_0}}]]\n"
     ]
    },
    {
     "name": "stdout",
     "output_type": "stream",
     "text": [
      "200/200 [==============================] - 1s 4ms/step - loss: 7.9380e-04\n",
      "Epoch 2/3\n",
      "200/200 [==============================] - 1s 4ms/step - loss: 5.1179e-04\n",
      "Epoch 3/3\n",
      "200/200 [==============================] - 1s 4ms/step - loss: 3.5767e-04\n"
     ]
    },
    {
     "data": {
      "text/plain": [
       "<keras.callbacks.History at 0x7f631fa67ee0>"
      ]
     },
     "execution_count": 161,
     "metadata": {},
     "output_type": "execute_result"
    }
   ],
   "source": [
    "model.fit(x=S,epochs=3,steps_per_epoch=200)"
   ]
  },
  {
   "cell_type": "code",
   "execution_count": 82,
   "id": "26c03388-1606-4811-8372-ef0fb5a801ff",
   "metadata": {},
   "outputs": [
    {
     "data": {
      "text/plain": [
       "(<tf.Tensor: shape=(1, 5, 5), dtype=float32, numpy=\n",
       " array([[[0., 0., 0., 0., 0.],\n",
       "         [0., 0., 0., 0., 0.],\n",
       "         [0., 0., 0., 0., 0.],\n",
       "         [0., 0., 0., 0., 0.],\n",
       "         [0., 0., 0., 0., 0.]]], dtype=float32)>,\n",
       " <tf.Tensor: shape=(1,), dtype=float32, numpy=array([1.], dtype=float32)>)"
      ]
     },
     "execution_count": 82,
     "metadata": {},
     "output_type": "execute_result"
    }
   ],
   "source": [
    "next(iter(dataset))"
   ]
  },
  {
   "cell_type": "code",
   "execution_count": 104,
   "id": "648a46f8-d648-431d-b344-eea3dee045b2",
   "metadata": {},
   "outputs": [
    {
     "data": {
      "text/plain": [
       "(<tf.Tensor: shape=(5, 5), dtype=float32, numpy=\n",
       " array([[0., 0., 0., 0., 0.],\n",
       "        [0., 0., 0., 0., 0.],\n",
       "        [0., 0., 0., 0., 0.],\n",
       "        [0., 0., 0., 0., 0.],\n",
       "        [0., 0., 0., 0., 0.]], dtype=float32)>,\n",
       " 1)"
      ]
     },
     "execution_count": 104,
     "metadata": {},
     "output_type": "execute_result"
    }
   ],
   "source": [
    "next(next(S))"
   ]
  },
  {
   "cell_type": "code",
   "execution_count": 145,
   "id": "a9779186-5dac-4f5f-a61c-84ebf2683e16",
   "metadata": {},
   "outputs": [
    {
     "data": {
      "text/plain": [
       "<keras.engine.sequential.Sequential at 0x7f64989d3910>"
      ]
     },
     "execution_count": 145,
     "metadata": {},
     "output_type": "execute_result"
    }
   ],
   "source": [
    "model"
   ]
  },
  {
   "cell_type": "code",
   "execution_count": 153,
   "id": "5efa230b-8092-43c2-9aa0-82917e81d32e",
   "metadata": {},
   "outputs": [],
   "source": [
    "C=tf.train.Checkpoint(model)"
   ]
  },
  {
   "cell_type": "code",
   "execution_count": 154,
   "id": "5bb97660-6623-437f-b13c-874e94e3bd0c",
   "metadata": {},
   "outputs": [
    {
     "name": "stdout",
     "output_type": "stream",
     "text": [
      "WARNING:tensorflow:Inconsistent references when loading the checkpoint into this object graph. For example, in the saved checkpoint object, `model.layer.weight` and `model.layer_copy.weight` reference the same variable, while in the current object these are two different variables. The referenced variables are:(<tf.Variable 'save_counter:0' shape=() dtype=int64, numpy=2> and <tf.Variable 'save_counter:0' shape=() dtype=int64, numpy=0>).\n"
     ]
    },
    {
     "name": "stderr",
     "output_type": "stream",
     "text": [
      "WARNING:tensorflow:Inconsistent references when loading the checkpoint into this object graph. For example, in the saved checkpoint object, `model.layer.weight` and `model.layer_copy.weight` reference the same variable, while in the current object these are two different variables. The referenced variables are:(<tf.Variable 'save_counter:0' shape=() dtype=int64, numpy=2> and <tf.Variable 'save_counter:0' shape=() dtype=int64, numpy=0>).\n"
     ]
    },
    {
     "data": {
      "text/plain": [
       "'GJ-1'"
      ]
     },
     "execution_count": 154,
     "metadata": {},
     "output_type": "execute_result"
    }
   ],
   "source": [
    "C.save(\"GJ\")"
   ]
  },
  {
   "cell_type": "code",
   "execution_count": 156,
   "id": "a43962de-57f0-4bad-87eb-39d20a81751c",
   "metadata": {},
   "outputs": [
    {
     "data": {
      "text/plain": [
       "'GJ-3'"
      ]
     },
     "execution_count": 156,
     "metadata": {},
     "output_type": "execute_result"
    }
   ],
   "source": [
    "C.save(\"GJ\")"
   ]
  },
  {
   "cell_type": "code",
   "execution_count": 152,
   "id": "5aea7449-d604-464a-889b-9c630387c08f",
   "metadata": {},
   "outputs": [
    {
     "data": {
      "text/plain": [
       "<tensorflow.python.checkpoint.checkpoint.CheckpointLoadStatus at 0x7f6338ed7d00>"
      ]
     },
     "execution_count": 152,
     "metadata": {},
     "output_type": "execute_result"
    }
   ],
   "source": [
    "C.restore(\"GJ-2\")"
   ]
  },
  {
   "cell_type": "code",
   "execution_count": 157,
   "id": "1f8dad1f-445a-44d9-b176-6a2c7dc683a6",
   "metadata": {},
   "outputs": [],
   "source": [
    "D=tf.train.Checkpoint(model)"
   ]
  },
  {
   "cell_type": "code",
   "execution_count": 163,
   "id": "012fa170-8fc4-4775-b441-6652085918e4",
   "metadata": {},
   "outputs": [
    {
     "data": {
      "text/plain": [
       "[<tf.Variable 'dense_22/kernel:0' shape=(5, 25) dtype=float32, numpy=\n",
       " array([[-3.10127914e-01, -1.04571402e-01, -4.00420576e-01,\n",
       "         -4.16880757e-01,  1.77367687e-01,  4.04328465e-01,\n",
       "         -2.44916141e-01, -3.94790292e-01, -1.09520465e-01,\n",
       "          1.61812842e-01,  3.88856113e-01, -7.30258524e-02,\n",
       "          4.27775919e-01, -1.33364052e-01,  1.86398208e-01,\n",
       "         -3.68464291e-01, -1.14259690e-01, -1.55187428e-01,\n",
       "          4.17616785e-01, -3.98608506e-01,  3.81016612e-01,\n",
       "         -4.38223064e-01, -4.25603449e-01,  3.25418115e-01,\n",
       "         -3.29489350e-01],\n",
       "        [ 4.04741406e-01,  2.62748361e-01, -2.96535730e-01,\n",
       "         -4.86840010e-02,  3.83847237e-01, -2.45123625e-01,\n",
       "         -1.54168606e-02, -3.03385258e-01,  1.06430411e-01,\n",
       "          9.70088840e-02,  1.10525489e-02, -2.39927948e-01,\n",
       "          3.62334549e-01,  3.01063478e-01,  2.88561106e-01,\n",
       "          3.49425197e-01,  6.32990599e-02,  2.19262183e-01,\n",
       "         -1.53903157e-01, -3.98854911e-01,  3.33956778e-01,\n",
       "         -9.42916870e-02,  2.81946957e-01, -2.84079254e-01,\n",
       "         -6.38578832e-02],\n",
       "        [-3.73684168e-02, -3.48920852e-01,  1.44833267e-01,\n",
       "         -3.62538546e-01, -3.36745650e-01, -1.80883616e-01,\n",
       "         -3.70092869e-01,  2.46484697e-01, -2.40490392e-01,\n",
       "          9.97952819e-02,  3.71947169e-01,  7.30243325e-02,\n",
       "          3.84831727e-01,  2.32523024e-01,  1.34597898e-01,\n",
       "         -2.17745885e-01,  1.69610977e-01, -1.99825794e-01,\n",
       "          4.45510268e-01,  1.65135443e-01,  2.69849002e-01,\n",
       "          2.11340487e-02,  1.24473214e-01,  2.01696813e-01,\n",
       "          1.19125485e-01],\n",
       "        [-1.38930887e-01, -3.24478447e-01,  6.14221692e-02,\n",
       "          3.44396174e-01,  4.75937128e-03,  8.76392722e-02,\n",
       "          1.86232626e-01, -2.91395366e-01, -3.35537732e-01,\n",
       "          1.14722848e-01,  2.92448997e-01,  3.42293978e-02,\n",
       "          3.77680302e-01, -8.53305757e-02,  2.89663374e-02,\n",
       "          8.33991170e-03, -2.78444052e-01,  7.10159540e-03,\n",
       "          1.44518435e-01,  1.22615397e-01,  5.46106696e-02,\n",
       "         -2.43530557e-01, -2.10000828e-01,  5.32501936e-03,\n",
       "          1.83075666e-04],\n",
       "        [ 1.77802265e-01, -3.91270816e-02,  4.22759175e-01,\n",
       "         -3.79426926e-01,  3.27279568e-01,  3.95854950e-01,\n",
       "          9.21497941e-02,  1.80794775e-01,  2.85438597e-01,\n",
       "         -2.93332934e-01,  4.01017427e-01, -2.56902158e-01,\n",
       "         -1.17944509e-01, -6.17982149e-02,  1.08684003e-02,\n",
       "          1.06331885e-01,  1.68880403e-01, -1.66978866e-01,\n",
       "          3.80108893e-01,  6.59470558e-02,  2.91563392e-01,\n",
       "         -4.97851968e-02,  2.01795697e-01, -4.17371541e-01,\n",
       "         -3.50491732e-01]], dtype=float32)>,\n",
       " <tf.Variable 'dense_22/bias:0' shape=(25,) dtype=float32, numpy=\n",
       " array([-0.15755872,  0.4746241 , -0.14323902,  0.22400545,  0.22152232,\n",
       "         0.23614945,  0.39912674,  0.28334454, -0.1354988 ,  0.25095248,\n",
       "         0.23111387, -0.13618158,  0.22142006, -0.14001691, -0.01405058,\n",
       "         0.22200811,  0.22023715,  0.3459624 , -0.15758374,  0.24136841,\n",
       "        -0.14853391,  0.3664523 ,  0.22334495,  0.22484285,  0.26798132],\n",
       "       dtype=float32)>,\n",
       " <tf.Variable 'dense_23/kernel:0' shape=(25, 1) dtype=float32, numpy=\n",
       " array([[-0.21201855],\n",
       "        [ 0.21627815],\n",
       "        [-0.10609659],\n",
       "        [ 0.61780256],\n",
       "        [ 0.65729433],\n",
       "        [ 0.4905286 ],\n",
       "        [ 0.23495169],\n",
       "        [ 0.32166493],\n",
       "        [-0.07055046],\n",
       "        [ 0.40784374],\n",
       "        [ 0.53338766],\n",
       "        [-0.07330193],\n",
       "        [ 0.65907365],\n",
       "        [-0.09005865],\n",
       "        [ 0.08974966],\n",
       "        [ 0.64903057],\n",
       "        [ 0.1443794 ],\n",
       "        [ 0.25857618],\n",
       "        [-0.21227834],\n",
       "        [ 0.45556918],\n",
       "        [-0.13741864],\n",
       "        [ 0.2477851 ],\n",
       "        [ 0.62766445],\n",
       "        [ 0.6058812 ],\n",
       "        [ 0.35323343]], dtype=float32)>,\n",
       " <tf.Variable 'dense_23/bias:0' shape=(1,) dtype=float32, numpy=array([0.19379887], dtype=float32)>]"
      ]
     },
     "execution_count": 163,
     "metadata": {},
     "output_type": "execute_result"
    }
   ],
   "source": [
    "model.trainable_variables"
   ]
  },
  {
   "cell_type": "code",
   "execution_count": null,
   "id": "ef10a876-97bb-4202-8286-30acc887013c",
   "metadata": {},
   "outputs": [],
   "source": []
  }
 ],
 "metadata": {
  "kernelspec": {
   "display_name": "Python 3 (ipykernel)",
   "language": "python",
   "name": "python3"
  },
  "language_info": {
   "codemirror_mode": {
    "name": "ipython",
    "version": 3
   },
   "file_extension": ".py",
   "mimetype": "text/x-python",
   "name": "python",
   "nbconvert_exporter": "python",
   "pygments_lexer": "ipython3",
   "version": "3.10.11"
  }
 },
 "nbformat": 4,
 "nbformat_minor": 5
}
