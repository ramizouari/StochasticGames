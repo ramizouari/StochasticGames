{
 "cells": [
  {
   "cell_type": "code",
   "execution_count": 7,
   "id": "979a89ba-02bf-4aa3-9160-1e3c17bb931b",
   "metadata": {},
   "outputs": [
    {
     "data": {
      "application/vnd.jupyter.widget-view+json": {
       "model_id": "e8c887dc7d41405084cbc1fb9832bc9e",
       "version_major": 2,
       "version_minor": 0
      },
      "text/plain": [
       "MPGVisualisation(layout=Layout(height='500px', width='100%'))"
      ]
     },
     "metadata": {},
     "output_type": "display_data"
    }
   ],
   "source": [
    "import mpg.games.mpg as mpg\n",
    "import mpg.visualisation.game as vg\n",
    "import mpg.graph.random_graph as rg\n",
    "import mpg.wrapper as mpgcpp\n",
    "import time\n",
    "\n",
    "G=rg.gnp_random_mpg(n=26,p=0.01,seed=45,distribution=\"integers\",low=-10,high=11)\n",
    "M=vg.MPGVisualisation(G)\n",
    "start=time.time()\n",
    "S1,S2=mpgcpp.optimal_strategy_pair(G)\n",
    "end=time.time()\n",
    "M.set_node_color_mapping(vg.WinnerVisualiser(G,S1,S2))\n",
    "M.set_edge_color_mapping(vg.StrategyVisualiser(S1,S2))\n",
    "M"
   ]
  },
  {
   "cell_type": "code",
   "execution_count": 3,
   "id": "9c395d2c-2ef5-42ca-be91-41a89391e87d",
   "metadata": {},
   "outputs": [],
   "source": [
    "game=G\n",
    "mapper = dict(zip(game.nodes, range(len(game.nodes))))\n",
    "game_cxx = []\n",
    "n=len(game.nodes)\n",
    "for u, v in game.edges:\n",
    "    game_cxx.append((mapper[u], mapper[v], game.edges[u, v]['weight']))"
   ]
  },
  {
   "cell_type": "code",
   "execution_count": 10,
   "id": "d0eaf07a-1298-4827-926f-6bbcda50b89b",
   "metadata": {},
   "outputs": [
    {
     "data": {
      "text/plain": [
       "int"
      ]
     },
     "execution_count": 10,
     "metadata": {},
     "output_type": "execute_result"
    }
   ],
   "source": [
    "type(game_cxx[0][0])"
   ]
  },
  {
   "cell_type": "code",
   "execution_count": 8,
   "id": "2342e516-486a-4b3f-a59d-b04688973845",
   "metadata": {},
   "outputs": [
    {
     "name": "stdout",
     "output_type": "stream",
     "text": [
      "0.0037136077880859375\n"
     ]
    }
   ],
   "source": [
    "print(end-start)"
   ]
  },
  {
   "cell_type": "code",
   "execution_count": null,
   "id": "d3c82bad-0e2d-40fd-8296-c8c753849c54",
   "metadata": {},
   "outputs": [],
   "source": []
  }
 ],
 "metadata": {
  "kernelspec": {
   "display_name": "Python 3 (ipykernel)",
   "language": "python",
   "name": "python3"
  },
  "language_info": {
   "codemirror_mode": {
    "name": "ipython",
    "version": 3
   },
   "file_extension": ".py",
   "mimetype": "text/x-python",
   "name": "python",
   "nbconvert_exporter": "python",
   "pygments_lexer": "ipython3",
   "version": "3.10.9"
  }
 },
 "nbformat": 4,
 "nbformat_minor": 5
}
