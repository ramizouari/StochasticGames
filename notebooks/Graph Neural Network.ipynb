{
 "cells": [
  {
   "cell_type": "code",
   "execution_count": 700,
   "id": "1b8b4d0d-df8d-49da-ac4b-e88b2142e2ce",
   "metadata": {},
   "outputs": [
    {
     "data": {
      "text/plain": [
       "<module 'mpg.gnn.aggregator' from '/home/ramizouari/Academic/AI/MeanPayOffGames/notebooks/mpg/gnn/aggregator.py'>"
      ]
     },
     "execution_count": 700,
     "metadata": {},
     "output_type": "execute_result"
    }
   ],
   "source": [
    "import mpg.ml.model as mpg_model\n",
    "import mpg.ml.model.mlp as mlp\n",
    "import mpg.ml.model.gnn as gnn\n",
    "import mpg.gnn.aggregator as agg\n",
    "import mpg.gnn.gcn as gcn\n",
    "import importlib\n",
    "import tensorflow as tf\n",
    "importlib.reload(mlp)\n",
    "importlib.reload(gnn)\n",
    "importlib.reload(gcn)\n",
    "importlib.reload(agg)"
   ]
  },
  {
   "cell_type": "code",
   "execution_count": 701,
   "id": "c0f45b09-ed84-4154-a934-23c0fd0a323d",
   "metadata": {},
   "outputs": [
    {
     "name": "stdout",
     "output_type": "stream",
     "text": [
      "(None, None)\n"
     ]
    },
    {
     "name": "stderr",
     "output_type": "stream",
     "text": [
      "2023-06-15 03:08:24.484074: I tensorflow/core/common_runtime/executor.cc:1197] [/device:CPU:0] (DEBUG INFO) Executor start aborting (this does not indicate an error and you can ignore this message): INVALID_ARGUMENT: You must feed a value for placeholder tensor 'Placeholder' with dtype float and shape [?]\n",
      "\t [[{{node Placeholder}}]]\n"
     ]
    }
   ],
   "source": [
    "n=20\n",
    "p=0.3\n",
    "batches=16\n",
    "A=tf.cast(tf.random.uniform([batches,n,n]) > p,dtype=tf.float32)\n",
    "W=tf.random.uniform([batches,n,n])\n",
    "G=tf.stack([A,W],axis=-1)\n",
    "X=tf.random.uniform([batches])\n",
    "P=tf.math.softmax(tf.random.uniform([batches,n]),axis=-1)\n",
    "V=tf.math.sign(tf.random.uniform([batches])-0.5)\n",
    "\n",
    "\n",
    "\n",
    "model=mlp.MLP(graph_size=n,num_actions=n,state_shape=())\n",
    "gnn_model=gnn.GNN()"
   ]
  },
  {
   "cell_type": "code",
   "execution_count": null,
   "id": "f0b7368e-e09a-467c-ba21-9305bab245c5",
   "metadata": {},
   "outputs": [],
   "source": []
  },
  {
   "cell_type": "code",
   "execution_count": 702,
   "id": "41e32d61-58a2-4ec5-a7ef-92faea5bb368",
   "metadata": {},
   "outputs": [],
   "source": [
    "gnn_model.compile(loss={\"policy_targets\":\"categorical_crossentropy\", \"value_targets\":\"mean_squared_error\"},\n",
    "                           optimizer=tf.keras.optimizers.Adam())\n"
   ]
  },
  {
   "cell_type": "code",
   "execution_count": 703,
   "id": "c8388b8a-4c1b-4b16-b887-18d54f219706",
   "metadata": {},
   "outputs": [
    {
     "name": "stdout",
     "output_type": "stream",
     "text": [
      "Epoch 1/3\n",
      "2/2 [==============================] - 2s 10ms/step - loss: 4.1033 - value_targets_loss: 1.1058 - policy_targets_loss: 2.9975\n",
      "Epoch 2/3\n",
      "2/2 [==============================] - 0s 13ms/step - loss: 4.0306 - value_targets_loss: 1.0331 - policy_targets_loss: 2.9975\n",
      "Epoch 3/3\n",
      "2/2 [==============================] - 0s 12ms/step - loss: 3.9139 - value_targets_loss: 0.9164 - policy_targets_loss: 2.9975\n"
     ]
    },
    {
     "data": {
      "text/plain": [
       "<keras.callbacks.History at 0x7f5cf83a1e10>"
      ]
     },
     "execution_count": 703,
     "metadata": {},
     "output_type": "execute_result"
    }
   ],
   "source": [
    "inputs={\"environment\":G,\"state\":X}\n",
    "outputs={\"policy_targets\":P,\"value_targets\":V}\n",
    "gnn_model.fit(inputs, outputs, batch_size=8, epochs=3, verbose=1)"
   ]
  },
  {
   "cell_type": "code",
   "execution_count": 42,
   "id": "9e05cd97-cbe8-4ebd-8089-3f2726a6ddd3",
   "metadata": {},
   "outputs": [
    {
     "data": {
      "text/plain": [
       "[<KerasTensor: shape=(None, 20, 20, 2) dtype=float32 (created by layer 'environment')>,\n",
       " <KerasTensor: shape=(None,) dtype=float32 (created by layer 'state')>]"
      ]
     },
     "execution_count": 42,
     "metadata": {},
     "output_type": "execute_result"
    }
   ],
   "source": []
  },
  {
   "cell_type": "code",
   "execution_count": 56,
   "id": "0e92d247-9cd2-4696-ae30-7968316cd474",
   "metadata": {},
   "outputs": [],
   "source": [
    "Z=tf.keras.layers.Input(shape=[5],dtype=tf.int32)\n",
    "X=tf.keras.layers.Input(shape=[],dtype=tf.int32)"
   ]
  },
  {
   "cell_type": "code",
   "execution_count": 59,
   "id": "7512ee16-cd97-44d8-a7d1-4abc9cd9c8df",
   "metadata": {},
   "outputs": [
    {
     "name": "stderr",
     "output_type": "stream",
     "text": [
      "2023-06-14 06:05:07.512535: I tensorflow/core/common_runtime/executor.cc:1197] [/device:CPU:0] (DEBUG INFO) Executor start aborting (this does not indicate an error and you can ignore this message): INVALID_ARGUMENT: You must feed a value for placeholder tensor 'Placeholder_1' with dtype int32 and shape [?]\n",
      "\t [[{{node Placeholder_1}}]]\n"
     ]
    },
    {
     "data": {
      "text/plain": [
       "<KerasTensor: shape=(None, 5, None) dtype=float32 (created by layer 'tf.one_hot_5')>"
      ]
     },
     "execution_count": 59,
     "metadata": {},
     "output_type": "execute_result"
    }
   ],
   "source": [
    "tf.one_hot(Z,depth=X)"
   ]
  },
  {
   "cell_type": "code",
   "execution_count": 164,
   "id": "84591b21-7c18-4f8e-9ef1-b99f6ccb02df",
   "metadata": {},
   "outputs": [
    {
     "name": "stdout",
     "output_type": "stream",
     "text": [
      "1/1 [==============================] - 0s 150ms/step\n"
     ]
    },
    {
     "data": {
      "text/plain": [
       "[array([[-1.],\n",
       "        [-1.],\n",
       "        [-1.],\n",
       "        [-1.],\n",
       "        [-1.],\n",
       "        [-1.],\n",
       "        [-1.],\n",
       "        [-1.],\n",
       "        [-1.],\n",
       "        [-1.],\n",
       "        [-1.],\n",
       "        [-1.],\n",
       "        [-1.],\n",
       "        [-1.],\n",
       "        [-1.],\n",
       "        [-1.]], dtype=float32),\n",
       " array([[0.05368359, 0.04334371, 0.04518632, 0.05064121, 0.04570146,\n",
       "         0.05143947, 0.04953609, 0.04892602, 0.04699986, 0.05446874,\n",
       "         0.05139836, 0.04923844, 0.05057517, 0.0522957 , 0.04983887,\n",
       "         0.04774844, 0.0497077 , 0.05316909, 0.0535295 , 0.05257224],\n",
       "        [0.04592943, 0.05222778, 0.05133432, 0.05049992, 0.05339243,\n",
       "         0.04911728, 0.04447116, 0.04827907, 0.04652907, 0.05009769,\n",
       "         0.04688105, 0.05116192, 0.05011094, 0.04744739, 0.0453846 ,\n",
       "         0.04875434, 0.05631608, 0.05804124, 0.05481863, 0.04920571],\n",
       "        [0.04849744, 0.04872611, 0.05237256, 0.0503167 , 0.0478346 ,\n",
       "         0.05495047, 0.04880298, 0.05106444, 0.05259023, 0.048517  ,\n",
       "         0.04659727, 0.05748926, 0.05129892, 0.04715967, 0.04701842,\n",
       "         0.05123428, 0.0413844 , 0.05080938, 0.0549838 , 0.04835207],\n",
       "        [0.04912889, 0.05180901, 0.04969924, 0.05176861, 0.04877203,\n",
       "         0.05284228, 0.04750393, 0.04941881, 0.05155324, 0.05331396,\n",
       "         0.04831278, 0.05072836, 0.05043867, 0.05161777, 0.04581346,\n",
       "         0.04785504, 0.05303402, 0.04953682, 0.05031011, 0.04654292],\n",
       "        [0.05467233, 0.04944391, 0.04662402, 0.05478152, 0.04302761,\n",
       "         0.05140892, 0.04696302, 0.04826061, 0.04859352, 0.05176488,\n",
       "         0.04903588, 0.05013125, 0.05635664, 0.05401951, 0.04777265,\n",
       "         0.05142286, 0.0530836 , 0.05014248, 0.04237135, 0.05012346],\n",
       "        [0.05261428, 0.04791268, 0.05092422, 0.05327368, 0.04971186,\n",
       "         0.05240268, 0.05327049, 0.04453452, 0.04709806, 0.04909595,\n",
       "         0.05249732, 0.04620958, 0.05497409, 0.04761352, 0.04953652,\n",
       "         0.04599348, 0.05121374, 0.04856269, 0.05272525, 0.0498354 ],\n",
       "        [0.05215284, 0.04775534, 0.05071216, 0.05080109, 0.04874373,\n",
       "         0.05039077, 0.05417904, 0.05404008, 0.04935182, 0.04944203,\n",
       "         0.04835276, 0.04766538, 0.05243242, 0.04445582, 0.05257152,\n",
       "         0.04872508, 0.05362675, 0.05135807, 0.04697803, 0.04626528],\n",
       "        [0.05296669, 0.05500245, 0.04620161, 0.05352011, 0.04956973,\n",
       "         0.04877052, 0.05049884, 0.05004614, 0.04909765, 0.05176445,\n",
       "         0.0502809 , 0.04922631, 0.05667375, 0.04964419, 0.04729412,\n",
       "         0.0464183 , 0.04813896, 0.04370928, 0.05094778, 0.05022818],\n",
       "        [0.05066739, 0.04874399, 0.04766825, 0.04992671, 0.04857573,\n",
       "         0.04828668, 0.05730059, 0.05381085, 0.05581412, 0.05193707,\n",
       "         0.04946566, 0.05013591, 0.04854538, 0.0561428 , 0.04697767,\n",
       "         0.04892287, 0.04302793, 0.05227776, 0.04496029, 0.04681233],\n",
       "        [0.05564455, 0.05064106, 0.05312014, 0.0573595 , 0.04701138,\n",
       "         0.04919632, 0.0465779 , 0.05102598, 0.05424839, 0.04571451,\n",
       "         0.04847322, 0.05317908, 0.05235399, 0.04501165, 0.0507932 ,\n",
       "         0.04604778, 0.04699776, 0.0495447 , 0.04595222, 0.05110665],\n",
       "        [0.0489627 , 0.04980659, 0.04647507, 0.04926434, 0.0560677 ,\n",
       "         0.04551944, 0.04616962, 0.05151182, 0.0486394 , 0.05047343,\n",
       "         0.05285002, 0.04742741, 0.05357974, 0.05631206, 0.04999534,\n",
       "         0.04824593, 0.05190572, 0.05199365, 0.0479628 , 0.04683725],\n",
       "        [0.05068739, 0.05051597, 0.05096631, 0.04776554, 0.05326227,\n",
       "         0.0503599 , 0.0461459 , 0.04939863, 0.04608865, 0.04853738,\n",
       "         0.05202898, 0.04963614, 0.05567857, 0.05152545, 0.0470107 ,\n",
       "         0.05401767, 0.04934155, 0.04539905, 0.04875403, 0.05287991],\n",
       "        [0.05164057, 0.05271997, 0.05580865, 0.05409775, 0.04805887,\n",
       "         0.04438407, 0.04572327, 0.05013423, 0.04565266, 0.05166606,\n",
       "         0.05236465, 0.04627415, 0.05256539, 0.0512737 , 0.05058147,\n",
       "         0.04689063, 0.04813173, 0.05166204, 0.04895598, 0.0514142 ],\n",
       "        [0.05315452, 0.05004019, 0.05423876, 0.05005045, 0.05019491,\n",
       "         0.05421555, 0.0547582 , 0.05033653, 0.04673244, 0.05154061,\n",
       "         0.05023609, 0.04348499, 0.04954495, 0.04649901, 0.04419369,\n",
       "         0.04806288, 0.05169718, 0.05117343, 0.05064647, 0.04919913],\n",
       "        [0.05146259, 0.04779382, 0.05576367, 0.04741379, 0.04622569,\n",
       "         0.04362367, 0.04612971, 0.05506346, 0.05356587, 0.05366692,\n",
       "         0.05135853, 0.05030943, 0.05176125, 0.04998295, 0.04736335,\n",
       "         0.04609256, 0.05535286, 0.05214959, 0.04739319, 0.04752704],\n",
       "        [0.05077501, 0.04815832, 0.04695464, 0.04704745, 0.0458013 ,\n",
       "         0.04870384, 0.0484088 , 0.0509613 , 0.05224263, 0.05076175,\n",
       "         0.05237488, 0.04850556, 0.05439309, 0.05571435, 0.05131219,\n",
       "         0.04973758, 0.04646672, 0.0511317 , 0.05095584, 0.04959309]],\n",
       "       dtype=float32)]"
      ]
     },
     "execution_count": 164,
     "metadata": {},
     "output_type": "execute_result"
    }
   ],
   "source": [
    "m=52\n",
    "A2=tf.cast(tf.random.uniform([batches,m,m]) > p,dtype=tf.float32)\n",
    "W2=tf.random.uniform([batches,m,m])\n",
    "G2=tf.stack([A,W],axis=-1)\n",
    "X2=tf.random.uniform([batches])\n",
    "gnn_model.predict([G2,X2])"
   ]
  },
  {
   "cell_type": "code",
   "execution_count": 558,
   "id": "54220083-0c01-4091-aabd-91966054d9ce",
   "metadata": {},
   "outputs": [],
   "source": [
    "import pandas as pd\n",
    "import networkx as nx\n",
    "cora=pd.read_csv(\"cora/cora.content\",sep=\"\\t\",header=None)\n",
    "cora_graph=nx.read_edgelist(\"cora/cora.cites\",nodetype=int)\n",
    "\n",
    "def id_mapper(cora,cora_graph):\n",
    "    mapper={}\n",
    "    cora_mapped=cora.copy()\n",
    "    for u,v in cora_graph.edges:\n",
    "        for z in [u,v]:\n",
    "            if z not in mapper:\n",
    "                mapper[z]=len(mapper)\n",
    "    for _,row in cora.iterrows():\n",
    "        u = row[0]\n",
    "        if u not in mapper:\n",
    "            mapper[u]=len(mapper)\n",
    "    cora_graph_mapped=nx.DiGraph()\n",
    "    cora_graph_mapped.add_nodes_from(range(len(mapper)))\n",
    "    for u,v in cora_graph.edges:\n",
    "        if u not in mapper or v not in mapper:\n",
    "            raise RuntimeErro(f\"{u,v} not in mapper?\")\n",
    "        cora_graph_mapped.add_edge(mapper[u],mapper[v])\n",
    "    cora_mapped[0]=cora_mapped[0].map(lambda x: mapper[x])\n",
    "    return cora_mapped,cora_graph_mapped,mapper\n",
    "\n",
    "    \n",
    "\n",
    "\n"
   ]
  },
  {
   "cell_type": "code",
   "execution_count": 559,
   "id": "9ef1e438-be39-44ef-93dd-210ddffbcf46",
   "metadata": {},
   "outputs": [],
   "source": [
    "cora_mapped,graph_mapped,mapper=id_mapper(cora,cora_graph)\n",
    "adjacency_matrix=nx.adjacency_matrix(graph_mapped,range(len(graph_mapped.nodes)))\n",
    "features_count=len(cora.columns)-1\n",
    "\n",
    "\n",
    "I=range(features_count)\n",
    "cora_input=cora_mapped[I]\n",
    "cora_target=cora_mapped[features_count]\n",
    "\n",
    "class_mapper=tf.keras.layers.StringLookup(output_mode=\"one_hot\")\n",
    "class_mapper.adapt(cora_target)\n",
    "cora_target=class_mapper(cora_target)"
   ]
  },
  {
   "cell_type": "code",
   "execution_count": 566,
   "id": "0b55f9bc-3afc-44aa-b428-14b248f8fdb1",
   "metadata": {},
   "outputs": [
    {
     "name": "stdout",
     "output_type": "stream",
     "text": [
      "(32, 50, 8)\n"
     ]
    },
    {
     "name": "stderr",
     "output_type": "stream",
     "text": [
      "2023-06-14 23:29:23.145116: I tensorflow/core/common_runtime/executor.cc:1197] [/device:CPU:0] (DEBUG INFO) Executor start aborting (this does not indicate an error and you can ignore this message): INVALID_ARGUMENT: You must feed a value for placeholder tensor 'Placeholder/_0' with dtype int32\n",
      "\t [[{{node Placeholder/_0}}]]\n"
     ]
    }
   ],
   "source": [
    "import numpy as np\n",
    "import queue\n",
    "class DataLoader:\n",
    "    def __init__(self,graph,inputs,targets,max_component_size):\n",
    "        self.graph=graph\n",
    "        inputs=inputs.to_numpy()\n",
    "        S=np.zeros([len(graph),inputs.shape[-1]],dtype=np.int32)\n",
    "        for row in inputs:\n",
    "            S[row[0],:]=row\n",
    "        Y=np.zeros([len(graph),targets.shape[-1]])\n",
    "        targets=targets.numpy()\n",
    "        for k,row in enumerate(inputs):\n",
    "            Y[row[0],:]=targets[k,:]\n",
    "        self.inputs=S\n",
    "        self.targets=Y\n",
    "        self.counter=0\n",
    "        self.connected_components=list(nx.connected_components(self.graph.to_undirected()))\n",
    "        self.max_component_size=max_component_size\n",
    "        self.adjacency_matrix=nx.adjacency_matrix(self.graph,nodelist=range(len(self.graph))).todense()\n",
    "    def __iter__(self):\n",
    "        return self\n",
    "    \n",
    "    def __next__(self):\n",
    "        Q=queue.Queue()\n",
    "        Q.put(np.random.randint(len(self.graph)))\n",
    "        S=set()\n",
    "        while not Q.empty():\n",
    "            u=Q.get()\n",
    "            for v in self.graph.succ[u]:\n",
    "                if len(S) == self.max_component_size:\n",
    "                    break\n",
    "                if v not in S:\n",
    "                    S.add(v)\n",
    "                    Q.put(v)\n",
    "            if len(S) == self.max_component_size:\n",
    "                break\n",
    "        indexes=list(S)\n",
    "        if len(indexes) < self.max_component_size:\n",
    "            indexes = indexes+list(np.random.choice(len(self.graph),self.max_component_size-len(indexes)))\n",
    "        self.counter+=1\n",
    "        A=self.adjacency_matrix[np.ix_(indexes,indexes)]\n",
    "        inputs=self.inputs[indexes,:]\n",
    "        return ((A,inputs),self.targets[indexes,:])\n",
    "\n",
    "    \n",
    "    def __len__(self):\n",
    "        return len(self.graph)\n",
    "data_loader=DataLoader(graph_mapped,cora_input,cora_target,max_component_size=50)\n",
    "signature=(  (tf.TensorSpec(shape=(None,None)),tf.TensorSpec(shape=(None,1434))),  tf.TensorSpec(shape=(None,8))  )\n",
    "dataset=tf.data.Dataset.from_generator(lambda :data_loader,output_signature=signature).batch(32)\n",
    "for (A0,A1),A2 in dataset:\n",
    "    print(A2.shape)\n",
    "    break\n",
    "    \n",
    "validation_dataset=tf.data.Dataset.from_generator(lambda :data_loader,output_signature=signature).batch(32).take(64)"
   ]
  },
  {
   "cell_type": "code",
   "execution_count": 564,
   "id": "0a2370e9-c34a-4188-b931-9f1ae9cdbb69",
   "metadata": {},
   "outputs": [],
   "source": [
    "nodes=len(mapper)\n",
    "x=tf.keras.layers.Input(shape=(None,1434),name=\"input\")\n",
    "g=tf.keras.layers.Input(shape=(None,None),name=\"graph\")\n",
    "y=gnn.gcn.WGCN(24,activation=\"relu\",name=\"H\")((g,g,x))\n",
    "y=gnn.gcn.WGCN(32,activation=\"relu\",name=\"B\")((g,g,y))\n",
    "output=y\n",
    "output=tf.keras.layers.Dense(8,activation=\"softmax\",name=\"prediction\")(output)\n",
    "model=tf.keras.Model(inputs=[g,x],outputs=output)\n",
    "model.compile(loss=tf.keras.losses.CategoricalCrossentropy(),optimizer=\"adam\",metrics=[\"accuracy\"])"
   ]
  },
  {
   "cell_type": "code",
   "execution_count": 568,
   "id": "df2835d2-fc90-4c91-899e-c11b5bf8237c",
   "metadata": {},
   "outputs": [
    {
     "name": "stdout",
     "output_type": "stream",
     "text": [
      "Epoch 1/12\n",
      "84/84 [==============================] - 5s 58ms/step - loss: 0.3832 - accuracy: 0.9254 - val_loss: 0.2036 - val_accuracy: 0.9667\n",
      "Epoch 2/12\n",
      "84/84 [==============================] - 5s 58ms/step - loss: 0.1925 - accuracy: 0.9716 - val_loss: 0.1739 - val_accuracy: 0.9775\n",
      "Epoch 3/12\n",
      "84/84 [==============================] - 5s 57ms/step - loss: 0.1590 - accuracy: 0.9764 - val_loss: 0.1418 - val_accuracy: 0.9827\n",
      "Epoch 4/12\n",
      "84/84 [==============================] - 5s 58ms/step - loss: 0.1955 - accuracy: 0.9686 - val_loss: 0.1952 - val_accuracy: 0.9714\n",
      "Epoch 5/12\n",
      "84/84 [==============================] - 5s 60ms/step - loss: 0.1902 - accuracy: 0.9714 - val_loss: 0.1952 - val_accuracy: 0.9735\n",
      "Epoch 6/12\n",
      "84/84 [==============================] - 5s 59ms/step - loss: 0.2386 - accuracy: 0.9593 - val_loss: 0.2189 - val_accuracy: 0.9642\n",
      "Epoch 7/12\n",
      "84/84 [==============================] - 4s 46ms/step - loss: 0.1593 - accuracy: 0.9773 - val_loss: 0.1358 - val_accuracy: 0.9816\n",
      "Epoch 8/12\n",
      "84/84 [==============================] - 4s 48ms/step - loss: 0.1518 - accuracy: 0.9776 - val_loss: 0.1535 - val_accuracy: 0.9788\n",
      "Epoch 9/12\n",
      "84/84 [==============================] - 4s 47ms/step - loss: 0.1368 - accuracy: 0.9791 - val_loss: 0.1361 - val_accuracy: 0.9807\n",
      "Epoch 10/12\n",
      "84/84 [==============================] - 4s 46ms/step - loss: 0.1276 - accuracy: 0.9826 - val_loss: 0.1156 - val_accuracy: 0.9841\n",
      "Epoch 11/12\n",
      "84/84 [==============================] - 4s 46ms/step - loss: 0.2983 - accuracy: 0.9436 - val_loss: 0.2643 - val_accuracy: 0.9453\n",
      "Epoch 12/12\n",
      "84/84 [==============================] - 4s 49ms/step - loss: 0.1763 - accuracy: 0.9716 - val_loss: 0.1266 - val_accuracy: 0.9817\n"
     ]
    },
    {
     "data": {
      "text/plain": [
       "<keras.callbacks.History at 0x7f5e0022da80>"
      ]
     },
     "execution_count": 568,
     "metadata": {},
     "output_type": "execute_result"
    }
   ],
   "source": [
    "model.fit(dataset,epochs=12,steps_per_epoch=84,validation_data=validation_dataset)"
   ]
  },
  {
   "cell_type": "code",
   "execution_count": 447,
   "id": "794f2045-66bd-4dbf-bb2d-9dd5d6cc6ff1",
   "metadata": {},
   "outputs": [
    {
     "name": "stderr",
     "output_type": "stream",
     "text": [
      "2023-06-14 22:13:23.143277: I tensorflow/core/common_runtime/executor.cc:1197] [/device:CPU:0] (DEBUG INFO) Executor start aborting (this does not indicate an error and you can ignore this message): INVALID_ARGUMENT: You must feed a value for placeholder tensor 'Placeholder/_0' with dtype int32\n",
      "\t [[{{node Placeholder/_0}}]]\n",
      "2023-06-14 22:13:23.163252: W tensorflow/core/framework/op_kernel.cc:1818] INVALID_ARGUMENT: TypeError: `generator` yielded an element of shape (10,) where an element of shape (None, None) was expected.\n",
      "Traceback (most recent call last):\n",
      "\n",
      "  File \"/home/ramizouari/anaconda3/envs/StochasticGames/lib/python3.10/site-packages/tensorflow/python/ops/script_ops.py\", line 267, in __call__\n",
      "    ret = func(*args)\n",
      "\n",
      "  File \"/home/ramizouari/anaconda3/envs/StochasticGames/lib/python3.10/site-packages/tensorflow/python/autograph/impl/api.py\", line 642, in wrapper\n",
      "    return func(*args, **kwargs)\n",
      "\n",
      "  File \"/home/ramizouari/anaconda3/envs/StochasticGames/lib/python3.10/site-packages/tensorflow/python/data/ops/from_generator_op.py\", line 235, in generator_py_func\n",
      "    raise TypeError(\n",
      "\n",
      "TypeError: `generator` yielded an element of shape (10,) where an element of shape (None, None) was expected.\n",
      "\n",
      "\n",
      "2023-06-14 22:13:23.163290: I tensorflow/core/common_runtime/executor.cc:1197] [/job:localhost/replica:0/task:0/device:CPU:0] (DEBUG INFO) Executor start aborting (this does not indicate an error and you can ignore this message): INVALID_ARGUMENT: TypeError: `generator` yielded an element of shape (10,) where an element of shape (None, None) was expected.\n",
      "Traceback (most recent call last):\n",
      "\n",
      "  File \"/home/ramizouari/anaconda3/envs/StochasticGames/lib/python3.10/site-packages/tensorflow/python/ops/script_ops.py\", line 267, in __call__\n",
      "    ret = func(*args)\n",
      "\n",
      "  File \"/home/ramizouari/anaconda3/envs/StochasticGames/lib/python3.10/site-packages/tensorflow/python/autograph/impl/api.py\", line 642, in wrapper\n",
      "    return func(*args, **kwargs)\n",
      "\n",
      "  File \"/home/ramizouari/anaconda3/envs/StochasticGames/lib/python3.10/site-packages/tensorflow/python/data/ops/from_generator_op.py\", line 235, in generator_py_func\n",
      "    raise TypeError(\n",
      "\n",
      "TypeError: `generator` yielded an element of shape (10,) where an element of shape (None, None) was expected.\n",
      "\n",
      "\n",
      "\t [[{{node PyFunc}}]]\n",
      "2023-06-14 22:13:23.189397: W tensorflow/core/framework/op_kernel.cc:1818] INVALID_ARGUMENT: TypeError: `generator` yielded an element of shape (10,) where an element of shape (None, None) was expected.\n",
      "Traceback (most recent call last):\n",
      "\n",
      "  File \"/home/ramizouari/anaconda3/envs/StochasticGames/lib/python3.10/site-packages/tensorflow/python/ops/script_ops.py\", line 267, in __call__\n",
      "    ret = func(*args)\n",
      "\n",
      "  File \"/home/ramizouari/anaconda3/envs/StochasticGames/lib/python3.10/site-packages/tensorflow/python/autograph/impl/api.py\", line 642, in wrapper\n",
      "    return func(*args, **kwargs)\n",
      "\n",
      "  File \"/home/ramizouari/anaconda3/envs/StochasticGames/lib/python3.10/site-packages/tensorflow/python/data/ops/from_generator_op.py\", line 235, in generator_py_func\n",
      "    raise TypeError(\n",
      "\n",
      "TypeError: `generator` yielded an element of shape (10,) where an element of shape (None, None) was expected.\n",
      "\n",
      "\n",
      "2023-06-14 22:13:23.189465: I tensorflow/core/common_runtime/executor.cc:1197] [/job:localhost/replica:0/task:0/device:CPU:0] (DEBUG INFO) Executor start aborting (this does not indicate an error and you can ignore this message): INVALID_ARGUMENT: TypeError: `generator` yielded an element of shape (10,) where an element of shape (None, None) was expected.\n",
      "Traceback (most recent call last):\n",
      "\n",
      "  File \"/home/ramizouari/anaconda3/envs/StochasticGames/lib/python3.10/site-packages/tensorflow/python/ops/script_ops.py\", line 267, in __call__\n",
      "    ret = func(*args)\n",
      "\n",
      "  File \"/home/ramizouari/anaconda3/envs/StochasticGames/lib/python3.10/site-packages/tensorflow/python/autograph/impl/api.py\", line 642, in wrapper\n",
      "    return func(*args, **kwargs)\n",
      "\n",
      "  File \"/home/ramizouari/anaconda3/envs/StochasticGames/lib/python3.10/site-packages/tensorflow/python/data/ops/from_generator_op.py\", line 235, in generator_py_func\n",
      "    raise TypeError(\n",
      "\n",
      "TypeError: `generator` yielded an element of shape (10,) where an element of shape (None, None) was expected.\n",
      "\n",
      "\n",
      "\t [[{{node PyFunc}}]]\n"
     ]
    },
    {
     "ename": "InvalidArgumentError",
     "evalue": "{{function_node __wrapped__IteratorGetNext_output_types_3_device_/job:localhost/replica:0/task:0/device:CPU:0}} TypeError: `generator` yielded an element of shape (10,) where an element of shape (None, None) was expected.\nTraceback (most recent call last):\n\n  File \"/home/ramizouari/anaconda3/envs/StochasticGames/lib/python3.10/site-packages/tensorflow/python/ops/script_ops.py\", line 267, in __call__\n    ret = func(*args)\n\n  File \"/home/ramizouari/anaconda3/envs/StochasticGames/lib/python3.10/site-packages/tensorflow/python/autograph/impl/api.py\", line 642, in wrapper\n    return func(*args, **kwargs)\n\n  File \"/home/ramizouari/anaconda3/envs/StochasticGames/lib/python3.10/site-packages/tensorflow/python/data/ops/from_generator_op.py\", line 235, in generator_py_func\n    raise TypeError(\n\nTypeError: `generator` yielded an element of shape (10,) where an element of shape (None, None) was expected.\n\n\n\t [[{{node PyFunc}}]] [Op:IteratorGetNext]",
     "output_type": "error",
     "traceback": [
      "\u001b[0;31m---------------------------------------------------------------------------\u001b[0m",
      "\u001b[0;31mInvalidArgumentError\u001b[0m                      Traceback (most recent call last)",
      "Cell \u001b[0;32mIn[447], line 1\u001b[0m\n\u001b[0;32m----> 1\u001b[0m \u001b[38;5;28;01mfor\u001b[39;00m (A0,A1),A2 \u001b[38;5;129;01min\u001b[39;00m dataset:\n\u001b[1;32m      2\u001b[0m     \u001b[38;5;28mprint\u001b[39m(A0\u001b[38;5;241m.\u001b[39mshape)\n\u001b[1;32m      3\u001b[0m     \u001b[38;5;28;01mbreak\u001b[39;00m\n",
      "File \u001b[0;32m~/anaconda3/envs/StochasticGames/lib/python3.10/site-packages/tensorflow/python/data/ops/iterator_ops.py:797\u001b[0m, in \u001b[0;36mOwnedIterator.__next__\u001b[0;34m(self)\u001b[0m\n\u001b[1;32m    795\u001b[0m \u001b[38;5;28;01mdef\u001b[39;00m \u001b[38;5;21m__next__\u001b[39m(\u001b[38;5;28mself\u001b[39m):\n\u001b[1;32m    796\u001b[0m   \u001b[38;5;28;01mtry\u001b[39;00m:\n\u001b[0;32m--> 797\u001b[0m     \u001b[38;5;28;01mreturn\u001b[39;00m \u001b[38;5;28;43mself\u001b[39;49m\u001b[38;5;241;43m.\u001b[39;49m\u001b[43m_next_internal\u001b[49m\u001b[43m(\u001b[49m\u001b[43m)\u001b[49m\n\u001b[1;32m    798\u001b[0m   \u001b[38;5;28;01mexcept\u001b[39;00m errors\u001b[38;5;241m.\u001b[39mOutOfRangeError:\n\u001b[1;32m    799\u001b[0m     \u001b[38;5;28;01mraise\u001b[39;00m \u001b[38;5;167;01mStopIteration\u001b[39;00m\n",
      "File \u001b[0;32m~/anaconda3/envs/StochasticGames/lib/python3.10/site-packages/tensorflow/python/data/ops/iterator_ops.py:780\u001b[0m, in \u001b[0;36mOwnedIterator._next_internal\u001b[0;34m(self)\u001b[0m\n\u001b[1;32m    777\u001b[0m \u001b[38;5;66;03m# TODO(b/77291417): This runs in sync mode as iterators use an error status\u001b[39;00m\n\u001b[1;32m    778\u001b[0m \u001b[38;5;66;03m# to communicate that there is no more data to iterate over.\u001b[39;00m\n\u001b[1;32m    779\u001b[0m \u001b[38;5;28;01mwith\u001b[39;00m context\u001b[38;5;241m.\u001b[39mexecution_mode(context\u001b[38;5;241m.\u001b[39mSYNC):\n\u001b[0;32m--> 780\u001b[0m   ret \u001b[38;5;241m=\u001b[39m \u001b[43mgen_dataset_ops\u001b[49m\u001b[38;5;241;43m.\u001b[39;49m\u001b[43miterator_get_next\u001b[49m\u001b[43m(\u001b[49m\n\u001b[1;32m    781\u001b[0m \u001b[43m      \u001b[49m\u001b[38;5;28;43mself\u001b[39;49m\u001b[38;5;241;43m.\u001b[39;49m\u001b[43m_iterator_resource\u001b[49m\u001b[43m,\u001b[49m\n\u001b[1;32m    782\u001b[0m \u001b[43m      \u001b[49m\u001b[43moutput_types\u001b[49m\u001b[38;5;241;43m=\u001b[39;49m\u001b[38;5;28;43mself\u001b[39;49m\u001b[38;5;241;43m.\u001b[39;49m\u001b[43m_flat_output_types\u001b[49m\u001b[43m,\u001b[49m\n\u001b[1;32m    783\u001b[0m \u001b[43m      \u001b[49m\u001b[43moutput_shapes\u001b[49m\u001b[38;5;241;43m=\u001b[39;49m\u001b[38;5;28;43mself\u001b[39;49m\u001b[38;5;241;43m.\u001b[39;49m\u001b[43m_flat_output_shapes\u001b[49m\u001b[43m)\u001b[49m\n\u001b[1;32m    785\u001b[0m   \u001b[38;5;28;01mtry\u001b[39;00m:\n\u001b[1;32m    786\u001b[0m     \u001b[38;5;66;03m# Fast path for the case `self._structure` is not a nested structure.\u001b[39;00m\n\u001b[1;32m    787\u001b[0m     \u001b[38;5;28;01mreturn\u001b[39;00m \u001b[38;5;28mself\u001b[39m\u001b[38;5;241m.\u001b[39m_element_spec\u001b[38;5;241m.\u001b[39m_from_compatible_tensor_list(ret)  \u001b[38;5;66;03m# pylint: disable=protected-access\u001b[39;00m\n",
      "File \u001b[0;32m~/anaconda3/envs/StochasticGames/lib/python3.10/site-packages/tensorflow/python/ops/gen_dataset_ops.py:3016\u001b[0m, in \u001b[0;36miterator_get_next\u001b[0;34m(iterator, output_types, output_shapes, name)\u001b[0m\n\u001b[1;32m   3014\u001b[0m   \u001b[38;5;28;01mreturn\u001b[39;00m _result\n\u001b[1;32m   3015\u001b[0m \u001b[38;5;28;01mexcept\u001b[39;00m _core\u001b[38;5;241m.\u001b[39m_NotOkStatusException \u001b[38;5;28;01mas\u001b[39;00m e:\n\u001b[0;32m-> 3016\u001b[0m   \u001b[43m_ops\u001b[49m\u001b[38;5;241;43m.\u001b[39;49m\u001b[43mraise_from_not_ok_status\u001b[49m\u001b[43m(\u001b[49m\u001b[43me\u001b[49m\u001b[43m,\u001b[49m\u001b[43m \u001b[49m\u001b[43mname\u001b[49m\u001b[43m)\u001b[49m\n\u001b[1;32m   3017\u001b[0m \u001b[38;5;28;01mexcept\u001b[39;00m _core\u001b[38;5;241m.\u001b[39m_FallbackException:\n\u001b[1;32m   3018\u001b[0m   \u001b[38;5;28;01mpass\u001b[39;00m\n",
      "File \u001b[0;32m~/anaconda3/envs/StochasticGames/lib/python3.10/site-packages/tensorflow/python/framework/ops.py:7262\u001b[0m, in \u001b[0;36mraise_from_not_ok_status\u001b[0;34m(e, name)\u001b[0m\n\u001b[1;32m   7260\u001b[0m \u001b[38;5;28;01mdef\u001b[39;00m \u001b[38;5;21mraise_from_not_ok_status\u001b[39m(e, name):\n\u001b[1;32m   7261\u001b[0m   e\u001b[38;5;241m.\u001b[39mmessage \u001b[38;5;241m+\u001b[39m\u001b[38;5;241m=\u001b[39m (\u001b[38;5;124m\"\u001b[39m\u001b[38;5;124m name: \u001b[39m\u001b[38;5;124m\"\u001b[39m \u001b[38;5;241m+\u001b[39m name \u001b[38;5;28;01mif\u001b[39;00m name \u001b[38;5;129;01mis\u001b[39;00m \u001b[38;5;129;01mnot\u001b[39;00m \u001b[38;5;28;01mNone\u001b[39;00m \u001b[38;5;28;01melse\u001b[39;00m \u001b[38;5;124m\"\u001b[39m\u001b[38;5;124m\"\u001b[39m)\n\u001b[0;32m-> 7262\u001b[0m   \u001b[38;5;28;01mraise\u001b[39;00m core\u001b[38;5;241m.\u001b[39m_status_to_exception(e) \u001b[38;5;28;01mfrom\u001b[39;00m \u001b[38;5;28mNone\u001b[39m\n",
      "\u001b[0;31mInvalidArgumentError\u001b[0m: {{function_node __wrapped__IteratorGetNext_output_types_3_device_/job:localhost/replica:0/task:0/device:CPU:0}} TypeError: `generator` yielded an element of shape (10,) where an element of shape (None, None) was expected.\nTraceback (most recent call last):\n\n  File \"/home/ramizouari/anaconda3/envs/StochasticGames/lib/python3.10/site-packages/tensorflow/python/ops/script_ops.py\", line 267, in __call__\n    ret = func(*args)\n\n  File \"/home/ramizouari/anaconda3/envs/StochasticGames/lib/python3.10/site-packages/tensorflow/python/autograph/impl/api.py\", line 642, in wrapper\n    return func(*args, **kwargs)\n\n  File \"/home/ramizouari/anaconda3/envs/StochasticGames/lib/python3.10/site-packages/tensorflow/python/data/ops/from_generator_op.py\", line 235, in generator_py_func\n    raise TypeError(\n\nTypeError: `generator` yielded an element of shape (10,) where an element of shape (None, None) was expected.\n\n\n\t [[{{node PyFunc}}]] [Op:IteratorGetNext]"
     ]
    }
   ],
   "source": []
  },
  {
   "cell_type": "code",
   "execution_count": 415,
   "id": "397b53db-fb52-495f-94cd-ac5c5c96c209",
   "metadata": {},
   "outputs": [
    {
     "data": {
      "text/plain": [
       "5416"
      ]
     },
     "execution_count": 416,
     "metadata": {},
     "output_type": "execute_result"
    }
   ],
   "source": []
  },
  {
   "cell_type": "code",
   "execution_count": 374,
   "id": "defa5399-b3ea-4566-ab52-b97c41b800c5",
   "metadata": {},
   "outputs": [
    {
     "data": {
      "text/plain": [
       "5416"
      ]
     },
     "execution_count": 374,
     "metadata": {},
     "output_type": "execute_result"
    }
   ],
   "source": [
    "for k in da"
   ]
  },
  {
   "cell_type": "code",
   "execution_count": 390,
   "id": "0749de01-0e10-4504-b19c-69e4c1d6321b",
   "metadata": {},
   "outputs": [],
   "source": []
  },
  {
   "cell_type": "code",
   "execution_count": 391,
   "id": "497f7532-9f29-4b05-aaf8-13ff9b9d47fe",
   "metadata": {},
   "outputs": [
    {
     "ename": "InvalidIndexError",
     "evalue": "(array([2411, 2125,  824, 1762,  775,  237, 2429,  858, 1378,  323,  179,\n        824, 2358, 1093,  579, 2242, 1281, 2453, 2653, 2468, 1593,  752,\n       2141, 1326, 1263, 1198, 1523, 1744, 1148, 1114,  167,  730, 1103,\n       1385, 2292, 2469, 2223, 1693, 1479, 1645, 1539, 2158, 1414,  539,\n       1288, 2065, 2517, 1931, 1833, 1023]), slice(None, None, None))",
     "output_type": "error",
     "traceback": [
      "\u001b[0;31m---------------------------------------------------------------------------\u001b[0m",
      "\u001b[0;31mTypeError\u001b[0m                                 Traceback (most recent call last)",
      "File \u001b[0;32m~/anaconda3/envs/StochasticGames/lib/python3.10/site-packages/pandas/core/indexes/base.py:3652\u001b[0m, in \u001b[0;36mIndex.get_loc\u001b[0;34m(self, key)\u001b[0m\n\u001b[1;32m   3651\u001b[0m \u001b[38;5;28;01mtry\u001b[39;00m:\n\u001b[0;32m-> 3652\u001b[0m     \u001b[38;5;28;01mreturn\u001b[39;00m \u001b[38;5;28;43mself\u001b[39;49m\u001b[38;5;241;43m.\u001b[39;49m\u001b[43m_engine\u001b[49m\u001b[38;5;241;43m.\u001b[39;49m\u001b[43mget_loc\u001b[49m\u001b[43m(\u001b[49m\u001b[43mcasted_key\u001b[49m\u001b[43m)\u001b[49m\n\u001b[1;32m   3653\u001b[0m \u001b[38;5;28;01mexcept\u001b[39;00m \u001b[38;5;167;01mKeyError\u001b[39;00m \u001b[38;5;28;01mas\u001b[39;00m err:\n",
      "File \u001b[0;32m~/anaconda3/envs/StochasticGames/lib/python3.10/site-packages/pandas/_libs/index.pyx:147\u001b[0m, in \u001b[0;36mpandas._libs.index.IndexEngine.get_loc\u001b[0;34m()\u001b[0m\n",
      "File \u001b[0;32m~/anaconda3/envs/StochasticGames/lib/python3.10/site-packages/pandas/_libs/index.pyx:153\u001b[0m, in \u001b[0;36mpandas._libs.index.IndexEngine.get_loc\u001b[0;34m()\u001b[0m\n",
      "\u001b[0;31mTypeError\u001b[0m: '(array([2411, 2125,  824, 1762,  775,  237, 2429,  858, 1378,  323,  179,\n        824, 2358, 1093,  579, 2242, 1281, 2453, 2653, 2468, 1593,  752,\n       2141, 1326, 1263, 1198, 1523, 1744, 1148, 1114,  167,  730, 1103,\n       1385, 2292, 2469, 2223, 1693, 1479, 1645, 1539, 2158, 1414,  539,\n       1288, 2065, 2517, 1931, 1833, 1023]), slice(None, None, None))' is an invalid key",
      "\nDuring handling of the above exception, another exception occurred:\n",
      "\u001b[0;31mInvalidIndexError\u001b[0m                         Traceback (most recent call last)",
      "Cell \u001b[0;32mIn[394], line 1\u001b[0m\n\u001b[0;32m----> 1\u001b[0m \u001b[38;5;28;01mfor\u001b[39;00m k \u001b[38;5;129;01min\u001b[39;00m data_loader:\n\u001b[1;32m      2\u001b[0m     \u001b[38;5;28mprint\u001b[39m(k)\n\u001b[1;32m      3\u001b[0m     \u001b[38;5;28;01mbreak\u001b[39;00m\n",
      "Cell \u001b[0;32mIn[392], line 20\u001b[0m, in \u001b[0;36mDataLoader.__next__\u001b[0;34m(self)\u001b[0m\n\u001b[1;32m     18\u001b[0m     indexes\u001b[38;5;241m=\u001b[39mnp\u001b[38;5;241m.\u001b[39mrandom\u001b[38;5;241m.\u001b[39mchoice(component,\u001b[38;5;28mmin\u001b[39m(\u001b[38;5;28mlen\u001b[39m(component),\u001b[38;5;28mself\u001b[39m\u001b[38;5;241m.\u001b[39mmax_component_size))\n\u001b[1;32m     19\u001b[0m     \u001b[38;5;28mself\u001b[39m\u001b[38;5;241m.\u001b[39mcounter\u001b[38;5;241m+\u001b[39m\u001b[38;5;241m=\u001b[39m\u001b[38;5;241m1\u001b[39m\n\u001b[0;32m---> 20\u001b[0m     \u001b[38;5;28;01mreturn\u001b[39;00m ((\u001b[38;5;28mself\u001b[39m\u001b[38;5;241m.\u001b[39madjacency_matrix[indexes,indexes],\u001b[38;5;28;43mself\u001b[39;49m\u001b[38;5;241;43m.\u001b[39;49m\u001b[43minputs\u001b[49m\u001b[43m[\u001b[49m\u001b[43mindexes\u001b[49m\u001b[43m,\u001b[49m\u001b[43m:\u001b[49m\u001b[43m]\u001b[49m),\u001b[38;5;28mself\u001b[39m\u001b[38;5;241m.\u001b[39mtargets[indexes,:])\n\u001b[1;32m     21\u001b[0m \u001b[38;5;28;01melse\u001b[39;00m:\n\u001b[1;32m     22\u001b[0m     \u001b[38;5;28mself\u001b[39m\u001b[38;5;241m.\u001b[39mcounter\u001b[38;5;241m=\u001b[39m\u001b[38;5;241m0\u001b[39m\n",
      "File \u001b[0;32m~/anaconda3/envs/StochasticGames/lib/python3.10/site-packages/pandas/core/frame.py:3761\u001b[0m, in \u001b[0;36mDataFrame.__getitem__\u001b[0;34m(self, key)\u001b[0m\n\u001b[1;32m   3759\u001b[0m \u001b[38;5;28;01mif\u001b[39;00m \u001b[38;5;28mself\u001b[39m\u001b[38;5;241m.\u001b[39mcolumns\u001b[38;5;241m.\u001b[39mnlevels \u001b[38;5;241m>\u001b[39m \u001b[38;5;241m1\u001b[39m:\n\u001b[1;32m   3760\u001b[0m     \u001b[38;5;28;01mreturn\u001b[39;00m \u001b[38;5;28mself\u001b[39m\u001b[38;5;241m.\u001b[39m_getitem_multilevel(key)\n\u001b[0;32m-> 3761\u001b[0m indexer \u001b[38;5;241m=\u001b[39m \u001b[38;5;28;43mself\u001b[39;49m\u001b[38;5;241;43m.\u001b[39;49m\u001b[43mcolumns\u001b[49m\u001b[38;5;241;43m.\u001b[39;49m\u001b[43mget_loc\u001b[49m\u001b[43m(\u001b[49m\u001b[43mkey\u001b[49m\u001b[43m)\u001b[49m\n\u001b[1;32m   3762\u001b[0m \u001b[38;5;28;01mif\u001b[39;00m is_integer(indexer):\n\u001b[1;32m   3763\u001b[0m     indexer \u001b[38;5;241m=\u001b[39m [indexer]\n",
      "File \u001b[0;32m~/anaconda3/envs/StochasticGames/lib/python3.10/site-packages/pandas/core/indexes/base.py:3659\u001b[0m, in \u001b[0;36mIndex.get_loc\u001b[0;34m(self, key)\u001b[0m\n\u001b[1;32m   3654\u001b[0m     \u001b[38;5;28;01mraise\u001b[39;00m \u001b[38;5;167;01mKeyError\u001b[39;00m(key) \u001b[38;5;28;01mfrom\u001b[39;00m \u001b[38;5;21;01merr\u001b[39;00m\n\u001b[1;32m   3655\u001b[0m \u001b[38;5;28;01mexcept\u001b[39;00m \u001b[38;5;167;01mTypeError\u001b[39;00m:\n\u001b[1;32m   3656\u001b[0m     \u001b[38;5;66;03m# If we have a listlike key, _check_indexing_error will raise\u001b[39;00m\n\u001b[1;32m   3657\u001b[0m     \u001b[38;5;66;03m#  InvalidIndexError. Otherwise we fall through and re-raise\u001b[39;00m\n\u001b[1;32m   3658\u001b[0m     \u001b[38;5;66;03m#  the TypeError.\u001b[39;00m\n\u001b[0;32m-> 3659\u001b[0m     \u001b[38;5;28;43mself\u001b[39;49m\u001b[38;5;241;43m.\u001b[39;49m\u001b[43m_check_indexing_error\u001b[49m\u001b[43m(\u001b[49m\u001b[43mkey\u001b[49m\u001b[43m)\u001b[49m\n\u001b[1;32m   3660\u001b[0m     \u001b[38;5;28;01mraise\u001b[39;00m\n",
      "File \u001b[0;32m~/anaconda3/envs/StochasticGames/lib/python3.10/site-packages/pandas/core/indexes/base.py:5736\u001b[0m, in \u001b[0;36mIndex._check_indexing_error\u001b[0;34m(self, key)\u001b[0m\n\u001b[1;32m   5732\u001b[0m \u001b[38;5;28;01mdef\u001b[39;00m \u001b[38;5;21m_check_indexing_error\u001b[39m(\u001b[38;5;28mself\u001b[39m, key):\n\u001b[1;32m   5733\u001b[0m     \u001b[38;5;28;01mif\u001b[39;00m \u001b[38;5;129;01mnot\u001b[39;00m is_scalar(key):\n\u001b[1;32m   5734\u001b[0m         \u001b[38;5;66;03m# if key is not a scalar, directly raise an error (the code below\u001b[39;00m\n\u001b[1;32m   5735\u001b[0m         \u001b[38;5;66;03m# would convert to numpy arrays and raise later any way) - GH29926\u001b[39;00m\n\u001b[0;32m-> 5736\u001b[0m         \u001b[38;5;28;01mraise\u001b[39;00m InvalidIndexError(key)\n",
      "\u001b[0;31mInvalidIndexError\u001b[0m: (array([2411, 2125,  824, 1762,  775,  237, 2429,  858, 1378,  323,  179,\n        824, 2358, 1093,  579, 2242, 1281, 2453, 2653, 2468, 1593,  752,\n       2141, 1326, 1263, 1198, 1523, 1744, 1148, 1114,  167,  730, 1103,\n       1385, 2292, 2469, 2223, 1693, 1479, 1645, 1539, 2158, 1414,  539,\n       1288, 2065, 2517, 1931, 1833, 1023]), slice(None, None, None))"
     ]
    }
   ],
   "source": []
  },
  {
   "cell_type": "code",
   "execution_count": 588,
   "id": "67ce4618-67c1-4267-9147-c3a0b2df83f6",
   "metadata": {},
   "outputs": [
    {
     "data": {
      "text/plain": [
       "<KerasTensor: shape=(None, 1434, 1434) dtype=float32 (created by layer 'dot_4')>"
      ]
     },
     "execution_count": 588,
     "metadata": {},
     "output_type": "execute_result"
    }
   ],
   "source": [
    "tf.keras.layers.Dot(axes=(1,1))((x,x))"
   ]
  },
  {
   "cell_type": "code",
   "execution_count": 689,
   "id": "28b34275-308c-4dd4-96f2-5c10ab2c0f57",
   "metadata": {},
   "outputs": [],
   "source": [
    "R=tf.concat([tf.random.uniform([5,1,8,7])]*8,axis=1)\n",
    "O=tf.random.uniform([5,1,8,7])"
   ]
  },
  {
   "cell_type": "code",
   "execution_count": 690,
   "id": "9cd952dc-80ed-4fd5-9e20-80d5429dc405",
   "metadata": {},
   "outputs": [],
   "source": [
    "OO=tf.linalg.matmul(R,O,transpose_a=True)"
   ]
  },
  {
   "cell_type": "code",
   "execution_count": 693,
   "id": "3936c8f8-dbd8-4cff-9ab1-daea030b4def",
   "metadata": {},
   "outputs": [
    {
     "data": {
      "text/plain": [
       "<tf.Tensor: shape=(5, 7, 7), dtype=float32, numpy=\n",
       "array([[[1.7621603 , 2.2894728 , 1.2296274 , 1.6020095 , 2.2495463 ,\n",
       "         1.6082793 , 1.8895717 ],\n",
       "        [2.5168889 , 3.0804372 , 2.3296845 , 3.0225103 , 3.9840174 ,\n",
       "         2.5132146 , 2.8795948 ],\n",
       "        [2.0061388 , 3.3219666 , 1.79297   , 2.1187174 , 3.1123812 ,\n",
       "         2.1617856 , 2.6272242 ],\n",
       "        [0.7515287 , 1.7849993 , 0.68653375, 0.9826304 , 1.6982837 ,\n",
       "         1.2125562 , 1.8696753 ],\n",
       "        [2.1512322 , 2.5824826 , 1.389887  , 2.3883047 , 3.697256  ,\n",
       "         2.1450052 , 2.6422868 ],\n",
       "        [1.9249227 , 2.2102168 , 1.6618285 , 2.3116577 , 2.8948588 ,\n",
       "         2.09665   , 1.90902   ],\n",
       "        [1.0622282 , 2.2239196 , 1.2219819 , 1.4968036 , 2.1375127 ,\n",
       "         1.480628  , 1.998343  ]],\n",
       "\n",
       "       [[2.3857453 , 1.6308819 , 2.0737286 , 1.1093215 , 1.7710793 ,\n",
       "         1.9981996 , 2.5451553 ],\n",
       "        [1.3533068 , 0.73741657, 1.5321262 , 0.45784006, 1.2796782 ,\n",
       "         0.92517835, 1.5147383 ],\n",
       "        [1.6755888 , 1.1212034 , 1.4705777 , 0.7606866 , 1.2627045 ,\n",
       "         1.1067368 , 1.8749323 ],\n",
       "        [1.8535247 , 1.3624556 , 1.3653269 , 0.9940169 , 0.92524314,\n",
       "         0.8936007 , 1.7882626 ],\n",
       "        [1.3923033 , 0.7199373 , 1.7636144 , 0.5113418 , 1.5748051 ,\n",
       "         1.2689815 , 1.6178705 ],\n",
       "        [2.9136732 , 2.102771  , 2.6910453 , 1.4776219 , 2.0939713 ,\n",
       "         2.2988513 , 3.1287277 ],\n",
       "        [2.175875  , 1.4001272 , 1.6845814 , 0.8849738 , 1.5413527 ,\n",
       "         1.5776284 , 2.420343  ]],\n",
       "\n",
       "       [[1.7645599 , 1.9606929 , 1.9331032 , 2.3395774 , 2.180614  ,\n",
       "         1.5685991 , 1.8805102 ],\n",
       "        [1.1323166 , 1.5065058 , 1.6153209 , 2.1944094 , 2.3131516 ,\n",
       "         1.7468338 , 1.7116033 ],\n",
       "        [1.9355863 , 2.1634908 , 1.7652317 , 2.311143  , 2.178765  ,\n",
       "         1.6358835 , 2.0050492 ],\n",
       "        [1.7081419 , 1.9306986 , 1.4684633 , 1.9942505 , 1.9477959 ,\n",
       "         1.5966021 , 1.4635379 ],\n",
       "        [2.3220375 , 2.6768885 , 2.428819  , 3.3321846 , 2.9830153 ,\n",
       "         2.2970192 , 2.4356618 ],\n",
       "        [1.6659069 , 2.5521123 , 2.1827164 , 2.813547  , 2.1392922 ,\n",
       "         1.900954  , 1.8631172 ],\n",
       "        [2.213725  , 2.6640341 , 2.632522  , 3.7421925 , 3.3439429 ,\n",
       "         2.5768266 , 2.7518156 ]],\n",
       "\n",
       "       [[2.3481815 , 2.7033057 , 2.8659594 , 3.3772879 , 2.703366  ,\n",
       "         3.6109993 , 3.5726583 ],\n",
       "        [1.3842096 , 1.6985267 , 2.157473  , 2.1570196 , 1.7467258 ,\n",
       "         2.1704206 , 2.3500805 ],\n",
       "        [2.5819771 , 2.5471523 , 3.0855665 , 3.1605728 , 2.5049534 ,\n",
       "         3.6600192 , 3.2173374 ],\n",
       "        [1.9980943 , 2.4179983 , 2.3757555 , 2.387471  , 1.7717803 ,\n",
       "         3.2294486 , 2.519624  ],\n",
       "        [2.0021465 , 2.109383  , 1.714153  , 2.3569193 , 2.5242126 ,\n",
       "         2.8069575 , 2.3154407 ],\n",
       "        [2.1838849 , 2.03926   , 2.3283474 , 2.63826   , 2.498661  ,\n",
       "         3.0801404 , 2.4476297 ],\n",
       "        [1.92639   , 1.8996725 , 2.6587849 , 2.6050367 , 1.629486  ,\n",
       "         2.8714845 , 2.3171518 ]],\n",
       "\n",
       "       [[2.0195868 , 1.8866823 , 2.5433571 , 1.5635058 , 2.1838648 ,\n",
       "         2.0819268 , 2.0411298 ],\n",
       "        [1.4768511 , 1.32497   , 2.0336826 , 1.4185412 , 1.4940797 ,\n",
       "         1.4447483 , 1.6234354 ],\n",
       "        [1.2156521 , 1.2113823 , 1.9178053 , 1.5533007 , 1.7037115 ,\n",
       "         1.6192644 , 1.8860701 ],\n",
       "        [2.2845902 , 1.9863211 , 3.198383  , 1.7957077 , 1.9980959 ,\n",
       "         2.2682252 , 2.1716073 ],\n",
       "        [2.228482  , 2.1269143 , 3.1998348 , 2.012259  , 2.1279733 ,\n",
       "         2.180701  , 2.096666  ],\n",
       "        [1.5836347 , 1.827573  , 2.5422997 , 2.1914625 , 2.1823304 ,\n",
       "         2.097424  , 1.9642817 ],\n",
       "        [1.9523005 , 1.6306853 , 3.0574148 , 1.7734559 , 2.210612  ,\n",
       "         2.1051953 , 2.0294573 ]]], dtype=float32)>"
      ]
     },
     "execution_count": 693,
     "metadata": {},
     "output_type": "execute_result"
    }
   ],
   "source": [
    "OO[:,2,:,:]"
   ]
  },
  {
   "cell_type": "markdown",
   "id": "11c8fb13-576a-4bd6-8c2d-d40b4bb24816",
   "metadata": {},
   "source": [
    "# "
   ]
  }
 ],
 "metadata": {
  "kernelspec": {
   "display_name": "Python 3 (ipykernel)",
   "language": "python",
   "name": "python3"
  },
  "language_info": {
   "codemirror_mode": {
    "name": "ipython",
    "version": 3
   },
   "file_extension": ".py",
   "mimetype": "text/x-python",
   "name": "python",
   "nbconvert_exporter": "python",
   "pygments_lexer": "ipython3",
   "version": "3.10.11"
  }
 },
 "nbformat": 4,
 "nbformat_minor": 5
}
