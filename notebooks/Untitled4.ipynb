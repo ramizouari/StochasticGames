{
 "cells": [
  {
   "cell_type": "code",
   "execution_count": 1,
   "id": "51a63cd8-de40-4afc-8d1e-8459cce71672",
   "metadata": {},
   "outputs": [],
   "source": [
    "import pyspiel\n",
    "mpg=pyspiel.mpg"
   ]
  },
  {
   "cell_type": "code",
   "execution_count": 2,
   "id": "180fbc7f-29d3-4a81-9dde-aa7136fe21b0",
   "metadata": {},
   "outputs": [
    {
     "data": {
      "text/plain": [
       "pyspiel.mpg.MPGEnvironmentState"
      ]
     },
     "execution_count": 2,
     "metadata": {},
     "output_type": "execute_result"
    }
   ],
   "source": [
    "pyspiel.mpg.MPGEnvironmentState"
   ]
  },
  {
   "cell_type": "code",
   "execution_count": 3,
   "id": "61d0c76b-b3c1-432c-a634-5b7f51a243d4",
   "metadata": {},
   "outputs": [
    {
     "ename": "AttributeError",
     "evalue": "module 'pyspiel.mpg' has no attribute 'GreedyBots'",
     "output_type": "error",
     "traceback": [
      "\u001b[0;31m---------------------------------------------------------------------------\u001b[0m",
      "\u001b[0;31mAttributeError\u001b[0m                            Traceback (most recent call last)",
      "Cell \u001b[0;32mIn[3], line 1\u001b[0m\n\u001b[0;32m----> 1\u001b[0m \u001b[43mmpg\u001b[49m\u001b[38;5;241;43m.\u001b[39;49m\u001b[43mGreedyBots\u001b[49m\n",
      "\u001b[0;31mAttributeError\u001b[0m: module 'pyspiel.mpg' has no attribute 'GreedyBots'"
     ]
    }
   ],
   "source": [
    "mpg.GreedyBots"
   ]
  },
  {
   "cell_type": "code",
   "execution_count": 86,
   "id": "80a65237-9fc6-4578-a400-3a2dfc1e1489",
   "metadata": {},
   "outputs": [],
   "source": [
    "\n",
    "REGISTERED_BOTS = {}\n",
    "\n",
    "\n",
    "def register_bot(name):\n",
    "    def _register(func):\n",
    "        if name in REGISTERED_BOTS:\n",
    "            raise ValueError(\"Bot with name {} already registered\".format(name))\n",
    "\n",
    "        REGISTERED_BOTS[name] = func\n",
    "        return func\n",
    "\n",
    "    return _register\n",
    "\n",
    "\n",
    "@register_bot(\"greedy\")\n",
    "def init_greedy_bot():\n",
    "    \"\"\"Initializes a bot.\"\"\"\n",
    "    return pyspiel.mpg.GreedyBot()\n",
    "\n",
    "\n",
    "@register_bot(\"eps-greedy\")\n",
    "def init_eps_greedy_bot(config, epsilon, seed=None):\n",
    "    \"\"\"Initializes a bot.\"\"\"\n",
    "    return pyspiel.mpg.EpsilonGreedyBot()\n"
   ]
  },
  {
   "cell_type": "code",
   "execution_count": 4,
   "id": "7d165ac7-c029-4c0c-955d-0b125b45914b",
   "metadata": {},
   "outputs": [],
   "source": [
    "game=pyspiel.load_game(\"mpg(max_moves=20,max_size=10,generator=gnp,generator_params=10 0.3 -1 1)\")"
   ]
  },
  {
   "cell_type": "code",
   "execution_count": 51,
   "id": "191d2f6d-2820-428a-8532-e506a44a39b7",
   "metadata": {},
   "outputs": [],
   "source": [
    "state=game.new_initial_environment_state()"
   ]
  },
  {
   "cell_type": "code",
   "execution_count": 46,
   "id": "9fa8651a-ce7d-4a94-b4d2-2f95f584bb9f",
   "metadata": {},
   "outputs": [],
   "source": [
    "greedy=mpg.GreedyBot()"
   ]
  },
  {
   "cell_type": "code",
   "execution_count": 47,
   "id": "75fdcb24-1245-42ac-b91b-54a7ea9714eb",
   "metadata": {},
   "outputs": [
    {
     "ename": "AttributeError",
     "evalue": "'pyspiel.mpg.GreedyBot' object has no attribute 'mro'",
     "output_type": "error",
     "traceback": [
      "\u001b[0;31m---------------------------------------------------------------------------\u001b[0m",
      "\u001b[0;31mAttributeError\u001b[0m                            Traceback (most recent call last)",
      "Cell \u001b[0;32mIn[47], line 1\u001b[0m\n\u001b[0;32m----> 1\u001b[0m \u001b[43mgreedy\u001b[49m\u001b[38;5;241;43m.\u001b[39;49m\u001b[43mmro\u001b[49m()\n",
      "\u001b[0;31mAttributeError\u001b[0m: 'pyspiel.mpg.GreedyBot' object has no attribute 'mro'"
     ]
    }
   ],
   "source": [
    "greedy.mro()"
   ]
  },
  {
   "cell_type": "code",
   "execution_count": 48,
   "id": "ea9af722-4e75-4ece-88ad-257fed21d3dd",
   "metadata": {},
   "outputs": [
    {
     "data": {
      "text/plain": [
       "True"
      ]
     },
     "execution_count": 48,
     "metadata": {},
     "output_type": "execute_result"
    }
   ],
   "source": [
    "greedy.is_clonable()"
   ]
  },
  {
   "cell_type": "code",
   "execution_count": 53,
   "id": "ba614c47-7cbf-433e-9a1a-b40ca7e0e4fd",
   "metadata": {},
   "outputs": [
    {
     "data": {
      "text/plain": [
       "(0, 0)"
      ]
     },
     "execution_count": 53,
     "metadata": {},
     "output_type": "execute_result"
    }
   ],
   "source": [
    "state.current_player(),state.get_current_state()"
   ]
  },
  {
   "cell_type": "code",
   "execution_count": 90,
   "id": "93800b31-feb3-4535-8573-25069d784880",
   "metadata": {},
   "outputs": [
    {
     "data": {
      "text/plain": [
       "pyspiel.mpg.MPGEnvironmentState"
      ]
     },
     "execution_count": 90,
     "metadata": {},
     "output_type": "execute_result"
    }
   ],
   "source": []
  },
  {
   "cell_type": "code",
   "execution_count": 59,
   "id": "782b6d44-85bc-46a6-8f18-046389be70a8",
   "metadata": {},
   "outputs": [],
   "source": [
    "eps_greedy=mpg.EpsilonGreedyBot(0.25,93)"
   ]
  },
  {
   "cell_type": "code",
   "execution_count": 77,
   "id": "31d445e4-996a-46c2-a933-7d4d48b679a4",
   "metadata": {},
   "outputs": [
    {
     "data": {
      "text/plain": [
       "0"
      ]
     },
     "execution_count": 77,
     "metadata": {},
     "output_type": "execute_result"
    }
   ],
   "source": [
    "eps_greedy.step(state)"
   ]
  },
  {
   "cell_type": "code",
   "execution_count": 37,
   "id": "79ba5984-dc87-4b73-9a3a-0aa003fc9be7",
   "metadata": {},
   "outputs": [
    {
     "data": {
      "text/plain": [
       "@@@\n",
       "@Graph: \n",
       "{0: (3, 0.535543) (5, 0.676366) (7, -0.654885) \n",
       "1: (6, -0.73994) \n",
       "2: (6, -0.366541) (8, 0.765722) \n",
       "3: (3, -0.200392) (4, 0.0318798) (7, -0.16425) \n",
       "4: (1, -0.769123) (2, -0.009911) \n",
       "5: (5, 0.51575) (7, -0.571858) (9, -0.712209) \n",
       "6: (2, -0.609584) (4, 0.191835) \n",
       "7: (0, 0.0805644) (4, 0.0590172) (5, 0.685931) (6, 0.72779) \n",
       "8: (1, 0.90055) (3, -0.767977) (4, 0.06613) (8, 0.595112) \n",
       "9: (3, -0.443309) \n",
       "}\n",
       "@Current state: 9\n",
       "@Current player: 0\n",
       "@Number of moves: 0\n",
       "@@@"
      ]
     },
     "execution_count": 37,
     "metadata": {},
     "output_type": "execute_result"
    }
   ],
   "source": [
    "state"
   ]
  },
  {
   "cell_type": "code",
   "execution_count": 89,
   "id": "411381c8-08f2-4a63-aadb-9c8644115bba",
   "metadata": {},
   "outputs": [
    {
     "data": {
      "text/plain": [
       "0"
      ]
     },
     "execution_count": 89,
     "metadata": {},
     "output_type": "execute_result"
    }
   ],
   "source": [
    "REGISTERED_BOTS[\"greedy\"]().step(state)"
   ]
  },
  {
   "cell_type": "code",
   "execution_count": null,
   "id": "a2a6e674-838d-4e8f-8107-2781a194b665",
   "metadata": {},
   "outputs": [],
   "source": []
  }
 ],
 "metadata": {
  "kernelspec": {
   "display_name": "Python 3 (ipykernel)",
   "language": "python",
   "name": "python3"
  },
  "language_info": {
   "codemirror_mode": {
    "name": "ipython",
    "version": 3
   },
   "file_extension": ".py",
   "mimetype": "text/x-python",
   "name": "python",
   "nbconvert_exporter": "python",
   "pygments_lexer": "ipython3",
   "version": "3.10.11"
  }
 },
 "nbformat": 4,
 "nbformat_minor": 5
}
