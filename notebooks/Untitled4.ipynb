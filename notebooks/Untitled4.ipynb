{
 "cells": [
  {
   "cell_type": "code",
   "execution_count": 156,
   "id": "1b8b4d0d-df8d-49da-ac4b-e88b2142e2ce",
   "metadata": {},
   "outputs": [
    {
     "data": {
      "text/plain": [
       "<module 'mpg.gnn.aggregator' from '/home/ramizouari/Academic/AI/MeanPayOffGames/notebooks/mpg/gnn/aggregator.py'>"
      ]
     },
     "execution_count": 156,
     "metadata": {},
     "output_type": "execute_result"
    }
   ],
   "source": [
    "import mpg.ml.model as mpg_model\n",
    "import mpg.ml.model.mlp as mlp\n",
    "import mpg.ml.model.gnn as gnn\n",
    "import mpg.gnn.aggregator as agg\n",
    "import mpg.gnn.gcn as gcn\n",
    "import importlib\n",
    "import tensorflow as tf\n",
    "importlib.reload(mlp)\n",
    "importlib.reload(gnn)\n",
    "importlib.reload(gcn)\n",
    "importlib.reload(agg)"
   ]
  },
  {
   "cell_type": "code",
   "execution_count": 157,
   "id": "c0f45b09-ed84-4154-a934-23c0fd0a323d",
   "metadata": {},
   "outputs": [
    {
     "name": "stdout",
     "output_type": "stream",
     "text": [
      "(None, None)\n"
     ]
    },
    {
     "name": "stderr",
     "output_type": "stream",
     "text": [
      "2023-06-14 06:51:31.188142: I tensorflow/core/common_runtime/executor.cc:1197] [/device:CPU:0] (DEBUG INFO) Executor start aborting (this does not indicate an error and you can ignore this message): INVALID_ARGUMENT: You must feed a value for placeholder tensor 'Placeholder' with dtype float and shape [?]\n",
      "\t [[{{node Placeholder}}]]\n"
     ]
    }
   ],
   "source": [
    "n=20\n",
    "p=0.3\n",
    "batches=16\n",
    "A=tf.cast(tf.random.uniform([batches,n,n]) > p,dtype=tf.float32)\n",
    "W=tf.random.uniform([batches,n,n])\n",
    "G=tf.stack([A,W],axis=-1)\n",
    "X=tf.random.uniform([batches])\n",
    "P=tf.math.softmax(tf.random.uniform([batches,n]),axis=-1)\n",
    "V=tf.math.sign(tf.random.uniform([batches])-0.5)\n",
    "\n",
    "\n",
    "\n",
    "model=mlp.MLP(graph_size=n,num_actions=n,state_shape=())\n",
    "gnn_model=gnn.GNN()"
   ]
  },
  {
   "cell_type": "code",
   "execution_count": null,
   "id": "f0b7368e-e09a-467c-ba21-9305bab245c5",
   "metadata": {},
   "outputs": [],
   "source": []
  },
  {
   "cell_type": "code",
   "execution_count": 158,
   "id": "41e32d61-58a2-4ec5-a7ef-92faea5bb368",
   "metadata": {},
   "outputs": [],
   "source": [
    "gnn_model.compile(loss={\"policy_targets\":\"categorical_crossentropy\", \"value_targets\":\"mean_squared_error\"},\n",
    "                           optimizer=tf.keras.optimizers.Adam())\n"
   ]
  },
  {
   "cell_type": "code",
   "execution_count": 159,
   "id": "c8388b8a-4c1b-4b16-b887-18d54f219706",
   "metadata": {},
   "outputs": [
    {
     "name": "stdout",
     "output_type": "stream",
     "text": [
      "Epoch 1/3\n",
      "2/2 [==============================] - 3s 8ms/step - loss: 3.9949 - value_targets_loss: 1.0003 - policy_targets_loss: 2.9947\n",
      "Epoch 2/3\n",
      "2/2 [==============================] - 0s 12ms/step - loss: 3.9944 - value_targets_loss: 0.9997 - policy_targets_loss: 2.9947\n",
      "Epoch 3/3\n",
      "2/2 [==============================] - 0s 11ms/step - loss: 3.9941 - value_targets_loss: 0.9994 - policy_targets_loss: 2.9947\n"
     ]
    },
    {
     "data": {
      "text/plain": [
       "<keras.callbacks.History at 0x7f5fbbb61ae0>"
      ]
     },
     "execution_count": 159,
     "metadata": {},
     "output_type": "execute_result"
    }
   ],
   "source": [
    "inputs={\"environment\":G,\"state\":X}\n",
    "outputs={\"policy_targets\":P,\"value_targets\":V}\n",
    "gnn_model.fit(inputs, outputs, batch_size=8, epochs=3, verbose=1)"
   ]
  },
  {
   "cell_type": "code",
   "execution_count": 42,
   "id": "9e05cd97-cbe8-4ebd-8089-3f2726a6ddd3",
   "metadata": {},
   "outputs": [
    {
     "data": {
      "text/plain": [
       "[<KerasTensor: shape=(None, 20, 20, 2) dtype=float32 (created by layer 'environment')>,\n",
       " <KerasTensor: shape=(None,) dtype=float32 (created by layer 'state')>]"
      ]
     },
     "execution_count": 42,
     "metadata": {},
     "output_type": "execute_result"
    }
   ],
   "source": []
  },
  {
   "cell_type": "code",
   "execution_count": 56,
   "id": "0e92d247-9cd2-4696-ae30-7968316cd474",
   "metadata": {},
   "outputs": [],
   "source": [
    "Z=tf.keras.layers.Input(shape=[5],dtype=tf.int32)\n",
    "X=tf.keras.layers.Input(shape=[],dtype=tf.int32)"
   ]
  },
  {
   "cell_type": "code",
   "execution_count": 59,
   "id": "7512ee16-cd97-44d8-a7d1-4abc9cd9c8df",
   "metadata": {},
   "outputs": [
    {
     "name": "stderr",
     "output_type": "stream",
     "text": [
      "2023-06-14 06:05:07.512535: I tensorflow/core/common_runtime/executor.cc:1197] [/device:CPU:0] (DEBUG INFO) Executor start aborting (this does not indicate an error and you can ignore this message): INVALID_ARGUMENT: You must feed a value for placeholder tensor 'Placeholder_1' with dtype int32 and shape [?]\n",
      "\t [[{{node Placeholder_1}}]]\n"
     ]
    },
    {
     "data": {
      "text/plain": [
       "<KerasTensor: shape=(None, 5, None) dtype=float32 (created by layer 'tf.one_hot_5')>"
      ]
     },
     "execution_count": 59,
     "metadata": {},
     "output_type": "execute_result"
    }
   ],
   "source": [
    "tf.one_hot(Z,depth=X)"
   ]
  },
  {
   "cell_type": "code",
   "execution_count": null,
   "id": "84591b21-7c18-4f8e-9ef1-b99f6ccb02df",
   "metadata": {},
   "outputs": [],
   "source": []
  }
 ],
 "metadata": {
  "kernelspec": {
   "display_name": "Python 3 (ipykernel)",
   "language": "python",
   "name": "python3"
  },
  "language_info": {
   "codemirror_mode": {
    "name": "ipython",
    "version": 3
   },
   "file_extension": ".py",
   "mimetype": "text/x-python",
   "name": "python",
   "nbconvert_exporter": "python",
   "pygments_lexer": "ipython3",
   "version": "3.10.11"
  }
 },
 "nbformat": 4,
 "nbformat_minor": 5
}
