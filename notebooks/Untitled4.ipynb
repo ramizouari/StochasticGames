{
 "cells": [
  {
   "cell_type": "code",
   "execution_count": 1,
   "id": "1b8b4d0d-df8d-49da-ac4b-e88b2142e2ce",
   "metadata": {},
   "outputs": [],
   "source": [
    "import open_spiel"
   ]
  },
  {
   "cell_type": "code",
   "execution_count": 2,
   "id": "c0f45b09-ed84-4154-a934-23c0fd0a323d",
   "metadata": {},
   "outputs": [
    {
     "data": {
      "text/plain": [
       "'/home/ramizouari/anaconda3/envs/StochasticGames/lib/python3.10/site-packages/open_spiel/__init__.py'"
      ]
     },
     "execution_count": 2,
     "metadata": {},
     "output_type": "execute_result"
    }
   ],
   "source": [
    "open_spiel.__file__"
   ]
  },
  {
   "cell_type": "code",
   "execution_count": null,
   "id": "41e32d61-58a2-4ec5-a7ef-92faea5bb368",
   "metadata": {},
   "outputs": [],
   "source": []
  }
 ],
 "metadata": {
  "kernelspec": {
   "display_name": "Python 3 (ipykernel)",
   "language": "python",
   "name": "python3"
  },
  "language_info": {
   "codemirror_mode": {
    "name": "ipython",
    "version": 3
   },
   "file_extension": ".py",
   "mimetype": "text/x-python",
   "name": "python",
   "nbconvert_exporter": "python",
   "pygments_lexer": "ipython3",
   "version": "3.10.11"
  }
 },
 "nbformat": 4,
 "nbformat_minor": 5
}
