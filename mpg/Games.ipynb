{
 "cells": [
  {
   "cell_type": "code",
   "execution_count": 6,
   "id": "c4716756-c86b-4890-8a5e-fb0362f6926f",
   "metadata": {},
   "outputs": [],
   "source": [
    "from yfiles_jupyter_graphs import GraphWidget\n",
    "import numpy as np\n",
    "import visualisation.graph as vg"
   ]
  },
  {
   "cell_type": "code",
   "execution_count": 7,
   "id": "9f178d39-be96-4406-9bd7-37dd5c17fa78",
   "metadata": {},
   "outputs": [
    {
     "data": {
      "application/vnd.jupyter.widget-view+json": {
       "model_id": "16ba7385b1b64fe79a370a07d33c98fa",
       "version_major": 2,
       "version_minor": 0
      },
      "text/plain": [
       "GraphWidget(layout=Layout(height='500px', width='100%'))"
      ]
     },
     "metadata": {},
     "output_type": "display_data"
    }
   ],
   "source": [
    "\n",
    "w = GraphWidget()\n",
    "\n",
    "w.nodes = [\n",
    "    {\"id\": 0, \"properties\": {\"firstName\": \"Alpha\", \"label\": \"Person A\"}},\n",
    "    {\"id\": \"one\", \"properties\": {\"firstName\": \"Bravo\", \"label\": \"Person B\"}},\n",
    "    {\"id\": 2.0, \"properties\": {\"firstName\": \"Charlie\", \"label\": \"Person C\", \"has_hat\": False}},\n",
    "    {\"id\": True, \"properties\": {\"firstName\": \"Delta\", \"label\": \"Person D\", \"likes_pizza\": True}}\n",
    "]\n",
    "w.edges = [\n",
    "    {\"id\": \"zero\", \"start\": 0, \"end\": \"one\", \"properties\": {\"since\": \"1992\", \"label\": \"knows\"}},\n",
    "    {\"id\": 1, \"start\": \"one\", \"end\": True, \"properties\": {\"label\": \"knows\", \"since\": \"1992\"}},\n",
    "    {\"id\": 2.0, \"start\": 2.0, \"end\": True, \"properties\": {\"label\": \"knows\", \"since\": \"1992\"}},\n",
    "    {\"id\": False, \"start\": 0, \"end\": 2.0, \"properties\": {\"label\": \"knows\", \"since\": 234}}\n",
    "]\n",
    "w.directed = True\n",
    "\n",
    "w.show()  # or just w\n",
    "\n"
   ]
  },
  {
   "cell_type": "code",
   "execution_count": 8,
   "id": "a30235fb-9a68-4e52-8cc3-b2f367a5c2b8",
   "metadata": {},
   "outputs": [
    {
     "data": {
      "application/vnd.jupyter.widget-view+json": {
       "model_id": "6cec87872b324c7781d25f6a18f23712",
       "version_major": 2,
       "version_minor": 0
      },
      "text/plain": [
       "GraphVisualisation(layout=Layout(height='500px', width='100%'))"
      ]
     },
     "metadata": {},
     "output_type": "display_data"
    }
   ],
   "source": [
    "import networkx as nx\n",
    "GV=vg.GraphVisualisation(nx.DiGraph())\n",
    "\n",
    "GV.add_edge(0,1,weight=2,since=\"since\")\n",
    "GV.add_edge(1,2,weight=5)\n",
    "GV.add_edge(2,0,weight=1)\n",
    "GV.show()"
   ]
  },
  {
   "cell_type": "code",
   "execution_count": 9,
   "id": "988ecf69-655b-47af-92ec-83dee34fb8a8",
   "metadata": {},
   "outputs": [],
   "source": [
    "GV.edges[-1][\"properties\"]= {\"firstName\": \"Alpha\", \"label\": \"Person A\"}"
   ]
  },
  {
   "cell_type": "code",
   "execution_count": 10,
   "id": "f98849da-ade9-4a1a-90b3-451f63b5c164",
   "metadata": {},
   "outputs": [
    {
     "data": {
      "application/vnd.jupyter.widget-view+json": {
       "model_id": "6cec87872b324c7781d25f6a18f23712",
       "version_major": 2,
       "version_minor": 0
      },
      "text/plain": [
       "GraphVisualisation(layout=Layout(height='500px', width='100%'))"
      ]
     },
     "metadata": {},
     "output_type": "display_data"
    }
   ],
   "source": [
    "GV"
   ]
  },
  {
   "cell_type": "code",
   "execution_count": 1,
   "id": "0a3ed735-d959-4fcb-8ee6-67d5a986d72e",
   "metadata": {},
   "outputs": [],
   "source": [
    "import visualisation.graph as vg\n",
    "from visualisation.game import MPGVisualisation\n",
    "import visualisation.game as vgame\n",
    "from games import mpg"
   ]
  },
  {
   "cell_type": "code",
   "execution_count": 2,
   "id": "ea3b510f-36de-45ac-8404-53157a93e3a5",
   "metadata": {},
   "outputs": [
    {
     "data": {
      "application/vnd.jupyter.widget-view+json": {
       "model_id": "eea691b4bdef431cb4c62a306a067699",
       "version_major": 2,
       "version_minor": 0
      },
      "text/plain": [
       "MPGVisualisation(layout=Layout(height='500px', width='100%'))"
      ]
     },
     "metadata": {},
     "output_type": "display_data"
    }
   ],
   "source": [
    "G=mpg.mpg_from_file(\"data/test01.in\",ignore_header=1)\n",
    "M=MPGVisualisation(G)\n",
    "M"
   ]
  },
  {
   "cell_type": "code",
   "execution_count": 3,
   "id": "d1e210a6-886f-4b8a-9017-334b921f1560",
   "metadata": {},
   "outputs": [
    {
     "data": {
      "application/vnd.jupyter.widget-view+json": {
       "model_id": "eea691b4bdef431cb4c62a306a067699",
       "version_major": 2,
       "version_minor": 0
      },
      "text/plain": [
       "MPGVisualisation(layout=Layout(height='500px', width='100%'))"
      ]
     },
     "metadata": {},
     "output_type": "display_data"
    }
   ],
   "source": [
    "M.set_node_color_mapping(vgame.WinnerVisualiser)\n",
    "M.set_edge_color_mapping(vgame.StrategyVisualiser)\n",
    "M"
   ]
  },
  {
   "cell_type": "code",
   "execution_count": 34,
   "id": "1ae14908-995e-4790-a735-d7055a6991c6",
   "metadata": {},
   "outputs": [
    {
     "data": {
      "text/plain": [
       "False"
      ]
     },
     "execution_count": 34,
     "metadata": {},
     "output_type": "execute_result"
    }
   ],
   "source": [
    "X=M.graph.as_min_max_system().solve()\n",
    "X[mpg.VertexVariable(4,0)]=-10000000\n",
    "M.graph.as_min_max_system().admissible(X)"
   ]
  },
  {
   "cell_type": "code",
   "execution_count": 27,
   "id": "84a4c3cc-e8f0-49eb-9fe8-c16b9aaefbdb",
   "metadata": {},
   "outputs": [
    {
     "data": {
      "text/latex": [
       "System of 16 min-max constraints:\n",
       "        \\begin{align*}\n",
       "        V_0(0) & \\leq \\max(V_1(1)+5)\\\\\n",
       "V_0(1) & \\leq \\max(V_1(2)+5,V_1(4)+4)\\\\\n",
       "V_0(2) & \\leq \\max(V_1(3)+-7)\\\\\n",
       "V_0(3) & \\leq \\max(V_1(7)+0,V_1(6)+5)\\\\\n",
       "V_0(4) & \\leq \\max(V_1(5)+-3)\\\\\n",
       "V_0(5) & \\leq \\max(V_1(6)+3,V_1(7)+0)\\\\\n",
       "V_0(6) & \\leq \\max(V_1(1)+-3)\\\\\n",
       "V_0(7) & \\leq \\max(V_1(1)+0)\\\\\n",
       "V_1(0) & \\leq \\min(V_0(1)+5)\\\\\n",
       "V_1(1) & \\leq \\min(V_0(2)+5,V_0(4)+4)\\\\\n",
       "V_1(2) & \\leq \\min(V_0(3)+-7)\\\\\n",
       "V_1(3) & \\leq \\min(V_0(7)+0,V_0(6)+5)\\\\\n",
       "V_1(4) & \\leq \\min(V_0(5)+-3)\\\\\n",
       "V_1(5) & \\leq \\min(V_0(6)+3,V_0(7)+0)\\\\\n",
       "V_1(6) & \\leq \\min(V_0(1)+-3)\\\\\n",
       "V_1(7) & \\leq \\min(V_0(1)+0) \n",
       "        \\end{align*}"
      ],
      "text/plain": [
       "System of 16 min-max constraints:\n",
       "\tV_0(1) <= max(V_1(2)+5,V_1(4)+4)\n",
       "\tV_1(2) <= min(V_0(3)+-7)\n",
       "\tV_1(1) <= min(V_0(2)+5,V_0(4)+4)\n",
       "\tV_0(2) <= max(V_1(3)+-7)\n",
       "\tV_1(4) <= min(V_0(5)+-3)\n",
       "\tV_0(4) <= max(V_1(5)+-3)\n",
       "\tV_1(3) <= min(V_0(7)+0,V_0(6)+5)\n",
       "\tV_0(3) <= max(V_1(7)+0,V_1(6)+5)\n",
       "\tV_1(7) <= min(V_0(1)+0)\n",
       "\tV_0(7) <= max(V_1(1)+0)\n",
       "\tV_1(6) <= min(V_0(1)+-3)\n",
       "\tV_0(6) <= max(V_1(1)+-3)\n",
       "\tV_1(5) <= min(V_0(6)+3,V_0(7)+0)\n",
       "\tV_0(5) <= max(V_1(6)+3,V_1(7)+0)\n",
       "\tV_0(0) <= max(V_1(1)+5)\n",
       "\tV_1(0) <= min(V_0(1)+5)"
      ]
     },
     "execution_count": 27,
     "metadata": {},
     "output_type": "execute_result"
    }
   ],
   "source": [
    "M.graph.as_min_max_system()"
   ]
  },
  {
   "cell_type": "code",
   "execution_count": 14,
   "id": "3f97b5ff-39a4-4866-acb1-7155b6af1142",
   "metadata": {},
   "outputs": [
    {
     "data": {
      "text/html": [
       "<ul><li><font size='+3' color='#06c2ac'> &#9679; </font> : The starting position is losing for both players</li><li><font size='+3' color='#3f9b0b'> &#9679; </font> : If player 1 starts, he is a winner</li><li><font size='+3' color='#c04e01'> &#9679; </font> : If player 2 starts, he is a winner</li><li><font size='+3' color='#dbb40c'> &#9679; </font> : The starting position is winning for both players</li><li><font size='+3' color='#000000'> &rarr; </font> : Not in either player's strategy</li><li><font size='+3' color='#3f9b0b'> &rarr; </font> : Player 1's strategy</li><li><font size='+3' color='#c04e01'> &rarr; </font> : Player 2's strategy</li><li><font size='+3' color='#dbb40c'> &rarr; </font> : Shared strategy</li></ul>"
      ],
      "text/plain": [
       "Legend([The starting position is losing for both players (Colour(turquoise, hex=#06c2ac)), If player 1 starts, he is a winner (Colour(grass green, hex=#3f9b0b)), If player 2 starts, he is a winner (Colour(burnt orange, hex=#c04e01)), The starting position is winning for both players (Colour(gold, hex=#dbb40c)), Not in either player's strategy (Colour(black, hex=#000000)), Player 1's strategy (Colour(grass green, hex=#3f9b0b)), Player 2's strategy (Colour(burnt orange, hex=#c04e01)), Shared strategy (Colour(gold, hex=#dbb40c))])"
      ]
     },
     "execution_count": 14,
     "metadata": {},
     "output_type": "execute_result"
    }
   ],
   "source": [
    "M.legend()"
   ]
  },
  {
   "cell_type": "code",
   "execution_count": 10,
   "id": "1f8d523e-b882-473b-b224-b3156d013890",
   "metadata": {},
   "outputs": [
    {
     "data": {
      "application/vnd.jupyter.widget-view+json": {
       "model_id": "eea691b4bdef431cb4c62a306a067699",
       "version_major": 2,
       "version_minor": 0
      },
      "text/plain": [
       "MPGVisualisation(layout=Layout(height='500px', width='100%'))"
      ]
     },
     "metadata": {},
     "output_type": "display_data"
    }
   ],
   "source": [
    "S1,S2=mpg.strategy_pair_tropical(M.graph)\n",
    "M.set_node_color_mapping(vgame.WinnerVisualiser(M.graph,S1,S2))\n",
    "M.set_edge_color_mapping(vgame.StrategyVisualiser(S1,S2))\n",
    "M"
   ]
  },
  {
   "cell_type": "code",
   "execution_count": 23,
   "id": "39f9fef7-3705-489e-a710-6eab72857819",
   "metadata": {},
   "outputs": [
    {
     "data": {
      "application/vnd.jupyter.widget-view+json": {
       "model_id": "658616ed277947b9880f49bef1b68fe3",
       "version_major": 2,
       "version_minor": 0
      },
      "text/plain": [
       "MPGVisualisation(layout=Layout(height='500px', width='100%'))"
      ]
     },
     "metadata": {},
     "output_type": "display_data"
    }
   ],
   "source": [
    "from games import mpg\n",
    "import networkx as nx\n",
    "import numpy as np\n",
    "import visualisation.game as vgame\n",
    "#n=10,p=0.2,seed=50\n",
    "#n=10,p=0.1,seed=66\n",
    "seed=231\n",
    "#seed=963 n=12,p=0.3\n",
    "n=6\n",
    "p=0.5\n",
    "#n=6,seed=231,p=0.3 Counter Example!!!\n",
    "np.random.seed(seed)\n",
    "A=nx.gnp_random_graph(n,p,directed=True,seed=seed)\n",
    "for e in A.edges:\n",
    "    A.edges[e][\"weight\"] =np.random.randint(-10,10)\n",
    "    A.edges[e][\"label\"]= A.edges[e][\"weight\"]\n",
    "A=mpg.mpg_from_digraph(A)\n",
    "A.closure()\n",
    "A=vgame.MPGVisualisation(A)\n",
    "S1,S2=mpg.optimal_strategy_pair(A.graph,method=\"ACO\")\n",
    "A.set_node_color_mapping(vgame.WinnerVisualiser(A.graph,S1,S2))\n",
    "A.set_edge_color_mapping(vgame.StrategyVisualiser(S1,S2))\n",
    "A"
   ]
  },
  {
   "cell_type": "code",
   "execution_count": 13,
   "id": "ada19034-d3c4-4b3e-be1b-36f389a83b09",
   "metadata": {},
   "outputs": [
    {
     "data": {
      "text/plain": [
       "({1: 3, 3: 0, 0: 0, 2: 1, 4: 1, 5: 3}, {3: 0, 1: 3, 0: 0, 2: 1, 4: 5, 5: 3})"
      ]
     },
     "execution_count": 13,
     "metadata": {},
     "output_type": "execute_result"
    }
   ],
   "source": [
    "mpg.optimal_strategy_pair(A.graph)"
   ]
  },
  {
   "cell_type": "code",
   "execution_count": 14,
   "id": "2020a5a9-b1d0-4df0-8006-000df3a7889a",
   "metadata": {},
   "outputs": [
    {
     "data": {
      "text/latex": [
       "System of 12 min-max constraints:\n",
       "        \\begin{align*}\n",
       "        V_0(0) & \\leq \\max(V_1(0)+0)\\\\\n",
       "V_0(1) & \\leq \\max(V_1(3)+6)\\\\\n",
       "V_0(2) & \\leq \\max(V_1(0)+-1,V_1(1)+1,V_1(3)+-4)\\\\\n",
       "V_0(3) & \\leq \\max(V_1(0)+-8,V_1(2)+0,V_1(4)+7)\\\\\n",
       "V_0(4) & \\leq \\max(V_1(1)+8,V_1(2)+-8,V_1(3)+-8,V_1(5)+-9)\\\\\n",
       "V_0(5) & \\leq \\max(V_1(3)+-7,V_1(4)+7)\\\\\n",
       "V_1(0) & \\leq \\min(V_0(0)+0)\\\\\n",
       "V_1(1) & \\leq \\min(V_0(3)+6)\\\\\n",
       "V_1(2) & \\leq \\min(V_0(0)+-1,V_0(1)+1,V_0(3)+-4)\\\\\n",
       "V_1(3) & \\leq \\min(V_0(0)+-8,V_0(2)+0,V_0(4)+7)\\\\\n",
       "V_1(4) & \\leq \\min(V_0(1)+8,V_0(2)+-8,V_0(3)+-8,V_0(5)+-9)\\\\\n",
       "V_1(5) & \\leq \\min(V_0(3)+-7,V_0(4)+7) \n",
       "        \\end{align*}"
      ],
      "text/plain": [
       "System of 12 min-max constraints:\n",
       "\tV_0(1) <= max(V_1(3)+6)\n",
       "\tV_1(3) <= min(V_0(0)+-8,V_0(2)+0,V_0(4)+7)\n",
       "\tV_1(1) <= min(V_0(3)+6)\n",
       "\tV_0(3) <= max(V_1(0)+-8,V_1(2)+0,V_1(4)+7)\n",
       "\tV_1(0) <= min(V_0(0)+0)\n",
       "\tV_0(0) <= max(V_1(0)+0)\n",
       "\tV_1(2) <= min(V_0(0)+-1,V_0(1)+1,V_0(3)+-4)\n",
       "\tV_0(2) <= max(V_1(0)+-1,V_1(1)+1,V_1(3)+-4)\n",
       "\tV_1(4) <= min(V_0(1)+8,V_0(2)+-8,V_0(3)+-8,V_0(5)+-9)\n",
       "\tV_0(4) <= max(V_1(1)+8,V_1(2)+-8,V_1(3)+-8,V_1(5)+-9)\n",
       "\tV_1(5) <= min(V_0(3)+-7,V_0(4)+7)\n",
       "\tV_0(5) <= max(V_1(3)+-7,V_1(4)+7)"
      ]
     },
     "execution_count": 14,
     "metadata": {},
     "output_type": "execute_result"
    }
   ],
   "source": [
    "A.graph.as_min_max_system()"
   ]
  },
  {
   "cell_type": "code",
   "execution_count": 15,
   "id": "c0eaa5d8-b9c3-4ed5-96ff-06a3a3a865ec",
   "metadata": {},
   "outputs": [
    {
     "data": {
      "text/plain": [
       "{V_1(0): 148,\n",
       " V_0(4): 148,\n",
       " V_1(2): 133,\n",
       " V_0(0): 148,\n",
       " V_1(3): 140,\n",
       " V_1(1): 146,\n",
       " V_0(2): 147,\n",
       " V_1(5): 133,\n",
       " V_0(3): 140,\n",
       " V_0(5): 133,\n",
       " V_0(1): 132,\n",
       " V_1(4): 124}"
      ]
     },
     "execution_count": 15,
     "metadata": {},
     "output_type": "execute_result"
    }
   ],
   "source": [
    "A.graph.as_min_max_system().solve()"
   ]
  },
  {
   "cell_type": "code",
   "execution_count": 33,
   "id": "4d490b8f-5a87-44e4-aa6d-ce05e6ab1b53",
   "metadata": {},
   "outputs": [
    {
     "data": {
      "application/vnd.jupyter.widget-view+json": {
       "model_id": "b3e19c03091043d891ce7428e3b838dd",
       "version_major": 2,
       "version_minor": 0
      },
      "text/plain": [
       "MPGVisualisation(layout=Layout(height='500px', width='100%'))"
      ]
     },
     "metadata": {},
     "output_type": "display_data"
    }
   ],
   "source": [
    "S1_counter=mpg.counter_strategy(A.graph,S1,source=1)\n",
    "A.set_node_color_mapping(vgame.WinnerVisualiser(A.graph,S1,S1_counter))\n",
    "A.set_edge_color_mapping(vgame.StrategyVisualiser(S1,S1_counter))\n",
    "A"
   ]
  },
  {
   "cell_type": "code",
   "execution_count": 2,
   "id": "d6e102f1-6020-44b3-b9da-b6aafe9d8410",
   "metadata": {},
   "outputs": [],
   "source": [
    "P1,P2=mpg.strategy_pair_tropical(A.graph,iters=1000)"
   ]
  },
  {
   "cell_type": "code",
   "execution_count": 3,
   "id": "a42f3bdd-208a-42a6-ad1e-5d94d77d8b9d",
   "metadata": {},
   "outputs": [
    {
     "data": {
      "application/vnd.jupyter.widget-view+json": {
       "model_id": "9183cc8f55a74c0490fa464161ae187e",
       "version_major": 2,
       "version_minor": 0
      },
      "text/plain": [
       "MPGVisualisation(layout=Layout(height='500px', width='100%'))"
      ]
     },
     "metadata": {},
     "output_type": "display_data"
    }
   ],
   "source": [
    "A.set_node_color_mapping(vgame.WinnerVisualiser(A.graph,P1,P2))\n",
    "A.set_edge_color_mapping(vgame.StrategyVisualiser(P1,P2))\n",
    "A"
   ]
  },
  {
   "cell_type": "code",
   "execution_count": 17,
   "id": "01026b9b-0922-4fba-b438-fb5e118c0364",
   "metadata": {},
   "outputs": [
    {
     "data": {
      "application/vnd.jupyter.widget-view+json": {
       "model_id": "9183cc8f55a74c0490fa464161ae187e",
       "version_major": 2,
       "version_minor": 0
      },
      "text/plain": [
       "MPGVisualisation(layout=Layout(height='500px', width='100%'))"
      ]
     },
     "metadata": {},
     "output_type": "display_data"
    }
   ],
   "source": [
    "P1_counter=mpg.counter_strategy(A.graph,P1,method=\"bellman-ford\",source=2)\n",
    "A.set_node_color_mapping(vgame.WinnerVisualiser(A.graph,P1,P1_counter))\n",
    "A.set_edge_color_mapping(vgame.StrategyVisualiser(P1,P1_counter))\n",
    "A"
   ]
  },
  {
   "cell_type": "code",
   "execution_count": 7,
   "id": "7557bff5-5c7c-4b85-ade3-7732ba98d0c9",
   "metadata": {},
   "outputs": [
    {
     "data": {
      "application/vnd.jupyter.widget-view+json": {
       "model_id": "9183cc8f55a74c0490fa464161ae187e",
       "version_major": 2,
       "version_minor": 0
      },
      "text/plain": [
       "MPGVisualisation(layout=Layout(height='500px', width='100%'))"
      ]
     },
     "metadata": {},
     "output_type": "display_data"
    }
   ],
   "source": [
    "P2_counter=mpg.counter_strategy(A.graph,P2,method=\"bellman-ford\",player=mpg.MeanPayoffGraph.player0)\n",
    "A.set_node_color_mapping(vgame.WinnerVisualiser(A.graph,P2_counter,P2))\n",
    "A.set_edge_color_mapping(vgame.StrategyVisualiser(P2_counter,P2))\n",
    "A"
   ]
  },
  {
   "cell_type": "code",
   "execution_count": 114,
   "id": "c109f6e0-a88e-41ac-9087-f0994a04a99a",
   "metadata": {},
   "outputs": [],
   "source": [
    "P2_counter"
   ]
  },
  {
   "cell_type": "code",
   "execution_count": 57,
   "id": "465d7ce8-054f-4047-bb11-3827c89f0c26",
   "metadata": {},
   "outputs": [
    {
     "data": {
      "text/plain": [
       "{(0, 0): -5.75,\n",
       " (7, 1): -5.75,\n",
       " (0, 1): -5.75,\n",
       " (7, 0): -5.75,\n",
       " (3, 1): -7.666666666666667,\n",
       " (3, 0): -5.75,\n",
       " (4, 1): 0.0,\n",
       " (4, 0): 0.0,\n",
       " (8, 1): -5.75,\n",
       " (8, 0): -5.75,\n",
       " (1, 0): -5.75,\n",
       " (1, 1): -5.75,\n",
       " (2, 1): 0.0,\n",
       " (2, 0): 0.0,\n",
       " (6, 1): -5.75,\n",
       " (6, 0): -7.666666666666667,\n",
       " (5, 1): -5.75,\n",
       " (5, 0): -7.666666666666667,\n",
       " (9, 1): -7.666666666666667,\n",
       " (9, 0): -5.75}"
      ]
     },
     "execution_count": 57,
     "metadata": {},
     "output_type": "execute_result"
    }
   ],
   "source": [
    "mpg.mean_payoffs(A.graph,P1,P2)"
   ]
  },
  {
   "cell_type": "code",
   "execution_count": 43,
   "id": "5058162c-4d77-4dbd-9d63-2b7bccc00f12",
   "metadata": {},
   "outputs": [
    {
     "data": {
      "text/plain": [
       "{(0, 0): -1.0,\n",
       " (2, 1): -1.0,\n",
       " (0, 1): -1.3333333333333333,\n",
       " (2, 0): -1.3333333333333333,\n",
       " (1, 1): -1.0,\n",
       " (1, 0): -1.0,\n",
       " (3, 1): -1.3333333333333333,\n",
       " (3, 0): -1.0,\n",
       " (6, 1): 0.0,\n",
       " (6, 0): -1.0,\n",
       " (9, 1): -1.0,\n",
       " (9, 0): -1.3333333333333333,\n",
       " (5, 1): 0.0,\n",
       " (5, 0): 0.0,\n",
       " (4, 1): -1.0,\n",
       " (4, 0): -1.0,\n",
       " (7, 0): -1.0,\n",
       " (7, 1): -1.0,\n",
       " (8, 0): 0.0,\n",
       " (8, 1): -1.0}"
      ]
     },
     "execution_count": 44,
     "metadata": {},
     "output_type": "execute_result"
    }
   ],
   "source": [
    "O1,O2=mpg.optimal_strategy_pair(A.graph)\n",
    "mpg.mean_payoffs(A.graph,P1,O2)"
   ]
  },
  {
   "cell_type": "markdown",
   "id": "b1735fd6-662a-43f0-82e9-3f05550f2bd1",
   "metadata": {},
   "source": [
    "$$\n",
    "A[5]+B[3]=3\n",
    "$$"
   ]
  },
  {
   "cell_type": "markdown",
   "id": "a6042ee6-b98a-4656-a878-b033676e5ca0",
   "metadata": {},
   "source": []
  },
  {
   "cell_type": "code",
   "execution_count": null,
   "id": "9ab47a80-b139-4045-be93-db7deed889f0",
   "metadata": {},
   "outputs": [],
   "source": []
  }
 ],
 "metadata": {
  "kernelspec": {
   "display_name": "Python 3 (ipykernel)",
   "language": "python",
   "name": "python3"
  },
  "language_info": {
   "codemirror_mode": {
    "name": "ipython",
    "version": 3
   },
   "file_extension": ".py",
   "mimetype": "text/x-python",
   "name": "python",
   "nbconvert_exporter": "python",
   "pygments_lexer": "ipython3",
   "version": "3.10.9"
  }
 },
 "nbformat": 4,
 "nbformat_minor": 5
}
