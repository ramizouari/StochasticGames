{
 "cells": [
  {
   "cell_type": "code",
   "execution_count": 1,
   "id": "c4716756-c86b-4890-8a5e-fb0362f6926f",
   "metadata": {},
   "outputs": [],
   "source": [
    "from yfiles_jupyter_graphs import GraphWidget\n",
    "import numpy as np\n",
    "import visualisation.graph as vg"
   ]
  },
  {
   "cell_type": "code",
   "execution_count": 2,
   "id": "9f178d39-be96-4406-9bd7-37dd5c17fa78",
   "metadata": {},
   "outputs": [
    {
     "data": {
      "application/vnd.jupyter.widget-view+json": {
       "model_id": "42c37e5f90524e7789cfbd08c1095d01",
       "version_major": 2,
       "version_minor": 0
      },
      "text/plain": [
       "GraphWidget(layout=Layout(height='500px', width='100%'))"
      ]
     },
     "metadata": {},
     "output_type": "display_data"
    }
   ],
   "source": [
    "\n",
    "w = GraphWidget()\n",
    "\n",
    "w.nodes = [\n",
    "    {\"id\": 0, \"properties\": {\"firstName\": \"Alpha\", \"label\": \"Person A\"}},\n",
    "    {\"id\": \"one\", \"properties\": {\"firstName\": \"Bravo\", \"label\": \"Person B\"}},\n",
    "    {\"id\": 2.0, \"properties\": {\"firstName\": \"Charlie\", \"label\": \"Person C\", \"has_hat\": False}},\n",
    "    {\"id\": True, \"properties\": {\"firstName\": \"Delta\", \"label\": \"Person D\", \"likes_pizza\": True}}\n",
    "]\n",
    "w.edges = [\n",
    "    {\"id\": \"zero\", \"start\": 0, \"end\": \"one\", \"properties\": {\"since\": \"1992\", \"label\": \"knows\"}},\n",
    "    {\"id\": 1, \"start\": \"one\", \"end\": True, \"properties\": {\"label\": \"knows\", \"since\": \"1992\"}},\n",
    "    {\"id\": 2.0, \"start\": 2.0, \"end\": True, \"properties\": {\"label\": \"knows\", \"since\": \"1992\"}},\n",
    "    {\"id\": False, \"start\": 0, \"end\": 2.0, \"properties\": {\"label\": \"knows\", \"since\": 234}}\n",
    "]\n",
    "w.directed = True\n",
    "\n",
    "w.show()  # or just w\n",
    "\n"
   ]
  },
  {
   "cell_type": "code",
   "execution_count": 3,
   "id": "a30235fb-9a68-4e52-8cc3-b2f367a5c2b8",
   "metadata": {},
   "outputs": [
    {
     "data": {
      "application/vnd.jupyter.widget-view+json": {
       "model_id": "717d136fb0824fedafc805b316bf70f9",
       "version_major": 2,
       "version_minor": 0
      },
      "text/plain": [
       "GraphVisualisation(layout=Layout(height='500px', width='100%'))"
      ]
     },
     "metadata": {},
     "output_type": "display_data"
    }
   ],
   "source": [
    "import networkx as nx\n",
    "GV=vg.GraphVisualisation(nx.DiGraph())\n",
    "\n",
    "GV.add_edge(0,1,weight=2,since=\"since\")\n",
    "GV.add_edge(1,2,weight=5)\n",
    "GV.add_edge(2,0,weight=1)\n",
    "GV.show()"
   ]
  },
  {
   "cell_type": "code",
   "execution_count": 6,
   "id": "988ecf69-655b-47af-92ec-83dee34fb8a8",
   "metadata": {},
   "outputs": [],
   "source": [
    "GV.edges[-1][\"properties\"]= {\"firstName\": \"Alpha\", \"label\": \"Person A\"}"
   ]
  },
  {
   "cell_type": "code",
   "execution_count": 7,
   "id": "f98849da-ade9-4a1a-90b3-451f63b5c164",
   "metadata": {},
   "outputs": [
    {
     "data": {
      "application/vnd.jupyter.widget-view+json": {
       "model_id": "ae78c9a74a8d4ad8b5ed58a3f92e1c8a",
       "version_major": 2,
       "version_minor": 0
      },
      "text/plain": [
       "GraphVisualisation(layout=Layout(height='500px', width='100%'))"
      ]
     },
     "metadata": {},
     "output_type": "display_data"
    }
   ],
   "source": [
    "GV"
   ]
  },
  {
   "cell_type": "code",
   "execution_count": 7,
   "id": "1e0b8274-7345-4862-8e5b-b205ed907490",
   "metadata": {},
   "outputs": [
    {
     "data": {
      "application/vnd.jupyter.widget-view+json": {
       "model_id": "f482caf053824040b0861f3c7576e8be",
       "version_major": 2,
       "version_minor": 0
      },
      "text/plain": [
       "GraphWidget(layout=Layout(height='500px', width='100%'))"
      ]
     },
     "metadata": {},
     "output_type": "display_data"
    }
   ],
   "source": [
    "import graph as g\n",
    "G=g.read_from_text_file(\"test.in\",graph_type=\"auto\")\n",
    "import graph_visualisation as gv\n",
    "gv.visualise_graph(G)"
   ]
  },
  {
   "cell_type": "code",
   "execution_count": 5,
   "id": "c48cd71b-649e-4e3d-99bb-e710cb0dafd5",
   "metadata": {},
   "outputs": [
    {
     "data": {
      "text/plain": [
       "(array([  0., -23., -14., -21., -15., -23., -20., -23.]), [0])"
      ]
     },
     "execution_count": 5,
     "metadata": {},
     "output_type": "execute_result"
    }
   ],
   "source": [
    "g.BellmanFordAlgorithm(G)"
   ]
  },
  {
   "cell_type": "code",
   "execution_count": 12,
   "id": "1b1fb38f-72ba-485c-8fbc-ad47834523d6",
   "metadata": {},
   "outputs": [],
   "source": [
    "psi=list(map(int,\"1 2 3 6 5 6 1 1\".split()))\n",
    "strategyCost=[0 for u in range(G.V)]\n",
    "for u in range(G.V):\n",
    "    for (v, l) in G.adjacencyList[u]:\n",
    "        if v == psi[u]:\n",
    "            strategyCost[u] = l\n",
    "# The one-player equivalent game\n",
    "G1 = gv.VisualGraph(g.LabeledGraph,G.V)\n",
    "for u in range(G.V):\n",
    "    for v, L in G.adjacencyList[psi[u]]:\n",
    "        G1.addEdge((u, v, L + strategyCost[u]))"
   ]
  },
  {
   "cell_type": "code",
   "execution_count": 13,
   "id": "9c0a0a06-5ea1-4114-9842-1bf399e5debb",
   "metadata": {},
   "outputs": [
    {
     "data": {
      "application/vnd.jupyter.widget-view+json": {
       "model_id": "6299c701b8ce4281a135f18cdafaa069",
       "version_major": 2,
       "version_minor": 0
      },
      "text/plain": [
       "VisualGraph(layout=Layout(height='500px', width='100%'))"
      ]
     },
     "metadata": {},
     "output_type": "display_data"
    }
   ],
   "source": [
    "G1"
   ]
  },
  {
   "cell_type": "code",
   "execution_count": 9,
   "id": "7f28b587-5d74-4ac8-bbb4-c24967a31695",
   "metadata": {},
   "outputs": [
    {
     "name": "stdout",
     "output_type": "stream",
     "text": [
      "The default color mapping for nodes.\n",
      "\n",
      "        Provides constant value of '#17bebb' for all nodes.\n",
      "\n",
      "        Parameters\n",
      "        ----------\n",
      "        index: int\n",
      "        node: typing.Dict\n",
      "\n",
      "        Notes\n",
      "        -----\n",
      "        This is the default value for the `node_color_mapping` property.\n",
      "        Can be 'overwritten' by setting the property\n",
      "        with a function of the same signature.\n",
      "\n",
      "        Example\n",
      "        -------\n",
      "        .. code::\n",
      "\n",
      "           from yfiles_jupyter_graphs import GraphWidget\n",
      "           w = GraphWidget()\n",
      "           def custom_node_color_mapping(index: int, node: typing.Dict):\n",
      "           ...\n",
      "           w.set_node_color_mapping(custom_node_color_mapping)\n",
      "\n",
      "        Returns\n",
      "        -------\n",
      "        color: str\n",
      "            css color value\n",
      "\n",
      "        References\n",
      "        ----------\n",
      "        `css color value <https://developer.mozilla.org/en-US/docs/Web/CSS/color_value>`_\n",
      "\n",
      "        `yFiles docs Fill api <https://docs.yworks.com/yfileshtml/#/api/Fill>`_\n",
      "\n",
      "        \n"
     ]
    }
   ],
   "source": [
    "def custom_color_mapping(index: int, node):\n",
    "    \"\"\"throw some hex numbers together\"\"\"\n",
    "    return \"#\"+''.join([choice('0123456789abcdef') for j in range(6)])\n",
    "print(w.node_color_mapping.__doc__)\n"
   ]
  },
  {
   "cell_type": "code",
   "execution_count": 10,
   "id": "003e5f85-9865-492e-843f-85c6abe8dba0",
   "metadata": {},
   "outputs": [
    {
     "name": "stdout",
     "output_type": "stream",
     "text": [
      "The default color mapping for edges.\n",
      "\n",
      "        Provides constant value of '#094c4b' for all edges.\n",
      "\n",
      "        Parameters\n",
      "        ----------\n",
      "        index: int\n",
      "        edge: typing.Dict\n",
      "\n",
      "        Notes\n",
      "        -----\n",
      "        This is the default value for the `edge_color_mapping` property.\n",
      "        Can be 'overwritten' by setting the property\n",
      "        with a function of the same signature.\n",
      "\n",
      "        Example\n",
      "        -------\n",
      "        .. code::\n",
      "\n",
      "           from yfiles_jupyter_graphs import GraphWidget\n",
      "           w = GraphWidget()\n",
      "           def custom_edge_color_mapping(index: int, edge: typing.Dict):\n",
      "           ...\n",
      "           w.set_edge_color_mapping(custom_edge_color_mapping)\n",
      "\n",
      "        Returns\n",
      "        -------\n",
      "        color: str\n",
      "            css color value\n",
      "\n",
      "        References\n",
      "        ----------\n",
      "        `css color value <https://developer.mozilla.org/en-US/docs/Web/CSS/color_value>`_\n",
      "\n",
      "        `yFiles docs Fill api <https://docs.yworks.com/yfileshtml/#/api/Fill>`_\n",
      "\n",
      "        \n"
     ]
    }
   ],
   "source": [
    "print(w.edge_color_mapping.__doc__)"
   ]
  },
  {
   "cell_type": "code",
   "execution_count": 1,
   "id": "0a3ed735-d959-4fcb-8ee6-67d5a986d72e",
   "metadata": {},
   "outputs": [],
   "source": [
    "import visualisation.graph as vg\n",
    "from visualisation.game import MPGVisualisation\n",
    "from games import mpg"
   ]
  },
  {
   "cell_type": "code",
   "execution_count": 3,
   "id": "ea3b510f-36de-45ac-8404-53157a93e3a5",
   "metadata": {},
   "outputs": [],
   "source": [
    "G=mpg.mpg_from_file(\"data/test01.in\",ignore_header=1)\n",
    "M=MPGVisualisation(G)"
   ]
  },
  {
   "cell_type": "code",
   "execution_count": 5,
   "id": "d1e210a6-886f-4b8a-9017-334b921f1560",
   "metadata": {},
   "outputs": [],
   "source": [
    "M.set_strategy_pair(*mpg.optimal_strategy_pair(G))"
   ]
  },
  {
   "cell_type": "code",
   "execution_count": 6,
   "id": "3f97b5ff-39a4-4866-acb1-7155b6af1142",
   "metadata": {},
   "outputs": [
    {
     "data": {
      "application/vnd.jupyter.widget-view+json": {
       "model_id": "cfbfd0fcc41d47f6939d6a0e32fa7b4e",
       "version_major": 2,
       "version_minor": 0
      },
      "text/plain": [
       "MPGVisualisation(layout=Layout(height='500px', width='100%'))"
      ]
     },
     "metadata": {},
     "output_type": "display_data"
    }
   ],
   "source": [
    "M"
   ]
  },
  {
   "cell_type": "code",
   "execution_count": null,
   "id": "1f8d523e-b882-473b-b224-b3156d013890",
   "metadata": {},
   "outputs": [],
   "source": []
  }
 ],
 "metadata": {
  "kernelspec": {
   "display_name": "Python 3 (ipykernel)",
   "language": "python",
   "name": "python3"
  },
  "language_info": {
   "codemirror_mode": {
    "name": "ipython",
    "version": 3
   },
   "file_extension": ".py",
   "mimetype": "text/x-python",
   "name": "python",
   "nbconvert_exporter": "python",
   "pygments_lexer": "ipython3",
   "version": "3.10.9"
  }
 },
 "nbformat": 4,
 "nbformat_minor": 5
}
