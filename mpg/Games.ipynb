{
 "cells": [
  {
   "cell_type": "code",
   "execution_count": 5,
   "id": "c4716756-c86b-4890-8a5e-fb0362f6926f",
   "metadata": {},
   "outputs": [],
   "source": [
    "from yfiles_jupyter_graphs import GraphWidget\n",
    "import numpy as np\n",
    "import visualisation.graph as vg"
   ]
  },
  {
   "cell_type": "code",
   "execution_count": 6,
   "id": "9f178d39-be96-4406-9bd7-37dd5c17fa78",
   "metadata": {},
   "outputs": [
    {
     "data": {
      "application/vnd.jupyter.widget-view+json": {
       "model_id": "2d55c12398d846098a2b908146d0826a",
       "version_major": 2,
       "version_minor": 0
      },
      "text/plain": [
       "GraphWidget(layout=Layout(height='500px', width='100%'))"
      ]
     },
     "metadata": {},
     "output_type": "display_data"
    }
   ],
   "source": [
    "\n",
    "w = GraphWidget()\n",
    "\n",
    "w.nodes = [\n",
    "    {\"id\": 0, \"properties\": {\"firstName\": \"Alpha\", \"label\": \"Person A\"}},\n",
    "    {\"id\": \"one\", \"properties\": {\"firstName\": \"Bravo\", \"label\": \"Person B\"}},\n",
    "    {\"id\": 2.0, \"properties\": {\"firstName\": \"Charlie\", \"label\": \"Person C\", \"has_hat\": False}},\n",
    "    {\"id\": True, \"properties\": {\"firstName\": \"Delta\", \"label\": \"Person D\", \"likes_pizza\": True}}\n",
    "]\n",
    "w.edges = [\n",
    "    {\"id\": \"zero\", \"start\": 0, \"end\": \"one\", \"properties\": {\"since\": \"1992\", \"label\": \"knows\"}},\n",
    "    {\"id\": 1, \"start\": \"one\", \"end\": True, \"properties\": {\"label\": \"knows\", \"since\": \"1992\"}},\n",
    "    {\"id\": 2.0, \"start\": 2.0, \"end\": True, \"properties\": {\"label\": \"knows\", \"since\": \"1992\"}},\n",
    "    {\"id\": False, \"start\": 0, \"end\": 2.0, \"properties\": {\"label\": \"knows\", \"since\": 234}}\n",
    "]\n",
    "w.directed = True\n",
    "\n",
    "w.show()  # or just w\n",
    "\n"
   ]
  },
  {
   "cell_type": "code",
   "execution_count": 7,
   "id": "a30235fb-9a68-4e52-8cc3-b2f367a5c2b8",
   "metadata": {},
   "outputs": [
    {
     "data": {
      "application/vnd.jupyter.widget-view+json": {
       "model_id": "939c454f33d145519008d23cf9dfcb2e",
       "version_major": 2,
       "version_minor": 0
      },
      "text/plain": [
       "GraphVisualisation(layout=Layout(height='500px', width='100%'))"
      ]
     },
     "metadata": {},
     "output_type": "display_data"
    }
   ],
   "source": [
    "import networkx as nx\n",
    "GV=vg.GraphVisualisation(nx.DiGraph())\n",
    "\n",
    "GV.add_edge(0,1,weight=2,since=\"since\")\n",
    "GV.add_edge(1,2,weight=5)\n",
    "GV.add_edge(2,0,weight=1)\n",
    "GV.show()"
   ]
  },
  {
   "cell_type": "code",
   "execution_count": 8,
   "id": "988ecf69-655b-47af-92ec-83dee34fb8a8",
   "metadata": {},
   "outputs": [],
   "source": [
    "GV.edges[-1][\"properties\"]= {\"firstName\": \"Alpha\", \"label\": \"Person A\"}"
   ]
  },
  {
   "cell_type": "code",
   "execution_count": 9,
   "id": "f98849da-ade9-4a1a-90b3-451f63b5c164",
   "metadata": {},
   "outputs": [
    {
     "data": {
      "application/vnd.jupyter.widget-view+json": {
       "model_id": "939c454f33d145519008d23cf9dfcb2e",
       "version_major": 2,
       "version_minor": 0
      },
      "text/plain": [
       "GraphVisualisation(layout=Layout(height='500px', width='100%'))"
      ]
     },
     "metadata": {},
     "output_type": "display_data"
    }
   ],
   "source": [
    "GV"
   ]
  },
  {
   "cell_type": "code",
   "execution_count": 1,
   "id": "0a3ed735-d959-4fcb-8ee6-67d5a986d72e",
   "metadata": {},
   "outputs": [],
   "source": [
    "import visualisation.graph as vg\n",
    "from visualisation.game import MPGVisualisation\n",
    "import visualisation.game as vgame\n",
    "from games import mpg"
   ]
  },
  {
   "cell_type": "code",
   "execution_count": 2,
   "id": "ea3b510f-36de-45ac-8404-53157a93e3a5",
   "metadata": {},
   "outputs": [
    {
     "data": {
      "application/vnd.jupyter.widget-view+json": {
       "model_id": "8f8cea8d966844c7b8925a933793b44e",
       "version_major": 2,
       "version_minor": 0
      },
      "text/plain": [
       "MPGVisualisation(layout=Layout(height='500px', width='100%'))"
      ]
     },
     "metadata": {},
     "output_type": "display_data"
    }
   ],
   "source": [
    "G=mpg.mpg_from_file(\"data/test01.in\",ignore_header=1)\n",
    "M=MPGVisualisation(G)\n",
    "M"
   ]
  },
  {
   "cell_type": "code",
   "execution_count": 3,
   "id": "d1e210a6-886f-4b8a-9017-334b921f1560",
   "metadata": {},
   "outputs": [
    {
     "data": {
      "application/vnd.jupyter.widget-view+json": {
       "model_id": "8f8cea8d966844c7b8925a933793b44e",
       "version_major": 2,
       "version_minor": 0
      },
      "text/plain": [
       "MPGVisualisation(layout=Layout(height='500px', width='100%'))"
      ]
     },
     "metadata": {},
     "output_type": "display_data"
    }
   ],
   "source": [
    "M.set_node_color_mapping(vgame.WinnerVisualiser)\n",
    "M.set_edge_color_mapping(vgame.StrategyVisualiser)\n",
    "M"
   ]
  },
  {
   "cell_type": "code",
   "execution_count": 4,
   "id": "3f97b5ff-39a4-4866-acb1-7155b6af1142",
   "metadata": {},
   "outputs": [
    {
     "data": {
      "text/html": [
       "<ul><li><font size='+3' color='#06c2ac'> &#9679; </font> : The starting position is losing for both players</li><li><font size='+3' color='#3f9b0b'> &#9679; </font> : If player 1 starts, he is a winner</li><li><font size='+3' color='#c04e01'> &#9679; </font> : If player 2 starts, he is a winner</li><li><font size='+3' color='#dbb40c'> &#9679; </font> : The starting position is winning for both players</li><li><font size='+3' color='#000000'> &rarr; </font> : Not in either player's strategy</li><li><font size='+3' color='#3f9b0b'> &rarr; </font> : Player 1's strategy</li><li><font size='+3' color='#c04e01'> &rarr; </font> : Player 2's strategy</li><li><font size='+3' color='#dbb40c'> &rarr; </font> : Shared strategy</li></ul>"
      ],
      "text/plain": [
       "Legend([The starting position is losing for both players (Colour(turquoise, hex=#06c2ac)), If player 1 starts, he is a winner (Colour(grass green, hex=#3f9b0b)), If player 2 starts, he is a winner (Colour(burnt orange, hex=#c04e01)), The starting position is winning for both players (Colour(gold, hex=#dbb40c)), Not in either player's strategy (Colour(black, hex=#000000)), Player 1's strategy (Colour(grass green, hex=#3f9b0b)), Player 2's strategy (Colour(burnt orange, hex=#c04e01)), Shared strategy (Colour(gold, hex=#dbb40c))])"
      ]
     },
     "execution_count": 4,
     "metadata": {},
     "output_type": "execute_result"
    }
   ],
   "source": [
    "M.legend()"
   ]
  },
  {
   "cell_type": "code",
   "execution_count": 8,
   "id": "1f8d523e-b882-473b-b224-b3156d013890",
   "metadata": {},
   "outputs": [
    {
     "data": {
      "application/vnd.jupyter.widget-view+json": {
       "model_id": "8f8cea8d966844c7b8925a933793b44e",
       "version_major": 2,
       "version_minor": 0
      },
      "text/plain": [
       "MPGVisualisation(layout=Layout(height='500px', width='100%'))"
      ]
     },
     "metadata": {},
     "output_type": "display_data"
    }
   ],
   "source": [
    "S1,S2=mpg.strategy_pair_tropical(M.graph)\n",
    "M.set_node_color_mapping(vgame.WinnerVisualiser(M.graph,S1,S2))\n",
    "M.set_edge_color_mapping(vgame.StrategyVisualiser(S1,S2))\n",
    "M"
   ]
  },
  {
   "cell_type": "code",
   "execution_count": 1,
   "id": "39f9fef7-3705-489e-a710-6eab72857819",
   "metadata": {},
   "outputs": [
    {
     "data": {
      "application/vnd.jupyter.widget-view+json": {
       "model_id": "bb1dd405b3844988bc7eabc18018df31",
       "version_major": 2,
       "version_minor": 0
      },
      "text/plain": [
       "MPGVisualisation(layout=Layout(height='500px', width='100%'))"
      ]
     },
     "metadata": {},
     "output_type": "display_data"
    }
   ],
   "source": [
    "from games import mpg\n",
    "import networkx as nx\n",
    "import numpy as np\n",
    "import visualisation.game as vgame\n",
    "#n=10,p=0.2,seed=50\n",
    "#n=10,p=0.1,seed=66\n",
    "seed=231\n",
    "#seed=963 n=12,p=0.3\n",
    "n=6\n",
    "p=0.5\n",
    "#n=6,seed=231,p=0.3 Counter Example!!!\n",
    "np.random.seed(seed)\n",
    "A=nx.gnp_random_graph(n,p,directed=True,seed=seed)\n",
    "for e in A.edges:\n",
    "    A.edges[e][\"weight\"] =np.random.randint(-10,10)\n",
    "    A.edges[e][\"label\"]= A.edges[e][\"weight\"]\n",
    "A=mpg.mpg_from_digraph(A)\n",
    "A.closure()\n",
    "A=vgame.MPGVisualisation(A)\n",
    "S1,S2=mpg.optimal_strategy_pair(A.graph,method=\"ACO\")\n",
    "A.set_node_color_mapping(vgame.WinnerVisualiser(A.graph,S1,S2))\n",
    "A.set_edge_color_mapping(vgame.StrategyVisualiser(S1,S2))\n",
    "A"
   ]
  },
  {
   "cell_type": "code",
   "execution_count": 2,
   "id": "ada19034-d3c4-4b3e-be1b-36f389a83b09",
   "metadata": {},
   "outputs": [
    {
     "data": {
      "text/latex": [
       "$$\n",
       "        \\begin{align*}\n",
       "        $0 & \\leq \\max(@3P1,@3P1) + 6\\\\\n",
       "@1P0 & \\leq \\max($0,$0) + 0\\\\\n",
       "@3P1 & \\leq \\max(@0P0,@0P0) + -8\\\\\n",
       "@3P1 & \\leq \\max(@2P0,@2P0) + 0\\\\\n",
       "@3P1 & \\leq \\max(@4P0,@4P0) + 7\\\\\n",
       "@1P1 & \\leq \\max(@3P0,@3P0) + 6\\\\\n",
       "$1 & \\leq \\max(@0P1,@0P1) + -8\\\\\n",
       "$2 & \\leq \\max(@2P1,@2P1) + 0\\\\\n",
       "$3 & \\leq \\max(@4P1,@4P1) + 7\\\\\n",
       "$3 & \\leq \\max($2,X[@0]) + 0\\\\\n",
       "@3P0 & \\leq \\max($1,X[@0]) + 0\\\\\n",
       "@0P1 & \\leq \\max(@0P0,@0P0) + 0\\\\\n",
       "$4 & \\leq \\max(@0P1,@0P1) + 0\\\\\n",
       "@0P0 & \\leq \\max($4,$4) + 0\\\\\n",
       "@2P1 & \\leq \\max(@0P0,@0P0) + -1\\\\\n",
       "@2P1 & \\leq \\max(@1P0,@1P0) + 1\\\\\n",
       "@2P1 & \\leq \\max(@3P0,@3P0) + -4\\\\\n",
       "$5 & \\leq \\max(@0P1,@0P1) + -1\\\\\n",
       "$6 & \\leq \\max(@1P1,@1P1) + 1\\\\\n",
       "$7 & \\leq \\max(@3P1,@3P1) + -4\\\\\n",
       "$7 & \\leq \\max($6,X[@1]) + 0\\\\\n",
       "@2P0 & \\leq \\max($5,X[@1]) + 0\\\\\n",
       "@4P1 & \\leq \\max(@1P0,@1P0) + 8\\\\\n",
       "@4P1 & \\leq \\max(@2P0,@2P0) + -8\\\\\n",
       "@4P1 & \\leq \\max(@3P0,@3P0) + -8\\\\\n",
       "@4P1 & \\leq \\max(@5P0,@5P0) + -9\\\\\n",
       "$8 & \\leq \\max(@1P1,@1P1) + 8\\\\\n",
       "$9 & \\leq \\max(@2P1,@2P1) + -8\\\\\n",
       "$10 & \\leq \\max(@3P1,@3P1) + -8\\\\\n",
       "$11 & \\leq \\max(@5P1,@5P1) + -9\\\\\n",
       "$11 & \\leq \\max($10,X[@2]) + 0\\\\\n",
       "X[@2] & \\leq \\max($9,X[@3]) + 0\\\\\n",
       "@4P0 & \\leq \\max($8,X[@3]) + 0\\\\\n",
       "@5P1 & \\leq \\max(@3P0,@3P0) + -7\\\\\n",
       "@5P1 & \\leq \\max(@4P0,@4P0) + 7\\\\\n",
       "$12 & \\leq \\max(@3P1,@3P1) + -7\\\\\n",
       "$3 & \\leq \\max(@4P1,@4P1) + 7\\\\\n",
       "@5P0 & \\leq \\max($12,$3) + 0\n",
       "\\end{align*}\n",
       "$$\n"
      ],
      "text/plain": [
       "System of 38 equations:\n",
       "\t$0 <= max(@3P1,@3P1) + 6\n",
       "\t@1P0 <= max($0,$0) + 0\n",
       "\t@3P1 <= max(@0P0,@0P0) + -8\n",
       "\t@3P1 <= max(@2P0,@2P0) + 0\n",
       "\t@3P1 <= max(@4P0,@4P0) + 7\n",
       "\t@1P1 <= max(@3P0,@3P0) + 6\n",
       "\t$1 <= max(@0P1,@0P1) + -8\n",
       "\t$2 <= max(@2P1,@2P1) + 0\n",
       "\t$3 <= max(@4P1,@4P1) + 7\n",
       "\t$3 <= max($2,X[@0]) + 0\n",
       "\t@3P0 <= max($1,X[@0]) + 0\n",
       "\t@0P1 <= max(@0P0,@0P0) + 0\n",
       "\t$4 <= max(@0P1,@0P1) + 0\n",
       "\t@0P0 <= max($4,$4) + 0\n",
       "\t@2P1 <= max(@0P0,@0P0) + -1\n",
       "\t@2P1 <= max(@1P0,@1P0) + 1\n",
       "\t@2P1 <= max(@3P0,@3P0) + -4\n",
       "\t$5 <= max(@0P1,@0P1) + -1\n",
       "\t$6 <= max(@1P1,@1P1) + 1\n",
       "\t$7 <= max(@3P1,@3P1) + -4\n",
       "\t$7 <= max($6,X[@1]) + 0\n",
       "\t@2P0 <= max($5,X[@1]) + 0\n",
       "\t@4P1 <= max(@1P0,@1P0) + 8\n",
       "\t@4P1 <= max(@2P0,@2P0) + -8\n",
       "\t@4P1 <= max(@3P0,@3P0) + -8\n",
       "\t@4P1 <= max(@5P0,@5P0) + -9\n",
       "\t$8 <= max(@1P1,@1P1) + 8\n",
       "\t$9 <= max(@2P1,@2P1) + -8\n",
       "\t$10 <= max(@3P1,@3P1) + -8\n",
       "\t$11 <= max(@5P1,@5P1) + -9\n",
       "\t$11 <= max($10,X[@2]) + 0\n",
       "\tX[@2] <= max($9,X[@3]) + 0\n",
       "\t@4P0 <= max($8,X[@3]) + 0\n",
       "\t@5P1 <= max(@3P0,@3P0) + -7\n",
       "\t@5P1 <= max(@4P0,@4P0) + 7\n",
       "\t$12 <= max(@3P1,@3P1) + -7\n",
       "\t$3 <= max(@4P1,@4P1) + 7\n",
       "\t@5P0 <= max($12,$3) + 0"
      ]
     },
     "execution_count": 2,
     "metadata": {},
     "output_type": "execute_result"
    }
   ],
   "source": [
    "A.graph.as_min_max_system().equivalent_system.equivalent_system"
   ]
  },
  {
   "cell_type": "code",
   "execution_count": 3,
   "id": "2020a5a9-b1d0-4df0-8006-000df3a7889a",
   "metadata": {},
   "outputs": [
    {
     "data": {
      "text/plain": [
       "{@0P1: 148,\n",
       " @4P0: 148,\n",
       " @2P1: 144,\n",
       " @0P0: 148,\n",
       " @3P1: 140,\n",
       " @1P1: 148,\n",
       " @2P0: 148,\n",
       " @5P1: 141,\n",
       " @3P0: 148,\n",
       " @5P0: 133,\n",
       " @1P0: 146,\n",
       " @4P1: 124}"
      ]
     },
     "execution_count": 3,
     "metadata": {},
     "output_type": "execute_result"
    }
   ],
   "source": [
    "A.graph.as_min_max_system().solve()"
   ]
  },
  {
   "cell_type": "code",
   "execution_count": 33,
   "id": "4d490b8f-5a87-44e4-aa6d-ce05e6ab1b53",
   "metadata": {},
   "outputs": [
    {
     "data": {
      "application/vnd.jupyter.widget-view+json": {
       "model_id": "b3e19c03091043d891ce7428e3b838dd",
       "version_major": 2,
       "version_minor": 0
      },
      "text/plain": [
       "MPGVisualisation(layout=Layout(height='500px', width='100%'))"
      ]
     },
     "metadata": {},
     "output_type": "display_data"
    }
   ],
   "source": [
    "S1_counter=mpg.counter_strategy(A.graph,S1,source=1)\n",
    "A.set_node_color_mapping(vgame.WinnerVisualiser(A.graph,S1,S1_counter))\n",
    "A.set_edge_color_mapping(vgame.StrategyVisualiser(S1,S1_counter))\n",
    "A"
   ]
  },
  {
   "cell_type": "code",
   "execution_count": 2,
   "id": "d6e102f1-6020-44b3-b9da-b6aafe9d8410",
   "metadata": {},
   "outputs": [],
   "source": [
    "P1,P2=mpg.strategy_pair_tropical(A.graph,iters=1000)"
   ]
  },
  {
   "cell_type": "code",
   "execution_count": 3,
   "id": "a42f3bdd-208a-42a6-ad1e-5d94d77d8b9d",
   "metadata": {},
   "outputs": [
    {
     "data": {
      "application/vnd.jupyter.widget-view+json": {
       "model_id": "9183cc8f55a74c0490fa464161ae187e",
       "version_major": 2,
       "version_minor": 0
      },
      "text/plain": [
       "MPGVisualisation(layout=Layout(height='500px', width='100%'))"
      ]
     },
     "metadata": {},
     "output_type": "display_data"
    }
   ],
   "source": [
    "A.set_node_color_mapping(vgame.WinnerVisualiser(A.graph,P1,P2))\n",
    "A.set_edge_color_mapping(vgame.StrategyVisualiser(P1,P2))\n",
    "A"
   ]
  },
  {
   "cell_type": "code",
   "execution_count": 17,
   "id": "01026b9b-0922-4fba-b438-fb5e118c0364",
   "metadata": {},
   "outputs": [
    {
     "data": {
      "application/vnd.jupyter.widget-view+json": {
       "model_id": "9183cc8f55a74c0490fa464161ae187e",
       "version_major": 2,
       "version_minor": 0
      },
      "text/plain": [
       "MPGVisualisation(layout=Layout(height='500px', width='100%'))"
      ]
     },
     "metadata": {},
     "output_type": "display_data"
    }
   ],
   "source": [
    "P1_counter=mpg.counter_strategy(A.graph,P1,method=\"bellman-ford\",source=2)\n",
    "A.set_node_color_mapping(vgame.WinnerVisualiser(A.graph,P1,P1_counter))\n",
    "A.set_edge_color_mapping(vgame.StrategyVisualiser(P1,P1_counter))\n",
    "A"
   ]
  },
  {
   "cell_type": "code",
   "execution_count": 7,
   "id": "7557bff5-5c7c-4b85-ade3-7732ba98d0c9",
   "metadata": {},
   "outputs": [
    {
     "data": {
      "application/vnd.jupyter.widget-view+json": {
       "model_id": "9183cc8f55a74c0490fa464161ae187e",
       "version_major": 2,
       "version_minor": 0
      },
      "text/plain": [
       "MPGVisualisation(layout=Layout(height='500px', width='100%'))"
      ]
     },
     "metadata": {},
     "output_type": "display_data"
    }
   ],
   "source": [
    "P2_counter=mpg.counter_strategy(A.graph,P2,method=\"bellman-ford\",player=mpg.MeanPayoffGraph.player0)\n",
    "A.set_node_color_mapping(vgame.WinnerVisualiser(A.graph,P2_counter,P2))\n",
    "A.set_edge_color_mapping(vgame.StrategyVisualiser(P2_counter,P2))\n",
    "A"
   ]
  },
  {
   "cell_type": "code",
   "execution_count": 114,
   "id": "c109f6e0-a88e-41ac-9087-f0994a04a99a",
   "metadata": {},
   "outputs": [],
   "source": [
    "P2_counter"
   ]
  },
  {
   "cell_type": "code",
   "execution_count": 57,
   "id": "465d7ce8-054f-4047-bb11-3827c89f0c26",
   "metadata": {},
   "outputs": [
    {
     "data": {
      "text/plain": [
       "{(0, 0): -5.75,\n",
       " (7, 1): -5.75,\n",
       " (0, 1): -5.75,\n",
       " (7, 0): -5.75,\n",
       " (3, 1): -7.666666666666667,\n",
       " (3, 0): -5.75,\n",
       " (4, 1): 0.0,\n",
       " (4, 0): 0.0,\n",
       " (8, 1): -5.75,\n",
       " (8, 0): -5.75,\n",
       " (1, 0): -5.75,\n",
       " (1, 1): -5.75,\n",
       " (2, 1): 0.0,\n",
       " (2, 0): 0.0,\n",
       " (6, 1): -5.75,\n",
       " (6, 0): -7.666666666666667,\n",
       " (5, 1): -5.75,\n",
       " (5, 0): -7.666666666666667,\n",
       " (9, 1): -7.666666666666667,\n",
       " (9, 0): -5.75}"
      ]
     },
     "execution_count": 57,
     "metadata": {},
     "output_type": "execute_result"
    }
   ],
   "source": [
    "mpg.mean_payoffs(A.graph,P1,P2)"
   ]
  },
  {
   "cell_type": "code",
   "execution_count": 43,
   "id": "5058162c-4d77-4dbd-9d63-2b7bccc00f12",
   "metadata": {},
   "outputs": [
    {
     "data": {
      "text/plain": [
       "{(0, 0): -1.0,\n",
       " (2, 1): -1.0,\n",
       " (0, 1): -1.3333333333333333,\n",
       " (2, 0): -1.3333333333333333,\n",
       " (1, 1): -1.0,\n",
       " (1, 0): -1.0,\n",
       " (3, 1): -1.3333333333333333,\n",
       " (3, 0): -1.0,\n",
       " (6, 1): 0.0,\n",
       " (6, 0): -1.0,\n",
       " (9, 1): -1.0,\n",
       " (9, 0): -1.3333333333333333,\n",
       " (5, 1): 0.0,\n",
       " (5, 0): 0.0,\n",
       " (4, 1): -1.0,\n",
       " (4, 0): -1.0,\n",
       " (7, 0): -1.0,\n",
       " (7, 1): -1.0,\n",
       " (8, 0): 0.0,\n",
       " (8, 1): -1.0}"
      ]
     },
     "execution_count": 44,
     "metadata": {},
     "output_type": "execute_result"
    }
   ],
   "source": [
    "O1,O2=mpg.optimal_strategy_pair(A.graph)\n",
    "mpg.mean_payoffs(A.graph,P1,O2)"
   ]
  },
  {
   "cell_type": "markdown",
   "id": "b1735fd6-662a-43f0-82e9-3f05550f2bd1",
   "metadata": {},
   "source": [
    "$$\n",
    "A[5]+B[3]=3\n",
    "$$"
   ]
  },
  {
   "cell_type": "markdown",
   "id": "a6042ee6-b98a-4656-a878-b033676e5ca0",
   "metadata": {},
   "source": []
  },
  {
   "cell_type": "code",
   "execution_count": null,
   "id": "9ab47a80-b139-4045-be93-db7deed889f0",
   "metadata": {},
   "outputs": [],
   "source": []
  }
 ],
 "metadata": {
  "kernelspec": {
   "display_name": "Python 3 (ipykernel)",
   "language": "python",
   "name": "python3"
  },
  "language_info": {
   "codemirror_mode": {
    "name": "ipython",
    "version": 3
   },
   "file_extension": ".py",
   "mimetype": "text/x-python",
   "name": "python",
   "nbconvert_exporter": "python",
   "pygments_lexer": "ipython3",
   "version": "3.10.9"
  }
 },
 "nbformat": 4,
 "nbformat_minor": 5
}
