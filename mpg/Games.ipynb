{
 "cells": [
  {
   "cell_type": "code",
   "execution_count": 5,
   "id": "c4716756-c86b-4890-8a5e-fb0362f6926f",
   "metadata": {},
   "outputs": [],
   "source": [
    "from yfiles_jupyter_graphs import GraphWidget\n",
    "import numpy as np\n",
    "import visualisation.graph as vg"
   ]
  },
  {
   "cell_type": "code",
   "execution_count": 6,
   "id": "9f178d39-be96-4406-9bd7-37dd5c17fa78",
   "metadata": {},
   "outputs": [
    {
     "data": {
      "application/vnd.jupyter.widget-view+json": {
       "model_id": "2d55c12398d846098a2b908146d0826a",
       "version_major": 2,
       "version_minor": 0
      },
      "text/plain": [
       "GraphWidget(layout=Layout(height='500px', width='100%'))"
      ]
     },
     "metadata": {},
     "output_type": "display_data"
    }
   ],
   "source": [
    "\n",
    "w = GraphWidget()\n",
    "\n",
    "w.nodes = [\n",
    "    {\"id\": 0, \"properties\": {\"firstName\": \"Alpha\", \"label\": \"Person A\"}},\n",
    "    {\"id\": \"one\", \"properties\": {\"firstName\": \"Bravo\", \"label\": \"Person B\"}},\n",
    "    {\"id\": 2.0, \"properties\": {\"firstName\": \"Charlie\", \"label\": \"Person C\", \"has_hat\": False}},\n",
    "    {\"id\": True, \"properties\": {\"firstName\": \"Delta\", \"label\": \"Person D\", \"likes_pizza\": True}}\n",
    "]\n",
    "w.edges = [\n",
    "    {\"id\": \"zero\", \"start\": 0, \"end\": \"one\", \"properties\": {\"since\": \"1992\", \"label\": \"knows\"}},\n",
    "    {\"id\": 1, \"start\": \"one\", \"end\": True, \"properties\": {\"label\": \"knows\", \"since\": \"1992\"}},\n",
    "    {\"id\": 2.0, \"start\": 2.0, \"end\": True, \"properties\": {\"label\": \"knows\", \"since\": \"1992\"}},\n",
    "    {\"id\": False, \"start\": 0, \"end\": 2.0, \"properties\": {\"label\": \"knows\", \"since\": 234}}\n",
    "]\n",
    "w.directed = True\n",
    "\n",
    "w.show()  # or just w\n",
    "\n"
   ]
  },
  {
   "cell_type": "code",
   "execution_count": 7,
   "id": "a30235fb-9a68-4e52-8cc3-b2f367a5c2b8",
   "metadata": {},
   "outputs": [
    {
     "data": {
      "application/vnd.jupyter.widget-view+json": {
       "model_id": "939c454f33d145519008d23cf9dfcb2e",
       "version_major": 2,
       "version_minor": 0
      },
      "text/plain": [
       "GraphVisualisation(layout=Layout(height='500px', width='100%'))"
      ]
     },
     "metadata": {},
     "output_type": "display_data"
    }
   ],
   "source": [
    "import networkx as nx\n",
    "GV=vg.GraphVisualisation(nx.DiGraph())\n",
    "\n",
    "GV.add_edge(0,1,weight=2,since=\"since\")\n",
    "GV.add_edge(1,2,weight=5)\n",
    "GV.add_edge(2,0,weight=1)\n",
    "GV.show()"
   ]
  },
  {
   "cell_type": "code",
   "execution_count": 8,
   "id": "988ecf69-655b-47af-92ec-83dee34fb8a8",
   "metadata": {},
   "outputs": [],
   "source": [
    "GV.edges[-1][\"properties\"]= {\"firstName\": \"Alpha\", \"label\": \"Person A\"}"
   ]
  },
  {
   "cell_type": "code",
   "execution_count": 9,
   "id": "f98849da-ade9-4a1a-90b3-451f63b5c164",
   "metadata": {},
   "outputs": [
    {
     "data": {
      "application/vnd.jupyter.widget-view+json": {
       "model_id": "939c454f33d145519008d23cf9dfcb2e",
       "version_major": 2,
       "version_minor": 0
      },
      "text/plain": [
       "GraphVisualisation(layout=Layout(height='500px', width='100%'))"
      ]
     },
     "metadata": {},
     "output_type": "display_data"
    }
   ],
   "source": [
    "GV"
   ]
  },
  {
   "cell_type": "code",
   "execution_count": 1,
   "id": "0a3ed735-d959-4fcb-8ee6-67d5a986d72e",
   "metadata": {},
   "outputs": [],
   "source": [
    "import visualisation.graph as vg\n",
    "from visualisation.game import MPGVisualisation\n",
    "import visualisation.game as vgame\n",
    "from games import mpg"
   ]
  },
  {
   "cell_type": "code",
   "execution_count": 2,
   "id": "ea3b510f-36de-45ac-8404-53157a93e3a5",
   "metadata": {},
   "outputs": [
    {
     "data": {
      "application/vnd.jupyter.widget-view+json": {
       "model_id": "ade0e72a926a4fcc96bb52c459a3248a",
       "version_major": 2,
       "version_minor": 0
      },
      "text/plain": [
       "MPGVisualisation(layout=Layout(height='500px', width='100%'))"
      ]
     },
     "metadata": {},
     "output_type": "display_data"
    }
   ],
   "source": [
    "G=mpg.mpg_from_file(\"data/test01.in\",ignore_header=1)\n",
    "M=MPGVisualisation(G)\n",
    "M"
   ]
  },
  {
   "cell_type": "code",
   "execution_count": 3,
   "id": "d1e210a6-886f-4b8a-9017-334b921f1560",
   "metadata": {},
   "outputs": [
    {
     "data": {
      "application/vnd.jupyter.widget-view+json": {
       "model_id": "ade0e72a926a4fcc96bb52c459a3248a",
       "version_major": 2,
       "version_minor": 0
      },
      "text/plain": [
       "MPGVisualisation(layout=Layout(height='500px', width='100%'))"
      ]
     },
     "metadata": {},
     "output_type": "display_data"
    }
   ],
   "source": [
    "M.set_node_color_mapping(vgame.WinnerVisualiser)\n",
    "M.set_edge_color_mapping(vgame.StrategyVisualiser)\n",
    "M"
   ]
  },
  {
   "cell_type": "code",
   "execution_count": 4,
   "id": "3f97b5ff-39a4-4866-acb1-7155b6af1142",
   "metadata": {},
   "outputs": [
    {
     "data": {
      "text/html": [
       "<ul><li><font size='+3' color='#06c2ac'> &#9679; </font> : If either player starts, he is not a winner</li><li><font size='+3' color='#3f9b0b'> &#9679; </font> : If player 1 starts, he is a winner</li><li><font size='+3' color='#c04e01'> &#9679; </font> : If player 2 starts, he is a winner</li><li><font size='+3' color='#dbb40c'> &#9679; </font> : If either player starts, he is a winner</li><li><font size='+3' color='#000000'> &rarr; </font> : No strategy</li><li><font size='+3' color='#3f9b0b'> &rarr; </font> : Player 1's strategy</li><li><font size='+3' color='#c04e01'> &rarr; </font> : Player 2's strategy</li><li><font size='+3' color='#dbb40c'> &rarr; </font> : Shared strategy</li></ul>"
      ],
      "text/plain": [
       "Legend([If either player starts, he is not a winner (Colour(turquoise, hex=#06c2ac)), If player 1 starts, he is a winner (Colour(grass green, hex=#3f9b0b)), If player 2 starts, he is a winner (Colour(burnt orange, hex=#c04e01)), If either player starts, he is a winner (Colour(gold, hex=#dbb40c)), No strategy (Colour(black, hex=#000000)), Player 1's strategy (Colour(grass green, hex=#3f9b0b)), Player 2's strategy (Colour(burnt orange, hex=#c04e01)), Shared strategy (Colour(gold, hex=#dbb40c))])"
      ]
     },
     "execution_count": 4,
     "metadata": {},
     "output_type": "execute_result"
    }
   ],
   "source": [
    "M.legend()"
   ]
  },
  {
   "cell_type": "code",
   "execution_count": 5,
   "id": "1f8d523e-b882-473b-b224-b3156d013890",
   "metadata": {},
   "outputs": [
    {
     "data": {
      "text/plain": [
       "OutEdgeView([(1, 2), (1, 4), (2, 3), (3, 7), (3, 6), (7, 1), (6, 1), (4, 5), (5, 6), (5, 7), (0, 1)])"
      ]
     },
     "execution_count": 5,
     "metadata": {},
     "output_type": "execute_result"
    }
   ],
   "source": [
    "G.edges"
   ]
  },
  {
   "cell_type": "code",
   "execution_count": 6,
   "id": "39f9fef7-3705-489e-a710-6eab72857819",
   "metadata": {},
   "outputs": [
    {
     "ename": "SyntaxError",
     "evalue": "invalid character '£' (U+00A3) (1681910216.py, line 14)",
     "output_type": "error",
     "traceback": [
      "\u001B[0;36m  Cell \u001B[0;32mIn[7], line 14\u001B[0;36m\u001B[0m\n\u001B[0;31m    A£\u001B[0m\n\u001B[0m     ^\u001B[0m\n\u001B[0;31mSyntaxError\u001B[0m\u001B[0;31m:\u001B[0m invalid character '£' (U+00A3)\n"
     ]
    }
   ],
   "source": [
    "from games import mpg\n",
    "import networkx as nx\n",
    "import numpy as np\n",
    "import visualisation.game as vgame\n",
    "A=nx.gnp_random_graph(4,1,directed=True)\n",
    "for e in A.edges:\n",
    "    A.edges[e][\"weight\"] =np.random.randint(-10,-5)\n",
    "    A.edges[e][\"label\"]= A.edges[e][\"weight\"]\n",
    "A=mpg.mpg_from_digraph(A)\n",
    "A.closure()\n",
    "A=vgame.MPGVisualisation(A)\n",
    "A.set_node_color_mapping(vgame.WinnerVisualiser)\n",
    "A.set_edge_color_mapping(vgame.StrategyVisualiser)\n",
    "A"
   ]
  },
  {
   "cell_type": "code",
   "execution_count": 3,
   "id": "d6e102f1-6020-44b3-b9da-b6aafe9d8410",
   "metadata": {},
   "outputs": [],
   "source": [
    "S_pair=mpg.optimal_strategy_pair(A.graph)"
   ]
  },
  {
   "cell_type": "code",
   "execution_count": 4,
   "id": "a42f3bdd-208a-42a6-ad1e-5d94d77d8b9d",
   "metadata": {},
   "outputs": [
    {
     "data": {
      "text/plain": [
       "({0: -15.0, 1: -7.5, 2: -16.0, 3: -7.5},\n",
       " {1: -15.0, 0: -16.0, 2: -7.5, 3: -7.5})"
      ]
     },
     "execution_count": 4,
     "metadata": {},
     "output_type": "execute_result"
    }
   ],
   "source": [
    "mpg.mean_payoffs(A.graph,*S_pair)"
   ]
  },
  {
   "cell_type": "code",
   "execution_count": 5,
   "id": "5058162c-4d77-4dbd-9d63-2b7bccc00f12",
   "metadata": {},
   "outputs": [
    {
     "data": {
      "text/plain": [
       "{@0P1: 176,\n",
       " @2P1: 174,\n",
       " @0P0: 184,\n",
       " @3P1: 174,\n",
       " @1P1: 175,\n",
       " @2P0: 184,\n",
       " @3P0: 184,\n",
       " @1P0: 184}"
      ]
     },
     "execution_count": 5,
     "metadata": {},
     "output_type": "execute_result"
    }
   ],
   "source": [
    "A.graph.as_min_max_system().solve()"
   ]
  },
  {
   "cell_type": "code",
   "execution_count": 124,
   "id": "61a6a433-b0e6-4239-be76-b2ed3c7b2580",
   "metadata": {},
   "outputs": [
    {
     "data": {
      "text/plain": [
       "{@0P1: 194,\n",
       " @2P1: 192,\n",
       " @0P0: 202,\n",
       " @3P1: 194,\n",
       " @1P1: 192,\n",
       " @2P0: 202,\n",
       " @3P0: 202,\n",
       " @1P0: 202}"
      ]
     },
     "execution_count": 124,
     "metadata": {},
     "output_type": "execute_result"
    }
   ],
   "source": []
  },
  {
   "cell_type": "code",
   "execution_count": null,
   "id": "f67ac356-f347-4d5f-ba61-6cbbb2653380",
   "metadata": {},
   "outputs": [],
   "source": []
  }
 ],
 "metadata": {
  "kernelspec": {
   "display_name": "Python 3 (ipykernel)",
   "language": "python",
   "name": "python3"
  },
  "language_info": {
   "codemirror_mode": {
    "name": "ipython",
    "version": 3
   },
   "file_extension": ".py",
   "mimetype": "text/x-python",
   "name": "python",
   "nbconvert_exporter": "python",
   "pygments_lexer": "ipython3",
   "version": "3.10.9"
  }
 },
 "nbformat": 4,
 "nbformat_minor": 5
}
