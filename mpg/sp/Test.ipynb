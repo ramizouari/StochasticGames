{
 "cells": [
  {
   "cell_type": "code",
   "execution_count": 8,
   "id": "a48f68a2-ade5-4644-944b-2ab34fa548ca",
   "metadata": {},
   "outputs": [],
   "source": [
    "ag = __import__(\"alpha-zero-general\")"
   ]
  },
  {
   "cell_type": "code",
   "execution_count": 9,
   "id": "556da03f-b372-45c9-bca0-3a65b0246463",
   "metadata": {},
   "outputs": [
    {
     "ename": "AttributeError",
     "evalue": "module 'alpha-zero-general' has no attribute 'connect4'",
     "output_type": "error",
     "traceback": [
      "\u001b[0;31m---------------------------------------------------------------------------\u001b[0m",
      "\u001b[0;31mAttributeError\u001b[0m                            Traceback (most recent call last)",
      "Cell \u001b[0;32mIn[9], line 1\u001b[0m\n\u001b[0;32m----> 1\u001b[0m \u001b[43mag\u001b[49m\u001b[38;5;241;43m.\u001b[39;49m\u001b[43mconnect4\u001b[49m\n",
      "\u001b[0;31mAttributeError\u001b[0m: module 'alpha-zero-general' has no attribute 'connect4'"
     ]
    }
   ],
   "source": [
    "ag.connect4"
   ]
  },
  {
   "cell_type": "code",
   "execution_count": null,
   "id": "18a9abf8-d67a-46f7-a000-9b6f1cadc411",
   "metadata": {},
   "outputs": [],
   "source": []
  }
 ],
 "metadata": {
  "kernelspec": {
   "display_name": "Python 3 (ipykernel)",
   "language": "python",
   "name": "python3"
  },
  "language_info": {
   "codemirror_mode": {
    "name": "ipython",
    "version": 3
   },
   "file_extension": ".py",
   "mimetype": "text/x-python",
   "name": "python",
   "nbconvert_exporter": "python",
   "pygments_lexer": "ipython3",
   "version": "3.10.11"
  }
 },
 "nbformat": 4,
 "nbformat_minor": 5
}
