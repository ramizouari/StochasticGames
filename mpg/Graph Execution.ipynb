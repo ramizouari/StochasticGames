{
 "cells": [
  {
   "cell_type": "code",
   "execution_count": 1,
   "id": "7e1dcfe1-c477-45ca-a368-373df42b6b19",
   "metadata": {},
   "outputs": [],
   "source": [
    "import numpy as np\n",
    "import pandas as pd"
   ]
  },
  {
   "cell_type": "code",
   "execution_count": 45,
   "id": "75adc727-666a-4a26-9624-38bbc132ddbb",
   "metadata": {},
   "outputs": [],
   "source": [
    "sparse_results=pd.read_json(\"/run/media/ramizouari/INTENSO/MPG/parallel_sparse.json\",dtype={\"running_time\":np.float32},convert_dates=False)\n",
    "sparse_results[\"graph\"]=sparse_results[\"graph\"].map(lambda x : x.rstrip(\".edgeslist.gz\"))"
   ]
  },
  {
   "cell_type": "code",
   "execution_count": 122,
   "id": "fdf144de-11b9-4626-aa5e-a78642317341",
   "metadata": {},
   "outputs": [],
   "source": [
    "import mpgio\n",
    "import os\n",
    "from games import mpg\n",
    "sparse_dir=\"/run/media/ramizouari/INTENSO/MPG/dataset/sparse\"\n",
    "def calculate_mean_payoff(file:str,S1,S2):\n",
    "    MPG=mpgio.read_mpg(file)\n",
    "    return mpg.mean_payoffs(MPG,S1,S2)"
   ]
  },
  {
   "cell_type": "code",
   "execution_count": 123,
   "id": "55aca31e-4a82-4039-84fd-2f11c9bef95c",
   "metadata": {},
   "outputs": [],
   "source": [
    "sparse_results[\"mean_payoffs\"]=sparse_results.apply(lambda x: calculate_mean_payoff(os.path.join(sparse_dir,x[\"graph\"]+\".edgelist.gz\"),x[\"max_strategy\"],x[\"min_strategy\"]),axis=1)"
   ]
  },
  {
   "cell_type": "code",
   "execution_count": 82,
   "id": "dc833e05-a04b-4175-94e9-9b02cb51f027",
   "metadata": {},
   "outputs": [],
   "source": [
    "sparse_results[\"draw_fraction\"]=sparse_results[\"mean_payoffs\"].map(lambda x :(np.array(list(x.values()))==0).mean())\n",
    "sparse_results[\"win_fraction\"]=sparse_results[\"mean_payoffs\"].map(lambda x :(np.array(list(x.values()))>0).mean())\n",
    "sparse_results[\"lose_fraction\"]=sparse_results[\"mean_payoffs\"].map(lambda x :(np.array(list(x.values()))<0).mean())"
   ]
  },
  {
   "cell_type": "code",
   "execution_count": 124,
   "id": "b069849e-ed6a-4f7c-9fa8-7bfa58e090b3",
   "metadata": {},
   "outputs": [
    {
     "data": {
      "text/html": [
       "<div>\n",
       "<style scoped>\n",
       "    .dataframe tbody tr th:only-of-type {\n",
       "        vertical-align: middle;\n",
       "    }\n",
       "\n",
       "    .dataframe tbody tr th {\n",
       "        vertical-align: top;\n",
       "    }\n",
       "\n",
       "    .dataframe thead th {\n",
       "        text-align: right;\n",
       "    }\n",
       "</style>\n",
       "<table border=\"1\" class=\"dataframe\">\n",
       "  <thead>\n",
       "    <tr style=\"text-align: right;\">\n",
       "      <th></th>\n",
       "      <th>n</th>\n",
       "      <th>c</th>\n",
       "      <th>p</th>\n",
       "      <th>execution_start</th>\n",
       "      <th>execution_end</th>\n",
       "      <th>time</th>\n",
       "      <th>nodes</th>\n",
       "      <th>edges</th>\n",
       "      <th>distribution</th>\n",
       "      <th>filename</th>\n",
       "    </tr>\n",
       "  </thead>\n",
       "  <tbody>\n",
       "    <tr>\n",
       "      <th>0</th>\n",
       "      <td>4</td>\n",
       "      <td>1</td>\n",
       "      <td>0.2500</td>\n",
       "      <td>2023-03-09 11:53:13.728391</td>\n",
       "      <td>2023-03-09 11:53:13.728610</td>\n",
       "      <td>0.000220</td>\n",
       "      <td>4</td>\n",
       "      <td>5</td>\n",
       "      <td>integers(-1,1)</td>\n",
       "      <td>gnp_uniform_mpg_4_1_0</td>\n",
       "    </tr>\n",
       "    <tr>\n",
       "      <th>1</th>\n",
       "      <td>4</td>\n",
       "      <td>1</td>\n",
       "      <td>0.2500</td>\n",
       "      <td>2023-03-09 11:53:13.732461</td>\n",
       "      <td>2023-03-09 11:53:13.732634</td>\n",
       "      <td>0.000174</td>\n",
       "      <td>4</td>\n",
       "      <td>5</td>\n",
       "      <td>integers(-1,1)</td>\n",
       "      <td>gnp_uniform_mpg_4_1_1</td>\n",
       "    </tr>\n",
       "    <tr>\n",
       "      <th>2</th>\n",
       "      <td>4</td>\n",
       "      <td>1</td>\n",
       "      <td>0.2500</td>\n",
       "      <td>2023-03-09 11:53:13.735499</td>\n",
       "      <td>2023-03-09 11:53:13.735650</td>\n",
       "      <td>0.000152</td>\n",
       "      <td>4</td>\n",
       "      <td>4</td>\n",
       "      <td>integers(-1,1)</td>\n",
       "      <td>gnp_uniform_mpg_4_1_2</td>\n",
       "    </tr>\n",
       "    <tr>\n",
       "      <th>3</th>\n",
       "      <td>4</td>\n",
       "      <td>1</td>\n",
       "      <td>0.2500</td>\n",
       "      <td>2023-03-09 11:53:13.738500</td>\n",
       "      <td>2023-03-09 11:53:13.738680</td>\n",
       "      <td>0.000181</td>\n",
       "      <td>4</td>\n",
       "      <td>5</td>\n",
       "      <td>integers(-1,1)</td>\n",
       "      <td>gnp_uniform_mpg_4_1_3</td>\n",
       "    </tr>\n",
       "    <tr>\n",
       "      <th>4</th>\n",
       "      <td>4</td>\n",
       "      <td>1</td>\n",
       "      <td>0.2500</td>\n",
       "      <td>2023-03-09 11:53:13.741459</td>\n",
       "      <td>2023-03-09 11:53:13.741622</td>\n",
       "      <td>0.000164</td>\n",
       "      <td>4</td>\n",
       "      <td>5</td>\n",
       "      <td>integers(-1,1)</td>\n",
       "      <td>gnp_uniform_mpg_4_1_4</td>\n",
       "    </tr>\n",
       "    <tr>\n",
       "      <th>...</th>\n",
       "      <td>...</td>\n",
       "      <td>...</td>\n",
       "      <td>...</td>\n",
       "      <td>...</td>\n",
       "      <td>...</td>\n",
       "      <td>...</td>\n",
       "      <td>...</td>\n",
       "      <td>...</td>\n",
       "      <td>...</td>\n",
       "      <td>...</td>\n",
       "    </tr>\n",
       "    <tr>\n",
       "      <th>4945</th>\n",
       "      <td>10000</td>\n",
       "      <td>9</td>\n",
       "      <td>0.0009</td>\n",
       "      <td>2023-03-09 12:13:13.380542</td>\n",
       "      <td>2023-03-09 12:13:13.964695</td>\n",
       "      <td>0.584152</td>\n",
       "      <td>10000</td>\n",
       "      <td>90139</td>\n",
       "      <td>integers(-1,1)</td>\n",
       "      <td>gnp_uniform_mpg_10000_9_5</td>\n",
       "    </tr>\n",
       "    <tr>\n",
       "      <th>4946</th>\n",
       "      <td>10000</td>\n",
       "      <td>9</td>\n",
       "      <td>0.0009</td>\n",
       "      <td>2023-03-09 12:13:14.424432</td>\n",
       "      <td>2023-03-09 12:13:15.118014</td>\n",
       "      <td>0.693584</td>\n",
       "      <td>10000</td>\n",
       "      <td>89737</td>\n",
       "      <td>integers(-1,1)</td>\n",
       "      <td>gnp_uniform_mpg_10000_9_6</td>\n",
       "    </tr>\n",
       "    <tr>\n",
       "      <th>4947</th>\n",
       "      <td>10000</td>\n",
       "      <td>9</td>\n",
       "      <td>0.0009</td>\n",
       "      <td>2023-03-09 12:13:15.576869</td>\n",
       "      <td>2023-03-09 12:13:16.169705</td>\n",
       "      <td>0.592836</td>\n",
       "      <td>10000</td>\n",
       "      <td>90538</td>\n",
       "      <td>integers(-1,1)</td>\n",
       "      <td>gnp_uniform_mpg_10000_9_7</td>\n",
       "    </tr>\n",
       "    <tr>\n",
       "      <th>4948</th>\n",
       "      <td>10000</td>\n",
       "      <td>9</td>\n",
       "      <td>0.0009</td>\n",
       "      <td>2023-03-09 12:13:16.620096</td>\n",
       "      <td>2023-03-09 12:13:17.332719</td>\n",
       "      <td>0.712623</td>\n",
       "      <td>10000</td>\n",
       "      <td>89911</td>\n",
       "      <td>integers(-1,1)</td>\n",
       "      <td>gnp_uniform_mpg_10000_9_8</td>\n",
       "    </tr>\n",
       "    <tr>\n",
       "      <th>4949</th>\n",
       "      <td>10000</td>\n",
       "      <td>9</td>\n",
       "      <td>0.0009</td>\n",
       "      <td>2023-03-09 12:13:17.784823</td>\n",
       "      <td>2023-03-09 12:13:18.360946</td>\n",
       "      <td>0.576124</td>\n",
       "      <td>10000</td>\n",
       "      <td>89552</td>\n",
       "      <td>integers(-1,1)</td>\n",
       "      <td>gnp_uniform_mpg_10000_9_9</td>\n",
       "    </tr>\n",
       "  </tbody>\n",
       "</table>\n",
       "<p>4950 rows × 10 columns</p>\n",
       "</div>"
      ],
      "text/plain": [
       "          n  c       p             execution_start  \\\n",
       "0         4  1  0.2500  2023-03-09 11:53:13.728391   \n",
       "1         4  1  0.2500  2023-03-09 11:53:13.732461   \n",
       "2         4  1  0.2500  2023-03-09 11:53:13.735499   \n",
       "3         4  1  0.2500  2023-03-09 11:53:13.738500   \n",
       "4         4  1  0.2500  2023-03-09 11:53:13.741459   \n",
       "...     ... ..     ...                         ...   \n",
       "4945  10000  9  0.0009  2023-03-09 12:13:13.380542   \n",
       "4946  10000  9  0.0009  2023-03-09 12:13:14.424432   \n",
       "4947  10000  9  0.0009  2023-03-09 12:13:15.576869   \n",
       "4948  10000  9  0.0009  2023-03-09 12:13:16.620096   \n",
       "4949  10000  9  0.0009  2023-03-09 12:13:17.784823   \n",
       "\n",
       "                   execution_end      time  nodes  edges    distribution  \\\n",
       "0     2023-03-09 11:53:13.728610  0.000220      4      5  integers(-1,1)   \n",
       "1     2023-03-09 11:53:13.732634  0.000174      4      5  integers(-1,1)   \n",
       "2     2023-03-09 11:53:13.735650  0.000152      4      4  integers(-1,1)   \n",
       "3     2023-03-09 11:53:13.738680  0.000181      4      5  integers(-1,1)   \n",
       "4     2023-03-09 11:53:13.741622  0.000164      4      5  integers(-1,1)   \n",
       "...                          ...       ...    ...    ...             ...   \n",
       "4945  2023-03-09 12:13:13.964695  0.584152  10000  90139  integers(-1,1)   \n",
       "4946  2023-03-09 12:13:15.118014  0.693584  10000  89737  integers(-1,1)   \n",
       "4947  2023-03-09 12:13:16.169705  0.592836  10000  90538  integers(-1,1)   \n",
       "4948  2023-03-09 12:13:17.332719  0.712623  10000  89911  integers(-1,1)   \n",
       "4949  2023-03-09 12:13:18.360946  0.576124  10000  89552  integers(-1,1)   \n",
       "\n",
       "                       filename  \n",
       "0         gnp_uniform_mpg_4_1_0  \n",
       "1         gnp_uniform_mpg_4_1_1  \n",
       "2         gnp_uniform_mpg_4_1_2  \n",
       "3         gnp_uniform_mpg_4_1_3  \n",
       "4         gnp_uniform_mpg_4_1_4  \n",
       "...                         ...  \n",
       "4945  gnp_uniform_mpg_10000_9_5  \n",
       "4946  gnp_uniform_mpg_10000_9_6  \n",
       "4947  gnp_uniform_mpg_10000_9_7  \n",
       "4948  gnp_uniform_mpg_10000_9_8  \n",
       "4949  gnp_uniform_mpg_10000_9_9  \n",
       "\n",
       "[4950 rows x 10 columns]"
      ]
     },
     "execution_count": 124,
     "metadata": {},
     "output_type": "execute_result"
    }
   ],
   "source": [
    "sparse_benchmark=pd.read_csv(\"/run/media/ramizouari/INTENSO/MPG/benchmark_gnp_random_mpg_sparse.csv\")\n",
    "sparse_benchmark[\"filename\"]=sparse_benchmark[\"filename\"].map(lambda x : x.rstrip(\".gpickle\"))\n",
    "sparse_benchmark"
   ]
  },
  {
   "cell_type": "code",
   "execution_count": 125,
   "id": "263d982d-5d70-493b-8349-a112cc3587d0",
   "metadata": {},
   "outputs": [],
   "source": [
    "sparse_dataset=sparse_results.merge(sparse_benchmark,left_on=\"graph\",right_on=\"filename\")"
   ]
  },
  {
   "cell_type": "code",
   "execution_count": 126,
   "id": "5a075852-bada-43e4-83fc-3dc6ae76fe6c",
   "metadata": {},
   "outputs": [
    {
     "data": {
      "text/plain": [
       "<Axes: xlabel='n', ylabel='draw_fraction'>"
      ]
     },
     "execution_count": 126,
     "metadata": {},
     "output_type": "execute_result"
    },
    {
     "data": {
      "image/png": "[encoded data removed]",
      "text/plain": [
       "<Figure size 640x480 with 1 Axes>"
      ]
     },
     "metadata": {},
     "output_type": "display_data"
    }
   ],
   "source": [
    "import seaborn as sns\n",
    "import matplotlib.pyplot as plt\n",
    "\n",
    "fig,ax=plt.subplots()\n",
    "sns.lineplot(data=sparse_dataset[[\"n\",\"draw_fraction\",\"c\"]].groupby([\"n\",\"c\"]).mean([\"c\"]),x=\"n\",y=\"draw_fraction\",estimator=\"mean\")"
   ]
  },
  {
   "cell_type": "code",
   "execution_count": 146,
   "id": "9e39d976-bf25-4dd4-849b-52d859b3ad01",
   "metadata": {},
   "outputs": [],
   "source": [
    "dense_results=pd.read_json(\"/run/media/ramizouari/INTENSO/MPG/results_dense_parallel.json\",dtype={\"running_time\":np.float32},convert_dates=False)\n",
    "dense_results[\"graph\"]=dense_results[\"graph\"].map(lambda x : x.rstrip(\".edgeslist.gz\"))"
   ]
  },
  {
   "cell_type": "code",
   "execution_count": 148,
   "id": "3bd2f92f-2dd4-4625-afef-45e5b1a93e7e",
   "metadata": {},
   "outputs": [],
   "source": [
    "dense_dir=\"/run/media/ramizouari/INTENSO/MPG/dataset/dense\"\n",
    "dense_results[\"mean_payoffs\"]=dense_results.apply(lambda x: calculate_mean_payoff(os.path.join(dense_dir,x[\"graph\"]+\".edgelist.gz\"),x[\"max_strategy\"],x[\"min_strategy\"]),axis=1)"
   ]
  },
  {
   "cell_type": "code",
   "execution_count": 163,
   "id": "23d7358d-037f-47f2-8c0b-c2502542c0b2",
   "metadata": {},
   "outputs": [
    {
     "ename": "KeyboardInterrupt",
     "evalue": "",
     "output_type": "error",
     "traceback": [
      "\u001b[0;31m---------------------------------------------------------------------------\u001b[0m",
      "\u001b[0;31mKeyboardInterrupt\u001b[0m                         Traceback (most recent call last)",
      "Cell \u001b[0;32mIn[163], line 2\u001b[0m\n\u001b[1;32m      1\u001b[0m x\u001b[38;5;241m=\u001b[39mdense_results\u001b[38;5;241m.\u001b[39miloc[\u001b[38;5;241m-\u001b[39m\u001b[38;5;241m2\u001b[39m]\n\u001b[0;32m----> 2\u001b[0m \u001b[43mcalculate_mean_payoff\u001b[49m\u001b[43m(\u001b[49m\u001b[43mos\u001b[49m\u001b[38;5;241;43m.\u001b[39;49m\u001b[43mpath\u001b[49m\u001b[38;5;241;43m.\u001b[39;49m\u001b[43mjoin\u001b[49m\u001b[43m(\u001b[49m\u001b[43mdense_dir\u001b[49m\u001b[43m,\u001b[49m\u001b[43mx\u001b[49m\u001b[43m[\u001b[49m\u001b[38;5;124;43m\"\u001b[39;49m\u001b[38;5;124;43mgraph\u001b[39;49m\u001b[38;5;124;43m\"\u001b[39;49m\u001b[43m]\u001b[49m\u001b[38;5;241;43m+\u001b[39;49m\u001b[38;5;124;43m\"\u001b[39;49m\u001b[38;5;124;43m.edgelist.gz\u001b[39;49m\u001b[38;5;124;43m\"\u001b[39;49m\u001b[43m)\u001b[49m\u001b[43m,\u001b[49m\u001b[43mx\u001b[49m\u001b[43m[\u001b[49m\u001b[38;5;124;43m\"\u001b[39;49m\u001b[38;5;124;43mmax_strategy\u001b[39;49m\u001b[38;5;124;43m\"\u001b[39;49m\u001b[43m]\u001b[49m\u001b[43m,\u001b[49m\u001b[43mx\u001b[49m\u001b[43m[\u001b[49m\u001b[38;5;124;43m\"\u001b[39;49m\u001b[38;5;124;43mmin_strategy\u001b[39;49m\u001b[38;5;124;43m\"\u001b[39;49m\u001b[43m]\u001b[49m\u001b[43m)\u001b[49m\n",
      "Cell \u001b[0;32mIn[122], line 7\u001b[0m, in \u001b[0;36mcalculate_mean_payoff\u001b[0;34m(file, S1, S2)\u001b[0m\n\u001b[1;32m      5\u001b[0m \u001b[38;5;28;01mdef\u001b[39;00m \u001b[38;5;21mcalculate_mean_payoff\u001b[39m(file:\u001b[38;5;28mstr\u001b[39m,S1,S2):\n\u001b[1;32m      6\u001b[0m     MPG\u001b[38;5;241m=\u001b[39mmpgio\u001b[38;5;241m.\u001b[39mread_mpg(file)\n\u001b[0;32m----> 7\u001b[0m     \u001b[38;5;28;01mreturn\u001b[39;00m mpg\u001b[38;5;241m.\u001b[39mmean_payoffs(MPG,S1,S2)\n",
      "File \u001b[0;32m_pydevd_bundle/pydevd_cython.pyx:1600\u001b[0m, in \u001b[0;36m_pydevd_bundle.pydevd_cython.trace_dispatch\u001b[0;34m()\u001b[0m\n",
      "File \u001b[0;32m_pydevd_bundle/pydevd_cython.pyx:1457\u001b[0m, in \u001b[0;36m_pydevd_bundle.pydevd_cython.SafeCallWrapper.__call__\u001b[0;34m()\u001b[0m\n",
      "File \u001b[0;32m_pydevd_bundle/pydevd_cython.pyx:1834\u001b[0m, in \u001b[0;36m_pydevd_bundle.pydevd_cython.ThreadTracer.__call__\u001b[0;34m()\u001b[0m\n",
      "File \u001b[0;32m_pydevd_bundle/pydevd_cython.pyx:1395\u001b[0m, in \u001b[0;36m_pydevd_bundle.pydevd_cython.PyDBFrame.trace_dispatch\u001b[0;34m()\u001b[0m\n",
      "File \u001b[0;32m_pydevd_bundle/pydevd_cython.pyx:1373\u001b[0m, in \u001b[0;36m_pydevd_bundle.pydevd_cython.PyDBFrame.trace_dispatch\u001b[0;34m()\u001b[0m\n",
      "File \u001b[0;32m_pydevd_bundle/pydevd_cython.pyx:312\u001b[0m, in \u001b[0;36m_pydevd_bundle.pydevd_cython.PyDBFrame.do_wait_suspend\u001b[0;34m()\u001b[0m\n",
      "File \u001b[0;32m~/anaconda3/envs/stochastic_games/lib/python3.10/site-packages/debugpy/_vendored/pydevd/pydevd.py:2070\u001b[0m, in \u001b[0;36mPyDB.do_wait_suspend\u001b[0;34m(self, thread, frame, event, arg, exception_type)\u001b[0m\n\u001b[1;32m   2067\u001b[0m             from_this_thread\u001b[38;5;241m.\u001b[39mappend(frame_custom_thread_id)\n\u001b[1;32m   2069\u001b[0m     \u001b[38;5;28;01mwith\u001b[39;00m \u001b[38;5;28mself\u001b[39m\u001b[38;5;241m.\u001b[39m_threads_suspended_single_notification\u001b[38;5;241m.\u001b[39mnotify_thread_suspended(thread_id, thread, stop_reason):\n\u001b[0;32m-> 2070\u001b[0m         keep_suspended \u001b[38;5;241m=\u001b[39m \u001b[38;5;28;43mself\u001b[39;49m\u001b[38;5;241;43m.\u001b[39;49m\u001b[43m_do_wait_suspend\u001b[49m\u001b[43m(\u001b[49m\u001b[43mthread\u001b[49m\u001b[43m,\u001b[49m\u001b[43m \u001b[49m\u001b[43mframe\u001b[49m\u001b[43m,\u001b[49m\u001b[43m \u001b[49m\u001b[43mevent\u001b[49m\u001b[43m,\u001b[49m\u001b[43m \u001b[49m\u001b[43marg\u001b[49m\u001b[43m,\u001b[49m\u001b[43m \u001b[49m\u001b[43msuspend_type\u001b[49m\u001b[43m,\u001b[49m\u001b[43m \u001b[49m\u001b[43mfrom_this_thread\u001b[49m\u001b[43m,\u001b[49m\u001b[43m \u001b[49m\u001b[43mframes_tracker\u001b[49m\u001b[43m)\u001b[49m\n\u001b[1;32m   2072\u001b[0m frames_list \u001b[38;5;241m=\u001b[39m \u001b[38;5;28;01mNone\u001b[39;00m\n\u001b[1;32m   2074\u001b[0m \u001b[38;5;28;01mif\u001b[39;00m keep_suspended:\n\u001b[1;32m   2075\u001b[0m     \u001b[38;5;66;03m# This means that we should pause again after a set next statement.\u001b[39;00m\n",
      "File \u001b[0;32m~/anaconda3/envs/stochastic_games/lib/python3.10/site-packages/debugpy/_vendored/pydevd/pydevd.py:2106\u001b[0m, in \u001b[0;36mPyDB._do_wait_suspend\u001b[0;34m(self, thread, frame, event, arg, suspend_type, from_this_thread, frames_tracker)\u001b[0m\n\u001b[1;32m   2103\u001b[0m         \u001b[38;5;28mself\u001b[39m\u001b[38;5;241m.\u001b[39m_call_input_hook()\n\u001b[1;32m   2105\u001b[0m     \u001b[38;5;28mself\u001b[39m\u001b[38;5;241m.\u001b[39mprocess_internal_commands()\n\u001b[0;32m-> 2106\u001b[0m     \u001b[43mtime\u001b[49m\u001b[38;5;241;43m.\u001b[39;49m\u001b[43msleep\u001b[49m\u001b[43m(\u001b[49m\u001b[38;5;241;43m0.01\u001b[39;49m\u001b[43m)\u001b[49m\n\u001b[1;32m   2108\u001b[0m \u001b[38;5;28mself\u001b[39m\u001b[38;5;241m.\u001b[39mcancel_async_evaluation(get_current_thread_id(thread), \u001b[38;5;28mstr\u001b[39m(\u001b[38;5;28mid\u001b[39m(frame)))\n\u001b[1;32m   2110\u001b[0m \u001b[38;5;66;03m# process any stepping instructions\u001b[39;00m\n",
      "\u001b[0;31mKeyboardInterrupt\u001b[0m: "
     ]
    }
   ],
   "source": [
    "x=dense_results.iloc[-2]\n",
    "calculate_mean_payoff(os.path.join(dense_dir,x[\"graph\"]+\".edgelist.gz\"),x[\"max_strategy\"],x[\"min_strategy\"])"
   ]
  },
  {
   "cell_type": "code",
   "execution_count": 161,
   "id": "564c8e4e-4584-4061-9a57-61f2a29ff200",
   "metadata": {},
   "outputs": [
    {
     "data": {
      "text/plain": [
       "dataset                                                     dense\n",
       "graph                                   gnp_uniform_mpg_961_961_6\n",
       "max_strategy    [313, 333, 253, 336, 236, 796, 178, 312, 595, ...\n",
       "min_strategy    [454, 184, 49, 180, 539, 296, 244, 116, 173, 6...\n",
       "running_time                                             8.919612\n",
       "status                                                         OK\n",
       "mean_payoffs                                                    5\n",
       "Name: 2146, dtype: object"
      ]
     },
     "execution_count": 161,
     "metadata": {},
     "output_type": "execute_result"
    }
   ],
   "source": [
    "dense_results.iloc[-4]"
   ]
  },
  {
   "cell_type": "code",
   "execution_count": null,
   "id": "885c3f42-2bfd-44c8-a30b-f2533b0be18a",
   "metadata": {},
   "outputs": [],
   "source": []
  }
 ],
 "metadata": {
  "kernelspec": {
   "display_name": "Python 3 (ipykernel)",
   "language": "python",
   "name": "python3"
  },
  "language_info": {
   "codemirror_mode": {
    "name": "ipython",
    "version": 3
   },
   "file_extension": ".py",
   "mimetype": "text/x-python",
   "name": "python",
   "nbconvert_exporter": "python",
   "pygments_lexer": "ipython3",
   "version": "3.10.9"
  }
 },
 "nbformat": 4,
 "nbformat_minor": 5
}
