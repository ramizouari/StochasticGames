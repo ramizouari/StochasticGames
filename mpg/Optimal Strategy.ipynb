{
 "cells": [
  {
   "cell_type": "markdown",
   "id": "32060649-2354-424c-ac9b-ffc12247a689",
   "metadata": {},
   "source": [
    "# Optimal Strategy\n",
    "## "
   ]
  },
  {
   "cell_type": "code",
   "execution_count": 1,
   "id": "1f080ab5-e60a-4474-b117-627bb2670101",
   "metadata": {},
   "outputs": [],
   "source": [
    "import visualisation.graph as vg\n",
    "from visualisation.game import MPGVisualisation\n",
    "import visualisation.game as vgame\n",
    "from games import mpg"
   ]
  },
  {
   "cell_type": "markdown",
   "id": "8461b7c4-a670-4e87-9616-470f1124342d",
   "metadata": {},
   "source": [
    "## 2. Game 1\n",
    "### 2.1 Visualisation"
   ]
  },
  {
   "cell_type": "code",
   "execution_count": 2,
   "id": "bfa981e4-cf81-4478-9cc9-4f6ab16a07f3",
   "metadata": {},
   "outputs": [
    {
     "data": {
      "application/vnd.jupyter.widget-view+json": {
       "model_id": "dba8d446c6ee4e598a9d1df5b25b64ef",
       "version_major": 2,
       "version_minor": 0
      },
      "text/plain": [
       "MPGVisualisation(layout=Layout(height='500px', width='100%'))"
      ]
     },
     "metadata": {},
     "output_type": "display_data"
    }
   ],
   "source": [
    "G=mpg.mpg_from_file(\"data/test01.in\",ignore_header=1)\n",
    "M=MPGVisualisation(G)\n",
    "M"
   ]
  },
  {
   "cell_type": "markdown",
   "id": "12e587aa-b068-423c-a5c0-23add626965a",
   "metadata": {},
   "source": [
    "### 2.2 Optimal Strategy"
   ]
  },
  {
   "cell_type": "code",
   "execution_count": 3,
   "id": "941f13a4-2077-4db2-bc1e-004c005ae234",
   "metadata": {},
   "outputs": [
    {
     "data": {
      "application/vnd.jupyter.widget-view+json": {
       "model_id": "dba8d446c6ee4e598a9d1df5b25b64ef",
       "version_major": 2,
       "version_minor": 0
      },
      "text/plain": [
       "MPGVisualisation(layout=Layout(height='500px', width='100%'))"
      ]
     },
     "metadata": {},
     "output_type": "display_data"
    }
   ],
   "source": [
    "S1,S2=mpg.optimal_strategy_pair(G)\n",
    "M.set_node_color_mapping(vgame.WinnerVisualiser(M.graph,S1,S2))\n",
    "M.set_edge_color_mapping(vgame.StrategyVisualiser(S1,S2))\n",
    "M"
   ]
  },
  {
   "cell_type": "code",
   "execution_count": 4,
   "id": "fff864e4-cac1-43f5-9b83-56f2dba49830",
   "metadata": {},
   "outputs": [
    {
     "data": {
      "text/html": [
       "<ul><li><font size='+3' color='#06c2ac'> &#9679; </font> : Second player to start wins</li><li><font size='+3' color='#3f9b0b'> &#9679; </font> : Player 1 wins no matter who starts</li><li><font size='+3' color='#c04e01'> &#9679; </font> : PLayer 2 wins no matter who starts</li><li><font size='+3' color='#dbb40c'> &#9679; </font> : First player to start wins</li><li><font size='+3' color='#000000'> &rarr; </font> : Not in either player's strategy</li><li><font size='+3' color='#3f9b0b'> &rarr; </font> : Player 1's strategy</li><li><font size='+3' color='#c04e01'> &rarr; </font> : Player 2's strategy</li><li><font size='+3' color='#dbb40c'> &rarr; </font> : Shared strategy</li></ul>"
      ],
      "text/plain": [
       "Legend([Second player to start wins (Colour(turquoise, hex=#06c2ac)), Player 1 wins no matter who starts (Colour(grass green, hex=#3f9b0b)), PLayer 2 wins no matter who starts (Colour(burnt orange, hex=#c04e01)), First player to start wins (Colour(gold, hex=#dbb40c)), Not in either player's strategy (Colour(black, hex=#000000)), Player 1's strategy (Colour(grass green, hex=#3f9b0b)), Player 2's strategy (Colour(burnt orange, hex=#c04e01)), Shared strategy (Colour(gold, hex=#dbb40c))])"
      ]
     },
     "execution_count": 4,
     "metadata": {},
     "output_type": "execute_result"
    }
   ],
   "source": [
    "M.legend()"
   ]
  },
  {
   "cell_type": "markdown",
   "id": "f00bd396-a189-4271-8ca8-8daee73217d2",
   "metadata": {},
   "source": [
    "### 2.3 Mean Pay-off"
   ]
  },
  {
   "cell_type": "code",
   "execution_count": 5,
   "id": "85291f09-170e-4e3c-9137-c70c2db3b99a",
   "metadata": {},
   "outputs": [
    {
     "data": {
      "text/plain": [
       "{(1, False): 0.25,\n",
       " (4, True): 0.25,\n",
       " (5, False): 0.25,\n",
       " (7, True): 0.25,\n",
       " (2, 1): 0.25,\n",
       " (3, False): 0.25,\n",
       " (6, True): 0.25,\n",
       " (1, True): -0.5,\n",
       " (2, False): -0.5,\n",
       " (3, True): -0.5,\n",
       " (7, False): -0.5,\n",
       " (4, 0): -0.5,\n",
       " (5, True): -0.5,\n",
       " (6, 0): -0.5,\n",
       " (0, 0): -0.5,\n",
       " (0, 1): 0.25}"
      ]
     },
     "execution_count": 5,
     "metadata": {},
     "output_type": "execute_result"
    }
   ],
   "source": [
    "mpg.mean_payoffs(M.graph,S1,S2)"
   ]
  },
  {
   "cell_type": "markdown",
   "id": "3b066e3f-32fa-40a0-b973-ab6667bf937e",
   "metadata": {},
   "source": [
    "## 3. Game 2:\n",
    "### 3.1 Visualisation "
   ]
  },
  {
   "cell_type": "code",
   "execution_count": 6,
   "id": "de7fea2c-3b90-46b3-ba6e-9120dcd05a5b",
   "metadata": {},
   "outputs": [
    {
     "data": {
      "application/vnd.jupyter.widget-view+json": {
       "model_id": "2dbde48176ec452284b0c8abdef6e97b",
       "version_major": 2,
       "version_minor": 0
      },
      "text/plain": [
       "MPGVisualisation(layout=Layout(height='500px', width='100%'))"
      ]
     },
     "metadata": {},
     "output_type": "display_data"
    }
   ],
   "source": [
    "G=mpg.mpg_from_file(\"data/test02.in\",ignore_header=1)\n",
    "M=MPGVisualisation(G)\n",
    "M"
   ]
  },
  {
   "cell_type": "markdown",
   "id": "b04af7ff-dc81-42ab-aa09-3352ac35a881",
   "metadata": {},
   "source": [
    "### 3.2 Optimal Solutions"
   ]
  },
  {
   "cell_type": "code",
   "execution_count": 8,
   "id": "ae486c0c-952a-479a-8982-b7692ea2a75d",
   "metadata": {},
   "outputs": [
    {
     "data": {
      "application/vnd.jupyter.widget-view+json": {
       "model_id": "2dbde48176ec452284b0c8abdef6e97b",
       "version_major": 2,
       "version_minor": 0
      },
      "text/plain": [
       "MPGVisualisation(layout=Layout(height='500px', width='100%'))"
      ]
     },
     "metadata": {},
     "output_type": "display_data"
    }
   ],
   "source": [
    "S1,S2=mpg.optimal_strategy_pair(G)\n",
    "M.set_node_color_mapping(vgame.WinnerVisualiser(M.graph,S1,S2))\n",
    "M.set_edge_color_mapping(vgame.StrategyVisualiser(S1,S2))\n",
    "M"
   ]
  },
  {
   "cell_type": "markdown",
   "id": "8d0455f1-c820-4aff-a67e-4a17391baea0",
   "metadata": {},
   "source": [
    "### 3.3 Mean Pay-off"
   ]
  },
  {
   "cell_type": "code",
   "execution_count": 21,
   "id": "afc272c5-585c-45ba-beca-d94fb0ddc8b6",
   "metadata": {},
   "outputs": [
    {
     "data": {
      "text/plain": [
       "{(3, False): 3.0,\n",
       " (0, 0): 3.0,\n",
       " (1, True): 3.0,\n",
       " (0, True): 3.0,\n",
       " (1, 0): 3.0,\n",
       " (2, 1): 3.0,\n",
       " (2, 0): 3.0,\n",
       " (3, 1): 3.0}"
      ]
     },
     "execution_count": 21,
     "metadata": {},
     "output_type": "execute_result"
    }
   ],
   "source": [
    "mpg.mean_payoffs(M.graph,S1,S2)"
   ]
  },
  {
   "cell_type": "code",
   "execution_count": 9,
   "id": "3214f33d-334c-496b-9a86-0a8b5693fa4b",
   "metadata": {},
   "outputs": [
    {
     "data": {
      "application/vnd.jupyter.widget-view+json": {
       "model_id": "2dbde48176ec452284b0c8abdef6e97b",
       "version_major": 2,
       "version_minor": 0
      },
      "text/plain": [
       "MPGVisualisation(layout=Layout(height='500px', width='100%'))"
      ]
     },
     "metadata": {},
     "output_type": "display_data"
    }
   ],
   "source": [
    "S1,S2={0:1,1:2,2:0,3:0},{0:2,1:3,2:3,3:2}\n",
    "M.set_node_color_mapping(vgame.WinnerVisualiser(M.graph,S1,S2))\n",
    "M.set_edge_color_mapping(vgame.StrategyVisualiser(S1,S2))\n",
    "M"
   ]
  },
  {
   "cell_type": "code",
   "execution_count": 10,
   "id": "062a6d1f-af89-41b2-ba82-b0d047b7d53f",
   "metadata": {},
   "outputs": [
    {
     "data": {
      "text/plain": [
       "{(0, True): 1.5,\n",
       " (0, 0): 1.5,\n",
       " (1, True): 1.5,\n",
       " (3, False): 1.5,\n",
       " (2, False): 1.5,\n",
       " (1, 0): 1.5,\n",
       " (2, True): 1.5,\n",
       " (3, 1): 1.5}"
      ]
     },
     "execution_count": 10,
     "metadata": {},
     "output_type": "execute_result"
    }
   ],
   "source": [
    "mpg.mean_payoffs(M.graph,S1,S2)"
   ]
  },
  {
   "cell_type": "markdown",
   "id": "90b5404a-5bb7-4d97-adfd-b52be3d405dd",
   "metadata": {},
   "source": [
    "## 4. Interesting Random Games\n",
    "### 4.1 Game 1"
   ]
  },
  {
   "cell_type": "code",
   "execution_count": 49,
   "id": "0515bcc1-875d-4399-8f4d-a8083985665c",
   "metadata": {},
   "outputs": [
    {
     "data": {
      "application/vnd.jupyter.widget-view+json": {
       "model_id": "aafcda8a00c940f19fdd3d6a9a69f51b",
       "version_major": 2,
       "version_minor": 0
      },
      "text/plain": [
       "MPGVisualisation(layout=Layout(height='500px', width='100%'))"
      ]
     },
     "metadata": {},
     "output_type": "display_data"
    }
   ],
   "source": [
    "from games import mpg\n",
    "import networkx as nx\n",
    "import numpy as np\n",
    "import visualisation.game as vgame\n",
    "#seed=112\n",
    "seed=881\n",
    "n=10\n",
    "p=0.15\n",
    "np.random.seed(seed)\n",
    "A=nx.gnp_random_graph(n=n,p=p,directed=True,seed=seed)\n",
    "for e in A.edges:\n",
    "    A.edges[e][\"weight\"] =np.random.randint(-10,10)\n",
    "    A.edges[e][\"label\"]= A.edges[e][\"weight\"]\n",
    "A=mpg.mpg_from_digraph(A)\n",
    "A.closure()\n",
    "A=vgame.MPGVisualisation(A)\n",
    "S1,S2=mpg.optimal_strategy_pair(A.graph,method=\"ACO\")\n",
    "A.set_node_color_mapping(vgame.WinnerVisualiser(A.graph,S1,S2))\n",
    "A.set_edge_color_mapping(vgame.StrategyVisualiser(S1,S2))\n",
    "A"
   ]
  },
  {
   "cell_type": "code",
   "execution_count": 57,
   "id": "ccc1ad94-0705-4b4c-8847-b32e56b7565b",
   "metadata": {},
   "outputs": [
    {
     "data": {
      "application/vnd.jupyter.widget-view+json": {
       "model_id": "aafcda8a00c940f19fdd3d6a9a69f51b",
       "version_major": 2,
       "version_minor": 0
      },
      "text/plain": [
       "MPGVisualisation(layout=Layout(height='500px', width='100%'))"
      ]
     },
     "metadata": {},
     "output_type": "display_data"
    }
   ],
   "source": [
    "S1={0:9,1:4,2:1,3:7,4:7,5:6,6:8,7:6,8:8,9:5}\n",
    "S2={0:9,1:4,2:1,3:1,4:7,5:2,6:8,7:2,8:8,9:5}\n",
    "A.set_node_color_mapping(vgame.WinnerVisualiser(A.graph,S1,S2))\n",
    "A.set_edge_color_mapping(vgame.StrategyVisualiser(S1,S2))\n",
    "A"
   ]
  },
  {
   "cell_type": "code",
   "execution_count": 50,
   "id": "26be2ae6-d676-4464-9262-0c0609dda5ef",
   "metadata": {},
   "outputs": [],
   "source": [
    "nx.write_weighted_edgelist(A.graph,\"data/test04.in\")"
   ]
  },
  {
   "cell_type": "markdown",
   "id": "5e43d1db-7613-4a2c-8531-eeaa09dc34c2",
   "metadata": {},
   "source": [
    "### 4.2 Game 2"
   ]
  },
  {
   "cell_type": "code",
   "execution_count": 73,
   "id": "19579f99-e511-4617-8282-04417d7e9d07",
   "metadata": {},
   "outputs": [
    {
     "data": {
      "application/vnd.jupyter.widget-view+json": {
       "model_id": "15b4154ec9a94ea9b9dec3bb398b28ff",
       "version_major": 2,
       "version_minor": 0
      },
      "text/plain": [
       "MPGVisualisation(layout=Layout(height='500px', width='100%'))"
      ]
     },
     "metadata": {},
     "output_type": "display_data"
    }
   ],
   "source": [
    "from games import mpg\n",
    "import networkx as nx\n",
    "import numpy as np\n",
    "import visualisation.game as vgame\n",
    "seed=112\n",
    "n=9\n",
    "p=0.16\n",
    "np.random.seed(seed)\n",
    "A=nx.gnp_random_graph(n=n,p=p,directed=True,seed=seed)\n",
    "for e in A.edges:\n",
    "    A.edges[e][\"weight\"] =np.random.randint(-10,10)\n",
    "    A.edges[e][\"label\"]= A.edges[e][\"weight\"]\n",
    "A=mpg.mpg_from_digraph(A)\n",
    "A.closure()\n",
    "A=vgame.MPGVisualisation(A)\n",
    "S1,S2=mpg.optimal_strategy_pair(A.graph,method=\"ACO\")\n",
    "A.set_node_color_mapping(vgame.WinnerVisualiser(A.graph,S1,S2))\n",
    "A.set_edge_color_mapping(vgame.StrategyVisualiser(S1,S2))\n",
    "A"
   ]
  },
  {
   "cell_type": "code",
   "execution_count": null,
   "id": "622fe8aa-ab86-48b7-9967-bce0da23a748",
   "metadata": {},
   "outputs": [],
   "source": []
  }
 ],
 "metadata": {
  "kernelspec": {
   "display_name": "Python 3 (ipykernel)",
   "language": "python",
   "name": "python3"
  },
  "language_info": {
   "codemirror_mode": {
    "name": "ipython",
    "version": 3
   },
   "file_extension": ".py",
   "mimetype": "text/x-python",
   "name": "python",
   "nbconvert_exporter": "python",
   "pygments_lexer": "ipython3",
   "version": "3.10.9"
  }
 },
 "nbformat": 4,
 "nbformat_minor": 5
}
