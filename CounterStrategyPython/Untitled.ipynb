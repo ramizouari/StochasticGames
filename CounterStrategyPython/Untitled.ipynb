{
 "cells": [
  {
   "cell_type": "code",
   "execution_count": 1,
   "id": "c4716756-c86b-4890-8a5e-fb0362f6926f",
   "metadata": {},
   "outputs": [
    {
     "ename": "SyntaxError",
     "evalue": "invalid syntax (random_graph.py, line 13)",
     "output_type": "error",
     "traceback": [
      "Traceback \u001B[0;36m(most recent call last)\u001B[0m:\n",
      "  File \u001B[1;32m\"/home/ramizouari/anaconda3/envs/tensorflow_2_9/lib/python3.9/site-packages/IPython/core/interactiveshell.py\"\u001B[0m, line \u001B[1;32m3552\u001B[0m, in \u001B[1;35mrun_code\u001B[0m\n    exec(code_obj, self.user_global_ns, self.user_ns)\n",
      "\u001B[0;36m  File \u001B[0;32m\"/tmp/ipykernel_425801/3654485042.py\"\u001B[0;36m, line \u001B[0;32m2\u001B[0;36m, in \u001B[0;35m<cell line: 2>\u001B[0;36m\u001B[0m\n\u001B[0;31m    import random_graph as rg\u001B[0m\n",
      "\u001B[0;36m  File \u001B[0;32m\"/home/ramizouari/Academic/AI/MeanPayOffGames/CounterStrategyPython/random_graph.py\"\u001B[0;36m, line \u001B[0;32m13\u001B[0m\n\u001B[0;31m    match E:\u001B[0m\n\u001B[0m          ^\u001B[0m\n\u001B[0;31mSyntaxError\u001B[0m\u001B[0;31m:\u001B[0m invalid syntax\n"
     ]
    }
   ],
   "source": [
    "import numpy as np\n",
    "import random_graph as rg\n",
    "\n",
    "d=lambda : np.random.intuniform(0,10)\n",
    "\n",
    "rg.generate_labeled_graph(10,10,d)"
   ]
  },
  {
   "cell_type": "code",
   "execution_count": null,
   "id": "9f178d39-be96-4406-9bd7-37dd5c17fa78",
   "metadata": {},
   "outputs": [],
   "source": []
  }
 ],
 "metadata": {
  "kernelspec": {
   "display_name": "Python 3 (ipykernel)",
   "language": "python",
   "name": "python3"
  },
  "language_info": {
   "codemirror_mode": {
    "name": "ipython",
    "version": 3
   },
   "file_extension": ".py",
   "mimetype": "text/x-python",
   "name": "python",
   "nbconvert_exporter": "python",
   "pygments_lexer": "ipython3",
   "version": "3.9.13"
  }
 },
 "nbformat": 4,
 "nbformat_minor": 5
}
