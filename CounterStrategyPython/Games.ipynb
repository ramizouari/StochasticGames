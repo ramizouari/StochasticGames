{
 "cells": [
  {
   "cell_type": "code",
   "execution_count": 4,
   "id": "c4716756-c86b-4890-8a5e-fb0362f6926f",
   "metadata": {},
   "outputs": [
    {
     "data": {
      "text/plain": [
       "Labeled Graph with 10 vertices and 10 edges:\n",
       "{0: [{'dest': 4, 'weight': 0}], 1: [{'dest': 4, 'weight': 5}, {'dest': 6, 'weight': 1}, {'dest': 0, 'weight': 9}], 2: [{'dest': 6, 'weight': 2}], 3: [], 4: [{'dest': 5, 'weight': 9}], 5: [{'dest': 8, 'weight': 5}], 6: [{'dest': 0, 'weight': 8}], 7: [], 8: [{'dest': 2, 'weight': 2}, {'dest': 8, 'weight': 5}], 9: []}"
      ]
     },
     "execution_count": 4,
     "metadata": {},
     "output_type": "execute_result"
    }
   ],
   "source": [
    "import numpy as np\n",
    "import random_graph as rg\n",
    "\n",
    "d=lambda : np.random.randint(0,10)\n",
    "\n",
    "rg.generate_labeled_graph(10,10,d)"
   ]
  },
  {
   "cell_type": "code",
   "execution_count": 7,
   "id": "9f178d39-be96-4406-9bd7-37dd5c17fa78",
   "metadata": {},
   "outputs": [
    {
     "data": {
      "application/vnd.jupyter.widget-view+json": {
       "model_id": "20fa680a8c944d95ae17684250077da7",
       "version_major": 2,
       "version_minor": 0
      },
      "text/plain": [
       "GraphWidget(layout=Layout(height='500px', width='100%'))"
      ]
     },
     "metadata": {},
     "output_type": "display_data"
    }
   ],
   "source": [
    "from yfiles_jupyter_graphs import GraphWidget\n",
    "\n",
    "w = GraphWidget()\n",
    "\n",
    "w.nodes = [\n",
    "    {\"id\": 0, \"properties\": {\"firstName\": \"Alpha\", \"label\": \"Person A\"}},\n",
    "    {\"id\": \"one\", \"properties\": {\"firstName\": \"Bravo\", \"label\": \"Person B\"}},\n",
    "    {\"id\": 2.0, \"properties\": {\"firstName\": \"Charlie\", \"label\": \"Person C\", \"has_hat\": False}},\n",
    "    {\"id\": True, \"properties\": {\"firstName\": \"Delta\", \"label\": \"Person D\", \"likes_pizza\": True}}\n",
    "]\n",
    "w.edges = [\n",
    "    {\"id\": \"zero\", \"start\": 0, \"end\": \"one\", \"properties\": {\"since\": \"1992\", \"label\": \"knows\"}},\n",
    "    {\"id\": 1, \"start\": \"one\", \"end\": True, \"properties\": {\"label\": \"knows\", \"since\": \"1992\"}},\n",
    "    {\"id\": 2.0, \"start\": 2.0, \"end\": True, \"properties\": {\"label\": \"knows\", \"since\": \"1992\"}},\n",
    "    {\"id\": False, \"start\": 0, \"end\": 2.0, \"properties\": {\"label\": \"knows\", \"since\": 234}}\n",
    "]\n",
    "w.directed = True\n",
    "\n",
    "w.show()  # or just w\n",
    "\n"
   ]
  },
  {
   "cell_type": "code",
   "execution_count": 2,
   "id": "a30235fb-9a68-4e52-8cc3-b2f367a5c2b8",
   "metadata": {},
   "outputs": [
    {
     "data": {
      "application/vnd.jupyter.widget-view+json": {
       "model_id": "cdd8597ba7844983ba3f91a6de36c46b",
       "version_major": 2,
       "version_minor": 0
      },
      "text/plain": [
       "VisualGraph(layout=Layout(height='500px', width='100%'))"
      ]
     },
     "metadata": {},
     "output_type": "display_data"
    }
   ],
   "source": [
    "import graph as g\n",
    "import graph_visualisation as gv\n",
    "GV=gv.VisualGraph(g.Graph,3)\n",
    "GV.addEdge((0,1),since=\"since\")\n",
    "GV.addEdge((1,2))\n",
    "GV.addEdge((2,0))\n",
    "GV.show()"
   ]
  },
  {
   "cell_type": "code",
   "execution_count": 2,
   "id": "988ecf69-655b-47af-92ec-83dee34fb8a8",
   "metadata": {},
   "outputs": [],
   "source": [
    "GV.edges[-1][\"properties\"]= {\"firstName\": \"Alpha\", \"label\": \"Person A\"}"
   ]
  },
  {
   "cell_type": "code",
   "execution_count": 3,
   "id": "f98849da-ade9-4a1a-90b3-451f63b5c164",
   "metadata": {},
   "outputs": [
    {
     "data": {
      "application/vnd.jupyter.widget-view+json": {
       "model_id": "1b3f168dffdb4bebb9b1bba69fecedd3",
       "version_major": 2,
       "version_minor": 0
      },
      "text/plain": [
       "VisualGraph(layout=Layout(height='500px', width='100%'))"
      ]
     },
     "metadata": {},
     "output_type": "display_data"
    }
   ],
   "source": [
    "GV"
   ]
  },
  {
   "cell_type": "code",
   "execution_count": 1,
   "id": "1e0b8274-7345-4862-8e5b-b205ed907490",
   "metadata": {},
   "outputs": [
    {
     "data": {
      "application/vnd.jupyter.widget-view+json": {
       "model_id": "00a001c5a9ad4373b6ee7bb932880f76",
       "version_major": 2,
       "version_minor": 0
      },
      "text/plain": [
       "GraphWidget(layout=Layout(height='500px', width='100%'))"
      ]
     },
     "metadata": {},
     "output_type": "display_data"
    }
   ],
   "source": [
    "import graph as g\n",
    "G=g.read_from_text_file(\"test.in\")\n",
    "import graph_visualisation as gv\n",
    "gv.visualise_graph(G)"
   ]
  },
  {
   "cell_type": "code",
   "execution_count": 2,
   "id": "c48cd71b-649e-4e3d-99bb-e710cb0dafd5",
   "metadata": {},
   "outputs": [
    {
     "data": {
      "text/plain": [
       "[[0], [1]]"
      ]
     },
     "execution_count": 2,
     "metadata": {},
     "output_type": "execute_result"
    }
   ],
   "source": [
    "g.BellmanFordAlgorithm(G)"
   ]
  },
  {
   "cell_type": "code",
   "execution_count": null,
   "id": "1b1fb38f-72ba-485c-8fbc-ad47834523d6",
   "metadata": {},
   "outputs": [],
   "source": []
  }
 ],
 "metadata": {
  "kernelspec": {
   "display_name": "Python 3 (ipykernel)",
   "language": "python",
   "name": "python3"
  },
  "language_info": {
   "codemirror_mode": {
    "name": "ipython",
    "version": 3
   },
   "file_extension": ".py",
   "mimetype": "text/x-python",
   "name": "python",
   "nbconvert_exporter": "python",
   "pygments_lexer": "ipython3",
   "version": "3.10.9"
  }
 },
 "nbformat": 4,
 "nbformat_minor": 5
}
