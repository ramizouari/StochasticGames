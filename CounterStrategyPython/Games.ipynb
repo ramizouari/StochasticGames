{
 "cells": [
  {
   "cell_type": "code",
   "execution_count": 19,
   "id": "c4716756-c86b-4890-8a5e-fb0362f6926f",
   "metadata": {},
   "outputs": [
    {
     "data": {
      "application/vnd.jupyter.widget-view+json": {
       "model_id": "568545e5c5a548fdb0aadb53390ae3a7",
       "version_major": 2,
       "version_minor": 0
      },
      "text/plain": [
       "GraphWidget(layout=Layout(height='500px', width='100%'))"
      ]
     },
     "metadata": {},
     "output_type": "display_data"
    }
   ],
   "source": [
    "from yfiles_jupyter_graphs import GraphWidget\n",
    "import numpy as np\n",
    "import random_graph as rg\n",
    "import graph_visualisation as gv\n",
    "\n",
    "\n",
    "d=lambda : np.random.randint(0,10)\n",
    "gv.visualise_graph(rg.generate_labeled_graph(20,40,d,loops=False))"
   ]
  },
  {
   "cell_type": "code",
   "execution_count": 2,
   "id": "9f178d39-be96-4406-9bd7-37dd5c17fa78",
   "metadata": {},
   "outputs": [
    {
     "data": {
      "application/vnd.jupyter.widget-view+json": {
       "model_id": "61f1a096b2214d3cab3e8938628042e2",
       "version_major": 2,
       "version_minor": 0
      },
      "text/plain": [
       "GraphWidget(layout=Layout(height='500px', width='100%'))"
      ]
     },
     "metadata": {},
     "output_type": "display_data"
    }
   ],
   "source": [
    "\n",
    "w = GraphWidget()\n",
    "\n",
    "w.nodes = [\n",
    "    {\"id\": 0, \"properties\": {\"firstName\": \"Alpha\", \"label\": \"Person A\"}},\n",
    "    {\"id\": \"one\", \"properties\": {\"firstName\": \"Bravo\", \"label\": \"Person B\"}},\n",
    "    {\"id\": 2.0, \"properties\": {\"firstName\": \"Charlie\", \"label\": \"Person C\", \"has_hat\": False}},\n",
    "    {\"id\": True, \"properties\": {\"firstName\": \"Delta\", \"label\": \"Person D\", \"likes_pizza\": True}}\n",
    "]\n",
    "w.edges = [\n",
    "    {\"id\": \"zero\", \"start\": 0, \"end\": \"one\", \"properties\": {\"since\": \"1992\", \"label\": \"knows\"}},\n",
    "    {\"id\": 1, \"start\": \"one\", \"end\": True, \"properties\": {\"label\": \"knows\", \"since\": \"1992\"}},\n",
    "    {\"id\": 2.0, \"start\": 2.0, \"end\": True, \"properties\": {\"label\": \"knows\", \"since\": \"1992\"}},\n",
    "    {\"id\": False, \"start\": 0, \"end\": 2.0, \"properties\": {\"label\": \"knows\", \"since\": 234}}\n",
    "]\n",
    "w.directed = True\n",
    "\n",
    "w.show()  # or just w\n",
    "\n"
   ]
  },
  {
   "cell_type": "code",
   "execution_count": 3,
   "id": "a30235fb-9a68-4e52-8cc3-b2f367a5c2b8",
   "metadata": {},
   "outputs": [
    {
     "data": {
      "application/vnd.jupyter.widget-view+json": {
       "model_id": "da30e3fe310d48b9b375167f2b02e2bc",
       "version_major": 2,
       "version_minor": 0
      },
      "text/plain": [
       "VisualGraph(layout=Layout(height='500px', width='100%'))"
      ]
     },
     "metadata": {},
     "output_type": "display_data"
    }
   ],
   "source": [
    "import graph as g\n",
    "import graph_visualisation as gv\n",
    "GV=gv.VisualGraph(g.Graph,3)\n",
    "GV.addEdge((0,1),since=\"since\")\n",
    "GV.addEdge((1,2))\n",
    "GV.addEdge((2,0))\n",
    "GV.show()"
   ]
  },
  {
   "cell_type": "code",
   "execution_count": 4,
   "id": "988ecf69-655b-47af-92ec-83dee34fb8a8",
   "metadata": {},
   "outputs": [],
   "source": [
    "GV.edges[-1][\"properties\"]= {\"firstName\": \"Alpha\", \"label\": \"Person A\"}"
   ]
  },
  {
   "cell_type": "code",
   "execution_count": 5,
   "id": "f98849da-ade9-4a1a-90b3-451f63b5c164",
   "metadata": {},
   "outputs": [
    {
     "data": {
      "application/vnd.jupyter.widget-view+json": {
       "model_id": "da30e3fe310d48b9b375167f2b02e2bc",
       "version_major": 2,
       "version_minor": 0
      },
      "text/plain": [
       "VisualGraph(layout=Layout(height='500px', width='100%'))"
      ]
     },
     "metadata": {},
     "output_type": "display_data"
    }
   ],
   "source": [
    "GV"
   ]
  },
  {
   "cell_type": "code",
   "execution_count": 7,
   "id": "1e0b8274-7345-4862-8e5b-b205ed907490",
   "metadata": {},
   "outputs": [
    {
     "data": {
      "application/vnd.jupyter.widget-view+json": {
       "model_id": "f482caf053824040b0861f3c7576e8be",
       "version_major": 2,
       "version_minor": 0
      },
      "text/plain": [
       "GraphWidget(layout=Layout(height='500px', width='100%'))"
      ]
     },
     "metadata": {},
     "output_type": "display_data"
    }
   ],
   "source": [
    "import graph as g\n",
    "G=g.read_from_text_file(\"test.in\",graph_type=\"auto\")\n",
    "import graph_visualisation as gv\n",
    "gv.visualise_graph(G)"
   ]
  },
  {
   "cell_type": "code",
   "execution_count": 5,
   "id": "c48cd71b-649e-4e3d-99bb-e710cb0dafd5",
   "metadata": {},
   "outputs": [
    {
     "data": {
      "text/plain": [
       "(array([  0., -23., -14., -21., -15., -23., -20., -23.]), [0])"
      ]
     },
     "execution_count": 5,
     "metadata": {},
     "output_type": "execute_result"
    }
   ],
   "source": [
    "g.BellmanFordAlgorithm(G)"
   ]
  },
  {
   "cell_type": "code",
   "execution_count": 12,
   "id": "1b1fb38f-72ba-485c-8fbc-ad47834523d6",
   "metadata": {},
   "outputs": [],
   "source": [
    "psi=list(map(int,\"1 2 3 6 5 6 1 1\".split()))\n",
    "strategyCost=[0 for u in range(G.V)]\n",
    "for u in range(G.V):\n",
    "    for (v, l) in G.adjacencyList[u]:\n",
    "        if v == psi[u]:\n",
    "            strategyCost[u] = l\n",
    "# The one-player equivalent game\n",
    "G1 = gv.VisualGraph(g.LabeledGraph,G.V)\n",
    "for u in range(G.V):\n",
    "    for v, L in G.adjacencyList[psi[u]]:\n",
    "        G1.addEdge((u, v, L + strategyCost[u]))"
   ]
  },
  {
   "cell_type": "code",
   "execution_count": 13,
   "id": "9c0a0a06-5ea1-4114-9842-1bf399e5debb",
   "metadata": {},
   "outputs": [
    {
     "data": {
      "application/vnd.jupyter.widget-view+json": {
       "model_id": "6299c701b8ce4281a135f18cdafaa069",
       "version_major": 2,
       "version_minor": 0
      },
      "text/plain": [
       "VisualGraph(layout=Layout(height='500px', width='100%'))"
      ]
     },
     "metadata": {},
     "output_type": "display_data"
    }
   ],
   "source": [
    "G1"
   ]
  },
  {
   "cell_type": "code",
   "execution_count": null,
   "id": "7f28b587-5d74-4ac8-bbb4-c24967a31695",
   "metadata": {},
   "outputs": [],
   "source": []
  }
 ],
 "metadata": {
  "kernelspec": {
   "display_name": "Python 3 (ipykernel)",
   "language": "python",
   "name": "python3"
  },
  "language_info": {
   "codemirror_mode": {
    "name": "ipython",
    "version": 3
   },
   "file_extension": ".py",
   "mimetype": "text/x-python",
   "name": "python",
   "nbconvert_exporter": "python",
   "pygments_lexer": "ipython3",
   "version": "3.10.9"
  }
 },
 "nbformat": 4,
 "nbformat_minor": 5
}
