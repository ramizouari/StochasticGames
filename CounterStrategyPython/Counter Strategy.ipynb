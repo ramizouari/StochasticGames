{
 "cells": [
  {
   "cell_type": "markdown",
   "id": "89e599c7-444c-4b96-96dd-6cf0693ec14d",
   "metadata": {},
   "source": [
    "# Counter Strategy\n",
    "## 1. Graph Construction"
   ]
  },
  {
   "cell_type": "code",
   "execution_count": 1,
   "id": "fdea060e-ada6-4200-8474-ad89d2b95b13",
   "metadata": {},
   "outputs": [
    {
     "data": {
      "application/vnd.jupyter.widget-view+json": {
       "model_id": "6fa862895da8493db8fd167acccf01a2",
       "version_major": 2,
       "version_minor": 0
      },
      "text/plain": [
       "GraphWidget(layout=Layout(height='500px', width='100%'))"
      ]
     },
     "metadata": {},
     "output_type": "display_data"
    }
   ],
   "source": [
    "import graph as g\n",
    "with open(\"data/test01.in\",'r') as file:\n",
    "    V,E=map(int,file.readline().rstrip().split())\n",
    "    G=g.LabeledGraph(V)\n",
    "    for k in range(E):\n",
    "        G.addEdge(map(int,file.readline().rstrip().split()))\n",
    "    psi=list(map(int,file.readline().rstrip().split()))\n",
    "G=g.read_from_text_file(\"data/test01.in\",graph_type=\"auto\")\n",
    "import graph_visualisation as gv\n",
    "gv.visualise_graph(G)"
   ]
  },
  {
   "cell_type": "markdown",
   "id": "c139e53f-f888-4dfe-8a43-b015e65e98c6",
   "metadata": {},
   "source": [
    "## 2. Counter Strategy Construction\n",
    "- Let $\\psi:V\\rightarrow V$ be the strategy of player $1$, with $\\psi\\subseteq E$\n",
    "- Suppose that the second player has knowledge of the first player's strategy\n",
    "\n",
    "As the first player's strategy is known, the second player can transform this game to an instance of path minimisation on the following graph:\n",
    "$$\n",
    "G'=(V,E',L') \\quad \\text{with:}\\space \\begin{cases}\n",
    "E'=\\{(u,v),\\quad (\\psi(u),v)\\in E\\} \\\\\n",
    "L'(u,v)= L(u,\\psi(u))+L(\\psi(u),v) \\quad \\forall (u,v)\\in E\n",
    "\\end{cases}\n",
    "$$\n",
    "In fact:\n",
    "- The first player will lose if and only if there exists a **negative cycle** on $G'$\n",
    "- The first player will win if and only if all cycles of $G'$ are positive\n",
    "\n",
    "We will define a cycle $\\mathcal{C}$ as a sequence $(u_0,\\dots,u_n)$ with:\n",
    "- $n\\in\\mathbb{N}^*$\n",
    "- $\\forall i\\in \\{1,\\dots,n\\},\\quad (u_{i-1},u_i)\\in E'$\n",
    "- $u_n=u_0$\n",
    "- $\\forall i,j\\in \\{1,\\dots,n\\},u_i\\neq u_j$\n",
    "\n",
    "The length of the cycle $\\lvert \\mathcal{C}\\rvert$ is defined as:\n",
    "$$\n",
    "\\lvert \\mathcal{C}\\rvert=n\n",
    "$$\n",
    "\n",
    "Let $\\mathscr{C}$ be the set of cycles of the graph $G',$ our problem is to minimise:\n",
    "$$\n",
    "H(\\mathcal{C})=\\frac{1}{\\lvert C \\rvert } \\sum_{k=1}^{n}L(u_{i-1},u_{i})\n",
    "$$\n",
    "\n",
    "### 2.1 Graph $E'$\n"
   ]
  },
  {
   "cell_type": "code",
   "execution_count": 28,
   "id": "103b4a5f-4d4b-4c72-b084-52dc03abb6f8",
   "metadata": {},
   "outputs": [
    {
     "data": {
      "application/vnd.jupyter.widget-view+json": {
       "model_id": "0aeca526ad2640ffb4ba50c2143d7837",
       "version_major": 2,
       "version_minor": 0
      },
      "text/plain": [
       "GraphWidget(layout=Layout(height='500px', width='100%'))"
      ]
     },
     "metadata": {},
     "output_type": "display_data"
    }
   ],
   "source": [
    "import networkx as nx\n",
    "G2=g.LabeledGraph(G.V)\n",
    "strategyCost=[-1 for u in range(G.V)]\n",
    "for u in range(G.V):\n",
    "    for v,L in G.adjacencyList[u]:\n",
    "        if v==psi[u]:\n",
    "            strategyCost[u]=L\n",
    "for u in range(G.V):\n",
    "    for v,L in G.adjacencyList[psi[u]]:\n",
    "        G2.addEdge((u,v,L+strategyCost[u]))\n",
    "gv.GraphWidget(graph=G2.as_networkx())"
   ]
  },
  {
   "cell_type": "markdown",
   "id": "fc716679-f670-4378-b4ee-9929976ee85b",
   "metadata": {},
   "source": [
    "### 2.2 Bellman-Ford"
   ]
  },
  {
   "cell_type": "code",
   "execution_count": 23,
   "id": "151d57cf-fb39-4801-a055-e7f5ab05016d",
   "metadata": {},
   "outputs": [
    {
     "data": {
      "text/plain": [
       "[2, 7, 2]"
      ]
     },
     "execution_count": 23,
     "metadata": {},
     "output_type": "execute_result"
    }
   ],
   "source": [
    "import networkx as nx\n",
    "nx.find_negative_cycle(G2.as_networkx(),0)"
   ]
  },
  {
   "cell_type": "code",
   "execution_count": 75,
   "id": "d11f45c7-e7c8-4b5a-a41f-c5d4f84588c5",
   "metadata": {},
   "outputs": [
    {
     "data": {
      "text/plain": [
       "[1, 2, 3, 7, 5, 6, 1, 1]"
      ]
     },
     "execution_count": 75,
     "metadata": {},
     "output_type": "execute_result"
    }
   ],
   "source": [
    "g.counterStrategyBellmanFord(G,psi,method=\"bellman-ford\")"
   ]
  },
  {
   "cell_type": "markdown",
   "id": "0aa994d2-0940-41bf-b0fb-f202f28df8d0",
   "metadata": {},
   "source": [
    "### 2.3 Counter Strategy"
   ]
  },
  {
   "cell_type": "code",
   "execution_count": 83,
   "id": "2f6268f2-5206-42ac-8b83-ee7dbaf9819d",
   "metadata": {},
   "outputs": [
    {
     "data": {
      "text/plain": [
       "array([[  0.,   6.,   5.,  inf,  inf,  -1.,   4.,  inf],\n",
       "       [ inf,  -4.,  -5.,  inf,  inf, -11.,  -6.,  inf],\n",
       "       [ inf,   0.,  -1.,  inf,  inf,  -7.,  -2.,  inf],\n",
       "       [ inf,  inf,  inf,   0.,  -2.,  inf,  inf,  inf],\n",
       "       [ inf,  inf,  inf,   2.,   0.,  inf,  inf,  inf],\n",
       "       [ inf,   1.,   0.,  inf,  inf,  -6.,  -1.,  inf],\n",
       "       [ inf,  -2.,  -3.,  inf,  inf,  -9.,  -4.,  inf],\n",
       "       [ inf,  inf,  inf,   0.,  -2.,  inf,  inf,   0.]])"
      ]
     },
     "execution_count": 83,
     "metadata": {},
     "output_type": "execute_result"
    }
   ],
   "source": [
    "import numpy as np\n",
    "FW=nx.floyd_warshall_numpy(G2.as_networkx())\n",
    "n=FW.shape[0]\n",
    "FW"
   ]
  },
  {
   "cell_type": "code",
   "execution_count": 92,
   "id": "98e1d97b-02d8-4f62-a0fc-af04d476bf0b",
   "metadata": {},
   "outputs": [
    {
     "data": {
      "text/plain": [
       "array([[  0., -inf, -inf,  inf,  inf, -inf, -inf,  inf],\n",
       "       [ inf, -inf, -inf,  inf,  inf, -inf, -inf,  inf],\n",
       "       [ inf, -inf, -inf,  inf,  inf, -inf, -inf,  inf],\n",
       "       [ inf,  inf,  inf,   0.,  -2.,  inf,  inf,  inf],\n",
       "       [ inf,  inf,  inf,   2.,   0.,  inf,  inf,  inf],\n",
       "       [ inf, -inf, -inf,  inf,  inf, -inf, -inf,  inf],\n",
       "       [ inf, -inf, -inf,  inf,  inf, -inf, -inf,  inf],\n",
       "       [ inf,  inf,  inf,   0.,  -2.,  inf,  inf,   0.]])"
      ]
     },
     "execution_count": 92,
     "metadata": {},
     "output_type": "execute_result"
    }
   ],
   "source": [
    "for i in range(n):\n",
    "    for j in range(n):\n",
    "        for k in range(n):\n",
    "            if FW[k,k]<0 and FW[i,k]<np.inf and FW[k,j]<np.inf:\n",
    "                FW[i,j]=-np.inf\n",
    "FW"
   ]
  },
  {
   "cell_type": "code",
   "execution_count": 95,
   "id": "5bc7dedf-5977-451b-bb99-639845d5949d",
   "metadata": {},
   "outputs": [
    {
     "data": {
      "text/plain": [
       "array([[ 0., inf, 10., inf,  9., inf, inf, inf],\n",
       "       [inf,  0., inf, -2., inf, inf, inf, inf],\n",
       "       [inf, inf,  0., inf, inf, inf, -2., -7.],\n",
       "       [inf,  2., inf,  0., inf, inf, inf, inf],\n",
       "       [inf, inf, inf, inf,  0., inf,  0., -3.],\n",
       "       [inf,  0., inf, inf, inf,  0., inf, inf],\n",
       "       [inf, inf,  2., inf,  1., inf,  0., inf],\n",
       "       [inf, inf,  5., inf,  4., inf, inf,  0.]])"
      ]
     },
     "execution_count": 95,
     "metadata": {},
     "output_type": "execute_result"
    }
   ],
   "source": [
    "FWM=np.full([n,n],np.inf)\n",
    "G2NX=G2.as_networkx()\n",
    "for i in range(n):\n",
    "    FWM[i,i]=0\n",
    "for u,v in G2NX.edges:\n",
    "    FWM[u,v]=G2NX.edges[u,v][\"weight\"]\n",
    "FWM"
   ]
  },
  {
   "cell_type": "code",
   "execution_count": 96,
   "id": "9beb83c2-41ac-4f84-b0f4-a8e66f6a73b9",
   "metadata": {},
   "outputs": [
    {
     "data": {
      "text/plain": [
       "array([[ 0., inf,  8., inf,  7., inf,  6.,  1.],\n",
       "       [inf,  0., inf, -2., inf, inf, inf, inf],\n",
       "       [inf, inf, -2., inf, -3., inf, -4., -9.],\n",
       "       [inf,  2., inf,  0., inf, inf, inf, inf],\n",
       "       [inf, inf,  0., inf, -1., inf, -2., -7.],\n",
       "       [inf,  0., inf, -2., inf,  0., inf, inf],\n",
       "       [inf, inf,  0., inf, -1., inf, -2., -7.],\n",
       "       [inf, inf,  3., inf,  2., inf,  1., -4.]])"
      ]
     },
     "execution_count": 96,
     "metadata": {},
     "output_type": "execute_result"
    }
   ],
   "source": [
    "for k in range(n):\n",
    "    for i in range(n):\n",
    "        for j in range(n):\n",
    "            if FWM[i,k] < np.inf and FWM[k,j] < np.inf:\n",
    "                FWM[i,j]=np.minimum(FWM[i,j],FWM[i,k]+FWM[k,j])\n",
    "FWM"
   ]
  },
  {
   "cell_type": "code",
   "execution_count": null,
   "id": "9c86d933-7e5d-4821-91ad-bd4e3d1cf6e4",
   "metadata": {},
   "outputs": [],
   "source": []
  },
  {
   "cell_type": "code",
   "execution_count": null,
   "id": "73dc9b7f-31a7-49ac-ab8c-d07a1b31f715",
   "metadata": {},
   "outputs": [],
   "source": []
  }
 ],
 "metadata": {
  "kernelspec": {
   "display_name": "Python 3 (ipykernel)",
   "language": "python",
   "name": "python3"
  },
  "language_info": {
   "codemirror_mode": {
    "name": "ipython",
    "version": 3
   },
   "file_extension": ".py",
   "mimetype": "text/x-python",
   "name": "python",
   "nbconvert_exporter": "python",
   "pygments_lexer": "ipython3",
   "version": "3.10.9"
  }
 },
 "nbformat": 4,
 "nbformat_minor": 5
}
