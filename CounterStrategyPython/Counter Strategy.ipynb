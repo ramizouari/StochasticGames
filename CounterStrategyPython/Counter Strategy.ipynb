{
 "cells": [
  {
   "cell_type": "markdown",
   "id": "89e599c7-444c-4b96-96dd-6cf0693ec14d",
   "metadata": {},
   "source": [
    "# Counter Strategy\n",
    "## 1. Graph Construction"
   ]
  },
  {
   "cell_type": "code",
   "execution_count": 30,
   "id": "fdea060e-ada6-4200-8474-ad89d2b95b13",
   "metadata": {},
   "outputs": [
    {
     "data": {
      "application/vnd.jupyter.widget-view+json": {
       "model_id": "54adfe558bd64a67840451c42166fa50",
       "version_major": 2,
       "version_minor": 0
      },
      "text/plain": [
       "GraphWidget(layout=Layout(height='500px', width='100%'))"
      ]
     },
     "metadata": {},
     "output_type": "display_data"
    }
   ],
   "source": [
    "import graph as g\n",
    "with open(\"data/test01.in\",'r') as file:\n",
    "    V,E=map(int,file.readline().rstrip().split())\n",
    "    G=g.LabeledGraph(V)\n",
    "    for k in range(E):\n",
    "        G.addEdge(map(int,file.readline().rstrip().split()))\n",
    "    psi=list(map(int,file.readline().rstrip().split()))\n",
    "G=g.read_from_text_file(\"data/test01.in\",graph_type=\"auto\")\n",
    "import graph_visualisation as gv\n",
    "gv.visualise_graph(G)"
   ]
  },
  {
   "cell_type": "markdown",
   "id": "c139e53f-f888-4dfe-8a43-b015e65e98c6",
   "metadata": {},
   "source": [
    "## 2. Counter Strategy Construction\n",
    "- Let $\\psi:V\\rightarrow V$ be the strategy of player $1$, with $\\psi\\subseteq E$\n",
    "- Suppose that the second player has knowledge of the first player's strategy\n",
    "\n",
    "As the first player's strategy is known, the second player can transform this game to an instance of path minimisation on the following graph:\n",
    "$$\n",
    "G'=(V,E',L') \\quad \\text{with:}\\space \\begin{cases}\n",
    "E'=\\{(u,v),\\quad (\\psi(u),v)\\in E\\} \\\\\n",
    "L'(u,v)= L(u,\\psi(u))+L(\\psi(u),v) \\quad \\forall (u,v)\\in E\n",
    "\\end{cases}\n",
    "$$\n",
    "In fact:\n",
    "- The first player will lose if and only if there exists a **negative cycle** on $G'$\n",
    "- The first player will win if and only if all cycles of $G'$ are positive\n",
    "\n",
    "We will define a cycle $\\mathcal{C}$ as a sequence $(u_0,\\dots,u_n)$ with:\n",
    "- $n\\in\\mathbb{N}^*$\n",
    "- $\\forall i\\in \\{1,\\dots,n\\},\\quad (u_{i-1},u_i)\\in E'$\n",
    "- $u_n=u_0$\n",
    "- $\\forall i,j\\in \\{1,\\dots,n\\},u_i\\neq u_j$\n",
    "The length of the cycle $\\lvert \\mathcal{C}\\rvert$ is defined as:\n",
    "$$\n",
    "\\lvert \\mathcal{C}\\rvert=n\n",
    "$$\n",
    "\n",
    "Let $\\mathscr{C}$ be the set of cycles of the graph $G',$ our problem is to minimise:\n",
    "$$\n",
    "H(\\mathcal{C})=\\frac{1}{\\lvert C \\rvert } \\sum_{k=1}^{n}L(u_{i-1},u_{i})\n",
    "$$\n",
    "\n",
    "### 2.1 Graph $E'$\n"
   ]
  },
  {
   "cell_type": "code",
   "execution_count": 23,
   "id": "103b4a5f-4d4b-4c72-b084-52dc03abb6f8",
   "metadata": {},
   "outputs": [
    {
     "data": {
      "application/vnd.jupyter.widget-view+json": {
       "model_id": "c760a03639ee4a4ea042eedeeff027c2",
       "version_major": 2,
       "version_minor": 0
      },
      "text/plain": [
       "GraphWidget(layout=Layout(height='500px', width='100%'))"
      ]
     },
     "metadata": {},
     "output_type": "display_data"
    }
   ],
   "source": [
    "G2=g.LabeledGraph(G.V)\n",
    "strategyCost=[-1 for u in range(G.V)]\n",
    "for u in range(G.V):\n",
    "    for v,L in G.adjacencyList[u]:\n",
    "        if v==psi[u]:\n",
    "            strategyCost[u]=L\n",
    "for u in range(G.V):\n",
    "    for v,L in G.adjacencyList[psi[u]]:\n",
    "        G2.addEdge((u,v,L+strategyCost[u]))\n",
    "gv.visualise_graph(G2)"
   ]
  },
  {
   "cell_type": "markdown",
   "id": "fc716679-f670-4378-b4ee-9929976ee85b",
   "metadata": {},
   "source": [
    "### 2.2 Bellman-Ford"
   ]
  },
  {
   "cell_type": "code",
   "execution_count": 32,
   "id": "151d57cf-fb39-4801-a055-e7f5ab05016d",
   "metadata": {},
   "outputs": [
    {
     "data": {
      "text/plain": [
       "(array([  0.,  inf, -inf,  inf, -inf,  inf, -inf, -inf]), [0])"
      ]
     },
     "execution_count": 32,
     "metadata": {},
     "output_type": "execute_result"
    }
   ],
   "source": [
    "g.BellmanFordAlgorithm(G2)"
   ]
  },
  {
   "cell_type": "code",
   "execution_count": null,
   "id": "b92901e4-399f-4dff-8923-661ed58fa033",
   "metadata": {},
   "outputs": [],
   "source": []
  }
 ],
 "metadata": {
  "kernelspec": {
   "display_name": "Python 3 (ipykernel)",
   "language": "python",
   "name": "python3"
  },
  "language_info": {
   "codemirror_mode": {
    "name": "ipython",
    "version": 3
   },
   "file_extension": ".py",
   "mimetype": "text/x-python",
   "name": "python",
   "nbconvert_exporter": "python",
   "pygments_lexer": "ipython3",
   "version": "3.10.9"
  }
 },
 "nbformat": 4,
 "nbformat_minor": 5
}
